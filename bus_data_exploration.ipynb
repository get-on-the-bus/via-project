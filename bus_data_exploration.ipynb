{
 "cells": [
  {
   "cell_type": "code",
   "execution_count": 41,
   "metadata": {},
   "outputs": [],
   "source": [
    "import pandas as pd\n",
    "import numpy as np"
   ]
  },
  {
   "cell_type": "code",
   "execution_count": 57,
   "metadata": {},
   "outputs": [],
   "source": [
    "pd.set_option('display.max_rows', None)"
   ]
  },
  {
   "cell_type": "markdown",
   "metadata": {},
   "source": [
    "## Data Catalog"
   ]
  },
  {
   "cell_type": "code",
   "execution_count": 2,
   "metadata": {},
   "outputs": [],
   "source": [
    "blob = pd.read_excel('Downloads/_Datathon_data_catalog_VIA.xlsx')"
   ]
  },
  {
   "cell_type": "code",
   "execution_count": 20,
   "metadata": {},
   "outputs": [
    {
     "data": {
      "text/plain": [
       "Index(['Nr.', 'Name of the data set', 'Files', 'Datathon Category',\n",
       "       'Organization', 'Data Format', 'Brief description of the data set',\n",
       "       'Link to access the data ',\n",
       "       'Additional links to the data / More information'],\n",
       "      dtype='object')"
      ]
     },
     "execution_count": 20,
     "metadata": {},
     "output_type": "execute_result"
    }
   ],
   "source": [
    "blob.columns"
   ]
  },
  {
   "cell_type": "code",
   "execution_count": 21,
   "metadata": {},
   "outputs": [
    {
     "data": {
      "text/plain": [
       "0         www.viainfo.net/BusService/google_transit.zip\n",
       "1     http://gtfs.viainfo.net/gtfs-realtime/trapezer...\n",
       "2     http://gtfs.viainfo.net/tripupdate/tripupdates.pb\n",
       "3     http://gtfs.viainfo.net/vehicle/vehiclepositio...\n",
       "4               http://gtfs.viainfo.net/alert/alerts.pb\n",
       "5               See Datathon Google Cloud Platform Link\n",
       "6               See Datathon Google Cloud Platform Link\n",
       "7               See Datathon Google Cloud Platform Link\n",
       "8               See Datathon Google Cloud Platform Link\n",
       "9               See Datathon Google Cloud Platform Link\n",
       "10                                         Coming Soon.\n",
       "11                                                  NaN\n",
       "12                                                  NaN\n",
       "13                                                  NaN\n",
       "14                                                  NaN\n",
       "15                                                  NaN\n",
       "16                                                  NaN\n",
       "17                                                  NaN\n",
       "18                                                  NaN\n",
       "Name: Link to access the data , dtype: object"
      ]
     },
     "execution_count": 21,
     "metadata": {},
     "output_type": "execute_result"
    }
   ],
   "source": [
    "blob['Link to access the data ']"
   ]
  },
  {
   "cell_type": "code",
   "execution_count": 5,
   "metadata": {},
   "outputs": [
    {
     "data": {
      "text/plain": [
       "array(['The General Transit Feed Specification (GTFS), also known as GTFS static or static transit to differentiate it from the GTFS realtime extension, defines a common format for public transportation schedules and associated geographic information. GTFS \"feeds\" let public transit agencies publish their transit data and developers write applications that consume that data in an interoperable way.',\n",
       "       'GTFS Realtime is a feed specification that allows public transportation agencies to provide realtime updates about their fleet to application developers. It is an extension to GTFS (General Transit Feed Specification), an open data format for public transportation schedules and associated geographic information. GTFS Realtime was designed around ease of implementation, good GTFS interoperability and a focus on passenger information.',\n",
       "       nan, 'A sample of schedule adherence grouped by routes',\n",
       "       'A sample of ridership per route',\n",
       "       'A sample of early departure, on time, late arrival, and on time performance(OTP) metrics by route.',\n",
       "       'A sample of latitude/longitude logged messages of vehicles.',\n",
       "       'A sample of scheduled vs actual miles driven by route.',\n",
       "       'The VIA API will provide a more digestable version of the GTFS realtime and static information.'],\n",
       "      dtype=object)"
      ]
     },
     "execution_count": 5,
     "metadata": {},
     "output_type": "execute_result"
    }
   ],
   "source": [
    "blob['Brief description of the data set'].unique()"
   ]
  },
  {
   "cell_type": "markdown",
   "metadata": {},
   "source": [
    "## Load bus_performance and bus_fare data"
   ]
  },
  {
   "cell_type": "code",
   "execution_count": 6,
   "metadata": {},
   "outputs": [],
   "source": [
    "bus_performance = pd.read_csv('Downloads/BusOnTimePerformance_2020.csv')"
   ]
  },
  {
   "cell_type": "code",
   "execution_count": 9,
   "metadata": {},
   "outputs": [],
   "source": [
    "bus_fare = pd.read_excel('Downloads/BusFareBoxActivity_2020.csv')"
   ]
  },
  {
   "cell_type": "code",
   "execution_count": 12,
   "metadata": {},
   "outputs": [
    {
     "name": "stdout",
     "output_type": "stream",
     "text": [
      "<class 'pandas.core.frame.DataFrame'>\n",
      "RangeIndex: 89623 entries, 0 to 89622\n",
      "Data columns (total 11 columns):\n",
      " #   Column               Non-Null Count  Dtype         \n",
      "---  ------               --------------  -----         \n",
      " 0   ServiceDateTime      89623 non-null  datetime64[ns]\n",
      " 1   Route                89623 non-null  int64         \n",
      " 2   RouteName            87728 non-null  object        \n",
      " 3   CurrentRevenue       89623 non-null  float64       \n",
      " 4   Ridership            89623 non-null  int64         \n",
      " 5   TokenCount           89623 non-null  int64         \n",
      " 6   TicketCount          89623 non-null  int64         \n",
      " 7   PassCount            89623 non-null  int64         \n",
      " 8   BillCount            89623 non-null  int64         \n",
      " 9   UnclassifiedRevenue  89623 non-null  float64       \n",
      " 10  DumpCount            89623 non-null  int64         \n",
      "dtypes: datetime64[ns](1), float64(2), int64(7), object(1)\n",
      "memory usage: 7.5+ MB\n"
     ]
    }
   ],
   "source": [
    "bus_fare.info()"
   ]
  },
  {
   "cell_type": "code",
   "execution_count": 27,
   "metadata": {},
   "outputs": [
    {
     "name": "stdout",
     "output_type": "stream",
     "text": [
      "<class 'pandas.core.frame.DataFrame'>\n",
      "RangeIndex: 107319 entries, 0 to 107318\n",
      "Data columns (total 10 columns):\n",
      " #   Column            Non-Null Count   Dtype  \n",
      "---  ------            --------------   -----  \n",
      " 0   ServiceDateTime   107319 non-null  object \n",
      " 1   Route             107319 non-null  int64  \n",
      " 2   RouteName         107319 non-null  object \n",
      " 3   EarlyDeparture    107319 non-null  int64  \n",
      " 4   OnTime            107319 non-null  int64  \n",
      " 5   LateArrival       107319 non-null  int64  \n",
      " 6   Missing           107319 non-null  int64  \n",
      " 7   TimePointCount    107319 non-null  int64  \n",
      " 8   OTP               107156 non-null  float64\n",
      " 9   AverageDwellTime  107155 non-null  float64\n",
      "dtypes: float64(2), int64(6), object(2)\n",
      "memory usage: 8.2+ MB\n"
     ]
    }
   ],
   "source": [
    "bus_performance.info()"
   ]
  },
  {
   "cell_type": "markdown",
   "metadata": {},
   "source": [
    "## bus_fare"
   ]
  },
  {
   "cell_type": "code",
   "execution_count": 65,
   "metadata": {},
   "outputs": [
    {
     "data": {
      "text/plain": [
       "(225,)"
      ]
     },
     "execution_count": 65,
     "metadata": {},
     "output_type": "execute_result"
    }
   ],
   "source": [
    "bus_fare.Route.unique().shape"
   ]
  },
  {
   "cell_type": "code",
   "execution_count": 66,
   "metadata": {},
   "outputs": [
    {
     "data": {
      "text/plain": [
       "(151,)"
      ]
     },
     "execution_count": 66,
     "metadata": {},
     "output_type": "execute_result"
    }
   ],
   "source": [
    "bus_fare.RouteName.unique().shape"
   ]
  },
  {
   "cell_type": "markdown",
   "metadata": {},
   "source": [
    "## bus_performance"
   ]
  },
  {
   "cell_type": "code",
   "execution_count": 67,
   "metadata": {},
   "outputs": [
    {
     "data": {
      "text/plain": [
       "(103,)"
      ]
     },
     "execution_count": 67,
     "metadata": {},
     "output_type": "execute_result"
    }
   ],
   "source": [
    "bus_performance.Route.unique().shape"
   ]
  },
  {
   "cell_type": "code",
   "execution_count": 68,
   "metadata": {},
   "outputs": [
    {
     "data": {
      "text/plain": [
       "(298,)"
      ]
     },
     "execution_count": 68,
     "metadata": {},
     "output_type": "execute_result"
    }
   ],
   "source": [
    "bus_performance.RouteName.unique().shape"
   ]
  },
  {
   "cell_type": "markdown",
   "metadata": {},
   "source": [
    "#### Needs cleanup if its the truth table for route-route_name"
   ]
  },
  {
   "cell_type": "code",
   "execution_count": 29,
   "metadata": {},
   "outputs": [
    {
     "data": {
      "text/plain": [
       "array(['BLANCO', 'SAN PEDRO SKIP', 'SAN PEDRO Frequent', 'McCULLOUGH',\n",
       "       'US-281 Express', 'STONE OAK/DOWNTOWN Express', 'N ST MARYS',\n",
       "       'BROADWAY', 'NACO/BROADWAY', 'VIVA CULTURE', 'PERRIN BEITEL SKIP',\n",
       "       'IH-35 Express', 'NEW BRAUNFELS', 'KIRBY / CONVERSE',\n",
       "       'HAYS Frequent', 'EAST HOUSTON Frequent', 'E. COMMERCE Frequent',\n",
       "       'MARTIN LUTHER KING', 'PORTER', 'RIGSBY', 'STEVES AVE.',\n",
       "       \"SOUTH ST.MARY'S\", 'S.PRESA', 'VIVA MISSIONS', 'ROOSEVELT',\n",
       "       'SOUTH FLORES', 'PLEASANTON RD.', 'COMMERCIAL', 'IH-35 S Express',\n",
       "       'NOGALITOS', 'SOUTH ALAMO', 'KIRK', 'US 90 Express', 'CERALVO',\n",
       "       'LAREDO', 'GUADALUPE', 'CESAR CHAVEZ', 'W. COMMERCE Frequent',\n",
       "       'WEST COMMERCE Skip', 'MARTIN', 'RUIZ  Frequent', 'CULEBRA',\n",
       "       'BANDERA', 'POPLAR', 'WOODLAWN', 'IH-10 CROSSROADS/UTSA Express',\n",
       "       'IH-10 / FIESTA TEXAS Express', 'FREDERICKSBURG RD',\n",
       "       'VANCE JACKSON', 'WEST AVE', 'PRIMO FRED RD',\n",
       "       'UTSA/LEON VALLEY BRT', 'THOUSAND OAKS', 'HUEBNER CROSSTOWN',\n",
       "       'BASSE', 'HILDEBRAND', 'SOUTHCROSS', 'ZARZAMORA', 'BABCOCK',\n",
       "       'GENERAL McMULLEN Frequent', 'WURZBACH', 'LOOPER Skip',\n",
       "       'NORTH STAR / MEDICAL CENTER', 'MEDICAL CENTER/UTSA',\n",
       "       'MEDICAL CENTER/UNIVERSITY HGTS.', 'UTSA/MAINLAND',\n",
       "       'MEDICAL CENTER/ALAMO RANCH', 'MEDICAL CENTER / INGRAM',\n",
       "       'INGRAM/MAINLAND', 'INGRAM/NORTHWEST CROSSING',\n",
       "       'VALLEY-HI / KEL-LAC', 'KEL-LAC/WESTLAKES',\n",
       "       'HERITAGE NW / KEL-LAC', 'HIDDEN COVE / KEL-LAC',\n",
       "       'KEL-LAC / HERITAGE PARK', 'SKY HARBOUR/KEL-LAC',\n",
       "       'KEL-LAC / RAINBOW HILLS', 'INGRAM/WESTLAKES',\n",
       "       'KEL-LAC / INDIAN CREEK', 'INGRAM/NWVISTAS', 'INDUSTRY PARK',\n",
       "       'RANDOLPH/KIRBY/SUNRISE', 'SUNRISE/SUMMERFEST', 'RANDOLPH/VENTURA',\n",
       "       'VALLEY FORGE', 'KNOLLCREEK', 'NACOGDOCHES',\n",
       "       'NORTH STAR / HARRY WURZBACH', 'NORTH STAR / STONE OAK PKWY.',\n",
       "       'DECO DISTRICT / CASTLE HILLS', 'NWVISTAS/UNIVESITY P&R',\n",
       "       'JBSA EXPRESS FT. SAM HOUSTON / USO',\n",
       "       'JBSA EXPRESS LACKLAND AFB/USO', 'NEW BRAUNFELS Frequent',\n",
       "       \"SOUTH ST.MARY''S\", 'CERALVO Frequent', 'GUADALUPE Frequent',\n",
       "       'GSA SHUTTLE', \"SOUTH ST. MARY'S\", 'S. PRESA',\n",
       "       'NWVISTAS/UNIVERSITY P&R', 'MADLA SPECIAL', 'AIRPORT SPECIAL',\n",
       "       'CROSSROADS SPECIAL', 'ENCINO COURTESY VAN', \"SOUTH ST. MARY''S\",\n",
       "       'Ruiz Frequent', 'Culebra Frequent', 'Blanco Frequent',\n",
       "       'San Pedro Skip', 'San Pedro Frequent', 'McCullough',\n",
       "       'Stone Oak Express', \"North St. Mary's\", 'Broadway Frequent',\n",
       "       'Naco / Broadway Frequent', 'VIVA Culture', 'Perrin Beitel Skip',\n",
       "       'New Braunfels Frequent', 'Kirby / Converse', 'Hays Frequent',\n",
       "       'East Houston Frequent', 'East Commerce Frequent',\n",
       "       'Martin Luther King', 'Porter Frequent', 'Rigsby', 'Steves',\n",
       "       \"South St. Mary's Frequent\", 'South Presa', 'VIVA Missions',\n",
       "       'Roosevelt', 'South Flores Frequent', 'Pleasanton Frequent',\n",
       "       'Commercial', 'IH-35 South Express', 'Nogalitos Frequent',\n",
       "       'South Alamo', 'Kirk', 'Ceralvo Frequent', 'Laredo',\n",
       "       'Guadalupe Frequent', 'Cesar Chavez', 'West Commerce Frequent',\n",
       "       'West Commerce Skip', 'Martin', 'Bandera Frequent', 'Poplar',\n",
       "       'Woodlawn', 'IH10 / Crossroads / UTSA Express',\n",
       "       'IH10 / Fiesta Texas Express', 'Fredericksburg Road',\n",
       "       'Vance Jackson', 'West Avenue', 'Primo / Fredericksburg Road',\n",
       "       'Primo / Zarzamora', 'UTSA / Leon Valley', 'Thousand Oaks',\n",
       "       'Huebner Crosstown', 'Basse', 'Hildebrand', 'Southcross',\n",
       "       'Babcock', 'General McMullen Frequent', 'Wurzbach Frequent',\n",
       "       'Looper Skip', 'North Star / Medical Center',\n",
       "       'Medical Center / UTSA', 'Medical Center / University Heights',\n",
       "       'UTSA / Mainland', 'Medical Center / Alamo Ranch',\n",
       "       'Medical Center / Ingram', 'Ingram / Mainland',\n",
       "       'Ingram / Northwest Crossing', 'Valley-Hi / Kel-Lac',\n",
       "       'Kel-Lac / Westlakes', 'Heritage NW / Kel-Lac',\n",
       "       'Hidden Cove / Kel-Lac', 'Kel-Lac / Heritage Park',\n",
       "       'Sky Harbour / Kel-Lac', 'Kel-Lac / Rainbow Hills',\n",
       "       'Ingram / Westlakes', 'Kel-Lac / Indian Creek',\n",
       "       'Northwest Vista College / Ingram', 'Industry Park',\n",
       "       'Randolph / Kirby / Sunrise', 'Sunrise / Summerfest',\n",
       "       'Randolph / Ventura Frequent', 'Valley Forge', 'Knollcreek',\n",
       "       'Nacogdoches', 'North Star / Harry Wurzbach',\n",
       "       'North Star / Stone Oak', 'Deco District / Castle Hills',\n",
       "       'NW Vista College / University P&R',\n",
       "       'TAMUSA / Madla Transit Center',\n",
       "       'JBSA Express Ft. Sam Houston / USO',\n",
       "       'JBSA Express / Lackland / USO', '2-BLANCO RD.',\n",
       "       '3-SAN PEDRO SKIP', '4-SAN PEDRO', '5-MC CULLOUGH',\n",
       "       '6-US 281 Express', '7 STONEOAK/DOWNTOWN EXPRESS', '8-N.ST.MARYS',\n",
       "       '9-BROADWAY', '10-NACO/BROADWAY /NACO PASS \\xa0 \\xa0 \\xa0 \\xa0',\n",
       "       '11 VIVA Culture', '14 Perrin Beitel ', '17-IH 35 Express',\n",
       "       '20-NEW BRAUNFELS', '21 KIRBY / CONVERSE',\n",
       "       '22-HAYS                             ', '24-E.HOUSTON',\n",
       "       '25-EAST COMMERCE', '26-M.L. KING', '28-PORTER', '30-RIGSBY',\n",
       "       '32-STEVES AVE.                      ',\n",
       "       '34-S. ST.MARYS                      ', '36-S. PRESA ST.',\n",
       "       '40-VIVA Mission', '42-ROOSEVELT', '43-S. FLORES',\n",
       "       '44-PLEASANTON RD.', '46-COMMERCIAL', '48 IH-35 S EXPRESS',\n",
       "       '51-NOGALITOS                        ',\n",
       "       '54-SOUTH ALAMO                      ',\n",
       "       '62-KIRK                             ',\n",
       "       '64-KLAC/SEA WORLD/N.W. VISTA \\xa0EXPRESS \\xa0', '66-CERALVO',\n",
       "       '67-LAREDO', '68-GUADALUPE', '70   CESAR CHAVEZ',\n",
       "       '75-WEST COMMERCE', '76-OLD HWY. 90 W.', '77-MARTIN ST.',\n",
       "       '79-RUIZ                             ', '82-CULEBRA',\n",
       "       '88-BANDERA                          ',\n",
       "       '89-W.POPLAR                         ',\n",
       "       '90-WOODLAWN                         ',\n",
       "       '93-IH 10 Crossroads/UTSA Express',\n",
       "       '94-IH 10/ FIESTA TEXAS/EXPRESS \\xa0 \\xa0 \\xa0 \\xa0 \\xa0',\n",
       "       '95-Fredericksburg Rd.', '96 - Vance Jackson', '97-WEST AVENUE',\n",
       "       '100 - PRIMO FREDRICKSBURG RD.', '101 - PRIMO LEON VALLEY/UTSA',\n",
       "       '502-THOUSAND OAKS               ', '503 HUEBNER ',\n",
       "       '505-BASSE RD.', '509-HILDEBRAND                  ',\n",
       "       '515-SOUTHCROSS                  ',\n",
       "       '520-ZARZAMORA                   ',\n",
       "       '522-BABCOCK \\xa0 \\xa0 \\xa0 \\xa0 \\xa0 \\xa0 \\xa0\\xa0',\n",
       "       '524-GENERAL MCMULLEN \\xa0 \\xa0 \\xa0 \\xa0 \\xa0 \\xa0 \\xa0 \\xa0 \\xa0 \\xa0',\n",
       "       '534-WURZBACH                    ', '550-LOOPER LIMITED STOP',\n",
       "       '551-LOOPER LIMITED STOP', '602  NORTH STAR / MEDICAL CENTER',\n",
       "       '603 \\xa0MED.CTR./UTSA', '604 \\xa0MED.CTR./UNIV. HGTS.',\n",
       "       '605  UTSA/MAINLAND', '606 \\xa0MED. CTR./ALAMO RANCH',\n",
       "       '607-INGRAM/MED.CTR. \\xa0 \\xa0 \\xa0 \\xa0 \\xa0 \\xa0 \\xa0 \\xa0 \\xa0\\xa0',\n",
       "       '609-INGRAM/MAINLAND                 ',\n",
       "       '610-INGRAM/NWCROS                   ', '611-VALLEY HI',\n",
       "       '612-WESTLAKES', '613-HERITAGE NW', '614-HIDDEN COVE',\n",
       "       '615-HERITAGE PARK                   ', '616-SKY HARBOUR',\n",
       "       '617-RAINBOW HILLS', '618-INGRAM/WESTLAKES                ',\n",
       "       '619-INDIAN CREEK', '620- Ingram/NW Vista', '629 - INDUSTRY PARK',\n",
       "       '630-SUNRISE/RANDOLPH PR             ', '631 - SUNRISE/SUMMERFEST',\n",
       "       '632-RANDOLPH/VENTURA                ',\n",
       "       '640-VALLEY FORGE                    ',\n",
       "       '641-KNOLLCREEK                      ',\n",
       "       '642 Nacogdoches / Rolling Oaks Mall',\n",
       "       '647  NORTH STAR / HARRY WURZBACH',\n",
       "       '648  NORTH STAR / STONE OAK PKWY.',\n",
       "       '651  DECO DISTRICT / CASTLE HILLS', '660-UNIV P&R / NW VISTA',\n",
       "       '16-Ft. Sam Express', '65-LACKLAND/USO EXPRESS         ',\n",
       "       \"North St. Mary''s\", \"South St. Mary''s Frequent\",\n",
       "       'US-281 / IH-37 Express', 'IH10 / UTSA Express',\n",
       "       'Primo / Military', 'Loop 410 / W. W. White Skip',\n",
       "       'Randolph / Ventura'], dtype=object)"
      ]
     },
     "execution_count": 29,
     "metadata": {},
     "output_type": "execute_result"
    }
   ],
   "source": [
    "bus_performance.RouteName.unique()"
   ]
  },
  {
   "cell_type": "markdown",
   "metadata": {},
   "source": [
    "## Finding unique pairs of route:routeName in both\n",
    "#### bus_fare"
   ]
  },
  {
   "cell_type": "code",
   "execution_count": 54,
   "metadata": {},
   "outputs": [],
   "source": [
    "unique_pairs = bus_fare[['Route', 'RouteName']]"
   ]
  },
  {
   "cell_type": "code",
   "execution_count": 60,
   "metadata": {},
   "outputs": [
    {
     "data": {
      "text/plain": [
       "(150, 2)"
      ]
     },
     "execution_count": 60,
     "metadata": {},
     "output_type": "execute_result"
    }
   ],
   "source": [
    "unique_pairs.drop_duplicates().dropna().shape"
   ]
  },
  {
   "cell_type": "markdown",
   "metadata": {},
   "source": [
    "#### bus_performance"
   ]
  },
  {
   "cell_type": "code",
   "execution_count": 71,
   "metadata": {},
   "outputs": [],
   "source": [
    "unique_pairs1 = bus_performance[['Route', 'RouteName']]"
   ]
  },
  {
   "cell_type": "code",
   "execution_count": 75,
   "metadata": {},
   "outputs": [
    {
     "data": {
      "text/plain": [
       "(300, 2)"
      ]
     },
     "execution_count": 75,
     "metadata": {},
     "output_type": "execute_result"
    }
   ],
   "source": [
    "unique_pairs1.drop_duplicates().dropna().shape"
   ]
  },
  {
   "cell_type": "code",
   "execution_count": 37,
   "metadata": {},
   "outputs": [
    {
     "data": {
      "text/plain": [
       "103"
      ]
     },
     "execution_count": 37,
     "metadata": {},
     "output_type": "execute_result"
    }
   ],
   "source": [
    "len(bus_performance.Route.unique())"
   ]
  },
  {
   "cell_type": "code",
   "execution_count": 38,
   "metadata": {},
   "outputs": [
    {
     "data": {
      "text/plain": [
       "225"
      ]
     },
     "execution_count": 38,
     "metadata": {},
     "output_type": "execute_result"
    }
   ],
   "source": [
    "len(bus_fare.Route.unique())"
   ]
  },
  {
   "cell_type": "markdown",
   "metadata": {},
   "source": [
    "## Find what Route Numbers are in both datasets\n",
    "I renamed the DFs to fare and performance. Dropped the 'bus' prefix"
   ]
  },
  {
   "cell_type": "code",
   "execution_count": 50,
   "metadata": {},
   "outputs": [
    {
     "data": {
      "text/plain": [
       "102"
      ]
     },
     "execution_count": 50,
     "metadata": {},
     "output_type": "execute_result"
    }
   ],
   "source": [
    "len(performance[performance.Route.isin(fare.Route)].Route.unique())"
   ]
  },
  {
   "cell_type": "code",
   "execution_count": 77,
   "metadata": {},
   "outputs": [
    {
     "data": {
      "text/plain": [
       "102"
      ]
     },
     "execution_count": 77,
     "metadata": {},
     "output_type": "execute_result"
    }
   ],
   "source": [
    "len(fare[fare.Route.isin(performance.Route)].Route.unique())"
   ]
  },
  {
   "cell_type": "markdown",
   "metadata": {},
   "source": [
    "### 102 both ways, so there is likely 102 routes worth looking at\n",
    "These are likely to be the route numbers of record"
   ]
  },
  {
   "cell_type": "code",
   "execution_count": 86,
   "metadata": {},
   "outputs": [
    {
     "data": {
      "text/plain": [
       "dtype('int64')"
      ]
     },
     "execution_count": 86,
     "metadata": {},
     "output_type": "execute_result"
    }
   ],
   "source": [
    "bus_performance.Route.dtype"
   ]
  },
  {
   "cell_type": "code",
   "execution_count": 79,
   "metadata": {},
   "outputs": [
    {
     "data": {
      "text/plain": [
       "array([  2,   3,   4,   5,   6,   7,   8,   9,  10,  11,  14,  17,  20,\n",
       "        21,  22,  24,  25,  26,  28,  30,  32,  34,  36,  40,  42,  43,\n",
       "        44,  46,  48,  51,  54,  62,  64,  66,  67,  68,  70,  75,  76,\n",
       "        77,  79,  82,  88,  89,  90,  93,  94,  95,  96,  97, 100, 101,\n",
       "       502, 503, 505, 509, 515, 520, 522, 524, 534, 550, 551, 602, 603,\n",
       "       604, 605, 606, 607, 609, 610, 611, 612, 613, 614, 615, 616, 617,\n",
       "       618, 619, 620, 629, 630, 631, 632, 640, 641, 642, 647, 648, 651,\n",
       "       660,  16,  65, 999, 705, 712, 715, 103, 501, 672, 102, 552],\n",
       "      dtype=int64)"
      ]
     },
     "execution_count": 79,
     "metadata": {},
     "output_type": "execute_result"
    }
   ],
   "source": [
    "bus_performance.Route.unique()"
   ]
  },
  {
   "cell_type": "markdown",
   "metadata": {},
   "source": [
    "truth_table is the route#'s that are in both dataframes"
   ]
  },
  {
   "cell_type": "code",
   "execution_count": 80,
   "metadata": {},
   "outputs": [],
   "source": [
    "truth_table = pd.DataFrame()"
   ]
  },
  {
   "cell_type": "code",
   "execution_count": 81,
   "metadata": {},
   "outputs": [],
   "source": [
    "truth_table['Route'] = bus_performance.Route.unique()"
   ]
  },
  {
   "cell_type": "markdown",
   "metadata": {},
   "source": [
    "best_guess is the unique pairs of route#:routeName with the nicely formated strings in route. 150 of them"
   ]
  },
  {
   "cell_type": "code",
   "execution_count": 87,
   "metadata": {},
   "outputs": [],
   "source": [
    "best_guess = unique_pairs.drop_duplicates().dropna()"
   ]
  },
  {
   "cell_type": "markdown",
   "metadata": {},
   "source": [
    "### 97 unique route numbers between those two criteria"
   ]
  },
  {
   "cell_type": "code",
   "execution_count": 93,
   "metadata": {},
   "outputs": [
    {
     "data": {
      "text/plain": [
       "97"
      ]
     },
     "execution_count": 93,
     "metadata": {},
     "output_type": "execute_result"
    }
   ],
   "source": [
    "best_guess[best_guess.Route.isin(truth_table.Route)].Route.nunique()"
   ]
  },
  {
   "cell_type": "code",
   "execution_count": 95,
   "metadata": {},
   "outputs": [
    {
     "data": {
      "text/html": [
       "<div>\n",
       "<style scoped>\n",
       "    .dataframe tbody tr th:only-of-type {\n",
       "        vertical-align: middle;\n",
       "    }\n",
       "\n",
       "    .dataframe tbody tr th {\n",
       "        vertical-align: top;\n",
       "    }\n",
       "\n",
       "    .dataframe thead th {\n",
       "        text-align: right;\n",
       "    }\n",
       "</style>\n",
       "<table border=\"1\" class=\"dataframe\">\n",
       "  <thead>\n",
       "    <tr style=\"text-align: right;\">\n",
       "      <th></th>\n",
       "      <th>Route</th>\n",
       "      <th>RouteName</th>\n",
       "    </tr>\n",
       "  </thead>\n",
       "  <tbody>\n",
       "    <tr>\n",
       "      <th>0</th>\n",
       "      <td>2</td>\n",
       "      <td>2-BLANCO RD.</td>\n",
       "    </tr>\n",
       "    <tr>\n",
       "      <th>1</th>\n",
       "      <td>3</td>\n",
       "      <td>3-SAN PEDRO</td>\n",
       "    </tr>\n",
       "    <tr>\n",
       "      <th>2</th>\n",
       "      <td>4</td>\n",
       "      <td>4-SAN PEDRO</td>\n",
       "    </tr>\n",
       "    <tr>\n",
       "      <th>3</th>\n",
       "      <td>5</td>\n",
       "      <td>5-MC CULLOUGH</td>\n",
       "    </tr>\n",
       "    <tr>\n",
       "      <th>4</th>\n",
       "      <td>8</td>\n",
       "      <td>8-N.ST.MARYS</td>\n",
       "    </tr>\n",
       "    <tr>\n",
       "      <th>5</th>\n",
       "      <td>9</td>\n",
       "      <td>9-BROADWAY</td>\n",
       "    </tr>\n",
       "    <tr>\n",
       "      <th>6</th>\n",
       "      <td>10</td>\n",
       "      <td>10-NACO./BROAD.</td>\n",
       "    </tr>\n",
       "    <tr>\n",
       "      <th>7</th>\n",
       "      <td>11</td>\n",
       "      <td>11-NACOGDOCHES</td>\n",
       "    </tr>\n",
       "    <tr>\n",
       "      <th>8</th>\n",
       "      <td>14</td>\n",
       "      <td>14-PERRIN BEITL</td>\n",
       "    </tr>\n",
       "    <tr>\n",
       "      <th>9</th>\n",
       "      <td>16</td>\n",
       "      <td>16-Ft. Sam Express</td>\n",
       "    </tr>\n",
       "    <tr>\n",
       "      <th>10</th>\n",
       "      <td>17</td>\n",
       "      <td>17-RANDOLPH P/R</td>\n",
       "    </tr>\n",
       "    <tr>\n",
       "      <th>11</th>\n",
       "      <td>20</td>\n",
       "      <td>20-NEW BRAUNFELS</td>\n",
       "    </tr>\n",
       "    <tr>\n",
       "      <th>12</th>\n",
       "      <td>21</td>\n",
       "      <td>21-KIRBY</td>\n",
       "    </tr>\n",
       "    <tr>\n",
       "      <th>13</th>\n",
       "      <td>22</td>\n",
       "      <td>22-NOLAN</td>\n",
       "    </tr>\n",
       "    <tr>\n",
       "      <th>14</th>\n",
       "      <td>24</td>\n",
       "      <td>24-E.HOUSTON</td>\n",
       "    </tr>\n",
       "    <tr>\n",
       "      <th>15</th>\n",
       "      <td>25</td>\n",
       "      <td>25-EAST COMMERCE</td>\n",
       "    </tr>\n",
       "    <tr>\n",
       "      <th>16</th>\n",
       "      <td>26</td>\n",
       "      <td>26-M.L. KING</td>\n",
       "    </tr>\n",
       "    <tr>\n",
       "      <th>17</th>\n",
       "      <td>28</td>\n",
       "      <td>28-PORTER</td>\n",
       "    </tr>\n",
       "    <tr>\n",
       "      <th>18</th>\n",
       "      <td>30</td>\n",
       "      <td>30-RIGSBY</td>\n",
       "    </tr>\n",
       "    <tr>\n",
       "      <th>19</th>\n",
       "      <td>32</td>\n",
       "      <td>32-STEVES AVENUE</td>\n",
       "    </tr>\n",
       "    <tr>\n",
       "      <th>20</th>\n",
       "      <td>34</td>\n",
       "      <td>34-S.ST.MARY'S</td>\n",
       "    </tr>\n",
       "    <tr>\n",
       "      <th>21</th>\n",
       "      <td>36</td>\n",
       "      <td>36-S. PRESA ST.</td>\n",
       "    </tr>\n",
       "    <tr>\n",
       "      <th>22</th>\n",
       "      <td>40</td>\n",
       "      <td>40-VIVA Mission</td>\n",
       "    </tr>\n",
       "    <tr>\n",
       "      <th>23</th>\n",
       "      <td>42</td>\n",
       "      <td>42-ROOSEVELT</td>\n",
       "    </tr>\n",
       "    <tr>\n",
       "      <th>24</th>\n",
       "      <td>43</td>\n",
       "      <td>43-S. FLORES</td>\n",
       "    </tr>\n",
       "    <tr>\n",
       "      <th>25</th>\n",
       "      <td>44</td>\n",
       "      <td>44-PLEASANTON RD.</td>\n",
       "    </tr>\n",
       "    <tr>\n",
       "      <th>26</th>\n",
       "      <td>46</td>\n",
       "      <td>46-COMMERCIAL</td>\n",
       "    </tr>\n",
       "    <tr>\n",
       "      <th>27</th>\n",
       "      <td>51</td>\n",
       "      <td>51-NOGALITOS STREET</td>\n",
       "    </tr>\n",
       "    <tr>\n",
       "      <th>28</th>\n",
       "      <td>62</td>\n",
       "      <td>62-KELLY U.S.A.</td>\n",
       "    </tr>\n",
       "    <tr>\n",
       "      <th>29</th>\n",
       "      <td>64</td>\n",
       "      <td>64-KLAC/SEA WORLD/N.W. VISTA</td>\n",
       "    </tr>\n",
       "    <tr>\n",
       "      <th>30</th>\n",
       "      <td>65</td>\n",
       "      <td>65-LACKLAND/USO EXPRESS</td>\n",
       "    </tr>\n",
       "    <tr>\n",
       "      <th>31</th>\n",
       "      <td>66</td>\n",
       "      <td>66-CERALVO</td>\n",
       "    </tr>\n",
       "    <tr>\n",
       "      <th>32</th>\n",
       "      <td>67</td>\n",
       "      <td>67-LAREDO</td>\n",
       "    </tr>\n",
       "    <tr>\n",
       "      <th>33</th>\n",
       "      <td>68</td>\n",
       "      <td>68-GUADALUPE</td>\n",
       "    </tr>\n",
       "    <tr>\n",
       "      <th>34</th>\n",
       "      <td>75</td>\n",
       "      <td>75-WEST COMMERCE</td>\n",
       "    </tr>\n",
       "    <tr>\n",
       "      <th>35</th>\n",
       "      <td>76</td>\n",
       "      <td>76-OLD HWY. 90 W.</td>\n",
       "    </tr>\n",
       "    <tr>\n",
       "      <th>36</th>\n",
       "      <td>77</td>\n",
       "      <td>77-MARTIN ST.</td>\n",
       "    </tr>\n",
       "    <tr>\n",
       "      <th>37</th>\n",
       "      <td>79</td>\n",
       "      <td>79-RUIZ ST.</td>\n",
       "    </tr>\n",
       "    <tr>\n",
       "      <th>38</th>\n",
       "      <td>82</td>\n",
       "      <td>82-CULEBRA</td>\n",
       "    </tr>\n",
       "    <tr>\n",
       "      <th>39</th>\n",
       "      <td>88</td>\n",
       "      <td>88-BANDERA RD.</td>\n",
       "    </tr>\n",
       "    <tr>\n",
       "      <th>40</th>\n",
       "      <td>89</td>\n",
       "      <td>89-DONALDSON</td>\n",
       "    </tr>\n",
       "    <tr>\n",
       "      <th>41</th>\n",
       "      <td>90</td>\n",
       "      <td>90-BABCOCK RD.</td>\n",
       "    </tr>\n",
       "    <tr>\n",
       "      <th>42</th>\n",
       "      <td>94</td>\n",
       "      <td>94-FIESTA/UTSA/EXPRESS</td>\n",
       "    </tr>\n",
       "    <tr>\n",
       "      <th>43</th>\n",
       "      <td>95</td>\n",
       "      <td>95-Fredericksburg Rd.</td>\n",
       "    </tr>\n",
       "    <tr>\n",
       "      <th>44</th>\n",
       "      <td>96</td>\n",
       "      <td>96-VANCE JACKSON RD.</td>\n",
       "    </tr>\n",
       "    <tr>\n",
       "      <th>45</th>\n",
       "      <td>97</td>\n",
       "      <td>97-WEST AVENUE</td>\n",
       "    </tr>\n",
       "    <tr>\n",
       "      <th>46</th>\n",
       "      <td>100</td>\n",
       "      <td>100 - PRIMO FREDRICKSBURG RD.</td>\n",
       "    </tr>\n",
       "    <tr>\n",
       "      <th>48</th>\n",
       "      <td>502</td>\n",
       "      <td>502-THOUSAND OAKS</td>\n",
       "    </tr>\n",
       "    <tr>\n",
       "      <th>49</th>\n",
       "      <td>505</td>\n",
       "      <td>505-BASSE RD.</td>\n",
       "    </tr>\n",
       "    <tr>\n",
       "      <th>50</th>\n",
       "      <td>515</td>\n",
       "      <td>515-SOUTHCROSS</td>\n",
       "    </tr>\n",
       "    <tr>\n",
       "      <th>51</th>\n",
       "      <td>520</td>\n",
       "      <td>520-ZARZAMORA</td>\n",
       "    </tr>\n",
       "    <tr>\n",
       "      <th>52</th>\n",
       "      <td>522</td>\n",
       "      <td>522-CUPPLES RD.</td>\n",
       "    </tr>\n",
       "    <tr>\n",
       "      <th>53</th>\n",
       "      <td>524</td>\n",
       "      <td>524-MCMULLEN</td>\n",
       "    </tr>\n",
       "    <tr>\n",
       "      <th>54</th>\n",
       "      <td>534</td>\n",
       "      <td>534-WURZBACH</td>\n",
       "    </tr>\n",
       "    <tr>\n",
       "      <th>55</th>\n",
       "      <td>550</td>\n",
       "      <td>550-LOOPER LIMITED STOP</td>\n",
       "    </tr>\n",
       "    <tr>\n",
       "      <th>56</th>\n",
       "      <td>551</td>\n",
       "      <td>551-LOOPER LIMITED STOP</td>\n",
       "    </tr>\n",
       "    <tr>\n",
       "      <th>57</th>\n",
       "      <td>602</td>\n",
       "      <td>602-MED/N CENT</td>\n",
       "    </tr>\n",
       "    <tr>\n",
       "      <th>58</th>\n",
       "      <td>603</td>\n",
       "      <td>603-MED/WD  PK/UTSA</td>\n",
       "    </tr>\n",
       "    <tr>\n",
       "      <th>59</th>\n",
       "      <td>604</td>\n",
       "      <td>604-CROSSROADS/WOODS OF SHAVANO</td>\n",
       "    </tr>\n",
       "    <tr>\n",
       "      <th>60</th>\n",
       "      <td>606</td>\n",
       "      <td>606-INGRAM/NEW TERRITORIES</td>\n",
       "    </tr>\n",
       "    <tr>\n",
       "      <th>61</th>\n",
       "      <td>607</td>\n",
       "      <td>607-CROSS./INGR.</td>\n",
       "    </tr>\n",
       "    <tr>\n",
       "      <th>62</th>\n",
       "      <td>609</td>\n",
       "      <td>609-BRAUN/INGR</td>\n",
       "    </tr>\n",
       "    <tr>\n",
       "      <th>63</th>\n",
       "      <td>610</td>\n",
       "      <td>610-N.W. CROSSING</td>\n",
       "    </tr>\n",
       "    <tr>\n",
       "      <th>64</th>\n",
       "      <td>611</td>\n",
       "      <td>611-VALLEY HI</td>\n",
       "    </tr>\n",
       "    <tr>\n",
       "      <th>65</th>\n",
       "      <td>612</td>\n",
       "      <td>612-WESTLAKES</td>\n",
       "    </tr>\n",
       "    <tr>\n",
       "      <th>66</th>\n",
       "      <td>613</td>\n",
       "      <td>613-HERITAGE NW</td>\n",
       "    </tr>\n",
       "    <tr>\n",
       "      <th>67</th>\n",
       "      <td>614</td>\n",
       "      <td>614-HIDDEN COVE</td>\n",
       "    </tr>\n",
       "    <tr>\n",
       "      <th>68</th>\n",
       "      <td>615</td>\n",
       "      <td>615-HERITAGE PK.</td>\n",
       "    </tr>\n",
       "    <tr>\n",
       "      <th>69</th>\n",
       "      <td>616</td>\n",
       "      <td>616-SKY HARBOUR</td>\n",
       "    </tr>\n",
       "    <tr>\n",
       "      <th>70</th>\n",
       "      <td>617</td>\n",
       "      <td>617-RAINBOW HILLS</td>\n",
       "    </tr>\n",
       "    <tr>\n",
       "      <th>71</th>\n",
       "      <td>618</td>\n",
       "      <td>618-WLAKES/ING.</td>\n",
       "    </tr>\n",
       "    <tr>\n",
       "      <th>72</th>\n",
       "      <td>619</td>\n",
       "      <td>619-INDIAN CREEK</td>\n",
       "    </tr>\n",
       "    <tr>\n",
       "      <th>73</th>\n",
       "      <td>620</td>\n",
       "      <td>620-BRAUN./MED.</td>\n",
       "    </tr>\n",
       "    <tr>\n",
       "      <th>74</th>\n",
       "      <td>629</td>\n",
       "      <td>629 - INDUSTRY PARK</td>\n",
       "    </tr>\n",
       "    <tr>\n",
       "      <th>75</th>\n",
       "      <td>630</td>\n",
       "      <td>630-SUNRISE</td>\n",
       "    </tr>\n",
       "    <tr>\n",
       "      <th>76</th>\n",
       "      <td>632</td>\n",
       "      <td>632-WOODLAKE</td>\n",
       "    </tr>\n",
       "    <tr>\n",
       "      <th>77</th>\n",
       "      <td>642</td>\n",
       "      <td>642-NACO PASS/SELMA</td>\n",
       "    </tr>\n",
       "    <tr>\n",
       "      <th>78</th>\n",
       "      <td>647</td>\n",
       "      <td>647-TERRELL PLZ.</td>\n",
       "    </tr>\n",
       "    <tr>\n",
       "      <th>79</th>\n",
       "      <td>648</td>\n",
       "      <td>648-HOLLYWOOD PK.</td>\n",
       "    </tr>\n",
       "    <tr>\n",
       "      <th>80</th>\n",
       "      <td>651</td>\n",
       "      <td>651-CASTLE HILLS</td>\n",
       "    </tr>\n",
       "    <tr>\n",
       "      <th>108</th>\n",
       "      <td>54</td>\n",
       "      <td>54-S.MAIN</td>\n",
       "    </tr>\n",
       "    <tr>\n",
       "      <th>114</th>\n",
       "      <td>70</td>\n",
       "      <td>70-DURANGO</td>\n",
       "    </tr>\n",
       "    <tr>\n",
       "      <th>131</th>\n",
       "      <td>509</td>\n",
       "      <td>509-HILDEBRAND</td>\n",
       "    </tr>\n",
       "    <tr>\n",
       "      <th>142</th>\n",
       "      <td>605</td>\n",
       "      <td>605-MED./BRAUN</td>\n",
       "    </tr>\n",
       "    <tr>\n",
       "      <th>159</th>\n",
       "      <td>631</td>\n",
       "      <td>631 - SUNRISE/SUMMERFEST</td>\n",
       "    </tr>\n",
       "    <tr>\n",
       "      <th>161</th>\n",
       "      <td>640</td>\n",
       "      <td>640-NACO PASS/ROLLING OAKS</td>\n",
       "    </tr>\n",
       "    <tr>\n",
       "      <th>162</th>\n",
       "      <td>641</td>\n",
       "      <td>641-NACO PASS/ROLLING OAKS</td>\n",
       "    </tr>\n",
       "    <tr>\n",
       "      <th>167</th>\n",
       "      <td>660</td>\n",
       "      <td>660-UNIV P&amp;R / NW VISTA</td>\n",
       "    </tr>\n",
       "    <tr>\n",
       "      <th>172</th>\n",
       "      <td>6</td>\n",
       "      <td>6-US 281 Express</td>\n",
       "    </tr>\n",
       "    <tr>\n",
       "      <th>195</th>\n",
       "      <td>48</td>\n",
       "      <td>48-IH 35 South Express</td>\n",
       "    </tr>\n",
       "    <tr>\n",
       "      <th>212</th>\n",
       "      <td>93</td>\n",
       "      <td>93-CROSS./UTSA/P/R EXP.</td>\n",
       "    </tr>\n",
       "    <tr>\n",
       "      <th>259</th>\n",
       "      <td>715</td>\n",
       "      <td>715-CROSSROADS PARK &amp; RIDE</td>\n",
       "    </tr>\n",
       "    <tr>\n",
       "      <th>753</th>\n",
       "      <td>101</td>\n",
       "      <td>101 - PRIMO LEON VALLEY/UTSA</td>\n",
       "    </tr>\n",
       "    <tr>\n",
       "      <th>2593</th>\n",
       "      <td>705</td>\n",
       "      <td>705-MCCRELESS MALL</td>\n",
       "    </tr>\n",
       "    <tr>\n",
       "      <th>10280</th>\n",
       "      <td>712</td>\n",
       "      <td>712-N CENTRAL PARK &amp; RIDE</td>\n",
       "    </tr>\n",
       "    <tr>\n",
       "      <th>33036</th>\n",
       "      <td>3</td>\n",
       "      <td>3-SAN PEDRO SKIP</td>\n",
       "    </tr>\n",
       "    <tr>\n",
       "      <th>33041</th>\n",
       "      <td>10</td>\n",
       "      <td>10-NACO/BROADWAY /NACO PASS</td>\n",
       "    </tr>\n",
       "    <tr>\n",
       "      <th>33042</th>\n",
       "      <td>11</td>\n",
       "      <td>11 VIVA Culture</td>\n",
       "    </tr>\n",
       "    <tr>\n",
       "      <th>33043</th>\n",
       "      <td>14</td>\n",
       "      <td>14 Perrin Beitel</td>\n",
       "    </tr>\n",
       "    <tr>\n",
       "      <th>33044</th>\n",
       "      <td>17</td>\n",
       "      <td>17-IH 35 Express</td>\n",
       "    </tr>\n",
       "    <tr>\n",
       "      <th>33046</th>\n",
       "      <td>21</td>\n",
       "      <td>21 KIRBY / CONVERSE</td>\n",
       "    </tr>\n",
       "    <tr>\n",
       "      <th>33047</th>\n",
       "      <td>22</td>\n",
       "      <td>22-HAYS</td>\n",
       "    </tr>\n",
       "    <tr>\n",
       "      <th>33053</th>\n",
       "      <td>32</td>\n",
       "      <td>32-STEVES AVE.</td>\n",
       "    </tr>\n",
       "    <tr>\n",
       "      <th>33054</th>\n",
       "      <td>34</td>\n",
       "      <td>34-S. ST.MARYS</td>\n",
       "    </tr>\n",
       "    <tr>\n",
       "      <th>33061</th>\n",
       "      <td>51</td>\n",
       "      <td>51-NOGALITOS</td>\n",
       "    </tr>\n",
       "    <tr>\n",
       "      <th>33062</th>\n",
       "      <td>62</td>\n",
       "      <td>62-KIRK</td>\n",
       "    </tr>\n",
       "    <tr>\n",
       "      <th>33063</th>\n",
       "      <td>64</td>\n",
       "      <td>64-KLAC/SEA WORLD/N.W. VISTA  EXPRESS</td>\n",
       "    </tr>\n",
       "    <tr>\n",
       "      <th>33070</th>\n",
       "      <td>79</td>\n",
       "      <td>79-RUIZ</td>\n",
       "    </tr>\n",
       "    <tr>\n",
       "      <th>33072</th>\n",
       "      <td>88</td>\n",
       "      <td>88-BANDERA</td>\n",
       "    </tr>\n",
       "    <tr>\n",
       "      <th>33073</th>\n",
       "      <td>89</td>\n",
       "      <td>89-W.POPLAR</td>\n",
       "    </tr>\n",
       "    <tr>\n",
       "      <th>33074</th>\n",
       "      <td>90</td>\n",
       "      <td>90-WOODLAWN</td>\n",
       "    </tr>\n",
       "    <tr>\n",
       "      <th>33075</th>\n",
       "      <td>94</td>\n",
       "      <td>94-IH 10/ FIESTA TEXAS/EXPRESS</td>\n",
       "    </tr>\n",
       "    <tr>\n",
       "      <th>33077</th>\n",
       "      <td>96</td>\n",
       "      <td>96 - Vance Jackson</td>\n",
       "    </tr>\n",
       "    <tr>\n",
       "      <th>33086</th>\n",
       "      <td>522</td>\n",
       "      <td>522-BABCOCK</td>\n",
       "    </tr>\n",
       "    <tr>\n",
       "      <th>33087</th>\n",
       "      <td>524</td>\n",
       "      <td>524-GENERAL MCMULLEN</td>\n",
       "    </tr>\n",
       "    <tr>\n",
       "      <th>33091</th>\n",
       "      <td>602</td>\n",
       "      <td>602  NORTH STAR / MEDICAL CENTER</td>\n",
       "    </tr>\n",
       "    <tr>\n",
       "      <th>33092</th>\n",
       "      <td>603</td>\n",
       "      <td>603  MED.CTR./UTSA</td>\n",
       "    </tr>\n",
       "    <tr>\n",
       "      <th>33093</th>\n",
       "      <td>604</td>\n",
       "      <td>604  MED.CTR./UNIV. HGTS.</td>\n",
       "    </tr>\n",
       "    <tr>\n",
       "      <th>33094</th>\n",
       "      <td>606</td>\n",
       "      <td>606  MED. CTR./ALAMO RANCH</td>\n",
       "    </tr>\n",
       "    <tr>\n",
       "      <th>33095</th>\n",
       "      <td>607</td>\n",
       "      <td>607-INGRAM/MED.CTR.</td>\n",
       "    </tr>\n",
       "    <tr>\n",
       "      <th>33096</th>\n",
       "      <td>609</td>\n",
       "      <td>609-INGRAM/MAINLAND</td>\n",
       "    </tr>\n",
       "    <tr>\n",
       "      <th>33097</th>\n",
       "      <td>610</td>\n",
       "      <td>610-INGRAM/NWCROS</td>\n",
       "    </tr>\n",
       "    <tr>\n",
       "      <th>33102</th>\n",
       "      <td>615</td>\n",
       "      <td>615-HERITAGE PARK</td>\n",
       "    </tr>\n",
       "    <tr>\n",
       "      <th>33105</th>\n",
       "      <td>618</td>\n",
       "      <td>618-INGRAM/WESTLAKES</td>\n",
       "    </tr>\n",
       "    <tr>\n",
       "      <th>33107</th>\n",
       "      <td>620</td>\n",
       "      <td>620- Ingram/NW Vista</td>\n",
       "    </tr>\n",
       "    <tr>\n",
       "      <th>33109</th>\n",
       "      <td>630</td>\n",
       "      <td>630-SUNRISE/RANDOLPH PR</td>\n",
       "    </tr>\n",
       "    <tr>\n",
       "      <th>33110</th>\n",
       "      <td>632</td>\n",
       "      <td>632-RANDOLPH/VENTURA</td>\n",
       "    </tr>\n",
       "    <tr>\n",
       "      <th>33111</th>\n",
       "      <td>642</td>\n",
       "      <td>642 Nacogdoches / Rolling Oaks Mall</td>\n",
       "    </tr>\n",
       "    <tr>\n",
       "      <th>33112</th>\n",
       "      <td>647</td>\n",
       "      <td>647  NORTH STAR / HARRY WURZBACH</td>\n",
       "    </tr>\n",
       "    <tr>\n",
       "      <th>33113</th>\n",
       "      <td>648</td>\n",
       "      <td>648  NORTH STAR / STONE OAK PKWY.</td>\n",
       "    </tr>\n",
       "    <tr>\n",
       "      <th>33114</th>\n",
       "      <td>651</td>\n",
       "      <td>651  DECO DISTRICT / CASTLE HILLS</td>\n",
       "    </tr>\n",
       "    <tr>\n",
       "      <th>33145</th>\n",
       "      <td>48</td>\n",
       "      <td>48 IH-35 S EXPRESS</td>\n",
       "    </tr>\n",
       "    <tr>\n",
       "      <th>33147</th>\n",
       "      <td>54</td>\n",
       "      <td>54-SOUTH ALAMO</td>\n",
       "    </tr>\n",
       "    <tr>\n",
       "      <th>33153</th>\n",
       "      <td>70</td>\n",
       "      <td>70   CESAR CHAVEZ</td>\n",
       "    </tr>\n",
       "    <tr>\n",
       "      <th>33162</th>\n",
       "      <td>93</td>\n",
       "      <td>93-IH 10 Crossroads/UTSA Express</td>\n",
       "    </tr>\n",
       "    <tr>\n",
       "      <th>33183</th>\n",
       "      <td>605</td>\n",
       "      <td>605  UTSA/MAINLAND</td>\n",
       "    </tr>\n",
       "    <tr>\n",
       "      <th>33202</th>\n",
       "      <td>640</td>\n",
       "      <td>640-VALLEY FORGE</td>\n",
       "    </tr>\n",
       "    <tr>\n",
       "      <th>33203</th>\n",
       "      <td>641</td>\n",
       "      <td>641-KNOLLCREEK</td>\n",
       "    </tr>\n",
       "    <tr>\n",
       "      <th>33662</th>\n",
       "      <td>7</td>\n",
       "      <td>7 STONEOAK/DOWNTOWN EXPRESS</td>\n",
       "    </tr>\n",
       "    <tr>\n",
       "      <th>33711</th>\n",
       "      <td>503</td>\n",
       "      <td>503 HUEBNER</td>\n",
       "    </tr>\n",
       "  </tbody>\n",
       "</table>\n",
       "</div>"
      ],
      "text/plain": [
       "       Route                                 RouteName\n",
       "0          2                              2-BLANCO RD.\n",
       "1          3                               3-SAN PEDRO\n",
       "2          4                               4-SAN PEDRO\n",
       "3          5                             5-MC CULLOUGH\n",
       "4          8                              8-N.ST.MARYS\n",
       "5          9                                9-BROADWAY\n",
       "6         10                           10-NACO./BROAD.\n",
       "7         11                            11-NACOGDOCHES\n",
       "8         14                           14-PERRIN BEITL\n",
       "9         16                        16-Ft. Sam Express\n",
       "10        17                           17-RANDOLPH P/R\n",
       "11        20                          20-NEW BRAUNFELS\n",
       "12        21                                  21-KIRBY\n",
       "13        22                                  22-NOLAN\n",
       "14        24                              24-E.HOUSTON\n",
       "15        25                          25-EAST COMMERCE\n",
       "16        26                              26-M.L. KING\n",
       "17        28                                 28-PORTER\n",
       "18        30                                 30-RIGSBY\n",
       "19        32                          32-STEVES AVENUE\n",
       "20        34                            34-S.ST.MARY'S\n",
       "21        36                           36-S. PRESA ST.\n",
       "22        40                           40-VIVA Mission\n",
       "23        42                              42-ROOSEVELT\n",
       "24        43                              43-S. FLORES\n",
       "25        44                         44-PLEASANTON RD.\n",
       "26        46                             46-COMMERCIAL\n",
       "27        51                       51-NOGALITOS STREET\n",
       "28        62                           62-KELLY U.S.A.\n",
       "29        64          64-KLAC/SEA WORLD/N.W. VISTA    \n",
       "30        65          65-LACKLAND/USO EXPRESS         \n",
       "31        66                                66-CERALVO\n",
       "32        67                                 67-LAREDO\n",
       "33        68                              68-GUADALUPE\n",
       "34        75                          75-WEST COMMERCE\n",
       "35        76                         76-OLD HWY. 90 W.\n",
       "36        77                             77-MARTIN ST.\n",
       "37        79                               79-RUIZ ST.\n",
       "38        82                                82-CULEBRA\n",
       "39        88                            88-BANDERA RD.\n",
       "40        89                              89-DONALDSON\n",
       "41        90                            90-BABCOCK RD.\n",
       "42        94          94-FIESTA/UTSA/EXPRESS          \n",
       "43        95                     95-Fredericksburg Rd.\n",
       "44        96                      96-VANCE JACKSON RD.\n",
       "45        97                            97-WEST AVENUE\n",
       "46       100             100 - PRIMO FREDRICKSBURG RD.\n",
       "48       502          502-THOUSAND OAKS               \n",
       "49       505                             505-BASSE RD.\n",
       "50       515          515-SOUTHCROSS                  \n",
       "51       520          520-ZARZAMORA                   \n",
       "52       522          522-CUPPLES RD.                 \n",
       "53       524          524-MCMULLEN                    \n",
       "54       534          534-WURZBACH                    \n",
       "55       550                   550-LOOPER LIMITED STOP\n",
       "56       551                   551-LOOPER LIMITED STOP\n",
       "57       602                            602-MED/N CENT\n",
       "58       603                       603-MED/WD  PK/UTSA\n",
       "59       604          604-CROSSROADS/WOODS OF SHAVANO \n",
       "60       606          606-INGRAM/NEW TERRITORIES      \n",
       "61       607                          607-CROSS./INGR.\n",
       "62       609                            609-BRAUN/INGR\n",
       "63       610                         610-N.W. CROSSING\n",
       "64       611                             611-VALLEY HI\n",
       "65       612                             612-WESTLAKES\n",
       "66       613                           613-HERITAGE NW\n",
       "67       614                           614-HIDDEN COVE\n",
       "68       615                          615-HERITAGE PK.\n",
       "69       616                           616-SKY HARBOUR\n",
       "70       617                         617-RAINBOW HILLS\n",
       "71       618                           618-WLAKES/ING.\n",
       "72       619                          619-INDIAN CREEK\n",
       "73       620                           620-BRAUN./MED.\n",
       "74       629                       629 - INDUSTRY PARK\n",
       "75       630                               630-SUNRISE\n",
       "76       632                              632-WOODLAKE\n",
       "77       642          642-NACO PASS/SELMA             \n",
       "78       647                          647-TERRELL PLZ.\n",
       "79       648                         648-HOLLYWOOD PK.\n",
       "80       651                         651-CASTLE HILLS \n",
       "108       54                                 54-S.MAIN\n",
       "114       70                                70-DURANGO\n",
       "131      509          509-HILDEBRAND                  \n",
       "142      605                            605-MED./BRAUN\n",
       "159      631                  631 - SUNRISE/SUMMERFEST\n",
       "161      640          640-NACO PASS/ROLLING OAKS      \n",
       "162      641          641-NACO PASS/ROLLING OAKS      \n",
       "167      660                   660-UNIV P&R / NW VISTA\n",
       "172        6                          6-US 281 Express\n",
       "195       48                    48-IH 35 South Express\n",
       "212       93                   93-CROSS./UTSA/P/R EXP.\n",
       "259      715                715-CROSSROADS PARK & RIDE\n",
       "753      101              101 - PRIMO LEON VALLEY/UTSA\n",
       "2593     705                        705-MCCRELESS MALL\n",
       "10280    712                 712-N CENTRAL PARK & RIDE\n",
       "33036      3                          3-SAN PEDRO SKIP\n",
       "33041     10       10-NACO/BROADWAY /NACO PASS        \n",
       "33042     11                           11 VIVA Culture\n",
       "33043     14                         14 Perrin Beitel \n",
       "33044     17                          17-IH 35 Express\n",
       "33046     21                       21 KIRBY / CONVERSE\n",
       "33047     22      22-HAYS                             \n",
       "33053     32      32-STEVES AVE.                      \n",
       "33054     34      34-S. ST.MARYS                      \n",
       "33061     51      51-NOGALITOS                        \n",
       "33062     62      62-KIRK                             \n",
       "33063     64   64-KLAC/SEA WORLD/N.W. VISTA  EXPRESS  \n",
       "33070     79      79-RUIZ                             \n",
       "33072     88      88-BANDERA                          \n",
       "33073     89      89-W.POPLAR                         \n",
       "33074     90      90-WOODLAWN                         \n",
       "33075     94  94-IH 10/ FIESTA TEXAS/EXPRESS          \n",
       "33077     96                        96 - Vance Jackson\n",
       "33086    522                522-BABCOCK               \n",
       "33087    524  524-GENERAL MCMULLEN                    \n",
       "33091    602          602  NORTH STAR / MEDICAL CENTER\n",
       "33092    603                        603  MED.CTR./UTSA\n",
       "33093    604                 604  MED.CTR./UNIV. HGTS.\n",
       "33094    606                606  MED. CTR./ALAMO RANCH\n",
       "33095    607    607-INGRAM/MED.CTR.                   \n",
       "33096    609      609-INGRAM/MAINLAND                 \n",
       "33097    610      610-INGRAM/NWCROS                   \n",
       "33102    615      615-HERITAGE PARK                   \n",
       "33105    618      618-INGRAM/WESTLAKES                \n",
       "33107    620                      620- Ingram/NW Vista\n",
       "33109    630      630-SUNRISE/RANDOLPH PR             \n",
       "33110    632      632-RANDOLPH/VENTURA                \n",
       "33111    642       642 Nacogdoches / Rolling Oaks Mall\n",
       "33112    647          647  NORTH STAR / HARRY WURZBACH\n",
       "33113    648         648  NORTH STAR / STONE OAK PKWY.\n",
       "33114    651         651  DECO DISTRICT / CASTLE HILLS\n",
       "33145     48                        48 IH-35 S EXPRESS\n",
       "33147     54      54-SOUTH ALAMO                      \n",
       "33153     70                         70   CESAR CHAVEZ\n",
       "33162     93          93-IH 10 Crossroads/UTSA Express\n",
       "33183    605                        605  UTSA/MAINLAND\n",
       "33202    640      640-VALLEY FORGE                    \n",
       "33203    641      641-KNOLLCREEK                      \n",
       "33662      7               7 STONEOAK/DOWNTOWN EXPRESS\n",
       "33711    503                              503 HUEBNER "
      ]
     },
     "execution_count": 95,
     "metadata": {},
     "output_type": "execute_result"
    }
   ],
   "source": [
    "best_guess[best_guess.Route.isin(truth_table.Route)]"
   ]
  },
  {
   "cell_type": "markdown",
   "metadata": {},
   "source": [
    "# I dont want to write a Regex test to see if these are the ones worth looking at but I bet these 97 are the only ROUTE NUMBERS worth loking at."
   ]
  },
  {
   "cell_type": "code",
   "execution_count": null,
   "metadata": {},
   "outputs": [],
   "source": []
  }
 ],
 "metadata": {
  "kernelspec": {
   "display_name": "Python 3",
   "language": "python",
   "name": "python3"
  },
  "language_info": {
   "codemirror_mode": {
    "name": "ipython",
    "version": 3
   },
   "file_extension": ".py",
   "mimetype": "text/x-python",
   "name": "python",
   "nbconvert_exporter": "python",
   "pygments_lexer": "ipython3",
   "version": "3.7.6"
  }
 },
 "nbformat": 4,
 "nbformat_minor": 4
}
