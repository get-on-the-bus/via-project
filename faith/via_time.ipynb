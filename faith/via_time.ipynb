{
 "cells": [
  {
   "cell_type": "markdown",
   "metadata": {
    "toc": true
   },
   "source": [
    "<h1>Table of Contents<span class=\"tocSkip\"></span></h1>\n",
    "<div class=\"toc\"><ul class=\"toc-item\"><li><span><a href=\"#Data-Dictionary\" data-toc-modified-id=\"Data-Dictionary-1\"><span class=\"toc-item-num\">1&nbsp;&nbsp;</span>Data Dictionary</a></span></li><li><span><a href=\"#Acquire-df\" data-toc-modified-id=\"Acquire-df-2\"><span class=\"toc-item-num\">2&nbsp;&nbsp;</span>Acquire df</a></span><ul class=\"toc-item\"><li><span><a href=\"#DF-Info\" data-toc-modified-id=\"DF-Info-2.1\"><span class=\"toc-item-num\">2.1&nbsp;&nbsp;</span>DF Info</a></span></li></ul></li><li><span><a href=\"#Prepare-df\" data-toc-modified-id=\"Prepare-df-3\"><span class=\"toc-item-num\">3&nbsp;&nbsp;</span>Prepare df</a></span><ul class=\"toc-item\"><li><span><a href=\"#Rename-Columns\" data-toc-modified-id=\"Rename-Columns-3.1\"><span class=\"toc-item-num\">3.1&nbsp;&nbsp;</span>Rename Columns</a></span></li><li><span><a href=\"#Convert-date-column-to-datetime-format\" data-toc-modified-id=\"Convert-date-column-to-datetime-format-3.2\"><span class=\"toc-item-num\">3.2&nbsp;&nbsp;</span>Convert date column to datetime format</a></span></li><li><span><a href=\"#Create-Date-Part-Columns\" data-toc-modified-id=\"Create-Date-Part-Columns-3.3\"><span class=\"toc-item-num\">3.3&nbsp;&nbsp;</span>Create Date Part Columns</a></span></li><li><span><a href=\"#Unique-Values-in-Columns\" data-toc-modified-id=\"Unique-Values-in-Columns-3.4\"><span class=\"toc-item-num\">3.4&nbsp;&nbsp;</span>Unique Values in Columns</a></span></li><li><span><a href=\"#Missing-Scheduled-Time-Points\" data-toc-modified-id=\"Missing-Scheduled-Time-Points-3.5\"><span class=\"toc-item-num\">3.5&nbsp;&nbsp;</span>Missing Scheduled Time Points</a></span></li><li><span><a href=\"#On-Time-Percentage\" data-toc-modified-id=\"On-Time-Percentage-3.6\"><span class=\"toc-item-num\">3.6&nbsp;&nbsp;</span>On Time Percentage</a></span></li><li><span><a href=\"#There-are-4-Primo-routes-in-the-dataset?-Man,-Fredricksburg-primo-has-3-different-names-for-Primo-route!\" data-toc-modified-id=\"There-are-4-Primo-routes-in-the-dataset?-Man,-Fredricksburg-primo-has-3-different-names-for-Primo-route!-3.7\"><span class=\"toc-item-num\">3.7&nbsp;&nbsp;</span>There are 4 Primo routes in the dataset? Man, Fredricksburg primo has 3 different names for Primo route!</a></span></li><li><span><a href=\"#Groupby-route\" data-toc-modified-id=\"Groupby-route-3.8\"><span class=\"toc-item-num\">3.8&nbsp;&nbsp;</span>Groupby <code>route</code></a></span></li></ul></li></ul></div>"
   ]
  },
  {
   "cell_type": "code",
   "execution_count": 1,
   "metadata": {},
   "outputs": [],
   "source": [
    "import numpy as np\n",
    "import pandas as pd\n",
    "\n",
    "import matplotlib.pyplot as plt\n",
    "%matplotlib inline\n",
    "import seaborn as sns"
   ]
  },
  {
   "cell_type": "markdown",
   "metadata": {},
   "source": [
    "## Data Dictionary\n",
    "\n",
    "| Field Name | Description |\n",
    "|:---------|--------:|\n",
    "|ServiceDate Time  | The day the vehicle is in operation|\n",
    "|Routes|Transit routes. A route is a group of trips that are displayed to riders as a single service|\n",
    "|RouteName | Name of a route |\n",
    "| EarlyDeparture | Number of times a vehicle departed early from a timepoint in relation to a scheduled time |\n",
    "| OnTime | Number of times a vehicle arrived on time at a timepoint in relation to a scheduled time |\n",
    "| LateArrival | Number of times a vehicle arrived late at a timepoint in relation to a scheduled time |\n",
    "| Missing | Number of times a vehicle missed a given timepoint |\n",
    "| TimePointCount | Number of total timepoints |\n",
    "| OTP | On time percentage (OnTime / TimePointCount) |\n",
    "| AverageDwellTime | Dwell time average in seconds |"
   ]
  },
  {
   "cell_type": "markdown",
   "metadata": {},
   "source": [
    "## Acquire df"
   ]
  },
  {
   "cell_type": "code",
   "execution_count": 2,
   "metadata": {},
   "outputs": [
    {
     "data": {
      "text/html": [
       "<div>\n",
       "<style scoped>\n",
       "    .dataframe tbody tr th:only-of-type {\n",
       "        vertical-align: middle;\n",
       "    }\n",
       "\n",
       "    .dataframe tbody tr th {\n",
       "        vertical-align: top;\n",
       "    }\n",
       "\n",
       "    .dataframe thead th {\n",
       "        text-align: right;\n",
       "    }\n",
       "</style>\n",
       "<table border=\"1\" class=\"dataframe\">\n",
       "  <thead>\n",
       "    <tr style=\"text-align: right;\">\n",
       "      <th></th>\n",
       "      <th>ServiceDateTime</th>\n",
       "      <th>Route</th>\n",
       "      <th>RouteName</th>\n",
       "      <th>EarlyDeparture</th>\n",
       "      <th>OnTime</th>\n",
       "      <th>LateArrival</th>\n",
       "      <th>Missing</th>\n",
       "      <th>TimePointCount</th>\n",
       "      <th>OTP</th>\n",
       "      <th>AverageDwellTime</th>\n",
       "    </tr>\n",
       "  </thead>\n",
       "  <tbody>\n",
       "    <tr>\n",
       "      <th>0</th>\n",
       "      <td>1/1/2018</td>\n",
       "      <td>2</td>\n",
       "      <td>BLANCO</td>\n",
       "      <td>23</td>\n",
       "      <td>373</td>\n",
       "      <td>65</td>\n",
       "      <td>59</td>\n",
       "      <td>461</td>\n",
       "      <td>80.91</td>\n",
       "      <td>112.40</td>\n",
       "    </tr>\n",
       "    <tr>\n",
       "      <th>1</th>\n",
       "      <td>1/1/2018</td>\n",
       "      <td>3</td>\n",
       "      <td>SAN PEDRO SKIP</td>\n",
       "      <td>7</td>\n",
       "      <td>358</td>\n",
       "      <td>29</td>\n",
       "      <td>12</td>\n",
       "      <td>394</td>\n",
       "      <td>90.86</td>\n",
       "      <td>175.87</td>\n",
       "    </tr>\n",
       "    <tr>\n",
       "      <th>2</th>\n",
       "      <td>1/1/2018</td>\n",
       "      <td>4</td>\n",
       "      <td>SAN PEDRO Frequent</td>\n",
       "      <td>8</td>\n",
       "      <td>379</td>\n",
       "      <td>5</td>\n",
       "      <td>103</td>\n",
       "      <td>392</td>\n",
       "      <td>96.68</td>\n",
       "      <td>94.19</td>\n",
       "    </tr>\n",
       "    <tr>\n",
       "      <th>3</th>\n",
       "      <td>1/1/2018</td>\n",
       "      <td>5</td>\n",
       "      <td>McCULLOUGH</td>\n",
       "      <td>2</td>\n",
       "      <td>245</td>\n",
       "      <td>16</td>\n",
       "      <td>42</td>\n",
       "      <td>263</td>\n",
       "      <td>93.16</td>\n",
       "      <td>137.79</td>\n",
       "    </tr>\n",
       "    <tr>\n",
       "      <th>4</th>\n",
       "      <td>1/1/2018</td>\n",
       "      <td>8</td>\n",
       "      <td>N ST MARYS</td>\n",
       "      <td>25</td>\n",
       "      <td>226</td>\n",
       "      <td>31</td>\n",
       "      <td>6</td>\n",
       "      <td>282</td>\n",
       "      <td>80.14</td>\n",
       "      <td>107.16</td>\n",
       "    </tr>\n",
       "  </tbody>\n",
       "</table>\n",
       "</div>"
      ],
      "text/plain": [
       "  ServiceDateTime  Route           RouteName  EarlyDeparture  OnTime  \\\n",
       "0        1/1/2018      2              BLANCO              23     373   \n",
       "1        1/1/2018      3      SAN PEDRO SKIP               7     358   \n",
       "2        1/1/2018      4  SAN PEDRO Frequent               8     379   \n",
       "3        1/1/2018      5          McCULLOUGH               2     245   \n",
       "4        1/1/2018      8          N ST MARYS              25     226   \n",
       "\n",
       "   LateArrival  Missing  TimePointCount    OTP  AverageDwellTime  \n",
       "0           65       59             461  80.91            112.40  \n",
       "1           29       12             394  90.86            175.87  \n",
       "2            5      103             392  96.68             94.19  \n",
       "3           16       42             263  93.16            137.79  \n",
       "4           31        6             282  80.14            107.16  "
      ]
     },
     "execution_count": 2,
     "metadata": {},
     "output_type": "execute_result"
    }
   ],
   "source": [
    "time = pd.read_csv('BusOnTimePerformance.csv', encoding= 'unicode_escape')\n",
    "time.head()"
   ]
  },
  {
   "cell_type": "markdown",
   "metadata": {},
   "source": [
    "### DF Info"
   ]
  },
  {
   "cell_type": "code",
   "execution_count": 3,
   "metadata": {},
   "outputs": [
    {
     "name": "stdout",
     "output_type": "stream",
     "text": [
      "<class 'pandas.core.frame.DataFrame'>\n",
      "RangeIndex: 35331 entries, 0 to 35330\n",
      "Data columns (total 10 columns):\n",
      " #   Column            Non-Null Count  Dtype  \n",
      "---  ------            --------------  -----  \n",
      " 0   ServiceDateTime   35331 non-null  object \n",
      " 1   Route             35331 non-null  int64  \n",
      " 2   RouteName         35331 non-null  object \n",
      " 3   EarlyDeparture    35331 non-null  int64  \n",
      " 4   OnTime            35331 non-null  int64  \n",
      " 5   LateArrival       35331 non-null  int64  \n",
      " 6   Missing           35331 non-null  int64  \n",
      " 7   TimePointCount    35331 non-null  int64  \n",
      " 8   OTP               35305 non-null  float64\n",
      " 9   AverageDwellTime  35305 non-null  float64\n",
      "dtypes: float64(2), int64(6), object(2)\n",
      "memory usage: 2.7+ MB\n"
     ]
    }
   ],
   "source": [
    "time.info()"
   ]
  },
  {
   "cell_type": "code",
   "execution_count": 4,
   "metadata": {},
   "outputs": [
    {
     "data": {
      "text/plain": [
       "(35331, 10)"
      ]
     },
     "execution_count": 4,
     "metadata": {},
     "output_type": "execute_result"
    }
   ],
   "source": [
    "time.shape"
   ]
  },
  {
   "cell_type": "code",
   "execution_count": 5,
   "metadata": {},
   "outputs": [
    {
     "data": {
      "text/html": [
       "<div>\n",
       "<style scoped>\n",
       "    .dataframe tbody tr th:only-of-type {\n",
       "        vertical-align: middle;\n",
       "    }\n",
       "\n",
       "    .dataframe tbody tr th {\n",
       "        vertical-align: top;\n",
       "    }\n",
       "\n",
       "    .dataframe thead th {\n",
       "        text-align: right;\n",
       "    }\n",
       "</style>\n",
       "<table border=\"1\" class=\"dataframe\">\n",
       "  <thead>\n",
       "    <tr style=\"text-align: right;\">\n",
       "      <th></th>\n",
       "      <th>Route</th>\n",
       "      <th>EarlyDeparture</th>\n",
       "      <th>OnTime</th>\n",
       "      <th>LateArrival</th>\n",
       "      <th>Missing</th>\n",
       "      <th>TimePointCount</th>\n",
       "      <th>OTP</th>\n",
       "      <th>AverageDwellTime</th>\n",
       "    </tr>\n",
       "  </thead>\n",
       "  <tbody>\n",
       "    <tr>\n",
       "      <th>count</th>\n",
       "      <td>35331.000000</td>\n",
       "      <td>35331.000000</td>\n",
       "      <td>35331.000000</td>\n",
       "      <td>35331.000000</td>\n",
       "      <td>35331.000000</td>\n",
       "      <td>35331.000000</td>\n",
       "      <td>35305.000000</td>\n",
       "      <td>35305.000000</td>\n",
       "    </tr>\n",
       "    <tr>\n",
       "      <th>mean</th>\n",
       "      <td>284.956412</td>\n",
       "      <td>12.124989</td>\n",
       "      <td>255.669865</td>\n",
       "      <td>52.181993</td>\n",
       "      <td>31.028502</td>\n",
       "      <td>319.976848</td>\n",
       "      <td>80.504986</td>\n",
       "      <td>166.397376</td>\n",
       "    </tr>\n",
       "    <tr>\n",
       "      <th>std</th>\n",
       "      <td>273.656368</td>\n",
       "      <td>14.175450</td>\n",
       "      <td>170.151191</td>\n",
       "      <td>50.460172</td>\n",
       "      <td>38.516792</td>\n",
       "      <td>213.608083</td>\n",
       "      <td>10.390800</td>\n",
       "      <td>62.330761</td>\n",
       "    </tr>\n",
       "    <tr>\n",
       "      <th>min</th>\n",
       "      <td>2.000000</td>\n",
       "      <td>0.000000</td>\n",
       "      <td>0.000000</td>\n",
       "      <td>0.000000</td>\n",
       "      <td>0.000000</td>\n",
       "      <td>0.000000</td>\n",
       "      <td>16.670000</td>\n",
       "      <td>16.810000</td>\n",
       "    </tr>\n",
       "    <tr>\n",
       "      <th>25%</th>\n",
       "      <td>36.000000</td>\n",
       "      <td>3.000000</td>\n",
       "      <td>130.000000</td>\n",
       "      <td>17.000000</td>\n",
       "      <td>5.000000</td>\n",
       "      <td>161.000000</td>\n",
       "      <td>74.890000</td>\n",
       "      <td>122.430000</td>\n",
       "    </tr>\n",
       "    <tr>\n",
       "      <th>50%</th>\n",
       "      <td>94.000000</td>\n",
       "      <td>8.000000</td>\n",
       "      <td>213.000000</td>\n",
       "      <td>36.000000</td>\n",
       "      <td>15.000000</td>\n",
       "      <td>263.000000</td>\n",
       "      <td>82.210000</td>\n",
       "      <td>160.960000</td>\n",
       "    </tr>\n",
       "    <tr>\n",
       "      <th>75%</th>\n",
       "      <td>607.000000</td>\n",
       "      <td>15.000000</td>\n",
       "      <td>343.000000</td>\n",
       "      <td>72.000000</td>\n",
       "      <td>42.000000</td>\n",
       "      <td>443.000000</td>\n",
       "      <td>87.980000</td>\n",
       "      <td>200.920000</td>\n",
       "    </tr>\n",
       "    <tr>\n",
       "      <th>max</th>\n",
       "      <td>672.000000</td>\n",
       "      <td>123.000000</td>\n",
       "      <td>1196.000000</td>\n",
       "      <td>496.000000</td>\n",
       "      <td>493.000000</td>\n",
       "      <td>1385.000000</td>\n",
       "      <td>100.000000</td>\n",
       "      <td>1166.200000</td>\n",
       "    </tr>\n",
       "  </tbody>\n",
       "</table>\n",
       "</div>"
      ],
      "text/plain": [
       "              Route  EarlyDeparture        OnTime   LateArrival       Missing  \\\n",
       "count  35331.000000    35331.000000  35331.000000  35331.000000  35331.000000   \n",
       "mean     284.956412       12.124989    255.669865     52.181993     31.028502   \n",
       "std      273.656368       14.175450    170.151191     50.460172     38.516792   \n",
       "min        2.000000        0.000000      0.000000      0.000000      0.000000   \n",
       "25%       36.000000        3.000000    130.000000     17.000000      5.000000   \n",
       "50%       94.000000        8.000000    213.000000     36.000000     15.000000   \n",
       "75%      607.000000       15.000000    343.000000     72.000000     42.000000   \n",
       "max      672.000000      123.000000   1196.000000    496.000000    493.000000   \n",
       "\n",
       "       TimePointCount           OTP  AverageDwellTime  \n",
       "count    35331.000000  35305.000000      35305.000000  \n",
       "mean       319.976848     80.504986        166.397376  \n",
       "std        213.608083     10.390800         62.330761  \n",
       "min          0.000000     16.670000         16.810000  \n",
       "25%        161.000000     74.890000        122.430000  \n",
       "50%        263.000000     82.210000        160.960000  \n",
       "75%        443.000000     87.980000        200.920000  \n",
       "max       1385.000000    100.000000       1166.200000  "
      ]
     },
     "execution_count": 5,
     "metadata": {},
     "output_type": "execute_result"
    }
   ],
   "source": [
    "time.describe()"
   ]
  },
  {
   "cell_type": "markdown",
   "metadata": {},
   "source": [
    "## Prepare df\n",
    "\n",
    "### Rename Columns"
   ]
  },
  {
   "cell_type": "code",
   "execution_count": 6,
   "metadata": {},
   "outputs": [],
   "source": [
    "time.columns = ['date', 'route', 'route_name', 'early_departure', 'on_time',\n",
    "       'late_arrival', 'missing', 'time_point_count', 'otp', 'average_dwell_time']"
   ]
  },
  {
   "cell_type": "markdown",
   "metadata": {},
   "source": [
    "### Convert date column to datetime format"
   ]
  },
  {
   "cell_type": "code",
   "execution_count": 7,
   "metadata": {},
   "outputs": [],
   "source": [
    "time['date'] = pd.to_datetime(time.date)\n",
    "time = time.set_index('date').sort_index()"
   ]
  },
  {
   "cell_type": "code",
   "execution_count": 8,
   "metadata": {},
   "outputs": [
    {
     "name": "stdout",
     "output_type": "stream",
     "text": [
      "<class 'pandas.core.frame.DataFrame'>\n",
      "DatetimeIndex: 35331 entries, 2018-01-01 to 2019-01-30\n",
      "Data columns (total 9 columns):\n",
      " #   Column              Non-Null Count  Dtype  \n",
      "---  ------              --------------  -----  \n",
      " 0   route               35331 non-null  int64  \n",
      " 1   route_name          35331 non-null  object \n",
      " 2   early_departure     35331 non-null  int64  \n",
      " 3   on_time             35331 non-null  int64  \n",
      " 4   late_arrival        35331 non-null  int64  \n",
      " 5   missing             35331 non-null  int64  \n",
      " 6   time_point_count    35331 non-null  int64  \n",
      " 7   otp                 35305 non-null  float64\n",
      " 8   average_dwell_time  35305 non-null  float64\n",
      "dtypes: float64(2), int64(6), object(1)\n",
      "memory usage: 2.7+ MB\n"
     ]
    }
   ],
   "source": [
    "time.info()"
   ]
  },
  {
   "cell_type": "markdown",
   "metadata": {},
   "source": [
    "### Create Date Part Columns"
   ]
  },
  {
   "cell_type": "code",
   "execution_count": 9,
   "metadata": {},
   "outputs": [],
   "source": [
    "time['month'] = time.index.month\n",
    "time['year'] = time.index.year\n",
    "time['day'] = time.index.day_name()"
   ]
  },
  {
   "cell_type": "code",
   "execution_count": 10,
   "metadata": {},
   "outputs": [
    {
     "data": {
      "text/html": [
       "<div>\n",
       "<style scoped>\n",
       "    .dataframe tbody tr th:only-of-type {\n",
       "        vertical-align: middle;\n",
       "    }\n",
       "\n",
       "    .dataframe tbody tr th {\n",
       "        vertical-align: top;\n",
       "    }\n",
       "\n",
       "    .dataframe thead th {\n",
       "        text-align: right;\n",
       "    }\n",
       "</style>\n",
       "<table border=\"1\" class=\"dataframe\">\n",
       "  <thead>\n",
       "    <tr style=\"text-align: right;\">\n",
       "      <th></th>\n",
       "      <th>route</th>\n",
       "      <th>route_name</th>\n",
       "      <th>early_departure</th>\n",
       "      <th>on_time</th>\n",
       "      <th>late_arrival</th>\n",
       "      <th>missing</th>\n",
       "      <th>time_point_count</th>\n",
       "      <th>otp</th>\n",
       "      <th>average_dwell_time</th>\n",
       "      <th>month</th>\n",
       "      <th>year</th>\n",
       "      <th>day</th>\n",
       "    </tr>\n",
       "    <tr>\n",
       "      <th>date</th>\n",
       "      <th></th>\n",
       "      <th></th>\n",
       "      <th></th>\n",
       "      <th></th>\n",
       "      <th></th>\n",
       "      <th></th>\n",
       "      <th></th>\n",
       "      <th></th>\n",
       "      <th></th>\n",
       "      <th></th>\n",
       "      <th></th>\n",
       "      <th></th>\n",
       "    </tr>\n",
       "  </thead>\n",
       "  <tbody>\n",
       "    <tr>\n",
       "      <th>2018-01-01</th>\n",
       "      <td>2</td>\n",
       "      <td>BLANCO</td>\n",
       "      <td>23</td>\n",
       "      <td>373</td>\n",
       "      <td>65</td>\n",
       "      <td>59</td>\n",
       "      <td>461</td>\n",
       "      <td>80.91</td>\n",
       "      <td>112.40</td>\n",
       "      <td>1</td>\n",
       "      <td>2018</td>\n",
       "      <td>Monday</td>\n",
       "    </tr>\n",
       "    <tr>\n",
       "      <th>2018-01-01</th>\n",
       "      <td>3</td>\n",
       "      <td>SAN PEDRO SKIP</td>\n",
       "      <td>7</td>\n",
       "      <td>358</td>\n",
       "      <td>29</td>\n",
       "      <td>12</td>\n",
       "      <td>394</td>\n",
       "      <td>90.86</td>\n",
       "      <td>175.87</td>\n",
       "      <td>1</td>\n",
       "      <td>2018</td>\n",
       "      <td>Monday</td>\n",
       "    </tr>\n",
       "  </tbody>\n",
       "</table>\n",
       "</div>"
      ],
      "text/plain": [
       "            route      route_name  early_departure  on_time  late_arrival  \\\n",
       "date                                                                        \n",
       "2018-01-01      2          BLANCO               23      373            65   \n",
       "2018-01-01      3  SAN PEDRO SKIP                7      358            29   \n",
       "\n",
       "            missing  time_point_count    otp  average_dwell_time  month  year  \\\n",
       "date                                                                            \n",
       "2018-01-01       59               461  80.91              112.40      1  2018   \n",
       "2018-01-01       12               394  90.86              175.87      1  2018   \n",
       "\n",
       "               day  \n",
       "date                \n",
       "2018-01-01  Monday  \n",
       "2018-01-01  Monday  "
      ]
     },
     "execution_count": 10,
     "metadata": {},
     "output_type": "execute_result"
    }
   ],
   "source": [
    "time.head(2)"
   ]
  },
  {
   "cell_type": "code",
   "execution_count": 11,
   "metadata": {},
   "outputs": [
    {
     "data": {
      "image/png": "[encoded data removed]",
      "text/plain": [
       "<Figure size 432x288 with 1 Axes>"
      ]
     },
     "metadata": {
      "needs_background": "light"
     },
     "output_type": "display_data"
    }
   ],
   "source": [
    "cats = ['Sunday','Monday', 'Tuesday', 'Wednesday', 'Thursday', 'Friday', 'Saturday']\n",
    "\n",
    "time.day.value_counts().reindex(cats).plot.barh(color='thistle')\n",
    "\n",
    "plt.title('Count of Observations by Day')\n",
    "\n",
    "# reorder y-axis of horizontal bar chart\n",
    "plt.gca().invert_yaxis()\n",
    "plt.show()"
   ]
  },
  {
   "cell_type": "code",
   "execution_count": 12,
   "metadata": {},
   "outputs": [
    {
     "data": {
      "image/png": "[encoded data removed]",
      "text/plain": [
       "<Figure size 432x288 with 1 Axes>"
      ]
     },
     "metadata": {
      "needs_background": "light"
     },
     "output_type": "display_data"
    }
   ],
   "source": [
    "time.month.value_counts().sort_index().plot.barh(color='orchid')\n",
    "\n",
    "plt.title('Count of Observations by Month')\n",
    "\n",
    "# reorder y-axis of horizontal bar chart\n",
    "plt.gca().invert_yaxis()\n",
    "plt.show()"
   ]
  },
  {
   "cell_type": "code",
   "execution_count": 13,
   "metadata": {},
   "outputs": [
    {
     "data": {
      "image/png": "[encoded data removed]",
      "text/plain": [
       "<Figure size 432x288 with 1 Axes>"
      ]
     },
     "metadata": {
      "needs_background": "light"
     },
     "output_type": "display_data"
    }
   ],
   "source": [
    "time.year.value_counts().sort_index().plot.barh(color='darkorchid')\n",
    "\n",
    "plt.title('Count of Observations by Year')\n",
    "\n",
    "# reorder y-axis of horizontal bar chart\n",
    "plt.gca().invert_yaxis()\n",
    "plt.show()"
   ]
  },
  {
   "cell_type": "markdown",
   "metadata": {},
   "source": [
    "### Unique Values in Columns\n",
    "\n",
    "First we need to normalize the route_names column because it's a mess with upper- and lowercase.\n",
    "\n",
    "<font color=purple>This dropped unique values in route_name from 286 to 238, removing starting numbers further reduced unique route names to 228, removing hyphens to 194.</font>"
   ]
  },
  {
   "cell_type": "code",
   "execution_count": 14,
   "metadata": {},
   "outputs": [],
   "source": [
    "time.route_name = time.route_name.str.lower()\n",
    "time.route_name = time.route_name.str.replace(r'^\\d+', '', regex=True)\n",
    "time.route_name = time.route_name.str.replace('-', '').str.strip()"
   ]
  },
  {
   "cell_type": "code",
   "execution_count": 15,
   "metadata": {},
   "outputs": [
    {
     "data": {
      "text/html": [
       "<div>\n",
       "<style scoped>\n",
       "    .dataframe tbody tr th:only-of-type {\n",
       "        vertical-align: middle;\n",
       "    }\n",
       "\n",
       "    .dataframe tbody tr th {\n",
       "        vertical-align: top;\n",
       "    }\n",
       "\n",
       "    .dataframe thead th {\n",
       "        text-align: right;\n",
       "    }\n",
       "</style>\n",
       "<table border=\"1\" class=\"dataframe\">\n",
       "  <thead>\n",
       "    <tr style=\"text-align: right;\">\n",
       "      <th></th>\n",
       "      <th>route</th>\n",
       "      <th>route_name</th>\n",
       "      <th>early_departure</th>\n",
       "      <th>on_time</th>\n",
       "      <th>late_arrival</th>\n",
       "      <th>missing</th>\n",
       "      <th>time_point_count</th>\n",
       "      <th>otp</th>\n",
       "      <th>average_dwell_time</th>\n",
       "      <th>month</th>\n",
       "      <th>year</th>\n",
       "      <th>day</th>\n",
       "    </tr>\n",
       "    <tr>\n",
       "      <th>date</th>\n",
       "      <th></th>\n",
       "      <th></th>\n",
       "      <th></th>\n",
       "      <th></th>\n",
       "      <th></th>\n",
       "      <th></th>\n",
       "      <th></th>\n",
       "      <th></th>\n",
       "      <th></th>\n",
       "      <th></th>\n",
       "      <th></th>\n",
       "      <th></th>\n",
       "    </tr>\n",
       "  </thead>\n",
       "  <tbody>\n",
       "  </tbody>\n",
       "</table>\n",
       "</div>"
      ],
      "text/plain": [
       "Empty DataFrame\n",
       "Columns: [route, route_name, early_departure, on_time, late_arrival, missing, time_point_count, otp, average_dwell_time, month, year, day]\n",
       "Index: []"
      ]
     },
     "execution_count": 15,
     "metadata": {},
     "output_type": "execute_result"
    }
   ],
   "source": [
    "time[time.route_name.str.contains('-')]"
   ]
  },
  {
   "cell_type": "code",
   "execution_count": 16,
   "metadata": {},
   "outputs": [
    {
     "data": {
      "text/html": [
       "<div>\n",
       "<style scoped>\n",
       "    .dataframe tbody tr th:only-of-type {\n",
       "        vertical-align: middle;\n",
       "    }\n",
       "\n",
       "    .dataframe tbody tr th {\n",
       "        vertical-align: top;\n",
       "    }\n",
       "\n",
       "    .dataframe thead th {\n",
       "        text-align: right;\n",
       "    }\n",
       "</style>\n",
       "<table border=\"1\" class=\"dataframe\">\n",
       "  <thead>\n",
       "    <tr style=\"text-align: right;\">\n",
       "      <th></th>\n",
       "      <th></th>\n",
       "      <th>route_name</th>\n",
       "    </tr>\n",
       "    <tr>\n",
       "      <th>route</th>\n",
       "      <th>route_name</th>\n",
       "      <th></th>\n",
       "    </tr>\n",
       "  </thead>\n",
       "  <tbody>\n",
       "    <tr>\n",
       "      <th rowspan=\"3\" valign=\"top\">2</th>\n",
       "      <th>blanco</th>\n",
       "      <td>346</td>\n",
       "    </tr>\n",
       "    <tr>\n",
       "      <th>blanco frequent</th>\n",
       "      <td>24</td>\n",
       "    </tr>\n",
       "    <tr>\n",
       "      <th>blanco rd.</th>\n",
       "      <td>22</td>\n",
       "    </tr>\n",
       "    <tr>\n",
       "      <th>3</th>\n",
       "      <th>san pedro skip</th>\n",
       "      <td>392</td>\n",
       "    </tr>\n",
       "    <tr>\n",
       "      <th>4</th>\n",
       "      <th>san pedro</th>\n",
       "      <td>22</td>\n",
       "    </tr>\n",
       "    <tr>\n",
       "      <th>...</th>\n",
       "      <th>...</th>\n",
       "      <td>...</td>\n",
       "    </tr>\n",
       "    <tr>\n",
       "      <th rowspan=\"4\" valign=\"top\">660</th>\n",
       "      <th>nw vista college / university p&amp;r</th>\n",
       "      <td>21</td>\n",
       "    </tr>\n",
       "    <tr>\n",
       "      <th>nwvistas/university p&amp;r</th>\n",
       "      <td>202</td>\n",
       "    </tr>\n",
       "    <tr>\n",
       "      <th>nwvistas/univesity p&amp;r</th>\n",
       "      <td>88</td>\n",
       "    </tr>\n",
       "    <tr>\n",
       "      <th>univ p&amp;r / nw vista</th>\n",
       "      <td>19</td>\n",
       "    </tr>\n",
       "    <tr>\n",
       "      <th>672</th>\n",
       "      <th>tamusa / madla transit center</th>\n",
       "      <td>24</td>\n",
       "    </tr>\n",
       "  </tbody>\n",
       "</table>\n",
       "<p>196 rows × 1 columns</p>\n",
       "</div>"
      ],
      "text/plain": [
       "                                         route_name\n",
       "route route_name                                   \n",
       "2     blanco                                    346\n",
       "      blanco frequent                            24\n",
       "      blanco rd.                                 22\n",
       "3     san pedro skip                            392\n",
       "4     san pedro                                  22\n",
       "...                                             ...\n",
       "660   nw vista college / university p&r          21\n",
       "      nwvistas/university p&r                   202\n",
       "      nwvistas/univesity p&r                     88\n",
       "      univ p&r / nw vista                        19\n",
       "672   tamusa / madla transit center              24\n",
       "\n",
       "[196 rows x 1 columns]"
      ]
     },
     "execution_count": 16,
     "metadata": {},
     "output_type": "execute_result"
    }
   ],
   "source": [
    "time.groupby(['route', 'route_name'])[['route_name']].count()"
   ]
  },
  {
   "cell_type": "markdown",
   "metadata": {},
   "source": [
    "**<font color=purple>We still see that there are only 97 unique routes but 194 unique route names. Further normalization of route names needed.</font>**"
   ]
  },
  {
   "cell_type": "code",
   "execution_count": 17,
   "metadata": {},
   "outputs": [
    {
     "name": "stdout",
     "output_type": "stream",
     "text": [
      "There are 97 unique values in the route column\n",
      "\n",
      "There are 194 unique values in the route_name column\n",
      "\n",
      "There are 113 unique values in the early_departure column\n",
      "\n",
      "There are 985 unique values in the on_time column\n",
      "\n",
      "There are 365 unique values in the late_arrival column\n",
      "\n",
      "There are 279 unique values in the missing column\n",
      "\n",
      "There are 1144 unique values in the time_point_count column\n",
      "\n",
      "There are 4604 unique values in the otp column\n",
      "\n",
      "There are 17711 unique values in the average_dwell_time column\n",
      "\n",
      "There are 12 unique values in the month column\n",
      "\n",
      "There are 2 unique values in the year column\n",
      "\n",
      "There are 7 unique values in the day column\n",
      "\n"
     ]
    }
   ],
   "source": [
    "for column in time:\n",
    "    print(f'There are {time[column].nunique()} unique values in the {column} column')\n",
    "    print()"
   ]
  },
  {
   "cell_type": "markdown",
   "metadata": {},
   "source": [
    "### Missing Scheduled Time Points"
   ]
  },
  {
   "cell_type": "code",
   "execution_count": 18,
   "metadata": {},
   "outputs": [],
   "source": [
    "# Create a df that does not have the datatime index\n",
    "\n",
    "df = time.reset_index()"
   ]
  },
  {
   "cell_type": "code",
   "execution_count": 19,
   "metadata": {},
   "outputs": [
    {
     "data": {
      "text/plain": [
       "21060    493\n",
       "21004    368\n",
       "20876    367\n",
       "33188    360\n",
       "855      344\n",
       "11408    338\n",
       "2831     332\n",
       "3463     330\n",
       "3555     328\n",
       "1383     323\n",
       "3819     322\n",
       "753      319\n",
       "4003     316\n",
       "33281    314\n",
       "4187     313\n",
       "2199     303\n",
       "11628    302\n",
       "21152    300\n",
       "3911     298\n",
       "10139    297\n",
       "Name: missing, dtype: int64"
      ]
     },
     "execution_count": 19,
     "metadata": {},
     "output_type": "execute_result"
    }
   ],
   "source": [
    "df.missing.nlargest(n=20)"
   ]
  },
  {
   "cell_type": "code",
   "execution_count": 20,
   "metadata": {},
   "outputs": [
    {
     "data": {
      "text/plain": [
       "date                  2018-08-22 00:00:00\n",
       "route                                 520\n",
       "route_name                      zarzamora\n",
       "early_departure                        23\n",
       "on_time                               638\n",
       "late_arrival                          144\n",
       "missing                               493\n",
       "time_point_count                      805\n",
       "otp                                 79.25\n",
       "average_dwell_time                 129.04\n",
       "month                                   8\n",
       "year                                 2018\n",
       "day                             Wednesday\n",
       "Name: 21060, dtype: object"
      ]
     },
     "execution_count": 20,
     "metadata": {},
     "output_type": "execute_result"
    }
   ],
   "source": [
    "df.iloc[21060]"
   ]
  },
  {
   "cell_type": "code",
   "execution_count": 21,
   "metadata": {},
   "outputs": [
    {
     "data": {
      "text/plain": [
       "date                  2018-08-22 00:00:00\n",
       "route                                   3\n",
       "route_name                 san pedro skip\n",
       "early_departure                        11\n",
       "on_time                               383\n",
       "late_arrival                          144\n",
       "missing                               368\n",
       "time_point_count                      538\n",
       "otp                                 71.19\n",
       "average_dwell_time                 142.02\n",
       "month                                   8\n",
       "year                                 2018\n",
       "day                             Wednesday\n",
       "Name: 21004, dtype: object"
      ]
     },
     "execution_count": 21,
     "metadata": {},
     "output_type": "execute_result"
    }
   ],
   "source": [
    "df.iloc[21004]"
   ]
  },
  {
   "cell_type": "code",
   "execution_count": 22,
   "metadata": {},
   "outputs": [
    {
     "data": {
      "text/plain": [
       "date                  2018-08-20 00:00:00\n",
       "route                                 520\n",
       "route_name                      zarzamora\n",
       "early_departure                        43\n",
       "on_time                               703\n",
       "late_arrival                          185\n",
       "missing                               367\n",
       "time_point_count                      931\n",
       "otp                                 75.51\n",
       "average_dwell_time                 189.25\n",
       "month                                   8\n",
       "year                                 2018\n",
       "day                                Monday\n",
       "Name: 20876, dtype: object"
      ]
     },
     "execution_count": 22,
     "metadata": {},
     "output_type": "execute_result"
    }
   ],
   "source": [
    "df.iloc[20876]"
   ]
  },
  {
   "cell_type": "code",
   "execution_count": 23,
   "metadata": {},
   "outputs": [
    {
     "data": {
      "text/plain": [
       "date                  2019-01-07 00:00:00\n",
       "route                                 103\n",
       "route_name              primo / zarzamora\n",
       "early_departure                        16\n",
       "on_time                               461\n",
       "late_arrival                           23\n",
       "missing                               360\n",
       "time_point_count                      500\n",
       "otp                                  92.2\n",
       "average_dwell_time                 247.66\n",
       "month                                   1\n",
       "year                                 2019\n",
       "day                                Monday\n",
       "Name: 33188, dtype: object"
      ]
     },
     "execution_count": 23,
     "metadata": {},
     "output_type": "execute_result"
    }
   ],
   "source": [
    "df.iloc[33188]"
   ]
  },
  {
   "cell_type": "code",
   "execution_count": 24,
   "metadata": {},
   "outputs": [
    {
     "data": {
      "text/plain": [
       "date                  2018-01-10 00:00:00\n",
       "route                                 534\n",
       "route_name                       wurzbach\n",
       "early_departure                        14\n",
       "on_time                               209\n",
       "late_arrival                           91\n",
       "missing                               344\n",
       "time_point_count                      314\n",
       "otp                                 66.56\n",
       "average_dwell_time                 118.82\n",
       "month                                   1\n",
       "year                                 2018\n",
       "day                             Wednesday\n",
       "Name: 855, dtype: object"
      ]
     },
     "execution_count": 24,
     "metadata": {},
     "output_type": "execute_result"
    }
   ],
   "source": [
    "df.iloc[855]"
   ]
  },
  {
   "cell_type": "markdown",
   "metadata": {},
   "source": [
    "### On Time Percentage\n",
    "\n",
    "Peek at routes with best and worst ontime percentages."
   ]
  },
  {
   "cell_type": "code",
   "execution_count": 25,
   "metadata": {},
   "outputs": [
    {
     "data": {
      "text/plain": [
       "ingram/mainland                       141\n",
       "nacogdoches                           113\n",
       "knollcreek                             69\n",
       "kellac / heritage park                 55\n",
       "valleyhi / kellac                      51\n",
       "kellac / indian creek                  45\n",
       "ingram/nwvistas                        42\n",
       "kellac/westlakes                       36\n",
       "kellac / rainbow hills                 36\n",
       "basse                                  35\n",
       "sky harbour/kellac                     33\n",
       "heritage nw / kellac                   32\n",
       "jbsa express ft. sam houston / uso     29\n",
       "ih35 express                           29\n",
       "ih35 s express                         28\n",
       "north star / harry wurzbach            28\n",
       "medical center/alamo ranch             24\n",
       "fredericksburg rd                      23\n",
       "hays frequent                          20\n",
       "medical center / ingram                18\n",
       "Name: route_name, dtype: int64"
      ]
     },
     "execution_count": 25,
     "metadata": {},
     "output_type": "execute_result"
    }
   ],
   "source": [
    "#Routes making it to stops at scheduled times more than 95% of the time.\n",
    "\n",
    "time[time.otp > 95].route_name.value_counts().head(20)"
   ]
  },
  {
   "cell_type": "code",
   "execution_count": 26,
   "metadata": {},
   "outputs": [
    {
     "data": {
      "text/plain": [
       "stone oak/downtown express      31\n",
       "nwvistas/university p&r          5\n",
       "deco district / castle hills     5\n",
       "viva missions                    3\n",
       "ingram/westlakes                 1\n",
       "randolph/kirby/sunrise           1\n",
       "laredo                           1\n",
       "looper skip                      1\n",
       "valley forge                     1\n",
       "us281 express                    1\n",
       "stoneoak/downtown express        1\n",
       "ingram/nwvistas                  1\n",
       "industry park                    1\n",
       "ih35 s express                   1\n",
       "sunrise/summerfest               1\n",
       "Name: route_name, dtype: int64"
      ]
     },
     "execution_count": 26,
     "metadata": {},
     "output_type": "execute_result"
    }
   ],
   "source": [
    "# Routes with issues making it to stops at scheduled times, less than 35% of the time.\n",
    "\n",
    "time[time.otp < 35].route_name.value_counts()"
   ]
  },
  {
   "cell_type": "markdown",
   "metadata": {},
   "source": [
    "### There are 4 Primo routes in the dataset? Man, Fredricksburg primo has 3 different names for Primo route!\n",
    "\n",
    "**<font color=purple>It's becoming obvious that route_name needs to be normalized, so the routes match the names. There are different names in the dataset for the same routes.</font>**"
   ]
  },
  {
   "cell_type": "code",
   "execution_count": 27,
   "metadata": {},
   "outputs": [
    {
     "data": {
      "text/plain": [
       "primo fred rd                  346\n",
       "primo / zarzamora               24\n",
       "primo / fredericksburg road     24\n",
       "primo fredricksburg rd.         22\n",
       "primo leon valley/utsa          22\n",
       "Name: route_name, dtype: int64"
      ]
     },
     "execution_count": 27,
     "metadata": {},
     "output_type": "execute_result"
    }
   ],
   "source": [
    "time[time.route_name.str.contains('primo')].route_name.value_counts()"
   ]
  },
  {
   "cell_type": "markdown",
   "metadata": {},
   "source": [
    "### Groupby `route`"
   ]
  },
  {
   "cell_type": "code",
   "execution_count": 28,
   "metadata": {},
   "outputs": [
    {
     "data": {
      "text/html": [
       "<div>\n",
       "<style scoped>\n",
       "    .dataframe tbody tr th:only-of-type {\n",
       "        vertical-align: middle;\n",
       "    }\n",
       "\n",
       "    .dataframe tbody tr th {\n",
       "        vertical-align: top;\n",
       "    }\n",
       "\n",
       "    .dataframe thead th {\n",
       "        text-align: right;\n",
       "    }\n",
       "</style>\n",
       "<table border=\"1\" class=\"dataframe\">\n",
       "  <thead>\n",
       "    <tr style=\"text-align: right;\">\n",
       "      <th></th>\n",
       "      <th>date</th>\n",
       "      <th>route</th>\n",
       "      <th>route_name</th>\n",
       "      <th>early_departure</th>\n",
       "      <th>on_time</th>\n",
       "      <th>late_arrival</th>\n",
       "      <th>missing</th>\n",
       "      <th>time_point_count</th>\n",
       "      <th>otp</th>\n",
       "      <th>average_dwell_time</th>\n",
       "      <th>month</th>\n",
       "      <th>year</th>\n",
       "      <th>day</th>\n",
       "    </tr>\n",
       "  </thead>\n",
       "  <tbody>\n",
       "    <tr>\n",
       "      <th>0</th>\n",
       "      <td>2018-01-01</td>\n",
       "      <td>2</td>\n",
       "      <td>blanco</td>\n",
       "      <td>23</td>\n",
       "      <td>373</td>\n",
       "      <td>65</td>\n",
       "      <td>59</td>\n",
       "      <td>461</td>\n",
       "      <td>80.91</td>\n",
       "      <td>112.4</td>\n",
       "      <td>1</td>\n",
       "      <td>2018</td>\n",
       "      <td>Monday</td>\n",
       "    </tr>\n",
       "  </tbody>\n",
       "</table>\n",
       "</div>"
      ],
      "text/plain": [
       "        date  route route_name  early_departure  on_time  late_arrival  \\\n",
       "0 2018-01-01      2     blanco               23      373            65   \n",
       "\n",
       "   missing  time_point_count    otp  average_dwell_time  month  year     day  \n",
       "0       59               461  80.91               112.4      1  2018  Monday  "
      ]
     },
     "execution_count": 28,
     "metadata": {},
     "output_type": "execute_result"
    }
   ],
   "source": [
    "df.head(1)"
   ]
  },
  {
   "cell_type": "code",
   "execution_count": 29,
   "metadata": {},
   "outputs": [
    {
     "data": {
      "text/html": [
       "<div>\n",
       "<style scoped>\n",
       "    .dataframe tbody tr th:only-of-type {\n",
       "        vertical-align: middle;\n",
       "    }\n",
       "\n",
       "    .dataframe tbody tr th {\n",
       "        vertical-align: top;\n",
       "    }\n",
       "\n",
       "    .dataframe thead tr th {\n",
       "        text-align: left;\n",
       "    }\n",
       "\n",
       "    .dataframe thead tr:last-of-type th {\n",
       "        text-align: right;\n",
       "    }\n",
       "</style>\n",
       "<table border=\"1\" class=\"dataframe\">\n",
       "  <thead>\n",
       "    <tr>\n",
       "      <th></th>\n",
       "      <th colspan=\"4\" halign=\"left\">early_departure</th>\n",
       "      <th colspan=\"4\" halign=\"left\">late_arrival</th>\n",
       "      <th colspan=\"4\" halign=\"left\">missing</th>\n",
       "      <th colspan=\"4\" halign=\"left\">otp</th>\n",
       "    </tr>\n",
       "    <tr>\n",
       "      <th></th>\n",
       "      <th>min</th>\n",
       "      <th>max</th>\n",
       "      <th>mean</th>\n",
       "      <th>median</th>\n",
       "      <th>min</th>\n",
       "      <th>max</th>\n",
       "      <th>mean</th>\n",
       "      <th>median</th>\n",
       "      <th>min</th>\n",
       "      <th>max</th>\n",
       "      <th>mean</th>\n",
       "      <th>median</th>\n",
       "      <th>min</th>\n",
       "      <th>max</th>\n",
       "      <th>mean</th>\n",
       "      <th>median</th>\n",
       "    </tr>\n",
       "    <tr>\n",
       "      <th>route</th>\n",
       "      <th></th>\n",
       "      <th></th>\n",
       "      <th></th>\n",
       "      <th></th>\n",
       "      <th></th>\n",
       "      <th></th>\n",
       "      <th></th>\n",
       "      <th></th>\n",
       "      <th></th>\n",
       "      <th></th>\n",
       "      <th></th>\n",
       "      <th></th>\n",
       "      <th></th>\n",
       "      <th></th>\n",
       "      <th></th>\n",
       "      <th></th>\n",
       "    </tr>\n",
       "  </thead>\n",
       "  <tbody>\n",
       "    <tr>\n",
       "      <th>2</th>\n",
       "      <td>10</td>\n",
       "      <td>99</td>\n",
       "      <td>52.910714</td>\n",
       "      <td>57.0</td>\n",
       "      <td>24</td>\n",
       "      <td>287</td>\n",
       "      <td>110.522959</td>\n",
       "      <td>107.5</td>\n",
       "      <td>23</td>\n",
       "      <td>271</td>\n",
       "      <td>80.260204</td>\n",
       "      <td>72.5</td>\n",
       "      <td>42.42</td>\n",
       "      <td>88.33</td>\n",
       "      <td>75.455281</td>\n",
       "      <td>76.895</td>\n",
       "    </tr>\n",
       "    <tr>\n",
       "      <th>3</th>\n",
       "      <td>0</td>\n",
       "      <td>49</td>\n",
       "      <td>8.997449</td>\n",
       "      <td>7.0</td>\n",
       "      <td>7</td>\n",
       "      <td>450</td>\n",
       "      <td>127.252551</td>\n",
       "      <td>99.5</td>\n",
       "      <td>2</td>\n",
       "      <td>368</td>\n",
       "      <td>58.635204</td>\n",
       "      <td>25.0</td>\n",
       "      <td>48.18</td>\n",
       "      <td>95.85</td>\n",
       "      <td>79.853724</td>\n",
       "      <td>81.755</td>\n",
       "    </tr>\n",
       "    <tr>\n",
       "      <th>4</th>\n",
       "      <td>1</td>\n",
       "      <td>48</td>\n",
       "      <td>20.242347</td>\n",
       "      <td>21.0</td>\n",
       "      <td>5</td>\n",
       "      <td>306</td>\n",
       "      <td>127.984694</td>\n",
       "      <td>123.5</td>\n",
       "      <td>1</td>\n",
       "      <td>232</td>\n",
       "      <td>90.066327</td>\n",
       "      <td>109.0</td>\n",
       "      <td>47.41</td>\n",
       "      <td>96.68</td>\n",
       "      <td>72.630000</td>\n",
       "      <td>73.380</td>\n",
       "    </tr>\n",
       "    <tr>\n",
       "      <th>5</th>\n",
       "      <td>0</td>\n",
       "      <td>31</td>\n",
       "      <td>9.428571</td>\n",
       "      <td>9.0</td>\n",
       "      <td>9</td>\n",
       "      <td>215</td>\n",
       "      <td>61.864796</td>\n",
       "      <td>59.0</td>\n",
       "      <td>0</td>\n",
       "      <td>121</td>\n",
       "      <td>15.357143</td>\n",
       "      <td>10.0</td>\n",
       "      <td>46.73</td>\n",
       "      <td>95.88</td>\n",
       "      <td>81.356148</td>\n",
       "      <td>82.980</td>\n",
       "    </tr>\n",
       "    <tr>\n",
       "      <th>6</th>\n",
       "      <td>0</td>\n",
       "      <td>23</td>\n",
       "      <td>3.567164</td>\n",
       "      <td>2.0</td>\n",
       "      <td>0</td>\n",
       "      <td>63</td>\n",
       "      <td>19.216418</td>\n",
       "      <td>17.5</td>\n",
       "      <td>1</td>\n",
       "      <td>39</td>\n",
       "      <td>12.223881</td>\n",
       "      <td>12.0</td>\n",
       "      <td>22.99</td>\n",
       "      <td>96.59</td>\n",
       "      <td>71.969851</td>\n",
       "      <td>73.295</td>\n",
       "    </tr>\n",
       "    <tr>\n",
       "      <th>...</th>\n",
       "      <td>...</td>\n",
       "      <td>...</td>\n",
       "      <td>...</td>\n",
       "      <td>...</td>\n",
       "      <td>...</td>\n",
       "      <td>...</td>\n",
       "      <td>...</td>\n",
       "      <td>...</td>\n",
       "      <td>...</td>\n",
       "      <td>...</td>\n",
       "      <td>...</td>\n",
       "      <td>...</td>\n",
       "      <td>...</td>\n",
       "      <td>...</td>\n",
       "      <td>...</td>\n",
       "      <td>...</td>\n",
       "    </tr>\n",
       "    <tr>\n",
       "      <th>647</th>\n",
       "      <td>0</td>\n",
       "      <td>30</td>\n",
       "      <td>6.716837</td>\n",
       "      <td>6.0</td>\n",
       "      <td>0</td>\n",
       "      <td>52</td>\n",
       "      <td>12.459184</td>\n",
       "      <td>10.0</td>\n",
       "      <td>0</td>\n",
       "      <td>82</td>\n",
       "      <td>7.198980</td>\n",
       "      <td>5.0</td>\n",
       "      <td>59.44</td>\n",
       "      <td>98.48</td>\n",
       "      <td>86.415969</td>\n",
       "      <td>88.000</td>\n",
       "    </tr>\n",
       "    <tr>\n",
       "      <th>648</th>\n",
       "      <td>0</td>\n",
       "      <td>48</td>\n",
       "      <td>9.755102</td>\n",
       "      <td>8.0</td>\n",
       "      <td>0</td>\n",
       "      <td>81</td>\n",
       "      <td>18.596939</td>\n",
       "      <td>16.0</td>\n",
       "      <td>1</td>\n",
       "      <td>122</td>\n",
       "      <td>11.400510</td>\n",
       "      <td>7.0</td>\n",
       "      <td>58.11</td>\n",
       "      <td>97.31</td>\n",
       "      <td>86.689694</td>\n",
       "      <td>87.755</td>\n",
       "    </tr>\n",
       "    <tr>\n",
       "      <th>651</th>\n",
       "      <td>0</td>\n",
       "      <td>17</td>\n",
       "      <td>3.994898</td>\n",
       "      <td>3.0</td>\n",
       "      <td>0</td>\n",
       "      <td>68</td>\n",
       "      <td>20.622449</td>\n",
       "      <td>18.0</td>\n",
       "      <td>0</td>\n",
       "      <td>57</td>\n",
       "      <td>7.173469</td>\n",
       "      <td>4.0</td>\n",
       "      <td>20.00</td>\n",
       "      <td>96.88</td>\n",
       "      <td>79.929133</td>\n",
       "      <td>84.755</td>\n",
       "    </tr>\n",
       "    <tr>\n",
       "      <th>660</th>\n",
       "      <td>0</td>\n",
       "      <td>28</td>\n",
       "      <td>5.551515</td>\n",
       "      <td>4.5</td>\n",
       "      <td>1</td>\n",
       "      <td>108</td>\n",
       "      <td>46.321212</td>\n",
       "      <td>46.0</td>\n",
       "      <td>11</td>\n",
       "      <td>85</td>\n",
       "      <td>28.490909</td>\n",
       "      <td>25.0</td>\n",
       "      <td>29.03</td>\n",
       "      <td>95.89</td>\n",
       "      <td>66.752697</td>\n",
       "      <td>67.350</td>\n",
       "    </tr>\n",
       "    <tr>\n",
       "      <th>672</th>\n",
       "      <td>2</td>\n",
       "      <td>8</td>\n",
       "      <td>4.958333</td>\n",
       "      <td>5.0</td>\n",
       "      <td>0</td>\n",
       "      <td>28</td>\n",
       "      <td>8.333333</td>\n",
       "      <td>4.0</td>\n",
       "      <td>2</td>\n",
       "      <td>61</td>\n",
       "      <td>13.666667</td>\n",
       "      <td>11.5</td>\n",
       "      <td>82.84</td>\n",
       "      <td>98.27</td>\n",
       "      <td>93.220000</td>\n",
       "      <td>95.000</td>\n",
       "    </tr>\n",
       "  </tbody>\n",
       "</table>\n",
       "<p>97 rows × 16 columns</p>\n",
       "</div>"
      ],
      "text/plain": [
       "      early_departure                       late_arrival                   \\\n",
       "                  min max       mean median          min  max        mean   \n",
       "route                                                                       \n",
       "2                  10  99  52.910714   57.0           24  287  110.522959   \n",
       "3                   0  49   8.997449    7.0            7  450  127.252551   \n",
       "4                   1  48  20.242347   21.0            5  306  127.984694   \n",
       "5                   0  31   9.428571    9.0            9  215   61.864796   \n",
       "6                   0  23   3.567164    2.0            0   63   19.216418   \n",
       "...               ...  ..        ...    ...          ...  ...         ...   \n",
       "647                 0  30   6.716837    6.0            0   52   12.459184   \n",
       "648                 0  48   9.755102    8.0            0   81   18.596939   \n",
       "651                 0  17   3.994898    3.0            0   68   20.622449   \n",
       "660                 0  28   5.551515    4.5            1  108   46.321212   \n",
       "672                 2   8   4.958333    5.0            0   28    8.333333   \n",
       "\n",
       "             missing                           otp                            \n",
       "      median     min  max       mean median    min    max       mean  median  \n",
       "route                                                                         \n",
       "2      107.5      23  271  80.260204   72.5  42.42  88.33  75.455281  76.895  \n",
       "3       99.5       2  368  58.635204   25.0  48.18  95.85  79.853724  81.755  \n",
       "4      123.5       1  232  90.066327  109.0  47.41  96.68  72.630000  73.380  \n",
       "5       59.0       0  121  15.357143   10.0  46.73  95.88  81.356148  82.980  \n",
       "6       17.5       1   39  12.223881   12.0  22.99  96.59  71.969851  73.295  \n",
       "...      ...     ...  ...        ...    ...    ...    ...        ...     ...  \n",
       "647     10.0       0   82   7.198980    5.0  59.44  98.48  86.415969  88.000  \n",
       "648     16.0       1  122  11.400510    7.0  58.11  97.31  86.689694  87.755  \n",
       "651     18.0       0   57   7.173469    4.0  20.00  96.88  79.929133  84.755  \n",
       "660     46.0      11   85  28.490909   25.0  29.03  95.89  66.752697  67.350  \n",
       "672      4.0       2   61  13.666667   11.5  82.84  98.27  93.220000  95.000  \n",
       "\n",
       "[97 rows x 16 columns]"
      ]
     },
     "execution_count": 29,
     "metadata": {},
     "output_type": "execute_result"
    }
   ],
   "source": [
    "# Grouby route\n",
    "\n",
    "df.groupby('route')[['early_departure', 'late_arrival', 'missing', 'otp']].agg(['min', 'max', 'mean', 'median'])"
   ]
  },
  {
   "cell_type": "code",
   "execution_count": 30,
   "metadata": {},
   "outputs": [
    {
     "data": {
      "text/html": [
       "<div>\n",
       "<style scoped>\n",
       "    .dataframe tbody tr th:only-of-type {\n",
       "        vertical-align: middle;\n",
       "    }\n",
       "\n",
       "    .dataframe tbody tr th {\n",
       "        vertical-align: top;\n",
       "    }\n",
       "\n",
       "    .dataframe thead th {\n",
       "        text-align: right;\n",
       "    }\n",
       "</style>\n",
       "<table border=\"1\" class=\"dataframe\">\n",
       "  <thead>\n",
       "    <tr style=\"text-align: right;\">\n",
       "      <th></th>\n",
       "      <th>otp</th>\n",
       "    </tr>\n",
       "    <tr>\n",
       "      <th>route</th>\n",
       "      <th></th>\n",
       "    </tr>\n",
       "  </thead>\n",
       "  <tbody>\n",
       "    <tr>\n",
       "      <th>672</th>\n",
       "      <td>95.000</td>\n",
       "    </tr>\n",
       "    <tr>\n",
       "      <th>609</th>\n",
       "      <td>94.030</td>\n",
       "    </tr>\n",
       "    <tr>\n",
       "      <th>103</th>\n",
       "      <td>92.230</td>\n",
       "    </tr>\n",
       "    <tr>\n",
       "      <th>16</th>\n",
       "      <td>91.455</td>\n",
       "    </tr>\n",
       "    <tr>\n",
       "      <th>642</th>\n",
       "      <td>91.175</td>\n",
       "    </tr>\n",
       "    <tr>\n",
       "      <th>615</th>\n",
       "      <td>90.745</td>\n",
       "    </tr>\n",
       "    <tr>\n",
       "      <th>611</th>\n",
       "      <td>90.560</td>\n",
       "    </tr>\n",
       "    <tr>\n",
       "      <th>616</th>\n",
       "      <td>89.665</td>\n",
       "    </tr>\n",
       "    <tr>\n",
       "      <th>617</th>\n",
       "      <td>89.650</td>\n",
       "    </tr>\n",
       "    <tr>\n",
       "      <th>612</th>\n",
       "      <td>89.380</td>\n",
       "    </tr>\n",
       "    <tr>\n",
       "      <th>606</th>\n",
       "      <td>89.095</td>\n",
       "    </tr>\n",
       "    <tr>\n",
       "      <th>619</th>\n",
       "      <td>88.705</td>\n",
       "    </tr>\n",
       "    <tr>\n",
       "      <th>641</th>\n",
       "      <td>88.485</td>\n",
       "    </tr>\n",
       "    <tr>\n",
       "      <th>502</th>\n",
       "      <td>88.285</td>\n",
       "    </tr>\n",
       "    <tr>\n",
       "      <th>522</th>\n",
       "      <td>88.250</td>\n",
       "    </tr>\n",
       "  </tbody>\n",
       "</table>\n",
       "</div>"
      ],
      "text/plain": [
       "          otp\n",
       "route        \n",
       "672    95.000\n",
       "609    94.030\n",
       "103    92.230\n",
       "16     91.455\n",
       "642    91.175\n",
       "615    90.745\n",
       "611    90.560\n",
       "616    89.665\n",
       "617    89.650\n",
       "612    89.380\n",
       "606    89.095\n",
       "619    88.705\n",
       "641    88.485\n",
       "502    88.285\n",
       "522    88.250"
      ]
     },
     "execution_count": 30,
     "metadata": {},
     "output_type": "execute_result"
    }
   ],
   "source": [
    "# Top 15 BEST median on time percentage\n",
    "\n",
    "df.groupby('route')[['otp']].median().sort_values('otp', ascending=False).head(15)\n"
   ]
  },
  {
   "cell_type": "code",
   "execution_count": 31,
   "metadata": {},
   "outputs": [
    {
     "data": {
      "text/html": [
       "<div>\n",
       "<style scoped>\n",
       "    .dataframe tbody tr th:only-of-type {\n",
       "        vertical-align: middle;\n",
       "    }\n",
       "\n",
       "    .dataframe tbody tr th {\n",
       "        vertical-align: top;\n",
       "    }\n",
       "\n",
       "    .dataframe thead th {\n",
       "        text-align: right;\n",
       "    }\n",
       "</style>\n",
       "<table border=\"1\" class=\"dataframe\">\n",
       "  <thead>\n",
       "    <tr style=\"text-align: right;\">\n",
       "      <th></th>\n",
       "      <th>date</th>\n",
       "      <th>route</th>\n",
       "      <th>route_name</th>\n",
       "      <th>early_departure</th>\n",
       "      <th>on_time</th>\n",
       "      <th>late_arrival</th>\n",
       "      <th>missing</th>\n",
       "      <th>time_point_count</th>\n",
       "      <th>otp</th>\n",
       "      <th>average_dwell_time</th>\n",
       "      <th>month</th>\n",
       "      <th>year</th>\n",
       "      <th>day</th>\n",
       "    </tr>\n",
       "  </thead>\n",
       "  <tbody>\n",
       "    <tr>\n",
       "      <th>33229</th>\n",
       "      <td>2019-01-07</td>\n",
       "      <td>672</td>\n",
       "      <td>tamusa / madla transit center</td>\n",
       "      <td>6</td>\n",
       "      <td>210</td>\n",
       "      <td>1</td>\n",
       "      <td>14</td>\n",
       "      <td>217</td>\n",
       "      <td>96.77</td>\n",
       "      <td>72.52</td>\n",
       "      <td>1</td>\n",
       "      <td>2019</td>\n",
       "      <td>Monday</td>\n",
       "    </tr>\n",
       "  </tbody>\n",
       "</table>\n",
       "</div>"
      ],
      "text/plain": [
       "            date  route                     route_name  early_departure  \\\n",
       "33229 2019-01-07    672  tamusa / madla transit center                6   \n",
       "\n",
       "       on_time  late_arrival  missing  time_point_count    otp  \\\n",
       "33229      210             1       14               217  96.77   \n",
       "\n",
       "       average_dwell_time  month  year     day  \n",
       "33229               72.52      1  2019  Monday  "
      ]
     },
     "execution_count": 31,
     "metadata": {},
     "output_type": "execute_result"
    }
   ],
   "source": [
    "# Route with best median on time percentage\n",
    "\n",
    "df[df.route == 672].head(1)"
   ]
  },
  {
   "cell_type": "code",
   "execution_count": 32,
   "metadata": {},
   "outputs": [
    {
     "data": {
      "text/html": [
       "<div>\n",
       "<style scoped>\n",
       "    .dataframe tbody tr th:only-of-type {\n",
       "        vertical-align: middle;\n",
       "    }\n",
       "\n",
       "    .dataframe tbody tr th {\n",
       "        vertical-align: top;\n",
       "    }\n",
       "\n",
       "    .dataframe thead th {\n",
       "        text-align: right;\n",
       "    }\n",
       "</style>\n",
       "<table border=\"1\" class=\"dataframe\">\n",
       "  <thead>\n",
       "    <tr style=\"text-align: right;\">\n",
       "      <th></th>\n",
       "      <th>otp</th>\n",
       "    </tr>\n",
       "    <tr>\n",
       "      <th>route</th>\n",
       "      <th></th>\n",
       "    </tr>\n",
       "  </thead>\n",
       "  <tbody>\n",
       "    <tr>\n",
       "      <th>7</th>\n",
       "      <td>56.720</td>\n",
       "    </tr>\n",
       "    <tr>\n",
       "      <th>97</th>\n",
       "      <td>63.435</td>\n",
       "    </tr>\n",
       "    <tr>\n",
       "      <th>660</th>\n",
       "      <td>67.350</td>\n",
       "    </tr>\n",
       "    <tr>\n",
       "      <th>64</th>\n",
       "      <td>67.900</td>\n",
       "    </tr>\n",
       "    <tr>\n",
       "      <th>54</th>\n",
       "      <td>70.905</td>\n",
       "    </tr>\n",
       "    <tr>\n",
       "      <th>76</th>\n",
       "      <td>71.535</td>\n",
       "    </tr>\n",
       "    <tr>\n",
       "      <th>79</th>\n",
       "      <td>71.960</td>\n",
       "    </tr>\n",
       "    <tr>\n",
       "      <th>25</th>\n",
       "      <td>72.520</td>\n",
       "    </tr>\n",
       "    <tr>\n",
       "      <th>6</th>\n",
       "      <td>73.295</td>\n",
       "    </tr>\n",
       "    <tr>\n",
       "      <th>4</th>\n",
       "      <td>73.380</td>\n",
       "    </tr>\n",
       "    <tr>\n",
       "      <th>88</th>\n",
       "      <td>73.470</td>\n",
       "    </tr>\n",
       "    <tr>\n",
       "      <th>42</th>\n",
       "      <td>73.660</td>\n",
       "    </tr>\n",
       "    <tr>\n",
       "      <th>67</th>\n",
       "      <td>73.695</td>\n",
       "    </tr>\n",
       "    <tr>\n",
       "      <th>8</th>\n",
       "      <td>73.945</td>\n",
       "    </tr>\n",
       "    <tr>\n",
       "      <th>520</th>\n",
       "      <td>74.360</td>\n",
       "    </tr>\n",
       "  </tbody>\n",
       "</table>\n",
       "</div>"
      ],
      "text/plain": [
       "          otp\n",
       "route        \n",
       "7      56.720\n",
       "97     63.435\n",
       "660    67.350\n",
       "64     67.900\n",
       "54     70.905\n",
       "76     71.535\n",
       "79     71.960\n",
       "25     72.520\n",
       "6      73.295\n",
       "4      73.380\n",
       "88     73.470\n",
       "42     73.660\n",
       "67     73.695\n",
       "8      73.945\n",
       "520    74.360"
      ]
     },
     "execution_count": 32,
     "metadata": {},
     "output_type": "execute_result"
    }
   ],
   "source": [
    "# Top 15 WORST median on time percentage\n",
    "\n",
    "df.groupby('route')[['otp']].median().sort_values('otp').head(15)\n"
   ]
  },
  {
   "cell_type": "code",
   "execution_count": 33,
   "metadata": {},
   "outputs": [
    {
     "data": {
      "text/html": [
       "<div>\n",
       "<style scoped>\n",
       "    .dataframe tbody tr th:only-of-type {\n",
       "        vertical-align: middle;\n",
       "    }\n",
       "\n",
       "    .dataframe tbody tr th {\n",
       "        vertical-align: top;\n",
       "    }\n",
       "\n",
       "    .dataframe thead th {\n",
       "        text-align: right;\n",
       "    }\n",
       "</style>\n",
       "<table border=\"1\" class=\"dataframe\">\n",
       "  <thead>\n",
       "    <tr style=\"text-align: right;\">\n",
       "      <th></th>\n",
       "      <th>date</th>\n",
       "      <th>route</th>\n",
       "      <th>route_name</th>\n",
       "      <th>early_departure</th>\n",
       "      <th>on_time</th>\n",
       "      <th>late_arrival</th>\n",
       "      <th>missing</th>\n",
       "      <th>time_point_count</th>\n",
       "      <th>otp</th>\n",
       "      <th>average_dwell_time</th>\n",
       "      <th>month</th>\n",
       "      <th>year</th>\n",
       "      <th>day</th>\n",
       "    </tr>\n",
       "  </thead>\n",
       "  <tbody>\n",
       "    <tr>\n",
       "      <th>616</th>\n",
       "      <td>2018-01-08</td>\n",
       "      <td>7</td>\n",
       "      <td>stoneoak/downtown express</td>\n",
       "      <td>5</td>\n",
       "      <td>21</td>\n",
       "      <td>6</td>\n",
       "      <td>35</td>\n",
       "      <td>32</td>\n",
       "      <td>65.63</td>\n",
       "      <td>67.99</td>\n",
       "      <td>1</td>\n",
       "      <td>2018</td>\n",
       "      <td>Monday</td>\n",
       "    </tr>\n",
       "  </tbody>\n",
       "</table>\n",
       "</div>"
      ],
      "text/plain": [
       "          date  route                 route_name  early_departure  on_time  \\\n",
       "616 2018-01-08      7  stoneoak/downtown express                5       21   \n",
       "\n",
       "     late_arrival  missing  time_point_count    otp  average_dwell_time  \\\n",
       "616             6       35                32  65.63               67.99   \n",
       "\n",
       "     month  year     day  \n",
       "616      1  2018  Monday  "
      ]
     },
     "execution_count": 33,
     "metadata": {},
     "output_type": "execute_result"
    }
   ],
   "source": [
    "# Route with worst on time percentage\n",
    "\n",
    "df[df.route == 7].head(1)"
   ]
  },
  {
   "cell_type": "code",
   "execution_count": 34,
   "metadata": {},
   "outputs": [
    {
     "data": {
      "text/html": [
       "<div>\n",
       "<style scoped>\n",
       "    .dataframe tbody tr th:only-of-type {\n",
       "        vertical-align: middle;\n",
       "    }\n",
       "\n",
       "    .dataframe tbody tr th {\n",
       "        vertical-align: top;\n",
       "    }\n",
       "\n",
       "    .dataframe thead th {\n",
       "        text-align: right;\n",
       "    }\n",
       "</style>\n",
       "<table border=\"1\" class=\"dataframe\">\n",
       "  <thead>\n",
       "    <tr style=\"text-align: right;\">\n",
       "      <th></th>\n",
       "      <th>date</th>\n",
       "      <th>route</th>\n",
       "      <th>route_name</th>\n",
       "      <th>early_departure</th>\n",
       "      <th>on_time</th>\n",
       "      <th>late_arrival</th>\n",
       "      <th>missing</th>\n",
       "      <th>time_point_count</th>\n",
       "      <th>otp</th>\n",
       "      <th>average_dwell_time</th>\n",
       "      <th>month</th>\n",
       "      <th>year</th>\n",
       "      <th>day</th>\n",
       "    </tr>\n",
       "  </thead>\n",
       "  <tbody>\n",
       "    <tr>\n",
       "      <th>45</th>\n",
       "      <td>2018-01-01</td>\n",
       "      <td>97</td>\n",
       "      <td>west ave</td>\n",
       "      <td>6</td>\n",
       "      <td>248</td>\n",
       "      <td>42</td>\n",
       "      <td>10</td>\n",
       "      <td>296</td>\n",
       "      <td>83.78</td>\n",
       "      <td>45.43</td>\n",
       "      <td>1</td>\n",
       "      <td>2018</td>\n",
       "      <td>Monday</td>\n",
       "    </tr>\n",
       "  </tbody>\n",
       "</table>\n",
       "</div>"
      ],
      "text/plain": [
       "         date  route route_name  early_departure  on_time  late_arrival  \\\n",
       "45 2018-01-01     97   west ave                6      248            42   \n",
       "\n",
       "    missing  time_point_count    otp  average_dwell_time  month  year     day  \n",
       "45       10               296  83.78               45.43      1  2018  Monday  "
      ]
     },
     "execution_count": 34,
     "metadata": {},
     "output_type": "execute_result"
    }
   ],
   "source": [
    "# Route with second worst on time percentage\n",
    "\n",
    "df[df.route == 97].head(1)"
   ]
  },
  {
   "cell_type": "code",
   "execution_count": null,
   "metadata": {},
   "outputs": [],
   "source": []
  }
 ],
 "metadata": {
  "kernelspec": {
   "display_name": "Python 3",
   "language": "python",
   "name": "python3"
  },
  "language_info": {
   "codemirror_mode": {
    "name": "ipython",
    "version": 3
   },
   "file_extension": ".py",
   "mimetype": "text/x-python",
   "name": "python",
   "nbconvert_exporter": "python",
   "pygments_lexer": "ipython3",
   "version": "3.7.4"
  },
  "toc": {
   "base_numbering": 1,
   "nav_menu": {},
   "number_sections": true,
   "sideBar": true,
   "skip_h1_title": true,
   "title_cell": "Table of Contents",
   "title_sidebar": "Contents",
   "toc_cell": true,
   "toc_position": {},
   "toc_section_display": true,
   "toc_window_display": false
  }
 },
 "nbformat": 4,
 "nbformat_minor": 4
}
