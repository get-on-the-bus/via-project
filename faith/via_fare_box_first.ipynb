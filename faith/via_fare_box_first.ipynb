{
 "cells": [
  {
   "cell_type": "markdown",
   "metadata": {
    "toc": true
   },
   "source": [
    "<h1>Table of Contents<span class=\"tocSkip\"></span></h1>\n",
    "<div class=\"toc\"><ul class=\"toc-item\"><li><span><a href=\"#Data-Dictionary\" data-toc-modified-id=\"Data-Dictionary-1\"><span class=\"toc-item-num\">1&nbsp;&nbsp;</span>Data Dictionary</a></span></li><li><span><a href=\"#Acquire-df\" data-toc-modified-id=\"Acquire-df-2\"><span class=\"toc-item-num\">2&nbsp;&nbsp;</span>Acquire df</a></span><ul class=\"toc-item\"><li><span><a href=\"#DF-Info\" data-toc-modified-id=\"DF-Info-2.1\"><span class=\"toc-item-num\">2.1&nbsp;&nbsp;</span>DF Info</a></span></li></ul></li><li><span><a href=\"#Prepare-df\" data-toc-modified-id=\"Prepare-df-3\"><span class=\"toc-item-num\">3&nbsp;&nbsp;</span>Prepare df</a></span><ul class=\"toc-item\"><li><span><a href=\"#Rename-Columns\" data-toc-modified-id=\"Rename-Columns-3.1\"><span class=\"toc-item-num\">3.1&nbsp;&nbsp;</span>Rename Columns</a></span></li><li><span><a href=\"#Convert-date-column-to-datetime-format\" data-toc-modified-id=\"Convert-date-column-to-datetime-format-3.2\"><span class=\"toc-item-num\">3.2&nbsp;&nbsp;</span>Convert date column to datetime format</a></span></li><li><span><a href=\"#Create-Date-Part-Columns\" data-toc-modified-id=\"Create-Date-Part-Columns-3.3\"><span class=\"toc-item-num\">3.3&nbsp;&nbsp;</span>Create Date Part Columns</a></span></li><li><span><a href=\"#Unique-Values-in-Columns\" data-toc-modified-id=\"Unique-Values-in-Columns-3.4\"><span class=\"toc-item-num\">3.4&nbsp;&nbsp;</span>Unique Values in Columns</a></span></li></ul></li></ul></div>"
   ]
  },
  {
   "cell_type": "code",
   "execution_count": 1,
   "metadata": {},
   "outputs": [],
   "source": [
    "import pandas as pd\n",
    "import numpy as np\n",
    "\n",
    "import matplotlib.pyplot as plt\n",
    "import seaborn as sns\n",
    "%matplotlib inline"
   ]
  },
  {
   "cell_type": "markdown",
   "metadata": {},
   "source": [
    "## Data Dictionary\n",
    "\n",
    "| Field Name | Description |\n",
    "|:---------|--------:|\n",
    "|ServiceDateTime  | The day the vehicle is in operation|\n",
    "|Routes|Transit routes. A route is a group of trips that are displayed to riders as a single service|\n",
    "|RouteName | Name of a route |\n",
    "| CurrentRevenue | Revenue on a route |\n",
    "| TokenCount | Token count on a route|\n",
    "| TicketCount | Ticket count on a route |\n",
    "| PassCount | Pass count on a route |\n",
    "| BillCount | Bill count on a route |\n",
    "| UnclassifiedRevenue | Unclassified revenue on a route |\n",
    "| DumpCount | Cump count on a route |"
   ]
  },
  {
   "cell_type": "markdown",
   "metadata": {},
   "source": [
    "## Acquire df\n",
    "\n",
    "There was a problem reading in the original BusFareBoxActivity_2020.csv file from VIA, so I had to open it in Numbers, export the file as a new csv file, and save the new csv file over my original one provided by VIA."
   ]
  },
  {
   "cell_type": "code",
   "execution_count": 3,
   "metadata": {},
   "outputs": [
    {
     "data": {
      "text/html": [
       "<div>\n",
       "<style scoped>\n",
       "    .dataframe tbody tr th:only-of-type {\n",
       "        vertical-align: middle;\n",
       "    }\n",
       "\n",
       "    .dataframe tbody tr th {\n",
       "        vertical-align: top;\n",
       "    }\n",
       "\n",
       "    .dataframe thead th {\n",
       "        text-align: right;\n",
       "    }\n",
       "</style>\n",
       "<table border=\"1\" class=\"dataframe\">\n",
       "  <thead>\n",
       "    <tr style=\"text-align: right;\">\n",
       "      <th></th>\n",
       "      <th>ServiceDateTime</th>\n",
       "      <th>Route</th>\n",
       "      <th>RouteName</th>\n",
       "      <th>CurrentRevenue</th>\n",
       "      <th>Ridership</th>\n",
       "      <th>TokenCount</th>\n",
       "      <th>TicketCount</th>\n",
       "      <th>PassCount</th>\n",
       "      <th>BillCount</th>\n",
       "      <th>UnclassifiedRevenue</th>\n",
       "      <th>DumpCount</th>\n",
       "    </tr>\n",
       "  </thead>\n",
       "  <tbody>\n",
       "    <tr>\n",
       "      <th>0</th>\n",
       "      <td>1/1/17</td>\n",
       "      <td>2</td>\n",
       "      <td>2-BLANCO RD.</td>\n",
       "      <td>510.82</td>\n",
       "      <td>1244</td>\n",
       "      <td>0</td>\n",
       "      <td>0</td>\n",
       "      <td>588</td>\n",
       "      <td>312</td>\n",
       "      <td>20.88</td>\n",
       "      <td>116</td>\n",
       "    </tr>\n",
       "    <tr>\n",
       "      <th>1</th>\n",
       "      <td>1/1/17</td>\n",
       "      <td>3</td>\n",
       "      <td>3-SAN PEDRO</td>\n",
       "      <td>203.93</td>\n",
       "      <td>689</td>\n",
       "      <td>0</td>\n",
       "      <td>0</td>\n",
       "      <td>371</td>\n",
       "      <td>119</td>\n",
       "      <td>9.55</td>\n",
       "      <td>49</td>\n",
       "    </tr>\n",
       "    <tr>\n",
       "      <th>2</th>\n",
       "      <td>1/1/17</td>\n",
       "      <td>4</td>\n",
       "      <td>4-SAN PEDRO</td>\n",
       "      <td>356.58</td>\n",
       "      <td>1377</td>\n",
       "      <td>0</td>\n",
       "      <td>0</td>\n",
       "      <td>671</td>\n",
       "      <td>230</td>\n",
       "      <td>20.44</td>\n",
       "      <td>94</td>\n",
       "    </tr>\n",
       "    <tr>\n",
       "      <th>3</th>\n",
       "      <td>1/1/17</td>\n",
       "      <td>5</td>\n",
       "      <td>5-MC CULLOUGH</td>\n",
       "      <td>224.80</td>\n",
       "      <td>474</td>\n",
       "      <td>0</td>\n",
       "      <td>0</td>\n",
       "      <td>239</td>\n",
       "      <td>124</td>\n",
       "      <td>19.50</td>\n",
       "      <td>64</td>\n",
       "    </tr>\n",
       "    <tr>\n",
       "      <th>4</th>\n",
       "      <td>1/1/17</td>\n",
       "      <td>8</td>\n",
       "      <td>8-N.ST.MARYS</td>\n",
       "      <td>252.29</td>\n",
       "      <td>471</td>\n",
       "      <td>0</td>\n",
       "      <td>0</td>\n",
       "      <td>214</td>\n",
       "      <td>147</td>\n",
       "      <td>6.45</td>\n",
       "      <td>53</td>\n",
       "    </tr>\n",
       "  </tbody>\n",
       "</table>\n",
       "</div>"
      ],
      "text/plain": [
       "  ServiceDateTime  Route      RouteName  CurrentRevenue  Ridership  \\\n",
       "0          1/1/17      2   2-BLANCO RD.          510.82       1244   \n",
       "1          1/1/17      3    3-SAN PEDRO          203.93        689   \n",
       "2          1/1/17      4    4-SAN PEDRO          356.58       1377   \n",
       "3          1/1/17      5  5-MC CULLOUGH          224.80        474   \n",
       "4          1/1/17      8   8-N.ST.MARYS          252.29        471   \n",
       "\n",
       "   TokenCount  TicketCount  PassCount  BillCount  UnclassifiedRevenue  \\\n",
       "0           0            0        588        312                20.88   \n",
       "1           0            0        371        119                 9.55   \n",
       "2           0            0        671        230                20.44   \n",
       "3           0            0        239        124                19.50   \n",
       "4           0            0        214        147                 6.45   \n",
       "\n",
       "   DumpCount  \n",
       "0        116  \n",
       "1         49  \n",
       "2         94  \n",
       "3         64  \n",
       "4         53  "
      ]
     },
     "execution_count": 3,
     "metadata": {},
     "output_type": "execute_result"
    }
   ],
   "source": [
    "df = pd.read_csv('BusFareBoxActivity_2020.csv')\n",
    "df.head()"
   ]
  },
  {
   "cell_type": "markdown",
   "metadata": {},
   "source": [
    "### DF Info\n"
   ]
  },
  {
   "cell_type": "code",
   "execution_count": 6,
   "metadata": {},
   "outputs": [
    {
     "name": "stdout",
     "output_type": "stream",
     "text": [
      "Our dataframe is coming in with 89623 rows and 11 columns.\n"
     ]
    }
   ],
   "source": [
    "print(f'Our dataframe is coming in with {df.shape[0]} rows and {df.shape[1]} columns.')"
   ]
  },
  {
   "cell_type": "code",
   "execution_count": 4,
   "metadata": {},
   "outputs": [
    {
     "name": "stdout",
     "output_type": "stream",
     "text": [
      "<class 'pandas.core.frame.DataFrame'>\n",
      "RangeIndex: 89623 entries, 0 to 89622\n",
      "Data columns (total 11 columns):\n",
      " #   Column               Non-Null Count  Dtype  \n",
      "---  ------               --------------  -----  \n",
      " 0   ServiceDateTime      89623 non-null  object \n",
      " 1   Route                89623 non-null  int64  \n",
      " 2   RouteName            87728 non-null  object \n",
      " 3   CurrentRevenue       89623 non-null  float64\n",
      " 4   Ridership            89623 non-null  int64  \n",
      " 5   TokenCount           89623 non-null  int64  \n",
      " 6   TicketCount          89623 non-null  int64  \n",
      " 7   PassCount            89623 non-null  int64  \n",
      " 8   BillCount            89623 non-null  int64  \n",
      " 9   UnclassifiedRevenue  89623 non-null  float64\n",
      " 10  DumpCount            89623 non-null  int64  \n",
      "dtypes: float64(2), int64(7), object(2)\n",
      "memory usage: 7.5+ MB\n"
     ]
    }
   ],
   "source": [
    "df.info()"
   ]
  },
  {
   "cell_type": "code",
   "execution_count": 7,
   "metadata": {},
   "outputs": [
    {
     "data": {
      "text/html": [
       "<div>\n",
       "<style scoped>\n",
       "    .dataframe tbody tr th:only-of-type {\n",
       "        vertical-align: middle;\n",
       "    }\n",
       "\n",
       "    .dataframe tbody tr th {\n",
       "        vertical-align: top;\n",
       "    }\n",
       "\n",
       "    .dataframe thead th {\n",
       "        text-align: right;\n",
       "    }\n",
       "</style>\n",
       "<table border=\"1\" class=\"dataframe\">\n",
       "  <thead>\n",
       "    <tr style=\"text-align: right;\">\n",
       "      <th></th>\n",
       "      <th>Route</th>\n",
       "      <th>CurrentRevenue</th>\n",
       "      <th>Ridership</th>\n",
       "      <th>TokenCount</th>\n",
       "      <th>TicketCount</th>\n",
       "      <th>PassCount</th>\n",
       "      <th>BillCount</th>\n",
       "      <th>UnclassifiedRevenue</th>\n",
       "      <th>DumpCount</th>\n",
       "    </tr>\n",
       "  </thead>\n",
       "  <tbody>\n",
       "    <tr>\n",
       "      <th>count</th>\n",
       "      <td>89623.000000</td>\n",
       "      <td>89623.000000</td>\n",
       "      <td>89623.000000</td>\n",
       "      <td>89623.000000</td>\n",
       "      <td>89623.0</td>\n",
       "      <td>89623.000000</td>\n",
       "      <td>89623.000000</td>\n",
       "      <td>89623.000000</td>\n",
       "      <td>89623.000000</td>\n",
       "    </tr>\n",
       "    <tr>\n",
       "      <th>mean</th>\n",
       "      <td>292.203028</td>\n",
       "      <td>318.322866</td>\n",
       "      <td>953.093358</td>\n",
       "      <td>3.156511</td>\n",
       "      <td>0.0</td>\n",
       "      <td>513.887730</td>\n",
       "      <td>179.312676</td>\n",
       "      <td>16.006636</td>\n",
       "      <td>77.997523</td>\n",
       "    </tr>\n",
       "    <tr>\n",
       "      <th>std</th>\n",
       "      <td>523.306507</td>\n",
       "      <td>290.197493</td>\n",
       "      <td>937.865204</td>\n",
       "      <td>81.232098</td>\n",
       "      <td>0.0</td>\n",
       "      <td>565.098787</td>\n",
       "      <td>163.698955</td>\n",
       "      <td>15.497742</td>\n",
       "      <td>76.630370</td>\n",
       "    </tr>\n",
       "    <tr>\n",
       "      <th>min</th>\n",
       "      <td>0.000000</td>\n",
       "      <td>0.000000</td>\n",
       "      <td>0.000000</td>\n",
       "      <td>0.000000</td>\n",
       "      <td>0.0</td>\n",
       "      <td>0.000000</td>\n",
       "      <td>0.000000</td>\n",
       "      <td>0.000000</td>\n",
       "      <td>0.000000</td>\n",
       "    </tr>\n",
       "    <tr>\n",
       "      <th>25%</th>\n",
       "      <td>40.000000</td>\n",
       "      <td>111.195000</td>\n",
       "      <td>306.000000</td>\n",
       "      <td>0.000000</td>\n",
       "      <td>0.0</td>\n",
       "      <td>144.000000</td>\n",
       "      <td>63.000000</td>\n",
       "      <td>5.120000</td>\n",
       "      <td>23.000000</td>\n",
       "    </tr>\n",
       "    <tr>\n",
       "      <th>50%</th>\n",
       "      <td>94.000000</td>\n",
       "      <td>223.210000</td>\n",
       "      <td>639.000000</td>\n",
       "      <td>0.000000</td>\n",
       "      <td>0.0</td>\n",
       "      <td>312.000000</td>\n",
       "      <td>125.000000</td>\n",
       "      <td>11.230000</td>\n",
       "      <td>53.000000</td>\n",
       "    </tr>\n",
       "    <tr>\n",
       "      <th>75%</th>\n",
       "      <td>607.000000</td>\n",
       "      <td>443.360000</td>\n",
       "      <td>1255.000000</td>\n",
       "      <td>0.000000</td>\n",
       "      <td>0.0</td>\n",
       "      <td>670.000000</td>\n",
       "      <td>250.000000</td>\n",
       "      <td>22.210000</td>\n",
       "      <td>110.000000</td>\n",
       "    </tr>\n",
       "    <tr>\n",
       "      <th>max</th>\n",
       "      <td>67584.000000</td>\n",
       "      <td>2475.050000</td>\n",
       "      <td>7593.000000</td>\n",
       "      <td>6539.000000</td>\n",
       "      <td>0.0</td>\n",
       "      <td>4474.000000</td>\n",
       "      <td>1613.000000</td>\n",
       "      <td>340.820000</td>\n",
       "      <td>710.000000</td>\n",
       "    </tr>\n",
       "  </tbody>\n",
       "</table>\n",
       "</div>"
      ],
      "text/plain": [
       "              Route  CurrentRevenue     Ridership    TokenCount  TicketCount  \\\n",
       "count  89623.000000    89623.000000  89623.000000  89623.000000      89623.0   \n",
       "mean     292.203028      318.322866    953.093358      3.156511          0.0   \n",
       "std      523.306507      290.197493    937.865204     81.232098          0.0   \n",
       "min        0.000000        0.000000      0.000000      0.000000          0.0   \n",
       "25%       40.000000      111.195000    306.000000      0.000000          0.0   \n",
       "50%       94.000000      223.210000    639.000000      0.000000          0.0   \n",
       "75%      607.000000      443.360000   1255.000000      0.000000          0.0   \n",
       "max    67584.000000     2475.050000   7593.000000   6539.000000          0.0   \n",
       "\n",
       "          PassCount     BillCount  UnclassifiedRevenue     DumpCount  \n",
       "count  89623.000000  89623.000000         89623.000000  89623.000000  \n",
       "mean     513.887730    179.312676            16.006636     77.997523  \n",
       "std      565.098787    163.698955            15.497742     76.630370  \n",
       "min        0.000000      0.000000             0.000000      0.000000  \n",
       "25%      144.000000     63.000000             5.120000     23.000000  \n",
       "50%      312.000000    125.000000            11.230000     53.000000  \n",
       "75%      670.000000    250.000000            22.210000    110.000000  \n",
       "max     4474.000000   1613.000000           340.820000    710.000000  "
      ]
     },
     "execution_count": 7,
     "metadata": {},
     "output_type": "execute_result"
    }
   ],
   "source": [
    "df.describe()"
   ]
  },
  {
   "cell_type": "markdown",
   "metadata": {},
   "source": [
    "## Prepare df\n",
    "\n",
    "### Rename Columns"
   ]
  },
  {
   "cell_type": "code",
   "execution_count": 11,
   "metadata": {},
   "outputs": [],
   "source": [
    "df.columns = ['date', 'route', 'route_name', 'current_revenue', 'ridership',\n",
    "       'token_count', 'ticket_count', 'pass_count', 'bill_count',\n",
    "       'unclassified_revenue', 'dump_count']"
   ]
  },
  {
   "cell_type": "code",
   "execution_count": 12,
   "metadata": {},
   "outputs": [
    {
     "data": {
      "text/html": [
       "<div>\n",
       "<style scoped>\n",
       "    .dataframe tbody tr th:only-of-type {\n",
       "        vertical-align: middle;\n",
       "    }\n",
       "\n",
       "    .dataframe tbody tr th {\n",
       "        vertical-align: top;\n",
       "    }\n",
       "\n",
       "    .dataframe thead th {\n",
       "        text-align: right;\n",
       "    }\n",
       "</style>\n",
       "<table border=\"1\" class=\"dataframe\">\n",
       "  <thead>\n",
       "    <tr style=\"text-align: right;\">\n",
       "      <th></th>\n",
       "      <th>date</th>\n",
       "      <th>route</th>\n",
       "      <th>route_name</th>\n",
       "      <th>current_revenue</th>\n",
       "      <th>ridership</th>\n",
       "      <th>token_count</th>\n",
       "      <th>ticket_count</th>\n",
       "      <th>pass_count</th>\n",
       "      <th>bill_count</th>\n",
       "      <th>unclassified_revenue</th>\n",
       "      <th>dump_count</th>\n",
       "    </tr>\n",
       "  </thead>\n",
       "  <tbody>\n",
       "    <tr>\n",
       "      <th>0</th>\n",
       "      <td>1/1/17</td>\n",
       "      <td>2</td>\n",
       "      <td>2-BLANCO RD.</td>\n",
       "      <td>510.82</td>\n",
       "      <td>1244</td>\n",
       "      <td>0</td>\n",
       "      <td>0</td>\n",
       "      <td>588</td>\n",
       "      <td>312</td>\n",
       "      <td>20.88</td>\n",
       "      <td>116</td>\n",
       "    </tr>\n",
       "  </tbody>\n",
       "</table>\n",
       "</div>"
      ],
      "text/plain": [
       "     date  route    route_name  current_revenue  ridership  token_count  \\\n",
       "0  1/1/17      2  2-BLANCO RD.           510.82       1244            0   \n",
       "\n",
       "   ticket_count  pass_count  bill_count  unclassified_revenue  dump_count  \n",
       "0             0         588         312                 20.88         116  "
      ]
     },
     "execution_count": 12,
     "metadata": {},
     "output_type": "execute_result"
    }
   ],
   "source": [
    "df.head(1)"
   ]
  },
  {
   "cell_type": "markdown",
   "metadata": {},
   "source": [
    "### Convert date column to datetime format"
   ]
  },
  {
   "cell_type": "code",
   "execution_count": 16,
   "metadata": {},
   "outputs": [],
   "source": [
    "# Create a copy of the df called time and convert to a datetime index df for easy exploration\n",
    "\n",
    "time = df.copy()\n",
    "time['date'] = pd.to_datetime(time.date)\n",
    "time = time.set_index('date').sort_index()"
   ]
  },
  {
   "cell_type": "code",
   "execution_count": 18,
   "metadata": {},
   "outputs": [
    {
     "name": "stdout",
     "output_type": "stream",
     "text": [
      "<class 'pandas.core.frame.DataFrame'>\n",
      "DatetimeIndex: 89623 entries, 2017-01-01 to 2020-01-09\n",
      "Data columns (total 10 columns):\n",
      " #   Column                Non-Null Count  Dtype  \n",
      "---  ------                --------------  -----  \n",
      " 0   route                 89623 non-null  int64  \n",
      " 1   route_name            87728 non-null  object \n",
      " 2   current_revenue       89623 non-null  float64\n",
      " 3   ridership             89623 non-null  int64  \n",
      " 4   token_count           89623 non-null  int64  \n",
      " 5   ticket_count          89623 non-null  int64  \n",
      " 6   pass_count            89623 non-null  int64  \n",
      " 7   bill_count            89623 non-null  int64  \n",
      " 8   unclassified_revenue  89623 non-null  float64\n",
      " 9   dump_count            89623 non-null  int64  \n",
      "dtypes: float64(2), int64(7), object(1)\n",
      "memory usage: 7.5+ MB\n"
     ]
    }
   ],
   "source": [
    "time.info()"
   ]
  },
  {
   "cell_type": "markdown",
   "metadata": {},
   "source": [
    "### Create Date Part Columns\n"
   ]
  },
  {
   "cell_type": "code",
   "execution_count": 19,
   "metadata": {},
   "outputs": [],
   "source": [
    "time['month'] = time.index.month\n",
    "time['year'] = time.index.year\n",
    "time['day'] = time.index.day_name()"
   ]
  },
  {
   "cell_type": "code",
   "execution_count": 20,
   "metadata": {},
   "outputs": [
    {
     "data": {
      "text/html": [
       "<div>\n",
       "<style scoped>\n",
       "    .dataframe tbody tr th:only-of-type {\n",
       "        vertical-align: middle;\n",
       "    }\n",
       "\n",
       "    .dataframe tbody tr th {\n",
       "        vertical-align: top;\n",
       "    }\n",
       "\n",
       "    .dataframe thead th {\n",
       "        text-align: right;\n",
       "    }\n",
       "</style>\n",
       "<table border=\"1\" class=\"dataframe\">\n",
       "  <thead>\n",
       "    <tr style=\"text-align: right;\">\n",
       "      <th></th>\n",
       "      <th>route</th>\n",
       "      <th>route_name</th>\n",
       "      <th>current_revenue</th>\n",
       "      <th>ridership</th>\n",
       "      <th>token_count</th>\n",
       "      <th>ticket_count</th>\n",
       "      <th>pass_count</th>\n",
       "      <th>bill_count</th>\n",
       "      <th>unclassified_revenue</th>\n",
       "      <th>dump_count</th>\n",
       "      <th>month</th>\n",
       "      <th>year</th>\n",
       "      <th>day</th>\n",
       "    </tr>\n",
       "    <tr>\n",
       "      <th>date</th>\n",
       "      <th></th>\n",
       "      <th></th>\n",
       "      <th></th>\n",
       "      <th></th>\n",
       "      <th></th>\n",
       "      <th></th>\n",
       "      <th></th>\n",
       "      <th></th>\n",
       "      <th></th>\n",
       "      <th></th>\n",
       "      <th></th>\n",
       "      <th></th>\n",
       "      <th></th>\n",
       "    </tr>\n",
       "  </thead>\n",
       "  <tbody>\n",
       "    <tr>\n",
       "      <th>2017-01-01</th>\n",
       "      <td>2</td>\n",
       "      <td>2-BLANCO RD.</td>\n",
       "      <td>510.82</td>\n",
       "      <td>1244</td>\n",
       "      <td>0</td>\n",
       "      <td>0</td>\n",
       "      <td>588</td>\n",
       "      <td>312</td>\n",
       "      <td>20.88</td>\n",
       "      <td>116</td>\n",
       "      <td>1</td>\n",
       "      <td>2017</td>\n",
       "      <td>Sunday</td>\n",
       "    </tr>\n",
       "    <tr>\n",
       "      <th>2017-01-01</th>\n",
       "      <td>3</td>\n",
       "      <td>3-SAN PEDRO</td>\n",
       "      <td>203.93</td>\n",
       "      <td>689</td>\n",
       "      <td>0</td>\n",
       "      <td>0</td>\n",
       "      <td>371</td>\n",
       "      <td>119</td>\n",
       "      <td>9.55</td>\n",
       "      <td>49</td>\n",
       "      <td>1</td>\n",
       "      <td>2017</td>\n",
       "      <td>Sunday</td>\n",
       "    </tr>\n",
       "  </tbody>\n",
       "</table>\n",
       "</div>"
      ],
      "text/plain": [
       "            route    route_name  current_revenue  ridership  token_count  \\\n",
       "date                                                                       \n",
       "2017-01-01      2  2-BLANCO RD.           510.82       1244            0   \n",
       "2017-01-01      3   3-SAN PEDRO           203.93        689            0   \n",
       "\n",
       "            ticket_count  pass_count  bill_count  unclassified_revenue  \\\n",
       "date                                                                     \n",
       "2017-01-01             0         588         312                 20.88   \n",
       "2017-01-01             0         371         119                  9.55   \n",
       "\n",
       "            dump_count  month  year     day  \n",
       "date                                         \n",
       "2017-01-01         116      1  2017  Sunday  \n",
       "2017-01-01          49      1  2017  Sunday  "
      ]
     },
     "execution_count": 20,
     "metadata": {},
     "output_type": "execute_result"
    }
   ],
   "source": [
    "time.head(2)"
   ]
  },
  {
   "cell_type": "code",
   "execution_count": 21,
   "metadata": {},
   "outputs": [
    {
     "data": {
      "image/png": "[encoded data removed]",
      "text/plain": [
       "<Figure size 432x288 with 1 Axes>"
      ]
     },
     "metadata": {
      "needs_background": "light"
     },
     "output_type": "display_data"
    }
   ],
   "source": [
    "cats = ['Sunday','Monday', 'Tuesday', 'Wednesday', 'Thursday', 'Friday', 'Saturday']\n",
    "\n",
    "time.day.value_counts().reindex(cats).plot.barh(color='thistle')\n",
    "\n",
    "plt.title('Count of Observations by Day')\n",
    "\n",
    "# reorder y-axis of horizontal bar chart\n",
    "plt.gca().invert_yaxis()\n",
    "plt.show()"
   ]
  },
  {
   "cell_type": "code",
   "execution_count": 22,
   "metadata": {},
   "outputs": [
    {
     "data": {
      "image/png": "[encoded data removed]",
      "text/plain": [
       "<Figure size 432x288 with 1 Axes>"
      ]
     },
     "metadata": {
      "needs_background": "light"
     },
     "output_type": "display_data"
    }
   ],
   "source": [
    "time.month.value_counts().sort_index().plot.barh(color='orchid')\n",
    "\n",
    "plt.title('Count of Observations by Month')\n",
    "\n",
    "# reorder y-axis of horizontal bar chart\n",
    "plt.gca().invert_yaxis()\n",
    "plt.show()"
   ]
  },
  {
   "cell_type": "code",
   "execution_count": 23,
   "metadata": {},
   "outputs": [
    {
     "data": {
      "image/png": "[encoded data removed]",
      "text/plain": [
       "<Figure size 432x288 with 1 Axes>"
      ]
     },
     "metadata": {
      "needs_background": "light"
     },
     "output_type": "display_data"
    }
   ],
   "source": [
    "time.year.value_counts().sort_index().plot.barh(color='darkorchid')\n",
    "\n",
    "plt.title('Count of Observations by Year')\n",
    "\n",
    "# reorder y-axis of horizontal bar chart\n",
    "plt.gca().invert_yaxis()\n",
    "plt.show()"
   ]
  },
  {
   "cell_type": "markdown",
   "metadata": {},
   "source": [
    "### Unique Values in Columns\n",
    "\n",
    "There are multiple names used for some of the routes. Route number can be used."
   ]
  },
  {
   "cell_type": "code",
   "execution_count": 27,
   "metadata": {},
   "outputs": [
    {
     "data": {
      "text/html": [
       "<div>\n",
       "<style scoped>\n",
       "    .dataframe tbody tr th:only-of-type {\n",
       "        vertical-align: middle;\n",
       "    }\n",
       "\n",
       "    .dataframe tbody tr th {\n",
       "        vertical-align: top;\n",
       "    }\n",
       "\n",
       "    .dataframe thead th {\n",
       "        text-align: right;\n",
       "    }\n",
       "</style>\n",
       "<table border=\"1\" class=\"dataframe\">\n",
       "  <thead>\n",
       "    <tr style=\"text-align: right;\">\n",
       "      <th></th>\n",
       "      <th></th>\n",
       "      <th>route_name</th>\n",
       "    </tr>\n",
       "    <tr>\n",
       "      <th>route</th>\n",
       "      <th>route_name</th>\n",
       "      <th></th>\n",
       "    </tr>\n",
       "  </thead>\n",
       "  <tbody>\n",
       "    <tr>\n",
       "      <th>2</th>\n",
       "      <th>2-BLANCO RD.</th>\n",
       "      <td>976</td>\n",
       "    </tr>\n",
       "    <tr>\n",
       "      <th rowspan=\"2\" valign=\"top\">3</th>\n",
       "      <th>3-SAN PEDRO</th>\n",
       "      <td>365</td>\n",
       "    </tr>\n",
       "    <tr>\n",
       "      <th>3-SAN PEDRO SKIP</th>\n",
       "      <td>612</td>\n",
       "    </tr>\n",
       "    <tr>\n",
       "      <th>4</th>\n",
       "      <th>4-SAN PEDRO</th>\n",
       "      <td>976</td>\n",
       "    </tr>\n",
       "    <tr>\n",
       "      <th>5</th>\n",
       "      <th>5-MC CULLOUGH</th>\n",
       "      <td>978</td>\n",
       "    </tr>\n",
       "    <tr>\n",
       "      <th>6</th>\n",
       "      <th>6-US 281 Express</th>\n",
       "      <td>704</td>\n",
       "    </tr>\n",
       "    <tr>\n",
       "      <th>7</th>\n",
       "      <th>7 STONEOAK/DOWNTOWN EXPRESS</th>\n",
       "      <td>430</td>\n",
       "    </tr>\n",
       "    <tr>\n",
       "      <th>8</th>\n",
       "      <th>8-N.ST.MARYS</th>\n",
       "      <td>976</td>\n",
       "    </tr>\n",
       "    <tr>\n",
       "      <th>9</th>\n",
       "      <th>9-BROADWAY</th>\n",
       "      <td>977</td>\n",
       "    </tr>\n",
       "    <tr>\n",
       "      <th rowspan=\"2\" valign=\"top\">10</th>\n",
       "      <th>10-NACO./BROAD.</th>\n",
       "      <td>365</td>\n",
       "    </tr>\n",
       "    <tr>\n",
       "      <th>10-NACO/BROADWAY /NACO PASS</th>\n",
       "      <td>610</td>\n",
       "    </tr>\n",
       "    <tr>\n",
       "      <th rowspan=\"2\" valign=\"top\">11</th>\n",
       "      <th>11 VIVA Culture</th>\n",
       "      <td>611</td>\n",
       "    </tr>\n",
       "    <tr>\n",
       "      <th>11-NACOGDOCHES</th>\n",
       "      <td>365</td>\n",
       "    </tr>\n",
       "    <tr>\n",
       "      <th rowspan=\"2\" valign=\"top\">14</th>\n",
       "      <th>14 Perrin Beitel</th>\n",
       "      <td>611</td>\n",
       "    </tr>\n",
       "    <tr>\n",
       "      <th>14-PERRIN BEITL</th>\n",
       "      <td>365</td>\n",
       "    </tr>\n",
       "    <tr>\n",
       "      <th>16</th>\n",
       "      <th>16-Ft. Sam Express</th>\n",
       "      <td>284</td>\n",
       "    </tr>\n",
       "    <tr>\n",
       "      <th rowspan=\"2\" valign=\"top\">17</th>\n",
       "      <th>17-IH 35 Express</th>\n",
       "      <td>610</td>\n",
       "    </tr>\n",
       "    <tr>\n",
       "      <th>17-RANDOLPH P/R</th>\n",
       "      <td>365</td>\n",
       "    </tr>\n",
       "    <tr>\n",
       "      <th>20</th>\n",
       "      <th>20-NEW BRAUNFELS</th>\n",
       "      <td>976</td>\n",
       "    </tr>\n",
       "    <tr>\n",
       "      <th>21</th>\n",
       "      <th>21 KIRBY / CONVERSE</th>\n",
       "      <td>611</td>\n",
       "    </tr>\n",
       "  </tbody>\n",
       "</table>\n",
       "</div>"
      ],
      "text/plain": [
       "                                           route_name\n",
       "route route_name                                     \n",
       "2     2-BLANCO RD.                                976\n",
       "3     3-SAN PEDRO                                 365\n",
       "      3-SAN PEDRO SKIP                            612\n",
       "4     4-SAN PEDRO                                 976\n",
       "5     5-MC CULLOUGH                               978\n",
       "6     6-US 281 Express                            704\n",
       "7     7 STONEOAK/DOWNTOWN EXPRESS                 430\n",
       "8     8-N.ST.MARYS                                976\n",
       "9     9-BROADWAY                                  977\n",
       "10    10-NACO./BROAD.                             365\n",
       "      10-NACO/BROADWAY /NACO PASS                 610\n",
       "11    11 VIVA Culture                             611\n",
       "      11-NACOGDOCHES                              365\n",
       "14    14 Perrin Beitel                            611\n",
       "      14-PERRIN BEITL                             365\n",
       "16    16-Ft. Sam Express                          284\n",
       "17    17-IH 35 Express                            610\n",
       "      17-RANDOLPH P/R                             365\n",
       "20    20-NEW BRAUNFELS                            976\n",
       "21    21 KIRBY / CONVERSE                         611"
      ]
     },
     "execution_count": 27,
     "metadata": {},
     "output_type": "execute_result"
    }
   ],
   "source": [
    "time.groupby(['route', 'route_name'])[['route_name']].count().head(20)"
   ]
  },
  {
   "cell_type": "markdown",
   "metadata": {},
   "source": [
    "**<font color=purple>We still see that there are 225 unique routes but only 150 unique route names. Normalization of route names needed if route name is to be used.</font>**"
   ]
  },
  {
   "cell_type": "code",
   "execution_count": 28,
   "metadata": {},
   "outputs": [
    {
     "name": "stdout",
     "output_type": "stream",
     "text": [
      "There are 225 unique values in the route column\n",
      "\n",
      "There are 150 unique values in the route_name column\n",
      "\n",
      "There are 50427 unique values in the current_revenue column\n",
      "\n",
      "There are 4983 unique values in the ridership column\n",
      "\n",
      "There are 347 unique values in the token_count column\n",
      "\n",
      "There are 1 unique values in the ticket_count column\n",
      "\n",
      "There are 3339 unique values in the pass_count column\n",
      "\n",
      "There are 1123 unique values in the bill_count column\n",
      "\n",
      "There are 7147 unique values in the unclassified_revenue column\n",
      "\n",
      "There are 599 unique values in the dump_count column\n",
      "\n",
      "There are 12 unique values in the month column\n",
      "\n",
      "There are 4 unique values in the year column\n",
      "\n",
      "There are 7 unique values in the day column\n",
      "\n"
     ]
    }
   ],
   "source": [
    "for column in time:\n",
    "    print(f'There are {time[column].nunique()} unique values in the {column} column')\n",
    "    print()"
   ]
  },
  {
   "cell_type": "code",
   "execution_count": null,
   "metadata": {},
   "outputs": [],
   "source": []
  },
  {
   "cell_type": "code",
   "execution_count": null,
   "metadata": {},
   "outputs": [],
   "source": []
  }
 ],
 "metadata": {
  "kernelspec": {
   "display_name": "Python 3",
   "language": "python",
   "name": "python3"
  },
  "language_info": {
   "codemirror_mode": {
    "name": "ipython",
    "version": 3
   },
   "file_extension": ".py",
   "mimetype": "text/x-python",
   "name": "python",
   "nbconvert_exporter": "python",
   "pygments_lexer": "ipython3",
   "version": "3.7.4"
  },
  "toc": {
   "base_numbering": 1,
   "nav_menu": {},
   "number_sections": true,
   "sideBar": true,
   "skip_h1_title": true,
   "title_cell": "Table of Contents",
   "title_sidebar": "Contents",
   "toc_cell": true,
   "toc_position": {},
   "toc_section_display": true,
   "toc_window_display": false
  }
 },
 "nbformat": 4,
 "nbformat_minor": 4
}
