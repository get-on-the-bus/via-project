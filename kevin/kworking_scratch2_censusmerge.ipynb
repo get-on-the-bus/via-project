{
 "cells": [
  {
   "cell_type": "code",
   "execution_count": 1,
   "metadata": {},
   "outputs": [],
   "source": [
    "import pandas as pd\n",
    "import numpy as np"
   ]
  },
  {
   "cell_type": "code",
   "execution_count": 2,
   "metadata": {},
   "outputs": [],
   "source": [
    "src = '../resource_files/census_data/acs5_B02001_Race.json'"
   ]
  },
  {
   "cell_type": "code",
   "execution_count": 3,
   "metadata": {},
   "outputs": [],
   "source": [
    "def wrangle_acs5(src):\n",
    "    df = pd.read_json(src)\n",
    "    df.columns = df.iloc[0]\n",
    "    df = df[1:]\n",
    "    df['block_group'] = df.state.map(str) + df.county.map(str) + df.tract.map(str) + df['block group'].map(str)\n",
    "    df=df.drop(columns=['state','county','tract','block group']).set_index('block_group')\n",
    "    return df"
   ]
  },
  {
   "cell_type": "code",
   "execution_count": 4,
   "metadata": {},
   "outputs": [],
   "source": [
    "df = wrangle_acs5(src)"
   ]
  },
  {
   "cell_type": "code",
   "execution_count": 5,
   "metadata": {},
   "outputs": [
    {
     "data": {
      "text/html": [
       "<div>\n",
       "<style scoped>\n",
       "    .dataframe tbody tr th:only-of-type {\n",
       "        vertical-align: middle;\n",
       "    }\n",
       "\n",
       "    .dataframe tbody tr th {\n",
       "        vertical-align: top;\n",
       "    }\n",
       "\n",
       "    .dataframe thead th {\n",
       "        text-align: right;\n",
       "    }\n",
       "</style>\n",
       "<table border=\"1\" class=\"dataframe\">\n",
       "  <thead>\n",
       "    <tr style=\"text-align: right;\">\n",
       "      <th></th>\n",
       "      <th>B02001_001E</th>\n",
       "      <th>B02001_002E</th>\n",
       "      <th>B02001_003E</th>\n",
       "      <th>B02001_004E</th>\n",
       "      <th>B02001_005E</th>\n",
       "      <th>B02001_006E</th>\n",
       "      <th>B02001_007E</th>\n",
       "      <th>B02001_008E</th>\n",
       "      <th>B02001_009E</th>\n",
       "      <th>B02001_010E</th>\n",
       "    </tr>\n",
       "    <tr>\n",
       "      <th>block_group</th>\n",
       "      <th></th>\n",
       "      <th></th>\n",
       "      <th></th>\n",
       "      <th></th>\n",
       "      <th></th>\n",
       "      <th></th>\n",
       "      <th></th>\n",
       "      <th></th>\n",
       "      <th></th>\n",
       "      <th></th>\n",
       "    </tr>\n",
       "  </thead>\n",
       "  <tbody>\n",
       "    <tr>\n",
       "      <th>480291805031</th>\n",
       "      <td>659</td>\n",
       "      <td>631</td>\n",
       "      <td>0</td>\n",
       "      <td>0</td>\n",
       "      <td>0</td>\n",
       "      <td>0</td>\n",
       "      <td>28</td>\n",
       "      <td>0</td>\n",
       "      <td>0</td>\n",
       "      <td>0</td>\n",
       "    </tr>\n",
       "    <tr>\n",
       "      <th>480291805032</th>\n",
       "      <td>1942</td>\n",
       "      <td>1694</td>\n",
       "      <td>59</td>\n",
       "      <td>0</td>\n",
       "      <td>0</td>\n",
       "      <td>0</td>\n",
       "      <td>115</td>\n",
       "      <td>74</td>\n",
       "      <td>35</td>\n",
       "      <td>39</td>\n",
       "    </tr>\n",
       "    <tr>\n",
       "      <th>480291704013</th>\n",
       "      <td>1676</td>\n",
       "      <td>1265</td>\n",
       "      <td>210</td>\n",
       "      <td>0</td>\n",
       "      <td>0</td>\n",
       "      <td>0</td>\n",
       "      <td>142</td>\n",
       "      <td>59</td>\n",
       "      <td>59</td>\n",
       "      <td>0</td>\n",
       "    </tr>\n",
       "    <tr>\n",
       "      <th>480291704012</th>\n",
       "      <td>730</td>\n",
       "      <td>600</td>\n",
       "      <td>32</td>\n",
       "      <td>0</td>\n",
       "      <td>0</td>\n",
       "      <td>0</td>\n",
       "      <td>57</td>\n",
       "      <td>41</td>\n",
       "      <td>41</td>\n",
       "      <td>0</td>\n",
       "    </tr>\n",
       "    <tr>\n",
       "      <th>480291914061</th>\n",
       "      <td>2612</td>\n",
       "      <td>2308</td>\n",
       "      <td>21</td>\n",
       "      <td>0</td>\n",
       "      <td>91</td>\n",
       "      <td>0</td>\n",
       "      <td>21</td>\n",
       "      <td>171</td>\n",
       "      <td>18</td>\n",
       "      <td>153</td>\n",
       "    </tr>\n",
       "  </tbody>\n",
       "</table>\n",
       "</div>"
      ],
      "text/plain": [
       "0            B02001_001E B02001_002E B02001_003E B02001_004E B02001_005E  \\\n",
       "block_group                                                                \n",
       "480291805031         659         631           0           0           0   \n",
       "480291805032        1942        1694          59           0           0   \n",
       "480291704013        1676        1265         210           0           0   \n",
       "480291704012         730         600          32           0           0   \n",
       "480291914061        2612        2308          21           0          91   \n",
       "\n",
       "0            B02001_006E B02001_007E B02001_008E B02001_009E B02001_010E  \n",
       "block_group                                                               \n",
       "480291805031           0          28           0           0           0  \n",
       "480291805032           0         115          74          35          39  \n",
       "480291704013           0         142          59          59           0  \n",
       "480291704012           0          57          41          41           0  \n",
       "480291914061           0          21         171          18         153  "
      ]
     },
     "execution_count": 5,
     "metadata": {},
     "output_type": "execute_result"
    }
   ],
   "source": [
    "df.head()"
   ]
  },
  {
   "cell_type": "code",
   "execution_count": 6,
   "metadata": {},
   "outputs": [
    {
     "data": {
      "text/plain": [
       "0\n",
       "B02001_001E    object\n",
       "B02001_002E    object\n",
       "B02001_003E    object\n",
       "B02001_004E    object\n",
       "B02001_005E    object\n",
       "B02001_006E    object\n",
       "B02001_007E    object\n",
       "B02001_008E    object\n",
       "B02001_009E    object\n",
       "B02001_010E    object\n",
       "dtype: object"
      ]
     },
     "execution_count": 6,
     "metadata": {},
     "output_type": "execute_result"
    }
   ],
   "source": [
    "df.dtypes"
   ]
  },
  {
   "cell_type": "code",
   "execution_count": null,
   "metadata": {},
   "outputs": [],
   "source": []
  },
  {
   "cell_type": "code",
   "execution_count": null,
   "metadata": {},
   "outputs": [],
   "source": []
  }
 ],
 "metadata": {
  "kernelspec": {
   "display_name": "Python 3",
   "language": "python",
   "name": "python3"
  },
  "language_info": {
   "codemirror_mode": {
    "name": "ipython",
    "version": 3
   },
   "file_extension": ".py",
   "mimetype": "text/x-python",
   "name": "python",
   "nbconvert_exporter": "python",
   "pygments_lexer": "ipython3",
   "version": "3.7.3"
  }
 },
 "nbformat": 4,
 "nbformat_minor": 4
}
