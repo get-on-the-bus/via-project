{
 "cells": [
  {
   "cell_type": "code",
   "execution_count": 1,
   "metadata": {},
   "outputs": [],
   "source": [
    "import pandas as pd\n",
    "import numpy as np\n",
    "import matplotlib.pyplot as plt"
   ]
  },
  {
   "cell_type": "code",
   "execution_count": 2,
   "metadata": {},
   "outputs": [],
   "source": [
    "import geoplot as gplt"
   ]
  },
  {
   "cell_type": "code",
   "execution_count": 3,
   "metadata": {},
   "outputs": [],
   "source": [
    "import geopandas as gpd"
   ]
  },
  {
   "cell_type": "code",
   "execution_count": 4,
   "metadata": {},
   "outputs": [],
   "source": [
    "from shapely.geometry import Polygon, Point"
   ]
  },
  {
   "cell_type": "code",
   "execution_count": 5,
   "metadata": {},
   "outputs": [],
   "source": [
    "from pyproj import Proj, transform, CRS"
   ]
  },
  {
   "cell_type": "code",
   "execution_count": 6,
   "metadata": {},
   "outputs": [],
   "source": [
    "file_tracts = '../resource_files/bexar_county/Bexar_County_Census_Tracts-shp/Bexar_County_Census_Tracts.shp'\n",
    "file_block_groups = '../resource_files/bexar_county/Bexar_County_Census_Block_Groups-shp/Bexar_County_Census_Block_Groups.shp'\n",
    "file_blocks = '../resource_files/bexar_county/Bexar_County_Census_Blocks-shp/Bexar_County_Census_Blocks.shp'\n",
    "file_stops_202004 =  '../resource_files/via_202004/stops.csv'"
   ]
  },
  {
   "cell_type": "code",
   "execution_count": 87,
   "metadata": {},
   "outputs": [],
   "source": [
    "gdf_tracts = gpd.read_file(file_tracts).set_index('TRACT')"
   ]
  },
  {
   "cell_type": "code",
   "execution_count": 88,
   "metadata": {},
   "outputs": [],
   "source": [
    "gdf_tracts['density']=gdf_tracts.SUM_POPULA / gdf_tracts.ShapeSTAre.min()"
   ]
  },
  {
   "cell_type": "code",
   "execution_count": 89,
   "metadata": {},
   "outputs": [
    {
     "output_type": "execute_result",
     "data": {
      "text/plain": "             OBJECTID  SUM_POPULA    ShapeSTAre    ShapeSTLen  \\\nTRACT                                                           \n48029110100         1        3379  3.816858e+07  26074.749275   \n48029110300         2        2542  1.667905e+07  22363.990201   \n48029110500         3        2238  1.366653e+07  16048.493069   \n48029110600         4        7553  2.117379e+07  20426.412628   \n48029110700         5        1398  1.058371e+07  16998.776148   \n\n                                                      geometry   density  \nTRACT                                                                     \n48029110100  POLYGON ((-98.48695 29.43502, -98.48626 29.434...  0.000433  \n48029110300  POLYGON ((-98.47326 29.41461, -98.47326 29.413...  0.000325  \n48029110500  POLYGON ((-98.50799 29.42314, -98.50812 29.422...  0.000287  \n48029110600  POLYGON ((-98.50111 29.42735, -98.50121 29.426...  0.000967  \n48029110700  POLYGON ((-98.50401 29.44202, -98.50386 29.441...  0.000179  ",
      "text/html": "<div>\n<style scoped>\n    .dataframe tbody tr th:only-of-type {\n        vertical-align: middle;\n    }\n\n    .dataframe tbody tr th {\n        vertical-align: top;\n    }\n\n    .dataframe thead th {\n        text-align: right;\n    }\n</style>\n<table border=\"1\" class=\"dataframe\">\n  <thead>\n    <tr style=\"text-align: right;\">\n      <th></th>\n      <th>OBJECTID</th>\n      <th>SUM_POPULA</th>\n      <th>ShapeSTAre</th>\n      <th>ShapeSTLen</th>\n      <th>geometry</th>\n      <th>density</th>\n    </tr>\n    <tr>\n      <th>TRACT</th>\n      <th></th>\n      <th></th>\n      <th></th>\n      <th></th>\n      <th></th>\n      <th></th>\n    </tr>\n  </thead>\n  <tbody>\n    <tr>\n      <th>48029110100</th>\n      <td>1</td>\n      <td>3379</td>\n      <td>3.816858e+07</td>\n      <td>26074.749275</td>\n      <td>POLYGON ((-98.48695 29.43502, -98.48626 29.434...</td>\n      <td>0.000433</td>\n    </tr>\n    <tr>\n      <th>48029110300</th>\n      <td>2</td>\n      <td>2542</td>\n      <td>1.667905e+07</td>\n      <td>22363.990201</td>\n      <td>POLYGON ((-98.47326 29.41461, -98.47326 29.413...</td>\n      <td>0.000325</td>\n    </tr>\n    <tr>\n      <th>48029110500</th>\n      <td>3</td>\n      <td>2238</td>\n      <td>1.366653e+07</td>\n      <td>16048.493069</td>\n      <td>POLYGON ((-98.50799 29.42314, -98.50812 29.422...</td>\n      <td>0.000287</td>\n    </tr>\n    <tr>\n      <th>48029110600</th>\n      <td>4</td>\n      <td>7553</td>\n      <td>2.117379e+07</td>\n      <td>20426.412628</td>\n      <td>POLYGON ((-98.50111 29.42735, -98.50121 29.426...</td>\n      <td>0.000967</td>\n    </tr>\n    <tr>\n      <th>48029110700</th>\n      <td>5</td>\n      <td>1398</td>\n      <td>1.058371e+07</td>\n      <td>16998.776148</td>\n      <td>POLYGON ((-98.50401 29.44202, -98.50386 29.441...</td>\n      <td>0.000179</td>\n    </tr>\n  </tbody>\n</table>\n</div>"
     },
     "metadata": {},
     "execution_count": 89
    }
   ],
   "source": [
    "gdf_tracts.head()"
   ]
  },
  {
   "cell_type": "code",
   "execution_count": 90,
   "metadata": {},
   "outputs": [
    {
     "output_type": "execute_result",
     "data": {
      "text/plain": "{'init': 'epsg:4326'}"
     },
     "metadata": {},
     "execution_count": 90
    }
   ],
   "source": [
    "gdf_tracts.crs"
   ]
  },
  {
   "cell_type": "code",
   "execution_count": 91,
   "metadata": {},
   "outputs": [
    {
     "output_type": "execute_result",
     "data": {
      "text/plain": "'epsg:4326'"
     },
     "metadata": {},
     "execution_count": 91
    }
   ],
   "source": [
    "gdf_tracts = gdf_tracts.to_crs('epsg:4326')\n",
    "gdf_tracts.crs"
   ]
  },
  {
   "cell_type": "code",
   "execution_count": null,
   "metadata": {},
   "outputs": [],
   "source": []
  },
  {
   "cell_type": "code",
   "execution_count": 12,
   "metadata": {},
   "outputs": [],
   "source": [
    "gdf_block_groups = gpd.read_file(file_block_groups).set_index('BLOCKGROUP')"
   ]
  },
  {
   "cell_type": "code",
   "execution_count": 13,
   "metadata": {},
   "outputs": [],
   "source": [
    "gdf_block_groups['density']=gdf_block_groups.SUM_POPULA / gdf_block_groups.ShapeSTAre"
   ]
  },
  {
   "cell_type": "code",
   "execution_count": 14,
   "metadata": {},
   "outputs": [
    {
     "output_type": "execute_result",
     "data": {
      "text/plain": "              OBJECTID  SUM_POPULA    Shape_STAr    Shape_STLe    ShapeSTAre  \\\nBLOCKGROUP                                                                     \n480291101001         1         955  1.951706e+07  23279.128568  1.951706e+07   \n480291101002         2         694  7.319464e+06  14609.297870  7.319464e+06   \n480291101003         3        1730  1.133205e+07  14546.232289  1.133205e+07   \n480291103001         4        1041  4.292228e+06   9662.074836  4.292228e+06   \n480291103002         5         797  4.074139e+06  10523.204970  4.074139e+06   \n\n                ShapeSTLen                                           geometry  \\\nBLOCKGROUP                                                                      \n480291101001  23279.128568  POLYGON ((-98.48695 29.43502, -98.48626 29.434...   \n480291101002  14609.297870  POLYGON ((-98.48824 29.41933, -98.48826 29.418...   \n480291101003  14546.232289  POLYGON ((-98.49432 29.43370, -98.49426 29.433...   \n480291103001   9662.074836  POLYGON ((-98.47984 29.40970, -98.47983 29.409...   \n480291103002  10523.204970  POLYGON ((-98.47989 29.40860, -98.47992 29.408...   \n\n               density  \nBLOCKGROUP              \n480291101001  0.000049  \n480291101002  0.000095  \n480291101003  0.000153  \n480291103001  0.000243  \n480291103002  0.000196  ",
      "text/html": "<div>\n<style scoped>\n    .dataframe tbody tr th:only-of-type {\n        vertical-align: middle;\n    }\n\n    .dataframe tbody tr th {\n        vertical-align: top;\n    }\n\n    .dataframe thead th {\n        text-align: right;\n    }\n</style>\n<table border=\"1\" class=\"dataframe\">\n  <thead>\n    <tr style=\"text-align: right;\">\n      <th></th>\n      <th>OBJECTID</th>\n      <th>SUM_POPULA</th>\n      <th>Shape_STAr</th>\n      <th>Shape_STLe</th>\n      <th>ShapeSTAre</th>\n      <th>ShapeSTLen</th>\n      <th>geometry</th>\n      <th>density</th>\n    </tr>\n    <tr>\n      <th>BLOCKGROUP</th>\n      <th></th>\n      <th></th>\n      <th></th>\n      <th></th>\n      <th></th>\n      <th></th>\n      <th></th>\n      <th></th>\n    </tr>\n  </thead>\n  <tbody>\n    <tr>\n      <th>480291101001</th>\n      <td>1</td>\n      <td>955</td>\n      <td>1.951706e+07</td>\n      <td>23279.128568</td>\n      <td>1.951706e+07</td>\n      <td>23279.128568</td>\n      <td>POLYGON ((-98.48695 29.43502, -98.48626 29.434...</td>\n      <td>0.000049</td>\n    </tr>\n    <tr>\n      <th>480291101002</th>\n      <td>2</td>\n      <td>694</td>\n      <td>7.319464e+06</td>\n      <td>14609.297870</td>\n      <td>7.319464e+06</td>\n      <td>14609.297870</td>\n      <td>POLYGON ((-98.48824 29.41933, -98.48826 29.418...</td>\n      <td>0.000095</td>\n    </tr>\n    <tr>\n      <th>480291101003</th>\n      <td>3</td>\n      <td>1730</td>\n      <td>1.133205e+07</td>\n      <td>14546.232289</td>\n      <td>1.133205e+07</td>\n      <td>14546.232289</td>\n      <td>POLYGON ((-98.49432 29.43370, -98.49426 29.433...</td>\n      <td>0.000153</td>\n    </tr>\n    <tr>\n      <th>480291103001</th>\n      <td>4</td>\n      <td>1041</td>\n      <td>4.292228e+06</td>\n      <td>9662.074836</td>\n      <td>4.292228e+06</td>\n      <td>9662.074836</td>\n      <td>POLYGON ((-98.47984 29.40970, -98.47983 29.409...</td>\n      <td>0.000243</td>\n    </tr>\n    <tr>\n      <th>480291103002</th>\n      <td>5</td>\n      <td>797</td>\n      <td>4.074139e+06</td>\n      <td>10523.204970</td>\n      <td>4.074139e+06</td>\n      <td>10523.204970</td>\n      <td>POLYGON ((-98.47989 29.40860, -98.47992 29.408...</td>\n      <td>0.000196</td>\n    </tr>\n  </tbody>\n</table>\n</div>"
     },
     "metadata": {},
     "execution_count": 14
    }
   ],
   "source": [
    "gdf_block_groups.head()"
   ]
  },
  {
   "cell_type": "code",
   "execution_count": 15,
   "metadata": {},
   "outputs": [
    {
     "output_type": "execute_result",
     "data": {
      "text/plain": "              OBJECTID  SUM_POPULA    Shape_STAr    Shape_STLe    ShapeSTAre  \\\nBLOCKGROUP                                                                     \n480299800041      1082           0  1.053470e+08  49901.049403  1.053470e+08   \n\n                ShapeSTLen                                           geometry  \\\nBLOCKGROUP                                                                      \n480299800041  49901.049403  POLYGON ((-98.45853 29.54689, -98.45767 29.546...   \n\n              density  \nBLOCKGROUP             \n480299800041      0.0  ",
      "text/html": "<div>\n<style scoped>\n    .dataframe tbody tr th:only-of-type {\n        vertical-align: middle;\n    }\n\n    .dataframe tbody tr th {\n        vertical-align: top;\n    }\n\n    .dataframe thead th {\n        text-align: right;\n    }\n</style>\n<table border=\"1\" class=\"dataframe\">\n  <thead>\n    <tr style=\"text-align: right;\">\n      <th></th>\n      <th>OBJECTID</th>\n      <th>SUM_POPULA</th>\n      <th>Shape_STAr</th>\n      <th>Shape_STLe</th>\n      <th>ShapeSTAre</th>\n      <th>ShapeSTLen</th>\n      <th>geometry</th>\n      <th>density</th>\n    </tr>\n    <tr>\n      <th>BLOCKGROUP</th>\n      <th></th>\n      <th></th>\n      <th></th>\n      <th></th>\n      <th></th>\n      <th></th>\n      <th></th>\n      <th></th>\n    </tr>\n  </thead>\n  <tbody>\n    <tr>\n      <th>480299800041</th>\n      <td>1082</td>\n      <td>0</td>\n      <td>1.053470e+08</td>\n      <td>49901.049403</td>\n      <td>1.053470e+08</td>\n      <td>49901.049403</td>\n      <td>POLYGON ((-98.45853 29.54689, -98.45767 29.546...</td>\n      <td>0.0</td>\n    </tr>\n  </tbody>\n</table>\n</div>"
     },
     "metadata": {},
     "execution_count": 15
    }
   ],
   "source": [
    "gdf_block_groups[gdf_block_groups.SUM_POPULA == 0]"
   ]
  },
  {
   "cell_type": "code",
   "execution_count": 93,
   "metadata": {
    "tags": []
   },
   "outputs": [
    {
     "output_type": "stream",
     "name": "stdout",
     "text": "<class 'geopandas.geodataframe.GeoDataFrame'>\nIndex: 26452 entries, 480291919003005 to 480291317001070\nColumns: 258 entries, OBJECTID to geometry\ndtypes: float64(3), geometry(1), int64(225), object(29)\nmemory usage: 52.3+ MB\nNone\n"
    },
    {
     "output_type": "execute_result",
     "data": {
      "text/plain": "                 OBJECTID       ID  COLORING    BLOCKGROUP        TRACT  \\\nBLOCK                                                                     \n480291919003005         1  1400310         4  480291919003  48029191900   \n480291411011002         2  1400328         3  480291411011  48029141101   \n480291411011006         3  1400348         3  480291411011  48029141101   \n480291410002007         4  1400365         1  480291410002  48029141000   \n480291410002006         5  1400383         3  480291410002  48029141000   \n\n                COUNTY STATE        BLOCK2000         MCD SUBMCD  ...  \\\nBLOCK                                                             ...   \n480291919003005  48029    48  480291301005004  4802993407   None  ...   \n480291411011002  48029    48  480291411006004  4802993407   None  ...   \n480291411011006  48029    48  480291411006001  4802993407   None  ...   \n480291410002007  48029    48  480291410002009  4802993407   None  ...   \n480291410002006  48029    48  480291410002008  4802993407   None  ...   \n\n                F18_WHTBL8 F18_WHTBL9 F18_WHTB10 F18_WHTIN4 F18_WHTIN5  \\\nBLOCK                                                                    \n480291919003005          0          0          0          0          0   \n480291411011002          0          0          0          0          0   \n480291411011006          0          0          0          0          0   \n480291410002007          0          0          0          0          0   \n480291410002006          0          0          0          0          0   \n\n                F18_WHTIN6 gecovector     ShapeSTAre   ShapeSTLen  \\\nBLOCK                                                               \n480291919003005          0   0.001038   28896.121094  1063.271402   \n480291411011002          0   0.018304  509512.736328  8615.618889   \n480291411011006          0   0.012803  356394.378906  2836.366689   \n480291410002007          0   0.012892  358877.382812  2852.304380   \n480291410002006          0   0.016129  448943.710938  2994.127235   \n\n                                                          geometry  \nBLOCK                                                               \n480291919003005  POLYGON ((-98.46781 29.42506, -98.46783 29.424...  \n480291411011002  POLYGON ((-98.46881 29.36511, -98.46815 29.364...  \n480291411011006  POLYGON ((-98.46323 29.36640, -98.46324 29.365...  \n480291410002007  POLYGON ((-98.46667 29.36662, -98.46668 29.367...  \n480291410002006  POLYGON ((-98.46668 29.36753, -98.46667 29.368...  \n\n[5 rows x 258 columns]",
      "text/html": "<div>\n<style scoped>\n    .dataframe tbody tr th:only-of-type {\n        vertical-align: middle;\n    }\n\n    .dataframe tbody tr th {\n        vertical-align: top;\n    }\n\n    .dataframe thead th {\n        text-align: right;\n    }\n</style>\n<table border=\"1\" class=\"dataframe\">\n  <thead>\n    <tr style=\"text-align: right;\">\n      <th></th>\n      <th>OBJECTID</th>\n      <th>ID</th>\n      <th>COLORING</th>\n      <th>BLOCKGROUP</th>\n      <th>TRACT</th>\n      <th>COUNTY</th>\n      <th>STATE</th>\n      <th>BLOCK2000</th>\n      <th>MCD</th>\n      <th>SUBMCD</th>\n      <th>...</th>\n      <th>F18_WHTBL8</th>\n      <th>F18_WHTBL9</th>\n      <th>F18_WHTB10</th>\n      <th>F18_WHTIN4</th>\n      <th>F18_WHTIN5</th>\n      <th>F18_WHTIN6</th>\n      <th>gecovector</th>\n      <th>ShapeSTAre</th>\n      <th>ShapeSTLen</th>\n      <th>geometry</th>\n    </tr>\n    <tr>\n      <th>BLOCK</th>\n      <th></th>\n      <th></th>\n      <th></th>\n      <th></th>\n      <th></th>\n      <th></th>\n      <th></th>\n      <th></th>\n      <th></th>\n      <th></th>\n      <th></th>\n      <th></th>\n      <th></th>\n      <th></th>\n      <th></th>\n      <th></th>\n      <th></th>\n      <th></th>\n      <th></th>\n      <th></th>\n      <th></th>\n    </tr>\n  </thead>\n  <tbody>\n    <tr>\n      <th>480291919003005</th>\n      <td>1</td>\n      <td>1400310</td>\n      <td>4</td>\n      <td>480291919003</td>\n      <td>48029191900</td>\n      <td>48029</td>\n      <td>48</td>\n      <td>480291301005004</td>\n      <td>4802993407</td>\n      <td>None</td>\n      <td>...</td>\n      <td>0</td>\n      <td>0</td>\n      <td>0</td>\n      <td>0</td>\n      <td>0</td>\n      <td>0</td>\n      <td>0.001038</td>\n      <td>28896.121094</td>\n      <td>1063.271402</td>\n      <td>POLYGON ((-98.46781 29.42506, -98.46783 29.424...</td>\n    </tr>\n    <tr>\n      <th>480291411011002</th>\n      <td>2</td>\n      <td>1400328</td>\n      <td>3</td>\n      <td>480291411011</td>\n      <td>48029141101</td>\n      <td>48029</td>\n      <td>48</td>\n      <td>480291411006004</td>\n      <td>4802993407</td>\n      <td>None</td>\n      <td>...</td>\n      <td>0</td>\n      <td>0</td>\n      <td>0</td>\n      <td>0</td>\n      <td>0</td>\n      <td>0</td>\n      <td>0.018304</td>\n      <td>509512.736328</td>\n      <td>8615.618889</td>\n      <td>POLYGON ((-98.46881 29.36511, -98.46815 29.364...</td>\n    </tr>\n    <tr>\n      <th>480291411011006</th>\n      <td>3</td>\n      <td>1400348</td>\n      <td>3</td>\n      <td>480291411011</td>\n      <td>48029141101</td>\n      <td>48029</td>\n      <td>48</td>\n      <td>480291411006001</td>\n      <td>4802993407</td>\n      <td>None</td>\n      <td>...</td>\n      <td>0</td>\n      <td>0</td>\n      <td>0</td>\n      <td>0</td>\n      <td>0</td>\n      <td>0</td>\n      <td>0.012803</td>\n      <td>356394.378906</td>\n      <td>2836.366689</td>\n      <td>POLYGON ((-98.46323 29.36640, -98.46324 29.365...</td>\n    </tr>\n    <tr>\n      <th>480291410002007</th>\n      <td>4</td>\n      <td>1400365</td>\n      <td>1</td>\n      <td>480291410002</td>\n      <td>48029141000</td>\n      <td>48029</td>\n      <td>48</td>\n      <td>480291410002009</td>\n      <td>4802993407</td>\n      <td>None</td>\n      <td>...</td>\n      <td>0</td>\n      <td>0</td>\n      <td>0</td>\n      <td>0</td>\n      <td>0</td>\n      <td>0</td>\n      <td>0.012892</td>\n      <td>358877.382812</td>\n      <td>2852.304380</td>\n      <td>POLYGON ((-98.46667 29.36662, -98.46668 29.367...</td>\n    </tr>\n    <tr>\n      <th>480291410002006</th>\n      <td>5</td>\n      <td>1400383</td>\n      <td>3</td>\n      <td>480291410002</td>\n      <td>48029141000</td>\n      <td>48029</td>\n      <td>48</td>\n      <td>480291410002008</td>\n      <td>4802993407</td>\n      <td>None</td>\n      <td>...</td>\n      <td>0</td>\n      <td>0</td>\n      <td>0</td>\n      <td>0</td>\n      <td>0</td>\n      <td>0</td>\n      <td>0.016129</td>\n      <td>448943.710938</td>\n      <td>2994.127235</td>\n      <td>POLYGON ((-98.46668 29.36753, -98.46667 29.368...</td>\n    </tr>\n  </tbody>\n</table>\n<p>5 rows × 258 columns</p>\n</div>"
     },
     "metadata": {},
     "execution_count": 93
    }
   ],
   "source": [
    "gdf_blocks = gpd.read_file(file_blocks).set_index('BLOCK')\n",
    "print(gdf_blocks.info())\n",
    "gdf_blocks.head()"
   ]
  },
  {
   "cell_type": "code",
   "execution_count": 17,
   "metadata": {},
   "outputs": [],
   "source": [
    "# gdf_blocks['density']=gdf_blocks.POPULATION / gdf_blocks.ShapeSTAre"
   ]
  },
  {
   "cell_type": "code",
   "execution_count": 18,
   "metadata": {
    "tags": []
   },
   "outputs": [
    {
     "output_type": "stream",
     "name": "stdout",
     "text": "<class 'geopandas.geodataframe.GeoDataFrame'>\nIndex: 26452 entries, 480291919003005 to 480291317001070\nColumns: 259 entries, OBJECTID to density\ndtypes: float64(4), geometry(1), int64(225), object(29)\nmemory usage: 52.5+ MB\n"
    }
   ],
   "source": [
    "# gdf_blocks.info()"
   ]
  },
  {
   "cell_type": "code",
   "execution_count": 19,
   "metadata": {},
   "outputs": [],
   "source": [
    "# gdf_blocks.columns.to_list()"
   ]
  },
  {
   "cell_type": "code",
   "execution_count": 20,
   "metadata": {},
   "outputs": [
    {
     "output_type": "execute_result",
     "data": {
      "text/plain": "4802993407    12969\n4802993409     3595\n4802993411     3166\n4802993412     2634\n4802993414     1853\n4802993413     1284\n4802993408      951\nName: MCD, dtype: int64"
     },
     "metadata": {},
     "execution_count": 20
    }
   ],
   "source": [
    "gdf_blocks.MCD.value_counts()"
   ]
  },
  {
   "cell_type": "code",
   "execution_count": 21,
   "metadata": {},
   "outputs": [
    {
     "output_type": "execute_result",
     "data": {
      "text/plain": "Series([], Name: SUBMCD, dtype: int64)"
     },
     "metadata": {},
     "execution_count": 21
    }
   ],
   "source": [
    "gdf_blocks.SUBMCD.value_counts()"
   ]
  },
  {
   "cell_type": "code",
   "execution_count": 22,
   "metadata": {
    "scrolled": true
   },
   "outputs": [
    {
     "output_type": "execute_result",
     "data": {
      "text/plain": "4865000    19293\n4816468      274\n4874408      260\n4801600      209\n4860608      205\n4843096      191\n4842388      181\n4873057      133\n4872296      131\n4840036      130\n4839448      124\n4879672      119\n4813276      112\n4833146      111\n4866704      106\n4866128       79\n4853988       77\n4866089       77\n4823272       76\n4834628       67\n4867268       59\n4825168       58\n4868708       47\n4864172       46\n4805384       45\n4817811       42\n4875764       41\n4845576       38\n4833968       26\n4831100       21\n4814716       21\n4845288        6\n4814920        1\nName: PLACE, dtype: int64"
     },
     "metadata": {},
     "execution_count": 22
    }
   ],
   "source": [
    "gdf_blocks.PLACE.value_counts()"
   ]
  },
  {
   "cell_type": "code",
   "execution_count": 23,
   "metadata": {
    "scrolled": false
   },
   "outputs": [
    {
     "output_type": "execute_result",
     "data": {
      "text/plain": "480294001    386\n480293097    275\n480294007    271\n480291058    270\n480294074    221\n            ... \n480293008      1\n480294143      1\n480292067      1\n480294167      1\n480294146      1\nName: VTD, Length: 620, dtype: int64"
     },
     "metadata": {},
     "execution_count": 23
    }
   ],
   "source": [
    "gdf_blocks.VTD.value_counts()"
   ]
  },
  {
   "cell_type": "code",
   "execution_count": 24,
   "metadata": {
    "scrolled": true
   },
   "outputs": [
    {
     "output_type": "execute_result",
     "data": {
      "text/plain": "48118    3428\n48122    3332\n48123    3077\n48117    3053\n48120    2976\n48119    2779\n48121    2230\n48116    1979\n48124    1940\n48125    1658\nName: LOWERSLD, dtype: int64"
     },
     "metadata": {},
     "execution_count": 24
    }
   ],
   "source": [
    "gdf_blocks.LOWERSLD.value_counts()"
   ]
  },
  {
   "cell_type": "code",
   "execution_count": 25,
   "metadata": {},
   "outputs": [
    {
     "output_type": "execute_result",
     "data": {
      "text/plain": "48026    10412\n48019     8228\n48025     5361\n48021     2451\nName: UPPERSLD, dtype: int64"
     },
     "metadata": {},
     "execution_count": 25
    }
   ],
   "source": [
    "gdf_blocks.UPPERSLD.value_counts()"
   ]
  },
  {
   "cell_type": "code",
   "execution_count": 26,
   "metadata": {},
   "outputs": [
    {
     "output_type": "execute_result",
     "data": {
      "text/plain": "41700    26452\nName: CBSA, dtype: int64"
     },
     "metadata": {},
     "execution_count": 26
    }
   ],
   "source": [
    "gdf_blocks.CBSA.value_counts()"
   ]
  },
  {
   "cell_type": "code",
   "execution_count": 27,
   "metadata": {},
   "outputs": [
    {
     "output_type": "execute_result",
     "data": {
      "text/plain": "41700    26452\nName: CBSA, dtype: int64"
     },
     "metadata": {},
     "execution_count": 27
    }
   ],
   "source": [
    "gdf_blocks.CBSA.value_counts()"
   ]
  },
  {
   "cell_type": "code",
   "execution_count": 28,
   "metadata": {
    "scrolled": true
   },
   "outputs": [
    {
     "output_type": "execute_result",
     "data": {
      "text/plain": "4838730    7222\n4833120    5282\n4832940    4447\n4824990    1464\n4817850    1094\n4818150    1046\n4822470     933\n4840950     874\n4807590     743\n4840680     706\n4840920     565\n4840740     391\n4810710     290\n4814730     283\n4820160     267\n4839480     229\n4836450     220\n4826370     218\n4830060     171\n4819350       7\nName: UNIFSCHOOL, dtype: int64"
     },
     "metadata": {},
     "execution_count": 28
    }
   ],
   "source": [
    "gdf_blocks.UNIFSCHOOL.value_counts()"
   ]
  },
  {
   "cell_type": "code",
   "execution_count": 95,
   "metadata": {},
   "outputs": [],
   "source": [
    "keep_cols = [\n",
    "    'OBJECTID',\n",
    "    'ID',\n",
    "    'COLORING',\n",
    "    # 'BLOCK',\n",
    "    'BLOCKGROUP',\n",
    "    'TRACT',\n",
    "    # 'COUNTY','STATE',\n",
    "    'BLOCK2000',\n",
    "    'MCD',\n",
    "#     'SUBMCD',\n",
    "    'PLACE',\n",
    "#     'CONCITY',\n",
    "    'VTD',\n",
    "    'CONGRESS',\n",
    "    'LOWERSLD',\n",
    "    'UPPERSLD',\n",
    "    # 'COUNTYLD','CITYLD',\n",
    "    # 'INDIAN','TRUST','TRIBALSUB','ANRC','CSA','CBSA','CBSADIV','UA','UGA',\n",
    "    # 'ELEMSCHOOL','SECSCHOOL','UNIFSCHOOL',\n",
    "    # 'ZIP5','URBANRURAL',\n",
    "    'POPULATION',\n",
    "    # 'WHITE','BLACK','AMINDIAN','ASIAN','HAWAIIAN','OTHER','WHTBLK','WHTIND','WHTASN','WHTHWN','WHTOTH',\n",
    "    # 'BLKIND','BLKASN','BLKHWN','BLKOTH','INDASN','INDHWN','INDOTH','ASNHWN','ASNOTH','HWNOTH',\n",
    "    # 'WHTBLKIND','WHTBLKASN','WHTBLKHWN','WHTBLKOTH','WHTINDASN','WHTINDHWN','WHTINDOTH','WHTASNHWN','WHTASNOTH','WHTHWNOTH',\n",
    "    # 'BLKINDASN','BLKINDHWN','BLKINDOTH','BLKASNHWN','BLKASNOTH','BLKHWNOTH','INDASNHWN','INDASNOTH','INDHWNOTH','ASNHWNOTH',\n",
    "    # 'WHTBLKINDA','WHTBLKINDH','WHTBLKINDO','WHTBLKASNH','WHTBLKASNO','WHTBLKHWNO','WHTINDASNH','WHTINDASNO','WHTINDHWNO','WHTASNHWNO',\n",
    "    # 'BLKINDASNH','BLKINDASNO','BLKINDHWNO','BLKASNHWNO','INDASNHWNO','WHTBLKIND1','WHTBLKIND2','WHTBLKIND3','WHTBLKASN1','WHTINDASN1','BLKINDASN1',\n",
    "    # 'ALL_RACES','AP_WHT','NP_WHT','AP_BLK','NP_BLK','AP_IND','NP_IND','AP_ASN','NP_ASN','AP_HWN','NP_HWN','AP_OTH','NP_OTH',\n",
    "    # 'F1_RACE','F2_RACES','F2_RACES1','F3_RACES','F4_RACES','F5_RACES',\n",
    "\n",
    "    'HISPANIC_O',\n",
    "    'NOT_HISPAN',\n",
    "    'NH_WHT',\n",
    "    'NH_BLK',\n",
    "    # 'NH_IND',\n",
    "    'NH_ASN',\n",
    "    # 'NH_HWN','NH_OTH','NH_WHTBLK','NH_WHTIND','NH_WHTASN','NH_WHTHWN','NH_WHTOTH',\n",
    "    # 'NH_BLKIND','NH_BLKASN','NH_BLKHWN','NH_BLKOTH','NH_INDASN','NH_INDHWN','NH_INDOTH','NH_ASNHWN','NH_ASNOTH','NH_HWNOTH',\n",
    "    # 'NH_WHTBLKI','NH_WHTBLKA','NH_WHTBLKH','NH_WHTBLKO','NH_WHTINDA','NH_WHTINDH','NH_WHTINDO','NH_WHTASNH','NH_WHTASNO','NH_WHTHWNO',\n",
    "    # 'NH_BLKINDA','NH_BLKINDH','NH_BLKINDO','NH_BLKASNH','NH_BLKASNO','NH_BLKHWNO','NH_INDASNH','NH_INDASNO','NH_INDHWNO','NH_ASNHWNO',\n",
    "    # 'NH_WHTBLK1','NH_WHTBLK2','NH_WHTBLK3','NH_WHTBLK4','NH_WHTBLK5','NH_WHTBLK6','NH_WHTIND1','NH_WHTIND2','NH_WHTIND3','NH_WHTASN1',\n",
    "    # 'NH_BLKIND1','NH_BLKIND2','NH_BLKIND3','NH_BLKASN1','NH_INDASN1','NH_WHTBLK7','NH_WHTBLK8','NH_WHTBLK9','NH_WHTBL10','NH_WHTIND4','NH_BLKIND4',\n",
    "    # 'NH_ALL_RAC','NH_AP_WHT','NH_NP_WHT','NH_AP_BLK','NH_NP_BLK','NH_AP_IND','NH_NP_IND','NH_AP_ASN','NH_NP_ASN','NH_AP_HWN','NH_NP_HWN','NH_AP_OTH','NH_NP_OTH',\n",
    "    # 'NH_1_RACE','NH_2_RACES','NH_2_RACE1','NH_3_RACES','NH_4_RACES','NH_5_RACES','NH_DOJ_BLK','NH_DOJ_IND','NH_DOJ_ASN','NH_DOJ_HWN','NH_DOJ_OTH','NH_DOJ_OT1',\n",
    "    # 'F18_POP','F18_WHT','F18_BLK','F18_IND','F18_ASN','F18_HWN','F18_OTH','F18_WHTBLK','F18_WHTIND','F18_WHTASN','F18_WHTHWN','F18_WHTOTH',\n",
    "    # 'F18_BLKIND','F18_BLKASN','F18_BLKHWN','F18_BLKOTH','F18_INDASN','F18_INDHWN','F18_INDOTH','F18_ASNHWN','F18_ASNOTH','F18_HWNOTH',\n",
    "    # 'F18_WHTBL1','F18_WHTBL2','F18_WHTBL3','F18_WHTBL4','F18_WHTIN1','F18_WHTIN2','F18_WHTIN3','F18_WHTAS1','F18_WHTAS2','F18_WHTHW1',\n",
    "    # 'F18_BLKIN1','F18_BLKIN2','F18_BLKIN3','F18_BLKAS1','F18_BLKAS2','F18_BLKHW1','F18_INDAS1','F18_INDAS2','F18_INDHW1','F18_ASNHW1',\n",
    "    # 'F18_WHTBL5','F18_WHTBL6','F18_WHTBL7','F18_WHTBL8','F18_WHTBL9','F18_WHTB10','F18_WHTIN4','F18_WHTIN5','F18_WHTIN6',\n",
    "    'gecovector',\n",
    "    'ShapeSTAre',\n",
    "    'ShapeSTLen',\n",
    "    # 'density',\n",
    "    'geometry'\n",
    "]"
   ]
  },
  {
   "cell_type": "code",
   "execution_count": 96,
   "metadata": {
    "tags": []
   },
   "outputs": [
    {
     "output_type": "stream",
     "name": "stdout",
     "text": "<class 'geopandas.geodataframe.GeoDataFrame'>\nIndex: 26452 entries, 480291919003005 to 480291317001070\nData columns (total 22 columns):\n #   Column      Non-Null Count  Dtype   \n---  ------      --------------  -----   \n 0   OBJECTID    26452 non-null  int64   \n 1   ID          26452 non-null  int64   \n 2   COLORING    26452 non-null  int64   \n 3   BLOCKGROUP  26452 non-null  object  \n 4   TRACT       26452 non-null  object  \n 5   BLOCK2000   26452 non-null  object  \n 6   MCD         26452 non-null  object  \n 7   PLACE       22406 non-null  object  \n 8   VTD         26452 non-null  object  \n 9   CONGRESS    26452 non-null  object  \n 10  LOWERSLD    26452 non-null  object  \n 11  UPPERSLD    26452 non-null  object  \n 12  POPULATION  26452 non-null  int64   \n 13  HISPANIC_O  26452 non-null  int64   \n 14  NOT_HISPAN  26452 non-null  int64   \n 15  NH_WHT      26452 non-null  int64   \n 16  NH_BLK      26452 non-null  int64   \n 17  NH_ASN      26452 non-null  int64   \n 18  gecovector  26452 non-null  float64 \n 19  ShapeSTAre  26452 non-null  float64 \n 20  ShapeSTLen  26452 non-null  float64 \n 21  geometry    26452 non-null  geometry\ndtypes: float64(3), geometry(1), int64(9), object(9)\nmemory usage: 4.6+ MB\nNone\n"
    },
    {
     "output_type": "execute_result",
     "data": {
      "text/plain": "           OBJECTID            ID      COLORING    POPULATION    HISPANIC_O  \\\ncount  26452.000000  2.645200e+04  26452.000000  26452.000000  26452.000000   \nmean   13226.500000  1.243468e+06      1.690761     64.825835     38.067367   \nstd     7636.178997  6.258835e+05      1.286938    150.554807     83.451999   \nmin        1.000000  4.145400e+04      0.000000      0.000000      0.000000   \n25%     6613.750000  7.329382e+05      1.000000      0.000000      0.000000   \n50%    13226.500000  1.281186e+06      2.000000     31.000000     14.000000   \n75%    19839.250000  1.736940e+06      3.000000     71.000000     46.000000   \nmax    26452.000000  2.385761e+06      7.000000   4140.000000   2463.000000   \n\n         NOT_HISPAN        NH_WHT        NH_BLK        NH_ASN    gecovector  \\\ncount  26452.000000  26452.000000  26452.000000  26452.000000  26452.000000   \nmean      26.758468     19.625095      4.478300      1.495577      0.047543   \nstd       82.360602     60.208552     19.885058     10.327261      0.253393   \nmin        0.000000      0.000000      0.000000      0.000000      0.000002   \n25%        0.000000      0.000000      0.000000      0.000000      0.004255   \n50%        4.000000      2.000000      0.000000      0.000000      0.008064   \n75%       25.000000     19.000000      2.000000      0.000000      0.016316   \nmax     2729.000000   2081.000000    816.000000    976.000000     11.415016   \n\n         ShapeSTAre     ShapeSTLen  \ncount  2.645200e+04   26452.000000  \nmean   1.323467e+06    3933.463649  \nstd    7.053571e+06    6037.748803  \nmin    5.252539e+01      41.829450  \n25%    1.184276e+05    1620.049860  \n50%    2.244722e+05    2310.058933  \n75%    4.541329e+05    3694.748299  \nmax    3.177830e+08  118400.197856  ",
      "text/html": "<div>\n<style scoped>\n    .dataframe tbody tr th:only-of-type {\n        vertical-align: middle;\n    }\n\n    .dataframe tbody tr th {\n        vertical-align: top;\n    }\n\n    .dataframe thead th {\n        text-align: right;\n    }\n</style>\n<table border=\"1\" class=\"dataframe\">\n  <thead>\n    <tr style=\"text-align: right;\">\n      <th></th>\n      <th>OBJECTID</th>\n      <th>ID</th>\n      <th>COLORING</th>\n      <th>POPULATION</th>\n      <th>HISPANIC_O</th>\n      <th>NOT_HISPAN</th>\n      <th>NH_WHT</th>\n      <th>NH_BLK</th>\n      <th>NH_ASN</th>\n      <th>gecovector</th>\n      <th>ShapeSTAre</th>\n      <th>ShapeSTLen</th>\n    </tr>\n  </thead>\n  <tbody>\n    <tr>\n      <th>count</th>\n      <td>26452.000000</td>\n      <td>2.645200e+04</td>\n      <td>26452.000000</td>\n      <td>26452.000000</td>\n      <td>26452.000000</td>\n      <td>26452.000000</td>\n      <td>26452.000000</td>\n      <td>26452.000000</td>\n      <td>26452.000000</td>\n      <td>26452.000000</td>\n      <td>2.645200e+04</td>\n      <td>26452.000000</td>\n    </tr>\n    <tr>\n      <th>mean</th>\n      <td>13226.500000</td>\n      <td>1.243468e+06</td>\n      <td>1.690761</td>\n      <td>64.825835</td>\n      <td>38.067367</td>\n      <td>26.758468</td>\n      <td>19.625095</td>\n      <td>4.478300</td>\n      <td>1.495577</td>\n      <td>0.047543</td>\n      <td>1.323467e+06</td>\n      <td>3933.463649</td>\n    </tr>\n    <tr>\n      <th>std</th>\n      <td>7636.178997</td>\n      <td>6.258835e+05</td>\n      <td>1.286938</td>\n      <td>150.554807</td>\n      <td>83.451999</td>\n      <td>82.360602</td>\n      <td>60.208552</td>\n      <td>19.885058</td>\n      <td>10.327261</td>\n      <td>0.253393</td>\n      <td>7.053571e+06</td>\n      <td>6037.748803</td>\n    </tr>\n    <tr>\n      <th>min</th>\n      <td>1.000000</td>\n      <td>4.145400e+04</td>\n      <td>0.000000</td>\n      <td>0.000000</td>\n      <td>0.000000</td>\n      <td>0.000000</td>\n      <td>0.000000</td>\n      <td>0.000000</td>\n      <td>0.000000</td>\n      <td>0.000002</td>\n      <td>5.252539e+01</td>\n      <td>41.829450</td>\n    </tr>\n    <tr>\n      <th>25%</th>\n      <td>6613.750000</td>\n      <td>7.329382e+05</td>\n      <td>1.000000</td>\n      <td>0.000000</td>\n      <td>0.000000</td>\n      <td>0.000000</td>\n      <td>0.000000</td>\n      <td>0.000000</td>\n      <td>0.000000</td>\n      <td>0.004255</td>\n      <td>1.184276e+05</td>\n      <td>1620.049860</td>\n    </tr>\n    <tr>\n      <th>50%</th>\n      <td>13226.500000</td>\n      <td>1.281186e+06</td>\n      <td>2.000000</td>\n      <td>31.000000</td>\n      <td>14.000000</td>\n      <td>4.000000</td>\n      <td>2.000000</td>\n      <td>0.000000</td>\n      <td>0.000000</td>\n      <td>0.008064</td>\n      <td>2.244722e+05</td>\n      <td>2310.058933</td>\n    </tr>\n    <tr>\n      <th>75%</th>\n      <td>19839.250000</td>\n      <td>1.736940e+06</td>\n      <td>3.000000</td>\n      <td>71.000000</td>\n      <td>46.000000</td>\n      <td>25.000000</td>\n      <td>19.000000</td>\n      <td>2.000000</td>\n      <td>0.000000</td>\n      <td>0.016316</td>\n      <td>4.541329e+05</td>\n      <td>3694.748299</td>\n    </tr>\n    <tr>\n      <th>max</th>\n      <td>26452.000000</td>\n      <td>2.385761e+06</td>\n      <td>7.000000</td>\n      <td>4140.000000</td>\n      <td>2463.000000</td>\n      <td>2729.000000</td>\n      <td>2081.000000</td>\n      <td>816.000000</td>\n      <td>976.000000</td>\n      <td>11.415016</td>\n      <td>3.177830e+08</td>\n      <td>118400.197856</td>\n    </tr>\n  </tbody>\n</table>\n</div>"
     },
     "metadata": {},
     "execution_count": 96
    }
   ],
   "source": [
    "gdf_blocks = gdf_blocks[keep_cols]\n",
    "print(gdf_blocks.info())\n",
    "gdf_blocks.describe()"
   ]
  },
  {
   "cell_type": "code",
   "execution_count": null,
   "metadata": {
    "scrolled": true,
    "tags": []
   },
   "outputs": [],
   "source": []
  },
  {
   "cell_type": "code",
   "execution_count": null,
   "metadata": {},
   "outputs": [],
   "source": []
  },
  {
   "cell_type": "code",
   "execution_count": 97,
   "metadata": {
    "scrolled": true
   },
   "outputs": [
    {
     "output_type": "execute_result",
     "data": {
      "text/plain": "                 OBJECTID       ID  COLORING    BLOCKGROUP        TRACT  \\\nBLOCK                                                                     \n480291919003005         1  1400310         4  480291919003  48029191900   \n480291411011002         2  1400328         3  480291411011  48029141101   \n480291411011006         3  1400348         3  480291411011  48029141101   \n480291410002007         4  1400365         1  480291410002  48029141000   \n480291410002006         5  1400383         3  480291410002  48029141000   \n\n                       BLOCK2000         MCD    PLACE        VTD CONGRESS  \\\nBLOCK                                                                       \n480291919003005  480291301005004  4802993407  4865000  480294004     4821   \n480291411011002  480291411006004  4802993407  4865000  480291074     4823   \n480291411011006  480291411006001  4802993407  4865000  480291074     4823   \n480291410002007  480291410002009  4802993407  4865000  480291074     4823   \n480291410002006  480291410002008  4802993407  4865000  480291074     4823   \n\n                 ... POPULATION HISPANIC_O  NOT_HISPAN  NH_WHT  NH_BLK  \\\nBLOCK            ...                                                     \n480291919003005  ...         13         11           2       0       0   \n480291411011002  ...          0          0           0       0       0   \n480291411011006  ...        102         82          20      16       2   \n480291410002007  ...        162        149          13      13       0   \n480291410002006  ...        133        124           9       5       4   \n\n                 NH_ASN  gecovector     ShapeSTAre   ShapeSTLen  \\\nBLOCK                                                             \n480291919003005       0    0.001038   28896.121094  1063.271402   \n480291411011002       0    0.018304  509512.736328  8615.618889   \n480291411011006       0    0.012803  356394.378906  2836.366689   \n480291410002007       0    0.012892  358877.382812  2852.304380   \n480291410002006       0    0.016129  448943.710938  2994.127235   \n\n                                                          geometry  \nBLOCK                                                               \n480291919003005  POLYGON ((-98.46781 29.42506, -98.46783 29.424...  \n480291411011002  POLYGON ((-98.46881 29.36511, -98.46815 29.364...  \n480291411011006  POLYGON ((-98.46323 29.36640, -98.46324 29.365...  \n480291410002007  POLYGON ((-98.46667 29.36662, -98.46668 29.367...  \n480291410002006  POLYGON ((-98.46668 29.36753, -98.46667 29.368...  \n\n[5 rows x 22 columns]",
      "text/html": "<div>\n<style scoped>\n    .dataframe tbody tr th:only-of-type {\n        vertical-align: middle;\n    }\n\n    .dataframe tbody tr th {\n        vertical-align: top;\n    }\n\n    .dataframe thead th {\n        text-align: right;\n    }\n</style>\n<table border=\"1\" class=\"dataframe\">\n  <thead>\n    <tr style=\"text-align: right;\">\n      <th></th>\n      <th>OBJECTID</th>\n      <th>ID</th>\n      <th>COLORING</th>\n      <th>BLOCKGROUP</th>\n      <th>TRACT</th>\n      <th>BLOCK2000</th>\n      <th>MCD</th>\n      <th>PLACE</th>\n      <th>VTD</th>\n      <th>CONGRESS</th>\n      <th>...</th>\n      <th>POPULATION</th>\n      <th>HISPANIC_O</th>\n      <th>NOT_HISPAN</th>\n      <th>NH_WHT</th>\n      <th>NH_BLK</th>\n      <th>NH_ASN</th>\n      <th>gecovector</th>\n      <th>ShapeSTAre</th>\n      <th>ShapeSTLen</th>\n      <th>geometry</th>\n    </tr>\n    <tr>\n      <th>BLOCK</th>\n      <th></th>\n      <th></th>\n      <th></th>\n      <th></th>\n      <th></th>\n      <th></th>\n      <th></th>\n      <th></th>\n      <th></th>\n      <th></th>\n      <th></th>\n      <th></th>\n      <th></th>\n      <th></th>\n      <th></th>\n      <th></th>\n      <th></th>\n      <th></th>\n      <th></th>\n      <th></th>\n      <th></th>\n    </tr>\n  </thead>\n  <tbody>\n    <tr>\n      <th>480291919003005</th>\n      <td>1</td>\n      <td>1400310</td>\n      <td>4</td>\n      <td>480291919003</td>\n      <td>48029191900</td>\n      <td>480291301005004</td>\n      <td>4802993407</td>\n      <td>4865000</td>\n      <td>480294004</td>\n      <td>4821</td>\n      <td>...</td>\n      <td>13</td>\n      <td>11</td>\n      <td>2</td>\n      <td>0</td>\n      <td>0</td>\n      <td>0</td>\n      <td>0.001038</td>\n      <td>28896.121094</td>\n      <td>1063.271402</td>\n      <td>POLYGON ((-98.46781 29.42506, -98.46783 29.424...</td>\n    </tr>\n    <tr>\n      <th>480291411011002</th>\n      <td>2</td>\n      <td>1400328</td>\n      <td>3</td>\n      <td>480291411011</td>\n      <td>48029141101</td>\n      <td>480291411006004</td>\n      <td>4802993407</td>\n      <td>4865000</td>\n      <td>480291074</td>\n      <td>4823</td>\n      <td>...</td>\n      <td>0</td>\n      <td>0</td>\n      <td>0</td>\n      <td>0</td>\n      <td>0</td>\n      <td>0</td>\n      <td>0.018304</td>\n      <td>509512.736328</td>\n      <td>8615.618889</td>\n      <td>POLYGON ((-98.46881 29.36511, -98.46815 29.364...</td>\n    </tr>\n    <tr>\n      <th>480291411011006</th>\n      <td>3</td>\n      <td>1400348</td>\n      <td>3</td>\n      <td>480291411011</td>\n      <td>48029141101</td>\n      <td>480291411006001</td>\n      <td>4802993407</td>\n      <td>4865000</td>\n      <td>480291074</td>\n      <td>4823</td>\n      <td>...</td>\n      <td>102</td>\n      <td>82</td>\n      <td>20</td>\n      <td>16</td>\n      <td>2</td>\n      <td>0</td>\n      <td>0.012803</td>\n      <td>356394.378906</td>\n      <td>2836.366689</td>\n      <td>POLYGON ((-98.46323 29.36640, -98.46324 29.365...</td>\n    </tr>\n    <tr>\n      <th>480291410002007</th>\n      <td>4</td>\n      <td>1400365</td>\n      <td>1</td>\n      <td>480291410002</td>\n      <td>48029141000</td>\n      <td>480291410002009</td>\n      <td>4802993407</td>\n      <td>4865000</td>\n      <td>480291074</td>\n      <td>4823</td>\n      <td>...</td>\n      <td>162</td>\n      <td>149</td>\n      <td>13</td>\n      <td>13</td>\n      <td>0</td>\n      <td>0</td>\n      <td>0.012892</td>\n      <td>358877.382812</td>\n      <td>2852.304380</td>\n      <td>POLYGON ((-98.46667 29.36662, -98.46668 29.367...</td>\n    </tr>\n    <tr>\n      <th>480291410002006</th>\n      <td>5</td>\n      <td>1400383</td>\n      <td>3</td>\n      <td>480291410002</td>\n      <td>48029141000</td>\n      <td>480291410002008</td>\n      <td>4802993407</td>\n      <td>4865000</td>\n      <td>480291074</td>\n      <td>4823</td>\n      <td>...</td>\n      <td>133</td>\n      <td>124</td>\n      <td>9</td>\n      <td>5</td>\n      <td>4</td>\n      <td>0</td>\n      <td>0.016129</td>\n      <td>448943.710938</td>\n      <td>2994.127235</td>\n      <td>POLYGON ((-98.46668 29.36753, -98.46667 29.368...</td>\n    </tr>\n  </tbody>\n</table>\n<p>5 rows × 22 columns</p>\n</div>"
     },
     "metadata": {},
     "execution_count": 97
    }
   ],
   "source": [
    "gdf_blocks.head()"
   ]
  },
  {
   "cell_type": "code",
   "execution_count": 32,
   "metadata": {
    "scrolled": true
   },
   "outputs": [
    {
     "output_type": "execute_result",
     "data": {
      "text/plain": "              Blocks\nBLOCKGROUP          \n480291101001     132\n480291101002      50\n480291101003      68\n480291103001      19\n480291103002       4\n...              ...\n480299800021      39\n480299800031      86\n480299800041      57\n480299800051       3\n480299801001     167\n\n[806 rows x 1 columns]",
      "text/html": "<div>\n<style scoped>\n    .dataframe tbody tr th:only-of-type {\n        vertical-align: middle;\n    }\n\n    .dataframe tbody tr th {\n        vertical-align: top;\n    }\n\n    .dataframe thead th {\n        text-align: right;\n    }\n</style>\n<table border=\"1\" class=\"dataframe\">\n  <thead>\n    <tr style=\"text-align: right;\">\n      <th></th>\n      <th>Blocks</th>\n    </tr>\n    <tr>\n      <th>BLOCKGROUP</th>\n      <th></th>\n    </tr>\n  </thead>\n  <tbody>\n    <tr>\n      <th>480291101001</th>\n      <td>132</td>\n    </tr>\n    <tr>\n      <th>480291101002</th>\n      <td>50</td>\n    </tr>\n    <tr>\n      <th>480291101003</th>\n      <td>68</td>\n    </tr>\n    <tr>\n      <th>480291103001</th>\n      <td>19</td>\n    </tr>\n    <tr>\n      <th>480291103002</th>\n      <td>4</td>\n    </tr>\n    <tr>\n      <th>...</th>\n      <td>...</td>\n    </tr>\n    <tr>\n      <th>480299800021</th>\n      <td>39</td>\n    </tr>\n    <tr>\n      <th>480299800031</th>\n      <td>86</td>\n    </tr>\n    <tr>\n      <th>480299800041</th>\n      <td>57</td>\n    </tr>\n    <tr>\n      <th>480299800051</th>\n      <td>3</td>\n    </tr>\n    <tr>\n      <th>480299801001</th>\n      <td>167</td>\n    </tr>\n  </tbody>\n</table>\n<p>806 rows × 1 columns</p>\n</div>"
     },
     "metadata": {},
     "execution_count": 32
    }
   ],
   "source": [
    "gdf_blocks[['BLOCKGROUP','POPULATION']][gdf_blocks.POPULATION == 0].groupby('BLOCKGROUP').count().rename(columns={'POPULATION': 'Blocks'})"
   ]
  },
  {
   "cell_type": "code",
   "execution_count": 33,
   "metadata": {},
   "outputs": [],
   "source": [
    "chk_cols = [\n",
    "#     'BLOCK',\n",
    "    'POPULATION',\n",
    "    'NH_WHT',\n",
    "    'NH_BLK',\n",
    "    'NH_ASN',\n",
    "    'HISPANIC_O',\n",
    "    'NOT_HISPAN',\n",
    "    \n",
    "]"
   ]
  },
  {
   "cell_type": "code",
   "execution_count": 34,
   "metadata": {},
   "outputs": [],
   "source": [
    "gdf_chk = gdf_blocks[chk_cols]"
   ]
  },
  {
   "cell_type": "code",
   "execution_count": 35,
   "metadata": {},
   "outputs": [
    {
     "output_type": "execute_result",
     "data": {
      "text/plain": "                 POPULATION  NH_WHT  NH_BLK  NH_ASN  HISPANIC_O  NOT_HISPAN\nBLOCK                                                                      \n480291919003005          13       0       0       0          11           2\n480291411011002           0       0       0       0           0           0\n480291411011006         102      16       2       0          82          20\n480291410002007         162      13       0       0         149          13\n480291410002006         133       5       4       0         124           9\n...                     ...     ...     ...     ...         ...         ...\n480291317001083           0       0       0       0           0           0\n480291317001082           0       0       0       0           0           0\n480291317001081           0       0       0       0           0           0\n480291317001071           0       0       0       0           0           0\n480291317001070           0       0       0       0           0           0\n\n[26452 rows x 6 columns]",
      "text/html": "<div>\n<style scoped>\n    .dataframe tbody tr th:only-of-type {\n        vertical-align: middle;\n    }\n\n    .dataframe tbody tr th {\n        vertical-align: top;\n    }\n\n    .dataframe thead th {\n        text-align: right;\n    }\n</style>\n<table border=\"1\" class=\"dataframe\">\n  <thead>\n    <tr style=\"text-align: right;\">\n      <th></th>\n      <th>POPULATION</th>\n      <th>NH_WHT</th>\n      <th>NH_BLK</th>\n      <th>NH_ASN</th>\n      <th>HISPANIC_O</th>\n      <th>NOT_HISPAN</th>\n    </tr>\n    <tr>\n      <th>BLOCK</th>\n      <th></th>\n      <th></th>\n      <th></th>\n      <th></th>\n      <th></th>\n      <th></th>\n    </tr>\n  </thead>\n  <tbody>\n    <tr>\n      <th>480291919003005</th>\n      <td>13</td>\n      <td>0</td>\n      <td>0</td>\n      <td>0</td>\n      <td>11</td>\n      <td>2</td>\n    </tr>\n    <tr>\n      <th>480291411011002</th>\n      <td>0</td>\n      <td>0</td>\n      <td>0</td>\n      <td>0</td>\n      <td>0</td>\n      <td>0</td>\n    </tr>\n    <tr>\n      <th>480291411011006</th>\n      <td>102</td>\n      <td>16</td>\n      <td>2</td>\n      <td>0</td>\n      <td>82</td>\n      <td>20</td>\n    </tr>\n    <tr>\n      <th>480291410002007</th>\n      <td>162</td>\n      <td>13</td>\n      <td>0</td>\n      <td>0</td>\n      <td>149</td>\n      <td>13</td>\n    </tr>\n    <tr>\n      <th>480291410002006</th>\n      <td>133</td>\n      <td>5</td>\n      <td>4</td>\n      <td>0</td>\n      <td>124</td>\n      <td>9</td>\n    </tr>\n    <tr>\n      <th>...</th>\n      <td>...</td>\n      <td>...</td>\n      <td>...</td>\n      <td>...</td>\n      <td>...</td>\n      <td>...</td>\n    </tr>\n    <tr>\n      <th>480291317001083</th>\n      <td>0</td>\n      <td>0</td>\n      <td>0</td>\n      <td>0</td>\n      <td>0</td>\n      <td>0</td>\n    </tr>\n    <tr>\n      <th>480291317001082</th>\n      <td>0</td>\n      <td>0</td>\n      <td>0</td>\n      <td>0</td>\n      <td>0</td>\n      <td>0</td>\n    </tr>\n    <tr>\n      <th>480291317001081</th>\n      <td>0</td>\n      <td>0</td>\n      <td>0</td>\n      <td>0</td>\n      <td>0</td>\n      <td>0</td>\n    </tr>\n    <tr>\n      <th>480291317001071</th>\n      <td>0</td>\n      <td>0</td>\n      <td>0</td>\n      <td>0</td>\n      <td>0</td>\n      <td>0</td>\n    </tr>\n    <tr>\n      <th>480291317001070</th>\n      <td>0</td>\n      <td>0</td>\n      <td>0</td>\n      <td>0</td>\n      <td>0</td>\n      <td>0</td>\n    </tr>\n  </tbody>\n</table>\n<p>26452 rows × 6 columns</p>\n</div>"
     },
     "metadata": {},
     "execution_count": 35
    }
   ],
   "source": [
    "gdf_chk"
   ]
  },
  {
   "cell_type": "code",
   "execution_count": 36,
   "metadata": {},
   "outputs": [],
   "source": [
    "df_stops_202004 = pd.read_csv(file_stops_202004).set_index('stop_id')"
   ]
  },
  {
   "cell_type": "code",
   "execution_count": 37,
   "metadata": {
    "tags": []
   },
   "outputs": [
    {
     "output_type": "stream",
     "name": "stdout",
     "text": "<class 'pandas.core.frame.DataFrame'>\nInt64Index: 6491 entries, 25316 to 74369\nData columns (total 11 columns):\n #   Column               Non-Null Count  Dtype  \n---  ------               --------------  -----  \n 0   stop_code            6491 non-null   int64  \n 1   stop_name            6491 non-null   object \n 2   stop_desc            1608 non-null   object \n 3   stop_lat             6491 non-null   float64\n 4   stop_lon             6491 non-null   float64\n 5   zone_id              0 non-null      float64\n 6   stop_url             0 non-null      float64\n 7   location_type        0 non-null      float64\n 8   parent_station       0 non-null      float64\n 9   stop_timezone        0 non-null      float64\n 10  wheelchair_boarding  6491 non-null   int64  \ndtypes: float64(7), int64(2), object(2)\nmemory usage: 608.5+ KB\n"
    }
   ],
   "source": [
    "df_stops_202004.info()"
   ]
  },
  {
   "cell_type": "code",
   "execution_count": 38,
   "metadata": {},
   "outputs": [
    {
     "output_type": "execute_result",
     "data": {
      "text/plain": "          stop_code     stop_lat     stop_lon  zone_id  stop_url  \\\ncount   6491.000000  6491.000000  6491.000000      0.0       0.0   \nmean   55405.448313    29.455182   -98.522178      NaN       NaN   \nstd    27111.251565     0.064817     0.077617      NaN       NaN   \nmin    10013.000000    29.294060   -98.711000      NaN       NaN   \n25%    29846.000000    29.408544   -98.573360      NaN       NaN   \n50%    55429.000000    29.450496   -98.517246      NaN       NaN   \n75%    79626.500000    29.503407   -98.468857      NaN       NaN   \nmax    99996.000000    29.650497   -98.306921      NaN       NaN   \n\n       location_type  parent_station  stop_timezone  wheelchair_boarding  \ncount            0.0             0.0            0.0               6491.0  \nmean             NaN             NaN            NaN                  0.0  \nstd              NaN             NaN            NaN                  0.0  \nmin              NaN             NaN            NaN                  0.0  \n25%              NaN             NaN            NaN                  0.0  \n50%              NaN             NaN            NaN                  0.0  \n75%              NaN             NaN            NaN                  0.0  \nmax              NaN             NaN            NaN                  0.0  ",
      "text/html": "<div>\n<style scoped>\n    .dataframe tbody tr th:only-of-type {\n        vertical-align: middle;\n    }\n\n    .dataframe tbody tr th {\n        vertical-align: top;\n    }\n\n    .dataframe thead th {\n        text-align: right;\n    }\n</style>\n<table border=\"1\" class=\"dataframe\">\n  <thead>\n    <tr style=\"text-align: right;\">\n      <th></th>\n      <th>stop_code</th>\n      <th>stop_lat</th>\n      <th>stop_lon</th>\n      <th>zone_id</th>\n      <th>stop_url</th>\n      <th>location_type</th>\n      <th>parent_station</th>\n      <th>stop_timezone</th>\n      <th>wheelchair_boarding</th>\n    </tr>\n  </thead>\n  <tbody>\n    <tr>\n      <th>count</th>\n      <td>6491.000000</td>\n      <td>6491.000000</td>\n      <td>6491.000000</td>\n      <td>0.0</td>\n      <td>0.0</td>\n      <td>0.0</td>\n      <td>0.0</td>\n      <td>0.0</td>\n      <td>6491.0</td>\n    </tr>\n    <tr>\n      <th>mean</th>\n      <td>55405.448313</td>\n      <td>29.455182</td>\n      <td>-98.522178</td>\n      <td>NaN</td>\n      <td>NaN</td>\n      <td>NaN</td>\n      <td>NaN</td>\n      <td>NaN</td>\n      <td>0.0</td>\n    </tr>\n    <tr>\n      <th>std</th>\n      <td>27111.251565</td>\n      <td>0.064817</td>\n      <td>0.077617</td>\n      <td>NaN</td>\n      <td>NaN</td>\n      <td>NaN</td>\n      <td>NaN</td>\n      <td>NaN</td>\n      <td>0.0</td>\n    </tr>\n    <tr>\n      <th>min</th>\n      <td>10013.000000</td>\n      <td>29.294060</td>\n      <td>-98.711000</td>\n      <td>NaN</td>\n      <td>NaN</td>\n      <td>NaN</td>\n      <td>NaN</td>\n      <td>NaN</td>\n      <td>0.0</td>\n    </tr>\n    <tr>\n      <th>25%</th>\n      <td>29846.000000</td>\n      <td>29.408544</td>\n      <td>-98.573360</td>\n      <td>NaN</td>\n      <td>NaN</td>\n      <td>NaN</td>\n      <td>NaN</td>\n      <td>NaN</td>\n      <td>0.0</td>\n    </tr>\n    <tr>\n      <th>50%</th>\n      <td>55429.000000</td>\n      <td>29.450496</td>\n      <td>-98.517246</td>\n      <td>NaN</td>\n      <td>NaN</td>\n      <td>NaN</td>\n      <td>NaN</td>\n      <td>NaN</td>\n      <td>0.0</td>\n    </tr>\n    <tr>\n      <th>75%</th>\n      <td>79626.500000</td>\n      <td>29.503407</td>\n      <td>-98.468857</td>\n      <td>NaN</td>\n      <td>NaN</td>\n      <td>NaN</td>\n      <td>NaN</td>\n      <td>NaN</td>\n      <td>0.0</td>\n    </tr>\n    <tr>\n      <th>max</th>\n      <td>99996.000000</td>\n      <td>29.650497</td>\n      <td>-98.306921</td>\n      <td>NaN</td>\n      <td>NaN</td>\n      <td>NaN</td>\n      <td>NaN</td>\n      <td>NaN</td>\n      <td>0.0</td>\n    </tr>\n  </tbody>\n</table>\n</div>"
     },
     "metadata": {},
     "execution_count": 38
    }
   ],
   "source": [
    "df_stops_202004.describe()"
   ]
  },
  {
   "cell_type": "code",
   "execution_count": 39,
   "metadata": {},
   "outputs": [],
   "source": [
    "df_stops_202004 = df_stops_202004[['stop_code', 'stop_name', 'stop_lat', 'stop_lon', 'wheelchair_boarding']]"
   ]
  },
  {
   "cell_type": "code",
   "execution_count": 40,
   "metadata": {},
   "outputs": [
    {
     "output_type": "execute_result",
     "data": {
      "text/plain": "         stop_code                       stop_name   stop_lat   stop_lon  \\\nstop_id                                                                    \n25316        25316                BLANCO & DRESDEN  29.499014 -98.507783   \n72479        72479     FRESNO & IH-10 W ACCESS RD.  29.474488 -98.516238   \n56239        56239  FREDERICKSBURG RD. & N. FLORES  29.441883 -98.503773   \n76759        76759                MARTIN & N. FRIO  29.430081 -98.503058   \n88973        88973            DOLOROSA & S. FLORES  29.424073 -98.494741   \n\n         wheelchair_boarding  \nstop_id                       \n25316                      0  \n72479                      0  \n56239                      0  \n76759                      0  \n88973                      0  ",
      "text/html": "<div>\n<style scoped>\n    .dataframe tbody tr th:only-of-type {\n        vertical-align: middle;\n    }\n\n    .dataframe tbody tr th {\n        vertical-align: top;\n    }\n\n    .dataframe thead th {\n        text-align: right;\n    }\n</style>\n<table border=\"1\" class=\"dataframe\">\n  <thead>\n    <tr style=\"text-align: right;\">\n      <th></th>\n      <th>stop_code</th>\n      <th>stop_name</th>\n      <th>stop_lat</th>\n      <th>stop_lon</th>\n      <th>wheelchair_boarding</th>\n    </tr>\n    <tr>\n      <th>stop_id</th>\n      <th></th>\n      <th></th>\n      <th></th>\n      <th></th>\n      <th></th>\n    </tr>\n  </thead>\n  <tbody>\n    <tr>\n      <th>25316</th>\n      <td>25316</td>\n      <td>BLANCO &amp; DRESDEN</td>\n      <td>29.499014</td>\n      <td>-98.507783</td>\n      <td>0</td>\n    </tr>\n    <tr>\n      <th>72479</th>\n      <td>72479</td>\n      <td>FRESNO &amp; IH-10 W ACCESS RD.</td>\n      <td>29.474488</td>\n      <td>-98.516238</td>\n      <td>0</td>\n    </tr>\n    <tr>\n      <th>56239</th>\n      <td>56239</td>\n      <td>FREDERICKSBURG RD. &amp; N. FLORES</td>\n      <td>29.441883</td>\n      <td>-98.503773</td>\n      <td>0</td>\n    </tr>\n    <tr>\n      <th>76759</th>\n      <td>76759</td>\n      <td>MARTIN &amp; N. FRIO</td>\n      <td>29.430081</td>\n      <td>-98.503058</td>\n      <td>0</td>\n    </tr>\n    <tr>\n      <th>88973</th>\n      <td>88973</td>\n      <td>DOLOROSA &amp; S. FLORES</td>\n      <td>29.424073</td>\n      <td>-98.494741</td>\n      <td>0</td>\n    </tr>\n  </tbody>\n</table>\n</div>"
     },
     "metadata": {},
     "execution_count": 40
    }
   ],
   "source": [
    "df_stops_202004.head()"
   ]
  },
  {
   "cell_type": "code",
   "execution_count": 41,
   "metadata": {
    "tags": []
   },
   "outputs": [
    {
     "output_type": "stream",
     "name": "stdout",
     "text": "<class 'pandas.core.frame.DataFrame'>\nInt64Index: 6491 entries, 25316 to 74369\nData columns (total 5 columns):\n #   Column               Non-Null Count  Dtype  \n---  ------               --------------  -----  \n 0   stop_code            6491 non-null   int64  \n 1   stop_name            6491 non-null   object \n 2   stop_lat             6491 non-null   float64\n 3   stop_lon             6491 non-null   float64\n 4   wheelchair_boarding  6491 non-null   int64  \ndtypes: float64(2), int64(2), object(1)\nmemory usage: 304.3+ KB\n"
    }
   ],
   "source": [
    "df_stops_202004.info()"
   ]
  },
  {
   "cell_type": "code",
   "execution_count": 42,
   "metadata": {},
   "outputs": [],
   "source": [
    "gdf_stops_202004 = gpd.GeoDataFrame(\n",
    "    df_stops_202004,\n",
    "    geometry = gpd.points_from_xy(df_stops_202004.stop_lon, df_stops_202004.stop_lat),\n",
    "    crs={'epsg:4326'}\n",
    ")"
   ]
  },
  {
   "cell_type": "code",
   "execution_count": 43,
   "metadata": {},
   "outputs": [
    {
     "output_type": "execute_result",
     "data": {
      "text/plain": "{'epsg:4326'}"
     },
     "metadata": {},
     "execution_count": 43
    }
   ],
   "source": [
    "gdf_stops_202004.crs"
   ]
  },
  {
   "cell_type": "code",
   "execution_count": 44,
   "metadata": {},
   "outputs": [
    {
     "output_type": "execute_result",
     "data": {
      "text/plain": "<Geographic 2D CRS: EPSG:4326>\nName: WGS 84\nAxis Info [ellipsoidal]:\n- Lat[north]: Geodetic latitude (degree)\n- Lon[east]: Geodetic longitude (degree)\nArea of Use:\n- name: World\n- bounds: (-180.0, -90.0, 180.0, 90.0)\nDatum: World Geodetic System 1984\n- Ellipsoid: WGS 84\n- Prime Meridian: Greenwich"
     },
     "metadata": {},
     "execution_count": 44
    }
   ],
   "source": [
    "CRS('EPSG:4326')"
   ]
  },
  {
   "cell_type": "code",
   "execution_count": 45,
   "metadata": {},
   "outputs": [
    {
     "output_type": "execute_result",
     "data": {
      "text/plain": "<Projected CRS: EPSG:3857>\nName: WGS 84 / Pseudo-Mercator\nAxis Info [cartesian]:\n- X[east]: Easting (metre)\n- Y[north]: Northing (metre)\nArea of Use:\n- name: World - 85°S to 85°N\n- bounds: (-180.0, -85.06, 180.0, 85.06)\nCoordinate Operation:\n- name: Popular Visualisation Pseudo-Mercator\n- method: Popular Visualisation Pseudo Mercator\nDatum: World Geodetic System 1984\n- Ellipsoid: WGS 84\n- Prime Meridian: Greenwich"
     },
     "metadata": {},
     "execution_count": 45
    }
   ],
   "source": [
    "CRS('EPSG:3857')"
   ]
  },
  {
   "cell_type": "code",
   "execution_count": 46,
   "metadata": {},
   "outputs": [
    {
     "output_type": "execute_result",
     "data": {
      "text/plain": "<Projected CRS: EPSG:32140>\nName: NAD83 / Texas South Central\nAxis Info [cartesian]:\n- X[east]: Easting (metre)\n- Y[north]: Northing (metre)\nArea of Use:\n- name: USA - Texas - SPCS83 - SC\n- bounds: (-105.0, 27.78, -93.76, 30.67)\nCoordinate Operation:\n- name: SPCS83 Texas South Central zone (meters)\n- method: Lambert Conic Conformal (2SP)\nDatum: North American Datum 1983\n- Ellipsoid: GRS 1980\n- Prime Meridian: Greenwich"
     },
     "metadata": {},
     "execution_count": 46
    }
   ],
   "source": [
    "CRS('EPSG:32140')"
   ]
  },
  {
   "cell_type": "code",
   "execution_count": 47,
   "metadata": {},
   "outputs": [
    {
     "output_type": "execute_result",
     "data": {
      "text/plain": "<Projected CRS: EPSG:2278>\nName: NAD83 / Texas South Central (ftUS)\nAxis Info [cartesian]:\n- X[east]: Easting (US survey foot)\n- Y[north]: Northing (US survey foot)\nArea of Use:\n- name: USA - Texas - SPCS83 - SC\n- bounds: (-105.0, 27.78, -93.76, 30.67)\nCoordinate Operation:\n- name: SPCS83 Texas South Central zone (US Survey feet)\n- method: Lambert Conic Conformal (2SP)\nDatum: North American Datum 1983\n- Ellipsoid: GRS 1980\n- Prime Meridian: Greenwich"
     },
     "metadata": {},
     "execution_count": 47
    }
   ],
   "source": [
    "CRS('EPSG:2278')"
   ]
  },
  {
   "cell_type": "code",
   "execution_count": 48,
   "metadata": {},
   "outputs": [
    {
     "output_type": "execute_result",
     "data": {
      "text/plain": "         stop_code                       stop_name   stop_lat   stop_lon  \\\nstop_id                                                                    \n25316        25316                BLANCO & DRESDEN  29.499014 -98.507783   \n72479        72479     FRESNO & IH-10 W ACCESS RD.  29.474488 -98.516238   \n56239        56239  FREDERICKSBURG RD. & N. FLORES  29.441883 -98.503773   \n76759        76759                MARTIN & N. FRIO  29.430081 -98.503058   \n88973        88973            DOLOROSA & S. FLORES  29.424073 -98.494741   \n\n         wheelchair_boarding                    geometry  \nstop_id                                                   \n25316                      0  POINT (-98.50778 29.49901)  \n72479                      0  POINT (-98.51624 29.47449)  \n56239                      0  POINT (-98.50377 29.44188)  \n76759                      0  POINT (-98.50306 29.43008)  \n88973                      0  POINT (-98.49474 29.42407)  ",
      "text/html": "<div>\n<style scoped>\n    .dataframe tbody tr th:only-of-type {\n        vertical-align: middle;\n    }\n\n    .dataframe tbody tr th {\n        vertical-align: top;\n    }\n\n    .dataframe thead th {\n        text-align: right;\n    }\n</style>\n<table border=\"1\" class=\"dataframe\">\n  <thead>\n    <tr style=\"text-align: right;\">\n      <th></th>\n      <th>stop_code</th>\n      <th>stop_name</th>\n      <th>stop_lat</th>\n      <th>stop_lon</th>\n      <th>wheelchair_boarding</th>\n      <th>geometry</th>\n    </tr>\n    <tr>\n      <th>stop_id</th>\n      <th></th>\n      <th></th>\n      <th></th>\n      <th></th>\n      <th></th>\n      <th></th>\n    </tr>\n  </thead>\n  <tbody>\n    <tr>\n      <th>25316</th>\n      <td>25316</td>\n      <td>BLANCO &amp; DRESDEN</td>\n      <td>29.499014</td>\n      <td>-98.507783</td>\n      <td>0</td>\n      <td>POINT (-98.50778 29.49901)</td>\n    </tr>\n    <tr>\n      <th>72479</th>\n      <td>72479</td>\n      <td>FRESNO &amp; IH-10 W ACCESS RD.</td>\n      <td>29.474488</td>\n      <td>-98.516238</td>\n      <td>0</td>\n      <td>POINT (-98.51624 29.47449)</td>\n    </tr>\n    <tr>\n      <th>56239</th>\n      <td>56239</td>\n      <td>FREDERICKSBURG RD. &amp; N. FLORES</td>\n      <td>29.441883</td>\n      <td>-98.503773</td>\n      <td>0</td>\n      <td>POINT (-98.50377 29.44188)</td>\n    </tr>\n    <tr>\n      <th>76759</th>\n      <td>76759</td>\n      <td>MARTIN &amp; N. FRIO</td>\n      <td>29.430081</td>\n      <td>-98.503058</td>\n      <td>0</td>\n      <td>POINT (-98.50306 29.43008)</td>\n    </tr>\n    <tr>\n      <th>88973</th>\n      <td>88973</td>\n      <td>DOLOROSA &amp; S. FLORES</td>\n      <td>29.424073</td>\n      <td>-98.494741</td>\n      <td>0</td>\n      <td>POINT (-98.49474 29.42407)</td>\n    </tr>\n  </tbody>\n</table>\n</div>"
     },
     "metadata": {},
     "execution_count": 48
    }
   ],
   "source": [
    "gdf_stops_202004.head()"
   ]
  },
  {
   "cell_type": "code",
   "execution_count": 49,
   "metadata": {},
   "outputs": [
    {
     "output_type": "error",
     "ename": "NameError",
     "evalue": "name 'gdf_tracts' is not defined",
     "traceback": [
      "\u001b[0;31m---------------------------------------------------------------------------\u001b[0m",
      "\u001b[0;31mNameError\u001b[0m                                 Traceback (most recent call last)",
      "\u001b[0;32m<ipython-input-49-3cf0a6b6a2e3>\u001b[0m in \u001b[0;36m<module>\u001b[0;34m\u001b[0m\n\u001b[0;32m----> 1\u001b[0;31m \u001b[0mgdf_county\u001b[0m \u001b[0;34m=\u001b[0m \u001b[0mgdf_tracts\u001b[0m\u001b[0;34m[\u001b[0m\u001b[0;34m[\u001b[0m\u001b[0;34m'geometry'\u001b[0m\u001b[0;34m]\u001b[0m\u001b[0;34m]\u001b[0m\u001b[0;34m.\u001b[0m\u001b[0mcopy\u001b[0m\u001b[0;34m(\u001b[0m\u001b[0;34m)\u001b[0m\u001b[0;34m\u001b[0m\u001b[0;34m\u001b[0m\u001b[0m\n\u001b[0m\u001b[1;32m      2\u001b[0m \u001b[0;34m\u001b[0m\u001b[0m\n\u001b[1;32m      3\u001b[0m \u001b[0mgdf_county\u001b[0m\u001b[0;34m[\u001b[0m\u001b[0;34m'county'\u001b[0m\u001b[0;34m]\u001b[0m \u001b[0;34m=\u001b[0m \u001b[0;34m'Bexar'\u001b[0m\u001b[0;34m\u001b[0m\u001b[0;34m\u001b[0m\u001b[0m\n\u001b[1;32m      4\u001b[0m \u001b[0mgdf_county\u001b[0m \u001b[0;34m=\u001b[0m \u001b[0mgdf_county\u001b[0m\u001b[0;34m.\u001b[0m\u001b[0mdissolve\u001b[0m\u001b[0;34m(\u001b[0m\u001b[0mby\u001b[0m\u001b[0;34m=\u001b[0m\u001b[0;34m'county'\u001b[0m\u001b[0;34m)\u001b[0m\u001b[0;34m\u001b[0m\u001b[0;34m\u001b[0m\u001b[0m\n",
      "\u001b[0;31mNameError\u001b[0m: name 'gdf_tracts' is not defined"
     ]
    }
   ],
   "source": [
    "gdf_county = gdf_tracts[['geometry']].copy()\n",
    "\n",
    "gdf_county['county'] = 'Bexar'\n",
    "gdf_county = gdf_county.dissolve(by='county')"
   ]
  },
  {
   "cell_type": "code",
   "execution_count": null,
   "metadata": {},
   "outputs": [],
   "source": []
  },
  {
   "cell_type": "code",
   "execution_count": 50,
   "metadata": {
    "scrolled": false
   },
   "outputs": [
    {
     "output_type": "error",
     "ename": "NameError",
     "evalue": "name 'gdf_county' is not defined",
     "traceback": [
      "\u001b[0;31m---------------------------------------------------------------------------\u001b[0m",
      "\u001b[0;31mNameError\u001b[0m                                 Traceback (most recent call last)",
      "\u001b[0;32m<ipython-input-50-c74cfbec54ae>\u001b[0m in \u001b[0;36m<module>\u001b[0;34m\u001b[0m\n\u001b[1;32m      4\u001b[0m \u001b[0;34m\u001b[0m\u001b[0m\n\u001b[1;32m      5\u001b[0m \u001b[0;31m# ax = gdf_county.plot(figsize=(40,40), color='white', edgecolor='blue', linewidth=5)\u001b[0m\u001b[0;34m\u001b[0m\u001b[0;34m\u001b[0m\u001b[0;34m\u001b[0m\u001b[0m\n\u001b[0;32m----> 6\u001b[0;31m \u001b[0maxbase\u001b[0m \u001b[0;34m=\u001b[0m \u001b[0mgplt\u001b[0m\u001b[0;34m.\u001b[0m\u001b[0mpolyplot\u001b[0m\u001b[0;34m(\u001b[0m\u001b[0mgdf_county\u001b[0m\u001b[0;34m,\u001b[0m \u001b[0max\u001b[0m\u001b[0;34m=\u001b[0m\u001b[0max\u001b[0m\u001b[0;34m,\u001b[0m \u001b[0mfacecolor\u001b[0m\u001b[0;34m=\u001b[0m\u001b[0;34m'white'\u001b[0m\u001b[0;34m,\u001b[0m \u001b[0medgecolor\u001b[0m\u001b[0;34m=\u001b[0m\u001b[0;34m'blue'\u001b[0m\u001b[0;34m,\u001b[0m \u001b[0mlinewidth\u001b[0m\u001b[0;34m=\u001b[0m\u001b[0;36m5\u001b[0m\u001b[0;34m)\u001b[0m\u001b[0;34m\u001b[0m\u001b[0;34m\u001b[0m\u001b[0m\n\u001b[0m\u001b[1;32m      7\u001b[0m \u001b[0;34m\u001b[0m\u001b[0m\n\u001b[1;32m      8\u001b[0m \u001b[0;34m\u001b[0m\u001b[0m\n",
      "\u001b[0;31mNameError\u001b[0m: name 'gdf_county' is not defined"
     ]
    }
   ],
   "source": [
    "fig, ax = plt.subplots(figsize=(40,40))\n",
    "ax.set_aspect('equal')\n",
    "# plt.figure(figsize=(40,40))\n",
    "\n",
    "# ax = gdf_county.plot(figsize=(40,40), color='white', edgecolor='blue', linewidth=5)\n",
    "axbase = gplt.polyplot(gdf_county, ax=ax, facecolor='white', edgecolor='blue', linewidth=5)\n",
    "\n",
    "\n",
    "# axb = gplt.choropleth(gdf_blocks, ax=ax, hue='density', edgecolor='none', cmap='Blues', alpha=0.75, linewidth=0)\n",
    "# axbg = gplt.choropleth(gdf_block_groups, ax=ax, hue='density', cmap='Blues', edgecolor='black', alpha=.25, linewidth=1)\n",
    "\n",
    "axt = gplt.polyplot(gdf_tracts, ax=ax, facecolor='none', edgecolor='black', alpha=1, linewidth=2)\n",
    "\n",
    "axbg = gplt.polyplot(gdf_block_groups, ax=ax, facecolor='none', edgecolor='black', alpha=.75, linewidth=1)\n",
    "\n",
    "axb = gplt.polyplot(gdf_blocks, ax=ax, facecolor='none', edgecolor='black', alpha=0.75, linewidth=.5)\n",
    "\n",
    "\n",
    "ax1 = gdf_stops_202004.plot(ax=ax, color='red', marker='.',markersize=30)\n",
    "# ax1 = gplt.pointplot(gdf_stops, ax=ax, color='red')\n",
    "\n",
    "# plt.savefig('figsave.png')\n",
    "plt.show()"
   ]
  },
  {
   "cell_type": "code",
   "execution_count": 51,
   "metadata": {},
   "outputs": [
    {
     "output_type": "execute_result",
     "data": {
      "text/plain": "{'init': 'epsg:4326'}"
     },
     "metadata": {},
     "execution_count": 51
    }
   ],
   "source": [
    "gdf_block_groups.crs"
   ]
  },
  {
   "cell_type": "code",
   "execution_count": 52,
   "metadata": {},
   "outputs": [],
   "source": [
    "gdf_block_groups = gdf_block_groups.to_crs('epsg:4326')"
   ]
  },
  {
   "cell_type": "code",
   "execution_count": 53,
   "metadata": {},
   "outputs": [
    {
     "output_type": "execute_result",
     "data": {
      "text/plain": "'epsg:4326'"
     },
     "metadata": {},
     "execution_count": 53
    }
   ],
   "source": [
    "gdf_block_groups.crs"
   ]
  },
  {
   "cell_type": "code",
   "execution_count": 54,
   "metadata": {},
   "outputs": [
    {
     "output_type": "execute_result",
     "data": {
      "text/plain": "         stop_code                       stop_name   stop_lat   stop_lon  \\\nstop_id                                                                    \n25316        25316                BLANCO & DRESDEN  29.499014 -98.507783   \n72479        72479     FRESNO & IH-10 W ACCESS RD.  29.474488 -98.516238   \n56239        56239  FREDERICKSBURG RD. & N. FLORES  29.441883 -98.503773   \n76759        76759                MARTIN & N. FRIO  29.430081 -98.503058   \n88973        88973            DOLOROSA & S. FLORES  29.424073 -98.494741   \n\n         wheelchair_boarding                    geometry  \\\nstop_id                                                    \n25316                      0  POINT (-98.50778 29.49901)   \n72479                      0  POINT (-98.51624 29.47449)   \n56239                      0  POINT (-98.50377 29.44188)   \n76759                      0  POINT (-98.50306 29.43008)   \n88973                      0  POINT (-98.49474 29.42407)   \n\n                              point  \nstop_id                              \n25316    POINT (-98.50778 29.49901)  \n72479    POINT (-98.51624 29.47449)  \n56239    POINT (-98.50377 29.44188)  \n76759    POINT (-98.50306 29.43008)  \n88973    POINT (-98.49474 29.42407)  ",
      "text/html": "<div>\n<style scoped>\n    .dataframe tbody tr th:only-of-type {\n        vertical-align: middle;\n    }\n\n    .dataframe tbody tr th {\n        vertical-align: top;\n    }\n\n    .dataframe thead th {\n        text-align: right;\n    }\n</style>\n<table border=\"1\" class=\"dataframe\">\n  <thead>\n    <tr style=\"text-align: right;\">\n      <th></th>\n      <th>stop_code</th>\n      <th>stop_name</th>\n      <th>stop_lat</th>\n      <th>stop_lon</th>\n      <th>wheelchair_boarding</th>\n      <th>geometry</th>\n      <th>point</th>\n    </tr>\n    <tr>\n      <th>stop_id</th>\n      <th></th>\n      <th></th>\n      <th></th>\n      <th></th>\n      <th></th>\n      <th></th>\n      <th></th>\n    </tr>\n  </thead>\n  <tbody>\n    <tr>\n      <th>25316</th>\n      <td>25316</td>\n      <td>BLANCO &amp; DRESDEN</td>\n      <td>29.499014</td>\n      <td>-98.507783</td>\n      <td>0</td>\n      <td>POINT (-98.50778 29.49901)</td>\n      <td>POINT (-98.50778 29.49901)</td>\n    </tr>\n    <tr>\n      <th>72479</th>\n      <td>72479</td>\n      <td>FRESNO &amp; IH-10 W ACCESS RD.</td>\n      <td>29.474488</td>\n      <td>-98.516238</td>\n      <td>0</td>\n      <td>POINT (-98.51624 29.47449)</td>\n      <td>POINT (-98.51624 29.47449)</td>\n    </tr>\n    <tr>\n      <th>56239</th>\n      <td>56239</td>\n      <td>FREDERICKSBURG RD. &amp; N. FLORES</td>\n      <td>29.441883</td>\n      <td>-98.503773</td>\n      <td>0</td>\n      <td>POINT (-98.50377 29.44188)</td>\n      <td>POINT (-98.50377 29.44188)</td>\n    </tr>\n    <tr>\n      <th>76759</th>\n      <td>76759</td>\n      <td>MARTIN &amp; N. FRIO</td>\n      <td>29.430081</td>\n      <td>-98.503058</td>\n      <td>0</td>\n      <td>POINT (-98.50306 29.43008)</td>\n      <td>POINT (-98.50306 29.43008)</td>\n    </tr>\n    <tr>\n      <th>88973</th>\n      <td>88973</td>\n      <td>DOLOROSA &amp; S. FLORES</td>\n      <td>29.424073</td>\n      <td>-98.494741</td>\n      <td>0</td>\n      <td>POINT (-98.49474 29.42407)</td>\n      <td>POINT (-98.49474 29.42407)</td>\n    </tr>\n  </tbody>\n</table>\n</div>"
     },
     "metadata": {},
     "execution_count": 54
    }
   ],
   "source": [
    "gdf_stops_202004_buff = gdf_stops_202004.copy()\n",
    "gdf_stops_202004_buff['point'] = gdf_stops_202004_buff.geometry\n",
    "gdf_stops_202004_buff.head()"
   ]
  },
  {
   "cell_type": "code",
   "execution_count": 55,
   "metadata": {},
   "outputs": [
    {
     "output_type": "execute_result",
     "data": {
      "text/plain": "array([-98.711   ,  29.29406 , -98.306921,  29.650497])"
     },
     "metadata": {},
     "execution_count": 55
    }
   ],
   "source": [
    "gdf_stops_202004_buff.total_bounds"
   ]
  },
  {
   "cell_type": "code",
   "execution_count": 56,
   "metadata": {},
   "outputs": [],
   "source": [
    "# gdf_stops_buff = gdf_stops_buff.to_crs(epsg=3857)\n",
    "# gdf_stops_buff = gdf_stops_buff.to_crs(epsg=2278)\n",
    "# gdf_stops_202004_buff.head()"
   ]
  },
  {
   "cell_type": "code",
   "execution_count": 57,
   "metadata": {},
   "outputs": [
    {
     "output_type": "execute_result",
     "data": {
      "text/plain": "0.00675000675000675"
     },
     "metadata": {},
     "execution_count": 57
    }
   ],
   "source": [
    "# For simplification, using distance per degree latitude to determine buffer amount. \n",
    "# This is slightly inaccurate due to the curvature of the earth. Buffer distances is\n",
    "# set at 800 meters, which is roughly a half mile.\n",
    "\n",
    "meters_per_degree = 111111\n",
    "buffer_in_meters = 750\n",
    "buffer_in_degrees = buffer_in_meters / meters_per_degree\n",
    "buffer_in_degrees"
   ]
  },
  {
   "cell_type": "code",
   "execution_count": 58,
   "metadata": {},
   "outputs": [],
   "source": [
    "# gdf_stops_buff['buffer'] = gdf_stops.buffer(buffer_in_meters)"
   ]
  },
  {
   "cell_type": "code",
   "execution_count": 59,
   "metadata": {},
   "outputs": [],
   "source": [
    "# gdf_stops.buffer(buffer_in_meters)"
   ]
  },
  {
   "cell_type": "code",
   "execution_count": 60,
   "metadata": {},
   "outputs": [],
   "source": [
    "gdf_stops_202004_buff['buffer'] = gdf_stops_202004.buffer(buffer_in_degrees)"
   ]
  },
  {
   "cell_type": "code",
   "execution_count": 61,
   "metadata": {},
   "outputs": [
    {
     "output_type": "execute_result",
     "data": {
      "text/plain": "         stop_code                       stop_name   stop_lat   stop_lon  \\\nstop_id                                                                    \n25316        25316                BLANCO & DRESDEN  29.499014 -98.507783   \n72479        72479     FRESNO & IH-10 W ACCESS RD.  29.474488 -98.516238   \n56239        56239  FREDERICKSBURG RD. & N. FLORES  29.441883 -98.503773   \n76759        76759                MARTIN & N. FRIO  29.430081 -98.503058   \n88973        88973            DOLOROSA & S. FLORES  29.424073 -98.494741   \n\n         wheelchair_boarding                    geometry  \\\nstop_id                                                    \n25316                      0  POINT (-98.50778 29.49901)   \n72479                      0  POINT (-98.51624 29.47449)   \n56239                      0  POINT (-98.50377 29.44188)   \n76759                      0  POINT (-98.50306 29.43008)   \n88973                      0  POINT (-98.49474 29.42407)   \n\n                              point  \\\nstop_id                               \n25316    POINT (-98.50778 29.49901)   \n72479    POINT (-98.51624 29.47449)   \n56239    POINT (-98.50377 29.44188)   \n76759    POINT (-98.50306 29.43008)   \n88973    POINT (-98.49474 29.42407)   \n\n                                                    buffer  \nstop_id                                                     \n25316    POLYGON ((-98.50103 29.49901, -98.50107 29.498...  \n72479    POLYGON ((-98.50949 29.47449, -98.50952 29.473...  \n56239    POLYGON ((-98.49702 29.44188, -98.49706 29.441...  \n76759    POLYGON ((-98.49631 29.43008, -98.49634 29.429...  \n88973    POLYGON ((-98.48799 29.42407, -98.48802 29.423...  ",
      "text/html": "<div>\n<style scoped>\n    .dataframe tbody tr th:only-of-type {\n        vertical-align: middle;\n    }\n\n    .dataframe tbody tr th {\n        vertical-align: top;\n    }\n\n    .dataframe thead th {\n        text-align: right;\n    }\n</style>\n<table border=\"1\" class=\"dataframe\">\n  <thead>\n    <tr style=\"text-align: right;\">\n      <th></th>\n      <th>stop_code</th>\n      <th>stop_name</th>\n      <th>stop_lat</th>\n      <th>stop_lon</th>\n      <th>wheelchair_boarding</th>\n      <th>geometry</th>\n      <th>point</th>\n      <th>buffer</th>\n    </tr>\n    <tr>\n      <th>stop_id</th>\n      <th></th>\n      <th></th>\n      <th></th>\n      <th></th>\n      <th></th>\n      <th></th>\n      <th></th>\n      <th></th>\n    </tr>\n  </thead>\n  <tbody>\n    <tr>\n      <th>25316</th>\n      <td>25316</td>\n      <td>BLANCO &amp; DRESDEN</td>\n      <td>29.499014</td>\n      <td>-98.507783</td>\n      <td>0</td>\n      <td>POINT (-98.50778 29.49901)</td>\n      <td>POINT (-98.50778 29.49901)</td>\n      <td>POLYGON ((-98.50103 29.49901, -98.50107 29.498...</td>\n    </tr>\n    <tr>\n      <th>72479</th>\n      <td>72479</td>\n      <td>FRESNO &amp; IH-10 W ACCESS RD.</td>\n      <td>29.474488</td>\n      <td>-98.516238</td>\n      <td>0</td>\n      <td>POINT (-98.51624 29.47449)</td>\n      <td>POINT (-98.51624 29.47449)</td>\n      <td>POLYGON ((-98.50949 29.47449, -98.50952 29.473...</td>\n    </tr>\n    <tr>\n      <th>56239</th>\n      <td>56239</td>\n      <td>FREDERICKSBURG RD. &amp; N. FLORES</td>\n      <td>29.441883</td>\n      <td>-98.503773</td>\n      <td>0</td>\n      <td>POINT (-98.50377 29.44188)</td>\n      <td>POINT (-98.50377 29.44188)</td>\n      <td>POLYGON ((-98.49702 29.44188, -98.49706 29.441...</td>\n    </tr>\n    <tr>\n      <th>76759</th>\n      <td>76759</td>\n      <td>MARTIN &amp; N. FRIO</td>\n      <td>29.430081</td>\n      <td>-98.503058</td>\n      <td>0</td>\n      <td>POINT (-98.50306 29.43008)</td>\n      <td>POINT (-98.50306 29.43008)</td>\n      <td>POLYGON ((-98.49631 29.43008, -98.49634 29.429...</td>\n    </tr>\n    <tr>\n      <th>88973</th>\n      <td>88973</td>\n      <td>DOLOROSA &amp; S. FLORES</td>\n      <td>29.424073</td>\n      <td>-98.494741</td>\n      <td>0</td>\n      <td>POINT (-98.49474 29.42407)</td>\n      <td>POINT (-98.49474 29.42407)</td>\n      <td>POLYGON ((-98.48799 29.42407, -98.48802 29.423...</td>\n    </tr>\n  </tbody>\n</table>\n</div>"
     },
     "metadata": {},
     "execution_count": 61
    }
   ],
   "source": [
    "gdf_stops_202004_buff.head()"
   ]
  },
  {
   "cell_type": "code",
   "execution_count": 62,
   "metadata": {},
   "outputs": [],
   "source": [
    "gdf_stops_202004_buff = gdf_stops_202004_buff.set_geometry('buffer')"
   ]
  },
  {
   "cell_type": "code",
   "execution_count": 63,
   "metadata": {},
   "outputs": [
    {
     "output_type": "execute_result",
     "data": {
      "text/plain": "         stop_code                       stop_name   stop_lat   stop_lon  \\\nstop_id                                                                    \n25316        25316                BLANCO & DRESDEN  29.499014 -98.507783   \n72479        72479     FRESNO & IH-10 W ACCESS RD.  29.474488 -98.516238   \n56239        56239  FREDERICKSBURG RD. & N. FLORES  29.441883 -98.503773   \n76759        76759                MARTIN & N. FRIO  29.430081 -98.503058   \n88973        88973            DOLOROSA & S. FLORES  29.424073 -98.494741   \n\n         wheelchair_boarding                    geometry  \\\nstop_id                                                    \n25316                      0  POINT (-98.50778 29.49901)   \n72479                      0  POINT (-98.51624 29.47449)   \n56239                      0  POINT (-98.50377 29.44188)   \n76759                      0  POINT (-98.50306 29.43008)   \n88973                      0  POINT (-98.49474 29.42407)   \n\n                              point  \\\nstop_id                               \n25316    POINT (-98.50778 29.49901)   \n72479    POINT (-98.51624 29.47449)   \n56239    POINT (-98.50377 29.44188)   \n76759    POINT (-98.50306 29.43008)   \n88973    POINT (-98.49474 29.42407)   \n\n                                                    buffer  \nstop_id                                                     \n25316    POLYGON ((-98.50103 29.49901, -98.50107 29.498...  \n72479    POLYGON ((-98.50949 29.47449, -98.50952 29.473...  \n56239    POLYGON ((-98.49702 29.44188, -98.49706 29.441...  \n76759    POLYGON ((-98.49631 29.43008, -98.49634 29.429...  \n88973    POLYGON ((-98.48799 29.42407, -98.48802 29.423...  ",
      "text/html": "<div>\n<style scoped>\n    .dataframe tbody tr th:only-of-type {\n        vertical-align: middle;\n    }\n\n    .dataframe tbody tr th {\n        vertical-align: top;\n    }\n\n    .dataframe thead th {\n        text-align: right;\n    }\n</style>\n<table border=\"1\" class=\"dataframe\">\n  <thead>\n    <tr style=\"text-align: right;\">\n      <th></th>\n      <th>stop_code</th>\n      <th>stop_name</th>\n      <th>stop_lat</th>\n      <th>stop_lon</th>\n      <th>wheelchair_boarding</th>\n      <th>geometry</th>\n      <th>point</th>\n      <th>buffer</th>\n    </tr>\n    <tr>\n      <th>stop_id</th>\n      <th></th>\n      <th></th>\n      <th></th>\n      <th></th>\n      <th></th>\n      <th></th>\n      <th></th>\n      <th></th>\n    </tr>\n  </thead>\n  <tbody>\n    <tr>\n      <th>25316</th>\n      <td>25316</td>\n      <td>BLANCO &amp; DRESDEN</td>\n      <td>29.499014</td>\n      <td>-98.507783</td>\n      <td>0</td>\n      <td>POINT (-98.50778 29.49901)</td>\n      <td>POINT (-98.50778 29.49901)</td>\n      <td>POLYGON ((-98.50103 29.49901, -98.50107 29.498...</td>\n    </tr>\n    <tr>\n      <th>72479</th>\n      <td>72479</td>\n      <td>FRESNO &amp; IH-10 W ACCESS RD.</td>\n      <td>29.474488</td>\n      <td>-98.516238</td>\n      <td>0</td>\n      <td>POINT (-98.51624 29.47449)</td>\n      <td>POINT (-98.51624 29.47449)</td>\n      <td>POLYGON ((-98.50949 29.47449, -98.50952 29.473...</td>\n    </tr>\n    <tr>\n      <th>56239</th>\n      <td>56239</td>\n      <td>FREDERICKSBURG RD. &amp; N. FLORES</td>\n      <td>29.441883</td>\n      <td>-98.503773</td>\n      <td>0</td>\n      <td>POINT (-98.50377 29.44188)</td>\n      <td>POINT (-98.50377 29.44188)</td>\n      <td>POLYGON ((-98.49702 29.44188, -98.49706 29.441...</td>\n    </tr>\n    <tr>\n      <th>76759</th>\n      <td>76759</td>\n      <td>MARTIN &amp; N. FRIO</td>\n      <td>29.430081</td>\n      <td>-98.503058</td>\n      <td>0</td>\n      <td>POINT (-98.50306 29.43008)</td>\n      <td>POINT (-98.50306 29.43008)</td>\n      <td>POLYGON ((-98.49631 29.43008, -98.49634 29.429...</td>\n    </tr>\n    <tr>\n      <th>88973</th>\n      <td>88973</td>\n      <td>DOLOROSA &amp; S. FLORES</td>\n      <td>29.424073</td>\n      <td>-98.494741</td>\n      <td>0</td>\n      <td>POINT (-98.49474 29.42407)</td>\n      <td>POINT (-98.49474 29.42407)</td>\n      <td>POLYGON ((-98.48799 29.42407, -98.48802 29.423...</td>\n    </tr>\n  </tbody>\n</table>\n</div>"
     },
     "metadata": {},
     "execution_count": 63
    }
   ],
   "source": [
    "# gdf_stops_buff = gdf_stops_buff.to_crs('EPSG:4326')\n",
    "gdf_stops_202004_buff.head()"
   ]
  },
  {
   "cell_type": "code",
   "execution_count": 64,
   "metadata": {},
   "outputs": [
    {
     "output_type": "execute_result",
     "data": {
      "text/plain": "         stop_code                       stop_name   stop_lat   stop_lon  \\\nstop_id                                                                    \n25316        25316                BLANCO & DRESDEN  29.499014 -98.507783   \n72479        72479     FRESNO & IH-10 W ACCESS RD.  29.474488 -98.516238   \n56239        56239  FREDERICKSBURG RD. & N. FLORES  29.441883 -98.503773   \n76759        76759                MARTIN & N. FRIO  29.430081 -98.503058   \n88973        88973            DOLOROSA & S. FLORES  29.424073 -98.494741   \n\n         wheelchair_boarding                    geometry  \nstop_id                                                   \n25316                      0  POINT (-98.50778 29.49901)  \n72479                      0  POINT (-98.51624 29.47449)  \n56239                      0  POINT (-98.50377 29.44188)  \n76759                      0  POINT (-98.50306 29.43008)  \n88973                      0  POINT (-98.49474 29.42407)  ",
      "text/html": "<div>\n<style scoped>\n    .dataframe tbody tr th:only-of-type {\n        vertical-align: middle;\n    }\n\n    .dataframe tbody tr th {\n        vertical-align: top;\n    }\n\n    .dataframe thead th {\n        text-align: right;\n    }\n</style>\n<table border=\"1\" class=\"dataframe\">\n  <thead>\n    <tr style=\"text-align: right;\">\n      <th></th>\n      <th>stop_code</th>\n      <th>stop_name</th>\n      <th>stop_lat</th>\n      <th>stop_lon</th>\n      <th>wheelchair_boarding</th>\n      <th>geometry</th>\n    </tr>\n    <tr>\n      <th>stop_id</th>\n      <th></th>\n      <th></th>\n      <th></th>\n      <th></th>\n      <th></th>\n      <th></th>\n    </tr>\n  </thead>\n  <tbody>\n    <tr>\n      <th>25316</th>\n      <td>25316</td>\n      <td>BLANCO &amp; DRESDEN</td>\n      <td>29.499014</td>\n      <td>-98.507783</td>\n      <td>0</td>\n      <td>POINT (-98.50778 29.49901)</td>\n    </tr>\n    <tr>\n      <th>72479</th>\n      <td>72479</td>\n      <td>FRESNO &amp; IH-10 W ACCESS RD.</td>\n      <td>29.474488</td>\n      <td>-98.516238</td>\n      <td>0</td>\n      <td>POINT (-98.51624 29.47449)</td>\n    </tr>\n    <tr>\n      <th>56239</th>\n      <td>56239</td>\n      <td>FREDERICKSBURG RD. &amp; N. FLORES</td>\n      <td>29.441883</td>\n      <td>-98.503773</td>\n      <td>0</td>\n      <td>POINT (-98.50377 29.44188)</td>\n    </tr>\n    <tr>\n      <th>76759</th>\n      <td>76759</td>\n      <td>MARTIN &amp; N. FRIO</td>\n      <td>29.430081</td>\n      <td>-98.503058</td>\n      <td>0</td>\n      <td>POINT (-98.50306 29.43008)</td>\n    </tr>\n    <tr>\n      <th>88973</th>\n      <td>88973</td>\n      <td>DOLOROSA &amp; S. FLORES</td>\n      <td>29.424073</td>\n      <td>-98.494741</td>\n      <td>0</td>\n      <td>POINT (-98.49474 29.42407)</td>\n    </tr>\n  </tbody>\n</table>\n</div>"
     },
     "metadata": {},
     "execution_count": 64
    }
   ],
   "source": [
    "gdf_stops_202004.head()"
   ]
  },
  {
   "cell_type": "code",
   "execution_count": 65,
   "metadata": {},
   "outputs": [
    {
     "output_type": "error",
     "ename": "NameError",
     "evalue": "name 'gdf_county' is not defined",
     "traceback": [
      "\u001b[0;31m---------------------------------------------------------------------------\u001b[0m",
      "\u001b[0;31mNameError\u001b[0m                                 Traceback (most recent call last)",
      "\u001b[0;32m<ipython-input-65-e42b99dd81ad>\u001b[0m in \u001b[0;36m<module>\u001b[0;34m\u001b[0m\n\u001b[1;32m      1\u001b[0m \u001b[0mfig\u001b[0m\u001b[0;34m,\u001b[0m \u001b[0max\u001b[0m \u001b[0;34m=\u001b[0m \u001b[0mplt\u001b[0m\u001b[0;34m.\u001b[0m\u001b[0msubplots\u001b[0m\u001b[0;34m(\u001b[0m\u001b[0mfigsize\u001b[0m\u001b[0;34m=\u001b[0m\u001b[0;34m(\u001b[0m\u001b[0;36m20\u001b[0m\u001b[0;34m,\u001b[0m\u001b[0;36m20\u001b[0m\u001b[0;34m)\u001b[0m\u001b[0;34m)\u001b[0m\u001b[0;34m\u001b[0m\u001b[0;34m\u001b[0m\u001b[0m\n\u001b[1;32m      2\u001b[0m \u001b[0max\u001b[0m\u001b[0;34m.\u001b[0m\u001b[0mset_aspect\u001b[0m\u001b[0;34m(\u001b[0m\u001b[0;34m'equal'\u001b[0m\u001b[0;34m)\u001b[0m\u001b[0;34m\u001b[0m\u001b[0;34m\u001b[0m\u001b[0m\n\u001b[0;32m----> 3\u001b[0;31m \u001b[0maxbase\u001b[0m \u001b[0;34m=\u001b[0m \u001b[0mgplt\u001b[0m\u001b[0;34m.\u001b[0m\u001b[0mpolyplot\u001b[0m\u001b[0;34m(\u001b[0m\u001b[0mgdf_county\u001b[0m\u001b[0;34m,\u001b[0m \u001b[0max\u001b[0m\u001b[0;34m=\u001b[0m\u001b[0max\u001b[0m\u001b[0;34m,\u001b[0m \u001b[0mfacecolor\u001b[0m\u001b[0;34m=\u001b[0m\u001b[0;34m'white'\u001b[0m\u001b[0;34m,\u001b[0m \u001b[0medgecolor\u001b[0m\u001b[0;34m=\u001b[0m\u001b[0;34m'blue'\u001b[0m\u001b[0;34m,\u001b[0m \u001b[0mlinewidth\u001b[0m\u001b[0;34m=\u001b[0m\u001b[0;36m5\u001b[0m\u001b[0;34m,\u001b[0m \u001b[0mzorder\u001b[0m\u001b[0;34m=\u001b[0m\u001b[0;36m1\u001b[0m\u001b[0;34m)\u001b[0m\u001b[0;34m\u001b[0m\u001b[0;34m\u001b[0m\u001b[0m\n\u001b[0m\u001b[1;32m      4\u001b[0m \u001b[0max1\u001b[0m \u001b[0;34m=\u001b[0m \u001b[0mgdf_stops_202004_buff\u001b[0m\u001b[0;34m.\u001b[0m\u001b[0mplot\u001b[0m\u001b[0;34m(\u001b[0m\u001b[0max\u001b[0m\u001b[0;34m=\u001b[0m\u001b[0max\u001b[0m\u001b[0;34m,\u001b[0m \u001b[0mzorder\u001b[0m\u001b[0;34m=\u001b[0m\u001b[0;36m10\u001b[0m\u001b[0;34m)\u001b[0m\u001b[0;34m\u001b[0m\u001b[0;34m\u001b[0m\u001b[0m\n\u001b[1;32m      5\u001b[0m \u001b[0maxt\u001b[0m \u001b[0;34m=\u001b[0m \u001b[0mgplt\u001b[0m\u001b[0;34m.\u001b[0m\u001b[0mpolyplot\u001b[0m\u001b[0;34m(\u001b[0m\u001b[0mgdf_block_groups\u001b[0m\u001b[0;34m,\u001b[0m \u001b[0max\u001b[0m\u001b[0;34m=\u001b[0m\u001b[0max\u001b[0m\u001b[0;34m,\u001b[0m \u001b[0mfacecolor\u001b[0m\u001b[0;34m=\u001b[0m\u001b[0;34m'none'\u001b[0m\u001b[0;34m,\u001b[0m \u001b[0medgecolor\u001b[0m\u001b[0;34m=\u001b[0m\u001b[0;34m'black'\u001b[0m\u001b[0;34m,\u001b[0m \u001b[0malpha\u001b[0m\u001b[0;34m=\u001b[0m\u001b[0;36m1\u001b[0m\u001b[0;34m,\u001b[0m \u001b[0mlinewidth\u001b[0m\u001b[0;34m=\u001b[0m\u001b[0;36m2\u001b[0m\u001b[0;34m,\u001b[0m \u001b[0mzorder\u001b[0m\u001b[0;34m=\u001b[0m\u001b[0;36m20\u001b[0m\u001b[0;34m)\u001b[0m\u001b[0;34m\u001b[0m\u001b[0;34m\u001b[0m\u001b[0m\n",
      "\u001b[0;31mNameError\u001b[0m: name 'gdf_county' is not defined"
     ]
    }
   ],
   "source": [
    "fig, ax = plt.subplots(figsize=(20,20))\n",
    "ax.set_aspect('equal')\n",
    "axbase = gplt.polyplot(gdf_county, ax=ax, facecolor='white', edgecolor='blue', linewidth=5, zorder=1)\n",
    "ax1 = gdf_stops_202004_buff.plot(ax=ax, zorder=10)\n",
    "axt = gplt.polyplot(gdf_block_groups, ax=ax, facecolor='none', edgecolor='black', alpha=1, linewidth=2, zorder=20)\n",
    "plt.show()"
   ]
  },
  {
   "cell_type": "code",
   "execution_count": 66,
   "metadata": {},
   "outputs": [
    {
     "output_type": "error",
     "ename": "NameError",
     "evalue": "name 'gdf_stops_2004_buff' is not defined",
     "traceback": [
      "\u001b[0;31m---------------------------------------------------------------------------\u001b[0m",
      "\u001b[0;31mNameError\u001b[0m                                 Traceback (most recent call last)",
      "\u001b[0;32m<ipython-input-66-59314852bab3>\u001b[0m in \u001b[0;36m<module>\u001b[0;34m\u001b[0m\n\u001b[0;32m----> 1\u001b[0;31m \u001b[0mgdf_stops_202004_groups\u001b[0m \u001b[0;34m=\u001b[0m \u001b[0mgpd\u001b[0m\u001b[0;34m.\u001b[0m\u001b[0msjoin\u001b[0m\u001b[0;34m(\u001b[0m\u001b[0mgdf_block_groups\u001b[0m\u001b[0;34m,\u001b[0m \u001b[0mgdf_stops_2004_buff\u001b[0m\u001b[0;34m,\u001b[0m \u001b[0mhow\u001b[0m\u001b[0;34m=\u001b[0m\u001b[0;34m'inner'\u001b[0m\u001b[0;34m,\u001b[0m \u001b[0mop\u001b[0m\u001b[0;34m=\u001b[0m\u001b[0;34m'intersects'\u001b[0m\u001b[0;34m)\u001b[0m\u001b[0;34m\u001b[0m\u001b[0;34m\u001b[0m\u001b[0m\n\u001b[0m",
      "\u001b[0;31mNameError\u001b[0m: name 'gdf_stops_2004_buff' is not defined"
     ]
    }
   ],
   "source": [
    "gdf_stops_202004_groups = gpd.sjoin(gdf_block_groups, gdf_stops_2004_buff, how='inner', op='intersects')"
   ]
  },
  {
   "cell_type": "code",
   "execution_count": 67,
   "metadata": {},
   "outputs": [
    {
     "output_type": "error",
     "ename": "NameError",
     "evalue": "name 'gdf_stops_202004_groups' is not defined",
     "traceback": [
      "\u001b[0;31m---------------------------------------------------------------------------\u001b[0m",
      "\u001b[0;31mNameError\u001b[0m                                 Traceback (most recent call last)",
      "\u001b[0;32m<ipython-input-67-25bae36823fa>\u001b[0m in \u001b[0;36m<module>\u001b[0;34m\u001b[0m\n\u001b[0;32m----> 1\u001b[0;31m \u001b[0mgdf_stops_202004_groups\u001b[0m\u001b[0;34m.\u001b[0m\u001b[0mhead\u001b[0m\u001b[0;34m(\u001b[0m\u001b[0;34m)\u001b[0m\u001b[0;34m\u001b[0m\u001b[0;34m\u001b[0m\u001b[0m\n\u001b[0m",
      "\u001b[0;31mNameError\u001b[0m: name 'gdf_stops_202004_groups' is not defined"
     ]
    }
   ],
   "source": [
    "gdf_stops_202004_groups.head()"
   ]
  },
  {
   "cell_type": "code",
   "execution_count": 68,
   "metadata": {},
   "outputs": [
    {
     "output_type": "error",
     "ename": "NameError",
     "evalue": "name 'gdf_stops_202004_groups' is not defined",
     "traceback": [
      "\u001b[0;31m---------------------------------------------------------------------------\u001b[0m",
      "\u001b[0;31mNameError\u001b[0m                                 Traceback (most recent call last)",
      "\u001b[0;32m<ipython-input-68-cf058fa73e60>\u001b[0m in \u001b[0;36m<module>\u001b[0;34m\u001b[0m\n\u001b[0;32m----> 1\u001b[0;31m \u001b[0mgdf_stops_202004_groups\u001b[0m\u001b[0;34m.\u001b[0m\u001b[0minfo\u001b[0m\u001b[0;34m(\u001b[0m\u001b[0;34m)\u001b[0m\u001b[0;34m\u001b[0m\u001b[0;34m\u001b[0m\u001b[0m\n\u001b[0m",
      "\u001b[0;31mNameError\u001b[0m: name 'gdf_stops_202004_groups' is not defined"
     ]
    }
   ],
   "source": [
    "gdf_stops_202004_groups.info()"
   ]
  },
  {
   "cell_type": "code",
   "execution_count": 69,
   "metadata": {},
   "outputs": [
    {
     "output_type": "error",
     "ename": "NameError",
     "evalue": "name 'gdf_stops_202004_groups' is not defined",
     "traceback": [
      "\u001b[0;31m---------------------------------------------------------------------------\u001b[0m",
      "\u001b[0;31mNameError\u001b[0m                                 Traceback (most recent call last)",
      "\u001b[0;32m<ipython-input-69-639c439d809c>\u001b[0m in \u001b[0;36m<module>\u001b[0;34m\u001b[0m\n\u001b[0;32m----> 1\u001b[0;31m \u001b[0mgdf_stops_202004_groups\u001b[0m\u001b[0;34m.\u001b[0m\u001b[0mOBJECTID\u001b[0m\u001b[0;34m.\u001b[0m\u001b[0mvalue_counts\u001b[0m\u001b[0;34m(\u001b[0m\u001b[0;34m)\u001b[0m\u001b[0;34m\u001b[0m\u001b[0;34m\u001b[0m\u001b[0m\n\u001b[0m",
      "\u001b[0;31mNameError\u001b[0m: name 'gdf_stops_202004_groups' is not defined"
     ]
    }
   ],
   "source": [
    "gdf_stops_202004_groups.OBJECTID.value_counts()"
   ]
  },
  {
   "cell_type": "code",
   "execution_count": 70,
   "metadata": {},
   "outputs": [
    {
     "output_type": "error",
     "ename": "NameError",
     "evalue": "name 'gdf_stops_202004_groups' is not defined",
     "traceback": [
      "\u001b[0;31m---------------------------------------------------------------------------\u001b[0m",
      "\u001b[0;31mNameError\u001b[0m                                 Traceback (most recent call last)",
      "\u001b[0;32m<ipython-input-70-601fb5d190ae>\u001b[0m in \u001b[0;36m<module>\u001b[0;34m\u001b[0m\n\u001b[0;32m----> 1\u001b[0;31m \u001b[0mservice_block_groups_202004\u001b[0m \u001b[0;34m=\u001b[0m \u001b[0mgdf_stops_202004_groups\u001b[0m\u001b[0;34m.\u001b[0m\u001b[0mindex\u001b[0m\u001b[0;34m.\u001b[0m\u001b[0munique\u001b[0m\u001b[0;34m(\u001b[0m\u001b[0;34m)\u001b[0m\u001b[0;34m.\u001b[0m\u001b[0mto_list\u001b[0m\u001b[0;34m(\u001b[0m\u001b[0;34m)\u001b[0m\u001b[0;34m\u001b[0m\u001b[0;34m\u001b[0m\u001b[0m\n\u001b[0m",
      "\u001b[0;31mNameError\u001b[0m: name 'gdf_stops_202004_groups' is not defined"
     ]
    }
   ],
   "source": [
    "service_block_groups_202004 = gdf_stops_202004_groups.index.unique().to_list()"
   ]
  },
  {
   "cell_type": "code",
   "execution_count": 71,
   "metadata": {},
   "outputs": [
    {
     "output_type": "error",
     "ename": "NameError",
     "evalue": "name 'service_block_groups_202004' is not defined",
     "traceback": [
      "\u001b[0;31m---------------------------------------------------------------------------\u001b[0m",
      "\u001b[0;31mNameError\u001b[0m                                 Traceback (most recent call last)",
      "\u001b[0;32m<ipython-input-71-991bba4c2aa0>\u001b[0m in \u001b[0;36m<module>\u001b[0;34m\u001b[0m\n\u001b[0;32m----> 1\u001b[0;31m \u001b[0mgdf_block_groups\u001b[0m\u001b[0;34m.\u001b[0m\u001b[0mloc\u001b[0m\u001b[0;34m[\u001b[0m\u001b[0mservice_block_groups_202004\u001b[0m\u001b[0;34m]\u001b[0m\u001b[0;34m\u001b[0m\u001b[0;34m\u001b[0m\u001b[0m\n\u001b[0m",
      "\u001b[0;31mNameError\u001b[0m: name 'service_block_groups_202004' is not defined"
     ]
    }
   ],
   "source": [
    "gdf_block_groups.loc[service_block_groups_202004]"
   ]
  },
  {
   "cell_type": "code",
   "execution_count": 72,
   "metadata": {},
   "outputs": [
    {
     "output_type": "error",
     "ename": "NameError",
     "evalue": "name 'gdf_stops_202004_groups' is not defined",
     "traceback": [
      "\u001b[0;31m---------------------------------------------------------------------------\u001b[0m",
      "\u001b[0;31mNameError\u001b[0m                                 Traceback (most recent call last)",
      "\u001b[0;32m<ipython-input-72-a78b207a6e5c>\u001b[0m in \u001b[0;36m<module>\u001b[0;34m\u001b[0m\n\u001b[0;32m----> 1\u001b[0;31m \u001b[0mgdf_stops_202004_groups\u001b[0m\u001b[0;34m.\u001b[0m\u001b[0mstop_code\u001b[0m\u001b[0;34m.\u001b[0m\u001b[0mvalue_counts\u001b[0m\u001b[0;34m(\u001b[0m\u001b[0;34m)\u001b[0m\u001b[0;34m\u001b[0m\u001b[0;34m\u001b[0m\u001b[0m\n\u001b[0m",
      "\u001b[0;31mNameError\u001b[0m: name 'gdf_stops_202004_groups' is not defined"
     ]
    }
   ],
   "source": [
    "gdf_stops_202004_groups.stop_code.value_counts()"
   ]
  },
  {
   "cell_type": "code",
   "execution_count": 73,
   "metadata": {},
   "outputs": [
    {
     "output_type": "error",
     "ename": "NameError",
     "evalue": "name 'gdf_county' is not defined",
     "traceback": [
      "\u001b[0;31m---------------------------------------------------------------------------\u001b[0m",
      "\u001b[0;31mNameError\u001b[0m                                 Traceback (most recent call last)",
      "\u001b[0;32m<ipython-input-73-7339bfa643c3>\u001b[0m in \u001b[0;36m<module>\u001b[0;34m\u001b[0m\n\u001b[1;32m      1\u001b[0m \u001b[0mfig\u001b[0m\u001b[0;34m,\u001b[0m \u001b[0max\u001b[0m \u001b[0;34m=\u001b[0m \u001b[0mplt\u001b[0m\u001b[0;34m.\u001b[0m\u001b[0msubplots\u001b[0m\u001b[0;34m(\u001b[0m\u001b[0mfigsize\u001b[0m\u001b[0;34m=\u001b[0m\u001b[0;34m(\u001b[0m\u001b[0;36m20\u001b[0m\u001b[0;34m,\u001b[0m\u001b[0;36m20\u001b[0m\u001b[0;34m)\u001b[0m\u001b[0;34m)\u001b[0m\u001b[0;34m\u001b[0m\u001b[0;34m\u001b[0m\u001b[0m\n\u001b[1;32m      2\u001b[0m \u001b[0max\u001b[0m\u001b[0;34m.\u001b[0m\u001b[0mset_aspect\u001b[0m\u001b[0;34m(\u001b[0m\u001b[0;34m'equal'\u001b[0m\u001b[0;34m)\u001b[0m\u001b[0;34m\u001b[0m\u001b[0;34m\u001b[0m\u001b[0m\n\u001b[0;32m----> 3\u001b[0;31m \u001b[0maxbase\u001b[0m \u001b[0;34m=\u001b[0m \u001b[0mgplt\u001b[0m\u001b[0;34m.\u001b[0m\u001b[0mpolyplot\u001b[0m\u001b[0;34m(\u001b[0m\u001b[0mgdf_county\u001b[0m\u001b[0;34m,\u001b[0m \u001b[0max\u001b[0m\u001b[0;34m=\u001b[0m\u001b[0max\u001b[0m\u001b[0;34m,\u001b[0m \u001b[0mfacecolor\u001b[0m\u001b[0;34m=\u001b[0m\u001b[0;34m'b'\u001b[0m\u001b[0;34m,\u001b[0m \u001b[0medgecolor\u001b[0m\u001b[0;34m=\u001b[0m\u001b[0;34m'blue'\u001b[0m\u001b[0;34m,\u001b[0m \u001b[0mlinewidth\u001b[0m\u001b[0;34m=\u001b[0m\u001b[0;36m5\u001b[0m\u001b[0;34m,\u001b[0m \u001b[0mzorder\u001b[0m\u001b[0;34m=\u001b[0m\u001b[0;36m1\u001b[0m\u001b[0;34m)\u001b[0m\u001b[0;34m\u001b[0m\u001b[0;34m\u001b[0m\u001b[0m\n\u001b[0m\u001b[1;32m      4\u001b[0m \u001b[0mgplt\u001b[0m\u001b[0;34m.\u001b[0m\u001b[0mpolyplot\u001b[0m\u001b[0;34m(\u001b[0m\u001b[0mgdf_block_groups\u001b[0m\u001b[0;34m.\u001b[0m\u001b[0mloc\u001b[0m\u001b[0;34m[\u001b[0m\u001b[0mservice_block_groups\u001b[0m\u001b[0;34m]\u001b[0m\u001b[0;34m,\u001b[0m \u001b[0max\u001b[0m\u001b[0;34m=\u001b[0m\u001b[0max\u001b[0m\u001b[0;34m,\u001b[0m \u001b[0mfacecolor\u001b[0m\u001b[0;34m=\u001b[0m\u001b[0;34m'white'\u001b[0m\u001b[0;34m,\u001b[0m \u001b[0medgecolor\u001b[0m\u001b[0;34m=\u001b[0m\u001b[0;34m'c'\u001b[0m\u001b[0;34m,\u001b[0m \u001b[0malpha\u001b[0m\u001b[0;34m=\u001b[0m\u001b[0;36m1\u001b[0m\u001b[0;34m,\u001b[0m \u001b[0mzorder\u001b[0m\u001b[0;34m=\u001b[0m\u001b[0;36m10\u001b[0m\u001b[0;34m)\u001b[0m\u001b[0;34m\u001b[0m\u001b[0;34m\u001b[0m\u001b[0m\n\u001b[1;32m      5\u001b[0m \u001b[0max1\u001b[0m \u001b[0;34m=\u001b[0m \u001b[0mgdf_stops_202004\u001b[0m\u001b[0;34m.\u001b[0m\u001b[0mplot\u001b[0m\u001b[0;34m(\u001b[0m\u001b[0max\u001b[0m\u001b[0;34m=\u001b[0m\u001b[0max\u001b[0m\u001b[0;34m,\u001b[0m \u001b[0mcolor\u001b[0m\u001b[0;34m=\u001b[0m\u001b[0;34m'red'\u001b[0m\u001b[0;34m,\u001b[0m \u001b[0mmarker\u001b[0m\u001b[0;34m=\u001b[0m\u001b[0;34m'.'\u001b[0m\u001b[0;34m,\u001b[0m\u001b[0mmarkersize\u001b[0m\u001b[0;34m=\u001b[0m\u001b[0;36m30\u001b[0m\u001b[0;34m,\u001b[0m \u001b[0mzorder\u001b[0m\u001b[0;34m=\u001b[0m\u001b[0;36m20\u001b[0m\u001b[0;34m)\u001b[0m\u001b[0;34m\u001b[0m\u001b[0;34m\u001b[0m\u001b[0m\n",
      "\u001b[0;31mNameError\u001b[0m: name 'gdf_county' is not defined"
     ]
    }
   ],
   "source": [
    "fig, ax = plt.subplots(figsize=(20,20))\n",
    "ax.set_aspect('equal')\n",
    "axbase = gplt.polyplot(gdf_county, ax=ax, facecolor='b', edgecolor='blue', linewidth=5, zorder=1)\n",
    "gplt.polyplot(gdf_block_groups.loc[service_block_groups], ax=ax, facecolor='white', edgecolor='c', alpha=1, zorder=10)\n",
    "ax1 = gdf_stops_202004.plot(ax=ax, color='red', marker='.',markersize=30, zorder=20)\n",
    "axbase = gplt.polyplot(gdf_county, ax=ax, facecolor='b', edgecolor='blue', linewidth=5, alpha=0, zorder=100)\n",
    "plt.show()"
   ]
  },
  {
   "cell_type": "code",
   "execution_count": 74,
   "metadata": {},
   "outputs": [],
   "source": [
    "gdf_stops_202004_blocks = gpd.sjoin(gdf_blocks, gdf_stops_202004_buff, how='inner', op='intersects')"
   ]
  },
  {
   "cell_type": "code",
   "execution_count": 75,
   "metadata": {},
   "outputs": [
    {
     "output_type": "error",
     "ename": "AttributeError",
     "evalue": "'DataFrame' object has no attribute 'to_crs'",
     "traceback": [
      "\u001b[0;31m---------------------------------------------------------------------------\u001b[0m",
      "\u001b[0;31mAttributeError\u001b[0m                            Traceback (most recent call last)",
      "\u001b[0;32m<ipython-input-75-1c6b35209364>\u001b[0m in \u001b[0;36m<module>\u001b[0;34m\u001b[0m\n\u001b[0;32m----> 1\u001b[0;31m \u001b[0mgdf_stops_202004_blocks\u001b[0m \u001b[0;34m=\u001b[0m \u001b[0mgdf_stops_202004_blocks\u001b[0m\u001b[0;34m.\u001b[0m\u001b[0mto_crs\u001b[0m\u001b[0;34m(\u001b[0m\u001b[0;34m'EPSG:3857'\u001b[0m\u001b[0;34m)\u001b[0m\u001b[0;34m\u001b[0m\u001b[0;34m\u001b[0m\u001b[0m\n\u001b[0m",
      "\u001b[0;32m/usr/local/anaconda3/lib/python3.7/site-packages/pandas/core/generic.py\u001b[0m in \u001b[0;36m__getattr__\u001b[0;34m(self, name)\u001b[0m\n\u001b[1;32m   5272\u001b[0m             \u001b[0;32mif\u001b[0m \u001b[0mself\u001b[0m\u001b[0;34m.\u001b[0m\u001b[0m_info_axis\u001b[0m\u001b[0;34m.\u001b[0m\u001b[0m_can_hold_identifiers_and_holds_name\u001b[0m\u001b[0;34m(\u001b[0m\u001b[0mname\u001b[0m\u001b[0;34m)\u001b[0m\u001b[0;34m:\u001b[0m\u001b[0;34m\u001b[0m\u001b[0;34m\u001b[0m\u001b[0m\n\u001b[1;32m   5273\u001b[0m                 \u001b[0;32mreturn\u001b[0m \u001b[0mself\u001b[0m\u001b[0;34m[\u001b[0m\u001b[0mname\u001b[0m\u001b[0;34m]\u001b[0m\u001b[0;34m\u001b[0m\u001b[0;34m\u001b[0m\u001b[0m\n\u001b[0;32m-> 5274\u001b[0;31m             \u001b[0;32mreturn\u001b[0m \u001b[0mobject\u001b[0m\u001b[0;34m.\u001b[0m\u001b[0m__getattribute__\u001b[0m\u001b[0;34m(\u001b[0m\u001b[0mself\u001b[0m\u001b[0;34m,\u001b[0m \u001b[0mname\u001b[0m\u001b[0;34m)\u001b[0m\u001b[0;34m\u001b[0m\u001b[0;34m\u001b[0m\u001b[0m\n\u001b[0m\u001b[1;32m   5275\u001b[0m \u001b[0;34m\u001b[0m\u001b[0m\n\u001b[1;32m   5276\u001b[0m     \u001b[0;32mdef\u001b[0m \u001b[0m__setattr__\u001b[0m\u001b[0;34m(\u001b[0m\u001b[0mself\u001b[0m\u001b[0;34m,\u001b[0m \u001b[0mname\u001b[0m\u001b[0;34m:\u001b[0m \u001b[0mstr\u001b[0m\u001b[0;34m,\u001b[0m \u001b[0mvalue\u001b[0m\u001b[0;34m)\u001b[0m \u001b[0;34m->\u001b[0m \u001b[0;32mNone\u001b[0m\u001b[0;34m:\u001b[0m\u001b[0;34m\u001b[0m\u001b[0;34m\u001b[0m\u001b[0m\n",
      "\u001b[0;31mAttributeError\u001b[0m: 'DataFrame' object has no attribute 'to_crs'"
     ]
    }
   ],
   "source": [
    "gdf_stops_202004_blocks = gdf_stops_202004_blocks.to_crs('EPSG:3857')"
   ]
  },
  {
   "cell_type": "code",
   "execution_count": 76,
   "metadata": {},
   "outputs": [
    {
     "output_type": "execute_result",
     "data": {
      "text/plain": "                 OBJECTID       ID  COLORING    BLOCKGROUP        TRACT  \\\n480291919003005         1  1400310         4  480291919003  48029191900   \n480291919001059     15233  1398520         3  480291919001  48029191900   \n480291919001052     15234  1398537         1  480291919001  48029191900   \n480291919001051     15235  1398555         0  480291919001  48029191900   \n480291919003046     15236  1398572         4  480291919003  48029191900   \n\n                COUNTY STATE        BLOCK2000         MCD SUBMCD  ...  \\\n480291919003005  48029    48  480291301005004  4802993407   None  ...   \n480291919001059  48029    48  480291102002002  4802993407   None  ...   \n480291919001052  48029    48  480291102002000  4802993407   None  ...   \n480291919001051  48029    48  480291102001023  4802993407   None  ...   \n480291919003046  48029    48  480291301006023  4802993407   None  ...   \n\n                                                     geometry_left   density  \\\n480291919003005  POLYGON ((-98.46781 29.42506, -98.46783 29.424...  0.000450   \n480291919001059  POLYGON ((-98.47326 29.42442, -98.47326 29.423...  0.000195   \n480291919001052  POLYGON ((-98.47325 29.42507, -98.47326 29.424...  0.000161   \n480291919001051  POLYGON ((-98.47326 29.42560, -98.47325 29.425...  0.000000   \n480291919003046  POLYGON ((-98.47167 29.42181, -98.47326 29.421...  0.000000   \n\n                index_right stop_code                   stop_name  stop_lat  \\\n480291919003005       95783     95783  E. COMMERCE & S. HACKBERRY  29.42051   \n480291919001059       95783     95783  E. COMMERCE & S. HACKBERRY  29.42051   \n480291919001052       95783     95783  E. COMMERCE & S. HACKBERRY  29.42051   \n480291919001051       95783     95783  E. COMMERCE & S. HACKBERRY  29.42051   \n480291919003046       95783     95783  E. COMMERCE & S. HACKBERRY  29.42051   \n\n                  stop_lon wheelchair_boarding              geometry_right  \\\n480291919003005 -98.473362                   0  POINT (-98.47336 29.42051)   \n480291919001059 -98.473362                   0  POINT (-98.47336 29.42051)   \n480291919001052 -98.473362                   0  POINT (-98.47336 29.42051)   \n480291919001051 -98.473362                   0  POINT (-98.47336 29.42051)   \n480291919003046 -98.473362                   0  POINT (-98.47336 29.42051)   \n\n                                      point  \n480291919003005  POINT (-98.47336 29.42051)  \n480291919001059  POINT (-98.47336 29.42051)  \n480291919001052  POINT (-98.47336 29.42051)  \n480291919001051  POINT (-98.47336 29.42051)  \n480291919003046  POINT (-98.47336 29.42051)  \n\n[5 rows x 267 columns]",
      "text/html": "<div>\n<style scoped>\n    .dataframe tbody tr th:only-of-type {\n        vertical-align: middle;\n    }\n\n    .dataframe tbody tr th {\n        vertical-align: top;\n    }\n\n    .dataframe thead th {\n        text-align: right;\n    }\n</style>\n<table border=\"1\" class=\"dataframe\">\n  <thead>\n    <tr style=\"text-align: right;\">\n      <th></th>\n      <th>OBJECTID</th>\n      <th>ID</th>\n      <th>COLORING</th>\n      <th>BLOCKGROUP</th>\n      <th>TRACT</th>\n      <th>COUNTY</th>\n      <th>STATE</th>\n      <th>BLOCK2000</th>\n      <th>MCD</th>\n      <th>SUBMCD</th>\n      <th>...</th>\n      <th>geometry_left</th>\n      <th>density</th>\n      <th>index_right</th>\n      <th>stop_code</th>\n      <th>stop_name</th>\n      <th>stop_lat</th>\n      <th>stop_lon</th>\n      <th>wheelchair_boarding</th>\n      <th>geometry_right</th>\n      <th>point</th>\n    </tr>\n  </thead>\n  <tbody>\n    <tr>\n      <th>480291919003005</th>\n      <td>1</td>\n      <td>1400310</td>\n      <td>4</td>\n      <td>480291919003</td>\n      <td>48029191900</td>\n      <td>48029</td>\n      <td>48</td>\n      <td>480291301005004</td>\n      <td>4802993407</td>\n      <td>None</td>\n      <td>...</td>\n      <td>POLYGON ((-98.46781 29.42506, -98.46783 29.424...</td>\n      <td>0.000450</td>\n      <td>95783</td>\n      <td>95783</td>\n      <td>E. COMMERCE &amp; S. HACKBERRY</td>\n      <td>29.42051</td>\n      <td>-98.473362</td>\n      <td>0</td>\n      <td>POINT (-98.47336 29.42051)</td>\n      <td>POINT (-98.47336 29.42051)</td>\n    </tr>\n    <tr>\n      <th>480291919001059</th>\n      <td>15233</td>\n      <td>1398520</td>\n      <td>3</td>\n      <td>480291919001</td>\n      <td>48029191900</td>\n      <td>48029</td>\n      <td>48</td>\n      <td>480291102002002</td>\n      <td>4802993407</td>\n      <td>None</td>\n      <td>...</td>\n      <td>POLYGON ((-98.47326 29.42442, -98.47326 29.423...</td>\n      <td>0.000195</td>\n      <td>95783</td>\n      <td>95783</td>\n      <td>E. COMMERCE &amp; S. HACKBERRY</td>\n      <td>29.42051</td>\n      <td>-98.473362</td>\n      <td>0</td>\n      <td>POINT (-98.47336 29.42051)</td>\n      <td>POINT (-98.47336 29.42051)</td>\n    </tr>\n    <tr>\n      <th>480291919001052</th>\n      <td>15234</td>\n      <td>1398537</td>\n      <td>1</td>\n      <td>480291919001</td>\n      <td>48029191900</td>\n      <td>48029</td>\n      <td>48</td>\n      <td>480291102002000</td>\n      <td>4802993407</td>\n      <td>None</td>\n      <td>...</td>\n      <td>POLYGON ((-98.47325 29.42507, -98.47326 29.424...</td>\n      <td>0.000161</td>\n      <td>95783</td>\n      <td>95783</td>\n      <td>E. COMMERCE &amp; S. HACKBERRY</td>\n      <td>29.42051</td>\n      <td>-98.473362</td>\n      <td>0</td>\n      <td>POINT (-98.47336 29.42051)</td>\n      <td>POINT (-98.47336 29.42051)</td>\n    </tr>\n    <tr>\n      <th>480291919001051</th>\n      <td>15235</td>\n      <td>1398555</td>\n      <td>0</td>\n      <td>480291919001</td>\n      <td>48029191900</td>\n      <td>48029</td>\n      <td>48</td>\n      <td>480291102001023</td>\n      <td>4802993407</td>\n      <td>None</td>\n      <td>...</td>\n      <td>POLYGON ((-98.47326 29.42560, -98.47325 29.425...</td>\n      <td>0.000000</td>\n      <td>95783</td>\n      <td>95783</td>\n      <td>E. COMMERCE &amp; S. HACKBERRY</td>\n      <td>29.42051</td>\n      <td>-98.473362</td>\n      <td>0</td>\n      <td>POINT (-98.47336 29.42051)</td>\n      <td>POINT (-98.47336 29.42051)</td>\n    </tr>\n    <tr>\n      <th>480291919003046</th>\n      <td>15236</td>\n      <td>1398572</td>\n      <td>4</td>\n      <td>480291919003</td>\n      <td>48029191900</td>\n      <td>48029</td>\n      <td>48</td>\n      <td>480291301006023</td>\n      <td>4802993407</td>\n      <td>None</td>\n      <td>...</td>\n      <td>POLYGON ((-98.47167 29.42181, -98.47326 29.421...</td>\n      <td>0.000000</td>\n      <td>95783</td>\n      <td>95783</td>\n      <td>E. COMMERCE &amp; S. HACKBERRY</td>\n      <td>29.42051</td>\n      <td>-98.473362</td>\n      <td>0</td>\n      <td>POINT (-98.47336 29.42051)</td>\n      <td>POINT (-98.47336 29.42051)</td>\n    </tr>\n  </tbody>\n</table>\n<p>5 rows × 267 columns</p>\n</div>"
     },
     "metadata": {},
     "execution_count": 76
    }
   ],
   "source": [
    "gdf_stops_202004_blocks.head()"
   ]
  },
  {
   "cell_type": "code",
   "execution_count": 77,
   "metadata": {
    "tags": []
   },
   "outputs": [
    {
     "output_type": "stream",
     "name": "stdout",
     "text": "<class 'pandas.core.frame.DataFrame'>\nIndex: 414424 entries, 480291919003005 to 480291215014019\nColumns: 267 entries, OBJECTID to point\ndtypes: float64(6), geometry(3), int64(228), object(30)\nmemory usage: 847.4+ MB\n"
    }
   ],
   "source": [
    "gdf_stops_202004_blocks.info()"
   ]
  },
  {
   "cell_type": "code",
   "execution_count": 78,
   "metadata": {},
   "outputs": [
    {
     "output_type": "execute_result",
     "data": {
      "text/plain": "15314    97\n6115     94\n13509    89\n16575    88\n15339    87\n         ..\n7366      1\n7417      1\n24358     1\n25004     1\n22813     1\nName: OBJECTID, Length: 18684, dtype: int64"
     },
     "metadata": {},
     "execution_count": 78
    }
   ],
   "source": [
    "gdf_stops_202004_blocks.OBJECTID.value_counts()"
   ]
  },
  {
   "cell_type": "code",
   "execution_count": 79,
   "metadata": {},
   "outputs": [],
   "source": [
    "service_blocks_202004 = gdf_stops_202004_blocks.index.unique().to_list()"
   ]
  },
  {
   "cell_type": "code",
   "execution_count": 80,
   "metadata": {},
   "outputs": [
    {
     "output_type": "execute_result",
     "data": {
      "text/plain": "                 OBJECTID       ID  COLORING    BLOCKGROUP        TRACT  \\\nBLOCK                                                                     \n480291919003005         1  1400310         4  480291919003  48029191900   \n480291919001059     15233  1398520         3  480291919001  48029191900   \n480291919001052     15234  1398537         1  480291919001  48029191900   \n480291919001051     15235  1398555         0  480291919001  48029191900   \n480291919003046     15236  1398572         4  480291919003  48029191900   \n...                   ...      ...       ...           ...          ...   \n480291218031004     24661  2103257         1  480291218031  48029121803   \n480291218031018     24665  2103350         1  480291218031  48029121803   \n480291218031013     24666  2103368         0  480291218031  48029121803   \n480291212032000     24924  2022836         1  480291212032  48029121203   \n480291212032004     24925  2022854         1  480291212032  48029121203   \n\n                COUNTY STATE        BLOCK2000         MCD SUBMCD  ...  \\\nBLOCK                                                             ...   \n480291919003005  48029    48  480291301005004  4802993407   None  ...   \n480291919001059  48029    48  480291102002002  4802993407   None  ...   \n480291919001052  48029    48  480291102002000  4802993407   None  ...   \n480291919001051  48029    48  480291102001023  4802993407   None  ...   \n480291919003046  48029    48  480291301006023  4802993407   None  ...   \n...                ...   ...              ...         ...    ...  ...   \n480291218031004  48029    48  480291218031000  4802993411   None  ...   \n480291218031018  48029    48  480291218031012  4802993411   None  ...   \n480291218031013  48029    48  480291218031017  4802993411   None  ...   \n480291212032000  48029    48  480291212031000  4802993411   None  ...   \n480291212032004  48029    48  480291212032000  4802993411   None  ...   \n\n                F18_WHTBL9 F18_WHTB10 F18_WHTIN4 F18_WHTIN5 F18_WHTIN6  \\\nBLOCK                                                                    \n480291919003005          0          0          0          0          0   \n480291919001059          0          0          0          0          0   \n480291919001052          0          0          0          0          0   \n480291919001051          0          0          0          0          0   \n480291919003046          0          0          0          0          0   \n...                    ...        ...        ...        ...        ...   \n480291218031004          0          0          0          0          0   \n480291218031018          0          0          0          0          0   \n480291218031013          0          0          0          0          0   \n480291212032000          0          0          0          0          0   \n480291212032004          0          0          0          0          0   \n\n                gecovector    ShapeSTAre    ShapeSTLen  \\\nBLOCK                                                    \n480291919003005   0.001038  2.889612e+04   1063.271402   \n480291919001059   0.004063  1.130953e+05   1422.540068   \n480291919001052   0.004010  1.116176e+05   1416.902264   \n480291919001051   0.003295  9.170819e+04   1334.014457   \n480291919003046   0.004446  1.237543e+05   1486.665856   \n...                    ...           ...           ...   \n480291218031004   0.207037  5.763362e+06  21149.678699   \n480291218031018   0.053588  1.491738e+06   6861.135050   \n480291218031013   0.007029  1.956546e+05   5806.743737   \n480291212032000   0.003316  9.230211e+04   3058.964057   \n480291212032004   0.003533  9.835754e+04   3584.640960   \n\n                                                          geometry   density  \nBLOCK                                                                         \n480291919003005  POLYGON ((-98.46781 29.42506, -98.46783 29.424...  0.000450  \n480291919001059  POLYGON ((-98.47326 29.42442, -98.47326 29.423...  0.000195  \n480291919001052  POLYGON ((-98.47325 29.42507, -98.47326 29.424...  0.000161  \n480291919001051  POLYGON ((-98.47326 29.42560, -98.47325 29.425...  0.000000  \n480291919003046  POLYGON ((-98.47167 29.42181, -98.47326 29.421...  0.000000  \n...                                                            ...       ...  \n480291218031004  POLYGON ((-98.35803 29.55635, -98.35794 29.556...  0.000097  \n480291218031018  POLYGON ((-98.35878 29.54928, -98.36016 29.548...  0.000000  \n480291218031013  POLYGON ((-98.36482 29.54839, -98.36279 29.549...  0.000000  \n480291212032000  POLYGON ((-98.37128 29.54473, -98.37004 29.545...  0.000000  \n480291212032004  POLYGON ((-98.37350 29.54298, -98.36897 29.545...  0.000000  \n\n[18684 rows x 259 columns]",
      "text/html": "<div>\n<style scoped>\n    .dataframe tbody tr th:only-of-type {\n        vertical-align: middle;\n    }\n\n    .dataframe tbody tr th {\n        vertical-align: top;\n    }\n\n    .dataframe thead th {\n        text-align: right;\n    }\n</style>\n<table border=\"1\" class=\"dataframe\">\n  <thead>\n    <tr style=\"text-align: right;\">\n      <th></th>\n      <th>OBJECTID</th>\n      <th>ID</th>\n      <th>COLORING</th>\n      <th>BLOCKGROUP</th>\n      <th>TRACT</th>\n      <th>COUNTY</th>\n      <th>STATE</th>\n      <th>BLOCK2000</th>\n      <th>MCD</th>\n      <th>SUBMCD</th>\n      <th>...</th>\n      <th>F18_WHTBL9</th>\n      <th>F18_WHTB10</th>\n      <th>F18_WHTIN4</th>\n      <th>F18_WHTIN5</th>\n      <th>F18_WHTIN6</th>\n      <th>gecovector</th>\n      <th>ShapeSTAre</th>\n      <th>ShapeSTLen</th>\n      <th>geometry</th>\n      <th>density</th>\n    </tr>\n    <tr>\n      <th>BLOCK</th>\n      <th></th>\n      <th></th>\n      <th></th>\n      <th></th>\n      <th></th>\n      <th></th>\n      <th></th>\n      <th></th>\n      <th></th>\n      <th></th>\n      <th></th>\n      <th></th>\n      <th></th>\n      <th></th>\n      <th></th>\n      <th></th>\n      <th></th>\n      <th></th>\n      <th></th>\n      <th></th>\n      <th></th>\n    </tr>\n  </thead>\n  <tbody>\n    <tr>\n      <th>480291919003005</th>\n      <td>1</td>\n      <td>1400310</td>\n      <td>4</td>\n      <td>480291919003</td>\n      <td>48029191900</td>\n      <td>48029</td>\n      <td>48</td>\n      <td>480291301005004</td>\n      <td>4802993407</td>\n      <td>None</td>\n      <td>...</td>\n      <td>0</td>\n      <td>0</td>\n      <td>0</td>\n      <td>0</td>\n      <td>0</td>\n      <td>0.001038</td>\n      <td>2.889612e+04</td>\n      <td>1063.271402</td>\n      <td>POLYGON ((-98.46781 29.42506, -98.46783 29.424...</td>\n      <td>0.000450</td>\n    </tr>\n    <tr>\n      <th>480291919001059</th>\n      <td>15233</td>\n      <td>1398520</td>\n      <td>3</td>\n      <td>480291919001</td>\n      <td>48029191900</td>\n      <td>48029</td>\n      <td>48</td>\n      <td>480291102002002</td>\n      <td>4802993407</td>\n      <td>None</td>\n      <td>...</td>\n      <td>0</td>\n      <td>0</td>\n      <td>0</td>\n      <td>0</td>\n      <td>0</td>\n      <td>0.004063</td>\n      <td>1.130953e+05</td>\n      <td>1422.540068</td>\n      <td>POLYGON ((-98.47326 29.42442, -98.47326 29.423...</td>\n      <td>0.000195</td>\n    </tr>\n    <tr>\n      <th>480291919001052</th>\n      <td>15234</td>\n      <td>1398537</td>\n      <td>1</td>\n      <td>480291919001</td>\n      <td>48029191900</td>\n      <td>48029</td>\n      <td>48</td>\n      <td>480291102002000</td>\n      <td>4802993407</td>\n      <td>None</td>\n      <td>...</td>\n      <td>0</td>\n      <td>0</td>\n      <td>0</td>\n      <td>0</td>\n      <td>0</td>\n      <td>0.004010</td>\n      <td>1.116176e+05</td>\n      <td>1416.902264</td>\n      <td>POLYGON ((-98.47325 29.42507, -98.47326 29.424...</td>\n      <td>0.000161</td>\n    </tr>\n    <tr>\n      <th>480291919001051</th>\n      <td>15235</td>\n      <td>1398555</td>\n      <td>0</td>\n      <td>480291919001</td>\n      <td>48029191900</td>\n      <td>48029</td>\n      <td>48</td>\n      <td>480291102001023</td>\n      <td>4802993407</td>\n      <td>None</td>\n      <td>...</td>\n      <td>0</td>\n      <td>0</td>\n      <td>0</td>\n      <td>0</td>\n      <td>0</td>\n      <td>0.003295</td>\n      <td>9.170819e+04</td>\n      <td>1334.014457</td>\n      <td>POLYGON ((-98.47326 29.42560, -98.47325 29.425...</td>\n      <td>0.000000</td>\n    </tr>\n    <tr>\n      <th>480291919003046</th>\n      <td>15236</td>\n      <td>1398572</td>\n      <td>4</td>\n      <td>480291919003</td>\n      <td>48029191900</td>\n      <td>48029</td>\n      <td>48</td>\n      <td>480291301006023</td>\n      <td>4802993407</td>\n      <td>None</td>\n      <td>...</td>\n      <td>0</td>\n      <td>0</td>\n      <td>0</td>\n      <td>0</td>\n      <td>0</td>\n      <td>0.004446</td>\n      <td>1.237543e+05</td>\n      <td>1486.665856</td>\n      <td>POLYGON ((-98.47167 29.42181, -98.47326 29.421...</td>\n      <td>0.000000</td>\n    </tr>\n    <tr>\n      <th>...</th>\n      <td>...</td>\n      <td>...</td>\n      <td>...</td>\n      <td>...</td>\n      <td>...</td>\n      <td>...</td>\n      <td>...</td>\n      <td>...</td>\n      <td>...</td>\n      <td>...</td>\n      <td>...</td>\n      <td>...</td>\n      <td>...</td>\n      <td>...</td>\n      <td>...</td>\n      <td>...</td>\n      <td>...</td>\n      <td>...</td>\n      <td>...</td>\n      <td>...</td>\n      <td>...</td>\n    </tr>\n    <tr>\n      <th>480291218031004</th>\n      <td>24661</td>\n      <td>2103257</td>\n      <td>1</td>\n      <td>480291218031</td>\n      <td>48029121803</td>\n      <td>48029</td>\n      <td>48</td>\n      <td>480291218031000</td>\n      <td>4802993411</td>\n      <td>None</td>\n      <td>...</td>\n      <td>0</td>\n      <td>0</td>\n      <td>0</td>\n      <td>0</td>\n      <td>0</td>\n      <td>0.207037</td>\n      <td>5.763362e+06</td>\n      <td>21149.678699</td>\n      <td>POLYGON ((-98.35803 29.55635, -98.35794 29.556...</td>\n      <td>0.000097</td>\n    </tr>\n    <tr>\n      <th>480291218031018</th>\n      <td>24665</td>\n      <td>2103350</td>\n      <td>1</td>\n      <td>480291218031</td>\n      <td>48029121803</td>\n      <td>48029</td>\n      <td>48</td>\n      <td>480291218031012</td>\n      <td>4802993411</td>\n      <td>None</td>\n      <td>...</td>\n      <td>0</td>\n      <td>0</td>\n      <td>0</td>\n      <td>0</td>\n      <td>0</td>\n      <td>0.053588</td>\n      <td>1.491738e+06</td>\n      <td>6861.135050</td>\n      <td>POLYGON ((-98.35878 29.54928, -98.36016 29.548...</td>\n      <td>0.000000</td>\n    </tr>\n    <tr>\n      <th>480291218031013</th>\n      <td>24666</td>\n      <td>2103368</td>\n      <td>0</td>\n      <td>480291218031</td>\n      <td>48029121803</td>\n      <td>48029</td>\n      <td>48</td>\n      <td>480291218031017</td>\n      <td>4802993411</td>\n      <td>None</td>\n      <td>...</td>\n      <td>0</td>\n      <td>0</td>\n      <td>0</td>\n      <td>0</td>\n      <td>0</td>\n      <td>0.007029</td>\n      <td>1.956546e+05</td>\n      <td>5806.743737</td>\n      <td>POLYGON ((-98.36482 29.54839, -98.36279 29.549...</td>\n      <td>0.000000</td>\n    </tr>\n    <tr>\n      <th>480291212032000</th>\n      <td>24924</td>\n      <td>2022836</td>\n      <td>1</td>\n      <td>480291212032</td>\n      <td>48029121203</td>\n      <td>48029</td>\n      <td>48</td>\n      <td>480291212031000</td>\n      <td>4802993411</td>\n      <td>None</td>\n      <td>...</td>\n      <td>0</td>\n      <td>0</td>\n      <td>0</td>\n      <td>0</td>\n      <td>0</td>\n      <td>0.003316</td>\n      <td>9.230211e+04</td>\n      <td>3058.964057</td>\n      <td>POLYGON ((-98.37128 29.54473, -98.37004 29.545...</td>\n      <td>0.000000</td>\n    </tr>\n    <tr>\n      <th>480291212032004</th>\n      <td>24925</td>\n      <td>2022854</td>\n      <td>1</td>\n      <td>480291212032</td>\n      <td>48029121203</td>\n      <td>48029</td>\n      <td>48</td>\n      <td>480291212032000</td>\n      <td>4802993411</td>\n      <td>None</td>\n      <td>...</td>\n      <td>0</td>\n      <td>0</td>\n      <td>0</td>\n      <td>0</td>\n      <td>0</td>\n      <td>0.003533</td>\n      <td>9.835754e+04</td>\n      <td>3584.640960</td>\n      <td>POLYGON ((-98.37350 29.54298, -98.36897 29.545...</td>\n      <td>0.000000</td>\n    </tr>\n  </tbody>\n</table>\n<p>18684 rows × 259 columns</p>\n</div>"
     },
     "metadata": {},
     "execution_count": 80
    }
   ],
   "source": [
    "gdf_blocks.loc[service_blocks_202004]"
   ]
  },
  {
   "cell_type": "code",
   "execution_count": 81,
   "metadata": {},
   "outputs": [
    {
     "output_type": "execute_result",
     "data": {
      "text/plain": "89277    191\n71823    191\n89377    188\n71926    187\n71833    187\n        ... \n82459      7\n99376      6\n99377      6\n26183      2\n75379      1\nName: stop_code, Length: 6491, dtype: int64"
     },
     "metadata": {},
     "execution_count": 81
    }
   ],
   "source": [
    "gdf_stops_202004_blocks.stop_code.value_counts()"
   ]
  },
  {
   "cell_type": "code",
   "execution_count": null,
   "metadata": {},
   "outputs": [],
   "source": []
  },
  {
   "cell_type": "code",
   "execution_count": 82,
   "metadata": {},
   "outputs": [
    {
     "output_type": "error",
     "ename": "NameError",
     "evalue": "name 'gdf_county' is not defined",
     "traceback": [
      "\u001b[0;31m---------------------------------------------------------------------------\u001b[0m",
      "\u001b[0;31mNameError\u001b[0m                                 Traceback (most recent call last)",
      "\u001b[0;32m<ipython-input-82-bb124b1b8609>\u001b[0m in \u001b[0;36m<module>\u001b[0;34m\u001b[0m\n\u001b[1;32m      1\u001b[0m \u001b[0mfig\u001b[0m\u001b[0;34m,\u001b[0m \u001b[0max\u001b[0m \u001b[0;34m=\u001b[0m \u001b[0mplt\u001b[0m\u001b[0;34m.\u001b[0m\u001b[0msubplots\u001b[0m\u001b[0;34m(\u001b[0m\u001b[0mfigsize\u001b[0m\u001b[0;34m=\u001b[0m\u001b[0;34m(\u001b[0m\u001b[0;36m20\u001b[0m\u001b[0;34m,\u001b[0m\u001b[0;36m20\u001b[0m\u001b[0;34m)\u001b[0m\u001b[0;34m)\u001b[0m\u001b[0;34m\u001b[0m\u001b[0;34m\u001b[0m\u001b[0m\n\u001b[1;32m      2\u001b[0m \u001b[0max\u001b[0m\u001b[0;34m.\u001b[0m\u001b[0mset_aspect\u001b[0m\u001b[0;34m(\u001b[0m\u001b[0;34m'equal'\u001b[0m\u001b[0;34m)\u001b[0m\u001b[0;34m\u001b[0m\u001b[0;34m\u001b[0m\u001b[0m\n\u001b[0;32m----> 3\u001b[0;31m \u001b[0maxbase\u001b[0m \u001b[0;34m=\u001b[0m \u001b[0mgplt\u001b[0m\u001b[0;34m.\u001b[0m\u001b[0mpolyplot\u001b[0m\u001b[0;34m(\u001b[0m\u001b[0mgdf_county\u001b[0m\u001b[0;34m,\u001b[0m \u001b[0max\u001b[0m\u001b[0;34m=\u001b[0m\u001b[0max\u001b[0m\u001b[0;34m,\u001b[0m \u001b[0mfacecolor\u001b[0m\u001b[0;34m=\u001b[0m\u001b[0;34m'b'\u001b[0m\u001b[0;34m,\u001b[0m \u001b[0medgecolor\u001b[0m\u001b[0;34m=\u001b[0m\u001b[0;34m'blue'\u001b[0m\u001b[0;34m,\u001b[0m \u001b[0mlinewidth\u001b[0m\u001b[0;34m=\u001b[0m\u001b[0;36m5\u001b[0m\u001b[0;34m,\u001b[0m \u001b[0mzorder\u001b[0m\u001b[0;34m=\u001b[0m\u001b[0;36m1\u001b[0m\u001b[0;34m)\u001b[0m\u001b[0;34m\u001b[0m\u001b[0;34m\u001b[0m\u001b[0m\n\u001b[0m\u001b[1;32m      4\u001b[0m \u001b[0mgplt\u001b[0m\u001b[0;34m.\u001b[0m\u001b[0mpolyplot\u001b[0m\u001b[0;34m(\u001b[0m\u001b[0mgdf_blocks\u001b[0m\u001b[0;34m.\u001b[0m\u001b[0mloc\u001b[0m\u001b[0;34m[\u001b[0m\u001b[0mservice_blocks\u001b[0m\u001b[0;34m]\u001b[0m\u001b[0;34m,\u001b[0m \u001b[0max\u001b[0m\u001b[0;34m=\u001b[0m\u001b[0max\u001b[0m\u001b[0;34m,\u001b[0m \u001b[0mfacecolor\u001b[0m\u001b[0;34m=\u001b[0m\u001b[0;34m'white'\u001b[0m\u001b[0;34m,\u001b[0m \u001b[0medgecolor\u001b[0m\u001b[0;34m=\u001b[0m\u001b[0;34m'c'\u001b[0m\u001b[0;34m,\u001b[0m \u001b[0mlinewidth\u001b[0m\u001b[0;34m=\u001b[0m\u001b[0;36m.25\u001b[0m\u001b[0;34m,\u001b[0m \u001b[0malpha\u001b[0m\u001b[0;34m=\u001b[0m\u001b[0;36m1\u001b[0m\u001b[0;34m,\u001b[0m \u001b[0mzorder\u001b[0m\u001b[0;34m=\u001b[0m\u001b[0;36m10\u001b[0m\u001b[0;34m)\u001b[0m\u001b[0;34m\u001b[0m\u001b[0;34m\u001b[0m\u001b[0m\n\u001b[1;32m      5\u001b[0m \u001b[0max1\u001b[0m \u001b[0;34m=\u001b[0m \u001b[0mgdf_stops_202004\u001b[0m\u001b[0;34m.\u001b[0m\u001b[0mplot\u001b[0m\u001b[0;34m(\u001b[0m\u001b[0max\u001b[0m\u001b[0;34m=\u001b[0m\u001b[0max\u001b[0m\u001b[0;34m,\u001b[0m \u001b[0mcolor\u001b[0m\u001b[0;34m=\u001b[0m\u001b[0;34m'red'\u001b[0m\u001b[0;34m,\u001b[0m \u001b[0mmarker\u001b[0m\u001b[0;34m=\u001b[0m\u001b[0;34m'.'\u001b[0m\u001b[0;34m,\u001b[0m\u001b[0mmarkersize\u001b[0m\u001b[0;34m=\u001b[0m\u001b[0;36m30\u001b[0m\u001b[0;34m,\u001b[0m \u001b[0mzorder\u001b[0m\u001b[0;34m=\u001b[0m\u001b[0;36m20\u001b[0m\u001b[0;34m)\u001b[0m\u001b[0;34m\u001b[0m\u001b[0;34m\u001b[0m\u001b[0m\n",
      "\u001b[0;31mNameError\u001b[0m: name 'gdf_county' is not defined"
     ]
    }
   ],
   "source": [
    "fig, ax = plt.subplots(figsize=(20,20))\n",
    "ax.set_aspect('equal')\n",
    "axbase = gplt.polyplot(gdf_county, ax=ax, facecolor='b', edgecolor='blue', linewidth=5, zorder=1)\n",
    "gplt.polyplot(gdf_blocks.loc[service_blocks], ax=ax, facecolor='white', edgecolor='c', linewidth=.25, alpha=1, zorder=10)\n",
    "ax1 = gdf_stops_202004.plot(ax=ax, color='red', marker='.',markersize=30, zorder=20)\n",
    "axbase = gplt.polyplot(gdf_county, ax=ax, facecolor='b', edgecolor='blue', linewidth=5, alpha=0, zorder=100)\n",
    "plt.show()"
   ]
  },
  {
   "cell_type": "code",
   "execution_count": null,
   "metadata": {},
   "outputs": [],
   "source": []
  },
  {
   "cell_type": "code",
   "execution_count": null,
   "metadata": {},
   "outputs": [],
   "source": []
  }
 ],
 "metadata": {
  "kernelspec": {
   "display_name": "Python 3",
   "language": "python",
   "name": "python3"
  },
  "language_info": {
   "codemirror_mode": {
    "name": "ipython",
    "version": 3
   },
   "file_extension": ".py",
   "mimetype": "text/x-python",
   "name": "python",
   "nbconvert_exporter": "python",
   "pygments_lexer": "ipython3",
   "version": "3.7.7-final"
  }
 },
 "nbformat": 4,
 "nbformat_minor": 2
}