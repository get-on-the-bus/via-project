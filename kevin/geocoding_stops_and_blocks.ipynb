{
 "cells": [
  {
   "cell_type": "code",
   "execution_count": 1,
   "metadata": {},
   "outputs": [],
   "source": [
    "#######################################\n",
    "###\n",
    "### environment setup\n",
    "###\n",
    "#######################################"
   ]
  },
  {
   "cell_type": "code",
   "execution_count": 2,
   "metadata": {},
   "outputs": [],
   "source": [
    "import pandas as pd\n",
    "import numpy as np\n",
    "import matplotlib.pyplot as plt\n",
    "from pyproj import Proj, transform, CRS\n",
    "from shapely.geometry import Polygon, Point\n",
    "import datetime\n",
    "\n",
    "# ignore warnings\n",
    "import warnings\n",
    "warnings.filterwarnings(\"ignore\")\n",
    "\n",
    "# display full\n",
    "pd.set_option('display.max_columns', None)\n",
    "pd.set_option('display.max_rows', None)"
   ]
  },
  {
   "cell_type": "code",
   "execution_count": 3,
   "metadata": {},
   "outputs": [],
   "source": [
    "import geopandas as gpd"
   ]
  },
  {
   "cell_type": "code",
   "execution_count": 4,
   "metadata": {},
   "outputs": [],
   "source": [
    "import geoplot as gplt"
   ]
  },
  {
   "cell_type": "code",
   "execution_count": 5,
   "metadata": {},
   "outputs": [],
   "source": [
    "#######################################\n",
    "###\n",
    "### identify source data sets\n",
    "###\n",
    "#######################################"
   ]
  },
  {
   "cell_type": "code",
   "execution_count": 6,
   "metadata": {},
   "outputs": [],
   "source": [
    "files = {\n",
    "    'via_data': '../resource_files/via_datadict.csv',\n",
    "    'tracts' : '../resource_files/bexar_county/Bexar_County_Census_Tracts-shp/Bexar_County_Census_Tracts.shp', \n",
    "    'block_groups' : '../resource_files/bexar_county/Bexar_County_Census_Block_Groups-shp/Bexar_County_Census_Block_Groups.shp', \n",
    "    'blocks' : '../resource_files/bexar_county/Bexar_County_Census_Blocks-shp/Bexar_County_Census_Blocks.shp', \n",
    "    'adherence_2020' : '../resource_files/Adherence_2020.csv',\n",
    "    'bus_otp_2020' : '../resource_files/BusOnTimePerformance_2020.csv',\n",
    "    'bus_fare_box_2020' : '../fred/bus_fare_fixed.csv',\n",
    "    'message_logs_2020' : '../resource_files/Logged_Messages.csv',\n",
    "    'service_miles_2020' : '../resource_files/TotalServiceMiles_2020.csv',\n",
    "    'stops_addr_2020' : '../resource_files/Stops_LatLong_GeocodeData_2020.csv',\n",
    "    'stops_201909' : '../resource_files/via_201909/stops.txt', \n",
    "    'stops_202004' : '../resource_files/via_202004/stops.csv', \n",
    "    'trips_201909' : '../resource_files/via_201909/trips.txt', \n",
    "    'trips_202004' : '../resource_files/via_202004/trips.csv', \n",
    "    'routes_201909' : '../resource_files/via_201909/routes.txt', \n",
    "    'routes_202004' : '../resource_files/via_202004/routes.csv', \n",
    "    'stop_times_201909' : '../resource_files/via_201909/stop_times.txt', \n",
    "    'stop_times_202004' : '../resource_files/via_202004/stop_times.csv', \n",
    "    'transfers_201909' : '../resource_files/via_201909/transfers.txt', \n",
    "    'transfers_202004' : '../resource_files/via_202004/transfers.csv', \n",
    "    'shapes_201909' : '../resource_files/via_201909/shapes.txt', \n",
    "    'shapes_202004' : '../resource_files/via_202004/shapes.csv', \n",
    "}"
   ]
  },
  {
   "cell_type": "code",
   "execution_count": 7,
   "metadata": {
    "tags": []
   },
   "outputs": [
    {
     "output_type": "stream",
     "name": "stdout",
     "text": "<class 'pandas.core.frame.DataFrame'>\nRangeIndex: 54 entries, 0 to 53\nData columns (total 4 columns):\n #   Column       Non-Null Count  Dtype  \n---  ------       --------------  -----  \n 0   via_column   54 non-null     object \n 1   gotb_column  54 non-null     object \n 2   datatype     54 non-null     object \n 3   description  0 non-null      float64\ndtypes: float64(1), object(3)\nmemory usage: 1.8+ KB\n"
    }
   ],
   "source": [
    "via_datadict = pd.read_csv(files['via_data'])\n",
    "via_datadict.info()"
   ]
  },
  {
   "cell_type": "code",
   "execution_count": 8,
   "metadata": {},
   "outputs": [
    {
     "output_type": "execute_result",
     "data": {
      "text/plain": "via_column\nServiceDate           service_date\nRoutes                       route\nBlock                  route_block\nRouteDirectionName       route_dir\nStopNumber                 stop_id\nName: gotb_column, dtype: object"
     },
     "metadata": {},
     "execution_count": 8
    }
   ],
   "source": [
    "via_rename = via_datadict.set_index('via_column')['gotb_column']\n",
    "via_rename.head()"
   ]
  },
  {
   "cell_type": "code",
   "execution_count": 9,
   "metadata": {},
   "outputs": [
    {
     "output_type": "execute_result",
     "data": {
      "text/plain": "via_column\nServiceDate           datetime64\nRoutes                    string\nBlock                     string\nRouteDirectionName        string\nStopNumber                string\nName: datatype, dtype: object"
     },
     "metadata": {},
     "execution_count": 9
    }
   ],
   "source": [
    "via_datatype = via_datadict.set_index('via_column')['datatype']\n",
    "via_datatype.head()"
   ]
  },
  {
   "cell_type": "code",
   "execution_count": 10,
   "metadata": {},
   "outputs": [
    {
     "output_type": "execute_result",
     "data": {
      "text/plain": "gotb_column\nservice_date    datetime64\nroute               string\nroute_block         string\nroute_dir           string\nstop_id             string\nName: datatype, dtype: object"
     },
     "metadata": {},
     "execution_count": 10
    }
   ],
   "source": [
    "gotb_datatype = via_datadict.set_index('gotb_column')['datatype']\n",
    "gotb_datatype.head()"
   ]
  },
  {
   "cell_type": "code",
   "execution_count": 11,
   "metadata": {},
   "outputs": [],
   "source": [
    "#######################################\n",
    "###\n",
    "### set up census data\n",
    "###\n",
    "#######################################"
   ]
  },
  {
   "cell_type": "code",
   "execution_count": 12,
   "metadata": {},
   "outputs": [
    {
     "output_type": "execute_result",
     "data": {
      "text/plain": "               TRACT  SUM_POPULA    ShapeSTAre    ShapeSTLen  \\\nTRACTID                                                        \n1        48029110100        3379  3.816858e+07  26074.749275   \n2        48029110300        2542  1.667905e+07  22363.990201   \n3        48029110500        2238  1.366653e+07  16048.493069   \n4        48029110600        7553  2.117379e+07  20426.412628   \n5        48029110700        1398  1.058371e+07  16998.776148   \n\n                                                  geometry   density  \nTRACTID                                                               \n1        POLYGON ((-98.48695 29.43502, -98.48626 29.434...  0.000433  \n2        POLYGON ((-98.47326 29.41461, -98.47326 29.413...  0.000325  \n3        POLYGON ((-98.50799 29.42314, -98.50812 29.422...  0.000287  \n4        POLYGON ((-98.50111 29.42735, -98.50121 29.426...  0.000967  \n5        POLYGON ((-98.50401 29.44202, -98.50386 29.441...  0.000179  ",
      "text/html": "<div>\n<style scoped>\n    .dataframe tbody tr th:only-of-type {\n        vertical-align: middle;\n    }\n\n    .dataframe tbody tr th {\n        vertical-align: top;\n    }\n\n    .dataframe thead th {\n        text-align: right;\n    }\n</style>\n<table border=\"1\" class=\"dataframe\">\n  <thead>\n    <tr style=\"text-align: right;\">\n      <th></th>\n      <th>TRACT</th>\n      <th>SUM_POPULA</th>\n      <th>ShapeSTAre</th>\n      <th>ShapeSTLen</th>\n      <th>geometry</th>\n      <th>density</th>\n    </tr>\n    <tr>\n      <th>TRACTID</th>\n      <th></th>\n      <th></th>\n      <th></th>\n      <th></th>\n      <th></th>\n      <th></th>\n    </tr>\n  </thead>\n  <tbody>\n    <tr>\n      <th>1</th>\n      <td>48029110100</td>\n      <td>3379</td>\n      <td>3.816858e+07</td>\n      <td>26074.749275</td>\n      <td>POLYGON ((-98.48695 29.43502, -98.48626 29.434...</td>\n      <td>0.000433</td>\n    </tr>\n    <tr>\n      <th>2</th>\n      <td>48029110300</td>\n      <td>2542</td>\n      <td>1.667905e+07</td>\n      <td>22363.990201</td>\n      <td>POLYGON ((-98.47326 29.41461, -98.47326 29.413...</td>\n      <td>0.000325</td>\n    </tr>\n    <tr>\n      <th>3</th>\n      <td>48029110500</td>\n      <td>2238</td>\n      <td>1.366653e+07</td>\n      <td>16048.493069</td>\n      <td>POLYGON ((-98.50799 29.42314, -98.50812 29.422...</td>\n      <td>0.000287</td>\n    </tr>\n    <tr>\n      <th>4</th>\n      <td>48029110600</td>\n      <td>7553</td>\n      <td>2.117379e+07</td>\n      <td>20426.412628</td>\n      <td>POLYGON ((-98.50111 29.42735, -98.50121 29.426...</td>\n      <td>0.000967</td>\n    </tr>\n    <tr>\n      <th>5</th>\n      <td>48029110700</td>\n      <td>1398</td>\n      <td>1.058371e+07</td>\n      <td>16998.776148</td>\n      <td>POLYGON ((-98.50401 29.44202, -98.50386 29.441...</td>\n      <td>0.000179</td>\n    </tr>\n  </tbody>\n</table>\n</div>"
     },
     "metadata": {},
     "execution_count": 12
    }
   ],
   "source": [
    "gdf_tracts = gpd.read_file(files['tracts']).set_index('OBJECTID')\n",
    "gdf_tracts.index.name = 'TRACTID'\n",
    "gdf_tracts['density']=gdf_tracts.SUM_POPULA / gdf_tracts.ShapeSTAre.min()\n",
    "gdf_tracts = gdf_tracts.to_crs('epsg:4326')\n",
    "gdf_tracts = gdf_tracts.astype({'TRACT':'string'})\n",
    "gdf_tracts.head()"
   ]
  },
  {
   "cell_type": "code",
   "execution_count": 13,
   "metadata": {
    "tags": []
   },
   "outputs": [
    {
     "output_type": "stream",
     "name": "stdout",
     "text": "<class 'geopandas.geodataframe.GeoDataFrame'>\nInt64Index: 366 entries, 1 to 366\nData columns (total 6 columns):\n #   Column      Non-Null Count  Dtype   \n---  ------      --------------  -----   \n 0   TRACT       366 non-null    string  \n 1   SUM_POPULA  366 non-null    int64   \n 2   ShapeSTAre  366 non-null    float64 \n 3   ShapeSTLen  366 non-null    float64 \n 4   geometry    366 non-null    geometry\n 5   density     366 non-null    float64 \ndtypes: float64(3), geometry(1), int64(1), string(1)\nmemory usage: 20.0 KB\n"
    }
   ],
   "source": [
    "gdf_tracts.info()"
   ]
  },
  {
   "cell_type": "code",
   "execution_count": 14,
   "metadata": {},
   "outputs": [
    {
     "output_type": "execute_result",
     "data": {
      "text/plain": "           BLOCKGROUP  SUM_POPULA    Shape_STAr    Shape_STLe    ShapeSTAre  \\\nGROUPID                                                                       \n1        480291101001         955  1.951706e+07  23279.128568  1.951706e+07   \n2        480291101002         694  7.319464e+06  14609.297870  7.319464e+06   \n3        480291101003        1730  1.133205e+07  14546.232289  1.133205e+07   \n4        480291103001        1041  4.292228e+06   9662.074836  4.292228e+06   \n5        480291103002         797  4.074139e+06  10523.204970  4.074139e+06   \n\n           ShapeSTLen                                           geometry  \\\nGROUPID                                                                    \n1        23279.128568  POLYGON ((-98.48695 29.43502, -98.48626 29.434...   \n2        14609.297870  POLYGON ((-98.48824 29.41933, -98.48826 29.418...   \n3        14546.232289  POLYGON ((-98.49432 29.43370, -98.49426 29.433...   \n4         9662.074836  POLYGON ((-98.47984 29.40970, -98.47983 29.409...   \n5        10523.204970  POLYGON ((-98.47989 29.40860, -98.47992 29.408...   \n\n          density  \nGROUPID            \n1        0.000049  \n2        0.000095  \n3        0.000153  \n4        0.000243  \n5        0.000196  ",
      "text/html": "<div>\n<style scoped>\n    .dataframe tbody tr th:only-of-type {\n        vertical-align: middle;\n    }\n\n    .dataframe tbody tr th {\n        vertical-align: top;\n    }\n\n    .dataframe thead th {\n        text-align: right;\n    }\n</style>\n<table border=\"1\" class=\"dataframe\">\n  <thead>\n    <tr style=\"text-align: right;\">\n      <th></th>\n      <th>BLOCKGROUP</th>\n      <th>SUM_POPULA</th>\n      <th>Shape_STAr</th>\n      <th>Shape_STLe</th>\n      <th>ShapeSTAre</th>\n      <th>ShapeSTLen</th>\n      <th>geometry</th>\n      <th>density</th>\n    </tr>\n    <tr>\n      <th>GROUPID</th>\n      <th></th>\n      <th></th>\n      <th></th>\n      <th></th>\n      <th></th>\n      <th></th>\n      <th></th>\n      <th></th>\n    </tr>\n  </thead>\n  <tbody>\n    <tr>\n      <th>1</th>\n      <td>480291101001</td>\n      <td>955</td>\n      <td>1.951706e+07</td>\n      <td>23279.128568</td>\n      <td>1.951706e+07</td>\n      <td>23279.128568</td>\n      <td>POLYGON ((-98.48695 29.43502, -98.48626 29.434...</td>\n      <td>0.000049</td>\n    </tr>\n    <tr>\n      <th>2</th>\n      <td>480291101002</td>\n      <td>694</td>\n      <td>7.319464e+06</td>\n      <td>14609.297870</td>\n      <td>7.319464e+06</td>\n      <td>14609.297870</td>\n      <td>POLYGON ((-98.48824 29.41933, -98.48826 29.418...</td>\n      <td>0.000095</td>\n    </tr>\n    <tr>\n      <th>3</th>\n      <td>480291101003</td>\n      <td>1730</td>\n      <td>1.133205e+07</td>\n      <td>14546.232289</td>\n      <td>1.133205e+07</td>\n      <td>14546.232289</td>\n      <td>POLYGON ((-98.49432 29.43370, -98.49426 29.433...</td>\n      <td>0.000153</td>\n    </tr>\n    <tr>\n      <th>4</th>\n      <td>480291103001</td>\n      <td>1041</td>\n      <td>4.292228e+06</td>\n      <td>9662.074836</td>\n      <td>4.292228e+06</td>\n      <td>9662.074836</td>\n      <td>POLYGON ((-98.47984 29.40970, -98.47983 29.409...</td>\n      <td>0.000243</td>\n    </tr>\n    <tr>\n      <th>5</th>\n      <td>480291103002</td>\n      <td>797</td>\n      <td>4.074139e+06</td>\n      <td>10523.204970</td>\n      <td>4.074139e+06</td>\n      <td>10523.204970</td>\n      <td>POLYGON ((-98.47989 29.40860, -98.47992 29.408...</td>\n      <td>0.000196</td>\n    </tr>\n  </tbody>\n</table>\n</div>"
     },
     "metadata": {},
     "execution_count": 14
    }
   ],
   "source": [
    "gdf_groups = gpd.read_file(files['block_groups']).set_index('OBJECTID')\n",
    "gdf_groups.index.name = 'GROUPID'\n",
    "gdf_groups['density']=gdf_groups.SUM_POPULA / gdf_groups.ShapeSTAre\n",
    "gdf_groups = gdf_groups.to_crs('epsg:4326')\n",
    "gdf_groups = gdf_groups.astype({'BLOCKGROUP':'string'})\n",
    "gdf_groups.head()"
   ]
  },
  {
   "cell_type": "code",
   "execution_count": 15,
   "metadata": {
    "tags": []
   },
   "outputs": [
    {
     "output_type": "stream",
     "name": "stdout",
     "text": "<class 'geopandas.geodataframe.GeoDataFrame'>\nInt64Index: 1084 entries, 1 to 1084\nData columns (total 8 columns):\n #   Column      Non-Null Count  Dtype   \n---  ------      --------------  -----   \n 0   BLOCKGROUP  1084 non-null   string  \n 1   SUM_POPULA  1084 non-null   int64   \n 2   Shape_STAr  1084 non-null   float64 \n 3   Shape_STLe  1084 non-null   float64 \n 4   ShapeSTAre  1084 non-null   float64 \n 5   ShapeSTLen  1084 non-null   float64 \n 6   geometry    1084 non-null   geometry\n 7   density     1084 non-null   float64 \ndtypes: float64(5), geometry(1), int64(1), string(1)\nmemory usage: 76.2 KB\n"
    }
   ],
   "source": [
    "gdf_groups.info()"
   ]
  },
  {
   "cell_type": "code",
   "execution_count": 16,
   "metadata": {},
   "outputs": [],
   "source": [
    "gdf_blocks_cols = [\n",
    "    'BLOCK', 'BLOCKGROUP', 'TRACT', 'ID', 'COLORING', 'MCD', \n",
    "    'PLACE', 'VTD', 'CONGRESS', 'LOWERSLD', 'UPPERSLD', 'UNIFSCHOOL',\n",
    "    'POPULATION', 'HISPANIC_O', 'NH_WHT', 'NH_BLK', 'NH_ASN', 'NH_OTH',\n",
    "    'gecovector', 'ShapeSTAre', 'ShapeSTLen', 'geometry'\n",
    "]"
   ]
  },
  {
   "cell_type": "code",
   "execution_count": 17,
   "metadata": {},
   "outputs": [
    {
     "output_type": "execute_result",
     "data": {
      "text/plain": "                    BLOCK    BLOCKGROUP        TRACT       ID  COLORING  \\\nBLOCKOBJ                                                                  \n1         480291919003005  480291919003  48029191900  1400310         4   \n2         480291411011002  480291411011  48029141101  1400328         3   \n3         480291411011006  480291411011  48029141101  1400348         3   \n4         480291410002007  480291410002  48029141000  1400365         1   \n5         480291410002006  480291410002  48029141000  1400383         3   \n\n                 MCD    PLACE        VTD CONGRESS LOWERSLD UPPERSLD  \\\nBLOCKOBJ                                                              \n1         4802993407  4865000  480294004     4821    48120    48019   \n2         4802993407  4865000  480291074     4823    48119    48019   \n3         4802993407  4865000  480291074     4823    48119    48019   \n4         4802993407  4865000  480291074     4823    48119    48019   \n5         4802993407  4865000  480291074     4823    48119    48019   \n\n         UNIFSCHOOL  POPULATION  HISPANIC_O  NH_WHT  NH_BLK  NH_ASN  NH_OTH  \\\nBLOCKOBJ                                                                      \n1           4838730          13          11       0       0       0       2   \n2           4838730           0           0       0       0       0       0   \n3           4838730         102          82      16       2       0       2   \n4           4838730         162         149      13       0       0       0   \n5           4838730         133         124       5       4       0       0   \n\n          gecovector     ShapeSTAre   ShapeSTLen  \\\nBLOCKOBJ                                           \n1           0.001038   28896.121094  1063.271402   \n2           0.018304  509512.736328  8615.618889   \n3           0.012803  356394.378906  2836.366689   \n4           0.012892  358877.382812  2852.304380   \n5           0.016129  448943.710938  2994.127235   \n\n                                                   geometry  \nBLOCKOBJ                                                     \n1         POLYGON ((-98.46781 29.42506, -98.46783 29.424...  \n2         POLYGON ((-98.46881 29.36511, -98.46815 29.364...  \n3         POLYGON ((-98.46323 29.36640, -98.46324 29.365...  \n4         POLYGON ((-98.46667 29.36662, -98.46668 29.367...  \n5         POLYGON ((-98.46668 29.36753, -98.46667 29.368...  ",
      "text/html": "<div>\n<style scoped>\n    .dataframe tbody tr th:only-of-type {\n        vertical-align: middle;\n    }\n\n    .dataframe tbody tr th {\n        vertical-align: top;\n    }\n\n    .dataframe thead th {\n        text-align: right;\n    }\n</style>\n<table border=\"1\" class=\"dataframe\">\n  <thead>\n    <tr style=\"text-align: right;\">\n      <th></th>\n      <th>BLOCK</th>\n      <th>BLOCKGROUP</th>\n      <th>TRACT</th>\n      <th>ID</th>\n      <th>COLORING</th>\n      <th>MCD</th>\n      <th>PLACE</th>\n      <th>VTD</th>\n      <th>CONGRESS</th>\n      <th>LOWERSLD</th>\n      <th>UPPERSLD</th>\n      <th>UNIFSCHOOL</th>\n      <th>POPULATION</th>\n      <th>HISPANIC_O</th>\n      <th>NH_WHT</th>\n      <th>NH_BLK</th>\n      <th>NH_ASN</th>\n      <th>NH_OTH</th>\n      <th>gecovector</th>\n      <th>ShapeSTAre</th>\n      <th>ShapeSTLen</th>\n      <th>geometry</th>\n    </tr>\n    <tr>\n      <th>BLOCKOBJ</th>\n      <th></th>\n      <th></th>\n      <th></th>\n      <th></th>\n      <th></th>\n      <th></th>\n      <th></th>\n      <th></th>\n      <th></th>\n      <th></th>\n      <th></th>\n      <th></th>\n      <th></th>\n      <th></th>\n      <th></th>\n      <th></th>\n      <th></th>\n      <th></th>\n      <th></th>\n      <th></th>\n      <th></th>\n      <th></th>\n    </tr>\n  </thead>\n  <tbody>\n    <tr>\n      <th>1</th>\n      <td>480291919003005</td>\n      <td>480291919003</td>\n      <td>48029191900</td>\n      <td>1400310</td>\n      <td>4</td>\n      <td>4802993407</td>\n      <td>4865000</td>\n      <td>480294004</td>\n      <td>4821</td>\n      <td>48120</td>\n      <td>48019</td>\n      <td>4838730</td>\n      <td>13</td>\n      <td>11</td>\n      <td>0</td>\n      <td>0</td>\n      <td>0</td>\n      <td>2</td>\n      <td>0.001038</td>\n      <td>28896.121094</td>\n      <td>1063.271402</td>\n      <td>POLYGON ((-98.46781 29.42506, -98.46783 29.424...</td>\n    </tr>\n    <tr>\n      <th>2</th>\n      <td>480291411011002</td>\n      <td>480291411011</td>\n      <td>48029141101</td>\n      <td>1400328</td>\n      <td>3</td>\n      <td>4802993407</td>\n      <td>4865000</td>\n      <td>480291074</td>\n      <td>4823</td>\n      <td>48119</td>\n      <td>48019</td>\n      <td>4838730</td>\n      <td>0</td>\n      <td>0</td>\n      <td>0</td>\n      <td>0</td>\n      <td>0</td>\n      <td>0</td>\n      <td>0.018304</td>\n      <td>509512.736328</td>\n      <td>8615.618889</td>\n      <td>POLYGON ((-98.46881 29.36511, -98.46815 29.364...</td>\n    </tr>\n    <tr>\n      <th>3</th>\n      <td>480291411011006</td>\n      <td>480291411011</td>\n      <td>48029141101</td>\n      <td>1400348</td>\n      <td>3</td>\n      <td>4802993407</td>\n      <td>4865000</td>\n      <td>480291074</td>\n      <td>4823</td>\n      <td>48119</td>\n      <td>48019</td>\n      <td>4838730</td>\n      <td>102</td>\n      <td>82</td>\n      <td>16</td>\n      <td>2</td>\n      <td>0</td>\n      <td>2</td>\n      <td>0.012803</td>\n      <td>356394.378906</td>\n      <td>2836.366689</td>\n      <td>POLYGON ((-98.46323 29.36640, -98.46324 29.365...</td>\n    </tr>\n    <tr>\n      <th>4</th>\n      <td>480291410002007</td>\n      <td>480291410002</td>\n      <td>48029141000</td>\n      <td>1400365</td>\n      <td>1</td>\n      <td>4802993407</td>\n      <td>4865000</td>\n      <td>480291074</td>\n      <td>4823</td>\n      <td>48119</td>\n      <td>48019</td>\n      <td>4838730</td>\n      <td>162</td>\n      <td>149</td>\n      <td>13</td>\n      <td>0</td>\n      <td>0</td>\n      <td>0</td>\n      <td>0.012892</td>\n      <td>358877.382812</td>\n      <td>2852.304380</td>\n      <td>POLYGON ((-98.46667 29.36662, -98.46668 29.367...</td>\n    </tr>\n    <tr>\n      <th>5</th>\n      <td>480291410002006</td>\n      <td>480291410002</td>\n      <td>48029141000</td>\n      <td>1400383</td>\n      <td>3</td>\n      <td>4802993407</td>\n      <td>4865000</td>\n      <td>480291074</td>\n      <td>4823</td>\n      <td>48119</td>\n      <td>48019</td>\n      <td>4838730</td>\n      <td>133</td>\n      <td>124</td>\n      <td>5</td>\n      <td>4</td>\n      <td>0</td>\n      <td>0</td>\n      <td>0.016129</td>\n      <td>448943.710938</td>\n      <td>2994.127235</td>\n      <td>POLYGON ((-98.46668 29.36753, -98.46667 29.368...</td>\n    </tr>\n  </tbody>\n</table>\n</div>"
     },
     "metadata": {},
     "execution_count": 17
    }
   ],
   "source": [
    "gdf_blocks = gpd.read_file(files['blocks']).set_index('OBJECTID')\n",
    "gdf_blocks.index.name = 'BLOCKOBJ'\n",
    "gdf_blocks['NH_OTH'] = (\n",
    "    gdf_blocks.POPULATION \n",
    "    - gdf_blocks.HISPANIC_O \n",
    "    - gdf_blocks.NH_WHT \n",
    "    - gdf_blocks.NH_BLK \n",
    "    - gdf_blocks.NH_ASN\n",
    ")\n",
    "# gdf_blocks['density']=gdf_blocks.POPULATION / gdf_blocks.ShapeSTAre\n",
    "gdf_blocks = gdf_blocks[gdf_blocks_cols]\n",
    "gdf_blocks = gdf_blocks.to_crs('epsg:4326')\n",
    "gdf_blocks = gdf_blocks.astype({\n",
    "    'BLOCK': 'string',\n",
    "    'BLOCKGROUP': 'string',\n",
    "    'TRACT': 'string',\n",
    "    'MCD': 'string',\n",
    "    'PLACE': 'string',\n",
    "    'VTD': 'string',\n",
    "    'CONGRESS': 'string',\n",
    "    'LOWERSLD': 'string',\n",
    "    'UPPERSLD': 'string',\n",
    "    'UNIFSCHOOL': 'string',\n",
    "})\n",
    "gdf_blocks.head()"
   ]
  },
  {
   "cell_type": "code",
   "execution_count": 18,
   "metadata": {
    "tags": []
   },
   "outputs": [
    {
     "output_type": "stream",
     "name": "stdout",
     "text": "<class 'geopandas.geodataframe.GeoDataFrame'>\nInt64Index: 26452 entries, 1 to 26452\nData columns (total 22 columns):\n #   Column      Non-Null Count  Dtype   \n---  ------      --------------  -----   \n 0   BLOCK       26452 non-null  string  \n 1   BLOCKGROUP  26452 non-null  string  \n 2   TRACT       26452 non-null  string  \n 3   ID          26452 non-null  int64   \n 4   COLORING    26452 non-null  int64   \n 5   MCD         26452 non-null  string  \n 6   PLACE       22406 non-null  string  \n 7   VTD         26452 non-null  string  \n 8   CONGRESS    26452 non-null  string  \n 9   LOWERSLD    26452 non-null  string  \n 10  UPPERSLD    26452 non-null  string  \n 11  UNIFSCHOOL  26452 non-null  string  \n 12  POPULATION  26452 non-null  int64   \n 13  HISPANIC_O  26452 non-null  int64   \n 14  NH_WHT      26452 non-null  int64   \n 15  NH_BLK      26452 non-null  int64   \n 16  NH_ASN      26452 non-null  int64   \n 17  NH_OTH      26452 non-null  int64   \n 18  gecovector  26452 non-null  float64 \n 19  ShapeSTAre  26452 non-null  float64 \n 20  ShapeSTLen  26452 non-null  float64 \n 21  geometry    26452 non-null  geometry\ndtypes: float64(3), geometry(1), int64(8), string(10)\nmemory usage: 4.6 MB\n"
    }
   ],
   "source": [
    "gdf_blocks.info()"
   ]
  },
  {
   "cell_type": "code",
   "execution_count": 19,
   "metadata": {
    "tags": []
   },
   "outputs": [
    {
     "output_type": "execute_result",
     "data": {
      "text/plain": "         COUNTY                                           geometry\nCOUNTYID                                                          \n0         48029  POLYGON ((-98.32720 29.20987, -98.32725 29.209...",
      "text/html": "<div>\n<style scoped>\n    .dataframe tbody tr th:only-of-type {\n        vertical-align: middle;\n    }\n\n    .dataframe tbody tr th {\n        vertical-align: top;\n    }\n\n    .dataframe thead th {\n        text-align: right;\n    }\n</style>\n<table border=\"1\" class=\"dataframe\">\n  <thead>\n    <tr style=\"text-align: right;\">\n      <th></th>\n      <th>COUNTY</th>\n      <th>geometry</th>\n    </tr>\n    <tr>\n      <th>COUNTYID</th>\n      <th></th>\n      <th></th>\n    </tr>\n  </thead>\n  <tbody>\n    <tr>\n      <th>0</th>\n      <td>48029</td>\n      <td>POLYGON ((-98.32720 29.20987, -98.32725 29.209...</td>\n    </tr>\n  </tbody>\n</table>\n</div>"
     },
     "metadata": {},
     "execution_count": 19
    }
   ],
   "source": [
    "gdf_counties = gdf_tracts[['TRACT','geometry']].copy()\n",
    "gdf_counties['COUNTY'] = gdf_counties['TRACT'].str[:5]\n",
    "gdf_counties.drop(columns='TRACT', inplace=True)\n",
    "gdf_counties = gdf_counties.dissolve(by='COUNTY').reset_index()\n",
    "gdf_counties.index.name = 'COUNTYID'\n",
    "gdf_counties = gdf_counties.astype({'COUNTY':\"string\"})\n",
    "gdf_counties.head()"
   ]
  },
  {
   "cell_type": "code",
   "execution_count": 20,
   "metadata": {},
   "outputs": [
    {
     "output_type": "execute_result",
     "data": {
      "text/plain": "0.00675000675000675"
     },
     "metadata": {},
     "execution_count": 20
    }
   ],
   "source": [
    "# For simplification, using distance per degree latitude to determine buffer amount. \n",
    "# This is slightly inaccurate due to the curvature of the earth. Buffer distances is\n",
    "# set at 800 meters, which is roughly a half mile.\n",
    "\n",
    "meters_per_degree = 111111\n",
    "buffer_in_meters = 750\n",
    "buffer_in_degrees = buffer_in_meters / meters_per_degree\n",
    "buffer_in_degrees"
   ]
  },
  {
   "cell_type": "code",
   "execution_count": 21,
   "metadata": {},
   "outputs": [],
   "source": [
    "#######################################\n",
    "###\n",
    "### set up via datathon data\n",
    "###\n",
    "#######################################"
   ]
  },
  {
   "cell_type": "code",
   "execution_count": 22,
   "metadata": {},
   "outputs": [],
   "source": [
    "#######################################\n",
    "###\n",
    "### via datathon 2020\n",
    "###\n",
    "### adherence\n",
    "###\n",
    "#######################################"
   ]
  },
  {
   "cell_type": "code",
   "execution_count": 23,
   "metadata": {},
   "outputs": [],
   "source": [
    "def retype_dataframe(df, type_dict):\n",
    "    retype_dict = {k:v for (k,v) in type_dict.items() if k in df.columns}\n",
    "    # print(retype_dict)\n",
    "    string_cols = [k for (k,v) in retype_dict.items() if v == 'string']\n",
    "    # print(string_cols)\n",
    "    for col in string_cols:\n",
    "        df[col] = df[col].apply(str)\n",
    "    df = df.astype(retype_dict).copy()\n",
    "\n",
    "    return df"
   ]
  },
  {
   "cell_type": "code",
   "execution_count": 107,
   "metadata": {},
   "outputs": [],
   "source": [
    "def wrangle_adherence(source_file):\n",
    "    # adherence_cols_rename = {\n",
    "    #     'ServiceDate' : 'service_date', \n",
    "    #     'Routes' : 'route', \n",
    "    #     'Block' : 'route_block', \n",
    "    #     'RouteDirectionName' : 'route_dir', \n",
    "    #     'StopNumber' : 'stop_id',\n",
    "    #     'Location' : 'stop_name', \n",
    "    #     'Latitude' : 'stop_lat', \n",
    "    #     'Longitude' : 'stop_lon',\n",
    "    #     'ScheduledTime(S)' : 'sched_time_s', \n",
    "    #     'ScheduledTime(HHMMSS)' : 'sched_time_hms', \n",
    "    #     'ArrivalTime(S)' : 'arr_time_s',\n",
    "    #     'ArrivalTime(HHMMSS)' : 'arr_time_hms', \n",
    "    #     'DepartureTime(S)' : 'dep_time_s', \n",
    "    #     'DepartureTime(HHMMSS)' : 'dep_time_hms',\n",
    "    #     'Odometer' : 'odometer', \n",
    "    #     'VehicleNumber' : 'vehicle_id'\n",
    "    # }\n",
    "    adherence_stops_cols = ['stop_id','stop_name','deg_lat','deg_lon']\n",
    "    adherence_stops_drops = adherence_stops_cols.copy()\n",
    "    adherence_stops_drops.remove('stop_id')\n",
    "    # print(adherence_stops_drops)\n",
    "    \n",
    "    df_adh = pd.read_csv(source_file).rename(columns=via_rename)\n",
    "    df_adh.route_dir = df_adh.route_dir.str.slice(0,1)\n",
    "    df_adh.vehicle_id = df_adh.vehicle_id.apply(str)\n",
    "    df_adh.vehicle_id = df_adh.vehicle_id.apply(lambda x: x.replace('.0',''))\n",
    "    \n",
    "    # print('Check F1: df_adh')\n",
    "    # print(df_adh.info())\n",
    "\n",
    "    \n",
    "    gdf_stops = df_adh[adherence_stops_cols]\n",
    "    # print('\\nCheck F2: df_stops')\n",
    "    # print(gdf_stops.info())\n",
    "    \n",
    "    df_adh = df_adh.drop(columns=adherence_stops_drops)\n",
    "    df_adh = retype_dataframe(df_adh, gotb_datatype)\n",
    "    \n",
    "    # print('\\nCheck F3: df_adh')\n",
    "    # print(df_adh.info())\n",
    "\n",
    "    adherence_stops_rename = {\n",
    "        'deg_lat' : 'stop_lat', \n",
    "        'deg_lon' : 'stop_lon',\n",
    "    }\n",
    "    \n",
    "    gdf_stops['stops'] = 1\n",
    "    gdf_stops.deg_lat.fillna(0, inplace=True)\n",
    "    gdf_stops.deg_lon.fillna(0, inplace=True)\n",
    "    gdf_stops.deg_lat = gdf_stops.deg_lat * 10 ** -7\n",
    "    gdf_stops.deg_lon = gdf_stops.deg_lon * 10 ** -7\n",
    "    gdf_stops = gdf_stops.groupby(adherence_stops_cols).agg({'stops':['sum']}).reset_index()\n",
    "    gdf_stops.columns = [col[0] for col in gdf_stops.columns]\n",
    "    # print(new_cols)\n",
    "    gdf_stops.rename(columns=adherence_stops_rename, inplace=True)\n",
    "    gdf_stops['stop_code'] = gdf_stops.stop_id\n",
    "    gdf_stops.set_index('stop_code', inplace=True)\n",
    "    gdf_stops = retype_dataframe(gdf_stops, gotb_datatype)\n",
    "    gdf_stops = gpd.GeoDataFrame(\n",
    "        gdf_stops,\n",
    "        geometry = gpd.points_from_xy(gdf_stops.stop_lon, gdf_stops.stop_lat),\n",
    "        crs={'epsg:4326'}\n",
    "    )\n",
    "    # print('\\nCheck F4: df_stops')\n",
    "    # print(gdf_stops.info())\n",
    "    return df_adh, gdf_stops"
   ]
  },
  {
   "cell_type": "code",
   "execution_count": 108,
   "metadata": {
    "tags": []
   },
   "outputs": [
    {
     "output_type": "stream",
     "name": "stdout",
     "text": "\ndf_adherence\n<class 'pandas.core.frame.DataFrame'>\nRangeIndex: 358328 entries, 0 to 358327\nData columns (total 13 columns):\n #   Column          Non-Null Count   Dtype         \n---  ------          --------------   -----         \n 0   service_date    358328 non-null  datetime64[ns]\n 1   route           358328 non-null  string        \n 2   route_block     358328 non-null  string        \n 3   route_dir       358328 non-null  string        \n 4   stop_id         358328 non-null  string        \n 5   sched_time_s    358328 non-null  float64       \n 6   sched_time_hms  358328 non-null  datetime64[ns]\n 7   arr_time_s      329729 non-null  float64       \n 8   arr_time_hms    329729 non-null  datetime64[ns]\n 9   dep_time_s      329729 non-null  float64       \n 10  dep_time_hms    329729 non-null  datetime64[ns]\n 11  odometer        329684 non-null  float64       \n 12  vehicle_id      358328 non-null  string        \ndtypes: datetime64[ns](4), float64(4), string(5)\nmemory usage: 35.5 MB\nNone\n\ngdf_stops_adh\n<class 'geopandas.geodataframe.GeoDataFrame'>\nIndex: 649 entries, 10013 to GARA\nData columns (total 6 columns):\n #   Column     Non-Null Count  Dtype   \n---  ------     --------------  -----   \n 0   stop_id    649 non-null    string  \n 1   stop_name  649 non-null    string  \n 2   stop_lat   649 non-null    float64 \n 3   stop_lon   649 non-null    float64 \n 4   stops      649 non-null    int64   \n 5   geometry   649 non-null    geometry\ndtypes: float64(2), geometry(1), int64(1), string(2)\nmemory usage: 35.5+ KB\nNone\n"
    }
   ],
   "source": [
    "df_adherence, gdf_stops_adh = wrangle_adherence(files['adherence_2020'])\n",
    "# print(adh.type())\n",
    "# df_adherence = adh[0]\n",
    "# gdf_stops_adh = adh[1]\n",
    "print('\\ndf_adherence')\n",
    "print(df_adherence.info())\n",
    "print('\\ngdf_stops_adh')\n",
    "print(gdf_stops_adh.info())"
   ]
  },
  {
   "cell_type": "code",
   "execution_count": 109,
   "metadata": {},
   "outputs": [
    {
     "output_type": "execute_result",
     "data": {
      "text/plain": "Index(['service_date', 'route', 'route_block', 'route_dir', 'stop_id',\n       'sched_time_s', 'sched_time_hms', 'arr_time_s', 'arr_time_hms',\n       'dep_time_s', 'dep_time_hms', 'odometer', 'vehicle_id'],\n      dtype='object')"
     },
     "metadata": {},
     "execution_count": 109
    }
   ],
   "source": [
    "df_adherence.columns"
   ]
  },
  {
   "cell_type": "code",
   "execution_count": null,
   "metadata": {},
   "outputs": [],
   "source": []
  },
  {
   "cell_type": "code",
   "execution_count": null,
   "metadata": {},
   "outputs": [],
   "source": []
  },
  {
   "cell_type": "code",
   "execution_count": 158,
   "metadata": {
    "tags": []
   },
   "outputs": [
    {
     "output_type": "stream",
     "name": "stdout",
     "text": "<class 'pandas.core.frame.DataFrame'>\nRangeIndex: 357465 entries, 0 to 357464\nData columns (total 14 columns):\n #   Column          Non-Null Count   Dtype         \n---  ------          --------------   -----         \n 0   service_date    357465 non-null  datetime64[ns]\n 1   vehicle_id      357465 non-null  string        \n 2   route           357465 non-null  string        \n 3   route_block     357465 non-null  string        \n 4   route_dir       357465 non-null  string        \n 5   stop_id         357465 non-null  string        \n 6   recs            357465 non-null  int64         \n 7   arr_odometer    328888 non-null  float64       \n 8   dep_odometer    328888 non-null  float64       \n 9   sched_time_hms  357465 non-null  datetime64[ns]\n 10  arr_time_hms    328933 non-null  datetime64[ns]\n 11  dep_time_hms    328933 non-null  datetime64[ns]\n 12  time_stopped    328933 non-null  float64       \n 13  time_missed     328933 non-null  float64       \ndtypes: datetime64[ns](4), float64(4), int64(1), string(5)\nmemory usage: 38.2 MB\n"
    }
   ],
   "source": [
    "adh_routes_group_cols = ['service_date','vehicle_id','route','sched_time_s','route_block','route_dir','stop_id']\n",
    "adh_routes_data_cols = ['arr_time_s', 'dep_time_s', 'odometer']\n",
    "adh_routes = df_adherence[adh_routes_group_cols + adh_routes_data_cols]\n",
    "adh_routes['arr_odometer'] = adh_routes.odometer\n",
    "adh_routes['dep_odometer'] = adh_routes.odometer\n",
    "adh_routes['recs'] = 1\n",
    "adh_routes = adh_routes.groupby(adh_routes_group_cols).agg({'recs':['count'], 'arr_time_s':['min'],'dep_time_s':['max'],'arr_odometer':['min'],'dep_odometer':['max']}).reset_index()\n",
    "adh_routes.columns = [col[0] for col in adh_routes.columns]\n",
    "adh_routes = retype_dataframe(adh_routes, gotb_datatype)\n",
    "adh_routes['sched_time_hms'] = adh_routes.service_date + pd.to_timedelta(adh_routes.sched_time_s,'sec')\n",
    "adh_routes['arr_time_hms'] = adh_routes.service_date + pd.to_timedelta(adh_routes.arr_time_s,'sec')\n",
    "adh_routes['dep_time_hms'] = adh_routes.service_date + pd.to_timedelta(adh_routes.dep_time_s,'sec')\n",
    "adh_routes['time_stopped'] = adh_routes.dep_time_s - adh_routes.arr_time_s\n",
    "adh_routes['time_missed'] = adh_routes.dep_time_s - adh_routes.sched_time_s\n",
    "adh_routes.drop(columns=['sched_time_s', 'arr_time_s', 'dep_time_s'], inplace=True)\n",
    "adh_routes.info()"
   ]
  },
  {
   "cell_type": "code",
   "execution_count": 159,
   "metadata": {},
   "outputs": [
    {
     "output_type": "execute_result",
     "data": {
      "text/plain": "  service_date vehicle_id route route_block route_dir stop_id  recs  \\\n0   2019-09-11        104   301     301-002         E   54641     1   \n1   2019-09-11        104   301     301-002         W   54641     1   \n2   2019-09-11        104   301     301-002         W   60013     1   \n3   2019-09-11        104   301     301-002         E   60013     1   \n4   2019-09-11        104   301     301-002         E   54641     1   \n\n   arr_odometer  dep_odometer      sched_time_hms        arr_time_hms  \\\n0           NaN           NaN 2019-09-11 10:38:00                 NaT   \n1           NaN           NaN 2019-09-11 10:44:00                 NaT   \n2          1.53          1.53 2019-09-11 11:04:00 2019-09-11 11:11:05   \n3          1.61          1.61 2019-09-11 11:12:00 2019-09-11 11:11:05   \n4          3.70          3.70 2019-09-11 11:27:00 2019-09-11 11:28:51   \n\n         dep_time_hms  time_stopped  time_missed  \n0                 NaT           NaN          NaN  \n1                 NaT           NaN          NaN  \n2 2019-09-11 11:11:05           0.0        425.0  \n3 2019-09-11 11:14:00         175.0        120.0  \n4 2019-09-11 11:28:51           0.0        111.0  ",
      "text/html": "<div>\n<style scoped>\n    .dataframe tbody tr th:only-of-type {\n        vertical-align: middle;\n    }\n\n    .dataframe tbody tr th {\n        vertical-align: top;\n    }\n\n    .dataframe thead th {\n        text-align: right;\n    }\n</style>\n<table border=\"1\" class=\"dataframe\">\n  <thead>\n    <tr style=\"text-align: right;\">\n      <th></th>\n      <th>service_date</th>\n      <th>vehicle_id</th>\n      <th>route</th>\n      <th>route_block</th>\n      <th>route_dir</th>\n      <th>stop_id</th>\n      <th>recs</th>\n      <th>arr_odometer</th>\n      <th>dep_odometer</th>\n      <th>sched_time_hms</th>\n      <th>arr_time_hms</th>\n      <th>dep_time_hms</th>\n      <th>time_stopped</th>\n      <th>time_missed</th>\n    </tr>\n  </thead>\n  <tbody>\n    <tr>\n      <th>0</th>\n      <td>2019-09-11</td>\n      <td>104</td>\n      <td>301</td>\n      <td>301-002</td>\n      <td>E</td>\n      <td>54641</td>\n      <td>1</td>\n      <td>NaN</td>\n      <td>NaN</td>\n      <td>2019-09-11 10:38:00</td>\n      <td>NaT</td>\n      <td>NaT</td>\n      <td>NaN</td>\n      <td>NaN</td>\n    </tr>\n    <tr>\n      <th>1</th>\n      <td>2019-09-11</td>\n      <td>104</td>\n      <td>301</td>\n      <td>301-002</td>\n      <td>W</td>\n      <td>54641</td>\n      <td>1</td>\n      <td>NaN</td>\n      <td>NaN</td>\n      <td>2019-09-11 10:44:00</td>\n      <td>NaT</td>\n      <td>NaT</td>\n      <td>NaN</td>\n      <td>NaN</td>\n    </tr>\n    <tr>\n      <th>2</th>\n      <td>2019-09-11</td>\n      <td>104</td>\n      <td>301</td>\n      <td>301-002</td>\n      <td>W</td>\n      <td>60013</td>\n      <td>1</td>\n      <td>1.53</td>\n      <td>1.53</td>\n      <td>2019-09-11 11:04:00</td>\n      <td>2019-09-11 11:11:05</td>\n      <td>2019-09-11 11:11:05</td>\n      <td>0.0</td>\n      <td>425.0</td>\n    </tr>\n    <tr>\n      <th>3</th>\n      <td>2019-09-11</td>\n      <td>104</td>\n      <td>301</td>\n      <td>301-002</td>\n      <td>E</td>\n      <td>60013</td>\n      <td>1</td>\n      <td>1.61</td>\n      <td>1.61</td>\n      <td>2019-09-11 11:12:00</td>\n      <td>2019-09-11 11:11:05</td>\n      <td>2019-09-11 11:14:00</td>\n      <td>175.0</td>\n      <td>120.0</td>\n    </tr>\n    <tr>\n      <th>4</th>\n      <td>2019-09-11</td>\n      <td>104</td>\n      <td>301</td>\n      <td>301-002</td>\n      <td>E</td>\n      <td>54641</td>\n      <td>1</td>\n      <td>3.70</td>\n      <td>3.70</td>\n      <td>2019-09-11 11:27:00</td>\n      <td>2019-09-11 11:28:51</td>\n      <td>2019-09-11 11:28:51</td>\n      <td>0.0</td>\n      <td>111.0</td>\n    </tr>\n  </tbody>\n</table>\n</div>"
     },
     "metadata": {},
     "execution_count": 159
    }
   ],
   "source": [
    "adh_routes.head()"
   ]
  },
  {
   "cell_type": "code",
   "execution_count": 127,
   "metadata": {},
   "outputs": [
    {
     "output_type": "execute_result",
     "data": {
      "text/plain": "1    356606\n2       857\n4         2\nName: recs, dtype: int64"
     },
     "metadata": {},
     "execution_count": 127
    }
   ],
   "source": [
    "adh_routes.recs.value_counts()"
   ]
  },
  {
   "cell_type": "code",
   "execution_count": 128,
   "metadata": {},
   "outputs": [
    {
     "output_type": "execute_result",
     "data": {
      "text/plain": "S    116631\nN    116201\nE     62920\nW     62576\nName: route_dir, dtype: Int64"
     },
     "metadata": {},
     "execution_count": 128
    }
   ],
   "source": [
    "df_adherence.route_dir.value_counts()"
   ]
  },
  {
   "cell_type": "code",
   "execution_count": 129,
   "metadata": {},
   "outputs": [
    {
     "output_type": "execute_result",
     "data": {
      "text/plain": "nan    1744\n525    1374\n529    1290\n533    1274\n585    1273\nName: vehicle_id, dtype: Int64"
     },
     "metadata": {},
     "execution_count": 129
    }
   ],
   "source": [
    "df_adherence.vehicle_id.value_counts().head()"
   ]
  },
  {
   "cell_type": "code",
   "execution_count": 144,
   "metadata": {},
   "outputs": [
    {
     "output_type": "execute_result",
     "data": {
      "text/plain": "service_date      2019-09-12 00:00:00\nvehicle_id                        500\nroute                               2\nsched_time_s                    57540\nroute_block                   002-008\nroute_dir                           S\nstop_id                         10059\nrecs                                4\narr_time_s                      57370\ndep_time_s                      57555\narr_odometer                     57.7\ndep_odometer                    57.74\nsched_time_hms        0 days 15:59:00\nsched_datetime    2019-09-12 15:59:00\narr_time_hms          0 days 15:56:10\narr_datetime      2019-09-12 15:56:10\ndep_time_hms          0 days 15:59:15\ndep_datetime      2019-09-12 15:59:15\ntime_missed         -1 days +23:59:45\nName: 54066, dtype: object"
     },
     "metadata": {},
     "execution_count": 144
    }
   ],
   "source": [
    "check_mult = adh_routes[adh_routes.recs>2].iloc[0]\n",
    "check_mult"
   ]
  },
  {
   "cell_type": "code",
   "execution_count": 145,
   "metadata": {},
   "outputs": [
    {
     "output_type": "execute_result",
     "data": {
      "text/plain": "'S'"
     },
     "metadata": {},
     "execution_count": 145
    }
   ],
   "source": [
    "check_mult.route_dir"
   ]
  },
  {
   "cell_type": "code",
   "execution_count": 146,
   "metadata": {},
   "outputs": [
    {
     "output_type": "execute_result",
     "data": {
      "text/plain": "       service_date route route_block route_dir stop_id  sched_time_s  \\\n39052    2019-09-12     2     002-008         S   10059       57540.0   \n39053    2019-09-12     2     002-008         S   10059       57540.0   \n39054    2019-09-12     2     002-008         S   10059       57540.0   \n39055    2019-09-12     2     002-008         S   10059       57540.0   \n39118    2019-09-12     2     002-008         S   10059       73200.0   \n39119    2019-09-12     2     002-008         S   10059       73200.0   \n39120    2019-09-12     2     002-008         S   10059       73200.0   \n39121    2019-09-12     2     002-008         S   10059       73200.0   \n76915    2019-09-13     2     002-004         S   10059       18600.0   \n76941    2019-09-13     2     002-004         S   10059       31260.0   \n76942    2019-09-13     2     002-004         S   10059       31260.0   \n76968    2019-09-13     2     002-004         S   10059       45360.0   \n76969    2019-09-13     2     002-004         S   10059       45360.0   \n76995    2019-09-13     2     002-004         S   10059       59340.0   \n76996    2019-09-13     2     002-004         S   10059       59340.0   \n282234   2019-09-19     2     002-004         S   10059       18600.0   \n282260   2019-09-19     2     002-004         S   10059       31260.0   \n282261   2019-09-19     2     002-004         S   10059       31260.0   \n282287   2019-09-19     2     002-004         S   10059       45360.0   \n282288   2019-09-19     2     002-004         S   10059       45360.0   \n282314   2019-09-19     2     002-004         S   10059       59340.0   \n282315   2019-09-19     2     002-004         S   10059       59340.0   \n\n            sched_time_hms  arr_time_s        arr_time_hms  dep_time_s  \\\n39052  2020-07-15 15:59:00     57370.0 2020-07-15 15:56:10     57370.0   \n39053  2020-07-15 15:59:00     57370.0 2020-07-15 15:56:10     57555.0   \n39054  2020-07-15 15:59:00     57370.0 2020-07-15 15:56:10     57370.0   \n39055  2020-07-15 15:59:00     57370.0 2020-07-15 15:56:10     57555.0   \n39118  2020-07-15 20:20:00     73076.0 2020-07-15 20:17:56     73076.0   \n39119  2020-07-15 20:20:00     73076.0 2020-07-15 20:17:56     73223.0   \n39120  2020-07-15 20:20:00     73076.0 2020-07-15 20:17:56     73076.0   \n39121  2020-07-15 20:20:00     73076.0 2020-07-15 20:17:56     73223.0   \n76915  2020-07-15 05:10:00     18211.0 2020-07-15 05:03:31     18227.0   \n76941  2020-07-15 08:41:00     31043.0 2020-07-15 08:37:23     31043.0   \n76942  2020-07-15 08:41:00     31043.0 2020-07-15 08:37:23     31229.0   \n76968  2020-07-15 12:36:00     45091.0 2020-07-15 12:31:31     45091.0   \n76969  2020-07-15 12:36:00     45091.0 2020-07-15 12:31:31     45427.0   \n76995  2020-07-15 16:29:00     59461.0 2020-07-15 16:31:01     59461.0   \n76996  2020-07-15 16:29:00     59461.0 2020-07-15 16:31:01     59579.0   \n282234 2020-07-15 05:10:00     18103.0 2020-07-15 05:01:43     18118.0   \n282260 2020-07-15 08:41:00     31037.0 2020-07-15 08:37:17     31037.0   \n282261 2020-07-15 08:41:00     31037.0 2020-07-15 08:37:17     31315.0   \n282287 2020-07-15 12:36:00     45210.0 2020-07-15 12:33:30     45210.0   \n282288 2020-07-15 12:36:00     45210.0 2020-07-15 12:33:30     45430.0   \n282314 2020-07-15 16:29:00     59187.0 2020-07-15 16:26:27     59187.0   \n282315 2020-07-15 16:29:00     59187.0 2020-07-15 16:26:27     59347.0   \n\n              dep_time_hms  odometer vehicle_id  \n39052  2020-07-15 15:56:10     57.70        500  \n39053  2020-07-15 15:59:15     57.74        500  \n39054  2020-07-15 15:56:10     57.70        500  \n39055  2020-07-15 15:59:15     57.70        500  \n39118  2020-07-15 20:17:56    113.81        500  \n39119  2020-07-15 20:20:23    113.88        500  \n39120  2020-07-15 20:17:56    113.78        500  \n39121  2020-07-15 20:20:23    113.84        500  \n76915  2020-07-15 05:03:47      6.29        500  \n76941  2020-07-15 08:37:23     48.18        500  \n76942  2020-07-15 08:40:29     48.26        500  \n76968  2020-07-15 12:31:31     90.02        500  \n76969  2020-07-15 12:37:07     90.10        500  \n76995  2020-07-15 16:31:01    131.78        500  \n76996  2020-07-15 16:32:59    131.85        500  \n282234 2020-07-15 05:01:58      5.85        500  \n282260 2020-07-15 08:37:17     47.75        500  \n282261 2020-07-15 08:41:55     47.82        500  \n282287 2020-07-15 12:33:30     89.56        500  \n282288 2020-07-15 12:37:10     89.64        500  \n282314 2020-07-15 16:26:27    131.16        500  \n282315 2020-07-15 16:29:07    131.23        500  ",
      "text/html": "<div>\n<style scoped>\n    .dataframe tbody tr th:only-of-type {\n        vertical-align: middle;\n    }\n\n    .dataframe tbody tr th {\n        vertical-align: top;\n    }\n\n    .dataframe thead th {\n        text-align: right;\n    }\n</style>\n<table border=\"1\" class=\"dataframe\">\n  <thead>\n    <tr style=\"text-align: right;\">\n      <th></th>\n      <th>service_date</th>\n      <th>route</th>\n      <th>route_block</th>\n      <th>route_dir</th>\n      <th>stop_id</th>\n      <th>sched_time_s</th>\n      <th>sched_time_hms</th>\n      <th>arr_time_s</th>\n      <th>arr_time_hms</th>\n      <th>dep_time_s</th>\n      <th>dep_time_hms</th>\n      <th>odometer</th>\n      <th>vehicle_id</th>\n    </tr>\n  </thead>\n  <tbody>\n    <tr>\n      <th>39052</th>\n      <td>2019-09-12</td>\n      <td>2</td>\n      <td>002-008</td>\n      <td>S</td>\n      <td>10059</td>\n      <td>57540.0</td>\n      <td>2020-07-15 15:59:00</td>\n      <td>57370.0</td>\n      <td>2020-07-15 15:56:10</td>\n      <td>57370.0</td>\n      <td>2020-07-15 15:56:10</td>\n      <td>57.70</td>\n      <td>500</td>\n    </tr>\n    <tr>\n      <th>39053</th>\n      <td>2019-09-12</td>\n      <td>2</td>\n      <td>002-008</td>\n      <td>S</td>\n      <td>10059</td>\n      <td>57540.0</td>\n      <td>2020-07-15 15:59:00</td>\n      <td>57370.0</td>\n      <td>2020-07-15 15:56:10</td>\n      <td>57555.0</td>\n      <td>2020-07-15 15:59:15</td>\n      <td>57.74</td>\n      <td>500</td>\n    </tr>\n    <tr>\n      <th>39054</th>\n      <td>2019-09-12</td>\n      <td>2</td>\n      <td>002-008</td>\n      <td>S</td>\n      <td>10059</td>\n      <td>57540.0</td>\n      <td>2020-07-15 15:59:00</td>\n      <td>57370.0</td>\n      <td>2020-07-15 15:56:10</td>\n      <td>57370.0</td>\n      <td>2020-07-15 15:56:10</td>\n      <td>57.70</td>\n      <td>500</td>\n    </tr>\n    <tr>\n      <th>39055</th>\n      <td>2019-09-12</td>\n      <td>2</td>\n      <td>002-008</td>\n      <td>S</td>\n      <td>10059</td>\n      <td>57540.0</td>\n      <td>2020-07-15 15:59:00</td>\n      <td>57370.0</td>\n      <td>2020-07-15 15:56:10</td>\n      <td>57555.0</td>\n      <td>2020-07-15 15:59:15</td>\n      <td>57.70</td>\n      <td>500</td>\n    </tr>\n    <tr>\n      <th>39118</th>\n      <td>2019-09-12</td>\n      <td>2</td>\n      <td>002-008</td>\n      <td>S</td>\n      <td>10059</td>\n      <td>73200.0</td>\n      <td>2020-07-15 20:20:00</td>\n      <td>73076.0</td>\n      <td>2020-07-15 20:17:56</td>\n      <td>73076.0</td>\n      <td>2020-07-15 20:17:56</td>\n      <td>113.81</td>\n      <td>500</td>\n    </tr>\n    <tr>\n      <th>39119</th>\n      <td>2019-09-12</td>\n      <td>2</td>\n      <td>002-008</td>\n      <td>S</td>\n      <td>10059</td>\n      <td>73200.0</td>\n      <td>2020-07-15 20:20:00</td>\n      <td>73076.0</td>\n      <td>2020-07-15 20:17:56</td>\n      <td>73223.0</td>\n      <td>2020-07-15 20:20:23</td>\n      <td>113.88</td>\n      <td>500</td>\n    </tr>\n    <tr>\n      <th>39120</th>\n      <td>2019-09-12</td>\n      <td>2</td>\n      <td>002-008</td>\n      <td>S</td>\n      <td>10059</td>\n      <td>73200.0</td>\n      <td>2020-07-15 20:20:00</td>\n      <td>73076.0</td>\n      <td>2020-07-15 20:17:56</td>\n      <td>73076.0</td>\n      <td>2020-07-15 20:17:56</td>\n      <td>113.78</td>\n      <td>500</td>\n    </tr>\n    <tr>\n      <th>39121</th>\n      <td>2019-09-12</td>\n      <td>2</td>\n      <td>002-008</td>\n      <td>S</td>\n      <td>10059</td>\n      <td>73200.0</td>\n      <td>2020-07-15 20:20:00</td>\n      <td>73076.0</td>\n      <td>2020-07-15 20:17:56</td>\n      <td>73223.0</td>\n      <td>2020-07-15 20:20:23</td>\n      <td>113.84</td>\n      <td>500</td>\n    </tr>\n    <tr>\n      <th>76915</th>\n      <td>2019-09-13</td>\n      <td>2</td>\n      <td>002-004</td>\n      <td>S</td>\n      <td>10059</td>\n      <td>18600.0</td>\n      <td>2020-07-15 05:10:00</td>\n      <td>18211.0</td>\n      <td>2020-07-15 05:03:31</td>\n      <td>18227.0</td>\n      <td>2020-07-15 05:03:47</td>\n      <td>6.29</td>\n      <td>500</td>\n    </tr>\n    <tr>\n      <th>76941</th>\n      <td>2019-09-13</td>\n      <td>2</td>\n      <td>002-004</td>\n      <td>S</td>\n      <td>10059</td>\n      <td>31260.0</td>\n      <td>2020-07-15 08:41:00</td>\n      <td>31043.0</td>\n      <td>2020-07-15 08:37:23</td>\n      <td>31043.0</td>\n      <td>2020-07-15 08:37:23</td>\n      <td>48.18</td>\n      <td>500</td>\n    </tr>\n    <tr>\n      <th>76942</th>\n      <td>2019-09-13</td>\n      <td>2</td>\n      <td>002-004</td>\n      <td>S</td>\n      <td>10059</td>\n      <td>31260.0</td>\n      <td>2020-07-15 08:41:00</td>\n      <td>31043.0</td>\n      <td>2020-07-15 08:37:23</td>\n      <td>31229.0</td>\n      <td>2020-07-15 08:40:29</td>\n      <td>48.26</td>\n      <td>500</td>\n    </tr>\n    <tr>\n      <th>76968</th>\n      <td>2019-09-13</td>\n      <td>2</td>\n      <td>002-004</td>\n      <td>S</td>\n      <td>10059</td>\n      <td>45360.0</td>\n      <td>2020-07-15 12:36:00</td>\n      <td>45091.0</td>\n      <td>2020-07-15 12:31:31</td>\n      <td>45091.0</td>\n      <td>2020-07-15 12:31:31</td>\n      <td>90.02</td>\n      <td>500</td>\n    </tr>\n    <tr>\n      <th>76969</th>\n      <td>2019-09-13</td>\n      <td>2</td>\n      <td>002-004</td>\n      <td>S</td>\n      <td>10059</td>\n      <td>45360.0</td>\n      <td>2020-07-15 12:36:00</td>\n      <td>45091.0</td>\n      <td>2020-07-15 12:31:31</td>\n      <td>45427.0</td>\n      <td>2020-07-15 12:37:07</td>\n      <td>90.10</td>\n      <td>500</td>\n    </tr>\n    <tr>\n      <th>76995</th>\n      <td>2019-09-13</td>\n      <td>2</td>\n      <td>002-004</td>\n      <td>S</td>\n      <td>10059</td>\n      <td>59340.0</td>\n      <td>2020-07-15 16:29:00</td>\n      <td>59461.0</td>\n      <td>2020-07-15 16:31:01</td>\n      <td>59461.0</td>\n      <td>2020-07-15 16:31:01</td>\n      <td>131.78</td>\n      <td>500</td>\n    </tr>\n    <tr>\n      <th>76996</th>\n      <td>2019-09-13</td>\n      <td>2</td>\n      <td>002-004</td>\n      <td>S</td>\n      <td>10059</td>\n      <td>59340.0</td>\n      <td>2020-07-15 16:29:00</td>\n      <td>59461.0</td>\n      <td>2020-07-15 16:31:01</td>\n      <td>59579.0</td>\n      <td>2020-07-15 16:32:59</td>\n      <td>131.85</td>\n      <td>500</td>\n    </tr>\n    <tr>\n      <th>282234</th>\n      <td>2019-09-19</td>\n      <td>2</td>\n      <td>002-004</td>\n      <td>S</td>\n      <td>10059</td>\n      <td>18600.0</td>\n      <td>2020-07-15 05:10:00</td>\n      <td>18103.0</td>\n      <td>2020-07-15 05:01:43</td>\n      <td>18118.0</td>\n      <td>2020-07-15 05:01:58</td>\n      <td>5.85</td>\n      <td>500</td>\n    </tr>\n    <tr>\n      <th>282260</th>\n      <td>2019-09-19</td>\n      <td>2</td>\n      <td>002-004</td>\n      <td>S</td>\n      <td>10059</td>\n      <td>31260.0</td>\n      <td>2020-07-15 08:41:00</td>\n      <td>31037.0</td>\n      <td>2020-07-15 08:37:17</td>\n      <td>31037.0</td>\n      <td>2020-07-15 08:37:17</td>\n      <td>47.75</td>\n      <td>500</td>\n    </tr>\n    <tr>\n      <th>282261</th>\n      <td>2019-09-19</td>\n      <td>2</td>\n      <td>002-004</td>\n      <td>S</td>\n      <td>10059</td>\n      <td>31260.0</td>\n      <td>2020-07-15 08:41:00</td>\n      <td>31037.0</td>\n      <td>2020-07-15 08:37:17</td>\n      <td>31315.0</td>\n      <td>2020-07-15 08:41:55</td>\n      <td>47.82</td>\n      <td>500</td>\n    </tr>\n    <tr>\n      <th>282287</th>\n      <td>2019-09-19</td>\n      <td>2</td>\n      <td>002-004</td>\n      <td>S</td>\n      <td>10059</td>\n      <td>45360.0</td>\n      <td>2020-07-15 12:36:00</td>\n      <td>45210.0</td>\n      <td>2020-07-15 12:33:30</td>\n      <td>45210.0</td>\n      <td>2020-07-15 12:33:30</td>\n      <td>89.56</td>\n      <td>500</td>\n    </tr>\n    <tr>\n      <th>282288</th>\n      <td>2019-09-19</td>\n      <td>2</td>\n      <td>002-004</td>\n      <td>S</td>\n      <td>10059</td>\n      <td>45360.0</td>\n      <td>2020-07-15 12:36:00</td>\n      <td>45210.0</td>\n      <td>2020-07-15 12:33:30</td>\n      <td>45430.0</td>\n      <td>2020-07-15 12:37:10</td>\n      <td>89.64</td>\n      <td>500</td>\n    </tr>\n    <tr>\n      <th>282314</th>\n      <td>2019-09-19</td>\n      <td>2</td>\n      <td>002-004</td>\n      <td>S</td>\n      <td>10059</td>\n      <td>59340.0</td>\n      <td>2020-07-15 16:29:00</td>\n      <td>59187.0</td>\n      <td>2020-07-15 16:26:27</td>\n      <td>59187.0</td>\n      <td>2020-07-15 16:26:27</td>\n      <td>131.16</td>\n      <td>500</td>\n    </tr>\n    <tr>\n      <th>282315</th>\n      <td>2019-09-19</td>\n      <td>2</td>\n      <td>002-004</td>\n      <td>S</td>\n      <td>10059</td>\n      <td>59340.0</td>\n      <td>2020-07-15 16:29:00</td>\n      <td>59187.0</td>\n      <td>2020-07-15 16:26:27</td>\n      <td>59347.0</td>\n      <td>2020-07-15 16:29:07</td>\n      <td>131.23</td>\n      <td>500</td>\n    </tr>\n  </tbody>\n</table>\n</div>"
     },
     "metadata": {},
     "execution_count": 146
    }
   ],
   "source": [
    "df_adherence[\n",
    "    (df_adherence.route == check_mult.route) & \n",
    "    (df_adherence.vehicle_id == check_mult.vehicle_id) & \n",
    "    (df_adherence.stop_id == check_mult.stop_id) & \n",
    "    (df_adherence.route_dir == check_mult.route_dir) \n",
    "]"
   ]
  },
  {
   "cell_type": "code",
   "execution_count": 147,
   "metadata": {},
   "outputs": [
    {
     "output_type": "execute_result",
     "data": {
      "text/plain": "      service_date route route_block route_dir stop_id  sched_time_s  \\\n11789   2019-09-11    26     020-007         W   11269       24600.0   \n12692   2019-09-11    26     020-016         W   11269       56820.0   \n12876   2019-09-11    26     020-018         W   11269       53040.0   \n50399   2019-09-12    26     020-009         W   11269       59040.0   \n50425   2019-09-12    26     020-009         W   11269       72960.0   \n\n           sched_time_hms  arr_time_s        arr_time_hms  dep_time_s  \\\n11789 2020-07-15 06:50:00     24902.0 2020-07-15 06:55:02     24902.0   \n12692 2020-07-15 15:47:00     56852.0 2020-07-15 15:47:32     56852.0   \n12876 2020-07-15 14:44:00     53116.0 2020-07-15 14:45:16     53116.0   \n50399 2020-07-15 16:24:00     59060.0 2020-07-15 16:24:20     59060.0   \n50425 2020-07-15 20:16:00     73256.0 2020-07-15 20:20:56     73256.0   \n\n             dep_time_hms  odometer vehicle_id  \n11789 2020-07-15 06:55:02       NaN        673  \n12692 2020-07-15 15:47:32       NaN        330  \n12876 2020-07-15 14:45:16       NaN        290  \n50399 2020-07-15 16:24:20       NaN        694  \n50425 2020-07-15 20:20:56       NaN        694  ",
      "text/html": "<div>\n<style scoped>\n    .dataframe tbody tr th:only-of-type {\n        vertical-align: middle;\n    }\n\n    .dataframe tbody tr th {\n        vertical-align: top;\n    }\n\n    .dataframe thead th {\n        text-align: right;\n    }\n</style>\n<table border=\"1\" class=\"dataframe\">\n  <thead>\n    <tr style=\"text-align: right;\">\n      <th></th>\n      <th>service_date</th>\n      <th>route</th>\n      <th>route_block</th>\n      <th>route_dir</th>\n      <th>stop_id</th>\n      <th>sched_time_s</th>\n      <th>sched_time_hms</th>\n      <th>arr_time_s</th>\n      <th>arr_time_hms</th>\n      <th>dep_time_s</th>\n      <th>dep_time_hms</th>\n      <th>odometer</th>\n      <th>vehicle_id</th>\n    </tr>\n  </thead>\n  <tbody>\n    <tr>\n      <th>11789</th>\n      <td>2019-09-11</td>\n      <td>26</td>\n      <td>020-007</td>\n      <td>W</td>\n      <td>11269</td>\n      <td>24600.0</td>\n      <td>2020-07-15 06:50:00</td>\n      <td>24902.0</td>\n      <td>2020-07-15 06:55:02</td>\n      <td>24902.0</td>\n      <td>2020-07-15 06:55:02</td>\n      <td>NaN</td>\n      <td>673</td>\n    </tr>\n    <tr>\n      <th>12692</th>\n      <td>2019-09-11</td>\n      <td>26</td>\n      <td>020-016</td>\n      <td>W</td>\n      <td>11269</td>\n      <td>56820.0</td>\n      <td>2020-07-15 15:47:00</td>\n      <td>56852.0</td>\n      <td>2020-07-15 15:47:32</td>\n      <td>56852.0</td>\n      <td>2020-07-15 15:47:32</td>\n      <td>NaN</td>\n      <td>330</td>\n    </tr>\n    <tr>\n      <th>12876</th>\n      <td>2019-09-11</td>\n      <td>26</td>\n      <td>020-018</td>\n      <td>W</td>\n      <td>11269</td>\n      <td>53040.0</td>\n      <td>2020-07-15 14:44:00</td>\n      <td>53116.0</td>\n      <td>2020-07-15 14:45:16</td>\n      <td>53116.0</td>\n      <td>2020-07-15 14:45:16</td>\n      <td>NaN</td>\n      <td>290</td>\n    </tr>\n    <tr>\n      <th>50399</th>\n      <td>2019-09-12</td>\n      <td>26</td>\n      <td>020-009</td>\n      <td>W</td>\n      <td>11269</td>\n      <td>59040.0</td>\n      <td>2020-07-15 16:24:00</td>\n      <td>59060.0</td>\n      <td>2020-07-15 16:24:20</td>\n      <td>59060.0</td>\n      <td>2020-07-15 16:24:20</td>\n      <td>NaN</td>\n      <td>694</td>\n    </tr>\n    <tr>\n      <th>50425</th>\n      <td>2019-09-12</td>\n      <td>26</td>\n      <td>020-009</td>\n      <td>W</td>\n      <td>11269</td>\n      <td>72960.0</td>\n      <td>2020-07-15 20:16:00</td>\n      <td>73256.0</td>\n      <td>2020-07-15 20:20:56</td>\n      <td>73256.0</td>\n      <td>2020-07-15 20:20:56</td>\n      <td>NaN</td>\n      <td>694</td>\n    </tr>\n  </tbody>\n</table>\n</div>"
     },
     "metadata": {},
     "execution_count": 147
    }
   ],
   "source": [
    "df_adherence[\n",
    "    df_adherence.arr_time_s.isna() != df_adherence.odometer.isna()\n",
    "].head()"
   ]
  },
  {
   "cell_type": "code",
   "execution_count": 148,
   "metadata": {},
   "outputs": [
    {
     "output_type": "execute_result",
     "data": {
      "text/plain": "count    329729.000000\nmean      49029.796148\nstd       17924.176101\nmin       11681.000000\n25%       33741.000000\n50%       48911.000000\n75%       63287.000000\nmax       93624.000000\nName: arr_time_s, dtype: float64"
     },
     "metadata": {},
     "execution_count": 148
    }
   ],
   "source": [
    "df_adherence.arr_time_s.describe()"
   ]
  },
  {
   "cell_type": "code",
   "execution_count": 149,
   "metadata": {},
   "outputs": [
    {
     "output_type": "execute_result",
     "data": {
      "text/plain": "       service_date route route_block route_dir stop_id  sched_time_s  \\\n25516    2019-09-11   100     100-010         S    GARA       93360.0   \n63858    2019-09-12   100     100-010         S    GARA       93360.0   \n102120   2019-09-13   100     100-010         S   10103       93060.0   \n102121   2019-09-13   100     100-010         S    GARA       93360.0   \n103115   2019-09-13   102     102-010         E    GARA       92460.0   \n133668   2019-09-14   100     100-007         S    GARA       93360.0   \n159734   2019-09-15   100     100-007         S    GARA       93240.0   \n192877   2019-09-16   100     100-010         S    GARA       93360.0   \n223726   2019-09-17   289     036-006         S    GARA       91380.0   \n231055   2019-09-17   100     100-010         S    GARA       93360.0   \n232688   2019-09-17   103     103-007         N    GARA       92460.0   \n269270   2019-09-18   100     100-010         S    GARA       93360.0   \n299270   2019-09-19   232     032-007         N   99396       91440.0   \n299272   2019-09-19   232     032-007         N    GARA       92100.0   \n307484   2019-09-19   100     100-010         S    GARA       93360.0   \n345666   2019-09-20   100     100-010         S    GARA       93360.0   \n\n            sched_time_hms  arr_time_s        arr_time_hms  dep_time_s  \\\n25516  2020-07-15 01:56:00     93108.0 2020-07-15 01:51:48     93108.0   \n63858  2020-07-15 01:56:00     93064.0 2020-07-15 01:51:04     93064.0   \n102120 2020-07-15 01:51:00     93038.0 2020-07-15 01:50:38     93090.0   \n102121 2020-07-15 01:56:00     93411.0 2020-07-15 01:56:51     93411.0   \n103115 2020-07-15 01:41:00     93624.0 2020-07-15 02:00:24     93624.0   \n133668 2020-07-15 01:56:00     93349.0 2020-07-15 01:55:49     93349.0   \n159734 2020-07-15 01:54:00     93285.0 2020-07-15 01:54:45     93285.0   \n192877 2020-07-15 01:56:00     93228.0 2020-07-15 01:53:48     93228.0   \n223726 2020-07-15 01:23:00     93049.0 2020-07-15 01:50:49     93049.0   \n231055 2020-07-15 01:56:00     93110.0 2020-07-15 01:51:50     93110.0   \n232688 2020-07-15 01:41:00     93481.0 2020-07-15 01:58:01     93481.0   \n269270 2020-07-15 01:56:00     93210.0 2020-07-15 01:53:30     93210.0   \n299270 2020-07-15 01:24:00     93012.0 2020-07-15 01:50:12     93021.0   \n299272 2020-07-15 01:35:00     93329.0 2020-07-15 01:55:29     93329.0   \n307484 2020-07-15 01:56:00     93108.0 2020-07-15 01:51:48     93108.0   \n345666 2020-07-15 01:56:00     93311.0 2020-07-15 01:55:11     93311.0   \n\n              dep_time_hms  odometer vehicle_id  \n25516  2020-07-15 01:51:48    229.15        966  \n63858  2020-07-15 01:51:04    228.77        962  \n102120 2020-07-15 01:51:30    225.27        962  \n102121 2020-07-15 01:56:51    226.57        962  \n103115 2020-07-15 02:00:24    197.05        982  \n133668 2020-07-15 01:55:49    229.54        965  \n159734 2020-07-15 01:54:45    185.18        734  \n192877 2020-07-15 01:53:48    228.98        966  \n223726 2020-07-15 01:50:49    251.60        640  \n231055 2020-07-15 01:51:50    228.84        965  \n232688 2020-07-15 01:58:01    219.21        986  \n269270 2020-07-15 01:53:30    228.86        965  \n299270 2020-07-15 01:50:21    278.08        484  \n299272 2020-07-15 01:55:29    279.86        484  \n307484 2020-07-15 01:51:48    229.99        965  \n345666 2020-07-15 01:55:11    186.22        963  ",
      "text/html": "<div>\n<style scoped>\n    .dataframe tbody tr th:only-of-type {\n        vertical-align: middle;\n    }\n\n    .dataframe tbody tr th {\n        vertical-align: top;\n    }\n\n    .dataframe thead th {\n        text-align: right;\n    }\n</style>\n<table border=\"1\" class=\"dataframe\">\n  <thead>\n    <tr style=\"text-align: right;\">\n      <th></th>\n      <th>service_date</th>\n      <th>route</th>\n      <th>route_block</th>\n      <th>route_dir</th>\n      <th>stop_id</th>\n      <th>sched_time_s</th>\n      <th>sched_time_hms</th>\n      <th>arr_time_s</th>\n      <th>arr_time_hms</th>\n      <th>dep_time_s</th>\n      <th>dep_time_hms</th>\n      <th>odometer</th>\n      <th>vehicle_id</th>\n    </tr>\n  </thead>\n  <tbody>\n    <tr>\n      <th>25516</th>\n      <td>2019-09-11</td>\n      <td>100</td>\n      <td>100-010</td>\n      <td>S</td>\n      <td>GARA</td>\n      <td>93360.0</td>\n      <td>2020-07-15 01:56:00</td>\n      <td>93108.0</td>\n      <td>2020-07-15 01:51:48</td>\n      <td>93108.0</td>\n      <td>2020-07-15 01:51:48</td>\n      <td>229.15</td>\n      <td>966</td>\n    </tr>\n    <tr>\n      <th>63858</th>\n      <td>2019-09-12</td>\n      <td>100</td>\n      <td>100-010</td>\n      <td>S</td>\n      <td>GARA</td>\n      <td>93360.0</td>\n      <td>2020-07-15 01:56:00</td>\n      <td>93064.0</td>\n      <td>2020-07-15 01:51:04</td>\n      <td>93064.0</td>\n      <td>2020-07-15 01:51:04</td>\n      <td>228.77</td>\n      <td>962</td>\n    </tr>\n    <tr>\n      <th>102120</th>\n      <td>2019-09-13</td>\n      <td>100</td>\n      <td>100-010</td>\n      <td>S</td>\n      <td>10103</td>\n      <td>93060.0</td>\n      <td>2020-07-15 01:51:00</td>\n      <td>93038.0</td>\n      <td>2020-07-15 01:50:38</td>\n      <td>93090.0</td>\n      <td>2020-07-15 01:51:30</td>\n      <td>225.27</td>\n      <td>962</td>\n    </tr>\n    <tr>\n      <th>102121</th>\n      <td>2019-09-13</td>\n      <td>100</td>\n      <td>100-010</td>\n      <td>S</td>\n      <td>GARA</td>\n      <td>93360.0</td>\n      <td>2020-07-15 01:56:00</td>\n      <td>93411.0</td>\n      <td>2020-07-15 01:56:51</td>\n      <td>93411.0</td>\n      <td>2020-07-15 01:56:51</td>\n      <td>226.57</td>\n      <td>962</td>\n    </tr>\n    <tr>\n      <th>103115</th>\n      <td>2019-09-13</td>\n      <td>102</td>\n      <td>102-010</td>\n      <td>E</td>\n      <td>GARA</td>\n      <td>92460.0</td>\n      <td>2020-07-15 01:41:00</td>\n      <td>93624.0</td>\n      <td>2020-07-15 02:00:24</td>\n      <td>93624.0</td>\n      <td>2020-07-15 02:00:24</td>\n      <td>197.05</td>\n      <td>982</td>\n    </tr>\n    <tr>\n      <th>133668</th>\n      <td>2019-09-14</td>\n      <td>100</td>\n      <td>100-007</td>\n      <td>S</td>\n      <td>GARA</td>\n      <td>93360.0</td>\n      <td>2020-07-15 01:56:00</td>\n      <td>93349.0</td>\n      <td>2020-07-15 01:55:49</td>\n      <td>93349.0</td>\n      <td>2020-07-15 01:55:49</td>\n      <td>229.54</td>\n      <td>965</td>\n    </tr>\n    <tr>\n      <th>159734</th>\n      <td>2019-09-15</td>\n      <td>100</td>\n      <td>100-007</td>\n      <td>S</td>\n      <td>GARA</td>\n      <td>93240.0</td>\n      <td>2020-07-15 01:54:00</td>\n      <td>93285.0</td>\n      <td>2020-07-15 01:54:45</td>\n      <td>93285.0</td>\n      <td>2020-07-15 01:54:45</td>\n      <td>185.18</td>\n      <td>734</td>\n    </tr>\n    <tr>\n      <th>192877</th>\n      <td>2019-09-16</td>\n      <td>100</td>\n      <td>100-010</td>\n      <td>S</td>\n      <td>GARA</td>\n      <td>93360.0</td>\n      <td>2020-07-15 01:56:00</td>\n      <td>93228.0</td>\n      <td>2020-07-15 01:53:48</td>\n      <td>93228.0</td>\n      <td>2020-07-15 01:53:48</td>\n      <td>228.98</td>\n      <td>966</td>\n    </tr>\n    <tr>\n      <th>223726</th>\n      <td>2019-09-17</td>\n      <td>289</td>\n      <td>036-006</td>\n      <td>S</td>\n      <td>GARA</td>\n      <td>91380.0</td>\n      <td>2020-07-15 01:23:00</td>\n      <td>93049.0</td>\n      <td>2020-07-15 01:50:49</td>\n      <td>93049.0</td>\n      <td>2020-07-15 01:50:49</td>\n      <td>251.60</td>\n      <td>640</td>\n    </tr>\n    <tr>\n      <th>231055</th>\n      <td>2019-09-17</td>\n      <td>100</td>\n      <td>100-010</td>\n      <td>S</td>\n      <td>GARA</td>\n      <td>93360.0</td>\n      <td>2020-07-15 01:56:00</td>\n      <td>93110.0</td>\n      <td>2020-07-15 01:51:50</td>\n      <td>93110.0</td>\n      <td>2020-07-15 01:51:50</td>\n      <td>228.84</td>\n      <td>965</td>\n    </tr>\n    <tr>\n      <th>232688</th>\n      <td>2019-09-17</td>\n      <td>103</td>\n      <td>103-007</td>\n      <td>N</td>\n      <td>GARA</td>\n      <td>92460.0</td>\n      <td>2020-07-15 01:41:00</td>\n      <td>93481.0</td>\n      <td>2020-07-15 01:58:01</td>\n      <td>93481.0</td>\n      <td>2020-07-15 01:58:01</td>\n      <td>219.21</td>\n      <td>986</td>\n    </tr>\n    <tr>\n      <th>269270</th>\n      <td>2019-09-18</td>\n      <td>100</td>\n      <td>100-010</td>\n      <td>S</td>\n      <td>GARA</td>\n      <td>93360.0</td>\n      <td>2020-07-15 01:56:00</td>\n      <td>93210.0</td>\n      <td>2020-07-15 01:53:30</td>\n      <td>93210.0</td>\n      <td>2020-07-15 01:53:30</td>\n      <td>228.86</td>\n      <td>965</td>\n    </tr>\n    <tr>\n      <th>299270</th>\n      <td>2019-09-19</td>\n      <td>232</td>\n      <td>032-007</td>\n      <td>N</td>\n      <td>99396</td>\n      <td>91440.0</td>\n      <td>2020-07-15 01:24:00</td>\n      <td>93012.0</td>\n      <td>2020-07-15 01:50:12</td>\n      <td>93021.0</td>\n      <td>2020-07-15 01:50:21</td>\n      <td>278.08</td>\n      <td>484</td>\n    </tr>\n    <tr>\n      <th>299272</th>\n      <td>2019-09-19</td>\n      <td>232</td>\n      <td>032-007</td>\n      <td>N</td>\n      <td>GARA</td>\n      <td>92100.0</td>\n      <td>2020-07-15 01:35:00</td>\n      <td>93329.0</td>\n      <td>2020-07-15 01:55:29</td>\n      <td>93329.0</td>\n      <td>2020-07-15 01:55:29</td>\n      <td>279.86</td>\n      <td>484</td>\n    </tr>\n    <tr>\n      <th>307484</th>\n      <td>2019-09-19</td>\n      <td>100</td>\n      <td>100-010</td>\n      <td>S</td>\n      <td>GARA</td>\n      <td>93360.0</td>\n      <td>2020-07-15 01:56:00</td>\n      <td>93108.0</td>\n      <td>2020-07-15 01:51:48</td>\n      <td>93108.0</td>\n      <td>2020-07-15 01:51:48</td>\n      <td>229.99</td>\n      <td>965</td>\n    </tr>\n    <tr>\n      <th>345666</th>\n      <td>2019-09-20</td>\n      <td>100</td>\n      <td>100-010</td>\n      <td>S</td>\n      <td>GARA</td>\n      <td>93360.0</td>\n      <td>2020-07-15 01:56:00</td>\n      <td>93311.0</td>\n      <td>2020-07-15 01:55:11</td>\n      <td>93311.0</td>\n      <td>2020-07-15 01:55:11</td>\n      <td>186.22</td>\n      <td>963</td>\n    </tr>\n  </tbody>\n</table>\n</div>"
     },
     "metadata": {},
     "execution_count": 149
    }
   ],
   "source": [
    "df_adherence[df_adherence.arr_time_s>93000]"
   ]
  },
  {
   "cell_type": "code",
   "execution_count": 166,
   "metadata": {},
   "outputs": [
    {
     "output_type": "execute_result",
     "data": {
      "text/plain": "      service_date vehicle_id route route_block route_dir stop_id  recs  \\\n54057   2019-09-12        500     2     002-008         N   99396     1   \n54058   2019-09-12        500     2     002-008         N   56239     2   \n54059   2019-09-12        500     2     002-008         N   95226     2   \n54060   2019-09-12        500     2     002-008         N   45506     2   \n54061   2019-09-12        500     2     002-008         N   10013     2   \n54062   2019-09-12        500     2     002-008         N   10013     2   \n54063   2019-09-12        500     2     002-008         N   94709     2   \n54064   2019-09-12        500     2     002-008         N   94793     2   \n54065   2019-09-12        500     2     002-008         S   94793     2   \n54066   2019-09-12        500     2     002-008         S   10059     4   \n54067   2019-09-12        500     2     002-008         S   45517     2   \n54068   2019-09-12        500     2     002-008         S   85927     2   \n54069   2019-09-12        500     2     002-008         S   56227     2   \n54070   2019-09-12        500     2     002-008         S   79973     2   \n54071   2019-09-12        500     2     002-008         N   99396     2   \n54072   2019-09-12        500     2     002-008         N   56239     2   \n54073   2019-09-12        500     2     002-008         N   95226     2   \n54074   2019-09-12        500     2     002-008         N   45506     2   \n54075   2019-09-12        500     2     002-008         N   10013     2   \n54076   2019-09-12        500     2     002-008         N   10013     2   \n54077   2019-09-12        500     2     002-008         N   94709     2   \n54078   2019-09-12        500     2     002-008         N   33636     2   \n54079   2019-09-12        500     2     002-008         N   33726     2   \n54080   2019-09-12        500     2     002-008         N   12976     2   \n54081   2019-09-12        500     2     002-008         S   12976     2   \n54082   2019-09-12        500     2     002-008         S   33727     2   \n54083   2019-09-12        500     2     002-008         S   33627     2   \n54084   2019-09-12        500     2     002-008         S   94793     2   \n54085   2019-09-12        500     2     002-008         S   10059     4   \n54086   2019-09-12        500     2     002-008         S   45517     2   \n54087   2019-09-12        500     2     002-008         S   85927     2   \n54088   2019-09-12        500     2     002-008         S   56227     2   \n54089   2019-09-12        500     2     002-008         S   79973     2   \n\n       arr_odometer  dep_odometer      sched_time_hms        arr_time_hms  \\\n54057         42.20         42.20 2019-09-12 14:15:00 2019-09-12 14:16:21   \n54058         44.34         44.38 2019-09-12 14:28:00 2019-09-12 14:34:16   \n54059         46.34         46.37 2019-09-12 14:37:00 2019-09-12 14:48:53   \n54060         47.84         47.88 2019-09-12 14:44:00 2019-09-12 14:56:03   \n54061         50.50         50.54 2019-09-12 14:58:00 2019-09-12 15:09:45   \n54062         50.62         50.68 2019-09-12 15:03:00 2019-09-12 15:09:45   \n54063         53.53         53.64 2019-09-12 15:18:00 2019-09-12 15:26:03   \n54064         54.80         54.86 2019-09-12 15:25:00 2019-09-12 15:33:29   \n54065         54.92         54.94 2019-09-12 15:43:00 2019-09-12 15:33:29   \n54066         57.70         57.74 2019-09-12 15:59:00 2019-09-12 15:56:10   \n54067         60.55         60.59 2019-09-12 16:12:00 2019-09-12 16:14:55   \n54068         62.04         62.09 2019-09-12 16:19:00 2019-09-12 16:21:03   \n54069         64.10         64.12 2019-09-12 16:28:00 2019-09-12 16:30:49   \n54070           NaN           NaN 2019-09-12 16:35:00                 NaT   \n54071         85.28         85.33 2019-09-12 18:25:00 2019-09-12 18:25:18   \n54072         87.07         87.16 2019-09-12 18:37:00 2019-09-12 18:37:33   \n54073         89.07         89.15 2019-09-12 18:45:00 2019-09-12 18:53:07   \n54074         90.62         90.67 2019-09-12 18:51:00 2019-09-12 18:57:38   \n54075         93.22         93.33 2019-09-12 19:03:00 2019-09-12 19:09:54   \n54076         93.37         93.47 2019-09-12 19:08:00 2019-09-12 19:09:54   \n54077         96.28         96.43 2019-09-12 19:21:00 2019-09-12 19:23:48   \n54078         98.56         98.71 2019-09-12 19:27:00 2019-09-12 19:31:10   \n54079        100.59        100.65 2019-09-12 19:31:00 2019-09-12 19:34:04   \n54080        103.46        103.56 2019-09-12 19:39:00 2019-09-12 19:41:33   \n54081        103.59        103.64 2019-09-12 19:45:00 2019-09-12 19:41:33   \n54082        106.38        106.69 2019-09-12 19:54:00 2019-09-12 19:55:53   \n54083        108.00        108.71 2019-09-12 19:58:00 2019-09-12 19:59:37   \n54084        110.62        111.08 2019-09-12 20:05:00 2019-09-12 20:05:48   \n54085        113.78        113.88 2019-09-12 20:20:00 2019-09-12 20:17:56   \n54086        116.73        116.73 2019-09-12 20:31:00 2019-09-12 20:31:59   \n54087        118.22        118.23 2019-09-12 20:37:00 2019-09-12 20:37:50   \n54088        120.19        120.26 2019-09-12 20:45:00 2019-09-12 20:47:07   \n54089           NaN           NaN 2019-09-12 20:50:00                 NaT   \n\n             dep_time_hms  time_stopped  time_missed  \n54057 2019-09-12 14:16:50          29.0        110.0  \n54058 2019-09-12 14:36:43         147.0        523.0  \n54059 2019-09-12 14:49:59          66.0        779.0  \n54060 2019-09-12 14:56:57          54.0        777.0  \n54061 2019-09-12 15:09:45           0.0        705.0  \n54062 2019-09-12 15:11:44         119.0        524.0  \n54063 2019-09-12 15:26:15          12.0        495.0  \n54064 2019-09-12 15:33:29           0.0        509.0  \n54065 2019-09-12 15:42:53         564.0         -7.0  \n54066 2019-09-12 15:59:15         185.0         15.0  \n54067 2019-09-12 16:15:49          54.0        229.0  \n54068 2019-09-12 16:21:33          30.0        153.0  \n54069 2019-09-12 16:31:57          68.0        237.0  \n54070                 NaT           NaN          NaN  \n54071 2019-09-12 18:26:58         100.0        118.0  \n54072 2019-09-12 18:38:17          44.0         77.0  \n54073 2019-09-12 18:53:33          26.0        513.0  \n54074 2019-09-12 18:58:19          41.0        439.0  \n54075 2019-09-12 19:09:54           0.0        414.0  \n54076 2019-09-12 19:11:05          71.0        185.0  \n54077 2019-09-12 19:23:59          11.0        179.0  \n54078 2019-09-12 19:31:17           7.0        257.0  \n54079 2019-09-12 19:34:35          31.0        215.0  \n54080 2019-09-12 19:41:33           0.0        153.0  \n54081 2019-09-12 19:46:02         269.0         62.0  \n54082 2019-09-12 19:56:36          43.0        156.0  \n54083 2019-09-12 19:59:47          10.0        107.0  \n54084 2019-09-12 20:06:21          33.0         81.0  \n54085 2019-09-12 20:20:23         147.0         23.0  \n54086 2019-09-12 20:32:14          15.0         74.0  \n54087 2019-09-12 20:39:19          89.0        139.0  \n54088 2019-09-12 20:47:49          42.0        169.0  \n54089                 NaT           NaN          NaN  ",
      "text/html": "<div>\n<style scoped>\n    .dataframe tbody tr th:only-of-type {\n        vertical-align: middle;\n    }\n\n    .dataframe tbody tr th {\n        vertical-align: top;\n    }\n\n    .dataframe thead th {\n        text-align: right;\n    }\n</style>\n<table border=\"1\" class=\"dataframe\">\n  <thead>\n    <tr style=\"text-align: right;\">\n      <th></th>\n      <th>service_date</th>\n      <th>vehicle_id</th>\n      <th>route</th>\n      <th>route_block</th>\n      <th>route_dir</th>\n      <th>stop_id</th>\n      <th>recs</th>\n      <th>arr_odometer</th>\n      <th>dep_odometer</th>\n      <th>sched_time_hms</th>\n      <th>arr_time_hms</th>\n      <th>dep_time_hms</th>\n      <th>time_stopped</th>\n      <th>time_missed</th>\n    </tr>\n  </thead>\n  <tbody>\n    <tr>\n      <th>54057</th>\n      <td>2019-09-12</td>\n      <td>500</td>\n      <td>2</td>\n      <td>002-008</td>\n      <td>N</td>\n      <td>99396</td>\n      <td>1</td>\n      <td>42.20</td>\n      <td>42.20</td>\n      <td>2019-09-12 14:15:00</td>\n      <td>2019-09-12 14:16:21</td>\n      <td>2019-09-12 14:16:50</td>\n      <td>29.0</td>\n      <td>110.0</td>\n    </tr>\n    <tr>\n      <th>54058</th>\n      <td>2019-09-12</td>\n      <td>500</td>\n      <td>2</td>\n      <td>002-008</td>\n      <td>N</td>\n      <td>56239</td>\n      <td>2</td>\n      <td>44.34</td>\n      <td>44.38</td>\n      <td>2019-09-12 14:28:00</td>\n      <td>2019-09-12 14:34:16</td>\n      <td>2019-09-12 14:36:43</td>\n      <td>147.0</td>\n      <td>523.0</td>\n    </tr>\n    <tr>\n      <th>54059</th>\n      <td>2019-09-12</td>\n      <td>500</td>\n      <td>2</td>\n      <td>002-008</td>\n      <td>N</td>\n      <td>95226</td>\n      <td>2</td>\n      <td>46.34</td>\n      <td>46.37</td>\n      <td>2019-09-12 14:37:00</td>\n      <td>2019-09-12 14:48:53</td>\n      <td>2019-09-12 14:49:59</td>\n      <td>66.0</td>\n      <td>779.0</td>\n    </tr>\n    <tr>\n      <th>54060</th>\n      <td>2019-09-12</td>\n      <td>500</td>\n      <td>2</td>\n      <td>002-008</td>\n      <td>N</td>\n      <td>45506</td>\n      <td>2</td>\n      <td>47.84</td>\n      <td>47.88</td>\n      <td>2019-09-12 14:44:00</td>\n      <td>2019-09-12 14:56:03</td>\n      <td>2019-09-12 14:56:57</td>\n      <td>54.0</td>\n      <td>777.0</td>\n    </tr>\n    <tr>\n      <th>54061</th>\n      <td>2019-09-12</td>\n      <td>500</td>\n      <td>2</td>\n      <td>002-008</td>\n      <td>N</td>\n      <td>10013</td>\n      <td>2</td>\n      <td>50.50</td>\n      <td>50.54</td>\n      <td>2019-09-12 14:58:00</td>\n      <td>2019-09-12 15:09:45</td>\n      <td>2019-09-12 15:09:45</td>\n      <td>0.0</td>\n      <td>705.0</td>\n    </tr>\n    <tr>\n      <th>54062</th>\n      <td>2019-09-12</td>\n      <td>500</td>\n      <td>2</td>\n      <td>002-008</td>\n      <td>N</td>\n      <td>10013</td>\n      <td>2</td>\n      <td>50.62</td>\n      <td>50.68</td>\n      <td>2019-09-12 15:03:00</td>\n      <td>2019-09-12 15:09:45</td>\n      <td>2019-09-12 15:11:44</td>\n      <td>119.0</td>\n      <td>524.0</td>\n    </tr>\n    <tr>\n      <th>54063</th>\n      <td>2019-09-12</td>\n      <td>500</td>\n      <td>2</td>\n      <td>002-008</td>\n      <td>N</td>\n      <td>94709</td>\n      <td>2</td>\n      <td>53.53</td>\n      <td>53.64</td>\n      <td>2019-09-12 15:18:00</td>\n      <td>2019-09-12 15:26:03</td>\n      <td>2019-09-12 15:26:15</td>\n      <td>12.0</td>\n      <td>495.0</td>\n    </tr>\n    <tr>\n      <th>54064</th>\n      <td>2019-09-12</td>\n      <td>500</td>\n      <td>2</td>\n      <td>002-008</td>\n      <td>N</td>\n      <td>94793</td>\n      <td>2</td>\n      <td>54.80</td>\n      <td>54.86</td>\n      <td>2019-09-12 15:25:00</td>\n      <td>2019-09-12 15:33:29</td>\n      <td>2019-09-12 15:33:29</td>\n      <td>0.0</td>\n      <td>509.0</td>\n    </tr>\n    <tr>\n      <th>54065</th>\n      <td>2019-09-12</td>\n      <td>500</td>\n      <td>2</td>\n      <td>002-008</td>\n      <td>S</td>\n      <td>94793</td>\n      <td>2</td>\n      <td>54.92</td>\n      <td>54.94</td>\n      <td>2019-09-12 15:43:00</td>\n      <td>2019-09-12 15:33:29</td>\n      <td>2019-09-12 15:42:53</td>\n      <td>564.0</td>\n      <td>-7.0</td>\n    </tr>\n    <tr>\n      <th>54066</th>\n      <td>2019-09-12</td>\n      <td>500</td>\n      <td>2</td>\n      <td>002-008</td>\n      <td>S</td>\n      <td>10059</td>\n      <td>4</td>\n      <td>57.70</td>\n      <td>57.74</td>\n      <td>2019-09-12 15:59:00</td>\n      <td>2019-09-12 15:56:10</td>\n      <td>2019-09-12 15:59:15</td>\n      <td>185.0</td>\n      <td>15.0</td>\n    </tr>\n    <tr>\n      <th>54067</th>\n      <td>2019-09-12</td>\n      <td>500</td>\n      <td>2</td>\n      <td>002-008</td>\n      <td>S</td>\n      <td>45517</td>\n      <td>2</td>\n      <td>60.55</td>\n      <td>60.59</td>\n      <td>2019-09-12 16:12:00</td>\n      <td>2019-09-12 16:14:55</td>\n      <td>2019-09-12 16:15:49</td>\n      <td>54.0</td>\n      <td>229.0</td>\n    </tr>\n    <tr>\n      <th>54068</th>\n      <td>2019-09-12</td>\n      <td>500</td>\n      <td>2</td>\n      <td>002-008</td>\n      <td>S</td>\n      <td>85927</td>\n      <td>2</td>\n      <td>62.04</td>\n      <td>62.09</td>\n      <td>2019-09-12 16:19:00</td>\n      <td>2019-09-12 16:21:03</td>\n      <td>2019-09-12 16:21:33</td>\n      <td>30.0</td>\n      <td>153.0</td>\n    </tr>\n    <tr>\n      <th>54069</th>\n      <td>2019-09-12</td>\n      <td>500</td>\n      <td>2</td>\n      <td>002-008</td>\n      <td>S</td>\n      <td>56227</td>\n      <td>2</td>\n      <td>64.10</td>\n      <td>64.12</td>\n      <td>2019-09-12 16:28:00</td>\n      <td>2019-09-12 16:30:49</td>\n      <td>2019-09-12 16:31:57</td>\n      <td>68.0</td>\n      <td>237.0</td>\n    </tr>\n    <tr>\n      <th>54070</th>\n      <td>2019-09-12</td>\n      <td>500</td>\n      <td>2</td>\n      <td>002-008</td>\n      <td>S</td>\n      <td>79973</td>\n      <td>2</td>\n      <td>NaN</td>\n      <td>NaN</td>\n      <td>2019-09-12 16:35:00</td>\n      <td>NaT</td>\n      <td>NaT</td>\n      <td>NaN</td>\n      <td>NaN</td>\n    </tr>\n    <tr>\n      <th>54071</th>\n      <td>2019-09-12</td>\n      <td>500</td>\n      <td>2</td>\n      <td>002-008</td>\n      <td>N</td>\n      <td>99396</td>\n      <td>2</td>\n      <td>85.28</td>\n      <td>85.33</td>\n      <td>2019-09-12 18:25:00</td>\n      <td>2019-09-12 18:25:18</td>\n      <td>2019-09-12 18:26:58</td>\n      <td>100.0</td>\n      <td>118.0</td>\n    </tr>\n    <tr>\n      <th>54072</th>\n      <td>2019-09-12</td>\n      <td>500</td>\n      <td>2</td>\n      <td>002-008</td>\n      <td>N</td>\n      <td>56239</td>\n      <td>2</td>\n      <td>87.07</td>\n      <td>87.16</td>\n      <td>2019-09-12 18:37:00</td>\n      <td>2019-09-12 18:37:33</td>\n      <td>2019-09-12 18:38:17</td>\n      <td>44.0</td>\n      <td>77.0</td>\n    </tr>\n    <tr>\n      <th>54073</th>\n      <td>2019-09-12</td>\n      <td>500</td>\n      <td>2</td>\n      <td>002-008</td>\n      <td>N</td>\n      <td>95226</td>\n      <td>2</td>\n      <td>89.07</td>\n      <td>89.15</td>\n      <td>2019-09-12 18:45:00</td>\n      <td>2019-09-12 18:53:07</td>\n      <td>2019-09-12 18:53:33</td>\n      <td>26.0</td>\n      <td>513.0</td>\n    </tr>\n    <tr>\n      <th>54074</th>\n      <td>2019-09-12</td>\n      <td>500</td>\n      <td>2</td>\n      <td>002-008</td>\n      <td>N</td>\n      <td>45506</td>\n      <td>2</td>\n      <td>90.62</td>\n      <td>90.67</td>\n      <td>2019-09-12 18:51:00</td>\n      <td>2019-09-12 18:57:38</td>\n      <td>2019-09-12 18:58:19</td>\n      <td>41.0</td>\n      <td>439.0</td>\n    </tr>\n    <tr>\n      <th>54075</th>\n      <td>2019-09-12</td>\n      <td>500</td>\n      <td>2</td>\n      <td>002-008</td>\n      <td>N</td>\n      <td>10013</td>\n      <td>2</td>\n      <td>93.22</td>\n      <td>93.33</td>\n      <td>2019-09-12 19:03:00</td>\n      <td>2019-09-12 19:09:54</td>\n      <td>2019-09-12 19:09:54</td>\n      <td>0.0</td>\n      <td>414.0</td>\n    </tr>\n    <tr>\n      <th>54076</th>\n      <td>2019-09-12</td>\n      <td>500</td>\n      <td>2</td>\n      <td>002-008</td>\n      <td>N</td>\n      <td>10013</td>\n      <td>2</td>\n      <td>93.37</td>\n      <td>93.47</td>\n      <td>2019-09-12 19:08:00</td>\n      <td>2019-09-12 19:09:54</td>\n      <td>2019-09-12 19:11:05</td>\n      <td>71.0</td>\n      <td>185.0</td>\n    </tr>\n    <tr>\n      <th>54077</th>\n      <td>2019-09-12</td>\n      <td>500</td>\n      <td>2</td>\n      <td>002-008</td>\n      <td>N</td>\n      <td>94709</td>\n      <td>2</td>\n      <td>96.28</td>\n      <td>96.43</td>\n      <td>2019-09-12 19:21:00</td>\n      <td>2019-09-12 19:23:48</td>\n      <td>2019-09-12 19:23:59</td>\n      <td>11.0</td>\n      <td>179.0</td>\n    </tr>\n    <tr>\n      <th>54078</th>\n      <td>2019-09-12</td>\n      <td>500</td>\n      <td>2</td>\n      <td>002-008</td>\n      <td>N</td>\n      <td>33636</td>\n      <td>2</td>\n      <td>98.56</td>\n      <td>98.71</td>\n      <td>2019-09-12 19:27:00</td>\n      <td>2019-09-12 19:31:10</td>\n      <td>2019-09-12 19:31:17</td>\n      <td>7.0</td>\n      <td>257.0</td>\n    </tr>\n    <tr>\n      <th>54079</th>\n      <td>2019-09-12</td>\n      <td>500</td>\n      <td>2</td>\n      <td>002-008</td>\n      <td>N</td>\n      <td>33726</td>\n      <td>2</td>\n      <td>100.59</td>\n      <td>100.65</td>\n      <td>2019-09-12 19:31:00</td>\n      <td>2019-09-12 19:34:04</td>\n      <td>2019-09-12 19:34:35</td>\n      <td>31.0</td>\n      <td>215.0</td>\n    </tr>\n    <tr>\n      <th>54080</th>\n      <td>2019-09-12</td>\n      <td>500</td>\n      <td>2</td>\n      <td>002-008</td>\n      <td>N</td>\n      <td>12976</td>\n      <td>2</td>\n      <td>103.46</td>\n      <td>103.56</td>\n      <td>2019-09-12 19:39:00</td>\n      <td>2019-09-12 19:41:33</td>\n      <td>2019-09-12 19:41:33</td>\n      <td>0.0</td>\n      <td>153.0</td>\n    </tr>\n    <tr>\n      <th>54081</th>\n      <td>2019-09-12</td>\n      <td>500</td>\n      <td>2</td>\n      <td>002-008</td>\n      <td>S</td>\n      <td>12976</td>\n      <td>2</td>\n      <td>103.59</td>\n      <td>103.64</td>\n      <td>2019-09-12 19:45:00</td>\n      <td>2019-09-12 19:41:33</td>\n      <td>2019-09-12 19:46:02</td>\n      <td>269.0</td>\n      <td>62.0</td>\n    </tr>\n    <tr>\n      <th>54082</th>\n      <td>2019-09-12</td>\n      <td>500</td>\n      <td>2</td>\n      <td>002-008</td>\n      <td>S</td>\n      <td>33727</td>\n      <td>2</td>\n      <td>106.38</td>\n      <td>106.69</td>\n      <td>2019-09-12 19:54:00</td>\n      <td>2019-09-12 19:55:53</td>\n      <td>2019-09-12 19:56:36</td>\n      <td>43.0</td>\n      <td>156.0</td>\n    </tr>\n    <tr>\n      <th>54083</th>\n      <td>2019-09-12</td>\n      <td>500</td>\n      <td>2</td>\n      <td>002-008</td>\n      <td>S</td>\n      <td>33627</td>\n      <td>2</td>\n      <td>108.00</td>\n      <td>108.71</td>\n      <td>2019-09-12 19:58:00</td>\n      <td>2019-09-12 19:59:37</td>\n      <td>2019-09-12 19:59:47</td>\n      <td>10.0</td>\n      <td>107.0</td>\n    </tr>\n    <tr>\n      <th>54084</th>\n      <td>2019-09-12</td>\n      <td>500</td>\n      <td>2</td>\n      <td>002-008</td>\n      <td>S</td>\n      <td>94793</td>\n      <td>2</td>\n      <td>110.62</td>\n      <td>111.08</td>\n      <td>2019-09-12 20:05:00</td>\n      <td>2019-09-12 20:05:48</td>\n      <td>2019-09-12 20:06:21</td>\n      <td>33.0</td>\n      <td>81.0</td>\n    </tr>\n    <tr>\n      <th>54085</th>\n      <td>2019-09-12</td>\n      <td>500</td>\n      <td>2</td>\n      <td>002-008</td>\n      <td>S</td>\n      <td>10059</td>\n      <td>4</td>\n      <td>113.78</td>\n      <td>113.88</td>\n      <td>2019-09-12 20:20:00</td>\n      <td>2019-09-12 20:17:56</td>\n      <td>2019-09-12 20:20:23</td>\n      <td>147.0</td>\n      <td>23.0</td>\n    </tr>\n    <tr>\n      <th>54086</th>\n      <td>2019-09-12</td>\n      <td>500</td>\n      <td>2</td>\n      <td>002-008</td>\n      <td>S</td>\n      <td>45517</td>\n      <td>2</td>\n      <td>116.73</td>\n      <td>116.73</td>\n      <td>2019-09-12 20:31:00</td>\n      <td>2019-09-12 20:31:59</td>\n      <td>2019-09-12 20:32:14</td>\n      <td>15.0</td>\n      <td>74.0</td>\n    </tr>\n    <tr>\n      <th>54087</th>\n      <td>2019-09-12</td>\n      <td>500</td>\n      <td>2</td>\n      <td>002-008</td>\n      <td>S</td>\n      <td>85927</td>\n      <td>2</td>\n      <td>118.22</td>\n      <td>118.23</td>\n      <td>2019-09-12 20:37:00</td>\n      <td>2019-09-12 20:37:50</td>\n      <td>2019-09-12 20:39:19</td>\n      <td>89.0</td>\n      <td>139.0</td>\n    </tr>\n    <tr>\n      <th>54088</th>\n      <td>2019-09-12</td>\n      <td>500</td>\n      <td>2</td>\n      <td>002-008</td>\n      <td>S</td>\n      <td>56227</td>\n      <td>2</td>\n      <td>120.19</td>\n      <td>120.26</td>\n      <td>2019-09-12 20:45:00</td>\n      <td>2019-09-12 20:47:07</td>\n      <td>2019-09-12 20:47:49</td>\n      <td>42.0</td>\n      <td>169.0</td>\n    </tr>\n    <tr>\n      <th>54089</th>\n      <td>2019-09-12</td>\n      <td>500</td>\n      <td>2</td>\n      <td>002-008</td>\n      <td>S</td>\n      <td>79973</td>\n      <td>2</td>\n      <td>NaN</td>\n      <td>NaN</td>\n      <td>2019-09-12 20:50:00</td>\n      <td>NaT</td>\n      <td>NaT</td>\n      <td>NaN</td>\n      <td>NaN</td>\n    </tr>\n  </tbody>\n</table>\n</div>"
     },
     "metadata": {},
     "execution_count": 166
    }
   ],
   "source": [
    "adh_routes[\n",
    "    (adh_routes.route == check_mult.route) & \n",
    "    (adh_routes.vehicle_id == check_mult.vehicle_id) & \n",
    "    (adh_routes.service_date == check_mult.service_date) \n",
    "    # & \n",
    "    # (adh_routes.route_dir == check_mult.route_dir) \n",
    "].sort_values(by='sched_time_hms')"
   ]
  },
  {
   "cell_type": "code",
   "execution_count": 33,
   "metadata": {},
   "outputs": [],
   "source": [
    "#######################################\n",
    "###\n",
    "### stops\n",
    "###\n",
    "#######################################"
   ]
  },
  {
   "cell_type": "code",
   "execution_count": 34,
   "metadata": {},
   "outputs": [],
   "source": [
    "def wrangle_stops(source_file, actv_date='20_04'):\n",
    "    \n",
    "    keep_cols = [\n",
    "        'stop_id', 'stop_name', 'stop_lat', 'stop_lon'\n",
    "    ]\n",
    "    \n",
    "    gdf = pd.read_csv(source_file)\n",
    "    gdf.stop_code = gdf.stop_code.apply(str)\n",
    "    gdf.stop_id = gdf.stop_id.apply(str)\n",
    "    gdf = gdf.astype({'stop_code':'string', 'stop_id':'string', 'stop_name':'string'})\n",
    "    gdf.set_index('stop_code', inplace=True)\n",
    "    gdf = gdf[keep_cols]\n",
    "    gdf = gpd.GeoDataFrame(\n",
    "        gdf,\n",
    "        geometry = gpd.points_from_xy(gdf.stop_lon, gdf.stop_lat),\n",
    "        crs={'epsg:4326'}\n",
    "    )\n",
    "    # gdf.stop_id = gdf.stop_id.apply(str)\n",
    "    gdf['actv_' + str(actv_date)] = 1\n",
    "    return gdf\n"
   ]
  },
  {
   "cell_type": "code",
   "execution_count": 35,
   "metadata": {},
   "outputs": [],
   "source": [
    "#######################################\n",
    "###\n",
    "### stops\n",
    "###\n",
    "### stops adh\n",
    "###\n",
    "#######################################"
   ]
  },
  {
   "cell_type": "code",
   "execution_count": 36,
   "metadata": {},
   "outputs": [
    {
     "output_type": "execute_result",
     "data": {
      "text/plain": "          stop_id                  stop_name   stop_lat   stop_lon  stops  \\\nstop_code                                                                   \n10013       10013  NORTH STAR TRANSIT CENTER  29.519705 -98.498340   1511   \n10019       10019  NORTH STAR TRANSIT CENTER  29.519579 -98.498064    836   \n10023       10023  NORTH STAR TRANSIT CENTER  29.519261 -98.498801    575   \n10029       10029  NORTH STAR TRANSIT CENTER  29.519446 -98.498229    646   \n10033       10033  NORTH STAR TRANSIT CENTER  29.519403 -98.498651    567   \n\n                             geometry  \nstop_code                              \n10013      POINT (-98.49834 29.51970)  \n10019      POINT (-98.49806 29.51958)  \n10023      POINT (-98.49880 29.51926)  \n10029      POINT (-98.49823 29.51945)  \n10033      POINT (-98.49865 29.51940)  ",
      "text/html": "<div>\n<style scoped>\n    .dataframe tbody tr th:only-of-type {\n        vertical-align: middle;\n    }\n\n    .dataframe tbody tr th {\n        vertical-align: top;\n    }\n\n    .dataframe thead th {\n        text-align: right;\n    }\n</style>\n<table border=\"1\" class=\"dataframe\">\n  <thead>\n    <tr style=\"text-align: right;\">\n      <th></th>\n      <th>stop_id</th>\n      <th>stop_name</th>\n      <th>stop_lat</th>\n      <th>stop_lon</th>\n      <th>stops</th>\n      <th>geometry</th>\n    </tr>\n    <tr>\n      <th>stop_code</th>\n      <th></th>\n      <th></th>\n      <th></th>\n      <th></th>\n      <th></th>\n      <th></th>\n    </tr>\n  </thead>\n  <tbody>\n    <tr>\n      <th>10013</th>\n      <td>10013</td>\n      <td>NORTH STAR TRANSIT CENTER</td>\n      <td>29.519705</td>\n      <td>-98.498340</td>\n      <td>1511</td>\n      <td>POINT (-98.49834 29.51970)</td>\n    </tr>\n    <tr>\n      <th>10019</th>\n      <td>10019</td>\n      <td>NORTH STAR TRANSIT CENTER</td>\n      <td>29.519579</td>\n      <td>-98.498064</td>\n      <td>836</td>\n      <td>POINT (-98.49806 29.51958)</td>\n    </tr>\n    <tr>\n      <th>10023</th>\n      <td>10023</td>\n      <td>NORTH STAR TRANSIT CENTER</td>\n      <td>29.519261</td>\n      <td>-98.498801</td>\n      <td>575</td>\n      <td>POINT (-98.49880 29.51926)</td>\n    </tr>\n    <tr>\n      <th>10029</th>\n      <td>10029</td>\n      <td>NORTH STAR TRANSIT CENTER</td>\n      <td>29.519446</td>\n      <td>-98.498229</td>\n      <td>646</td>\n      <td>POINT (-98.49823 29.51945)</td>\n    </tr>\n    <tr>\n      <th>10033</th>\n      <td>10033</td>\n      <td>NORTH STAR TRANSIT CENTER</td>\n      <td>29.519403</td>\n      <td>-98.498651</td>\n      <td>567</td>\n      <td>POINT (-98.49865 29.51940)</td>\n    </tr>\n  </tbody>\n</table>\n</div>"
     },
     "metadata": {},
     "execution_count": 36
    }
   ],
   "source": [
    "\n",
    "gdf_stops_adh.head(5)\n"
   ]
  },
  {
   "cell_type": "code",
   "execution_count": 37,
   "metadata": {
    "tags": []
   },
   "outputs": [
    {
     "output_type": "execute_result",
     "data": {
      "text/plain": "['19863', '23799', '98013']"
     },
     "metadata": {},
     "execution_count": 37
    }
   ],
   "source": [
    "gdf_stops_adh[gdf_stops_adh.stop_lat==0].stop_id.to_list()"
   ]
  },
  {
   "cell_type": "code",
   "execution_count": 38,
   "metadata": {},
   "outputs": [],
   "source": [
    "#######################################\n",
    "###\n",
    "### stops\n",
    "###\n",
    "### stops 200404\n",
    "###\n",
    "#######################################"
   ]
  },
  {
   "cell_type": "code",
   "execution_count": 39,
   "metadata": {
    "tags": []
   },
   "outputs": [
    {
     "output_type": "stream",
     "name": "stdout",
     "text": "<class 'geopandas.geodataframe.GeoDataFrame'>\nIndex: 6491 entries, 25316 to 74369\nData columns (total 6 columns):\n #   Column      Non-Null Count  Dtype   \n---  ------      --------------  -----   \n 0   stop_id     6491 non-null   string  \n 1   stop_name   6491 non-null   string  \n 2   stop_lat    6491 non-null   float64 \n 3   stop_lon    6491 non-null   float64 \n 4   geometry    6491 non-null   geometry\n 5   actv_20_04  6491 non-null   int64   \ndtypes: float64(2), geometry(1), int64(1), string(2)\nmemory usage: 355.0+ KB\n"
    }
   ],
   "source": [
    "gdf_stops_202004 = wrangle_stops(files['stops_202004'], actv_date='20_04')\n",
    "\n",
    "gdf_stops_202004.info()"
   ]
  },
  {
   "cell_type": "code",
   "execution_count": 40,
   "metadata": {
    "tags": []
   },
   "outputs": [
    {
     "output_type": "execute_result",
     "data": {
      "text/plain": "          stop_id                       stop_name   stop_lat   stop_lon  \\\nstop_code                                                                 \n25316       25316                BLANCO & DRESDEN  29.499014 -98.507783   \n72479       72479     FRESNO & IH-10 W ACCESS RD.  29.474488 -98.516238   \n56239       56239  FREDERICKSBURG RD. & N. FLORES  29.441883 -98.503773   \n76759       76759                MARTIN & N. FRIO  29.430081 -98.503058   \n88973       88973            DOLOROSA & S. FLORES  29.424073 -98.494741   \n\n                             geometry  actv_20_04  \nstop_code                                          \n25316      POINT (-98.50778 29.49901)           1  \n72479      POINT (-98.51624 29.47449)           1  \n56239      POINT (-98.50377 29.44188)           1  \n76759      POINT (-98.50306 29.43008)           1  \n88973      POINT (-98.49474 29.42407)           1  ",
      "text/html": "<div>\n<style scoped>\n    .dataframe tbody tr th:only-of-type {\n        vertical-align: middle;\n    }\n\n    .dataframe tbody tr th {\n        vertical-align: top;\n    }\n\n    .dataframe thead th {\n        text-align: right;\n    }\n</style>\n<table border=\"1\" class=\"dataframe\">\n  <thead>\n    <tr style=\"text-align: right;\">\n      <th></th>\n      <th>stop_id</th>\n      <th>stop_name</th>\n      <th>stop_lat</th>\n      <th>stop_lon</th>\n      <th>geometry</th>\n      <th>actv_20_04</th>\n    </tr>\n    <tr>\n      <th>stop_code</th>\n      <th></th>\n      <th></th>\n      <th></th>\n      <th></th>\n      <th></th>\n      <th></th>\n    </tr>\n  </thead>\n  <tbody>\n    <tr>\n      <th>25316</th>\n      <td>25316</td>\n      <td>BLANCO &amp; DRESDEN</td>\n      <td>29.499014</td>\n      <td>-98.507783</td>\n      <td>POINT (-98.50778 29.49901)</td>\n      <td>1</td>\n    </tr>\n    <tr>\n      <th>72479</th>\n      <td>72479</td>\n      <td>FRESNO &amp; IH-10 W ACCESS RD.</td>\n      <td>29.474488</td>\n      <td>-98.516238</td>\n      <td>POINT (-98.51624 29.47449)</td>\n      <td>1</td>\n    </tr>\n    <tr>\n      <th>56239</th>\n      <td>56239</td>\n      <td>FREDERICKSBURG RD. &amp; N. FLORES</td>\n      <td>29.441883</td>\n      <td>-98.503773</td>\n      <td>POINT (-98.50377 29.44188)</td>\n      <td>1</td>\n    </tr>\n    <tr>\n      <th>76759</th>\n      <td>76759</td>\n      <td>MARTIN &amp; N. FRIO</td>\n      <td>29.430081</td>\n      <td>-98.503058</td>\n      <td>POINT (-98.50306 29.43008)</td>\n      <td>1</td>\n    </tr>\n    <tr>\n      <th>88973</th>\n      <td>88973</td>\n      <td>DOLOROSA &amp; S. FLORES</td>\n      <td>29.424073</td>\n      <td>-98.494741</td>\n      <td>POINT (-98.49474 29.42407)</td>\n      <td>1</td>\n    </tr>\n  </tbody>\n</table>\n</div>"
     },
     "metadata": {},
     "execution_count": 40
    }
   ],
   "source": [
    "gdf_stops_202004.head()"
   ]
  },
  {
   "cell_type": "code",
   "execution_count": 41,
   "metadata": {},
   "outputs": [],
   "source": [
    "#######################################\n",
    "###\n",
    "### stops\n",
    "###\n",
    "### stops 201909\n",
    "###\n",
    "#######################################"
   ]
  },
  {
   "cell_type": "code",
   "execution_count": 42,
   "metadata": {
    "tags": []
   },
   "outputs": [
    {
     "output_type": "stream",
     "name": "stdout",
     "text": "<class 'geopandas.geodataframe.GeoDataFrame'>\nIndex: 6895 entries, 25316 to 56683\nData columns (total 7 columns):\n #   Column      Non-Null Count  Dtype   \n---  ------      --------------  -----   \n 0   stop_id     6895 non-null   string  \n 1   stop_name   6895 non-null   string  \n 2   stop_lat    6895 non-null   float64 \n 3   stop_lon    6895 non-null   float64 \n 4   geometry    6895 non-null   geometry\n 5   actv_19_09  6895 non-null   int64   \n 6   actv_20_04  6895 non-null   float64 \ndtypes: float64(3), geometry(1), int64(1), string(2)\nmemory usage: 750.9+ KB\n"
    }
   ],
   "source": [
    "gdf_stops_201909 = wrangle_stops(files['stops_201909'], actv_date='19_09')\n",
    "gdf_stops_201909 = gdf_stops_201909.join(gdf_stops_202004[['actv_20_04']], how='left')\n",
    "gdf_stops_201909.actv_20_04.fillna(0, inplace=True)\n",
    "\n",
    "gdf_stops_201909.info()"
   ]
  },
  {
   "cell_type": "code",
   "execution_count": 43,
   "metadata": {
    "tags": []
   },
   "outputs": [
    {
     "output_type": "stream",
     "name": "stdout",
     "text": "<class 'geopandas.geodataframe.GeoDataFrame'>\nIndex: 6491 entries, 25316 to 74369\nData columns (total 7 columns):\n #   Column      Non-Null Count  Dtype   \n---  ------      --------------  -----   \n 0   stop_id     6491 non-null   string  \n 1   stop_name   6491 non-null   string  \n 2   stop_lat    6491 non-null   float64 \n 3   stop_lon    6491 non-null   float64 \n 4   geometry    6491 non-null   geometry\n 5   actv_20_04  6491 non-null   int64   \n 6   actv_19_09  6491 non-null   float64 \ndtypes: float64(3), geometry(1), int64(1), string(2)\nmemory usage: 725.7+ KB\n"
    }
   ],
   "source": [
    "gdf_stops = gdf_stops_202004.join(gdf_stops_201909[['actv_19_09']], how='left')\n",
    "gdf_stops.actv_19_09 = gdf_stops.actv_19_09.fillna(0)\n",
    "gdf_stops.info()"
   ]
  },
  {
   "cell_type": "code",
   "execution_count": 44,
   "metadata": {
    "tags": []
   },
   "outputs": [
    {
     "output_type": "execute_result",
     "data": {
      "text/plain": "          stop_id                       stop_name   stop_lat   stop_lon  \\\nstop_code                                                                 \n25316       25316                BLANCO & DRESDEN  29.499014 -98.507783   \n72479       72479     FRESNO & IH-10 W ACCESS RD.  29.474488 -98.516238   \n56239       56239  FREDERICKSBURG RD. & N. FLORES  29.441883 -98.503773   \n76759       76759                MARTIN & N. FRIO  29.430081 -98.503058   \n88973       88973            DOLOROSA & S. FLORES  29.424073 -98.494741   \n\n                             geometry  actv_19_09  actv_20_04  \nstop_code                                                      \n25316      POINT (-98.50778 29.49901)           1         1.0  \n72479      POINT (-98.51624 29.47449)           1         1.0  \n56239      POINT (-98.50377 29.44188)           1         1.0  \n76759      POINT (-98.50306 29.43008)           1         1.0  \n88973      POINT (-98.49474 29.42407)           1         1.0  ",
      "text/html": "<div>\n<style scoped>\n    .dataframe tbody tr th:only-of-type {\n        vertical-align: middle;\n    }\n\n    .dataframe tbody tr th {\n        vertical-align: top;\n    }\n\n    .dataframe thead th {\n        text-align: right;\n    }\n</style>\n<table border=\"1\" class=\"dataframe\">\n  <thead>\n    <tr style=\"text-align: right;\">\n      <th></th>\n      <th>stop_id</th>\n      <th>stop_name</th>\n      <th>stop_lat</th>\n      <th>stop_lon</th>\n      <th>geometry</th>\n      <th>actv_19_09</th>\n      <th>actv_20_04</th>\n    </tr>\n    <tr>\n      <th>stop_code</th>\n      <th></th>\n      <th></th>\n      <th></th>\n      <th></th>\n      <th></th>\n      <th></th>\n      <th></th>\n    </tr>\n  </thead>\n  <tbody>\n    <tr>\n      <th>25316</th>\n      <td>25316</td>\n      <td>BLANCO &amp; DRESDEN</td>\n      <td>29.499014</td>\n      <td>-98.507783</td>\n      <td>POINT (-98.50778 29.49901)</td>\n      <td>1</td>\n      <td>1.0</td>\n    </tr>\n    <tr>\n      <th>72479</th>\n      <td>72479</td>\n      <td>FRESNO &amp; IH-10 W ACCESS RD.</td>\n      <td>29.474488</td>\n      <td>-98.516238</td>\n      <td>POINT (-98.51624 29.47449)</td>\n      <td>1</td>\n      <td>1.0</td>\n    </tr>\n    <tr>\n      <th>56239</th>\n      <td>56239</td>\n      <td>FREDERICKSBURG RD. &amp; N. FLORES</td>\n      <td>29.441883</td>\n      <td>-98.503773</td>\n      <td>POINT (-98.50377 29.44188)</td>\n      <td>1</td>\n      <td>1.0</td>\n    </tr>\n    <tr>\n      <th>76759</th>\n      <td>76759</td>\n      <td>MARTIN &amp; N. FRIO</td>\n      <td>29.430081</td>\n      <td>-98.503058</td>\n      <td>POINT (-98.50306 29.43008)</td>\n      <td>1</td>\n      <td>1.0</td>\n    </tr>\n    <tr>\n      <th>88973</th>\n      <td>88973</td>\n      <td>DOLOROSA &amp; S. FLORES</td>\n      <td>29.424073</td>\n      <td>-98.494741</td>\n      <td>POINT (-98.49474 29.42407)</td>\n      <td>1</td>\n      <td>1.0</td>\n    </tr>\n  </tbody>\n</table>\n</div>"
     },
     "metadata": {},
     "execution_count": 44
    }
   ],
   "source": [
    "gdf_stops_201909.head()"
   ]
  },
  {
   "cell_type": "code",
   "execution_count": null,
   "metadata": {},
   "outputs": [],
   "source": []
  },
  {
   "cell_type": "code",
   "execution_count": 45,
   "metadata": {},
   "outputs": [
    {
     "output_type": "execute_result",
     "data": {
      "text/plain": "          stop_id              stop_name   stop_lat   stop_lon  \\\nstop_code                                                        \n98013       98013  INGRAM TRANSIT CENTER  29.464792 -98.626006   \n\n                             geometry  actv_20_04  \nstop_code                                          \n98013      POINT (-98.62601 29.46479)           1  ",
      "text/html": "<div>\n<style scoped>\n    .dataframe tbody tr th:only-of-type {\n        vertical-align: middle;\n    }\n\n    .dataframe tbody tr th {\n        vertical-align: top;\n    }\n\n    .dataframe thead th {\n        text-align: right;\n    }\n</style>\n<table border=\"1\" class=\"dataframe\">\n  <thead>\n    <tr style=\"text-align: right;\">\n      <th></th>\n      <th>stop_id</th>\n      <th>stop_name</th>\n      <th>stop_lat</th>\n      <th>stop_lon</th>\n      <th>geometry</th>\n      <th>actv_20_04</th>\n    </tr>\n    <tr>\n      <th>stop_code</th>\n      <th></th>\n      <th></th>\n      <th></th>\n      <th></th>\n      <th></th>\n      <th></th>\n    </tr>\n  </thead>\n  <tbody>\n    <tr>\n      <th>98013</th>\n      <td>98013</td>\n      <td>INGRAM TRANSIT CENTER</td>\n      <td>29.464792</td>\n      <td>-98.626006</td>\n      <td>POINT (-98.62601 29.46479)</td>\n      <td>1</td>\n    </tr>\n  </tbody>\n</table>\n</div>"
     },
     "metadata": {},
     "execution_count": 45
    }
   ],
   "source": [
    "gdf_stops_202004[gdf_stops_202004.stop_id == '98013']"
   ]
  },
  {
   "cell_type": "code",
   "execution_count": 46,
   "metadata": {
    "tags": []
   },
   "outputs": [
    {
     "output_type": "stream",
     "name": "stdout",
     "text": "<class 'geopandas.geodataframe.GeoDataFrame'>\nIndex: 649 entries, 10013 to GARA\nData columns (total 7 columns):\n #   Column       Non-Null Count  Dtype   \n---  ------       --------------  -----   \n 0   stop_id      649 non-null    object  \n 1   stop_name    649 non-null    string  \n 2   stop_lat     649 non-null    float64 \n 3   stop_lon     649 non-null    float64 \n 4   stops        649 non-null    int64   \n 5   geometry     649 non-null    geometry\n 6   stop_id_all  644 non-null    object  \ndtypes: float64(2), geometry(1), int64(1), object(2), string(1)\nmemory usage: 40.6+ KB\n"
    }
   ],
   "source": [
    "adh_join = gdf_stops_adh.join(gdf_stops_201909[['stop_id']], how='left', on='stop_id', rsuffix='_all')\n",
    "adh_join.info()"
   ]
  },
  {
   "cell_type": "code",
   "execution_count": 47,
   "metadata": {},
   "outputs": [],
   "source": [
    "# adherence_stops_cols = ['StopNumber','Location','Latitude','Longitude','geometry']"
   ]
  },
  {
   "cell_type": "code",
   "execution_count": 48,
   "metadata": {},
   "outputs": [],
   "source": [
    "#######################################\n",
    "###\n",
    "### stops - all\n",
    "###\n",
    "#######################################"
   ]
  },
  {
   "cell_type": "code",
   "execution_count": 49,
   "metadata": {
    "tags": []
   },
   "outputs": [
    {
     "output_type": "stream",
     "name": "stdout",
     "text": "<class 'geopandas.geodataframe.GeoDataFrame'>\nIndex: 6915 entries, 10013 to GARA\nData columns (total 13 columns):\n #   Column        Non-Null Count  Dtype   \n---  ------        --------------  -----   \n 0   geometry_20   6491 non-null   geometry\n 1   stop_id_20    6491 non-null   string  \n 2   geometry_19   6895 non-null   geometry\n 3   stop_id_19    6895 non-null   string  \n 4   geometry_adh  649 non-null    geometry\n 5   stop_id_adh   649 non-null    string  \n 6   actv_20_04    6915 non-null   bool    \n 7   actv_19_09    6915 non-null   bool    \n 8   actv_adh      6915 non-null   bool    \n 9   same_actv     6915 non-null   int32   \n 10  same_geom     6915 non-null   bool    \n 11  geom_adh_20   6915 non-null   bool    \n 12  geom_adh_19   6915 non-null   bool    \ndtypes: bool(6), geometry(3), int32(1), string(3)\nmemory usage: 445.7+ KB\n"
    }
   ],
   "source": [
    "adh_stops_merge = gdf_stops_adh[['geometry', 'stop_id']].rename(columns={'geometry': 'geometry_adh', 'stop_id': 'stop_id_adh'})\n",
    "all_stops = gdf_stops_202004[['geometry','stop_id']].join(gdf_stops_201909[['geometry','stop_id']], how='outer', lsuffix='_20', rsuffix='_19')\n",
    "all_stops = all_stops.join(adh_stops_merge, how='outer')\n",
    "\n",
    "all_stops['actv_20_04'] = all_stops.stop_id_20.isna()==False\n",
    "all_stops['actv_19_09'] = all_stops.stop_id_19.isna()==False\n",
    "all_stops['actv_adh'] = all_stops.stop_id_adh.isna() == False\n",
    "all_stops['same_actv'] = all_stops.actv_20_04.astype('int32') + all_stops.actv_19_09.astype('int32') + all_stops.actv_adh.astype('int32')\n",
    "\n",
    "# all_stops['same_name'] = all_stops.stop_name_20 == all_stops.stop_name_19\n",
    "all_stops['same_geom'] = all_stops.geometry_20 == all_stops.geometry_19\n",
    "all_stops['geom_adh_20'] = all_stops.geometry_20 == all_stops.geometry_adh\n",
    "all_stops['geom_adh_19'] = all_stops.geometry_19 == all_stops.geometry_adh\n",
    "# all_stops['same_lat'] = all_stops.stop_lat_20 == all_stops.stop_lat_19\n",
    "# all_stops['same_lon'] = all_stops.stop_lon_20 == all_stops.stop_lon_19\n",
    "# all_stops['same_wheel'] = all_stops.wheelchair_boarding_20 == all_stops.wheelchair_boarding_19\n",
    "all_stops.info()"
   ]
  },
  {
   "cell_type": "code",
   "execution_count": 50,
   "metadata": {
    "tags": []
   },
   "outputs": [
    {
     "output_type": "execute_result",
     "data": {
      "text/plain": "                          geometry_20 stop_id_20                 geometry_19  \\\nstop_code                                                                      \n23216      POINT (-98.38628 29.37011)      23216  POINT (-98.38628 29.37011)   \n93837      POINT (-98.57891 29.50625)      93837  POINT (-98.57891 29.50625)   \n30013                            None       <NA>  POINT (-98.44736 29.34633)   \n57663      POINT (-98.53154 29.39702)      57663  POINT (-98.53154 29.39702)   \n68983      POINT (-98.55988 29.39085)      68983  POINT (-98.55988 29.39085)   \n57269      POINT (-98.40117 29.44145)      57269  POINT (-98.40117 29.44145)   \n52236      POINT (-98.61555 29.35677)      52236  POINT (-98.61555 29.35677)   \n36727                            None       <NA>  POINT (-98.47208 29.32022)   \n43457      POINT (-98.48144 29.36013)      43457  POINT (-98.48144 29.36013)   \n48839      POINT (-98.59365 29.48673)      48839  POINT (-98.59365 29.48673)   \n\n          stop_id_19                geometry_adh stop_id_adh  actv_20_04  \\\nstop_code                                                                  \n23216          23216  POINT (-98.38620 29.37075)       23216        True   \n93837          93837  POINT (-98.57893 29.50624)       93837        True   \n30013          30013  POINT (-98.44718 29.34637)       30013       False   \n57663          57663  POINT (-98.53229 29.39710)       57663        True   \n68983          68983  POINT (-98.55938 29.39087)       68983        True   \n57269          57269  POINT (-98.40089 29.44150)       57269        True   \n52236          52236  POINT (-98.61553 29.35672)       52236        True   \n36727          36727  POINT (-98.47209 29.32026)       36727       False   \n43457          43457  POINT (-98.48147 29.36024)       43457        True   \n48839          48839  POINT (-98.59370 29.48673)       48839        True   \n\n           actv_19_09  actv_adh  same_actv  same_geom  geom_adh_20  \\\nstop_code                                                            \n23216            True      True          3       True        False   \n93837            True      True          3       True        False   \n30013            True      True          2      False        False   \n57663            True      True          3       True        False   \n68983            True      True          3       True        False   \n57269            True      True          3       True        False   \n52236            True      True          3       True        False   \n36727            True      True          2      False        False   \n43457            True      True          3       True        False   \n48839            True      True          3       True        False   \n\n           geom_adh_19  \nstop_code               \n23216            False  \n93837            False  \n30013            False  \n57663            False  \n68983            False  \n57269            False  \n52236            False  \n36727            False  \n43457            False  \n48839            False  ",
      "text/html": "<div>\n<style scoped>\n    .dataframe tbody tr th:only-of-type {\n        vertical-align: middle;\n    }\n\n    .dataframe tbody tr th {\n        vertical-align: top;\n    }\n\n    .dataframe thead th {\n        text-align: right;\n    }\n</style>\n<table border=\"1\" class=\"dataframe\">\n  <thead>\n    <tr style=\"text-align: right;\">\n      <th></th>\n      <th>geometry_20</th>\n      <th>stop_id_20</th>\n      <th>geometry_19</th>\n      <th>stop_id_19</th>\n      <th>geometry_adh</th>\n      <th>stop_id_adh</th>\n      <th>actv_20_04</th>\n      <th>actv_19_09</th>\n      <th>actv_adh</th>\n      <th>same_actv</th>\n      <th>same_geom</th>\n      <th>geom_adh_20</th>\n      <th>geom_adh_19</th>\n    </tr>\n    <tr>\n      <th>stop_code</th>\n      <th></th>\n      <th></th>\n      <th></th>\n      <th></th>\n      <th></th>\n      <th></th>\n      <th></th>\n      <th></th>\n      <th></th>\n      <th></th>\n      <th></th>\n      <th></th>\n      <th></th>\n    </tr>\n  </thead>\n  <tbody>\n    <tr>\n      <th>23216</th>\n      <td>POINT (-98.38628 29.37011)</td>\n      <td>23216</td>\n      <td>POINT (-98.38628 29.37011)</td>\n      <td>23216</td>\n      <td>POINT (-98.38620 29.37075)</td>\n      <td>23216</td>\n      <td>True</td>\n      <td>True</td>\n      <td>True</td>\n      <td>3</td>\n      <td>True</td>\n      <td>False</td>\n      <td>False</td>\n    </tr>\n    <tr>\n      <th>93837</th>\n      <td>POINT (-98.57891 29.50625)</td>\n      <td>93837</td>\n      <td>POINT (-98.57891 29.50625)</td>\n      <td>93837</td>\n      <td>POINT (-98.57893 29.50624)</td>\n      <td>93837</td>\n      <td>True</td>\n      <td>True</td>\n      <td>True</td>\n      <td>3</td>\n      <td>True</td>\n      <td>False</td>\n      <td>False</td>\n    </tr>\n    <tr>\n      <th>30013</th>\n      <td>None</td>\n      <td>&lt;NA&gt;</td>\n      <td>POINT (-98.44736 29.34633)</td>\n      <td>30013</td>\n      <td>POINT (-98.44718 29.34637)</td>\n      <td>30013</td>\n      <td>False</td>\n      <td>True</td>\n      <td>True</td>\n      <td>2</td>\n      <td>False</td>\n      <td>False</td>\n      <td>False</td>\n    </tr>\n    <tr>\n      <th>57663</th>\n      <td>POINT (-98.53154 29.39702)</td>\n      <td>57663</td>\n      <td>POINT (-98.53154 29.39702)</td>\n      <td>57663</td>\n      <td>POINT (-98.53229 29.39710)</td>\n      <td>57663</td>\n      <td>True</td>\n      <td>True</td>\n      <td>True</td>\n      <td>3</td>\n      <td>True</td>\n      <td>False</td>\n      <td>False</td>\n    </tr>\n    <tr>\n      <th>68983</th>\n      <td>POINT (-98.55988 29.39085)</td>\n      <td>68983</td>\n      <td>POINT (-98.55988 29.39085)</td>\n      <td>68983</td>\n      <td>POINT (-98.55938 29.39087)</td>\n      <td>68983</td>\n      <td>True</td>\n      <td>True</td>\n      <td>True</td>\n      <td>3</td>\n      <td>True</td>\n      <td>False</td>\n      <td>False</td>\n    </tr>\n    <tr>\n      <th>57269</th>\n      <td>POINT (-98.40117 29.44145)</td>\n      <td>57269</td>\n      <td>POINT (-98.40117 29.44145)</td>\n      <td>57269</td>\n      <td>POINT (-98.40089 29.44150)</td>\n      <td>57269</td>\n      <td>True</td>\n      <td>True</td>\n      <td>True</td>\n      <td>3</td>\n      <td>True</td>\n      <td>False</td>\n      <td>False</td>\n    </tr>\n    <tr>\n      <th>52236</th>\n      <td>POINT (-98.61555 29.35677)</td>\n      <td>52236</td>\n      <td>POINT (-98.61555 29.35677)</td>\n      <td>52236</td>\n      <td>POINT (-98.61553 29.35672)</td>\n      <td>52236</td>\n      <td>True</td>\n      <td>True</td>\n      <td>True</td>\n      <td>3</td>\n      <td>True</td>\n      <td>False</td>\n      <td>False</td>\n    </tr>\n    <tr>\n      <th>36727</th>\n      <td>None</td>\n      <td>&lt;NA&gt;</td>\n      <td>POINT (-98.47208 29.32022)</td>\n      <td>36727</td>\n      <td>POINT (-98.47209 29.32026)</td>\n      <td>36727</td>\n      <td>False</td>\n      <td>True</td>\n      <td>True</td>\n      <td>2</td>\n      <td>False</td>\n      <td>False</td>\n      <td>False</td>\n    </tr>\n    <tr>\n      <th>43457</th>\n      <td>POINT (-98.48144 29.36013)</td>\n      <td>43457</td>\n      <td>POINT (-98.48144 29.36013)</td>\n      <td>43457</td>\n      <td>POINT (-98.48147 29.36024)</td>\n      <td>43457</td>\n      <td>True</td>\n      <td>True</td>\n      <td>True</td>\n      <td>3</td>\n      <td>True</td>\n      <td>False</td>\n      <td>False</td>\n    </tr>\n    <tr>\n      <th>48839</th>\n      <td>POINT (-98.59365 29.48673)</td>\n      <td>48839</td>\n      <td>POINT (-98.59365 29.48673)</td>\n      <td>48839</td>\n      <td>POINT (-98.59370 29.48673)</td>\n      <td>48839</td>\n      <td>True</td>\n      <td>True</td>\n      <td>True</td>\n      <td>3</td>\n      <td>True</td>\n      <td>False</td>\n      <td>False</td>\n    </tr>\n  </tbody>\n</table>\n</div>"
     },
     "metadata": {},
     "execution_count": 50
    }
   ],
   "source": [
    "adh_stops_chk = all_stops[all_stops.actv_adh]\n",
    "# adh_stops_chk[adh_stops_chk.same_actv == 3]\n",
    "# adh_stops_chk[all_stops.columns]\n",
    "adh_stops_chk.sample(10)"
   ]
  },
  {
   "cell_type": "code",
   "execution_count": 51,
   "metadata": {
    "tags": []
   },
   "outputs": [
    {
     "output_type": "stream",
     "name": "stdout",
     "text": "['10013', '10019', '10023', '10029', '10033', '10039', '10043', '10049', '10059', '10103', '10109', '10203', '10209', '10503', '10509', '11126', '11127', '11137', '11206', '11267']\n['10013', '10019', '10023', '10029', '10033', '10039', '10043', '10049', '10059', '10103', '10109', '10203', '10209', '10303', '10309', '10403', '10409', '10503', '10509', '10603']\n"
    }
   ],
   "source": [
    "print(adh_stops_merge.index.to_list()[:20])\n",
    "print(all_stops.index.to_list()[:20])\n"
   ]
  },
  {
   "cell_type": "code",
   "execution_count": 52,
   "metadata": {
    "tags": []
   },
   "outputs": [
    {
     "output_type": "error",
     "ename": "KeyError",
     "evalue": "\"None of [Int64Index([3, 3, 3, 3, 3, 3, 3, 3, 3, 3,\\n            ...\\n            2, 2, 2, 2, 2, 2, 2, 2, 2, 1],\\n           dtype='int64', length=6915)] are in the [columns]\"",
     "traceback": [
      "\u001b[0;31m---------------------------------------------------------------------------\u001b[0m",
      "\u001b[0;31mKeyError\u001b[0m                                  Traceback (most recent call last)",
      "\u001b[0;32m<ipython-input-52-18d0ec9c8c1b>\u001b[0m in \u001b[0;36m<module>\u001b[0;34m\u001b[0m\n\u001b[0;32m----> 1\u001b[0;31m \u001b[0msame_stops\u001b[0m \u001b[0;34m=\u001b[0m \u001b[0mall_stops\u001b[0m\u001b[0;34m[\u001b[0m\u001b[0mall_stops\u001b[0m\u001b[0;34m[\u001b[0m\u001b[0;34m'same_actv'\u001b[0m\u001b[0;34m]\u001b[0m\u001b[0;34m]\u001b[0m\u001b[0;34m\u001b[0m\u001b[0;34m\u001b[0m\u001b[0m\n\u001b[0m\u001b[1;32m      2\u001b[0m \u001b[0msame_stops\u001b[0m\u001b[0;34m.\u001b[0m\u001b[0minfo\u001b[0m\u001b[0;34m(\u001b[0m\u001b[0;34m)\u001b[0m\u001b[0;34m\u001b[0m\u001b[0;34m\u001b[0m\u001b[0m\n",
      "\u001b[0;32m/usr/local/anaconda3/lib/python3.7/site-packages/geopandas/geodataframe.py\u001b[0m in \u001b[0;36m__getitem__\u001b[0;34m(self, key)\u001b[0m\n\u001b[1;32m    544\u001b[0m         \u001b[0mGeoDataFrame\u001b[0m\u001b[0;34m.\u001b[0m\u001b[0;34m\u001b[0m\u001b[0;34m\u001b[0m\u001b[0m\n\u001b[1;32m    545\u001b[0m         \"\"\"\n\u001b[0;32m--> 546\u001b[0;31m         \u001b[0mresult\u001b[0m \u001b[0;34m=\u001b[0m \u001b[0msuper\u001b[0m\u001b[0;34m(\u001b[0m\u001b[0mGeoDataFrame\u001b[0m\u001b[0;34m,\u001b[0m \u001b[0mself\u001b[0m\u001b[0;34m)\u001b[0m\u001b[0;34m.\u001b[0m\u001b[0m__getitem__\u001b[0m\u001b[0;34m(\u001b[0m\u001b[0mkey\u001b[0m\u001b[0;34m)\u001b[0m\u001b[0;34m\u001b[0m\u001b[0;34m\u001b[0m\u001b[0m\n\u001b[0m\u001b[1;32m    547\u001b[0m         \u001b[0mgeo_col\u001b[0m \u001b[0;34m=\u001b[0m \u001b[0mself\u001b[0m\u001b[0;34m.\u001b[0m\u001b[0m_geometry_column_name\u001b[0m\u001b[0;34m\u001b[0m\u001b[0;34m\u001b[0m\u001b[0m\n\u001b[1;32m    548\u001b[0m         \u001b[0;32mif\u001b[0m \u001b[0misinstance\u001b[0m\u001b[0;34m(\u001b[0m\u001b[0mkey\u001b[0m\u001b[0;34m,\u001b[0m \u001b[0mstring_types\u001b[0m\u001b[0;34m)\u001b[0m \u001b[0;32mand\u001b[0m \u001b[0mkey\u001b[0m \u001b[0;34m==\u001b[0m \u001b[0mgeo_col\u001b[0m\u001b[0;34m:\u001b[0m\u001b[0;34m\u001b[0m\u001b[0;34m\u001b[0m\u001b[0m\n",
      "\u001b[0;32m/usr/local/anaconda3/lib/python3.7/site-packages/pandas/core/frame.py\u001b[0m in \u001b[0;36m__getitem__\u001b[0;34m(self, key)\u001b[0m\n\u001b[1;32m   2804\u001b[0m             \u001b[0;32mif\u001b[0m \u001b[0mis_iterator\u001b[0m\u001b[0;34m(\u001b[0m\u001b[0mkey\u001b[0m\u001b[0;34m)\u001b[0m\u001b[0;34m:\u001b[0m\u001b[0;34m\u001b[0m\u001b[0;34m\u001b[0m\u001b[0m\n\u001b[1;32m   2805\u001b[0m                 \u001b[0mkey\u001b[0m \u001b[0;34m=\u001b[0m \u001b[0mlist\u001b[0m\u001b[0;34m(\u001b[0m\u001b[0mkey\u001b[0m\u001b[0;34m)\u001b[0m\u001b[0;34m\u001b[0m\u001b[0;34m\u001b[0m\u001b[0m\n\u001b[0;32m-> 2806\u001b[0;31m             \u001b[0mindexer\u001b[0m \u001b[0;34m=\u001b[0m \u001b[0mself\u001b[0m\u001b[0;34m.\u001b[0m\u001b[0mloc\u001b[0m\u001b[0;34m.\u001b[0m\u001b[0m_get_listlike_indexer\u001b[0m\u001b[0;34m(\u001b[0m\u001b[0mkey\u001b[0m\u001b[0;34m,\u001b[0m \u001b[0maxis\u001b[0m\u001b[0;34m=\u001b[0m\u001b[0;36m1\u001b[0m\u001b[0;34m,\u001b[0m \u001b[0mraise_missing\u001b[0m\u001b[0;34m=\u001b[0m\u001b[0;32mTrue\u001b[0m\u001b[0;34m)\u001b[0m\u001b[0;34m[\u001b[0m\u001b[0;36m1\u001b[0m\u001b[0;34m]\u001b[0m\u001b[0;34m\u001b[0m\u001b[0;34m\u001b[0m\u001b[0m\n\u001b[0m\u001b[1;32m   2807\u001b[0m \u001b[0;34m\u001b[0m\u001b[0m\n\u001b[1;32m   2808\u001b[0m         \u001b[0;31m# take() does not accept boolean indexers\u001b[0m\u001b[0;34m\u001b[0m\u001b[0;34m\u001b[0m\u001b[0;34m\u001b[0m\u001b[0m\n",
      "\u001b[0;32m/usr/local/anaconda3/lib/python3.7/site-packages/pandas/core/indexing.py\u001b[0m in \u001b[0;36m_get_listlike_indexer\u001b[0;34m(self, key, axis, raise_missing)\u001b[0m\n\u001b[1;32m   1551\u001b[0m \u001b[0;34m\u001b[0m\u001b[0m\n\u001b[1;32m   1552\u001b[0m         self._validate_read_indexer(\n\u001b[0;32m-> 1553\u001b[0;31m             \u001b[0mkeyarr\u001b[0m\u001b[0;34m,\u001b[0m \u001b[0mindexer\u001b[0m\u001b[0;34m,\u001b[0m \u001b[0mo\u001b[0m\u001b[0;34m.\u001b[0m\u001b[0m_get_axis_number\u001b[0m\u001b[0;34m(\u001b[0m\u001b[0maxis\u001b[0m\u001b[0;34m)\u001b[0m\u001b[0;34m,\u001b[0m \u001b[0mraise_missing\u001b[0m\u001b[0;34m=\u001b[0m\u001b[0mraise_missing\u001b[0m\u001b[0;34m\u001b[0m\u001b[0;34m\u001b[0m\u001b[0m\n\u001b[0m\u001b[1;32m   1554\u001b[0m         )\n\u001b[1;32m   1555\u001b[0m         \u001b[0;32mreturn\u001b[0m \u001b[0mkeyarr\u001b[0m\u001b[0;34m,\u001b[0m \u001b[0mindexer\u001b[0m\u001b[0;34m\u001b[0m\u001b[0;34m\u001b[0m\u001b[0m\n",
      "\u001b[0;32m/usr/local/anaconda3/lib/python3.7/site-packages/pandas/core/indexing.py\u001b[0m in \u001b[0;36m_validate_read_indexer\u001b[0;34m(self, key, indexer, axis, raise_missing)\u001b[0m\n\u001b[1;32m   1638\u001b[0m             \u001b[0;32mif\u001b[0m \u001b[0mmissing\u001b[0m \u001b[0;34m==\u001b[0m \u001b[0mlen\u001b[0m\u001b[0;34m(\u001b[0m\u001b[0mindexer\u001b[0m\u001b[0;34m)\u001b[0m\u001b[0;34m:\u001b[0m\u001b[0;34m\u001b[0m\u001b[0;34m\u001b[0m\u001b[0m\n\u001b[1;32m   1639\u001b[0m                 \u001b[0maxis_name\u001b[0m \u001b[0;34m=\u001b[0m \u001b[0mself\u001b[0m\u001b[0;34m.\u001b[0m\u001b[0mobj\u001b[0m\u001b[0;34m.\u001b[0m\u001b[0m_get_axis_name\u001b[0m\u001b[0;34m(\u001b[0m\u001b[0maxis\u001b[0m\u001b[0;34m)\u001b[0m\u001b[0;34m\u001b[0m\u001b[0;34m\u001b[0m\u001b[0m\n\u001b[0;32m-> 1640\u001b[0;31m                 \u001b[0;32mraise\u001b[0m \u001b[0mKeyError\u001b[0m\u001b[0;34m(\u001b[0m\u001b[0;34mf\"None of [{key}] are in the [{axis_name}]\"\u001b[0m\u001b[0;34m)\u001b[0m\u001b[0;34m\u001b[0m\u001b[0;34m\u001b[0m\u001b[0m\n\u001b[0m\u001b[1;32m   1641\u001b[0m \u001b[0;34m\u001b[0m\u001b[0m\n\u001b[1;32m   1642\u001b[0m             \u001b[0;31m# We (temporarily) allow for some missing keys with .loc, except in\u001b[0m\u001b[0;34m\u001b[0m\u001b[0;34m\u001b[0m\u001b[0;34m\u001b[0m\u001b[0m\n",
      "\u001b[0;31mKeyError\u001b[0m: \"None of [Int64Index([3, 3, 3, 3, 3, 3, 3, 3, 3, 3,\\n            ...\\n            2, 2, 2, 2, 2, 2, 2, 2, 2, 1],\\n           dtype='int64', length=6915)] are in the [columns]\""
     ]
    }
   ],
   "source": [
    "same_stops = all_stops[all_stops['same_actv']]\n",
    "same_stops.info()"
   ]
  },
  {
   "cell_type": "code",
   "execution_count": 53,
   "metadata": {},
   "outputs": [
    {
     "output_type": "error",
     "ename": "NameError",
     "evalue": "name 'same_stops' is not defined",
     "traceback": [
      "\u001b[0;31m---------------------------------------------------------------------------\u001b[0m",
      "\u001b[0;31mNameError\u001b[0m                                 Traceback (most recent call last)",
      "\u001b[0;32m<ipython-input-53-a3ed5ed87b41>\u001b[0m in \u001b[0;36m<module>\u001b[0;34m\u001b[0m\n\u001b[0;32m----> 1\u001b[0;31m \u001b[0msame_stops\u001b[0m\u001b[0;34m[\u001b[0m\u001b[0;34m[\u001b[0m\u001b[0;34m'same_geom'\u001b[0m\u001b[0;34m]\u001b[0m\u001b[0;34m]\u001b[0m\u001b[0;34m.\u001b[0m\u001b[0msum\u001b[0m\u001b[0;34m(\u001b[0m\u001b[0;34m)\u001b[0m\u001b[0;34m\u001b[0m\u001b[0;34m\u001b[0m\u001b[0m\n\u001b[0m",
      "\u001b[0;31mNameError\u001b[0m: name 'same_stops' is not defined"
     ]
    }
   ],
   "source": [
    "same_stops[['same_geom']].sum()"
   ]
  },
  {
   "cell_type": "code",
   "execution_count": 54,
   "metadata": {},
   "outputs": [
    {
     "output_type": "error",
     "ename": "NameError",
     "evalue": "name 'gdf_stops_blocks' is not defined",
     "traceback": [
      "\u001b[0;31m---------------------------------------------------------------------------\u001b[0m",
      "\u001b[0;31mNameError\u001b[0m                                 Traceback (most recent call last)",
      "\u001b[0;32m<ipython-input-54-88c5abd2b6c8>\u001b[0m in \u001b[0;36m<module>\u001b[0;34m\u001b[0m\n\u001b[0;32m----> 1\u001b[0;31m \u001b[0mblock_stops\u001b[0m \u001b[0;34m=\u001b[0m \u001b[0mgdf_stops_blocks\u001b[0m\u001b[0;34m.\u001b[0m\u001b[0mBLOCK\u001b[0m\u001b[0;34m.\u001b[0m\u001b[0mvalue_counts\u001b[0m\u001b[0;34m(\u001b[0m\u001b[0;34m)\u001b[0m\u001b[0;34m\u001b[0m\u001b[0;34m\u001b[0m\u001b[0m\n\u001b[0m\u001b[1;32m      2\u001b[0m \u001b[0mlen\u001b[0m\u001b[0;34m(\u001b[0m\u001b[0mblock_stops\u001b[0m\u001b[0;34m)\u001b[0m\u001b[0;34m\u001b[0m\u001b[0;34m\u001b[0m\u001b[0m\n",
      "\u001b[0;31mNameError\u001b[0m: name 'gdf_stops_blocks' is not defined"
     ]
    }
   ],
   "source": [
    "block_stops = gdf_stops_blocks.BLOCK.value_counts()\n",
    "len(block_stops)"
   ]
  },
  {
   "cell_type": "code",
   "execution_count": 55,
   "metadata": {},
   "outputs": [],
   "source": [
    "# all_stops[all_stops.same_geom == False]"
   ]
  },
  {
   "cell_type": "code",
   "execution_count": 56,
   "metadata": {
    "tags": []
   },
   "outputs": [],
   "source": [
    "# gdf_stops_202004_blocks[['BLOCK','geometry']].info()"
   ]
  },
  {
   "cell_type": "code",
   "execution_count": null,
   "metadata": {},
   "outputs": [],
   "source": []
  },
  {
   "cell_type": "code",
   "execution_count": 57,
   "metadata": {},
   "outputs": [],
   "source": [
    "def buffer_stops(stops_gdf, geo_col='geometry', buffer=.01):\n",
    "\n",
    "    gdf = stops_gdf.copy()\n",
    "    \n",
    "    gdf['geometry'] = gdf.buffer(buffer)\n",
    "    gdf = gdf.set_geometry('geometry')\n",
    "\n",
    "    return gdf"
   ]
  },
  {
   "cell_type": "code",
   "execution_count": 58,
   "metadata": {},
   "outputs": [
    {
     "output_type": "execute_result",
     "data": {
      "text/plain": "          stop_id                                           geometry\nstop_code                                                           \n25316       25316  POLYGON ((-98.50103 29.49901, -98.50107 29.498...\n72479       72479  POLYGON ((-98.50949 29.47449, -98.50952 29.473...\n56239       56239  POLYGON ((-98.49702 29.44188, -98.49706 29.441...\n76759       76759  POLYGON ((-98.49631 29.43008, -98.49634 29.429...\n88973       88973  POLYGON ((-98.48799 29.42407, -98.48802 29.423...",
      "text/html": "<div>\n<style scoped>\n    .dataframe tbody tr th:only-of-type {\n        vertical-align: middle;\n    }\n\n    .dataframe tbody tr th {\n        vertical-align: top;\n    }\n\n    .dataframe thead th {\n        text-align: right;\n    }\n</style>\n<table border=\"1\" class=\"dataframe\">\n  <thead>\n    <tr style=\"text-align: right;\">\n      <th></th>\n      <th>stop_id</th>\n      <th>geometry</th>\n    </tr>\n    <tr>\n      <th>stop_code</th>\n      <th></th>\n      <th></th>\n    </tr>\n  </thead>\n  <tbody>\n    <tr>\n      <th>25316</th>\n      <td>25316</td>\n      <td>POLYGON ((-98.50103 29.49901, -98.50107 29.498...</td>\n    </tr>\n    <tr>\n      <th>72479</th>\n      <td>72479</td>\n      <td>POLYGON ((-98.50949 29.47449, -98.50952 29.473...</td>\n    </tr>\n    <tr>\n      <th>56239</th>\n      <td>56239</td>\n      <td>POLYGON ((-98.49702 29.44188, -98.49706 29.441...</td>\n    </tr>\n    <tr>\n      <th>76759</th>\n      <td>76759</td>\n      <td>POLYGON ((-98.49631 29.43008, -98.49634 29.429...</td>\n    </tr>\n    <tr>\n      <th>88973</th>\n      <td>88973</td>\n      <td>POLYGON ((-98.48799 29.42407, -98.48802 29.423...</td>\n    </tr>\n  </tbody>\n</table>\n</div>"
     },
     "metadata": {},
     "execution_count": 58
    }
   ],
   "source": [
    "gdf_stops_202004_buff = buffer_stops(gdf_stops_202004[['stop_id','geometry']], buffer=buffer_in_degrees)\n",
    "\n",
    "gdf_stops_202004_buff.head()"
   ]
  },
  {
   "cell_type": "code",
   "execution_count": 59,
   "metadata": {
    "tags": []
   },
   "outputs": [
    {
     "output_type": "stream",
     "name": "stdout",
     "text": "<class 'geopandas.geodataframe.GeoDataFrame'>\nIndex: 6491 entries, 25316 to 74369\nData columns (total 2 columns):\n #   Column    Non-Null Count  Dtype   \n---  ------    --------------  -----   \n 0   stop_id   6491 non-null   string  \n 1   geometry  6491 non-null   geometry\ndtypes: geometry(1), string(1)\nmemory usage: 152.1+ KB\n"
    }
   ],
   "source": [
    "gdf_stops_202004_buff.info()"
   ]
  },
  {
   "cell_type": "code",
   "execution_count": 60,
   "metadata": {},
   "outputs": [],
   "source": [
    "def match_stops(stops_gdf, area_gdf, stops_geo='geometry', area_geo='geometry'):\n",
    "    sidx_name = stops_gdf.index.name\n",
    "    aidx_name = area_gdf.index.name\n",
    "    sidx_geo = sidx_name + '_geo'\n",
    "    aidx_geo = aidx_name + 'geo'\n",
    "    sgdf = stops_gdf[[stops_geo]].copy().reset_index()\n",
    "    agdf = area_gdf[[area_geo]].copy().reset_index()\n",
    "    \n",
    "    return sidx_name\n",
    "\n",
    "# check_match = match_stops(area_gdf=gdf_blocks[['geometry']], stops_gdf=gdf_stops_202004_buff)\n",
    "# check_match"
   ]
  },
  {
   "cell_type": "code",
   "execution_count": 61,
   "metadata": {},
   "outputs": [
    {
     "output_type": "error",
     "ename": "NameError",
     "evalue": "name 'gdf_stops_buff' is not defined",
     "traceback": [
      "\u001b[0;31m---------------------------------------------------------------------------\u001b[0m",
      "\u001b[0;31mNameError\u001b[0m                                 Traceback (most recent call last)",
      "\u001b[0;32m<ipython-input-61-4cd3864cfb72>\u001b[0m in \u001b[0;36m<module>\u001b[0;34m\u001b[0m\n\u001b[1;32m      1\u001b[0m \u001b[0;31m# gdf_stops_blocks = gpd.sjoin(gdf_blocks[['BLOCK','geometry']], gdf_stops_202004_buff, how='inner', op='intersects')\u001b[0m\u001b[0;34m\u001b[0m\u001b[0;34m\u001b[0m\u001b[0;34m\u001b[0m\u001b[0m\n\u001b[0;32m----> 2\u001b[0;31m \u001b[0mgdf_stops_blocks\u001b[0m \u001b[0;34m=\u001b[0m \u001b[0mgpd\u001b[0m\u001b[0;34m.\u001b[0m\u001b[0msjoin\u001b[0m\u001b[0;34m(\u001b[0m\u001b[0mgdf_stops_buff\u001b[0m\u001b[0;34m,\u001b[0m \u001b[0mgdf_blocks\u001b[0m\u001b[0;34m[\u001b[0m\u001b[0;34m[\u001b[0m\u001b[0;34m'BLOCK'\u001b[0m\u001b[0;34m,\u001b[0m\u001b[0;34m'geometry'\u001b[0m\u001b[0;34m]\u001b[0m\u001b[0;34m]\u001b[0m\u001b[0;34m,\u001b[0m \u001b[0mhow\u001b[0m\u001b[0;34m=\u001b[0m\u001b[0;34m'inner'\u001b[0m\u001b[0;34m,\u001b[0m \u001b[0mop\u001b[0m\u001b[0;34m=\u001b[0m\u001b[0;34m'intersects'\u001b[0m\u001b[0;34m)\u001b[0m\u001b[0;34m\u001b[0m\u001b[0;34m\u001b[0m\u001b[0m\n\u001b[0m\u001b[1;32m      3\u001b[0m \u001b[0mgdf_stops_blocks\u001b[0m \u001b[0;34m=\u001b[0m \u001b[0mgdf_stops_blocks\u001b[0m\u001b[0;34m[\u001b[0m\u001b[0;34m[\u001b[0m\u001b[0;34m'BLOCK'\u001b[0m\u001b[0;34m,\u001b[0m\u001b[0;34m'stop_id'\u001b[0m\u001b[0;34m,\u001b[0m\u001b[0;34m'geometry'\u001b[0m\u001b[0;34m]\u001b[0m\u001b[0;34m]\u001b[0m\u001b[0;34m\u001b[0m\u001b[0;34m\u001b[0m\u001b[0m\n\u001b[1;32m      4\u001b[0m \u001b[0;31m# gdf_stops_blocks = gdf_stops_blocks.rename(columns={'index_right':'stop_id'})\u001b[0m\u001b[0;34m\u001b[0m\u001b[0;34m\u001b[0m\u001b[0;34m\u001b[0m\u001b[0m\n\u001b[1;32m      5\u001b[0m \u001b[0mgdf_stops_blocks\u001b[0m\u001b[0;34m.\u001b[0m\u001b[0mhead\u001b[0m\u001b[0;34m(\u001b[0m\u001b[0;36m5\u001b[0m\u001b[0;34m)\u001b[0m\u001b[0;34m\u001b[0m\u001b[0;34m\u001b[0m\u001b[0m\n",
      "\u001b[0;31mNameError\u001b[0m: name 'gdf_stops_buff' is not defined"
     ]
    }
   ],
   "source": [
    "# gdf_stops_blocks = gpd.sjoin(gdf_blocks[['BLOCK','geometry']], gdf_stops_202004_buff, how='inner', op='intersects')\n",
    "gdf_stops_blocks = gpd.sjoin(gdf_stops_buff, gdf_blocks[['BLOCK','geometry']], how='inner', op='intersects')\n",
    "gdf_stops_blocks = gdf_stops_blocks[['BLOCK','stop_id','geometry']]\n",
    "# gdf_stops_blocks = gdf_stops_blocks.rename(columns={'index_right':'stop_id'})\n",
    "gdf_stops_blocks.head(5)"
   ]
  },
  {
   "cell_type": "code",
   "execution_count": 62,
   "metadata": {
    "tags": []
   },
   "outputs": [
    {
     "output_type": "error",
     "ename": "NameError",
     "evalue": "name 'gdf_stops_blocks' is not defined",
     "traceback": [
      "\u001b[0;31m---------------------------------------------------------------------------\u001b[0m",
      "\u001b[0;31mNameError\u001b[0m                                 Traceback (most recent call last)",
      "\u001b[0;32m<ipython-input-62-61b63251b8d2>\u001b[0m in \u001b[0;36m<module>\u001b[0;34m\u001b[0m\n\u001b[0;32m----> 1\u001b[0;31m \u001b[0mgdf_stops_blocks\u001b[0m\u001b[0;34m.\u001b[0m\u001b[0minfo\u001b[0m\u001b[0;34m(\u001b[0m\u001b[0;34m)\u001b[0m\u001b[0;34m\u001b[0m\u001b[0;34m\u001b[0m\u001b[0m\n\u001b[0m",
      "\u001b[0;31mNameError\u001b[0m: name 'gdf_stops_blocks' is not defined"
     ]
    }
   ],
   "source": [
    "gdf_stops_blocks.info()"
   ]
  },
  {
   "cell_type": "code",
   "execution_count": 63,
   "metadata": {},
   "outputs": [
    {
     "output_type": "error",
     "ename": "NameError",
     "evalue": "name 'gdf_stops_blocks' is not defined",
     "traceback": [
      "\u001b[0;31m---------------------------------------------------------------------------\u001b[0m",
      "\u001b[0;31mNameError\u001b[0m                                 Traceback (most recent call last)",
      "\u001b[0;32m<ipython-input-63-21c3cdea8761>\u001b[0m in \u001b[0;36m<module>\u001b[0;34m\u001b[0m\n\u001b[0;32m----> 1\u001b[0;31m \u001b[0mstop_blocks\u001b[0m \u001b[0;34m=\u001b[0m \u001b[0mgdf_stops_blocks\u001b[0m\u001b[0;34m.\u001b[0m\u001b[0mstop_id\u001b[0m\u001b[0;34m.\u001b[0m\u001b[0mvalue_counts\u001b[0m\u001b[0;34m(\u001b[0m\u001b[0;34m)\u001b[0m\u001b[0;34m\u001b[0m\u001b[0;34m\u001b[0m\u001b[0m\n\u001b[0m\u001b[1;32m      2\u001b[0m \u001b[0mlen\u001b[0m\u001b[0;34m(\u001b[0m\u001b[0mstop_blocks\u001b[0m\u001b[0;34m)\u001b[0m\u001b[0;34m\u001b[0m\u001b[0;34m\u001b[0m\u001b[0m\n",
      "\u001b[0;31mNameError\u001b[0m: name 'gdf_stops_blocks' is not defined"
     ]
    }
   ],
   "source": [
    "stop_blocks = gdf_stops_blocks.stop_id.value_counts()\n",
    "len(stop_blocks)"
   ]
  },
  {
   "cell_type": "code",
   "execution_count": 64,
   "metadata": {},
   "outputs": [
    {
     "output_type": "error",
     "ename": "NameError",
     "evalue": "name 'gdf_stops_blocks' is not defined",
     "traceback": [
      "\u001b[0;31m---------------------------------------------------------------------------\u001b[0m",
      "\u001b[0;31mNameError\u001b[0m                                 Traceback (most recent call last)",
      "\u001b[0;32m<ipython-input-64-4a8371fa8265>\u001b[0m in \u001b[0;36m<module>\u001b[0;34m\u001b[0m\n\u001b[0;32m----> 1\u001b[0;31m \u001b[0mgdf_stops_blocks\u001b[0m\u001b[0;34m[\u001b[0m\u001b[0;34m[\u001b[0m\u001b[0;34m'BLOCK'\u001b[0m\u001b[0;34m,\u001b[0m\u001b[0;34m'geometry'\u001b[0m\u001b[0;34m]\u001b[0m\u001b[0;34m]\u001b[0m\u001b[0;34m.\u001b[0m\u001b[0mhead\u001b[0m\u001b[0;34m(\u001b[0m\u001b[0;34m)\u001b[0m\u001b[0;34m\u001b[0m\u001b[0;34m\u001b[0m\u001b[0m\n\u001b[0m",
      "\u001b[0;31mNameError\u001b[0m: name 'gdf_stops_blocks' is not defined"
     ]
    }
   ],
   "source": [
    "gdf_stops_blocks[['BLOCK','geometry']].head()"
   ]
  },
  {
   "cell_type": "code",
   "execution_count": 64,
   "metadata": {},
   "outputs": [],
   "source": [
    "\n"
   ]
  },
  {
   "cell_type": "code",
   "execution_count": 65,
   "metadata": {},
   "outputs": [],
   "source": [
    "#######################################\n",
    "###\n",
    "### via datathon 2020\n",
    "###\n",
    "### on time performance\n",
    "###\n",
    "#######################################"
   ]
  },
  {
   "cell_type": "code",
   "execution_count": 66,
   "metadata": {
    "tags": []
   },
   "outputs": [
    {
     "output_type": "stream",
     "name": "stdout",
     "text": "<class 'pandas.core.frame.DataFrame'>\nRangeIndex: 107319 entries, 0 to 107318\nData columns (total 10 columns):\n #   Column            Non-Null Count   Dtype  \n---  ------            --------------   -----  \n 0   ServiceDateTime   107319 non-null  object \n 1   Route             107319 non-null  int64  \n 2   RouteName         107319 non-null  object \n 3   EarlyDeparture    107319 non-null  int64  \n 4   OnTime            107319 non-null  int64  \n 5   LateArrival       107319 non-null  int64  \n 6   Missing           107319 non-null  int64  \n 7   TimePointCount    107319 non-null  int64  \n 8   OTP               107156 non-null  float64\n 9   AverageDwellTime  107155 non-null  float64\ndtypes: float64(2), int64(6), object(2)\nmemory usage: 8.2+ MB\n"
    }
   ],
   "source": [
    "df_otp = pd.read_csv(files['bus_otp_2020'])\n",
    "df_otp.info()"
   ]
  },
  {
   "cell_type": "code",
   "execution_count": 67,
   "metadata": {},
   "outputs": [
    {
     "output_type": "execute_result",
     "data": {
      "text/plain": "Index(['ServiceDateTime', 'Route', 'RouteName', 'EarlyDeparture', 'OnTime',\n       'LateArrival', 'Missing', 'TimePointCount', 'OTP', 'AverageDwellTime'],\n      dtype='object')"
     },
     "metadata": {},
     "execution_count": 67
    }
   ],
   "source": [
    "df_otp.columns"
   ]
  },
  {
   "cell_type": "code",
   "execution_count": 68,
   "metadata": {},
   "outputs": [
    {
     "output_type": "execute_result",
     "data": {
      "text/plain": "  ServiceDateTime  Route           RouteName  EarlyDeparture  OnTime  \\\n0         2/12/18      2              BLANCO              83     626   \n1         2/12/18      3      SAN PEDRO SKIP               5     518   \n2         2/12/18      4  SAN PEDRO Frequent              21     454   \n3         2/12/18      5          McCULLOUGH               7     403   \n4         2/12/18      6      US-281 Express               1      54   \n\n   LateArrival  Missing  TimePointCount    OTP  AverageDwellTime  \n0           87       82             796  78.64            103.97  \n1           78       11             601  86.19            167.29  \n2          109      130             584  77.74             78.31  \n3           30       10             440  91.59            211.44  \n4           22       11              77  70.13            163.19  ",
      "text/html": "<div>\n<style scoped>\n    .dataframe tbody tr th:only-of-type {\n        vertical-align: middle;\n    }\n\n    .dataframe tbody tr th {\n        vertical-align: top;\n    }\n\n    .dataframe thead th {\n        text-align: right;\n    }\n</style>\n<table border=\"1\" class=\"dataframe\">\n  <thead>\n    <tr style=\"text-align: right;\">\n      <th></th>\n      <th>ServiceDateTime</th>\n      <th>Route</th>\n      <th>RouteName</th>\n      <th>EarlyDeparture</th>\n      <th>OnTime</th>\n      <th>LateArrival</th>\n      <th>Missing</th>\n      <th>TimePointCount</th>\n      <th>OTP</th>\n      <th>AverageDwellTime</th>\n    </tr>\n  </thead>\n  <tbody>\n    <tr>\n      <th>0</th>\n      <td>2/12/18</td>\n      <td>2</td>\n      <td>BLANCO</td>\n      <td>83</td>\n      <td>626</td>\n      <td>87</td>\n      <td>82</td>\n      <td>796</td>\n      <td>78.64</td>\n      <td>103.97</td>\n    </tr>\n    <tr>\n      <th>1</th>\n      <td>2/12/18</td>\n      <td>3</td>\n      <td>SAN PEDRO SKIP</td>\n      <td>5</td>\n      <td>518</td>\n      <td>78</td>\n      <td>11</td>\n      <td>601</td>\n      <td>86.19</td>\n      <td>167.29</td>\n    </tr>\n    <tr>\n      <th>2</th>\n      <td>2/12/18</td>\n      <td>4</td>\n      <td>SAN PEDRO Frequent</td>\n      <td>21</td>\n      <td>454</td>\n      <td>109</td>\n      <td>130</td>\n      <td>584</td>\n      <td>77.74</td>\n      <td>78.31</td>\n    </tr>\n    <tr>\n      <th>3</th>\n      <td>2/12/18</td>\n      <td>5</td>\n      <td>McCULLOUGH</td>\n      <td>7</td>\n      <td>403</td>\n      <td>30</td>\n      <td>10</td>\n      <td>440</td>\n      <td>91.59</td>\n      <td>211.44</td>\n    </tr>\n    <tr>\n      <th>4</th>\n      <td>2/12/18</td>\n      <td>6</td>\n      <td>US-281 Express</td>\n      <td>1</td>\n      <td>54</td>\n      <td>22</td>\n      <td>11</td>\n      <td>77</td>\n      <td>70.13</td>\n      <td>163.19</td>\n    </tr>\n  </tbody>\n</table>\n</div>"
     },
     "metadata": {},
     "execution_count": 68
    }
   ],
   "source": [
    "df_otp.head()"
   ]
  },
  {
   "cell_type": "code",
   "execution_count": null,
   "metadata": {},
   "outputs": [],
   "source": []
  },
  {
   "cell_type": "code",
   "execution_count": 69,
   "metadata": {},
   "outputs": [],
   "source": [
    "#######################################\n",
    "###\n",
    "### via datathon 2020\n",
    "###\n",
    "### fare box activity\n",
    "###\n",
    "#######################################"
   ]
  },
  {
   "cell_type": "code",
   "execution_count": 70,
   "metadata": {
    "tags": []
   },
   "outputs": [
    {
     "output_type": "stream",
     "name": "stdout",
     "text": "<class 'pandas.core.frame.DataFrame'>\nInt64Index: 89623 entries, 0 to 89622\nData columns (total 11 columns):\n #   Column               Non-Null Count  Dtype  \n---  ------               --------------  -----  \n 0   ServiceDateTime      89623 non-null  object \n 1   Route                89623 non-null  int64  \n 2   RouteName            87728 non-null  object \n 3   CurrentRevenue       89623 non-null  float64\n 4   Ridership            89623 non-null  int64  \n 5   TokenCount           89623 non-null  int64  \n 6   TicketCount          89623 non-null  int64  \n 7   PassCount            89623 non-null  int64  \n 8   BillCount            89623 non-null  int64  \n 9   UnclassifiedRevenue  89623 non-null  float64\n 10  DumpCount            89623 non-null  int64  \ndtypes: float64(2), int64(7), object(2)\nmemory usage: 8.2+ MB\n"
    }
   ],
   "source": [
    "df_fare = pd.read_csv(files['bus_fare_box_2020'], index_col=0)\n",
    "df_fare.info()"
   ]
  },
  {
   "cell_type": "code",
   "execution_count": 71,
   "metadata": {},
   "outputs": [
    {
     "output_type": "execute_result",
     "data": {
      "text/plain": "Index(['ServiceDateTime', 'Route', 'RouteName', 'CurrentRevenue', 'Ridership',\n       'TokenCount', 'TicketCount', 'PassCount', 'BillCount',\n       'UnclassifiedRevenue', 'DumpCount'],\n      dtype='object')"
     },
     "metadata": {},
     "execution_count": 71
    }
   ],
   "source": [
    "df_fare.columns"
   ]
  },
  {
   "cell_type": "code",
   "execution_count": 72,
   "metadata": {},
   "outputs": [
    {
     "output_type": "execute_result",
     "data": {
      "text/plain": "  ServiceDateTime  Route      RouteName  CurrentRevenue  Ridership  \\\n0      2017-01-01      2   2-BLANCO RD.          510.82       1244   \n1      2017-01-01      3    3-SAN PEDRO          203.93        689   \n2      2017-01-01      4    4-SAN PEDRO          356.58       1377   \n3      2017-01-01      5  5-MC CULLOUGH          224.80        474   \n4      2017-01-01      8   8-N.ST.MARYS          252.29        471   \n\n   TokenCount  TicketCount  PassCount  BillCount  UnclassifiedRevenue  \\\n0           0            0        588        312                20.88   \n1           0            0        371        119                 9.55   \n2           0            0        671        230                20.44   \n3           0            0        239        124                19.50   \n4           0            0        214        147                 6.45   \n\n   DumpCount  \n0        116  \n1         49  \n2         94  \n3         64  \n4         53  ",
      "text/html": "<div>\n<style scoped>\n    .dataframe tbody tr th:only-of-type {\n        vertical-align: middle;\n    }\n\n    .dataframe tbody tr th {\n        vertical-align: top;\n    }\n\n    .dataframe thead th {\n        text-align: right;\n    }\n</style>\n<table border=\"1\" class=\"dataframe\">\n  <thead>\n    <tr style=\"text-align: right;\">\n      <th></th>\n      <th>ServiceDateTime</th>\n      <th>Route</th>\n      <th>RouteName</th>\n      <th>CurrentRevenue</th>\n      <th>Ridership</th>\n      <th>TokenCount</th>\n      <th>TicketCount</th>\n      <th>PassCount</th>\n      <th>BillCount</th>\n      <th>UnclassifiedRevenue</th>\n      <th>DumpCount</th>\n    </tr>\n  </thead>\n  <tbody>\n    <tr>\n      <th>0</th>\n      <td>2017-01-01</td>\n      <td>2</td>\n      <td>2-BLANCO RD.</td>\n      <td>510.82</td>\n      <td>1244</td>\n      <td>0</td>\n      <td>0</td>\n      <td>588</td>\n      <td>312</td>\n      <td>20.88</td>\n      <td>116</td>\n    </tr>\n    <tr>\n      <th>1</th>\n      <td>2017-01-01</td>\n      <td>3</td>\n      <td>3-SAN PEDRO</td>\n      <td>203.93</td>\n      <td>689</td>\n      <td>0</td>\n      <td>0</td>\n      <td>371</td>\n      <td>119</td>\n      <td>9.55</td>\n      <td>49</td>\n    </tr>\n    <tr>\n      <th>2</th>\n      <td>2017-01-01</td>\n      <td>4</td>\n      <td>4-SAN PEDRO</td>\n      <td>356.58</td>\n      <td>1377</td>\n      <td>0</td>\n      <td>0</td>\n      <td>671</td>\n      <td>230</td>\n      <td>20.44</td>\n      <td>94</td>\n    </tr>\n    <tr>\n      <th>3</th>\n      <td>2017-01-01</td>\n      <td>5</td>\n      <td>5-MC CULLOUGH</td>\n      <td>224.80</td>\n      <td>474</td>\n      <td>0</td>\n      <td>0</td>\n      <td>239</td>\n      <td>124</td>\n      <td>19.50</td>\n      <td>64</td>\n    </tr>\n    <tr>\n      <th>4</th>\n      <td>2017-01-01</td>\n      <td>8</td>\n      <td>8-N.ST.MARYS</td>\n      <td>252.29</td>\n      <td>471</td>\n      <td>0</td>\n      <td>0</td>\n      <td>214</td>\n      <td>147</td>\n      <td>6.45</td>\n      <td>53</td>\n    </tr>\n  </tbody>\n</table>\n</div>"
     },
     "metadata": {},
     "execution_count": 72
    }
   ],
   "source": [
    "df_fare.head()"
   ]
  },
  {
   "cell_type": "code",
   "execution_count": 73,
   "metadata": {},
   "outputs": [],
   "source": [
    "#######################################\n",
    "###\n",
    "### via datathon 2020\n",
    "###\n",
    "### message logs\n",
    "###\n",
    "#######################################"
   ]
  },
  {
   "cell_type": "code",
   "execution_count": 74,
   "metadata": {
    "tags": []
   },
   "outputs": [
    {
     "output_type": "stream",
     "name": "stdout",
     "text": "<class 'pandas.core.frame.DataFrame'>\nRangeIndex: 155517 entries, 0 to 155516\nData columns (total 10 columns):\n #   Column             Non-Null Count   Dtype  \n---  ------             --------------   -----  \n 0   dDate              155517 non-null  object \n 1   Local_Timestamp    155517 non-null  object \n 2   Latitude           155517 non-null  float64\n 3   Longitude          155517 non-null  float64\n 4   MESSAGE_TYPE_TEXT  155517 non-null  object \n 5   ADHERENCE          155517 non-null  int64  \n 6   Odometer           155517 non-null  float64\n 7   VehicleNumber      155517 non-null  object \n 8   degLat             0 non-null       float64\n 9   degLong            0 non-null       float64\ndtypes: float64(5), int64(1), object(4)\nmemory usage: 11.9+ MB\n"
    }
   ],
   "source": [
    "df_logs = pd.read_csv(files['message_logs_2020'])\n",
    "df_logs.info()"
   ]
  },
  {
   "cell_type": "code",
   "execution_count": 75,
   "metadata": {},
   "outputs": [
    {
     "output_type": "execute_result",
     "data": {
      "text/plain": "Index(['dDate', 'Local_Timestamp', 'Latitude', 'Longitude',\n       'MESSAGE_TYPE_TEXT', 'ADHERENCE', 'Odometer', 'VehicleNumber', 'degLat',\n       'degLong'],\n      dtype='object')"
     },
     "metadata": {},
     "execution_count": 75
    }
   ],
   "source": [
    "df_logs.columns"
   ]
  },
  {
   "cell_type": "code",
   "execution_count": 76,
   "metadata": {},
   "outputs": [
    {
     "output_type": "execute_result",
     "data": {
      "text/plain": "       dDate  Local_Timestamp  Latitude  Longitude MESSAGE_TYPE_TEXT  \\\n0  2/14/2020  2/14/20 6:56 AM  29.44451  -98.50143  vehicle location   \n1  2/14/2020  2/14/20 6:56 AM  29.44452  -98.50142  vehicle location   \n2  2/14/2020  2/14/20 6:57 AM  29.44452  -98.50142  vehicle location   \n3  2/14/2020  2/14/20 6:57 AM  29.44452  -98.50142  vehicle location   \n4  2/14/2020  2/14/20 6:58 AM  29.44452  -98.50142  vehicle location   \n\n   ADHERENCE  Odometer VehicleNumber  degLat  degLong  \n0          0       0.0           102     NaN      NaN  \n1          0       0.0           102     NaN      NaN  \n2          0       0.0           102     NaN      NaN  \n3          0       0.0           102     NaN      NaN  \n4          0       0.0           102     NaN      NaN  ",
      "text/html": "<div>\n<style scoped>\n    .dataframe tbody tr th:only-of-type {\n        vertical-align: middle;\n    }\n\n    .dataframe tbody tr th {\n        vertical-align: top;\n    }\n\n    .dataframe thead th {\n        text-align: right;\n    }\n</style>\n<table border=\"1\" class=\"dataframe\">\n  <thead>\n    <tr style=\"text-align: right;\">\n      <th></th>\n      <th>dDate</th>\n      <th>Local_Timestamp</th>\n      <th>Latitude</th>\n      <th>Longitude</th>\n      <th>MESSAGE_TYPE_TEXT</th>\n      <th>ADHERENCE</th>\n      <th>Odometer</th>\n      <th>VehicleNumber</th>\n      <th>degLat</th>\n      <th>degLong</th>\n    </tr>\n  </thead>\n  <tbody>\n    <tr>\n      <th>0</th>\n      <td>2/14/2020</td>\n      <td>2/14/20 6:56 AM</td>\n      <td>29.44451</td>\n      <td>-98.50143</td>\n      <td>vehicle location</td>\n      <td>0</td>\n      <td>0.0</td>\n      <td>102</td>\n      <td>NaN</td>\n      <td>NaN</td>\n    </tr>\n    <tr>\n      <th>1</th>\n      <td>2/14/2020</td>\n      <td>2/14/20 6:56 AM</td>\n      <td>29.44452</td>\n      <td>-98.50142</td>\n      <td>vehicle location</td>\n      <td>0</td>\n      <td>0.0</td>\n      <td>102</td>\n      <td>NaN</td>\n      <td>NaN</td>\n    </tr>\n    <tr>\n      <th>2</th>\n      <td>2/14/2020</td>\n      <td>2/14/20 6:57 AM</td>\n      <td>29.44452</td>\n      <td>-98.50142</td>\n      <td>vehicle location</td>\n      <td>0</td>\n      <td>0.0</td>\n      <td>102</td>\n      <td>NaN</td>\n      <td>NaN</td>\n    </tr>\n    <tr>\n      <th>3</th>\n      <td>2/14/2020</td>\n      <td>2/14/20 6:57 AM</td>\n      <td>29.44452</td>\n      <td>-98.50142</td>\n      <td>vehicle location</td>\n      <td>0</td>\n      <td>0.0</td>\n      <td>102</td>\n      <td>NaN</td>\n      <td>NaN</td>\n    </tr>\n    <tr>\n      <th>4</th>\n      <td>2/14/2020</td>\n      <td>2/14/20 6:58 AM</td>\n      <td>29.44452</td>\n      <td>-98.50142</td>\n      <td>vehicle location</td>\n      <td>0</td>\n      <td>0.0</td>\n      <td>102</td>\n      <td>NaN</td>\n      <td>NaN</td>\n    </tr>\n  </tbody>\n</table>\n</div>"
     },
     "metadata": {},
     "execution_count": 76
    }
   ],
   "source": [
    "df_logs.head(5)\n"
   ]
  },
  {
   "cell_type": "code",
   "execution_count": 77,
   "metadata": {},
   "outputs": [
    {
     "output_type": "execute_result",
     "data": {
      "text/plain": "vehicle location     155152\nReturn to Network       365\nName: MESSAGE_TYPE_TEXT, dtype: int64"
     },
     "metadata": {},
     "execution_count": 77
    }
   ],
   "source": [
    "df_logs.MESSAGE_TYPE_TEXT.value_counts()"
   ]
  },
  {
   "cell_type": "code",
   "execution_count": 78,
   "metadata": {},
   "outputs": [
    {
     "output_type": "execute_result",
     "data": {
      "text/plain": "count       82.000000\nmean      1896.548780\nstd       9608.117182\nmin          1.000000\n25%         16.000000\n50%         59.500000\n75%        269.250000\nmax      85096.000000\nName: ADHERENCE, dtype: float64"
     },
     "metadata": {},
     "execution_count": 78
    }
   ],
   "source": [
    "df_logs.ADHERENCE.value_counts().describe()"
   ]
  },
  {
   "cell_type": "code",
   "execution_count": 79,
   "metadata": {
    "tags": []
   },
   "outputs": [
    {
     "output_type": "stream",
     "name": "stdout",
     "text": "704\n"
    },
    {
     "output_type": "execute_result",
     "data": {
      "text/plain": "PD-29     1324\n717        859\nPD-22      689\nPD-23      626\nT-189      602\nT-188      566\nT-116      511\nT-151      476\nT-132      460\n491        440\nC-117      406\nT-100      405\nT-166      394\n982        390\nT-195      385\nT-120      382\n952        371\n970        371\n953        355\nM-2121     351\nName: VehicleNumber, dtype: int64"
     },
     "metadata": {},
     "execution_count": 79
    }
   ],
   "source": [
    "vehicle_ids = df_logs.VehicleNumber.value_counts()\n",
    "print(len(vehicle_ids))\n",
    "vehicle_ids.head(20)"
   ]
  },
  {
   "cell_type": "code",
   "execution_count": 80,
   "metadata": {},
   "outputs": [
    {
     "output_type": "execute_result",
     "data": {
      "text/plain": "           dDate  Local_Timestamp  Latitude  Longitude MESSAGE_TYPE_TEXT  \\\n28851  2/14/2020  2/14/20 6:00 AM  29.45275  -98.51462  vehicle location   \n28852  2/14/2020  2/14/20 6:00 AM  29.45083  -98.51278  vehicle location   \n28853  2/14/2020  2/14/20 6:01 AM  29.44892  -98.51093  vehicle location   \n28854  2/14/2020  2/14/20 6:02 AM  29.44463  -98.50669  vehicle location   \n28855  2/14/2020  2/14/20 6:03 AM  29.44217  -98.50430  vehicle location   \n28856  2/14/2020  2/14/20 6:04 AM  29.44123  -98.50230  vehicle location   \n28857  2/14/2020  2/14/20 6:05 AM  29.43960  -98.49864  vehicle location   \n28858  2/14/2020  2/14/20 6:06 AM  29.43702  -98.49696  vehicle location   \n28859  2/14/2020  2/14/20 6:06 AM  29.43506  -98.49544  vehicle location   \n28860  2/14/2020  2/14/20 6:07 AM  29.43287  -98.49320  vehicle location   \n28861  2/14/2020  2/14/20 6:08 AM  29.43244  -98.49192  vehicle location   \n28862  2/14/2020  2/14/20 6:08 AM  29.43164  -98.49107  vehicle location   \n28863  2/14/2020  2/14/20 6:10 AM  29.42951  -98.49138  vehicle location   \n28864  2/14/2020  2/14/20 6:10 AM  29.42873  -98.49140  vehicle location   \n28865  2/14/2020  2/14/20 6:11 AM  29.42870  -98.49143  vehicle location   \n28866  2/14/2020  2/14/20 6:11 AM  29.42767  -98.49132  vehicle location   \n28867  2/14/2020  2/14/20 6:12 AM  29.42641  -98.49131  vehicle location   \n28868  2/14/2020  2/14/20 6:12 AM  29.42468  -98.49133  vehicle location   \n28869  2/14/2020  2/14/20 6:13 AM  29.42463  -98.49148  vehicle location   \n28870  2/14/2020  2/14/20 6:14 AM  29.42398  -98.49177  vehicle location   \n\n       ADHERENCE  Odometer VehicleNumber  degLat  degLong  \n28851         -1     24.28           450     NaN      NaN  \n28852         -1     24.45           450     NaN      NaN  \n28853         -1     24.63           450     NaN      NaN  \n28854         -1     25.01           450     NaN      NaN  \n28855         -1     25.23           450     NaN      NaN  \n28856         -1     25.37           450     NaN      NaN  \n28857         -1     25.66           450     NaN      NaN  \n28858         -1     25.86           450     NaN      NaN  \n28859          0     26.03           450     NaN      NaN  \n28860          0     26.23           450     NaN      NaN  \n28861          0     26.31           450     NaN      NaN  \n28862          0     26.38           450     NaN      NaN  \n28863          0     26.54           450     NaN      NaN  \n28864         -1     26.59           450     NaN      NaN  \n28865         -1     26.59           450     NaN      NaN  \n28866         -1     26.66           450     NaN      NaN  \n28867         -1     26.75           450     NaN      NaN  \n28868         -1     26.87           450     NaN      NaN  \n28869         -2     26.88           450     NaN      NaN  \n28870         -2     26.93           450     NaN      NaN  ",
      "text/html": "<div>\n<style scoped>\n    .dataframe tbody tr th:only-of-type {\n        vertical-align: middle;\n    }\n\n    .dataframe tbody tr th {\n        vertical-align: top;\n    }\n\n    .dataframe thead th {\n        text-align: right;\n    }\n</style>\n<table border=\"1\" class=\"dataframe\">\n  <thead>\n    <tr style=\"text-align: right;\">\n      <th></th>\n      <th>dDate</th>\n      <th>Local_Timestamp</th>\n      <th>Latitude</th>\n      <th>Longitude</th>\n      <th>MESSAGE_TYPE_TEXT</th>\n      <th>ADHERENCE</th>\n      <th>Odometer</th>\n      <th>VehicleNumber</th>\n      <th>degLat</th>\n      <th>degLong</th>\n    </tr>\n  </thead>\n  <tbody>\n    <tr>\n      <th>28851</th>\n      <td>2/14/2020</td>\n      <td>2/14/20 6:00 AM</td>\n      <td>29.45275</td>\n      <td>-98.51462</td>\n      <td>vehicle location</td>\n      <td>-1</td>\n      <td>24.28</td>\n      <td>450</td>\n      <td>NaN</td>\n      <td>NaN</td>\n    </tr>\n    <tr>\n      <th>28852</th>\n      <td>2/14/2020</td>\n      <td>2/14/20 6:00 AM</td>\n      <td>29.45083</td>\n      <td>-98.51278</td>\n      <td>vehicle location</td>\n      <td>-1</td>\n      <td>24.45</td>\n      <td>450</td>\n      <td>NaN</td>\n      <td>NaN</td>\n    </tr>\n    <tr>\n      <th>28853</th>\n      <td>2/14/2020</td>\n      <td>2/14/20 6:01 AM</td>\n      <td>29.44892</td>\n      <td>-98.51093</td>\n      <td>vehicle location</td>\n      <td>-1</td>\n      <td>24.63</td>\n      <td>450</td>\n      <td>NaN</td>\n      <td>NaN</td>\n    </tr>\n    <tr>\n      <th>28854</th>\n      <td>2/14/2020</td>\n      <td>2/14/20 6:02 AM</td>\n      <td>29.44463</td>\n      <td>-98.50669</td>\n      <td>vehicle location</td>\n      <td>-1</td>\n      <td>25.01</td>\n      <td>450</td>\n      <td>NaN</td>\n      <td>NaN</td>\n    </tr>\n    <tr>\n      <th>28855</th>\n      <td>2/14/2020</td>\n      <td>2/14/20 6:03 AM</td>\n      <td>29.44217</td>\n      <td>-98.50430</td>\n      <td>vehicle location</td>\n      <td>-1</td>\n      <td>25.23</td>\n      <td>450</td>\n      <td>NaN</td>\n      <td>NaN</td>\n    </tr>\n    <tr>\n      <th>28856</th>\n      <td>2/14/2020</td>\n      <td>2/14/20 6:04 AM</td>\n      <td>29.44123</td>\n      <td>-98.50230</td>\n      <td>vehicle location</td>\n      <td>-1</td>\n      <td>25.37</td>\n      <td>450</td>\n      <td>NaN</td>\n      <td>NaN</td>\n    </tr>\n    <tr>\n      <th>28857</th>\n      <td>2/14/2020</td>\n      <td>2/14/20 6:05 AM</td>\n      <td>29.43960</td>\n      <td>-98.49864</td>\n      <td>vehicle location</td>\n      <td>-1</td>\n      <td>25.66</td>\n      <td>450</td>\n      <td>NaN</td>\n      <td>NaN</td>\n    </tr>\n    <tr>\n      <th>28858</th>\n      <td>2/14/2020</td>\n      <td>2/14/20 6:06 AM</td>\n      <td>29.43702</td>\n      <td>-98.49696</td>\n      <td>vehicle location</td>\n      <td>-1</td>\n      <td>25.86</td>\n      <td>450</td>\n      <td>NaN</td>\n      <td>NaN</td>\n    </tr>\n    <tr>\n      <th>28859</th>\n      <td>2/14/2020</td>\n      <td>2/14/20 6:06 AM</td>\n      <td>29.43506</td>\n      <td>-98.49544</td>\n      <td>vehicle location</td>\n      <td>0</td>\n      <td>26.03</td>\n      <td>450</td>\n      <td>NaN</td>\n      <td>NaN</td>\n    </tr>\n    <tr>\n      <th>28860</th>\n      <td>2/14/2020</td>\n      <td>2/14/20 6:07 AM</td>\n      <td>29.43287</td>\n      <td>-98.49320</td>\n      <td>vehicle location</td>\n      <td>0</td>\n      <td>26.23</td>\n      <td>450</td>\n      <td>NaN</td>\n      <td>NaN</td>\n    </tr>\n    <tr>\n      <th>28861</th>\n      <td>2/14/2020</td>\n      <td>2/14/20 6:08 AM</td>\n      <td>29.43244</td>\n      <td>-98.49192</td>\n      <td>vehicle location</td>\n      <td>0</td>\n      <td>26.31</td>\n      <td>450</td>\n      <td>NaN</td>\n      <td>NaN</td>\n    </tr>\n    <tr>\n      <th>28862</th>\n      <td>2/14/2020</td>\n      <td>2/14/20 6:08 AM</td>\n      <td>29.43164</td>\n      <td>-98.49107</td>\n      <td>vehicle location</td>\n      <td>0</td>\n      <td>26.38</td>\n      <td>450</td>\n      <td>NaN</td>\n      <td>NaN</td>\n    </tr>\n    <tr>\n      <th>28863</th>\n      <td>2/14/2020</td>\n      <td>2/14/20 6:10 AM</td>\n      <td>29.42951</td>\n      <td>-98.49138</td>\n      <td>vehicle location</td>\n      <td>0</td>\n      <td>26.54</td>\n      <td>450</td>\n      <td>NaN</td>\n      <td>NaN</td>\n    </tr>\n    <tr>\n      <th>28864</th>\n      <td>2/14/2020</td>\n      <td>2/14/20 6:10 AM</td>\n      <td>29.42873</td>\n      <td>-98.49140</td>\n      <td>vehicle location</td>\n      <td>-1</td>\n      <td>26.59</td>\n      <td>450</td>\n      <td>NaN</td>\n      <td>NaN</td>\n    </tr>\n    <tr>\n      <th>28865</th>\n      <td>2/14/2020</td>\n      <td>2/14/20 6:11 AM</td>\n      <td>29.42870</td>\n      <td>-98.49143</td>\n      <td>vehicle location</td>\n      <td>-1</td>\n      <td>26.59</td>\n      <td>450</td>\n      <td>NaN</td>\n      <td>NaN</td>\n    </tr>\n    <tr>\n      <th>28866</th>\n      <td>2/14/2020</td>\n      <td>2/14/20 6:11 AM</td>\n      <td>29.42767</td>\n      <td>-98.49132</td>\n      <td>vehicle location</td>\n      <td>-1</td>\n      <td>26.66</td>\n      <td>450</td>\n      <td>NaN</td>\n      <td>NaN</td>\n    </tr>\n    <tr>\n      <th>28867</th>\n      <td>2/14/2020</td>\n      <td>2/14/20 6:12 AM</td>\n      <td>29.42641</td>\n      <td>-98.49131</td>\n      <td>vehicle location</td>\n      <td>-1</td>\n      <td>26.75</td>\n      <td>450</td>\n      <td>NaN</td>\n      <td>NaN</td>\n    </tr>\n    <tr>\n      <th>28868</th>\n      <td>2/14/2020</td>\n      <td>2/14/20 6:12 AM</td>\n      <td>29.42468</td>\n      <td>-98.49133</td>\n      <td>vehicle location</td>\n      <td>-1</td>\n      <td>26.87</td>\n      <td>450</td>\n      <td>NaN</td>\n      <td>NaN</td>\n    </tr>\n    <tr>\n      <th>28869</th>\n      <td>2/14/2020</td>\n      <td>2/14/20 6:13 AM</td>\n      <td>29.42463</td>\n      <td>-98.49148</td>\n      <td>vehicle location</td>\n      <td>-2</td>\n      <td>26.88</td>\n      <td>450</td>\n      <td>NaN</td>\n      <td>NaN</td>\n    </tr>\n    <tr>\n      <th>28870</th>\n      <td>2/14/2020</td>\n      <td>2/14/20 6:14 AM</td>\n      <td>29.42398</td>\n      <td>-98.49177</td>\n      <td>vehicle location</td>\n      <td>-2</td>\n      <td>26.93</td>\n      <td>450</td>\n      <td>NaN</td>\n      <td>NaN</td>\n    </tr>\n  </tbody>\n</table>\n</div>"
     },
     "metadata": {},
     "execution_count": 80
    }
   ],
   "source": [
    "df_logs[df_logs.VehicleNumber==450].head(20)"
   ]
  },
  {
   "cell_type": "code",
   "execution_count": 81,
   "metadata": {},
   "outputs": [],
   "source": [
    "#######################################\n",
    "###\n",
    "### via datathon 2020\n",
    "###\n",
    "### service miles\n",
    "###\n",
    "#######################################"
   ]
  },
  {
   "cell_type": "code",
   "execution_count": 82,
   "metadata": {
    "tags": []
   },
   "outputs": [
    {
     "output_type": "stream",
     "name": "stdout",
     "text": "<class 'pandas.core.frame.DataFrame'>\nRangeIndex: 63622 entries, 0 to 63621\nData columns (total 10 columns):\n #   Column               Non-Null Count  Dtype  \n---  ------               --------------  -----  \n 0   Route                63622 non-null  int64  \n 1   RouteName            63622 non-null  object \n 2   Class                62115 non-null  object \n 3   ServiceType          63622 non-null  object \n 4   ScheduledMiles       63622 non-null  float64\n 5   AVLRevenueMiles      63622 non-null  float64\n 6   AVLDeadHeadMiles     63622 non-null  float64\n 7   AVLExemptMiles       63622 non-null  float64\n 8   AVLMilesAdjustments  63622 non-null  float64\n 9   ServiceDate          63622 non-null  object \ndtypes: float64(5), int64(1), object(4)\nmemory usage: 4.9+ MB\n"
    }
   ],
   "source": [
    "df_svc_miles = pd.read_csv(files['service_miles_2020'])\n",
    "df_svc_miles.info()"
   ]
  },
  {
   "cell_type": "code",
   "execution_count": 83,
   "metadata": {},
   "outputs": [
    {
     "output_type": "execute_result",
     "data": {
      "text/plain": "Index(['Route', 'RouteName', 'Class', 'ServiceType', 'ScheduledMiles',\n       'AVLRevenueMiles', 'AVLDeadHeadMiles', 'AVLExemptMiles',\n       'AVLMilesAdjustments', 'ServiceDate'],\n      dtype='object')"
     },
     "metadata": {},
     "execution_count": 83
    }
   ],
   "source": [
    "df_svc_miles.columns\n"
   ]
  },
  {
   "cell_type": "code",
   "execution_count": 84,
   "metadata": {},
   "outputs": [
    {
     "output_type": "execute_result",
     "data": {
      "text/plain": "   Route         RouteName          Class ServiceType  ScheduledMiles  \\\n0      2      2-BLANCO RD.   Major Radial      SUNDAY          924.35   \n1      3  3-SAN PEDRO SKIP  Major Limited      SUNDAY          707.88   \n2      4       4-SAN PEDRO   Major Radial      SUNDAY          731.48   \n3      5     5-MC CULLOUGH   Major Radial      SUNDAY          484.17   \n4      6  6-US 281 Express  Major Express      SUNDAY            0.00   \n\n   AVLRevenueMiles  AVLDeadHeadMiles  AVLExemptMiles  AVLMilesAdjustments  \\\n0           886.97             46.91             0.0                 26.0   \n1           683.66             19.57             0.0                  0.0   \n2           692.08             34.76             0.0                  0.0   \n3           457.37             22.12             0.0                  0.0   \n4             0.00              0.00             0.0                  0.0   \n\n  ServiceDate  \n0    1/1/2019  \n1    1/1/2019  \n2    1/1/2019  \n3    1/1/2019  \n4    1/1/2019  ",
      "text/html": "<div>\n<style scoped>\n    .dataframe tbody tr th:only-of-type {\n        vertical-align: middle;\n    }\n\n    .dataframe tbody tr th {\n        vertical-align: top;\n    }\n\n    .dataframe thead th {\n        text-align: right;\n    }\n</style>\n<table border=\"1\" class=\"dataframe\">\n  <thead>\n    <tr style=\"text-align: right;\">\n      <th></th>\n      <th>Route</th>\n      <th>RouteName</th>\n      <th>Class</th>\n      <th>ServiceType</th>\n      <th>ScheduledMiles</th>\n      <th>AVLRevenueMiles</th>\n      <th>AVLDeadHeadMiles</th>\n      <th>AVLExemptMiles</th>\n      <th>AVLMilesAdjustments</th>\n      <th>ServiceDate</th>\n    </tr>\n  </thead>\n  <tbody>\n    <tr>\n      <th>0</th>\n      <td>2</td>\n      <td>2-BLANCO RD.</td>\n      <td>Major Radial</td>\n      <td>SUNDAY</td>\n      <td>924.35</td>\n      <td>886.97</td>\n      <td>46.91</td>\n      <td>0.0</td>\n      <td>26.0</td>\n      <td>1/1/2019</td>\n    </tr>\n    <tr>\n      <th>1</th>\n      <td>3</td>\n      <td>3-SAN PEDRO SKIP</td>\n      <td>Major Limited</td>\n      <td>SUNDAY</td>\n      <td>707.88</td>\n      <td>683.66</td>\n      <td>19.57</td>\n      <td>0.0</td>\n      <td>0.0</td>\n      <td>1/1/2019</td>\n    </tr>\n    <tr>\n      <th>2</th>\n      <td>4</td>\n      <td>4-SAN PEDRO</td>\n      <td>Major Radial</td>\n      <td>SUNDAY</td>\n      <td>731.48</td>\n      <td>692.08</td>\n      <td>34.76</td>\n      <td>0.0</td>\n      <td>0.0</td>\n      <td>1/1/2019</td>\n    </tr>\n    <tr>\n      <th>3</th>\n      <td>5</td>\n      <td>5-MC CULLOUGH</td>\n      <td>Major Radial</td>\n      <td>SUNDAY</td>\n      <td>484.17</td>\n      <td>457.37</td>\n      <td>22.12</td>\n      <td>0.0</td>\n      <td>0.0</td>\n      <td>1/1/2019</td>\n    </tr>\n    <tr>\n      <th>4</th>\n      <td>6</td>\n      <td>6-US 281 Express</td>\n      <td>Major Express</td>\n      <td>SUNDAY</td>\n      <td>0.00</td>\n      <td>0.00</td>\n      <td>0.00</td>\n      <td>0.0</td>\n      <td>0.0</td>\n      <td>1/1/2019</td>\n    </tr>\n  </tbody>\n</table>\n</div>"
     },
     "metadata": {},
     "execution_count": 84
    }
   ],
   "source": [
    "df_svc_miles.head()"
   ]
  },
  {
   "cell_type": "code",
   "execution_count": null,
   "metadata": {},
   "outputs": [],
   "source": []
  },
  {
   "cell_type": "code",
   "execution_count": 85,
   "metadata": {},
   "outputs": [],
   "source": [
    "#######################################\n",
    "###\n",
    "### via datathon 2020\n",
    "###\n",
    "### stop addresses\n",
    "###\n",
    "#######################################"
   ]
  },
  {
   "cell_type": "code",
   "execution_count": 86,
   "metadata": {
    "tags": []
   },
   "outputs": [
    {
     "output_type": "stream",
     "name": "stdout",
     "text": "<class 'pandas.core.frame.DataFrame'>\nRangeIndex: 9859 entries, 0 to 9858\nData columns (total 7 columns):\n #   Column        Non-Null Count  Dtype  \n---  ------        --------------  -----  \n 0   StopNumber    9859 non-null   object \n 1   Location      9859 non-null   object \n 2   StreetNumber  9715 non-null   float64\n 3   Street        9854 non-null   object \n 4   City          9854 non-null   object \n 5   State         9854 non-null   object \n 6   Zip           9854 non-null   float64\ndtypes: float64(2), object(5)\nmemory usage: 539.3+ KB\n"
    }
   ],
   "source": [
    "df_stop_addrs = pd.read_csv(files['stops_addr_2020'])\n",
    "df_stop_addrs.info()"
   ]
  },
  {
   "cell_type": "code",
   "execution_count": 87,
   "metadata": {},
   "outputs": [
    {
     "output_type": "execute_result",
     "data": {
      "text/plain": "Index(['StopNumber', 'Location', 'StreetNumber', 'Street', 'City', 'State',\n       'Zip'],\n      dtype='object')"
     },
     "metadata": {},
     "execution_count": 87
    }
   ],
   "source": [
    "df_stop_addrs.columns"
   ]
  },
  {
   "cell_type": "code",
   "execution_count": 88,
   "metadata": {},
   "outputs": [
    {
     "output_type": "execute_result",
     "data": {
      "text/plain": "  StopNumber                             Location  StreetNumber  \\\n0      79877    ST. MARY'S BETWEEN CONVENT & MART         603.0   \n1      79977                   ST. MARY'S & PECAN         152.0   \n2      89377  ST. MARY'S BETWEEN TRAVIS & HOUSTON         175.0   \n3      89867                ST. MARY'S & COMMERCE         106.0   \n4      89839                   COMMERCE & SOLEDAD         102.0   \n\n           Street         City State      Zip  \n0  N St Mary's St  San Antonio    TX  78205.0  \n1      E Pecan St  San Antonio    TX  78205.0  \n2    E Houston St  San Antonio    TX  78205.0  \n3  S St Mary's St  San Antonio    TX  78205.0  \n4        Main Plz  San Antonio    TX  78205.0  ",
      "text/html": "<div>\n<style scoped>\n    .dataframe tbody tr th:only-of-type {\n        vertical-align: middle;\n    }\n\n    .dataframe tbody tr th {\n        vertical-align: top;\n    }\n\n    .dataframe thead th {\n        text-align: right;\n    }\n</style>\n<table border=\"1\" class=\"dataframe\">\n  <thead>\n    <tr style=\"text-align: right;\">\n      <th></th>\n      <th>StopNumber</th>\n      <th>Location</th>\n      <th>StreetNumber</th>\n      <th>Street</th>\n      <th>City</th>\n      <th>State</th>\n      <th>Zip</th>\n    </tr>\n  </thead>\n  <tbody>\n    <tr>\n      <th>0</th>\n      <td>79877</td>\n      <td>ST. MARY'S BETWEEN CONVENT &amp; MART</td>\n      <td>603.0</td>\n      <td>N St Mary's St</td>\n      <td>San Antonio</td>\n      <td>TX</td>\n      <td>78205.0</td>\n    </tr>\n    <tr>\n      <th>1</th>\n      <td>79977</td>\n      <td>ST. MARY'S &amp; PECAN</td>\n      <td>152.0</td>\n      <td>E Pecan St</td>\n      <td>San Antonio</td>\n      <td>TX</td>\n      <td>78205.0</td>\n    </tr>\n    <tr>\n      <th>2</th>\n      <td>89377</td>\n      <td>ST. MARY'S BETWEEN TRAVIS &amp; HOUSTON</td>\n      <td>175.0</td>\n      <td>E Houston St</td>\n      <td>San Antonio</td>\n      <td>TX</td>\n      <td>78205.0</td>\n    </tr>\n    <tr>\n      <th>3</th>\n      <td>89867</td>\n      <td>ST. MARY'S &amp; COMMERCE</td>\n      <td>106.0</td>\n      <td>S St Mary's St</td>\n      <td>San Antonio</td>\n      <td>TX</td>\n      <td>78205.0</td>\n    </tr>\n    <tr>\n      <th>4</th>\n      <td>89839</td>\n      <td>COMMERCE &amp; SOLEDAD</td>\n      <td>102.0</td>\n      <td>Main Plz</td>\n      <td>San Antonio</td>\n      <td>TX</td>\n      <td>78205.0</td>\n    </tr>\n  </tbody>\n</table>\n</div>"
     },
     "metadata": {},
     "execution_count": 88
    }
   ],
   "source": [
    "df_stop_addrs.head()"
   ]
  },
  {
   "cell_type": "code",
   "execution_count": null,
   "metadata": {},
   "outputs": [],
   "source": []
  }
 ],
 "metadata": {
  "kernelspec": {
   "display_name": "Python 3",
   "language": "python",
   "name": "python3"
  },
  "language_info": {
   "codemirror_mode": {
    "name": "ipython",
    "version": 3
   },
   "file_extension": ".py",
   "mimetype": "text/x-python",
   "name": "python",
   "nbconvert_exporter": "python",
   "pygments_lexer": "ipython3",
   "version": "3.7.6-final"
  }
 },
 "nbformat": 4,
 "nbformat_minor": 4
}