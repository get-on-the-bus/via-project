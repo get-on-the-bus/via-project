{
 "cells": [
  {
   "cell_type": "code",
   "execution_count": 1,
   "metadata": {},
   "outputs": [],
   "source": [
    "import pandas as pd\n",
    "import numpy as np\n",
    "import matplotlib.pyplot as plt\n",
    "from pyproj import Proj, transform, CRS\n",
    "from shapely.geometry import Polygon, Point\n",
    "\n",
    "# ignore warnings\n",
    "import warnings\n",
    "warnings.filterwarnings(\"ignore\")\n",
    "\n",
    "# display full\n",
    "pd.set_option('display.max_columns', None)\n",
    "pd.set_option('display.max_rows', None)"
   ]
  },
  {
   "cell_type": "code",
   "execution_count": 2,
   "metadata": {},
   "outputs": [],
   "source": [
    "import geopandas as gpd"
   ]
  },
  {
   "cell_type": "code",
   "execution_count": 3,
   "metadata": {},
   "outputs": [],
   "source": [
    "import geoplot as gplt"
   ]
  },
  {
   "cell_type": "code",
   "execution_count": 56,
   "metadata": {},
   "outputs": [],
   "source": [
    "files = {\n",
    "    'tracts' : '../resource_files/bexar_county/Bexar_County_Census_Tracts-shp/Bexar_County_Census_Tracts.shp', \n",
    "    'block_groups' : '../resource_files/bexar_county/Bexar_County_Census_Block_Groups-shp/Bexar_County_Census_Block_Groups.shp', \n",
    "    'blocks' : '../resource_files/bexar_county/Bexar_County_Census_Blocks-shp/Bexar_County_Census_Blocks.shp', \n",
    "    'stops_201909' :  '../resource_files/via_201909/stops.txt', \n",
    "    'stops_202004' :  '../resource_files/via_202004/stops.csv', \n",
    "}"
   ]
  },
  {
   "cell_type": "code",
   "execution_count": 5,
   "metadata": {},
   "outputs": [
    {
     "output_type": "execute_result",
     "data": {
      "text/plain": "             OBJECTID  SUM_POPULA    ShapeSTAre    ShapeSTLen  \\\nTRACT                                                           \n48029110100         1        3379  3.816858e+07  26074.749275   \n48029110300         2        2542  1.667905e+07  22363.990201   \n48029110500         3        2238  1.366653e+07  16048.493069   \n48029110600         4        7553  2.117379e+07  20426.412628   \n48029110700         5        1398  1.058371e+07  16998.776148   \n\n                                                      geometry   density  \nTRACT                                                                     \n48029110100  POLYGON ((-98.48695 29.43502, -98.48626 29.434...  0.000433  \n48029110300  POLYGON ((-98.47326 29.41461, -98.47326 29.413...  0.000325  \n48029110500  POLYGON ((-98.50799 29.42314, -98.50812 29.422...  0.000287  \n48029110600  POLYGON ((-98.50111 29.42735, -98.50121 29.426...  0.000967  \n48029110700  POLYGON ((-98.50401 29.44202, -98.50386 29.441...  0.000179  ",
      "text/html": "<div>\n<style scoped>\n    .dataframe tbody tr th:only-of-type {\n        vertical-align: middle;\n    }\n\n    .dataframe tbody tr th {\n        vertical-align: top;\n    }\n\n    .dataframe thead th {\n        text-align: right;\n    }\n</style>\n<table border=\"1\" class=\"dataframe\">\n  <thead>\n    <tr style=\"text-align: right;\">\n      <th></th>\n      <th>OBJECTID</th>\n      <th>SUM_POPULA</th>\n      <th>ShapeSTAre</th>\n      <th>ShapeSTLen</th>\n      <th>geometry</th>\n      <th>density</th>\n    </tr>\n    <tr>\n      <th>TRACT</th>\n      <th></th>\n      <th></th>\n      <th></th>\n      <th></th>\n      <th></th>\n      <th></th>\n    </tr>\n  </thead>\n  <tbody>\n    <tr>\n      <th>48029110100</th>\n      <td>1</td>\n      <td>3379</td>\n      <td>3.816858e+07</td>\n      <td>26074.749275</td>\n      <td>POLYGON ((-98.48695 29.43502, -98.48626 29.434...</td>\n      <td>0.000433</td>\n    </tr>\n    <tr>\n      <th>48029110300</th>\n      <td>2</td>\n      <td>2542</td>\n      <td>1.667905e+07</td>\n      <td>22363.990201</td>\n      <td>POLYGON ((-98.47326 29.41461, -98.47326 29.413...</td>\n      <td>0.000325</td>\n    </tr>\n    <tr>\n      <th>48029110500</th>\n      <td>3</td>\n      <td>2238</td>\n      <td>1.366653e+07</td>\n      <td>16048.493069</td>\n      <td>POLYGON ((-98.50799 29.42314, -98.50812 29.422...</td>\n      <td>0.000287</td>\n    </tr>\n    <tr>\n      <th>48029110600</th>\n      <td>4</td>\n      <td>7553</td>\n      <td>2.117379e+07</td>\n      <td>20426.412628</td>\n      <td>POLYGON ((-98.50111 29.42735, -98.50121 29.426...</td>\n      <td>0.000967</td>\n    </tr>\n    <tr>\n      <th>48029110700</th>\n      <td>5</td>\n      <td>1398</td>\n      <td>1.058371e+07</td>\n      <td>16998.776148</td>\n      <td>POLYGON ((-98.50401 29.44202, -98.50386 29.441...</td>\n      <td>0.000179</td>\n    </tr>\n  </tbody>\n</table>\n</div>"
     },
     "metadata": {},
     "execution_count": 5
    }
   ],
   "source": [
    "gdf_tracts = gpd.read_file(files['tracts']).set_index('TRACT')\n",
    "gdf_tracts['density']=gdf_tracts.SUM_POPULA / gdf_tracts.ShapeSTAre.min()\n",
    "gdf_tracts = gdf_tracts.to_crs('epsg:4326')\n",
    "gdf_tracts.head()"
   ]
  },
  {
   "cell_type": "code",
   "execution_count": 6,
   "metadata": {},
   "outputs": [
    {
     "output_type": "execute_result",
     "data": {
      "text/plain": "              OBJECTID  SUM_POPULA    Shape_STAr    Shape_STLe    ShapeSTAre  \\\nBLOCKGROUP                                                                     \n480291101001         1         955  1.951706e+07  23279.128568  1.951706e+07   \n480291101002         2         694  7.319464e+06  14609.297870  7.319464e+06   \n480291101003         3        1730  1.133205e+07  14546.232289  1.133205e+07   \n480291103001         4        1041  4.292228e+06   9662.074836  4.292228e+06   \n480291103002         5         797  4.074139e+06  10523.204970  4.074139e+06   \n\n                ShapeSTLen                                           geometry  \\\nBLOCKGROUP                                                                      \n480291101001  23279.128568  POLYGON ((-98.48695 29.43502, -98.48626 29.434...   \n480291101002  14609.297870  POLYGON ((-98.48824 29.41933, -98.48826 29.418...   \n480291101003  14546.232289  POLYGON ((-98.49432 29.43370, -98.49426 29.433...   \n480291103001   9662.074836  POLYGON ((-98.47984 29.40970, -98.47983 29.409...   \n480291103002  10523.204970  POLYGON ((-98.47989 29.40860, -98.47992 29.408...   \n\n               density  \nBLOCKGROUP              \n480291101001  0.000049  \n480291101002  0.000095  \n480291101003  0.000153  \n480291103001  0.000243  \n480291103002  0.000196  ",
      "text/html": "<div>\n<style scoped>\n    .dataframe tbody tr th:only-of-type {\n        vertical-align: middle;\n    }\n\n    .dataframe tbody tr th {\n        vertical-align: top;\n    }\n\n    .dataframe thead th {\n        text-align: right;\n    }\n</style>\n<table border=\"1\" class=\"dataframe\">\n  <thead>\n    <tr style=\"text-align: right;\">\n      <th></th>\n      <th>OBJECTID</th>\n      <th>SUM_POPULA</th>\n      <th>Shape_STAr</th>\n      <th>Shape_STLe</th>\n      <th>ShapeSTAre</th>\n      <th>ShapeSTLen</th>\n      <th>geometry</th>\n      <th>density</th>\n    </tr>\n    <tr>\n      <th>BLOCKGROUP</th>\n      <th></th>\n      <th></th>\n      <th></th>\n      <th></th>\n      <th></th>\n      <th></th>\n      <th></th>\n      <th></th>\n    </tr>\n  </thead>\n  <tbody>\n    <tr>\n      <th>480291101001</th>\n      <td>1</td>\n      <td>955</td>\n      <td>1.951706e+07</td>\n      <td>23279.128568</td>\n      <td>1.951706e+07</td>\n      <td>23279.128568</td>\n      <td>POLYGON ((-98.48695 29.43502, -98.48626 29.434...</td>\n      <td>0.000049</td>\n    </tr>\n    <tr>\n      <th>480291101002</th>\n      <td>2</td>\n      <td>694</td>\n      <td>7.319464e+06</td>\n      <td>14609.297870</td>\n      <td>7.319464e+06</td>\n      <td>14609.297870</td>\n      <td>POLYGON ((-98.48824 29.41933, -98.48826 29.418...</td>\n      <td>0.000095</td>\n    </tr>\n    <tr>\n      <th>480291101003</th>\n      <td>3</td>\n      <td>1730</td>\n      <td>1.133205e+07</td>\n      <td>14546.232289</td>\n      <td>1.133205e+07</td>\n      <td>14546.232289</td>\n      <td>POLYGON ((-98.49432 29.43370, -98.49426 29.433...</td>\n      <td>0.000153</td>\n    </tr>\n    <tr>\n      <th>480291103001</th>\n      <td>4</td>\n      <td>1041</td>\n      <td>4.292228e+06</td>\n      <td>9662.074836</td>\n      <td>4.292228e+06</td>\n      <td>9662.074836</td>\n      <td>POLYGON ((-98.47984 29.40970, -98.47983 29.409...</td>\n      <td>0.000243</td>\n    </tr>\n    <tr>\n      <th>480291103002</th>\n      <td>5</td>\n      <td>797</td>\n      <td>4.074139e+06</td>\n      <td>10523.204970</td>\n      <td>4.074139e+06</td>\n      <td>10523.204970</td>\n      <td>POLYGON ((-98.47989 29.40860, -98.47992 29.408...</td>\n      <td>0.000196</td>\n    </tr>\n  </tbody>\n</table>\n</div>"
     },
     "metadata": {},
     "execution_count": 6
    }
   ],
   "source": [
    "gdf_block_groups = gpd.read_file(files['block_groups']).set_index('BLOCKGROUP')\n",
    "gdf_block_groups['density']=gdf_block_groups.SUM_POPULA / gdf_block_groups.ShapeSTAre\n",
    "gdf_block_groups = gdf_block_groups.to_crs('epsg:4326')\n",
    "gdf_block_groups.head()"
   ]
  },
  {
   "cell_type": "code",
   "execution_count": 7,
   "metadata": {},
   "outputs": [],
   "source": [
    "gdf_blocks_cols = [\n",
    "    'OBJECTID', 'ID', 'COLORING', 'BLOCKGROUP', 'TRACT', 'MCD', \n",
    "    'PLACE', 'VTD', 'CONGRESS', 'LOWERSLD', 'UPPERSLD', 'UNIFSCHOOL',\n",
    "    'POPULATION', 'HISPANIC_O', 'NH_WHT', 'NH_BLK', 'NH_ASN', 'NH_OTH',\n",
    "    'gecovector', 'ShapeSTAre', 'ShapeSTLen', 'geometry'\n",
    "]"
   ]
  },
  {
   "cell_type": "code",
   "execution_count": 8,
   "metadata": {},
   "outputs": [
    {
     "output_type": "execute_result",
     "data": {
      "text/plain": "                 OBJECTID       ID  COLORING    BLOCKGROUP        TRACT  \\\nBLOCK                                                                     \n480291919003005         1  1400310         4  480291919003  48029191900   \n480291411011002         2  1400328         3  480291411011  48029141101   \n480291411011006         3  1400348         3  480291411011  48029141101   \n480291410002007         4  1400365         1  480291410002  48029141000   \n480291410002006         5  1400383         3  480291410002  48029141000   \n\n                        MCD    PLACE        VTD CONGRESS LOWERSLD UPPERSLD  \\\nBLOCK                                                                        \n480291919003005  4802993407  4865000  480294004     4821    48120    48019   \n480291411011002  4802993407  4865000  480291074     4823    48119    48019   \n480291411011006  4802993407  4865000  480291074     4823    48119    48019   \n480291410002007  4802993407  4865000  480291074     4823    48119    48019   \n480291410002006  4802993407  4865000  480291074     4823    48119    48019   \n\n                UNIFSCHOOL  POPULATION  HISPANIC_O  NH_WHT  NH_BLK  NH_ASN  \\\nBLOCK                                                                        \n480291919003005    4838730          13          11       0       0       0   \n480291411011002    4838730           0           0       0       0       0   \n480291411011006    4838730         102          82      16       2       0   \n480291410002007    4838730         162         149      13       0       0   \n480291410002006    4838730         133         124       5       4       0   \n\n                 NH_OTH  gecovector     ShapeSTAre   ShapeSTLen  \\\nBLOCK                                                             \n480291919003005       2    0.001038   28896.121094  1063.271402   \n480291411011002       0    0.018304  509512.736328  8615.618889   \n480291411011006       2    0.012803  356394.378906  2836.366689   \n480291410002007       0    0.012892  358877.382812  2852.304380   \n480291410002006       0    0.016129  448943.710938  2994.127235   \n\n                                                          geometry  \nBLOCK                                                               \n480291919003005  POLYGON ((-98.46781 29.42506, -98.46783 29.424...  \n480291411011002  POLYGON ((-98.46881 29.36511, -98.46815 29.364...  \n480291411011006  POLYGON ((-98.46323 29.36640, -98.46324 29.365...  \n480291410002007  POLYGON ((-98.46667 29.36662, -98.46668 29.367...  \n480291410002006  POLYGON ((-98.46668 29.36753, -98.46667 29.368...  ",
      "text/html": "<div>\n<style scoped>\n    .dataframe tbody tr th:only-of-type {\n        vertical-align: middle;\n    }\n\n    .dataframe tbody tr th {\n        vertical-align: top;\n    }\n\n    .dataframe thead th {\n        text-align: right;\n    }\n</style>\n<table border=\"1\" class=\"dataframe\">\n  <thead>\n    <tr style=\"text-align: right;\">\n      <th></th>\n      <th>OBJECTID</th>\n      <th>ID</th>\n      <th>COLORING</th>\n      <th>BLOCKGROUP</th>\n      <th>TRACT</th>\n      <th>MCD</th>\n      <th>PLACE</th>\n      <th>VTD</th>\n      <th>CONGRESS</th>\n      <th>LOWERSLD</th>\n      <th>UPPERSLD</th>\n      <th>UNIFSCHOOL</th>\n      <th>POPULATION</th>\n      <th>HISPANIC_O</th>\n      <th>NH_WHT</th>\n      <th>NH_BLK</th>\n      <th>NH_ASN</th>\n      <th>NH_OTH</th>\n      <th>gecovector</th>\n      <th>ShapeSTAre</th>\n      <th>ShapeSTLen</th>\n      <th>geometry</th>\n    </tr>\n    <tr>\n      <th>BLOCK</th>\n      <th></th>\n      <th></th>\n      <th></th>\n      <th></th>\n      <th></th>\n      <th></th>\n      <th></th>\n      <th></th>\n      <th></th>\n      <th></th>\n      <th></th>\n      <th></th>\n      <th></th>\n      <th></th>\n      <th></th>\n      <th></th>\n      <th></th>\n      <th></th>\n      <th></th>\n      <th></th>\n      <th></th>\n      <th></th>\n    </tr>\n  </thead>\n  <tbody>\n    <tr>\n      <th>480291919003005</th>\n      <td>1</td>\n      <td>1400310</td>\n      <td>4</td>\n      <td>480291919003</td>\n      <td>48029191900</td>\n      <td>4802993407</td>\n      <td>4865000</td>\n      <td>480294004</td>\n      <td>4821</td>\n      <td>48120</td>\n      <td>48019</td>\n      <td>4838730</td>\n      <td>13</td>\n      <td>11</td>\n      <td>0</td>\n      <td>0</td>\n      <td>0</td>\n      <td>2</td>\n      <td>0.001038</td>\n      <td>28896.121094</td>\n      <td>1063.271402</td>\n      <td>POLYGON ((-98.46781 29.42506, -98.46783 29.424...</td>\n    </tr>\n    <tr>\n      <th>480291411011002</th>\n      <td>2</td>\n      <td>1400328</td>\n      <td>3</td>\n      <td>480291411011</td>\n      <td>48029141101</td>\n      <td>4802993407</td>\n      <td>4865000</td>\n      <td>480291074</td>\n      <td>4823</td>\n      <td>48119</td>\n      <td>48019</td>\n      <td>4838730</td>\n      <td>0</td>\n      <td>0</td>\n      <td>0</td>\n      <td>0</td>\n      <td>0</td>\n      <td>0</td>\n      <td>0.018304</td>\n      <td>509512.736328</td>\n      <td>8615.618889</td>\n      <td>POLYGON ((-98.46881 29.36511, -98.46815 29.364...</td>\n    </tr>\n    <tr>\n      <th>480291411011006</th>\n      <td>3</td>\n      <td>1400348</td>\n      <td>3</td>\n      <td>480291411011</td>\n      <td>48029141101</td>\n      <td>4802993407</td>\n      <td>4865000</td>\n      <td>480291074</td>\n      <td>4823</td>\n      <td>48119</td>\n      <td>48019</td>\n      <td>4838730</td>\n      <td>102</td>\n      <td>82</td>\n      <td>16</td>\n      <td>2</td>\n      <td>0</td>\n      <td>2</td>\n      <td>0.012803</td>\n      <td>356394.378906</td>\n      <td>2836.366689</td>\n      <td>POLYGON ((-98.46323 29.36640, -98.46324 29.365...</td>\n    </tr>\n    <tr>\n      <th>480291410002007</th>\n      <td>4</td>\n      <td>1400365</td>\n      <td>1</td>\n      <td>480291410002</td>\n      <td>48029141000</td>\n      <td>4802993407</td>\n      <td>4865000</td>\n      <td>480291074</td>\n      <td>4823</td>\n      <td>48119</td>\n      <td>48019</td>\n      <td>4838730</td>\n      <td>162</td>\n      <td>149</td>\n      <td>13</td>\n      <td>0</td>\n      <td>0</td>\n      <td>0</td>\n      <td>0.012892</td>\n      <td>358877.382812</td>\n      <td>2852.304380</td>\n      <td>POLYGON ((-98.46667 29.36662, -98.46668 29.367...</td>\n    </tr>\n    <tr>\n      <th>480291410002006</th>\n      <td>5</td>\n      <td>1400383</td>\n      <td>3</td>\n      <td>480291410002</td>\n      <td>48029141000</td>\n      <td>4802993407</td>\n      <td>4865000</td>\n      <td>480291074</td>\n      <td>4823</td>\n      <td>48119</td>\n      <td>48019</td>\n      <td>4838730</td>\n      <td>133</td>\n      <td>124</td>\n      <td>5</td>\n      <td>4</td>\n      <td>0</td>\n      <td>0</td>\n      <td>0.016129</td>\n      <td>448943.710938</td>\n      <td>2994.127235</td>\n      <td>POLYGON ((-98.46668 29.36753, -98.46667 29.368...</td>\n    </tr>\n  </tbody>\n</table>\n</div>"
     },
     "metadata": {},
     "execution_count": 8
    }
   ],
   "source": [
    "gdf_blocks = gpd.read_file(files['blocks']).set_index('BLOCK')\n",
    "gdf_blocks['NH_OTH'] = (\n",
    "    gdf_blocks.POPULATION \n",
    "    - gdf_blocks.HISPANIC_O \n",
    "    - gdf_blocks.NH_WHT \n",
    "    - gdf_blocks.NH_BLK \n",
    "    - gdf_blocks.NH_ASN\n",
    ")\n",
    "# gdf_blocks['density']=gdf_blocks.POPULATION / gdf_blocks.ShapeSTAre\n",
    "gdf_blocks = gdf_blocks[gdf_blocks_cols]\n",
    "gdf_blocks = gdf_blocks.to_crs('epsg:4326')\n",
    "gdf_blocks.head()"
   ]
  },
  {
   "cell_type": "code",
   "execution_count": 22,
   "metadata": {},
   "outputs": [
    {
     "output_type": "execute_result",
     "data": {
      "text/plain": "0.00675000675000675"
     },
     "metadata": {},
     "execution_count": 22
    }
   ],
   "source": [
    "# For simplification, using distance per degree latitude to determine buffer amount. \n",
    "# This is slightly inaccurate due to the curvature of the earth. Buffer distances is\n",
    "# set at 800 meters, which is roughly a half mile.\n",
    "\n",
    "meters_per_degree = 111111\n",
    "buffer_in_meters = 750\n",
    "buffer_in_degrees = buffer_in_meters / meters_per_degree\n",
    "buffer_in_degrees"
   ]
  },
  {
   "cell_type": "code",
   "execution_count": 52,
   "metadata": {},
   "outputs": [],
   "source": [
    "def wrangle_stops(source_file, buffer=.01):\n",
    "    \n",
    "    keep_cols = [\n",
    "        'stop_code', 'stop_name', 'stop_lat', 'stop_lon', 'wheelchair_boarding'\n",
    "    ]\n",
    "    \n",
    "    gdf =pd.read_csv(source_file).set_index('stop_id')\n",
    "    gdf = gdf[keep_cols]\n",
    "    gdf = gpd.GeoDataFrame(\n",
    "        gdf,\n",
    "        geometry = gpd.points_from_xy(gdf.stop_lon, gdf.stop_lat),\n",
    "        crs={'epsg:4326'}\n",
    "    )\n",
    "    \n",
    "    gdf_buff = gdf[['geometry']].copy()\n",
    "    \n",
    "    gdf_buff['geometry'] = gdf_buff.buffer(buffer)\n",
    "    gdf_buff = gdf_buff.rename(columns={'geometry':'geo_poly'})\n",
    "    \n",
    "    gdf = gdf.rename(columns={'geometry':'geo_point'})\n",
    "    \n",
    "    gdf = gdf.join(gdf_buff, how='left')\n",
    "    gdf = gdf.set_geometry('geo_poly')\n",
    "    \n",
    "    return gdf\n"
   ]
  },
  {
   "cell_type": "code",
   "execution_count": 54,
   "metadata": {
    "tags": []
   },
   "outputs": [
    {
     "output_type": "execute_result",
     "data": {
      "text/plain": "         stop_code                       stop_name   stop_lat   stop_lon  \\\nstop_id                                                                    \n25316        25316                BLANCO & DRESDEN  29.499014 -98.507783   \n72479        72479     FRESNO & IH-10 W ACCESS RD.  29.474488 -98.516238   \n56239        56239  FREDERICKSBURG RD. & N. FLORES  29.441883 -98.503773   \n76759        76759                MARTIN & N. FRIO  29.430081 -98.503058   \n88973        88973            DOLOROSA & S. FLORES  29.424073 -98.494741   \n\n         wheelchair_boarding                   geo_point  \\\nstop_id                                                    \n25316                      0  POINT (-98.50778 29.49901)   \n72479                      0  POINT (-98.51624 29.47449)   \n56239                      0  POINT (-98.50377 29.44188)   \n76759                      0  POINT (-98.50306 29.43008)   \n88973                      0  POINT (-98.49474 29.42407)   \n\n                                                  geo_poly  \nstop_id                                                     \n25316    POLYGON ((-98.50103 29.49901, -98.50107 29.498...  \n72479    POLYGON ((-98.50949 29.47449, -98.50952 29.473...  \n56239    POLYGON ((-98.49702 29.44188, -98.49706 29.441...  \n76759    POLYGON ((-98.49631 29.43008, -98.49634 29.429...  \n88973    POLYGON ((-98.48799 29.42407, -98.48802 29.423...  ",
      "text/html": "<div>\n<style scoped>\n    .dataframe tbody tr th:only-of-type {\n        vertical-align: middle;\n    }\n\n    .dataframe tbody tr th {\n        vertical-align: top;\n    }\n\n    .dataframe thead th {\n        text-align: right;\n    }\n</style>\n<table border=\"1\" class=\"dataframe\">\n  <thead>\n    <tr style=\"text-align: right;\">\n      <th></th>\n      <th>stop_code</th>\n      <th>stop_name</th>\n      <th>stop_lat</th>\n      <th>stop_lon</th>\n      <th>wheelchair_boarding</th>\n      <th>geo_point</th>\n      <th>geo_poly</th>\n    </tr>\n    <tr>\n      <th>stop_id</th>\n      <th></th>\n      <th></th>\n      <th></th>\n      <th></th>\n      <th></th>\n      <th></th>\n      <th></th>\n    </tr>\n  </thead>\n  <tbody>\n    <tr>\n      <th>25316</th>\n      <td>25316</td>\n      <td>BLANCO &amp; DRESDEN</td>\n      <td>29.499014</td>\n      <td>-98.507783</td>\n      <td>0</td>\n      <td>POINT (-98.50778 29.49901)</td>\n      <td>POLYGON ((-98.50103 29.49901, -98.50107 29.498...</td>\n    </tr>\n    <tr>\n      <th>72479</th>\n      <td>72479</td>\n      <td>FRESNO &amp; IH-10 W ACCESS RD.</td>\n      <td>29.474488</td>\n      <td>-98.516238</td>\n      <td>0</td>\n      <td>POINT (-98.51624 29.47449)</td>\n      <td>POLYGON ((-98.50949 29.47449, -98.50952 29.473...</td>\n    </tr>\n    <tr>\n      <th>56239</th>\n      <td>56239</td>\n      <td>FREDERICKSBURG RD. &amp; N. FLORES</td>\n      <td>29.441883</td>\n      <td>-98.503773</td>\n      <td>0</td>\n      <td>POINT (-98.50377 29.44188)</td>\n      <td>POLYGON ((-98.49702 29.44188, -98.49706 29.441...</td>\n    </tr>\n    <tr>\n      <th>76759</th>\n      <td>76759</td>\n      <td>MARTIN &amp; N. FRIO</td>\n      <td>29.430081</td>\n      <td>-98.503058</td>\n      <td>0</td>\n      <td>POINT (-98.50306 29.43008)</td>\n      <td>POLYGON ((-98.49631 29.43008, -98.49634 29.429...</td>\n    </tr>\n    <tr>\n      <th>88973</th>\n      <td>88973</td>\n      <td>DOLOROSA &amp; S. FLORES</td>\n      <td>29.424073</td>\n      <td>-98.494741</td>\n      <td>0</td>\n      <td>POINT (-98.49474 29.42407)</td>\n      <td>POLYGON ((-98.48799 29.42407, -98.48802 29.423...</td>\n    </tr>\n  </tbody>\n</table>\n</div>"
     },
     "metadata": {},
     "execution_count": 54
    }
   ],
   "source": [
    "gdf_stops_202004 = wrangle_stops(files['stops_202004'], buffer=buffer_in_degrees)\n",
    "\n",
    "gdf_stops_202004.head()"
   ]
  },
  {
   "cell_type": "code",
   "execution_count": 64,
   "metadata": {
    "tags": []
   },
   "outputs": [
    {
     "output_type": "stream",
     "name": "stdout",
     "text": "<class 'geopandas.geodataframe.GeoDataFrame'>\nInt64Index: 6491 entries, 25316 to 74369\nData columns (total 7 columns):\n #   Column               Non-Null Count  Dtype   \n---  ------               --------------  -----   \n 0   stop_code            6491 non-null   int64   \n 1   stop_name            6491 non-null   object  \n 2   stop_lat             6491 non-null   float64 \n 3   stop_lon             6491 non-null   float64 \n 4   wheelchair_boarding  6491 non-null   int64   \n 5   geo_point            6491 non-null   geometry\n 6   geo_poly             6491 non-null   geometry\ndtypes: float64(2), geometry(2), int64(2), object(1)\nmemory usage: 405.7+ KB\n"
    }
   ],
   "source": [
    "gdf_stops_202004.info()"
   ]
  },
  {
   "cell_type": "code",
   "execution_count": 57,
   "metadata": {},
   "outputs": [
    {
     "output_type": "execute_result",
     "data": {
      "text/plain": "         stop_code                       stop_name   stop_lat   stop_lon  \\\nstop_id                                                                    \n25316        25316                BLANCO & DRESDEN  29.499014 -98.507783   \n72479        72479     FRESNO & IH-10 W ACCESS RD.  29.474488 -98.516238   \n56239        56239  FREDERICKSBURG RD. & N. FLORES  29.441883 -98.503773   \n76759        76759                MARTIN & N. FRIO  29.430081 -98.503058   \n88973        88973            DOLOROSA & S. FLORES  29.424073 -98.494741   \n\n         wheelchair_boarding                   geo_point  \\\nstop_id                                                    \n25316                      0  POINT (-98.50778 29.49901)   \n72479                      0  POINT (-98.51624 29.47449)   \n56239                      0  POINT (-98.50377 29.44188)   \n76759                      0  POINT (-98.50306 29.43008)   \n88973                      0  POINT (-98.49474 29.42407)   \n\n                                                  geo_poly  \nstop_id                                                     \n25316    POLYGON ((-98.50103 29.49901, -98.50107 29.498...  \n72479    POLYGON ((-98.50949 29.47449, -98.50952 29.473...  \n56239    POLYGON ((-98.49702 29.44188, -98.49706 29.441...  \n76759    POLYGON ((-98.49631 29.43008, -98.49634 29.429...  \n88973    POLYGON ((-98.48799 29.42407, -98.48802 29.423...  ",
      "text/html": "<div>\n<style scoped>\n    .dataframe tbody tr th:only-of-type {\n        vertical-align: middle;\n    }\n\n    .dataframe tbody tr th {\n        vertical-align: top;\n    }\n\n    .dataframe thead th {\n        text-align: right;\n    }\n</style>\n<table border=\"1\" class=\"dataframe\">\n  <thead>\n    <tr style=\"text-align: right;\">\n      <th></th>\n      <th>stop_code</th>\n      <th>stop_name</th>\n      <th>stop_lat</th>\n      <th>stop_lon</th>\n      <th>wheelchair_boarding</th>\n      <th>geo_point</th>\n      <th>geo_poly</th>\n    </tr>\n    <tr>\n      <th>stop_id</th>\n      <th></th>\n      <th></th>\n      <th></th>\n      <th></th>\n      <th></th>\n      <th></th>\n      <th></th>\n    </tr>\n  </thead>\n  <tbody>\n    <tr>\n      <th>25316</th>\n      <td>25316</td>\n      <td>BLANCO &amp; DRESDEN</td>\n      <td>29.499014</td>\n      <td>-98.507783</td>\n      <td>0</td>\n      <td>POINT (-98.50778 29.49901)</td>\n      <td>POLYGON ((-98.50103 29.49901, -98.50107 29.498...</td>\n    </tr>\n    <tr>\n      <th>72479</th>\n      <td>72479</td>\n      <td>FRESNO &amp; IH-10 W ACCESS RD.</td>\n      <td>29.474488</td>\n      <td>-98.516238</td>\n      <td>0</td>\n      <td>POINT (-98.51624 29.47449)</td>\n      <td>POLYGON ((-98.50949 29.47449, -98.50952 29.473...</td>\n    </tr>\n    <tr>\n      <th>56239</th>\n      <td>56239</td>\n      <td>FREDERICKSBURG RD. &amp; N. FLORES</td>\n      <td>29.441883</td>\n      <td>-98.503773</td>\n      <td>0</td>\n      <td>POINT (-98.50377 29.44188)</td>\n      <td>POLYGON ((-98.49702 29.44188, -98.49706 29.441...</td>\n    </tr>\n    <tr>\n      <th>76759</th>\n      <td>76759</td>\n      <td>MARTIN &amp; N. FRIO</td>\n      <td>29.430081</td>\n      <td>-98.503058</td>\n      <td>0</td>\n      <td>POINT (-98.50306 29.43008)</td>\n      <td>POLYGON ((-98.49631 29.43008, -98.49634 29.429...</td>\n    </tr>\n    <tr>\n      <th>88973</th>\n      <td>88973</td>\n      <td>DOLOROSA &amp; S. FLORES</td>\n      <td>29.424073</td>\n      <td>-98.494741</td>\n      <td>0</td>\n      <td>POINT (-98.49474 29.42407)</td>\n      <td>POLYGON ((-98.48799 29.42407, -98.48802 29.423...</td>\n    </tr>\n  </tbody>\n</table>\n</div>"
     },
     "metadata": {},
     "execution_count": 57
    }
   ],
   "source": [
    "gdf_stops_201909 = wrangle_stops(files['stops_201909'], buffer=buffer_in_degrees)\n",
    "\n",
    "gdf_stops_201909.head()"
   ]
  },
  {
   "cell_type": "code",
   "execution_count": 65,
   "metadata": {
    "tags": []
   },
   "outputs": [
    {
     "output_type": "stream",
     "name": "stdout",
     "text": "<class 'geopandas.geodataframe.GeoDataFrame'>\nInt64Index: 6895 entries, 25316 to 56683\nData columns (total 7 columns):\n #   Column               Non-Null Count  Dtype   \n---  ------               --------------  -----   \n 0   stop_code            6895 non-null   int64   \n 1   stop_name            6895 non-null   object  \n 2   stop_lat             6895 non-null   float64 \n 3   stop_lon             6895 non-null   float64 \n 4   wheelchair_boarding  6895 non-null   int64   \n 5   geo_point            6895 non-null   geometry\n 6   geo_poly             6895 non-null   geometry\ndtypes: float64(2), geometry(2), int64(2), object(1)\nmemory usage: 430.9+ KB\n"
    }
   ],
   "source": [
    "gdf_stops_201909.info()"
   ]
  },
  {
   "cell_type": "code",
   "execution_count": 63,
   "metadata": {},
   "outputs": [
    {
     "output_type": "execute_result",
     "data": {
      "text/plain": "                 OBJECTID       ID  COLORING    BLOCKGROUP        TRACT  \\\n480291919003005         1  1400310         4  480291919003  48029191900   \n480291919001059     15233  1398520         3  480291919001  48029191900   \n480291919001052     15234  1398537         1  480291919001  48029191900   \n480291919001051     15235  1398555         0  480291919001  48029191900   \n480291919003046     15236  1398572         4  480291919003  48029191900   \n\n                        MCD    PLACE        VTD CONGRESS LOWERSLD UPPERSLD  \\\n480291919003005  4802993407  4865000  480294004     4821    48120    48019   \n480291919001059  4802993407  4865000  480294004     4821    48120    48019   \n480291919001052  4802993407  4865000  480294004     4821    48120    48019   \n480291919001051  4802993407  4865000  480294004     4821    48120    48019   \n480291919003046  4802993407  4865000  480294003     4823    48120    48019   \n\n                UNIFSCHOOL  POPULATION  HISPANIC_O  NH_WHT  NH_BLK  NH_ASN  \\\n480291919003005    4838730          13          11       0       0       0   \n480291919001059    4838730          22          18       2       1       0   \n480291919001052    4838730          18          12       3       2       0   \n480291919001051    4838730           0           0       0       0       0   \n480291919003046    4838730           0           0       0       0       0   \n\n                 NH_OTH  gecovector     ShapeSTAre   ShapeSTLen  \\\n480291919003005       2    0.001038   28896.121094  1063.271402   \n480291919001059       1    0.004063  113095.333984  1422.540068   \n480291919001052       1    0.004010  111617.613281  1416.902264   \n480291919001051       0    0.003295   91708.189453  1334.014457   \n480291919003046       0    0.004446  123754.332031  1486.665856   \n\n                                                          geometry  stop_id  \\\n480291919003005  POLYGON ((-98.46781 29.42506, -98.46783 29.424...    95783   \n480291919001059  POLYGON ((-98.47326 29.42442, -98.47326 29.423...    95783   \n480291919001052  POLYGON ((-98.47325 29.42507, -98.47326 29.424...    95783   \n480291919001051  POLYGON ((-98.47326 29.42560, -98.47325 29.425...    95783   \n480291919003046  POLYGON ((-98.47167 29.42181, -98.47326 29.421...    95783   \n\n                 stop_code                   stop_name  stop_lat   stop_lon  \\\n480291919003005      95783  E. COMMERCE & S. HACKBERRY  29.42051 -98.473362   \n480291919001059      95783  E. COMMERCE & S. HACKBERRY  29.42051 -98.473362   \n480291919001052      95783  E. COMMERCE & S. HACKBERRY  29.42051 -98.473362   \n480291919001051      95783  E. COMMERCE & S. HACKBERRY  29.42051 -98.473362   \n480291919003046      95783  E. COMMERCE & S. HACKBERRY  29.42051 -98.473362   \n\n                 wheelchair_boarding                   geo_point  \n480291919003005                    0  POINT (-98.47336 29.42051)  \n480291919001059                    0  POINT (-98.47336 29.42051)  \n480291919001052                    0  POINT (-98.47336 29.42051)  \n480291919001051                    0  POINT (-98.47336 29.42051)  \n480291919003046                    0  POINT (-98.47336 29.42051)  ",
      "text/html": "<div>\n<style scoped>\n    .dataframe tbody tr th:only-of-type {\n        vertical-align: middle;\n    }\n\n    .dataframe tbody tr th {\n        vertical-align: top;\n    }\n\n    .dataframe thead th {\n        text-align: right;\n    }\n</style>\n<table border=\"1\" class=\"dataframe\">\n  <thead>\n    <tr style=\"text-align: right;\">\n      <th></th>\n      <th>OBJECTID</th>\n      <th>ID</th>\n      <th>COLORING</th>\n      <th>BLOCKGROUP</th>\n      <th>TRACT</th>\n      <th>MCD</th>\n      <th>PLACE</th>\n      <th>VTD</th>\n      <th>CONGRESS</th>\n      <th>LOWERSLD</th>\n      <th>UPPERSLD</th>\n      <th>UNIFSCHOOL</th>\n      <th>POPULATION</th>\n      <th>HISPANIC_O</th>\n      <th>NH_WHT</th>\n      <th>NH_BLK</th>\n      <th>NH_ASN</th>\n      <th>NH_OTH</th>\n      <th>gecovector</th>\n      <th>ShapeSTAre</th>\n      <th>ShapeSTLen</th>\n      <th>geometry</th>\n      <th>stop_id</th>\n      <th>stop_code</th>\n      <th>stop_name</th>\n      <th>stop_lat</th>\n      <th>stop_lon</th>\n      <th>wheelchair_boarding</th>\n      <th>geo_point</th>\n    </tr>\n  </thead>\n  <tbody>\n    <tr>\n      <th>480291919003005</th>\n      <td>1</td>\n      <td>1400310</td>\n      <td>4</td>\n      <td>480291919003</td>\n      <td>48029191900</td>\n      <td>4802993407</td>\n      <td>4865000</td>\n      <td>480294004</td>\n      <td>4821</td>\n      <td>48120</td>\n      <td>48019</td>\n      <td>4838730</td>\n      <td>13</td>\n      <td>11</td>\n      <td>0</td>\n      <td>0</td>\n      <td>0</td>\n      <td>2</td>\n      <td>0.001038</td>\n      <td>28896.121094</td>\n      <td>1063.271402</td>\n      <td>POLYGON ((-98.46781 29.42506, -98.46783 29.424...</td>\n      <td>95783</td>\n      <td>95783</td>\n      <td>E. COMMERCE &amp; S. HACKBERRY</td>\n      <td>29.42051</td>\n      <td>-98.473362</td>\n      <td>0</td>\n      <td>POINT (-98.47336 29.42051)</td>\n    </tr>\n    <tr>\n      <th>480291919001059</th>\n      <td>15233</td>\n      <td>1398520</td>\n      <td>3</td>\n      <td>480291919001</td>\n      <td>48029191900</td>\n      <td>4802993407</td>\n      <td>4865000</td>\n      <td>480294004</td>\n      <td>4821</td>\n      <td>48120</td>\n      <td>48019</td>\n      <td>4838730</td>\n      <td>22</td>\n      <td>18</td>\n      <td>2</td>\n      <td>1</td>\n      <td>0</td>\n      <td>1</td>\n      <td>0.004063</td>\n      <td>113095.333984</td>\n      <td>1422.540068</td>\n      <td>POLYGON ((-98.47326 29.42442, -98.47326 29.423...</td>\n      <td>95783</td>\n      <td>95783</td>\n      <td>E. COMMERCE &amp; S. HACKBERRY</td>\n      <td>29.42051</td>\n      <td>-98.473362</td>\n      <td>0</td>\n      <td>POINT (-98.47336 29.42051)</td>\n    </tr>\n    <tr>\n      <th>480291919001052</th>\n      <td>15234</td>\n      <td>1398537</td>\n      <td>1</td>\n      <td>480291919001</td>\n      <td>48029191900</td>\n      <td>4802993407</td>\n      <td>4865000</td>\n      <td>480294004</td>\n      <td>4821</td>\n      <td>48120</td>\n      <td>48019</td>\n      <td>4838730</td>\n      <td>18</td>\n      <td>12</td>\n      <td>3</td>\n      <td>2</td>\n      <td>0</td>\n      <td>1</td>\n      <td>0.004010</td>\n      <td>111617.613281</td>\n      <td>1416.902264</td>\n      <td>POLYGON ((-98.47325 29.42507, -98.47326 29.424...</td>\n      <td>95783</td>\n      <td>95783</td>\n      <td>E. COMMERCE &amp; S. HACKBERRY</td>\n      <td>29.42051</td>\n      <td>-98.473362</td>\n      <td>0</td>\n      <td>POINT (-98.47336 29.42051)</td>\n    </tr>\n    <tr>\n      <th>480291919001051</th>\n      <td>15235</td>\n      <td>1398555</td>\n      <td>0</td>\n      <td>480291919001</td>\n      <td>48029191900</td>\n      <td>4802993407</td>\n      <td>4865000</td>\n      <td>480294004</td>\n      <td>4821</td>\n      <td>48120</td>\n      <td>48019</td>\n      <td>4838730</td>\n      <td>0</td>\n      <td>0</td>\n      <td>0</td>\n      <td>0</td>\n      <td>0</td>\n      <td>0</td>\n      <td>0.003295</td>\n      <td>91708.189453</td>\n      <td>1334.014457</td>\n      <td>POLYGON ((-98.47326 29.42560, -98.47325 29.425...</td>\n      <td>95783</td>\n      <td>95783</td>\n      <td>E. COMMERCE &amp; S. HACKBERRY</td>\n      <td>29.42051</td>\n      <td>-98.473362</td>\n      <td>0</td>\n      <td>POINT (-98.47336 29.42051)</td>\n    </tr>\n    <tr>\n      <th>480291919003046</th>\n      <td>15236</td>\n      <td>1398572</td>\n      <td>4</td>\n      <td>480291919003</td>\n      <td>48029191900</td>\n      <td>4802993407</td>\n      <td>4865000</td>\n      <td>480294003</td>\n      <td>4823</td>\n      <td>48120</td>\n      <td>48019</td>\n      <td>4838730</td>\n      <td>0</td>\n      <td>0</td>\n      <td>0</td>\n      <td>0</td>\n      <td>0</td>\n      <td>0</td>\n      <td>0.004446</td>\n      <td>123754.332031</td>\n      <td>1486.665856</td>\n      <td>POLYGON ((-98.47167 29.42181, -98.47326 29.421...</td>\n      <td>95783</td>\n      <td>95783</td>\n      <td>E. COMMERCE &amp; S. HACKBERRY</td>\n      <td>29.42051</td>\n      <td>-98.473362</td>\n      <td>0</td>\n      <td>POINT (-98.47336 29.42051)</td>\n    </tr>\n  </tbody>\n</table>\n</div>"
     },
     "metadata": {},
     "execution_count": 63
    }
   ],
   "source": [
    "gdf_stops_202004_blocks = gpd.sjoin(gdf_blocks, gdf_stops_202004, how='inner', op='intersects')\n",
    "gdf_stops_202004_blocks = gdf_stops_202004_blocks.rename(columns={'index_right':'stop_id'})\n",
    "gdf_stops_202004_blocks.head()"
   ]
  },
  {
   "cell_type": "code",
   "execution_count": 61,
   "metadata": {},
   "outputs": [
    {
     "output_type": "execute_result",
     "data": {
      "text/plain": "18684"
     },
     "metadata": {},
     "execution_count": 61
    }
   ],
   "source": [
    "gdf_stops_202004_blocks.OBJECTID.value_counts().count()"
   ]
  },
  {
   "cell_type": "code",
   "execution_count": 62,
   "metadata": {},
   "outputs": [
    {
     "output_type": "execute_result",
     "data": {
      "text/plain": "6491"
     },
     "metadata": {},
     "execution_count": 62
    }
   ],
   "source": [
    "gdf_stops_202004_blocks.stop_code.value_counts().count()"
   ]
  },
  {
   "cell_type": "code",
   "execution_count": null,
   "metadata": {},
   "outputs": [],
   "source": []
  }
 ],
 "metadata": {
  "kernelspec": {
   "display_name": "Python 3",
   "language": "python",
   "name": "python3"
  },
  "language_info": {
   "codemirror_mode": {
    "name": "ipython",
    "version": 3
   },
   "file_extension": ".py",
   "mimetype": "text/x-python",
   "name": "python",
   "nbconvert_exporter": "python",
   "pygments_lexer": "ipython3",
   "version": "3.7.7-final"
  }
 },
 "nbformat": 4,
 "nbformat_minor": 4
}