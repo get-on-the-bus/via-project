{
 "cells": [
  {
   "cell_type": "code",
   "execution_count": 1,
   "metadata": {},
   "outputs": [],
   "source": [
    "#######################################\n",
    "###\n",
    "### environment setup\n",
    "###\n",
    "#######################################"
   ]
  },
  {
   "cell_type": "code",
   "execution_count": 2,
   "metadata": {},
   "outputs": [],
   "source": [
    "import pandas as pd\n",
    "import numpy as np\n",
    "import matplotlib.pyplot as plt\n",
    "from pyproj import Proj, transform, CRS\n",
    "from shapely.geometry import Polygon, Point\n",
    "import datetime\n",
    "from pprint import pprint\n",
    "import pprint\n",
    "\n",
    "# ignore warnings\n",
    "import warnings\n",
    "warnings.filterwarnings(\"ignore\")\n",
    "\n",
    "# display full\n",
    "pd.set_option('display.max_columns', None)\n",
    "pd.set_option('display.max_rows', None)"
   ]
  },
  {
   "cell_type": "code",
   "execution_count": 3,
   "metadata": {},
   "outputs": [],
   "source": [
    "import geopandas as gpd"
   ]
  },
  {
   "cell_type": "code",
   "execution_count": 4,
   "metadata": {},
   "outputs": [],
   "source": [
    "import geoplot as gplt"
   ]
  },
  {
   "cell_type": "code",
   "execution_count": 5,
   "metadata": {},
   "outputs": [],
   "source": [
    "#######################################\n",
    "###\n",
    "### identify source data sets\n",
    "###\n",
    "#######################################"
   ]
  },
  {
   "cell_type": "code",
   "execution_count": 103,
   "metadata": {},
   "outputs": [],
   "source": [
    "files = {\n",
    "    'via_data': '../resource_files/via_datadict.csv',\n",
    "    'tracts' : '../resource_files/bexar_county/Bexar_County_Census_Tracts-shp/Bexar_County_Census_Tracts.shp', \n",
    "    'block_groups' : '../resource_files/bexar_county/Bexar_County_Census_Block_Groups-shp/Bexar_County_Census_Block_Groups.shp', \n",
    "    'blocks' : '../resource_files/bexar_county/Bexar_County_Census_Blocks-shp/Bexar_County_Census_Blocks.shp', \n",
    "    'adherence_2020' : '../resource_files/Adherence_2020.csv',\n",
    "    'bus_otp_2020' : '../resource_files/BusOnTimePerformance_2020.csv',\n",
    "    'bus_fare_box_2020' : '../fred/bus_fare_fixed.csv',\n",
    "    'message_logs_2020' : '../resource_files/Logged_Messages.csv',\n",
    "    'service_miles_2020' : '../resource_files/TotalServiceMiles_2020.csv',\n",
    "    'stops_addr_2020' : '../resource_files/Stops_LatLong_GeocodeData_2020.csv',\n",
    "    'stops_201909' : '../resource_files/via_201909/stops.txt', \n",
    "    'stops_202004' : '../resource_files/via_202004/stops.csv', \n",
    "    'trips_201909' : '../resource_files/via_201909/trips.txt', \n",
    "    'trips_202004' : '../resource_files/via_202004/trips.csv', \n",
    "    'routes_201909' : '../resource_files/via_201909/routes.txt', \n",
    "    'routes_202004' : '../resource_files/via_202004/routes.csv', \n",
    "    'stop_times_201909' : '../resource_files/via_201909/stop_times.txt', \n",
    "    'stop_times_202004' : '../resource_files/via_202004/stop_times.csv', \n",
    "    'transfers_201909' : '../resource_files/via_201909/transfers.txt', \n",
    "    'transfers_202004' : '../resource_files/via_202004/transfers.csv', \n",
    "    'shapes_201909' : '../resource_files/via_201909/shapes.txt', \n",
    "    'shapes_202004' : '../resource_files/via_202004/shapes.csv', \n",
    "    'group_stops' : '../resource_files/group_stops-shp'\n",
    "}"
   ]
  },
  {
   "cell_type": "code",
   "execution_count": 7,
   "metadata": {
    "tags": []
   },
   "outputs": [
    {
     "output_type": "stream",
     "name": "stdout",
     "text": "*** via_datadict ***\n\n<class 'pandas.core.frame.DataFrame'>\nRangeIndex: 54 entries, 0 to 53\nData columns (total 4 columns):\n #   Column       Non-Null Count  Dtype  \n---  ------       --------------  -----  \n 0   via_column   54 non-null     object \n 1   gotb_column  54 non-null     object \n 2   datatype     54 non-null     object \n 3   description  0 non-null      float64\ndtypes: float64(1), object(3)\nmemory usage: 1.8+ KB\nNone\n\n\n*** via_rename ***\n\nvia_column\nServiceDate           service_date\nRoutes                       route\nBlock                  route_block\nRouteDirectionName       route_dir\nStopNumber                 stop_id\nName: gotb_column, dtype: object\n\n\n*** via_datatype ***\n\nvia_column\nServiceDate           datetime64\nRoutes                    string\nBlock                     string\nRouteDirectionName        string\nStopNumber                string\nName: datatype, dtype: object\n\n\n*** gotb_datatype ***\n\ngotb_column\nservice_date    datetime64\nroute               string\nroute_block         string\nroute_dir           string\nstop_id             string\nName: datatype, dtype: object\n"
    }
   ],
   "source": [
    "via_datadict = pd.read_csv(files['via_data'])\n",
    "print('*** via_datadict ***\\n')\n",
    "print(via_datadict.info())\n",
    "\n",
    "via_rename = via_datadict.set_index('via_column')['gotb_column']\n",
    "print('\\n\\n*** via_rename ***\\n')\n",
    "print(via_rename.head())\n",
    "\n",
    "via_datatype = via_datadict.set_index('via_column')['datatype']\n",
    "print('\\n\\n*** via_datatype ***\\n')\n",
    "print(via_datatype.head())\n",
    "\n",
    "gotb_datatype = via_datadict.set_index('gotb_column')['datatype']\n",
    "print('\\n\\n*** gotb_datatype ***\\n')\n",
    "print(gotb_datatype.head())"
   ]
  },
  {
   "cell_type": "code",
   "execution_count": 8,
   "metadata": {},
   "outputs": [],
   "source": [
    "#######################################\n",
    "###\n",
    "### set up census data\n",
    "###\n",
    "#######################################"
   ]
  },
  {
   "cell_type": "code",
   "execution_count": 9,
   "metadata": {
    "tags": []
   },
   "outputs": [
    {
     "output_type": "stream",
     "name": "stdout",
     "text": "<class 'geopandas.geodataframe.GeoDataFrame'>\nInt64Index: 366 entries, 1 to 366\nData columns (total 6 columns):\n #   Column      Non-Null Count  Dtype   \n---  ------      --------------  -----   \n 0   TRACT       366 non-null    string  \n 1   SUM_POPULA  366 non-null    int64   \n 2   ShapeSTAre  366 non-null    float64 \n 3   ShapeSTLen  366 non-null    float64 \n 4   geometry    366 non-null    geometry\n 5   density     366 non-null    float64 \ndtypes: float64(3), geometry(1), int64(1), string(1)\nmemory usage: 20.0 KB\nNone\n"
    },
    {
     "output_type": "execute_result",
     "data": {
      "text/plain": "               TRACT  SUM_POPULA    ShapeSTAre    ShapeSTLen  \\\nTRACTID                                                        \n1        48029110100        3379  3.816858e+07  26074.749275   \n2        48029110300        2542  1.667905e+07  22363.990201   \n3        48029110500        2238  1.366653e+07  16048.493069   \n4        48029110600        7553  2.117379e+07  20426.412628   \n5        48029110700        1398  1.058371e+07  16998.776148   \n\n                                                  geometry   density  \nTRACTID                                                               \n1        POLYGON ((-98.48695 29.43502, -98.48626 29.434...  0.000433  \n2        POLYGON ((-98.47326 29.41461, -98.47326 29.413...  0.000325  \n3        POLYGON ((-98.50799 29.42314, -98.50812 29.422...  0.000287  \n4        POLYGON ((-98.50111 29.42735, -98.50121 29.426...  0.000967  \n5        POLYGON ((-98.50401 29.44202, -98.50386 29.441...  0.000179  ",
      "text/html": "<div>\n<style scoped>\n    .dataframe tbody tr th:only-of-type {\n        vertical-align: middle;\n    }\n\n    .dataframe tbody tr th {\n        vertical-align: top;\n    }\n\n    .dataframe thead th {\n        text-align: right;\n    }\n</style>\n<table border=\"1\" class=\"dataframe\">\n  <thead>\n    <tr style=\"text-align: right;\">\n      <th></th>\n      <th>TRACT</th>\n      <th>SUM_POPULA</th>\n      <th>ShapeSTAre</th>\n      <th>ShapeSTLen</th>\n      <th>geometry</th>\n      <th>density</th>\n    </tr>\n    <tr>\n      <th>TRACTID</th>\n      <th></th>\n      <th></th>\n      <th></th>\n      <th></th>\n      <th></th>\n      <th></th>\n    </tr>\n  </thead>\n  <tbody>\n    <tr>\n      <th>1</th>\n      <td>48029110100</td>\n      <td>3379</td>\n      <td>3.816858e+07</td>\n      <td>26074.749275</td>\n      <td>POLYGON ((-98.48695 29.43502, -98.48626 29.434...</td>\n      <td>0.000433</td>\n    </tr>\n    <tr>\n      <th>2</th>\n      <td>48029110300</td>\n      <td>2542</td>\n      <td>1.667905e+07</td>\n      <td>22363.990201</td>\n      <td>POLYGON ((-98.47326 29.41461, -98.47326 29.413...</td>\n      <td>0.000325</td>\n    </tr>\n    <tr>\n      <th>3</th>\n      <td>48029110500</td>\n      <td>2238</td>\n      <td>1.366653e+07</td>\n      <td>16048.493069</td>\n      <td>POLYGON ((-98.50799 29.42314, -98.50812 29.422...</td>\n      <td>0.000287</td>\n    </tr>\n    <tr>\n      <th>4</th>\n      <td>48029110600</td>\n      <td>7553</td>\n      <td>2.117379e+07</td>\n      <td>20426.412628</td>\n      <td>POLYGON ((-98.50111 29.42735, -98.50121 29.426...</td>\n      <td>0.000967</td>\n    </tr>\n    <tr>\n      <th>5</th>\n      <td>48029110700</td>\n      <td>1398</td>\n      <td>1.058371e+07</td>\n      <td>16998.776148</td>\n      <td>POLYGON ((-98.50401 29.44202, -98.50386 29.441...</td>\n      <td>0.000179</td>\n    </tr>\n  </tbody>\n</table>\n</div>"
     },
     "metadata": {},
     "execution_count": 9
    }
   ],
   "source": [
    "gdf_tracts = gpd.read_file(files['tracts']).set_index('OBJECTID')\n",
    "gdf_tracts.index.name = 'TRACTID'\n",
    "gdf_tracts['density']=gdf_tracts.SUM_POPULA / gdf_tracts.ShapeSTAre.min()\n",
    "gdf_tracts = gdf_tracts.to_crs('epsg:4326')\n",
    "gdf_tracts = gdf_tracts.astype({'TRACT':'string'})\n",
    "print(gdf_tracts.info())\n",
    "gdf_tracts.head()"
   ]
  },
  {
   "cell_type": "code",
   "execution_count": 10,
   "metadata": {
    "tags": []
   },
   "outputs": [
    {
     "output_type": "stream",
     "name": "stdout",
     "text": "<class 'geopandas.geodataframe.GeoDataFrame'>\nInt64Index: 1084 entries, 1 to 1084\nData columns (total 6 columns):\n #   Column      Non-Null Count  Dtype   \n---  ------      --------------  -----   \n 0   BLOCKGROUP  1084 non-null   string  \n 1   SUM_POPULA  1084 non-null   int64   \n 2   ShapeSTAre  1084 non-null   float64 \n 3   ShapeSTLen  1084 non-null   float64 \n 4   geometry    1084 non-null   geometry\n 5   density     1084 non-null   float64 \ndtypes: float64(3), geometry(1), int64(1), string(1)\nmemory usage: 59.3 KB\nNone\n"
    },
    {
     "output_type": "execute_result",
     "data": {
      "text/plain": "           BLOCKGROUP  SUM_POPULA    ShapeSTAre    ShapeSTLen  \\\nGROUPID                                                         \n1        480291101001         955  1.951706e+07  23279.128568   \n2        480291101002         694  7.319464e+06  14609.297870   \n3        480291101003        1730  1.133205e+07  14546.232289   \n4        480291103001        1041  4.292228e+06   9662.074836   \n5        480291103002         797  4.074139e+06  10523.204970   \n\n                                                  geometry   density  \nGROUPID                                                               \n1        POLYGON ((-98.48695 29.43502, -98.48626 29.434...  0.000049  \n2        POLYGON ((-98.48824 29.41933, -98.48826 29.418...  0.000095  \n3        POLYGON ((-98.49432 29.43370, -98.49426 29.433...  0.000153  \n4        POLYGON ((-98.47984 29.40970, -98.47983 29.409...  0.000243  \n5        POLYGON ((-98.47989 29.40860, -98.47992 29.408...  0.000196  ",
      "text/html": "<div>\n<style scoped>\n    .dataframe tbody tr th:only-of-type {\n        vertical-align: middle;\n    }\n\n    .dataframe tbody tr th {\n        vertical-align: top;\n    }\n\n    .dataframe thead th {\n        text-align: right;\n    }\n</style>\n<table border=\"1\" class=\"dataframe\">\n  <thead>\n    <tr style=\"text-align: right;\">\n      <th></th>\n      <th>BLOCKGROUP</th>\n      <th>SUM_POPULA</th>\n      <th>ShapeSTAre</th>\n      <th>ShapeSTLen</th>\n      <th>geometry</th>\n      <th>density</th>\n    </tr>\n    <tr>\n      <th>GROUPID</th>\n      <th></th>\n      <th></th>\n      <th></th>\n      <th></th>\n      <th></th>\n      <th></th>\n    </tr>\n  </thead>\n  <tbody>\n    <tr>\n      <th>1</th>\n      <td>480291101001</td>\n      <td>955</td>\n      <td>1.951706e+07</td>\n      <td>23279.128568</td>\n      <td>POLYGON ((-98.48695 29.43502, -98.48626 29.434...</td>\n      <td>0.000049</td>\n    </tr>\n    <tr>\n      <th>2</th>\n      <td>480291101002</td>\n      <td>694</td>\n      <td>7.319464e+06</td>\n      <td>14609.297870</td>\n      <td>POLYGON ((-98.48824 29.41933, -98.48826 29.418...</td>\n      <td>0.000095</td>\n    </tr>\n    <tr>\n      <th>3</th>\n      <td>480291101003</td>\n      <td>1730</td>\n      <td>1.133205e+07</td>\n      <td>14546.232289</td>\n      <td>POLYGON ((-98.49432 29.43370, -98.49426 29.433...</td>\n      <td>0.000153</td>\n    </tr>\n    <tr>\n      <th>4</th>\n      <td>480291103001</td>\n      <td>1041</td>\n      <td>4.292228e+06</td>\n      <td>9662.074836</td>\n      <td>POLYGON ((-98.47984 29.40970, -98.47983 29.409...</td>\n      <td>0.000243</td>\n    </tr>\n    <tr>\n      <th>5</th>\n      <td>480291103002</td>\n      <td>797</td>\n      <td>4.074139e+06</td>\n      <td>10523.204970</td>\n      <td>POLYGON ((-98.47989 29.40860, -98.47992 29.408...</td>\n      <td>0.000196</td>\n    </tr>\n  </tbody>\n</table>\n</div>"
     },
     "metadata": {},
     "execution_count": 10
    }
   ],
   "source": [
    "gdf_groups = gpd.read_file(files['block_groups']).set_index('OBJECTID')\n",
    "gdf_groups.index.name = 'GROUPID'\n",
    "gdf_groups['density']=gdf_groups.SUM_POPULA / gdf_groups.ShapeSTAre\n",
    "gdf_groups = gdf_groups.to_crs('epsg:4326')\n",
    "gdf_groups = gdf_groups.astype({'BLOCKGROUP':'string'})\n",
    "gdf_groups = gdf_groups.drop(columns=['Shape_STAr','Shape_STLe'])\n",
    "print(gdf_groups.info())\n",
    "gdf_groups.head()"
   ]
  },
  {
   "cell_type": "code",
   "execution_count": 11,
   "metadata": {},
   "outputs": [],
   "source": [
    "gdf_blocks_cols = [\n",
    "    'BLOCK', 'BLOCKGROUP', 'TRACT', 'ID', 'COLORING', 'MCD', \n",
    "    'PLACE', 'VTD', 'CONGRESS', 'LOWERSLD', 'UPPERSLD', 'UNIFSCHOOL',\n",
    "    'POPULATION', 'HISPANIC_O', 'NH_WHT', 'NH_BLK', 'NH_ASN', 'NH_OTH',\n",
    "    'gecovector', 'ShapeSTAre', 'ShapeSTLen', 'geometry'\n",
    "]"
   ]
  },
  {
   "cell_type": "code",
   "execution_count": 12,
   "metadata": {
    "tags": []
   },
   "outputs": [
    {
     "output_type": "stream",
     "name": "stdout",
     "text": "<class 'geopandas.geodataframe.GeoDataFrame'>\nInt64Index: 26452 entries, 1 to 26452\nData columns (total 22 columns):\n #   Column      Non-Null Count  Dtype   \n---  ------      --------------  -----   \n 0   BLOCK       26452 non-null  string  \n 1   BLOCKGROUP  26452 non-null  string  \n 2   TRACT       26452 non-null  string  \n 3   ID          26452 non-null  int64   \n 4   COLORING    26452 non-null  int64   \n 5   MCD         26452 non-null  string  \n 6   PLACE       22406 non-null  string  \n 7   VTD         26452 non-null  string  \n 8   CONGRESS    26452 non-null  string  \n 9   LOWERSLD    26452 non-null  string  \n 10  UPPERSLD    26452 non-null  string  \n 11  UNIFSCHOOL  26452 non-null  string  \n 12  POPULATION  26452 non-null  int64   \n 13  HISPANIC_O  26452 non-null  int64   \n 14  NH_WHT      26452 non-null  int64   \n 15  NH_BLK      26452 non-null  int64   \n 16  NH_ASN      26452 non-null  int64   \n 17  NH_OTH      26452 non-null  int64   \n 18  gecovector  26452 non-null  float64 \n 19  ShapeSTAre  26452 non-null  float64 \n 20  ShapeSTLen  26452 non-null  float64 \n 21  geometry    26452 non-null  geometry\ndtypes: float64(3), geometry(1), int64(8), string(10)\nmemory usage: 4.6 MB\nNone\n"
    },
    {
     "output_type": "execute_result",
     "data": {
      "text/plain": "                    BLOCK    BLOCKGROUP        TRACT       ID  COLORING  \\\nBLOCKOBJ                                                                  \n1         480291919003005  480291919003  48029191900  1400310         4   \n2         480291411011002  480291411011  48029141101  1400328         3   \n3         480291411011006  480291411011  48029141101  1400348         3   \n4         480291410002007  480291410002  48029141000  1400365         1   \n5         480291410002006  480291410002  48029141000  1400383         3   \n\n                 MCD    PLACE        VTD CONGRESS LOWERSLD UPPERSLD  \\\nBLOCKOBJ                                                              \n1         4802993407  4865000  480294004     4821    48120    48019   \n2         4802993407  4865000  480291074     4823    48119    48019   \n3         4802993407  4865000  480291074     4823    48119    48019   \n4         4802993407  4865000  480291074     4823    48119    48019   \n5         4802993407  4865000  480291074     4823    48119    48019   \n\n         UNIFSCHOOL  POPULATION  HISPANIC_O  NH_WHT  NH_BLK  NH_ASN  NH_OTH  \\\nBLOCKOBJ                                                                      \n1           4838730          13          11       0       0       0       2   \n2           4838730           0           0       0       0       0       0   \n3           4838730         102          82      16       2       0       2   \n4           4838730         162         149      13       0       0       0   \n5           4838730         133         124       5       4       0       0   \n\n          gecovector     ShapeSTAre   ShapeSTLen  \\\nBLOCKOBJ                                           \n1           0.001038   28896.121094  1063.271402   \n2           0.018304  509512.736328  8615.618889   \n3           0.012803  356394.378906  2836.366689   \n4           0.012892  358877.382812  2852.304380   \n5           0.016129  448943.710938  2994.127235   \n\n                                                   geometry  \nBLOCKOBJ                                                     \n1         POLYGON ((-98.46781 29.42506, -98.46783 29.424...  \n2         POLYGON ((-98.46881 29.36511, -98.46815 29.364...  \n3         POLYGON ((-98.46323 29.36640, -98.46324 29.365...  \n4         POLYGON ((-98.46667 29.36662, -98.46668 29.367...  \n5         POLYGON ((-98.46668 29.36753, -98.46667 29.368...  ",
      "text/html": "<div>\n<style scoped>\n    .dataframe tbody tr th:only-of-type {\n        vertical-align: middle;\n    }\n\n    .dataframe tbody tr th {\n        vertical-align: top;\n    }\n\n    .dataframe thead th {\n        text-align: right;\n    }\n</style>\n<table border=\"1\" class=\"dataframe\">\n  <thead>\n    <tr style=\"text-align: right;\">\n      <th></th>\n      <th>BLOCK</th>\n      <th>BLOCKGROUP</th>\n      <th>TRACT</th>\n      <th>ID</th>\n      <th>COLORING</th>\n      <th>MCD</th>\n      <th>PLACE</th>\n      <th>VTD</th>\n      <th>CONGRESS</th>\n      <th>LOWERSLD</th>\n      <th>UPPERSLD</th>\n      <th>UNIFSCHOOL</th>\n      <th>POPULATION</th>\n      <th>HISPANIC_O</th>\n      <th>NH_WHT</th>\n      <th>NH_BLK</th>\n      <th>NH_ASN</th>\n      <th>NH_OTH</th>\n      <th>gecovector</th>\n      <th>ShapeSTAre</th>\n      <th>ShapeSTLen</th>\n      <th>geometry</th>\n    </tr>\n    <tr>\n      <th>BLOCKOBJ</th>\n      <th></th>\n      <th></th>\n      <th></th>\n      <th></th>\n      <th></th>\n      <th></th>\n      <th></th>\n      <th></th>\n      <th></th>\n      <th></th>\n      <th></th>\n      <th></th>\n      <th></th>\n      <th></th>\n      <th></th>\n      <th></th>\n      <th></th>\n      <th></th>\n      <th></th>\n      <th></th>\n      <th></th>\n      <th></th>\n    </tr>\n  </thead>\n  <tbody>\n    <tr>\n      <th>1</th>\n      <td>480291919003005</td>\n      <td>480291919003</td>\n      <td>48029191900</td>\n      <td>1400310</td>\n      <td>4</td>\n      <td>4802993407</td>\n      <td>4865000</td>\n      <td>480294004</td>\n      <td>4821</td>\n      <td>48120</td>\n      <td>48019</td>\n      <td>4838730</td>\n      <td>13</td>\n      <td>11</td>\n      <td>0</td>\n      <td>0</td>\n      <td>0</td>\n      <td>2</td>\n      <td>0.001038</td>\n      <td>28896.121094</td>\n      <td>1063.271402</td>\n      <td>POLYGON ((-98.46781 29.42506, -98.46783 29.424...</td>\n    </tr>\n    <tr>\n      <th>2</th>\n      <td>480291411011002</td>\n      <td>480291411011</td>\n      <td>48029141101</td>\n      <td>1400328</td>\n      <td>3</td>\n      <td>4802993407</td>\n      <td>4865000</td>\n      <td>480291074</td>\n      <td>4823</td>\n      <td>48119</td>\n      <td>48019</td>\n      <td>4838730</td>\n      <td>0</td>\n      <td>0</td>\n      <td>0</td>\n      <td>0</td>\n      <td>0</td>\n      <td>0</td>\n      <td>0.018304</td>\n      <td>509512.736328</td>\n      <td>8615.618889</td>\n      <td>POLYGON ((-98.46881 29.36511, -98.46815 29.364...</td>\n    </tr>\n    <tr>\n      <th>3</th>\n      <td>480291411011006</td>\n      <td>480291411011</td>\n      <td>48029141101</td>\n      <td>1400348</td>\n      <td>3</td>\n      <td>4802993407</td>\n      <td>4865000</td>\n      <td>480291074</td>\n      <td>4823</td>\n      <td>48119</td>\n      <td>48019</td>\n      <td>4838730</td>\n      <td>102</td>\n      <td>82</td>\n      <td>16</td>\n      <td>2</td>\n      <td>0</td>\n      <td>2</td>\n      <td>0.012803</td>\n      <td>356394.378906</td>\n      <td>2836.366689</td>\n      <td>POLYGON ((-98.46323 29.36640, -98.46324 29.365...</td>\n    </tr>\n    <tr>\n      <th>4</th>\n      <td>480291410002007</td>\n      <td>480291410002</td>\n      <td>48029141000</td>\n      <td>1400365</td>\n      <td>1</td>\n      <td>4802993407</td>\n      <td>4865000</td>\n      <td>480291074</td>\n      <td>4823</td>\n      <td>48119</td>\n      <td>48019</td>\n      <td>4838730</td>\n      <td>162</td>\n      <td>149</td>\n      <td>13</td>\n      <td>0</td>\n      <td>0</td>\n      <td>0</td>\n      <td>0.012892</td>\n      <td>358877.382812</td>\n      <td>2852.304380</td>\n      <td>POLYGON ((-98.46667 29.36662, -98.46668 29.367...</td>\n    </tr>\n    <tr>\n      <th>5</th>\n      <td>480291410002006</td>\n      <td>480291410002</td>\n      <td>48029141000</td>\n      <td>1400383</td>\n      <td>3</td>\n      <td>4802993407</td>\n      <td>4865000</td>\n      <td>480291074</td>\n      <td>4823</td>\n      <td>48119</td>\n      <td>48019</td>\n      <td>4838730</td>\n      <td>133</td>\n      <td>124</td>\n      <td>5</td>\n      <td>4</td>\n      <td>0</td>\n      <td>0</td>\n      <td>0.016129</td>\n      <td>448943.710938</td>\n      <td>2994.127235</td>\n      <td>POLYGON ((-98.46668 29.36753, -98.46667 29.368...</td>\n    </tr>\n  </tbody>\n</table>\n</div>"
     },
     "metadata": {},
     "execution_count": 12
    }
   ],
   "source": [
    "gdf_blocks = gpd.read_file(files['blocks']).set_index('OBJECTID')\n",
    "gdf_blocks.index.name = 'BLOCKOBJ'\n",
    "gdf_blocks['NH_OTH'] = (\n",
    "    gdf_blocks.POPULATION \n",
    "    - gdf_blocks.HISPANIC_O \n",
    "    - gdf_blocks.NH_WHT \n",
    "    - gdf_blocks.NH_BLK \n",
    "    - gdf_blocks.NH_ASN\n",
    ")\n",
    "# gdf_blocks['density']=gdf_blocks.POPULATION / gdf_blocks.ShapeSTAre\n",
    "gdf_blocks = gdf_blocks[gdf_blocks_cols]\n",
    "gdf_blocks = gdf_blocks.to_crs('epsg:4326')\n",
    "gdf_blocks = gdf_blocks.astype({\n",
    "    'BLOCK': 'string',\n",
    "    'BLOCKGROUP': 'string',\n",
    "    'TRACT': 'string',\n",
    "    'MCD': 'string',\n",
    "    'PLACE': 'string',\n",
    "    'VTD': 'string',\n",
    "    'CONGRESS': 'string',\n",
    "    'LOWERSLD': 'string',\n",
    "    'UPPERSLD': 'string',\n",
    "    'UNIFSCHOOL': 'string',\n",
    "})\n",
    "print(gdf_blocks.info())\n",
    "gdf_blocks.head()"
   ]
  },
  {
   "cell_type": "code",
   "execution_count": 13,
   "metadata": {
    "tags": []
   },
   "outputs": [
    {
     "output_type": "execute_result",
     "data": {
      "text/plain": "         COUNTY                                           geometry\nCOUNTYID                                                          \n0         48029  POLYGON ((-98.32720 29.20987, -98.32725 29.209...",
      "text/html": "<div>\n<style scoped>\n    .dataframe tbody tr th:only-of-type {\n        vertical-align: middle;\n    }\n\n    .dataframe tbody tr th {\n        vertical-align: top;\n    }\n\n    .dataframe thead th {\n        text-align: right;\n    }\n</style>\n<table border=\"1\" class=\"dataframe\">\n  <thead>\n    <tr style=\"text-align: right;\">\n      <th></th>\n      <th>COUNTY</th>\n      <th>geometry</th>\n    </tr>\n    <tr>\n      <th>COUNTYID</th>\n      <th></th>\n      <th></th>\n    </tr>\n  </thead>\n  <tbody>\n    <tr>\n      <th>0</th>\n      <td>48029</td>\n      <td>POLYGON ((-98.32720 29.20987, -98.32725 29.209...</td>\n    </tr>\n  </tbody>\n</table>\n</div>"
     },
     "metadata": {},
     "execution_count": 13
    }
   ],
   "source": [
    "gdf_counties = gdf_tracts[['TRACT','geometry']].copy()\n",
    "gdf_counties['COUNTY'] = gdf_counties['TRACT'].str[:5]\n",
    "gdf_counties.drop(columns='TRACT', inplace=True)\n",
    "gdf_counties = gdf_counties.dissolve(by='COUNTY').reset_index()\n",
    "gdf_counties.index.name = 'COUNTYID'\n",
    "gdf_counties = gdf_counties.astype({'COUNTY':\"string\"})\n",
    "gdf_counties.head()"
   ]
  },
  {
   "cell_type": "code",
   "execution_count": 14,
   "metadata": {},
   "outputs": [
    {
     "output_type": "execute_result",
     "data": {
      "text/plain": "0.00675000675000675"
     },
     "metadata": {},
     "execution_count": 14
    }
   ],
   "source": [
    "# For simplification, using distance per degree latitude to determine buffer amount. \n",
    "# This is slightly inaccurate due to the curvature of the earth. Buffer distances is\n",
    "# set at 800 meters, which is roughly a half mile.\n",
    "\n",
    "meters_per_degree = 111111\n",
    "buffer_in_meters = 750\n",
    "buffer_in_degrees = buffer_in_meters / meters_per_degree\n",
    "buffer_in_degrees"
   ]
  },
  {
   "cell_type": "code",
   "execution_count": 15,
   "metadata": {},
   "outputs": [],
   "source": [
    "#######################################\n",
    "###\n",
    "### set up via datathon data\n",
    "###\n",
    "#######################################"
   ]
  },
  {
   "cell_type": "code",
   "execution_count": 16,
   "metadata": {},
   "outputs": [],
   "source": [
    "#######################################\n",
    "###\n",
    "### via datathon 2020\n",
    "###\n",
    "### adherence\n",
    "###\n",
    "#######################################"
   ]
  },
  {
   "cell_type": "code",
   "execution_count": 17,
   "metadata": {},
   "outputs": [],
   "source": [
    "def retype_dataframe(df, type_dict):\n",
    "    retype_dict = {k:v for (k,v) in type_dict.items() if k in df.columns}\n",
    "    # print(retype_dict)\n",
    "    string_cols = (k for (k,v) in retype_dict.items() if v == 'string')\n",
    "    # print(string_cols)\n",
    "    for col in string_cols:\n",
    "        df[col] = df[col].apply(str)\n",
    "    df = df.astype(retype_dict).copy()\n",
    "\n",
    "    return df"
   ]
  },
  {
   "cell_type": "code",
   "execution_count": 18,
   "metadata": {},
   "outputs": [],
   "source": [
    "def wrangle_adherence(source_file):\n",
    "\n",
    "    adherence_stops_cols = ['stop_id','stop_name','deg_lat','deg_lon']\n",
    "    adherence_stops_drops = adherence_stops_cols.copy()\n",
    "    adherence_stops_drops.remove('stop_id')\n",
    "    # print(adherence_stops_drops)\n",
    "    \n",
    "    df_adh = pd.read_csv(source_file).rename(columns=via_rename)\n",
    "    df_adh.route_dir = df_adh.route_dir.str.slice(0,1)\n",
    "    df_adh.vehicle_id = df_adh.vehicle_id.apply(str)\n",
    "    df_adh.vehicle_id = df_adh.vehicle_id.apply(lambda x: x.replace('.0',''))\n",
    "    # print('Check F1: df_adh')\n",
    "    # print(df_adh.info())\n",
    "    \n",
    "    gdf_stops = df_adh[adherence_stops_cols]\n",
    "    # print('\\nCheck F2: df_stops')\n",
    "    # print(gdf_stops.info())\n",
    "    \n",
    "    df_adh = df_adh.drop(columns=adherence_stops_drops)\n",
    "    df_adh = retype_dataframe(df_adh, gotb_datatype)\n",
    "    # print('\\nCheck F3: df_adh')\n",
    "    # print(df_adh.info())\n",
    "\n",
    "    adherence_stops_rename = {\n",
    "        'deg_lat' : 'stop_lat', \n",
    "        'deg_lon' : 'stop_lon',\n",
    "    }\n",
    "    \n",
    "    gdf_stops['stops'] = 1\n",
    "    gdf_stops.deg_lat.fillna(0, inplace=True)\n",
    "    gdf_stops.deg_lon.fillna(0, inplace=True)\n",
    "    gdf_stops.deg_lat = gdf_stops.deg_lat * 10 ** -7\n",
    "    gdf_stops.deg_lon = gdf_stops.deg_lon * 10 ** -7\n",
    "    gdf_stops = gdf_stops.groupby(adherence_stops_cols).agg({'stops':['sum']}).reset_index()\n",
    "    gdf_stops.columns = [col[0] for col in gdf_stops.columns]\n",
    "    # print(new_cols)\n",
    "    gdf_stops.rename(columns=adherence_stops_rename, inplace=True)\n",
    "    gdf_stops['stop_code'] = gdf_stops.stop_id\n",
    "    gdf_stops.set_index('stop_code', inplace=True)\n",
    "    gdf_stops = retype_dataframe(gdf_stops, gotb_datatype)\n",
    "    gdf_stops = gpd.GeoDataFrame(\n",
    "        gdf_stops,\n",
    "        geometry = gpd.points_from_xy(gdf_stops.stop_lon, gdf_stops.stop_lat),\n",
    "        crs={'epsg:4326'}\n",
    "    )\n",
    "    # print('\\nCheck F4: df_stops')\n",
    "    # print(gdf_stops.info())\n",
    "    return df_adh, gdf_stops"
   ]
  },
  {
   "cell_type": "code",
   "execution_count": 19,
   "metadata": {
    "tags": []
   },
   "outputs": [
    {
     "output_type": "stream",
     "name": "stdout",
     "text": "\ndf_adherence\n<class 'pandas.core.frame.DataFrame'>\nRangeIndex: 358328 entries, 0 to 358327\nData columns (total 13 columns):\n #   Column          Non-Null Count   Dtype         \n---  ------          --------------   -----         \n 0   service_date    358328 non-null  datetime64[ns]\n 1   route           358328 non-null  string        \n 2   route_block     358328 non-null  string        \n 3   route_dir       358328 non-null  string        \n 4   stop_id         358328 non-null  string        \n 5   sched_time_s    358328 non-null  float64       \n 6   sched_time_hms  358328 non-null  datetime64[ns]\n 7   arr_time_s      329729 non-null  float64       \n 8   arr_time_hms    329729 non-null  datetime64[ns]\n 9   dep_time_s      329729 non-null  float64       \n 10  dep_time_hms    329729 non-null  datetime64[ns]\n 11  odometer        329684 non-null  float64       \n 12  vehicle_id      358328 non-null  string        \ndtypes: datetime64[ns](4), float64(4), string(5)\nmemory usage: 35.5 MB\nNone\n\ngdf_stops_adh\n<class 'geopandas.geodataframe.GeoDataFrame'>\nIndex: 649 entries, 10013 to GARA\nData columns (total 6 columns):\n #   Column     Non-Null Count  Dtype   \n---  ------     --------------  -----   \n 0   stop_id    649 non-null    string  \n 1   stop_name  649 non-null    string  \n 2   stop_lat   649 non-null    float64 \n 3   stop_lon   649 non-null    float64 \n 4   stops      649 non-null    int64   \n 5   geometry   649 non-null    geometry\ndtypes: float64(2), geometry(1), int64(1), string(2)\nmemory usage: 35.5+ KB\nNone\n"
    }
   ],
   "source": [
    "df_adherence, gdf_stops_adh = wrangle_adherence(files['adherence_2020'])\n",
    "# print(adh.type())\n",
    "# df_adherence = adh[0]\n",
    "# gdf_stops_adh = adh[1]\n",
    "print('\\ndf_adherence')\n",
    "print(df_adherence.info())\n",
    "print('\\ngdf_stops_adh')\n",
    "print(gdf_stops_adh.info())"
   ]
  },
  {
   "cell_type": "code",
   "execution_count": 20,
   "metadata": {},
   "outputs": [
    {
     "output_type": "execute_result",
     "data": {
      "text/plain": "Index(['service_date', 'route', 'route_block', 'route_dir', 'stop_id',\n       'sched_time_s', 'sched_time_hms', 'arr_time_s', 'arr_time_hms',\n       'dep_time_s', 'dep_time_hms', 'odometer', 'vehicle_id'],\n      dtype='object')"
     },
     "metadata": {},
     "execution_count": 20
    }
   ],
   "source": [
    "df_adherence.columns"
   ]
  },
  {
   "cell_type": "code",
   "execution_count": null,
   "metadata": {},
   "outputs": [],
   "source": []
  },
  {
   "cell_type": "code",
   "execution_count": null,
   "metadata": {},
   "outputs": [],
   "source": []
  },
  {
   "cell_type": "code",
   "execution_count": 21,
   "metadata": {
    "tags": []
   },
   "outputs": [
    {
     "output_type": "stream",
     "name": "stdout",
     "text": "<class 'pandas.core.frame.DataFrame'>\nRangeIndex: 357465 entries, 0 to 357464\nData columns (total 14 columns):\n #   Column          Non-Null Count   Dtype         \n---  ------          --------------   -----         \n 0   service_date    357465 non-null  datetime64[ns]\n 1   route_block     357465 non-null  string        \n 2   route_dir       357465 non-null  string        \n 3   vehicle_id      357465 non-null  string        \n 4   route           357465 non-null  string        \n 5   stop_id         357465 non-null  string        \n 6   recs            357465 non-null  int64         \n 7   arr_odometer    328888 non-null  float64       \n 8   dep_odometer    328888 non-null  float64       \n 9   sched_time_hms  357465 non-null  datetime64[ns]\n 10  arr_time_hms    328933 non-null  datetime64[ns]\n 11  dep_time_hms    328933 non-null  datetime64[ns]\n 12  time_stopped    328933 non-null  float64       \n 13  time_missed     328933 non-null  float64       \ndtypes: datetime64[ns](4), float64(4), int64(1), string(5)\nmemory usage: 38.2 MB\nNone\n"
    },
    {
     "output_type": "execute_result",
     "data": {
      "text/plain": "  service_date route_block route_dir vehicle_id route stop_id  recs  \\\n0   2019-09-11     002-001         N        533    34    GARA     1   \n1   2019-09-11     002-001         N        533    34   99166     1   \n2   2019-09-11     002-001         N        533    34   82589     1   \n3   2019-09-11     002-001         N        533    34   11726     1   \n4   2019-09-11     002-001         N        533    34   99396     1   \n\n   arr_odometer  dep_odometer      sched_time_hms        arr_time_hms  \\\n0          0.15          0.15 2019-09-11 00:00:00 2019-09-11 03:40:13   \n1           NaN           NaN 2019-09-11 04:09:00                 NaT   \n2           NaN           NaN 2019-09-11 04:19:00                 NaT   \n3         10.85         10.85 2019-09-11 04:27:00 2019-09-11 04:28:01   \n4         11.28         11.28 2019-09-11 04:30:00 2019-09-11 04:31:21   \n\n         dep_time_hms  time_stopped  time_missed  \n0 2019-09-11 03:48:21         488.0      13701.0  \n1                 NaT           NaN          NaN  \n2                 NaT           NaN          NaN  \n3 2019-09-11 04:28:14          13.0         74.0  \n4 2019-09-11 04:31:21           0.0         81.0  ",
      "text/html": "<div>\n<style scoped>\n    .dataframe tbody tr th:only-of-type {\n        vertical-align: middle;\n    }\n\n    .dataframe tbody tr th {\n        vertical-align: top;\n    }\n\n    .dataframe thead th {\n        text-align: right;\n    }\n</style>\n<table border=\"1\" class=\"dataframe\">\n  <thead>\n    <tr style=\"text-align: right;\">\n      <th></th>\n      <th>service_date</th>\n      <th>route_block</th>\n      <th>route_dir</th>\n      <th>vehicle_id</th>\n      <th>route</th>\n      <th>stop_id</th>\n      <th>recs</th>\n      <th>arr_odometer</th>\n      <th>dep_odometer</th>\n      <th>sched_time_hms</th>\n      <th>arr_time_hms</th>\n      <th>dep_time_hms</th>\n      <th>time_stopped</th>\n      <th>time_missed</th>\n    </tr>\n  </thead>\n  <tbody>\n    <tr>\n      <th>0</th>\n      <td>2019-09-11</td>\n      <td>002-001</td>\n      <td>N</td>\n      <td>533</td>\n      <td>34</td>\n      <td>GARA</td>\n      <td>1</td>\n      <td>0.15</td>\n      <td>0.15</td>\n      <td>2019-09-11 00:00:00</td>\n      <td>2019-09-11 03:40:13</td>\n      <td>2019-09-11 03:48:21</td>\n      <td>488.0</td>\n      <td>13701.0</td>\n    </tr>\n    <tr>\n      <th>1</th>\n      <td>2019-09-11</td>\n      <td>002-001</td>\n      <td>N</td>\n      <td>533</td>\n      <td>34</td>\n      <td>99166</td>\n      <td>1</td>\n      <td>NaN</td>\n      <td>NaN</td>\n      <td>2019-09-11 04:09:00</td>\n      <td>NaT</td>\n      <td>NaT</td>\n      <td>NaN</td>\n      <td>NaN</td>\n    </tr>\n    <tr>\n      <th>2</th>\n      <td>2019-09-11</td>\n      <td>002-001</td>\n      <td>N</td>\n      <td>533</td>\n      <td>34</td>\n      <td>82589</td>\n      <td>1</td>\n      <td>NaN</td>\n      <td>NaN</td>\n      <td>2019-09-11 04:19:00</td>\n      <td>NaT</td>\n      <td>NaT</td>\n      <td>NaN</td>\n      <td>NaN</td>\n    </tr>\n    <tr>\n      <th>3</th>\n      <td>2019-09-11</td>\n      <td>002-001</td>\n      <td>N</td>\n      <td>533</td>\n      <td>34</td>\n      <td>11726</td>\n      <td>1</td>\n      <td>10.85</td>\n      <td>10.85</td>\n      <td>2019-09-11 04:27:00</td>\n      <td>2019-09-11 04:28:01</td>\n      <td>2019-09-11 04:28:14</td>\n      <td>13.0</td>\n      <td>74.0</td>\n    </tr>\n    <tr>\n      <th>4</th>\n      <td>2019-09-11</td>\n      <td>002-001</td>\n      <td>N</td>\n      <td>533</td>\n      <td>34</td>\n      <td>99396</td>\n      <td>1</td>\n      <td>11.28</td>\n      <td>11.28</td>\n      <td>2019-09-11 04:30:00</td>\n      <td>2019-09-11 04:31:21</td>\n      <td>2019-09-11 04:31:21</td>\n      <td>0.0</td>\n      <td>81.0</td>\n    </tr>\n  </tbody>\n</table>\n</div>"
     },
     "metadata": {},
     "execution_count": 21
    }
   ],
   "source": [
    "adh_routes_group_cols = ['service_date','route_block','sched_time_s','route_dir','vehicle_id','route','stop_id']\n",
    "adh_routes_data_cols = ['arr_time_s', 'dep_time_s', 'odometer']\n",
    "adh_routes = df_adherence[adh_routes_group_cols + adh_routes_data_cols]\n",
    "adh_routes['arr_odometer'] = adh_routes.odometer\n",
    "adh_routes['dep_odometer'] = adh_routes.odometer\n",
    "adh_routes['recs'] = 1\n",
    "adh_routes = adh_routes.groupby(adh_routes_group_cols).agg({'recs':['count'], 'arr_time_s':['min'],'dep_time_s':['max'],'arr_odometer':['min'],'dep_odometer':['max']}).reset_index()\n",
    "adh_routes.columns = [col[0] for col in adh_routes.columns]\n",
    "adh_routes = retype_dataframe(adh_routes, gotb_datatype)\n",
    "adh_routes['sched_time_hms'] = adh_routes.service_date + pd.to_timedelta(adh_routes.sched_time_s,'sec')\n",
    "adh_routes['arr_time_hms'] = adh_routes.service_date + pd.to_timedelta(adh_routes.arr_time_s,'sec')\n",
    "adh_routes['dep_time_hms'] = adh_routes.service_date + pd.to_timedelta(adh_routes.dep_time_s,'sec')\n",
    "adh_routes['time_stopped'] = adh_routes.dep_time_s - adh_routes.arr_time_s\n",
    "adh_routes['time_missed'] = adh_routes.dep_time_s - adh_routes.sched_time_s\n",
    "adh_routes.drop(columns=['sched_time_s', 'arr_time_s', 'dep_time_s'], inplace=True)\n",
    "adh_routes_sort_cols = ['service_date','route_block','sched_time_hms','vehicle_id','arr_time_hms','arr_odometer','route_dir']\n",
    "adh_routes = adh_routes.sort_values(by=adh_routes_sort_cols).reset_index().drop(columns='index')\n",
    "\n",
    "print(adh_routes.info())\n",
    "adh_routes.head()"
   ]
  },
  {
   "cell_type": "code",
   "execution_count": null,
   "metadata": {},
   "outputs": [],
   "source": []
  },
  {
   "cell_type": "code",
   "execution_count": 22,
   "metadata": {
    "tags": []
   },
   "outputs": [
    {
     "output_type": "stream",
     "name": "stdout",
     "text": "357465\n\n     block_run  run_stop\nidx                     \n0            1         1\n1            1         2\n2            1         3\n3            1         4\n4            1         5\n        block_run  run_stop\nidx                        \n357460      75019         4\n357461      75020         1\n357462      75020         2\n357463      75020         3\n357464      75020         4\n"
    }
   ],
   "source": [
    "def generate_run_ids(df):\n",
    "    #setup\n",
    "    block_run = 0\n",
    "    previous = ()\n",
    "    #for loop - condition then yield\n",
    "    for row in df.index:\n",
    "        # cur_df = df.loc[row]\n",
    "        current=(df.service_date[row],df.vehicle_id[row],df.route[row],df.route_block[row],df.route_dir[row])\n",
    "        # print(run_stop)\n",
    "        if previous != current:\n",
    "            block_run += 1\n",
    "            run_stop = 1\n",
    "        yield row, block_run, run_stop\n",
    "        run_stop +=1\n",
    "        previous=current\n",
    "\n",
    "# adh_routes_group_cols = ['service_date','vehicle_id','route','sched_time_s','route_block','route_dir','stop_id']\n",
    "adh_routes_block_cols = adh_routes_group_cols.copy()\n",
    "# print(adh_routes_block_cols)\n",
    "adh_routes_block_cols.remove('sched_time_s')\n",
    "print(len(adh_routes))\n",
    "gen_df = pd.DataFrame(generate_run_ids(adh_routes[adh_routes_block_cols]), columns=['idx', 'block_run', 'run_stop']).set_index('idx')\n",
    "print()\n",
    "print(gen_df.head())\n",
    "print(gen_df.tail())\n"
   ]
  },
  {
   "cell_type": "code",
   "execution_count": 23,
   "metadata": {},
   "outputs": [
    {
     "output_type": "execute_result",
     "data": {
      "text/plain": "57407          0.12          0.12 2019-09-20 14:20:00 2019-09-20 14:19:12   \n357408          7.48          7.48 2019-09-20 14:35:00 2019-09-20 14:33:35   \n357409         10.34         10.34 2019-09-20 14:46:00 2019-09-20 14:47:19   \n357410         17.90         17.90 2019-09-20 14:55:00 2019-09-20 15:09:13   \n357411         17.98         17.98 2019-09-20 14:55:00 2019-09-20 15:09:13   \n357412         21.93         21.93 2019-09-20 15:06:00 2019-09-20 15:21:08   \n357413         24.55         24.55 2019-09-20 15:17:00 2019-09-20 15:32:36   \n357414         25.97         25.97 2019-09-20 15:20:00 2019-09-20 15:38:19   \n357415         27.41         27.41 2019-09-20 15:35:00 2019-09-20 15:45:15   \n357416         27.49         27.49 2019-09-20 15:40:00 2019-09-20 15:45:15   \n357417         30.28         30.28 2019-09-20 15:51:00 2019-09-20 15:58:24   \n357418         33.35         33.35 2019-09-20 16:00:00 2019-09-20 16:06:30   \n357419         33.43         33.43 2019-09-20 16:00:00 2019-09-20 16:06:30   \n357420         37.38         37.38 2019-09-20 16:11:00 2019-09-20 16:17:29   \n357421         40.02         40.02 2019-09-20 16:22:00 2019-09-20 16:27:58   \n357422         41.43         41.43 2019-09-20 16:25:00 2019-09-20 16:35:54   \n357423         42.87         42.87 2019-09-20 16:40:00 2019-09-20 16:44:28   \n357424         42.95         42.95 2019-09-20 16:45:00 2019-09-20 16:44:28   \n357425         45.75         45.75 2019-09-20 16:56:00 2019-09-20 16:59:25   \n357426         48.83         48.83 2019-09-20 17:05:00 2019-09-20 17:08:27   \n357427         48.92         48.92 2019-09-20 17:05:00 2019-09-20 17:08:27   \n357428         52.87         52.87 2019-09-20 17:16:00 2019-09-20 17:19:33   \n357429         55.50         55.50 2019-09-20 17:27:00 2019-09-20 17:28:11   \n357430         56.92         56.92 2019-09-20 17:30:00 2019-09-20 17:35:35   \n357431         58.36         58.36 2019-09-20 17:45:00 2019-09-20 17:44:46   \n357432         58.43         58.43 2019-09-20 17:50:00 2019-09-20 17:44:46   \n357433         61.25         61.25 2019-09-20 18:01:00 2019-09-20 18:01:23   \n357434         64.32         64.32 2019-09-20 18:10:00 2019-09-20 18:09:31   \n357435         64.40         64.40 2019-09-20 18:10:00 2019-09-20 18:09:31   \n357436         68.35         68.35 2019-09-20 18:20:00 2019-09-20 18:21:18   \n357437         70.99         70.99 2019-09-20 18:30:00 2019-09-20 18:30:42   \n357438         72.41         72.41 2019-09-20 18:33:00 2019-09-20 18:38:43   \n357439         73.85         73.85 2019-09-20 18:46:00 2019-09-20 18:43:56   \n357440         73.92         73.92 2019-09-20 18:50:00 2019-09-20 18:43:56   \n357441         76.73         76.73 2019-09-20 19:00:00 2019-09-20 19:01:36   \n357442         79.81         79.81 2019-09-20 19:09:00 2019-09-20 19:09:55   \n357443         79.88         79.88 2019-09-20 19:09:00 2019-09-20 19:09:55   \n357444         83.84         83.84 2019-09-20 19:19:00 2019-09-20 19:19:53   \n357445         86.48         86.48 2019-09-20 19:29:00 2019-09-20 19:29:20   \n357446         87.89         87.89 2019-09-20 19:32:00 2019-09-20 19:34:15   \n357447         89.34         89.34 2019-09-20 19:45:00 2019-09-20 19:41:51   \n357448         89.42         89.42 2019-09-20 19:50:00 2019-09-20 19:41:51   \n357449         92.23         92.23 2019-09-20 20:00:00 2019-09-20 19:59:49   \n357450         95.30         95.30 2019-09-20 20:09:00 2019-09-20 20:08:59   \n357451         95.37         95.37 2019-09-20 20:09:00 2019-09-20 20:08:59   \n357452         99.33         99.33 2019-09-20 20:19:00 2019-09-20 20:19:49   \n357453        101.99        101.99 2019-09-20 20:28:00 2019-09-20 20:28:50   \n357454        103.38        103.38 2019-09-20 20:31:00 2019-09-20 20:34:15   \n357455        104.91        104.91 2019-09-20 20:43:00 2019-09-20 20:42:05   \n357456        112.29        112.29 2019-09-20 20:58:00 2019-09-20 20:53:10   \n357457          0.17          0.17 2019-09-20 03:40:00 2019-09-20 03:34:44   \n357458          9.79          9.79 2019-09-20 04:00:00 2019-09-20 03:53:40   \n357459           NaN           NaN 2019-09-20 04:06:00                 NaT   \n357460         18.90         18.90 2019-09-20 04:30:00 2019-09-20 04:15:43   \n357461          0.16          0.16 2019-09-20 03:40:00 2019-09-20 03:28:43   \n357462           NaN           NaN 2019-09-20 04:00:00                 NaT   \n357463         17.85         17.85 2019-09-20 04:10:00 2019-09-20 04:10:54   \n357464         23.59         23.59 2019-09-20 04:22:00 2019-09-20 04:20:23   \n\n              dep_time_hms  time_stopped  time_missed  block_run  run_stop  \n357265                 NaT           NaN          NaN      74972         3  \n357266 2019-09-20 07:15:49          10.0         49.0      74972         4  \n357267 2019-09-20 07:21:30           0.0       -450.0      74972         5  \n357268 2019-09-20 07:35:06         816.0          6.0      74973         1  \n357269 2019-09-20 07:45:48          49.0         48.0      74973         2  \n357270 2019-09-20 07:53:14           0.0       -166.0      74973         3  \n357271 2019-09-20 07:56:04         170.0          4.0      74974         1  \n357272 2019-09-20 08:07:08          34.0          8.0      74974         2  \n357273                 NaT           NaN          NaN      74974         3  \n357274 2019-09-20 08:21:02          10.0         62.0      74974         4  \n357275 2019-09-20 08:26:34           0.0       -446.0      74974         5  \n357276 2019-09-20 08:35:05         511.0          5.0      74975         1  \n357277                 NaT           NaN          NaN      74975         2  \n357278 2019-09-20 08:51:03           0.0       -237.0      74975         3  \n357279 2019-09-20 08:54:58         235.0         -2.0      74976         1  \n357280 2019-09-20 09:05:44          17.0        -16.0      74976         2  \n357281                 NaT           NaN          NaN      74976         3  \n357282 2019-09-20 09:19:19          12.0         19.0      74976         4  \n357283 2019-09-20 09:24:47           0.0       -493.0      74976         5  \n357284 2019-09-20 09:34:58         611.0         -2.0      74977         1  \n357285 2019-09-20 09:45:34          56.0         34.0      74977         2  \n357286 2019-09-20 09:53:20           0.0       -100.0      74977         3  \n357287 2019-09-20 09:55:02         102.0          2.0      74978         1  \n357288                 NaT           NaN          NaN      74978         2  \n357289                 NaT           NaN          NaN      74978         3  \n357290 2019-09-20 10:18:45           9.0        -15.0      74978         4  \n357291 2019-09-20 10:23:17           0.0       -583.0      74978         5  \n357292 2019-09-20 10:35:28         731.0         28.0      74979         1  \n357293 2019-09-20 10:45:06          36.0          6.0      74979         2  \n357294 2019-09-20 10:52:56           0.0        -64.0      74979         3  \n357295 2019-09-20 10:54:03          67.0          3.0      74980         1  \n357296 2019-09-20 11:04:48          32.0        -12.0      74980         2  \n357297                 NaT           NaN          NaN      74980         3  \n357298 2019-09-20 11:19:01           8.0         61.0      74980         4  \n357299 2019-09-20 11:25:43           0.0       -377.0      74980         5  \n357300 2019-09-20 11:34:45         542.0        -15.0      74981         1  \n357301 2019-09-20 11:44:36          47.0        -24.0      74981         2  \n357302 2019-09-20 11:51:45           0.0       -135.0      74981         3  \n357303 2019-09-20 11:54:01         136.0          1.0      74982         1  \n357304 2019-09-20 12:04:57          40.0         -3.0      74982         2  \n357305 2019-09-20 12:19:44          76.0        224.0      74982         3  \n357306 2019-09-20 12:26:17           8.0        437.0      74982         4  \n357307 2019-09-20 12:39:40           0.0        400.0      74982         5  \n357308 2019-09-20 12:40:37          57.0        337.0      74983         1  \n357309 2019-09-20 12:50:43          36.0        343.0      74983         2  \n357310 2019-09-20 12:57:53           0.0        233.0      74983         3  \n357311 2019-09-20 12:58:28          35.0        268.0      74984         1  \n357312 2019-09-20 13:07:55          39.0        235.0      74984         2  \n357313 2019-09-20 13:20:46         103.0        346.0      74984         3  \n357314 2019-09-20 13:26:13           8.0        493.0      74984         4  \n357315 2019-09-20 13:31:51           0.0         -9.0      74984         5  \n357316 2019-09-20 13:34:36         165.0        -24.0      74985         1  \n357317                 NaT           NaN          NaN      74985         2  \n357318 2019-09-20 13:51:22           0.0       -158.0      74985         3  \n357319 2019-09-20 13:54:03         161.0          3.0      74986         1  \n357320 2019-09-20 14:04:16          34.0         16.0      74986         2  \n357321 2019-09-20 14:16:02          88.0         62.0      74986         3  \n357322 2019-09-20 14:22:51          40.0        291.0      74986         4  \n357323 2019-09-20 14:32:31          86.0        -29.0      74986         5  \n357324 2019-09-20 14:42:39           0.0       -321.0      74986         6  \n357325 2019-09-20 12:51:56         990.0        116.0      74987         1  \n357326 2019-09-20 13:05:25         159.0         25.0      74987         2  \n357327 2019-09-20 13:15:57          55.0         57.0      74987         3  \n357328 2019-09-20 13:23:37           0.0        -23.0      74987         4  \n357329 2019-09-20 13:24:14          37.0         14.0      74988         1  \n357330 2019-09-20 13:34:57          42.0         57.0      74988         2  \n357331 2019-09-20 13:46:46         203.0        106.0      74988         3  \n357332 2019-09-20 13:54:43           8.0        403.0      74988         4  \n357333 2019-09-20 14:05:14           0.0        194.0      74988         5  \n357334 2019-09-20 14:06:30          76.0         90.0      74989         1  \n357335 2019-09-20 14:18:56          75.0        176.0      74989         2  \n357336 2019-09-20 14:26:44           0.0        104.0      74989         3  \n357337 2019-09-20 14:27:47          63.0        167.0      74990         1  \n357338 2019-09-20 14:38:11          42.0        131.0      74990         2  \n357339 2019-09-20 14:47:29          62.0         29.0      74990         3  \n357340 2019-09-20 14:52:15          14.0        135.0      74990         4  \n357341 2019-09-20 15:01:05           0.0       -235.0      74990         5  \n357342 2019-09-20 15:10:27         562.0         27.0      74991         1  \n357343 2019-09-20 15:23:17          48.0        137.0      74991         2  \n357344 2019-09-20 15:33:23           0.0        203.0      74991         3  \n357345 2019-09-20 15:33:55          32.0        235.0      74992         1  \n357346 2019-09-20 15:44:34          37.0        214.0      74992         2  \n357347 2019-09-20 15:53:31          49.0         91.0      74992         3  \n357348 2019-09-20 16:00:05          18.0        305.0      74992         4  \n357349 2019-09-20 16:06:47           0.0       -193.0      74992         5  \n357350 2019-09-20 16:16:18         571.0         78.0      74993         1  \n357351 2019-09-20 16:30:02          44.0        242.0      74993         2  \n357352 2019-09-20 16:39:23           0.0        263.0      74993         3  \n357353 2019-09-20 16:40:01          38.0        301.0      74994         1  \n357354 2019-09-20 16:51:01          44.0        301.0      74994         2  \n357355 2019-09-20 17:03:58         114.0        418.0      74994         3  \n357356 2019-09-20 17:14:09          84.0        849.0      74994         4  \n357357 2019-09-20 17:23:51           0.0        531.0      74994         5  \n357358 2019-09-20 17:24:44          53.0        284.0      74995         1  \n357359 2019-09-20 17:38:17          33.0        437.0      74995         2  \n357360 2019-09-20 17:47:06           0.0        426.0      74995         3  \n357361 2019-09-20 17:47:17          11.0        437.0      74996         1  \n357362 2019-09-20 17:58:36          23.0        456.0      74996         2  \n357363 2019-09-20 18:12:00         193.0        600.0      74996         3  \n357364 2019-09-20 18:17:38           9.0        758.0      74996         4  \n357365 2019-09-20 18:26:49           0.0        529.0      74996         5  \n357366 2019-09-20 18:28:32         103.0        512.0      74997         1  \n357367 2019-09-20 18:43:00         128.0        780.0      74997         2  \n357368 2019-09-20 18:51:14           0.0        734.0      74997         3  \n357369 2019-09-20 18:51:26          12.0        746.0      74998         1  \n357370 2019-09-20 19:02:04          26.0        784.0      74998         2  \n357371 2019-09-20 19:12:52          79.0        832.0      74998         3  \n357372 2019-09-20 19:18:20           9.0        980.0      74998         4  \n357373 2019-09-20 19:25:51           0.0        651.0      74998         5  \n357374 2019-09-20 19:26:34          43.0        394.0      74999         1  \n357375 2019-09-20 19:37:30          65.0        450.0      74999         2  \n357376 2019-09-20 19:46:14           0.0        434.0      74999         3  \n357377 2019-09-20 19:46:26          12.0        446.0      75000         1  \n357378 2019-09-20 19:56:29          26.0        449.0      75000         2  \n357379 2019-09-20 20:06:51          86.0        471.0      75000         3  \n357380 2019-09-20 20:12:24           9.0        624.0      75000         4  \n357381 2019-09-20 20:20:01           0.0        361.0      75000         5  \n357382 2019-09-20 20:26:11         370.0        371.0      75001         1  \n357383 2019-09-20 20:37:45          45.0        525.0      75001         2  \n357384 2019-09-20 20:45:20           0.0        440.0      75001         3  \n357385 2019-09-20 20:45:34          14.0        454.0      75002         1  \n357386 2019-09-20 20:56:37          29.0        517.0      75002         2  \n357387 2019-09-20 21:06:43          79.0        583.0      75002         3  \n357388 2019-09-20 21:12:51           9.0        771.0      75002         4  \n357389 2019-09-20 21:20:05           0.0        485.0      75002         5  \n357390 2019-09-20 21:22:17         132.0        137.0      75003         1  \n357391 2019-09-20 21:36:15          49.0        435.0      75003         2  \n357392 2019-09-20 21:45:08           0.0        428.0      75003         3  \n357393 2019-09-20 21:46:02          54.0        482.0      75004         1  \n357394 2019-09-20 21:56:43          53.0        523.0      75004         2  \n357395 2019-09-20 22:06:01          75.0        541.0      75004         3  \n357396 2019-09-20 22:10:17           9.0        617.0      75004         4  \n357397 2019-09-20 22:15:50           0.0        230.0      75004         5  \n357398 2019-09-20 22:20:51         301.0         51.0      75005         1  \n357399 2019-09-20 22:32:00          36.0        180.0      75005         2  \n357400 2019-09-20 22:39:57           0.0        117.0      75005         3  \n357401 2019-09-20 22:40:36          39.0        156.0      75006         1  \n357402 2019-09-20 22:51:26          25.0        206.0      75006         2  \n357403 2019-09-20 23:00:24          66.0        264.0      75006         3  \n357404 2019-09-20 23:05:39          29.0        459.0      75006         4  \n357405 2019-09-20 23:11:25          44.0         85.0      75006         5  \n357406 2019-09-20 23:23:16           0.0       -104.0      75006         6  \n357407 2019-09-20 14:22:38         206.0        158.0      75007         1  \n357408 2019-09-20 14:37:15         220.0        135.0      75007         2  \n357409 2019-09-20 14:47:45          26.0        105.0      75007         3  \n357410 2019-09-20 15:09:13           0.0        853.0      75007         4  \n357411 2019-09-20 15:10:07          54.0        907.0      75008         1  \n357412 2019-09-20 15:21:31          23.0        931.0      75008         2  \n357413 2019-09-20 15:33:50          74.0       1010.0      75008         3  \n357414 2019-09-20 15:38:29          10.0       1109.0      75008         4  \n357415 2019-09-20 15:45:15           0.0        615.0      75008         5  \n357416 2019-09-20 15:45:53          38.0        353.0      75009         1  \n357417 2019-09-20 15:59:13          49.0        493.0      75009         2  \n357418 2019-09-20 16:06:30           0.0        390.0      75009         3  \n357419 2019-09-20 16:07:01          31.0        421.0      75010         1  \n357420 2019-09-20 16:18:37          68.0        457.0      75010         2  \n357421 2019-09-20 16:29:15          77.0        435.0      75010         3  \n357422 2019-09-20 16:36:49          55.0        709.0      75010         4  \n357423 2019-09-20 16:44:28           0.0        268.0      75010         5  \n357424 2019-09-20 16:45:16          48.0         16.0      75011         1  \n357425 2019-09-20 16:59:52          27.0        232.0      75011         2  \n357426 2019-09-20 17:08:27           0.0        207.0      75011         3  \n357427 2019-09-20 17:09:07          40.0        247.0      75012         1  \n357428 2019-09-20 17:20:11          38.0        251.0      75012         2  \n357429 2019-09-20 17:28:54          43.0        114.0      75012         3  \n357430 2019-09-20 17:35:48          13.0        348.0      75012         4  \n357431 2019-09-20 17:44:46           0.0        -14.0      75012         5  \n357432 2019-09-20 17:51:13         387.0         73.0      75013         1  \n357433 2019-09-20 18:02:02          39.0         62.0      75013         2  \n357434 2019-09-20 18:09:31           0.0        -29.0      75013         3  \n357435 2019-09-20 18:12:16         165.0        136.0      75014         1  \n357436 2019-09-20 18:21:41          23.0        101.0      75014         2  \n357437 2019-09-20 18:32:46         124.0        166.0      75014         3  \n357438 2019-09-20 18:38:52           9.0        352.0      75014         4  \n357439 2019-09-20 18:43:56           0.0       -124.0      75014         5  \n357440 2019-09-20 18:50:50         414.0         50.0      75015         1  \n357441 2019-09-20 19:02:09          33.0        129.0      75015         2  \n357442 2019-09-20 19:09:55           0.0         55.0      75015         3  \n357443 2019-09-20 19:10:42          47.0        102.0      75016         1  \n357444 2019-09-20 19:20:12          19.0         72.0      75016         2  \n357445 2019-09-20 19:30:09          49.0         69.0      75016         3  \n357446 2019-09-20 19:34:23           8.0        143.0      75016         4  \n357447 2019-09-20 19:41:51           0.0       -189.0      75016         5  \n357448 2019-09-20 19:50:27         516.0         27.0      75017         1  \n357449 2019-09-20 20:00:27          38.0         27.0      75017         2  \n357450 2019-09-20 20:08:59           0.0         -1.0      75017         3  \n357451 2019-09-20 20:09:13          14.0         13.0      75018         1  \n357452 2019-09-20 20:20:07          18.0         67.0      75018         2  \n357453 2019-09-20 20:29:12          22.0         72.0      75018         3  \n357454 2019-09-20 20:34:25          10.0        205.0      75018         4  \n357455 2019-09-20 20:42:54          49.0         -6.0      75018         5  \n357456 2019-09-20 20:53:10           0.0       -290.0      75018         6  \n357457 2019-09-20 03:37:52         188.0       -128.0      75019         1  \n357458 2019-09-20 04:00:14         394.0         14.0      75019         2  \n357459                 NaT           NaN          NaN      75019         3  \n357460 2019-09-20 04:15:43           0.0       -857.0      75019         4  \n357461 2019-09-20 03:38:13         570.0       -107.0      75020         1  \n357462                 NaT           NaN          NaN      75020         2  \n357463 2019-09-20 04:11:20          26.0         80.0      75020         3  \n357464 2019-09-20 04:20:23           0.0        -97.0      75020         4  ",
      "text/html": "<div>\n<style scoped>\n    .dataframe tbody tr th:only-of-type {\n        vertical-align: middle;\n    }\n\n    .dataframe tbody tr th {\n        vertical-align: top;\n    }\n\n    .dataframe thead th {\n        text-align: right;\n    }\n</style>\n<table border=\"1\" class=\"dataframe\">\n  <thead>\n    <tr style=\"text-align: right;\">\n      <th></th>\n      <th>service_date</th>\n      <th>route_block</th>\n      <th>route_dir</th>\n      <th>vehicle_id</th>\n      <th>route</th>\n      <th>stop_id</th>\n      <th>recs</th>\n      <th>arr_odometer</th>\n      <th>dep_odometer</th>\n      <th>sched_time_hms</th>\n      <th>arr_time_hms</th>\n      <th>dep_time_hms</th>\n      <th>time_stopped</th>\n      <th>time_missed</th>\n      <th>block_run</th>\n      <th>run_stop</th>\n    </tr>\n  </thead>\n  <tbody>\n    <tr>\n      <th>357265</th>\n      <td>2019-09-20</td>\n      <td>672-002</td>\n      <td>N</td>\n      <td>639</td>\n      <td>672</td>\n      <td>11346</td>\n      <td>1</td>\n      <td>NaN</td>\n      <td>NaN</td>\n      <td>2019-09-20 07:12:00</td>\n      <td>NaT</td>\n      <td>NaT</td>\n      <td>NaN</td>\n      <td>NaN</td>\n      <td>74972</td>\n      <td>3</td>\n    </tr>\n    <tr>\n      <th>357266</th>\n      <td>2019-09-20</td>\n      <td>672-002</td>\n      <td>N</td>\n      <td>639</td>\n      <td>672</td>\n      <td>53756</td>\n      <td>1</td>\n      <td>36.46</td>\n      <td>36.46</td>\n      <td>2019-09-20 07:15:00</td>\n      <td>2019-09-20 07:15:39</td>\n      <td>2019-09-20 07:15:49</td>\n      <td>10.0</td>\n      <td>49.0</td>\n      <td>74972</td>\n      <td>4</td>\n    </tr>\n    <tr>\n      <th>357267</th>\n      <td>2019-09-20</td>\n      <td>672-002</td>\n      <td>N</td>\n      <td>639</td>\n      <td>672</td>\n      <td>11137</td>\n      <td>1</td>\n      <td>37.91</td>\n      <td>37.91</td>\n      <td>2019-09-20 07:29:00</td>\n      <td>2019-09-20 07:21:30</td>\n      <td>2019-09-20 07:21:30</td>\n      <td>0.0</td>\n      <td>-450.0</td>\n      <td>74972</td>\n      <td>5</td>\n    </tr>\n    <tr>\n      <th>357268</th>\n      <td>2019-09-20</td>\n      <td>672-002</td>\n      <td>S</td>\n      <td>639</td>\n      <td>672</td>\n      <td>11137</td>\n      <td>1</td>\n      <td>37.98</td>\n      <td>37.98</td>\n      <td>2019-09-20 07:35:00</td>\n      <td>2019-09-20 07:21:30</td>\n      <td>2019-09-20 07:35:06</td>\n      <td>816.0</td>\n      <td>6.0</td>\n      <td>74973</td>\n      <td>1</td>\n    </tr>\n    <tr>\n      <th>357269</th>\n      <td>2019-09-20</td>\n      <td>672-002</td>\n      <td>S</td>\n      <td>639</td>\n      <td>672</td>\n      <td>23953</td>\n      <td>1</td>\n      <td>40.86</td>\n      <td>40.86</td>\n      <td>2019-09-20 07:45:00</td>\n      <td>2019-09-20 07:44:59</td>\n      <td>2019-09-20 07:45:48</td>\n      <td>49.0</td>\n      <td>48.0</td>\n      <td>74973</td>\n      <td>2</td>\n    </tr>\n    <tr>\n      <th>357270</th>\n      <td>2019-09-20</td>\n      <td>672-002</td>\n      <td>S</td>\n      <td>639</td>\n      <td>672</td>\n      <td>26183</td>\n      <td>1</td>\n      <td>43.93</td>\n      <td>43.93</td>\n      <td>2019-09-20 07:56:00</td>\n      <td>2019-09-20 07:53:14</td>\n      <td>2019-09-20 07:53:14</td>\n      <td>0.0</td>\n      <td>-166.0</td>\n      <td>74973</td>\n      <td>3</td>\n    </tr>\n    <tr>\n      <th>357271</th>\n      <td>2019-09-20</td>\n      <td>672-002</td>\n      <td>N</td>\n      <td>639</td>\n      <td>672</td>\n      <td>26183</td>\n      <td>1</td>\n      <td>44.02</td>\n      <td>44.02</td>\n      <td>2019-09-20 07:56:00</td>\n      <td>2019-09-20 07:53:14</td>\n      <td>2019-09-20 07:56:04</td>\n      <td>170.0</td>\n      <td>4.0</td>\n      <td>74974</td>\n      <td>1</td>\n    </tr>\n    <tr>\n      <th>357272</th>\n      <td>2019-09-20</td>\n      <td>672-002</td>\n      <td>N</td>\n      <td>639</td>\n      <td>672</td>\n      <td>23953</td>\n      <td>1</td>\n      <td>47.65</td>\n      <td>47.65</td>\n      <td>2019-09-20 08:07:00</td>\n      <td>2019-09-20 08:06:34</td>\n      <td>2019-09-20 08:07:08</td>\n      <td>34.0</td>\n      <td>8.0</td>\n      <td>74974</td>\n      <td>2</td>\n    </tr>\n    <tr>\n      <th>357273</th>\n      <td>2019-09-20</td>\n      <td>672-002</td>\n      <td>N</td>\n      <td>639</td>\n      <td>672</td>\n      <td>11346</td>\n      <td>1</td>\n      <td>NaN</td>\n      <td>NaN</td>\n      <td>2019-09-20 08:17:00</td>\n      <td>NaT</td>\n      <td>NaT</td>\n      <td>NaN</td>\n      <td>NaN</td>\n      <td>74974</td>\n      <td>3</td>\n    </tr>\n    <tr>\n      <th>357274</th>\n      <td>2019-09-20</td>\n      <td>672-002</td>\n      <td>N</td>\n      <td>639</td>\n      <td>672</td>\n      <td>53756</td>\n      <td>1</td>\n      <td>51.76</td>\n      <td>51.76</td>\n      <td>2019-09-20 08:20:00</td>\n      <td>2019-09-20 08:20:52</td>\n      <td>2019-09-20 08:21:02</td>\n      <td>10.0</td>\n      <td>62.0</td>\n      <td>74974</td>\n      <td>4</td>\n    </tr>\n    <tr>\n      <th>357275</th>\n      <td>2019-09-20</td>\n      <td>672-002</td>\n      <td>N</td>\n      <td>639</td>\n      <td>672</td>\n      <td>11137</td>\n      <td>1</td>\n      <td>53.22</td>\n      <td>53.22</td>\n      <td>2019-09-20 08:34:00</td>\n      <td>2019-09-20 08:26:34</td>\n      <td>2019-09-20 08:26:34</td>\n      <td>0.0</td>\n      <td>-446.0</td>\n      <td>74974</td>\n      <td>5</td>\n    </tr>\n    <tr>\n      <th>357276</th>\n      <td>2019-09-20</td>\n      <td>672-002</td>\n      <td>S</td>\n      <td>639</td>\n      <td>672</td>\n      <td>11137</td>\n      <td>1</td>\n      <td>53.29</td>\n      <td>53.29</td>\n      <td>2019-09-20 08:35:00</td>\n      <td>2019-09-20 08:26:34</td>\n      <td>2019-09-20 08:35:05</td>\n      <td>511.0</td>\n      <td>5.0</td>\n      <td>74975</td>\n      <td>1</td>\n    </tr>\n    <tr>\n      <th>357277</th>\n      <td>2019-09-20</td>\n      <td>672-002</td>\n      <td>S</td>\n      <td>639</td>\n      <td>672</td>\n      <td>23953</td>\n      <td>1</td>\n      <td>NaN</td>\n      <td>NaN</td>\n      <td>2019-09-20 08:45:00</td>\n      <td>NaT</td>\n      <td>NaT</td>\n      <td>NaN</td>\n      <td>NaN</td>\n      <td>74975</td>\n      <td>2</td>\n    </tr>\n    <tr>\n      <th>357278</th>\n      <td>2019-09-20</td>\n      <td>672-002</td>\n      <td>S</td>\n      <td>639</td>\n      <td>672</td>\n      <td>26183</td>\n      <td>1</td>\n      <td>59.23</td>\n      <td>59.23</td>\n      <td>2019-09-20 08:55:00</td>\n      <td>2019-09-20 08:51:03</td>\n      <td>2019-09-20 08:51:03</td>\n      <td>0.0</td>\n      <td>-237.0</td>\n      <td>74975</td>\n      <td>3</td>\n    </tr>\n    <tr>\n      <th>357279</th>\n      <td>2019-09-20</td>\n      <td>672-002</td>\n      <td>N</td>\n      <td>639</td>\n      <td>672</td>\n      <td>26183</td>\n      <td>1</td>\n      <td>59.31</td>\n      <td>59.31</td>\n      <td>2019-09-20 08:55:00</td>\n      <td>2019-09-20 08:51:03</td>\n      <td>2019-09-20 08:54:58</td>\n      <td>235.0</td>\n      <td>-2.0</td>\n      <td>74976</td>\n      <td>1</td>\n    </tr>\n    <tr>\n      <th>357280</th>\n      <td>2019-09-20</td>\n      <td>672-002</td>\n      <td>N</td>\n      <td>639</td>\n      <td>672</td>\n      <td>23953</td>\n      <td>1</td>\n      <td>63.27</td>\n      <td>63.27</td>\n      <td>2019-09-20 09:06:00</td>\n      <td>2019-09-20 09:05:27</td>\n      <td>2019-09-20 09:05:44</td>\n      <td>17.0</td>\n      <td>-16.0</td>\n      <td>74976</td>\n      <td>2</td>\n    </tr>\n    <tr>\n      <th>357281</th>\n      <td>2019-09-20</td>\n      <td>672-002</td>\n      <td>N</td>\n      <td>639</td>\n      <td>672</td>\n      <td>11346</td>\n      <td>1</td>\n      <td>NaN</td>\n      <td>NaN</td>\n      <td>2019-09-20 09:16:00</td>\n      <td>NaT</td>\n      <td>NaT</td>\n      <td>NaN</td>\n      <td>NaN</td>\n      <td>74976</td>\n      <td>3</td>\n    </tr>\n    <tr>\n      <th>357282</th>\n      <td>2019-09-20</td>\n      <td>672-002</td>\n      <td>N</td>\n      <td>639</td>\n      <td>672</td>\n      <td>53756</td>\n      <td>1</td>\n      <td>67.39</td>\n      <td>67.39</td>\n      <td>2019-09-20 09:19:00</td>\n      <td>2019-09-20 09:19:07</td>\n      <td>2019-09-20 09:19:19</td>\n      <td>12.0</td>\n      <td>19.0</td>\n      <td>74976</td>\n      <td>4</td>\n    </tr>\n    <tr>\n      <th>357283</th>\n      <td>2019-09-20</td>\n      <td>672-002</td>\n      <td>N</td>\n      <td>639</td>\n      <td>672</td>\n      <td>11137</td>\n      <td>1</td>\n      <td>68.84</td>\n      <td>68.84</td>\n      <td>2019-09-20 09:33:00</td>\n      <td>2019-09-20 09:24:47</td>\n      <td>2019-09-20 09:24:47</td>\n      <td>0.0</td>\n      <td>-493.0</td>\n      <td>74976</td>\n      <td>5</td>\n    </tr>\n    <tr>\n      <th>357284</th>\n      <td>2019-09-20</td>\n      <td>672-002</td>\n      <td>S</td>\n      <td>639</td>\n      <td>672</td>\n      <td>11137</td>\n      <td>1</td>\n      <td>68.91</td>\n      <td>68.91</td>\n      <td>2019-09-20 09:35:00</td>\n      <td>2019-09-20 09:24:47</td>\n      <td>2019-09-20 09:34:58</td>\n      <td>611.0</td>\n      <td>-2.0</td>\n      <td>74977</td>\n      <td>1</td>\n    </tr>\n    <tr>\n      <th>357285</th>\n      <td>2019-09-20</td>\n      <td>672-002</td>\n      <td>S</td>\n      <td>639</td>\n      <td>672</td>\n      <td>23953</td>\n      <td>1</td>\n      <td>71.78</td>\n      <td>71.78</td>\n      <td>2019-09-20 09:45:00</td>\n      <td>2019-09-20 09:44:38</td>\n      <td>2019-09-20 09:45:34</td>\n      <td>56.0</td>\n      <td>34.0</td>\n      <td>74977</td>\n      <td>2</td>\n    </tr>\n    <tr>\n      <th>357286</th>\n      <td>2019-09-20</td>\n      <td>672-002</td>\n      <td>S</td>\n      <td>639</td>\n      <td>672</td>\n      <td>26183</td>\n      <td>1</td>\n      <td>74.86</td>\n      <td>74.86</td>\n      <td>2019-09-20 09:55:00</td>\n      <td>2019-09-20 09:53:20</td>\n      <td>2019-09-20 09:53:20</td>\n      <td>0.0</td>\n      <td>-100.0</td>\n      <td>74977</td>\n      <td>3</td>\n    </tr>\n    <tr>\n      <th>357287</th>\n      <td>2019-09-20</td>\n      <td>672-002</td>\n      <td>N</td>\n      <td>639</td>\n      <td>672</td>\n      <td>26183</td>\n      <td>1</td>\n      <td>74.94</td>\n      <td>74.94</td>\n      <td>2019-09-20 09:55:00</td>\n      <td>2019-09-20 09:53:20</td>\n      <td>2019-09-20 09:55:02</td>\n      <td>102.0</td>\n      <td>2.0</td>\n      <td>74978</td>\n      <td>1</td>\n    </tr>\n    <tr>\n      <th>357288</th>\n      <td>2019-09-20</td>\n      <td>672-002</td>\n      <td>N</td>\n      <td>639</td>\n      <td>672</td>\n      <td>23953</td>\n      <td>1</td>\n      <td>NaN</td>\n      <td>NaN</td>\n      <td>2019-09-20 10:06:00</td>\n      <td>NaT</td>\n      <td>NaT</td>\n      <td>NaN</td>\n      <td>NaN</td>\n      <td>74978</td>\n      <td>2</td>\n    </tr>\n    <tr>\n      <th>357289</th>\n      <td>2019-09-20</td>\n      <td>672-002</td>\n      <td>N</td>\n      <td>639</td>\n      <td>672</td>\n      <td>11346</td>\n      <td>1</td>\n      <td>NaN</td>\n      <td>NaN</td>\n      <td>2019-09-20 10:16:00</td>\n      <td>NaT</td>\n      <td>NaT</td>\n      <td>NaN</td>\n      <td>NaN</td>\n      <td>74978</td>\n      <td>3</td>\n    </tr>\n    <tr>\n      <th>357290</th>\n      <td>2019-09-20</td>\n      <td>672-002</td>\n      <td>N</td>\n      <td>639</td>\n      <td>672</td>\n      <td>53756</td>\n      <td>1</td>\n      <td>83.02</td>\n      <td>83.02</td>\n      <td>2019-09-20 10:19:00</td>\n      <td>2019-09-20 10:18:36</td>\n      <td>2019-09-20 10:18:45</td>\n      <td>9.0</td>\n      <td>-15.0</td>\n      <td>74978</td>\n      <td>4</td>\n    </tr>\n    <tr>\n      <th>357291</th>\n      <td>2019-09-20</td>\n      <td>672-002</td>\n      <td>N</td>\n      <td>639</td>\n      <td>672</td>\n      <td>11137</td>\n      <td>1</td>\n      <td>84.46</td>\n      <td>84.46</td>\n      <td>2019-09-20 10:33:00</td>\n      <td>2019-09-20 10:23:17</td>\n      <td>2019-09-20 10:23:17</td>\n      <td>0.0</td>\n      <td>-583.0</td>\n      <td>74978</td>\n      <td>5</td>\n    </tr>\n    <tr>\n      <th>357292</th>\n      <td>2019-09-20</td>\n      <td>672-002</td>\n      <td>S</td>\n      <td>639</td>\n      <td>672</td>\n      <td>11137</td>\n      <td>1</td>\n      <td>84.54</td>\n      <td>84.54</td>\n      <td>2019-09-20 10:35:00</td>\n      <td>2019-09-20 10:23:17</td>\n      <td>2019-09-20 10:35:28</td>\n      <td>731.0</td>\n      <td>28.0</td>\n      <td>74979</td>\n      <td>1</td>\n    </tr>\n    <tr>\n      <th>357293</th>\n      <td>2019-09-20</td>\n      <td>672-002</td>\n      <td>S</td>\n      <td>639</td>\n      <td>672</td>\n      <td>23953</td>\n      <td>1</td>\n      <td>87.40</td>\n      <td>87.40</td>\n      <td>2019-09-20 10:45:00</td>\n      <td>2019-09-20 10:44:30</td>\n      <td>2019-09-20 10:45:06</td>\n      <td>36.0</td>\n      <td>6.0</td>\n      <td>74979</td>\n      <td>2</td>\n    </tr>\n    <tr>\n      <th>357294</th>\n      <td>2019-09-20</td>\n      <td>672-002</td>\n      <td>S</td>\n      <td>639</td>\n      <td>672</td>\n      <td>26183</td>\n      <td>1</td>\n      <td>90.48</td>\n      <td>90.48</td>\n      <td>2019-09-20 10:54:00</td>\n      <td>2019-09-20 10:52:56</td>\n      <td>2019-09-20 10:52:56</td>\n      <td>0.0</td>\n      <td>-64.0</td>\n      <td>74979</td>\n      <td>3</td>\n    </tr>\n    <tr>\n      <th>357295</th>\n      <td>2019-09-20</td>\n      <td>672-002</td>\n      <td>N</td>\n      <td>639</td>\n      <td>672</td>\n      <td>26183</td>\n      <td>1</td>\n      <td>90.57</td>\n      <td>90.57</td>\n      <td>2019-09-20 10:54:00</td>\n      <td>2019-09-20 10:52:56</td>\n      <td>2019-09-20 10:54:03</td>\n      <td>67.0</td>\n      <td>3.0</td>\n      <td>74980</td>\n      <td>1</td>\n    </tr>\n    <tr>\n      <th>357296</th>\n      <td>2019-09-20</td>\n      <td>672-002</td>\n      <td>N</td>\n      <td>639</td>\n      <td>672</td>\n      <td>23953</td>\n      <td>1</td>\n      <td>94.52</td>\n      <td>94.52</td>\n      <td>2019-09-20 11:05:00</td>\n      <td>2019-09-20 11:04:16</td>\n      <td>2019-09-20 11:04:48</td>\n      <td>32.0</td>\n      <td>-12.0</td>\n      <td>74980</td>\n      <td>2</td>\n    </tr>\n    <tr>\n      <th>357297</th>\n      <td>2019-09-20</td>\n      <td>672-002</td>\n      <td>N</td>\n      <td>639</td>\n      <td>672</td>\n      <td>11346</td>\n      <td>1</td>\n      <td>NaN</td>\n      <td>NaN</td>\n      <td>2019-09-20 11:15:00</td>\n      <td>NaT</td>\n      <td>NaT</td>\n      <td>NaN</td>\n      <td>NaN</td>\n      <td>74980</td>\n      <td>3</td>\n    </tr>\n    <tr>\n      <th>357298</th>\n      <td>2019-09-20</td>\n      <td>672-002</td>\n      <td>N</td>\n      <td>639</td>\n      <td>672</td>\n      <td>53756</td>\n      <td>1</td>\n      <td>98.64</td>\n      <td>98.64</td>\n      <td>2019-09-20 11:18:00</td>\n      <td>2019-09-20 11:18:53</td>\n      <td>2019-09-20 11:19:01</td>\n      <td>8.0</td>\n      <td>61.0</td>\n      <td>74980</td>\n      <td>4</td>\n    </tr>\n    <tr>\n      <th>357299</th>\n      <td>2019-09-20</td>\n      <td>672-002</td>\n      <td>N</td>\n      <td>639</td>\n      <td>672</td>\n      <td>11137</td>\n      <td>1</td>\n      <td>100.08</td>\n      <td>100.08</td>\n      <td>2019-09-20 11:32:00</td>\n      <td>2019-09-20 11:25:43</td>\n      <td>2019-09-20 11:25:43</td>\n      <td>0.0</td>\n      <td>-377.0</td>\n      <td>74980</td>\n      <td>5</td>\n    </tr>\n    <tr>\n      <th>357300</th>\n      <td>2019-09-20</td>\n      <td>672-002</td>\n      <td>S</td>\n      <td>639</td>\n      <td>672</td>\n      <td>11137</td>\n      <td>1</td>\n      <td>100.16</td>\n      <td>100.16</td>\n      <td>2019-09-20 11:35:00</td>\n      <td>2019-09-20 11:25:43</td>\n      <td>2019-09-20 11:34:45</td>\n      <td>542.0</td>\n      <td>-15.0</td>\n      <td>74981</td>\n      <td>1</td>\n    </tr>\n    <tr>\n      <th>357301</th>\n      <td>2019-09-20</td>\n      <td>672-002</td>\n      <td>S</td>\n      <td>639</td>\n      <td>672</td>\n      <td>23953</td>\n      <td>1</td>\n      <td>103.02</td>\n      <td>103.02</td>\n      <td>2019-09-20 11:45:00</td>\n      <td>2019-09-20 11:43:49</td>\n      <td>2019-09-20 11:44:36</td>\n      <td>47.0</td>\n      <td>-24.0</td>\n      <td>74981</td>\n      <td>2</td>\n    </tr>\n    <tr>\n      <th>357302</th>\n      <td>2019-09-20</td>\n      <td>672-002</td>\n      <td>S</td>\n      <td>639</td>\n      <td>672</td>\n      <td>26183</td>\n      <td>1</td>\n      <td>106.10</td>\n      <td>106.10</td>\n      <td>2019-09-20 11:54:00</td>\n      <td>2019-09-20 11:51:45</td>\n      <td>2019-09-20 11:51:45</td>\n      <td>0.0</td>\n      <td>-135.0</td>\n      <td>74981</td>\n      <td>3</td>\n    </tr>\n    <tr>\n      <th>357303</th>\n      <td>2019-09-20</td>\n      <td>672-002</td>\n      <td>N</td>\n      <td>639</td>\n      <td>672</td>\n      <td>26183</td>\n      <td>1</td>\n      <td>106.18</td>\n      <td>106.18</td>\n      <td>2019-09-20 11:54:00</td>\n      <td>2019-09-20 11:51:45</td>\n      <td>2019-09-20 11:54:01</td>\n      <td>136.0</td>\n      <td>1.0</td>\n      <td>74982</td>\n      <td>1</td>\n    </tr>\n    <tr>\n      <th>357304</th>\n      <td>2019-09-20</td>\n      <td>672-002</td>\n      <td>N</td>\n      <td>639</td>\n      <td>672</td>\n      <td>23953</td>\n      <td>1</td>\n      <td>110.13</td>\n      <td>110.13</td>\n      <td>2019-09-20 12:05:00</td>\n      <td>2019-09-20 12:04:17</td>\n      <td>2019-09-20 12:04:57</td>\n      <td>40.0</td>\n      <td>-3.0</td>\n      <td>74982</td>\n      <td>2</td>\n    </tr>\n    <tr>\n      <th>357305</th>\n      <td>2019-09-20</td>\n      <td>672-002</td>\n      <td>N</td>\n      <td>639</td>\n      <td>672</td>\n      <td>11346</td>\n      <td>1</td>\n      <td>112.77</td>\n      <td>112.77</td>\n      <td>2019-09-20 12:16:00</td>\n      <td>2019-09-20 12:18:28</td>\n      <td>2019-09-20 12:19:44</td>\n      <td>76.0</td>\n      <td>224.0</td>\n      <td>74982</td>\n      <td>3</td>\n    </tr>\n    <tr>\n      <th>357306</th>\n      <td>2019-09-20</td>\n      <td>672-002</td>\n      <td>N</td>\n      <td>639</td>\n      <td>672</td>\n      <td>53756</td>\n      <td>1</td>\n      <td>114.24</td>\n      <td>114.24</td>\n      <td>2019-09-20 12:19:00</td>\n      <td>2019-09-20 12:26:09</td>\n      <td>2019-09-20 12:26:17</td>\n      <td>8.0</td>\n      <td>437.0</td>\n      <td>74982</td>\n      <td>4</td>\n    </tr>\n    <tr>\n      <th>357307</th>\n      <td>2019-09-20</td>\n      <td>672-002</td>\n      <td>N</td>\n      <td>639</td>\n      <td>672</td>\n      <td>11137</td>\n      <td>1</td>\n      <td>115.68</td>\n      <td>115.68</td>\n      <td>2019-09-20 12:33:00</td>\n      <td>2019-09-20 12:39:40</td>\n      <td>2019-09-20 12:39:40</td>\n      <td>0.0</td>\n      <td>400.0</td>\n      <td>74982</td>\n      <td>5</td>\n    </tr>\n    <tr>\n      <th>357308</th>\n      <td>2019-09-20</td>\n      <td>672-002</td>\n      <td>S</td>\n      <td>639</td>\n      <td>672</td>\n      <td>11137</td>\n      <td>1</td>\n      <td>115.76</td>\n      <td>115.76</td>\n      <td>2019-09-20 12:35:00</td>\n      <td>2019-09-20 12:39:40</td>\n      <td>2019-09-20 12:40:37</td>\n      <td>57.0</td>\n      <td>337.0</td>\n      <td>74983</td>\n      <td>1</td>\n    </tr>\n    <tr>\n      <th>357309</th>\n      <td>2019-09-20</td>\n      <td>672-002</td>\n      <td>S</td>\n      <td>639</td>\n      <td>672</td>\n      <td>23953</td>\n      <td>1</td>\n      <td>118.63</td>\n      <td>118.63</td>\n      <td>2019-09-20 12:45:00</td>\n      <td>2019-09-20 12:50:07</td>\n      <td>2019-09-20 12:50:43</td>\n      <td>36.0</td>\n      <td>343.0</td>\n      <td>74983</td>\n      <td>2</td>\n    </tr>\n    <tr>\n      <th>357310</th>\n      <td>2019-09-20</td>\n      <td>672-002</td>\n      <td>S</td>\n      <td>639</td>\n      <td>672</td>\n      <td>26183</td>\n      <td>1</td>\n      <td>121.70</td>\n      <td>121.70</td>\n      <td>2019-09-20 12:54:00</td>\n      <td>2019-09-20 12:57:53</td>\n      <td>2019-09-20 12:57:53</td>\n      <td>0.0</td>\n      <td>233.0</td>\n      <td>74983</td>\n      <td>3</td>\n    </tr>\n    <tr>\n      <th>357311</th>\n      <td>2019-09-20</td>\n      <td>672-002</td>\n      <td>N</td>\n      <td>639</td>\n      <td>672</td>\n      <td>26183</td>\n      <td>1</td>\n      <td>121.78</td>\n      <td>121.78</td>\n      <td>2019-09-20 12:54:00</td>\n      <td>2019-09-20 12:57:53</td>\n      <td>2019-09-20 12:58:28</td>\n      <td>35.0</td>\n      <td>268.0</td>\n      <td>74984</td>\n      <td>1</td>\n    </tr>\n    <tr>\n      <th>357312</th>\n      <td>2019-09-20</td>\n      <td>672-002</td>\n      <td>N</td>\n      <td>639</td>\n      <td>672</td>\n      <td>23953</td>\n      <td>1</td>\n      <td>125.41</td>\n      <td>125.41</td>\n      <td>2019-09-20 13:04:00</td>\n      <td>2019-09-20 13:07:16</td>\n      <td>2019-09-20 13:07:55</td>\n      <td>39.0</td>\n      <td>235.0</td>\n      <td>74984</td>\n      <td>2</td>\n    </tr>\n    <tr>\n      <th>357313</th>\n      <td>2019-09-20</td>\n      <td>672-002</td>\n      <td>N</td>\n      <td>639</td>\n      <td>672</td>\n      <td>11346</td>\n      <td>1</td>\n      <td>128.06</td>\n      <td>128.06</td>\n      <td>2019-09-20 13:15:00</td>\n      <td>2019-09-20 13:19:03</td>\n      <td>2019-09-20 13:20:46</td>\n      <td>103.0</td>\n      <td>346.0</td>\n      <td>74984</td>\n      <td>3</td>\n    </tr>\n    <tr>\n      <th>357314</th>\n      <td>2019-09-20</td>\n      <td>672-002</td>\n      <td>N</td>\n      <td>639</td>\n      <td>672</td>\n      <td>53756</td>\n      <td>1</td>\n      <td>129.53</td>\n      <td>129.53</td>\n      <td>2019-09-20 13:18:00</td>\n      <td>2019-09-20 13:26:05</td>\n      <td>2019-09-20 13:26:13</td>\n      <td>8.0</td>\n      <td>493.0</td>\n      <td>74984</td>\n      <td>4</td>\n    </tr>\n    <tr>\n      <th>357315</th>\n      <td>2019-09-20</td>\n      <td>672-002</td>\n      <td>N</td>\n      <td>639</td>\n      <td>672</td>\n      <td>11137</td>\n      <td>1</td>\n      <td>130.97</td>\n      <td>130.97</td>\n      <td>2019-09-20 13:32:00</td>\n      <td>2019-09-20 13:31:51</td>\n      <td>2019-09-20 13:31:51</td>\n      <td>0.0</td>\n      <td>-9.0</td>\n      <td>74984</td>\n      <td>5</td>\n    </tr>\n    <tr>\n      <th>357316</th>\n      <td>2019-09-20</td>\n      <td>672-002</td>\n      <td>S</td>\n      <td>639</td>\n      <td>672</td>\n      <td>11137</td>\n      <td>1</td>\n      <td>131.05</td>\n      <td>131.05</td>\n      <td>2019-09-20 13:35:00</td>\n      <td>2019-09-20 13:31:51</td>\n      <td>2019-09-20 13:34:36</td>\n      <td>165.0</td>\n      <td>-24.0</td>\n      <td>74985</td>\n      <td>1</td>\n    </tr>\n    <tr>\n      <th>357317</th>\n      <td>2019-09-20</td>\n      <td>672-002</td>\n      <td>S</td>\n      <td>639</td>\n      <td>672</td>\n      <td>23953</td>\n      <td>1</td>\n      <td>NaN</td>\n      <td>NaN</td>\n      <td>2019-09-20 13:45:00</td>\n      <td>NaT</td>\n      <td>NaT</td>\n      <td>NaN</td>\n      <td>NaN</td>\n      <td>74985</td>\n      <td>2</td>\n    </tr>\n    <tr>\n      <th>357318</th>\n      <td>2019-09-20</td>\n      <td>672-002</td>\n      <td>S</td>\n      <td>639</td>\n      <td>672</td>\n      <td>26183</td>\n      <td>1</td>\n      <td>136.99</td>\n      <td>136.99</td>\n      <td>2019-09-20 13:54:00</td>\n      <td>2019-09-20 13:51:22</td>\n      <td>2019-09-20 13:51:22</td>\n      <td>0.0</td>\n      <td>-158.0</td>\n      <td>74985</td>\n      <td>3</td>\n    </tr>\n    <tr>\n      <th>357319</th>\n      <td>2019-09-20</td>\n      <td>672-002</td>\n      <td>N</td>\n      <td>639</td>\n      <td>672</td>\n      <td>26183</td>\n      <td>1</td>\n      <td>137.07</td>\n      <td>137.07</td>\n      <td>2019-09-20 13:54:00</td>\n      <td>2019-09-20 13:51:22</td>\n      <td>2019-09-20 13:54:03</td>\n      <td>161.0</td>\n      <td>3.0</td>\n      <td>74986</td>\n      <td>1</td>\n    </tr>\n    <tr>\n      <th>357320</th>\n      <td>2019-09-20</td>\n      <td>672-002</td>\n      <td>N</td>\n      <td>639</td>\n      <td>672</td>\n      <td>23953</td>\n      <td>1</td>\n      <td>140.71</td>\n      <td>140.71</td>\n      <td>2019-09-20 14:04:00</td>\n      <td>2019-09-20 14:03:42</td>\n      <td>2019-09-20 14:04:16</td>\n      <td>34.0</td>\n      <td>16.0</td>\n      <td>74986</td>\n      <td>2</td>\n    </tr>\n    <tr>\n      <th>357321</th>\n      <td>2019-09-20</td>\n      <td>672-002</td>\n      <td>N</td>\n      <td>639</td>\n      <td>672</td>\n      <td>11346</td>\n      <td>1</td>\n      <td>143.36</td>\n      <td>143.36</td>\n      <td>2019-09-20 14:15:00</td>\n      <td>2019-09-20 14:14:34</td>\n      <td>2019-09-20 14:16:02</td>\n      <td>88.0</td>\n      <td>62.0</td>\n      <td>74986</td>\n      <td>3</td>\n    </tr>\n    <tr>\n      <th>357322</th>\n      <td>2019-09-20</td>\n      <td>672-002</td>\n      <td>N</td>\n      <td>639</td>\n      <td>672</td>\n      <td>53756</td>\n      <td>1</td>\n      <td>144.82</td>\n      <td>144.82</td>\n      <td>2019-09-20 14:18:00</td>\n      <td>2019-09-20 14:22:11</td>\n      <td>2019-09-20 14:22:51</td>\n      <td>40.0</td>\n      <td>291.0</td>\n      <td>74986</td>\n      <td>4</td>\n    </tr>\n    <tr>\n      <th>357323</th>\n      <td>2019-09-20</td>\n      <td>672-002</td>\n      <td>N</td>\n      <td>639</td>\n      <td>672</td>\n      <td>11137</td>\n      <td>1</td>\n      <td>146.35</td>\n      <td>146.35</td>\n      <td>2019-09-20 14:33:00</td>\n      <td>2019-09-20 14:31:05</td>\n      <td>2019-09-20 14:32:31</td>\n      <td>86.0</td>\n      <td>-29.0</td>\n      <td>74986</td>\n      <td>5</td>\n    </tr>\n    <tr>\n      <th>357324</th>\n      <td>2019-09-20</td>\n      <td>672-002</td>\n      <td>N</td>\n      <td>639</td>\n      <td>672</td>\n      <td>GARA</td>\n      <td>1</td>\n      <td>153.71</td>\n      <td>153.71</td>\n      <td>2019-09-20 14:48:00</td>\n      <td>2019-09-20 14:42:39</td>\n      <td>2019-09-20 14:42:39</td>\n      <td>0.0</td>\n      <td>-321.0</td>\n      <td>74986</td>\n      <td>6</td>\n    </tr>\n    <tr>\n      <th>357325</th>\n      <td>2019-09-20</td>\n      <td>672-003</td>\n      <td>S</td>\n      <td>610</td>\n      <td>672</td>\n      <td>GARA</td>\n      <td>1</td>\n      <td>0.23</td>\n      <td>0.23</td>\n      <td>2019-09-20 12:50:00</td>\n      <td>2019-09-20 12:35:26</td>\n      <td>2019-09-20 12:51:56</td>\n      <td>990.0</td>\n      <td>116.0</td>\n      <td>74987</td>\n      <td>1</td>\n    </tr>\n    <tr>\n      <th>357326</th>\n      <td>2019-09-20</td>\n      <td>672-003</td>\n      <td>S</td>\n      <td>610</td>\n      <td>672</td>\n      <td>11137</td>\n      <td>1</td>\n      <td>7.40</td>\n      <td>7.40</td>\n      <td>2019-09-20 13:05:00</td>\n      <td>2019-09-20 13:02:46</td>\n      <td>2019-09-20 13:05:25</td>\n      <td>159.0</td>\n      <td>25.0</td>\n      <td>74987</td>\n      <td>2</td>\n    </tr>\n    <tr>\n      <th>357327</th>\n      <td>2019-09-20</td>\n      <td>672-003</td>\n      <td>S</td>\n      <td>610</td>\n      <td>672</td>\n      <td>23953</td>\n      <td>1</td>\n      <td>10.27</td>\n      <td>10.27</td>\n      <td>2019-09-20 13:15:00</td>\n      <td>2019-09-20 13:15:02</td>\n      <td>2019-09-20 13:15:57</td>\n      <td>55.0</td>\n      <td>57.0</td>\n      <td>74987</td>\n      <td>3</td>\n    </tr>\n    <tr>\n      <th>357328</th>\n      <td>2019-09-20</td>\n      <td>672-003</td>\n      <td>S</td>\n      <td>610</td>\n      <td>672</td>\n      <td>26183</td>\n      <td>1</td>\n      <td>13.34</td>\n      <td>13.34</td>\n      <td>2019-09-20 13:24:00</td>\n      <td>2019-09-20 13:23:37</td>\n      <td>2019-09-20 13:23:37</td>\n      <td>0.0</td>\n      <td>-23.0</td>\n      <td>74987</td>\n      <td>4</td>\n    </tr>\n    <tr>\n      <th>357329</th>\n      <td>2019-09-20</td>\n      <td>672-003</td>\n      <td>N</td>\n      <td>610</td>\n      <td>672</td>\n      <td>26183</td>\n      <td>1</td>\n      <td>13.42</td>\n      <td>13.42</td>\n      <td>2019-09-20 13:24:00</td>\n      <td>2019-09-20 13:23:37</td>\n      <td>2019-09-20 13:24:14</td>\n      <td>37.0</td>\n      <td>14.0</td>\n      <td>74988</td>\n      <td>1</td>\n    </tr>\n    <tr>\n      <th>357330</th>\n      <td>2019-09-20</td>\n      <td>672-003</td>\n      <td>N</td>\n      <td>610</td>\n      <td>672</td>\n      <td>23953</td>\n      <td>1</td>\n      <td>17.38</td>\n      <td>17.38</td>\n      <td>2019-09-20 13:34:00</td>\n      <td>2019-09-20 13:34:15</td>\n      <td>2019-09-20 13:34:57</td>\n      <td>42.0</td>\n      <td>57.0</td>\n      <td>74988</td>\n      <td>2</td>\n    </tr>\n    <tr>\n      <th>357331</th>\n      <td>2019-09-20</td>\n      <td>672-003</td>\n      <td>N</td>\n      <td>610</td>\n      <td>672</td>\n      <td>11346</td>\n      <td>1</td>\n      <td>20.02</td>\n      <td>20.02</td>\n      <td>2019-09-20 13:45:00</td>\n      <td>2019-09-20 13:43:23</td>\n      <td>2019-09-20 13:46:46</td>\n      <td>203.0</td>\n      <td>106.0</td>\n      <td>74988</td>\n      <td>3</td>\n    </tr>\n    <tr>\n      <th>357332</th>\n      <td>2019-09-20</td>\n      <td>672-003</td>\n      <td>N</td>\n      <td>610</td>\n      <td>672</td>\n      <td>53756</td>\n      <td>1</td>\n      <td>21.49</td>\n      <td>21.49</td>\n      <td>2019-09-20 13:48:00</td>\n      <td>2019-09-20 13:54:35</td>\n      <td>2019-09-20 13:54:43</td>\n      <td>8.0</td>\n      <td>403.0</td>\n      <td>74988</td>\n      <td>4</td>\n    </tr>\n    <tr>\n      <th>357333</th>\n      <td>2019-09-20</td>\n      <td>672-003</td>\n      <td>N</td>\n      <td>610</td>\n      <td>672</td>\n      <td>11137</td>\n      <td>1</td>\n      <td>22.94</td>\n      <td>22.94</td>\n      <td>2019-09-20 14:02:00</td>\n      <td>2019-09-20 14:05:14</td>\n      <td>2019-09-20 14:05:14</td>\n      <td>0.0</td>\n      <td>194.0</td>\n      <td>74988</td>\n      <td>5</td>\n    </tr>\n    <tr>\n      <th>357334</th>\n      <td>2019-09-20</td>\n      <td>672-003</td>\n      <td>S</td>\n      <td>610</td>\n      <td>672</td>\n      <td>11137</td>\n      <td>1</td>\n      <td>23.01</td>\n      <td>23.01</td>\n      <td>2019-09-20 14:05:00</td>\n      <td>2019-09-20 14:05:14</td>\n      <td>2019-09-20 14:06:30</td>\n      <td>76.0</td>\n      <td>90.0</td>\n      <td>74989</td>\n      <td>1</td>\n    </tr>\n    <tr>\n      <th>357335</th>\n      <td>2019-09-20</td>\n      <td>672-003</td>\n      <td>S</td>\n      <td>610</td>\n      <td>672</td>\n      <td>23953</td>\n      <td>1</td>\n      <td>25.88</td>\n      <td>25.88</td>\n      <td>2019-09-20 14:16:00</td>\n      <td>2019-09-20 14:17:41</td>\n      <td>2019-09-20 14:18:56</td>\n      <td>75.0</td>\n      <td>176.0</td>\n      <td>74989</td>\n      <td>2</td>\n    </tr>\n    <tr>\n      <th>357336</th>\n      <td>2019-09-20</td>\n      <td>672-003</td>\n      <td>S</td>\n      <td>610</td>\n      <td>672</td>\n      <td>26183</td>\n      <td>1</td>\n      <td>28.95</td>\n      <td>28.95</td>\n      <td>2019-09-20 14:25:00</td>\n      <td>2019-09-20 14:26:44</td>\n      <td>2019-09-20 14:26:44</td>\n      <td>0.0</td>\n      <td>104.0</td>\n      <td>74989</td>\n      <td>3</td>\n    </tr>\n    <tr>\n      <th>357337</th>\n      <td>2019-09-20</td>\n      <td>672-003</td>\n      <td>N</td>\n      <td>610</td>\n      <td>672</td>\n      <td>26183</td>\n      <td>1</td>\n      <td>29.03</td>\n      <td>29.03</td>\n      <td>2019-09-20 14:25:00</td>\n      <td>2019-09-20 14:26:44</td>\n      <td>2019-09-20 14:27:47</td>\n      <td>63.0</td>\n      <td>167.0</td>\n      <td>74990</td>\n      <td>1</td>\n    </tr>\n    <tr>\n      <th>357338</th>\n      <td>2019-09-20</td>\n      <td>672-003</td>\n      <td>N</td>\n      <td>610</td>\n      <td>672</td>\n      <td>23953</td>\n      <td>1</td>\n      <td>32.99</td>\n      <td>32.99</td>\n      <td>2019-09-20 14:36:00</td>\n      <td>2019-09-20 14:37:29</td>\n      <td>2019-09-20 14:38:11</td>\n      <td>42.0</td>\n      <td>131.0</td>\n      <td>74990</td>\n      <td>2</td>\n    </tr>\n    <tr>\n      <th>357339</th>\n      <td>2019-09-20</td>\n      <td>672-003</td>\n      <td>N</td>\n      <td>610</td>\n      <td>672</td>\n      <td>11346</td>\n      <td>1</td>\n      <td>35.64</td>\n      <td>35.64</td>\n      <td>2019-09-20 14:47:00</td>\n      <td>2019-09-20 14:46:27</td>\n      <td>2019-09-20 14:47:29</td>\n      <td>62.0</td>\n      <td>29.0</td>\n      <td>74990</td>\n      <td>3</td>\n    </tr>\n    <tr>\n      <th>357340</th>\n      <td>2019-09-20</td>\n      <td>672-003</td>\n      <td>N</td>\n      <td>610</td>\n      <td>672</td>\n      <td>53756</td>\n      <td>1</td>\n      <td>37.11</td>\n      <td>37.11</td>\n      <td>2019-09-20 14:50:00</td>\n      <td>2019-09-20 14:52:01</td>\n      <td>2019-09-20 14:52:15</td>\n      <td>14.0</td>\n      <td>135.0</td>\n      <td>74990</td>\n      <td>4</td>\n    </tr>\n    <tr>\n      <th>357341</th>\n      <td>2019-09-20</td>\n      <td>672-003</td>\n      <td>N</td>\n      <td>610</td>\n      <td>672</td>\n      <td>11137</td>\n      <td>1</td>\n      <td>38.55</td>\n      <td>38.55</td>\n      <td>2019-09-20 15:05:00</td>\n      <td>2019-09-20 15:01:05</td>\n      <td>2019-09-20 15:01:05</td>\n      <td>0.0</td>\n      <td>-235.0</td>\n      <td>74990</td>\n      <td>5</td>\n    </tr>\n    <tr>\n      <th>357342</th>\n      <td>2019-09-20</td>\n      <td>672-003</td>\n      <td>S</td>\n      <td>610</td>\n      <td>672</td>\n      <td>11137</td>\n      <td>1</td>\n      <td>38.63</td>\n      <td>38.63</td>\n      <td>2019-09-20 15:10:00</td>\n      <td>2019-09-20 15:01:05</td>\n      <td>2019-09-20 15:10:27</td>\n      <td>562.0</td>\n      <td>27.0</td>\n      <td>74991</td>\n      <td>1</td>\n    </tr>\n    <tr>\n      <th>357343</th>\n      <td>2019-09-20</td>\n      <td>672-003</td>\n      <td>S</td>\n      <td>610</td>\n      <td>672</td>\n      <td>23953</td>\n      <td>1</td>\n      <td>41.50</td>\n      <td>41.50</td>\n      <td>2019-09-20 15:21:00</td>\n      <td>2019-09-20 15:22:29</td>\n      <td>2019-09-20 15:23:17</td>\n      <td>48.0</td>\n      <td>137.0</td>\n      <td>74991</td>\n      <td>2</td>\n    </tr>\n    <tr>\n      <th>357344</th>\n      <td>2019-09-20</td>\n      <td>672-003</td>\n      <td>S</td>\n      <td>610</td>\n      <td>672</td>\n      <td>26183</td>\n      <td>1</td>\n      <td>44.57</td>\n      <td>44.57</td>\n      <td>2019-09-20 15:30:00</td>\n      <td>2019-09-20 15:33:23</td>\n      <td>2019-09-20 15:33:23</td>\n      <td>0.0</td>\n      <td>203.0</td>\n      <td>74991</td>\n      <td>3</td>\n    </tr>\n    <tr>\n      <th>357345</th>\n      <td>2019-09-20</td>\n      <td>672-003</td>\n      <td>N</td>\n      <td>610</td>\n      <td>672</td>\n      <td>26183</td>\n      <td>1</td>\n      <td>44.66</td>\n      <td>44.66</td>\n      <td>2019-09-20 15:30:00</td>\n      <td>2019-09-20 15:33:23</td>\n      <td>2019-09-20 15:33:55</td>\n      <td>32.0</td>\n      <td>235.0</td>\n      <td>74992</td>\n      <td>1</td>\n    </tr>\n    <tr>\n      <th>357346</th>\n      <td>2019-09-20</td>\n      <td>672-003</td>\n      <td>N</td>\n      <td>610</td>\n      <td>672</td>\n      <td>23953</td>\n      <td>1</td>\n      <td>48.62</td>\n      <td>48.62</td>\n      <td>2019-09-20 15:41:00</td>\n      <td>2019-09-20 15:43:57</td>\n      <td>2019-09-20 15:44:34</td>\n      <td>37.0</td>\n      <td>214.0</td>\n      <td>74992</td>\n      <td>2</td>\n    </tr>\n    <tr>\n      <th>357347</th>\n      <td>2019-09-20</td>\n      <td>672-003</td>\n      <td>N</td>\n      <td>610</td>\n      <td>672</td>\n      <td>11346</td>\n      <td>1</td>\n      <td>51.27</td>\n      <td>51.27</td>\n      <td>2019-09-20 15:52:00</td>\n      <td>2019-09-20 15:52:42</td>\n      <td>2019-09-20 15:53:31</td>\n      <td>49.0</td>\n      <td>91.0</td>\n      <td>74992</td>\n      <td>3</td>\n    </tr>\n    <tr>\n      <th>357348</th>\n      <td>2019-09-20</td>\n      <td>672-003</td>\n      <td>N</td>\n      <td>610</td>\n      <td>672</td>\n      <td>53756</td>\n      <td>1</td>\n      <td>52.76</td>\n      <td>52.76</td>\n      <td>2019-09-20 15:55:00</td>\n      <td>2019-09-20 15:59:47</td>\n      <td>2019-09-20 16:00:05</td>\n      <td>18.0</td>\n      <td>305.0</td>\n      <td>74992</td>\n      <td>4</td>\n    </tr>\n    <tr>\n      <th>357349</th>\n      <td>2019-09-20</td>\n      <td>672-003</td>\n      <td>N</td>\n      <td>610</td>\n      <td>672</td>\n      <td>11137</td>\n      <td>1</td>\n      <td>54.19</td>\n      <td>54.19</td>\n      <td>2019-09-20 16:10:00</td>\n      <td>2019-09-20 16:06:47</td>\n      <td>2019-09-20 16:06:47</td>\n      <td>0.0</td>\n      <td>-193.0</td>\n      <td>74992</td>\n      <td>5</td>\n    </tr>\n    <tr>\n      <th>357350</th>\n      <td>2019-09-20</td>\n      <td>672-003</td>\n      <td>S</td>\n      <td>610</td>\n      <td>672</td>\n      <td>11137</td>\n      <td>1</td>\n      <td>54.27</td>\n      <td>54.27</td>\n      <td>2019-09-20 16:15:00</td>\n      <td>2019-09-20 16:06:47</td>\n      <td>2019-09-20 16:16:18</td>\n      <td>571.0</td>\n      <td>78.0</td>\n      <td>74993</td>\n      <td>1</td>\n    </tr>\n    <tr>\n      <th>357351</th>\n      <td>2019-09-20</td>\n      <td>672-003</td>\n      <td>S</td>\n      <td>610</td>\n      <td>672</td>\n      <td>23953</td>\n      <td>1</td>\n      <td>57.14</td>\n      <td>57.14</td>\n      <td>2019-09-20 16:26:00</td>\n      <td>2019-09-20 16:29:18</td>\n      <td>2019-09-20 16:30:02</td>\n      <td>44.0</td>\n      <td>242.0</td>\n      <td>74993</td>\n      <td>2</td>\n    </tr>\n    <tr>\n      <th>357352</th>\n      <td>2019-09-20</td>\n      <td>672-003</td>\n      <td>S</td>\n      <td>610</td>\n      <td>672</td>\n      <td>26183</td>\n      <td>1</td>\n      <td>60.21</td>\n      <td>60.21</td>\n      <td>2019-09-20 16:35:00</td>\n      <td>2019-09-20 16:39:23</td>\n      <td>2019-09-20 16:39:23</td>\n      <td>0.0</td>\n      <td>263.0</td>\n      <td>74993</td>\n      <td>3</td>\n    </tr>\n    <tr>\n      <th>357353</th>\n      <td>2019-09-20</td>\n      <td>672-003</td>\n      <td>N</td>\n      <td>610</td>\n      <td>672</td>\n      <td>26183</td>\n      <td>1</td>\n      <td>60.30</td>\n      <td>60.30</td>\n      <td>2019-09-20 16:35:00</td>\n      <td>2019-09-20 16:39:23</td>\n      <td>2019-09-20 16:40:01</td>\n      <td>38.0</td>\n      <td>301.0</td>\n      <td>74994</td>\n      <td>1</td>\n    </tr>\n    <tr>\n      <th>357354</th>\n      <td>2019-09-20</td>\n      <td>672-003</td>\n      <td>N</td>\n      <td>610</td>\n      <td>672</td>\n      <td>23953</td>\n      <td>1</td>\n      <td>64.25</td>\n      <td>64.25</td>\n      <td>2019-09-20 16:46:00</td>\n      <td>2019-09-20 16:50:17</td>\n      <td>2019-09-20 16:51:01</td>\n      <td>44.0</td>\n      <td>301.0</td>\n      <td>74994</td>\n      <td>2</td>\n    </tr>\n    <tr>\n      <th>357355</th>\n      <td>2019-09-20</td>\n      <td>672-003</td>\n      <td>N</td>\n      <td>610</td>\n      <td>672</td>\n      <td>11346</td>\n      <td>1</td>\n      <td>66.90</td>\n      <td>66.90</td>\n      <td>2019-09-20 16:57:00</td>\n      <td>2019-09-20 17:02:04</td>\n      <td>2019-09-20 17:03:58</td>\n      <td>114.0</td>\n      <td>418.0</td>\n      <td>74994</td>\n      <td>3</td>\n    </tr>\n    <tr>\n      <th>357356</th>\n      <td>2019-09-20</td>\n      <td>672-003</td>\n      <td>N</td>\n      <td>610</td>\n      <td>672</td>\n      <td>53756</td>\n      <td>1</td>\n      <td>68.38</td>\n      <td>68.38</td>\n      <td>2019-09-20 17:00:00</td>\n      <td>2019-09-20 17:12:45</td>\n      <td>2019-09-20 17:14:09</td>\n      <td>84.0</td>\n      <td>849.0</td>\n      <td>74994</td>\n      <td>4</td>\n    </tr>\n    <tr>\n      <th>357357</th>\n      <td>2019-09-20</td>\n      <td>672-003</td>\n      <td>N</td>\n      <td>610</td>\n      <td>672</td>\n      <td>11137</td>\n      <td>1</td>\n      <td>69.82</td>\n      <td>69.82</td>\n      <td>2019-09-20 17:15:00</td>\n      <td>2019-09-20 17:23:51</td>\n      <td>2019-09-20 17:23:51</td>\n      <td>0.0</td>\n      <td>531.0</td>\n      <td>74994</td>\n      <td>5</td>\n    </tr>\n    <tr>\n      <th>357358</th>\n      <td>2019-09-20</td>\n      <td>672-003</td>\n      <td>S</td>\n      <td>610</td>\n      <td>672</td>\n      <td>11137</td>\n      <td>1</td>\n      <td>69.90</td>\n      <td>69.90</td>\n      <td>2019-09-20 17:20:00</td>\n      <td>2019-09-20 17:23:51</td>\n      <td>2019-09-20 17:24:44</td>\n      <td>53.0</td>\n      <td>284.0</td>\n      <td>74995</td>\n      <td>1</td>\n    </tr>\n    <tr>\n      <th>357359</th>\n      <td>2019-09-20</td>\n      <td>672-003</td>\n      <td>S</td>\n      <td>610</td>\n      <td>672</td>\n      <td>23953</td>\n      <td>1</td>\n      <td>72.77</td>\n      <td>72.77</td>\n      <td>2019-09-20 17:31:00</td>\n      <td>2019-09-20 17:37:44</td>\n      <td>2019-09-20 17:38:17</td>\n      <td>33.0</td>\n      <td>437.0</td>\n      <td>74995</td>\n      <td>2</td>\n    </tr>\n    <tr>\n      <th>357360</th>\n      <td>2019-09-20</td>\n      <td>672-003</td>\n      <td>S</td>\n      <td>610</td>\n      <td>672</td>\n      <td>26183</td>\n      <td>1</td>\n      <td>75.85</td>\n      <td>75.85</td>\n      <td>2019-09-20 17:40:00</td>\n      <td>2019-09-20 17:47:06</td>\n      <td>2019-09-20 17:47:06</td>\n      <td>0.0</td>\n      <td>426.0</td>\n      <td>74995</td>\n      <td>3</td>\n    </tr>\n    <tr>\n      <th>357361</th>\n      <td>2019-09-20</td>\n      <td>672-003</td>\n      <td>N</td>\n      <td>610</td>\n      <td>672</td>\n      <td>26183</td>\n      <td>1</td>\n      <td>75.93</td>\n      <td>75.93</td>\n      <td>2019-09-20 17:40:00</td>\n      <td>2019-09-20 17:47:06</td>\n      <td>2019-09-20 17:47:17</td>\n      <td>11.0</td>\n      <td>437.0</td>\n      <td>74996</td>\n      <td>1</td>\n    </tr>\n    <tr>\n      <th>357362</th>\n      <td>2019-09-20</td>\n      <td>672-003</td>\n      <td>N</td>\n      <td>610</td>\n      <td>672</td>\n      <td>23953</td>\n      <td>1</td>\n      <td>79.89</td>\n      <td>79.89</td>\n      <td>2019-09-20 17:51:00</td>\n      <td>2019-09-20 17:58:13</td>\n      <td>2019-09-20 17:58:36</td>\n      <td>23.0</td>\n      <td>456.0</td>\n      <td>74996</td>\n      <td>2</td>\n    </tr>\n    <tr>\n      <th>357363</th>\n      <td>2019-09-20</td>\n      <td>672-003</td>\n      <td>N</td>\n      <td>610</td>\n      <td>672</td>\n      <td>11346</td>\n      <td>1</td>\n      <td>82.53</td>\n      <td>82.53</td>\n      <td>2019-09-20 18:02:00</td>\n      <td>2019-09-20 18:08:47</td>\n      <td>2019-09-20 18:12:00</td>\n      <td>193.0</td>\n      <td>600.0</td>\n      <td>74996</td>\n      <td>3</td>\n    </tr>\n    <tr>\n      <th>357364</th>\n      <td>2019-09-20</td>\n      <td>672-003</td>\n      <td>N</td>\n      <td>610</td>\n      <td>672</td>\n      <td>53756</td>\n      <td>1</td>\n      <td>84.00</td>\n      <td>84.00</td>\n      <td>2019-09-20 18:05:00</td>\n      <td>2019-09-20 18:17:29</td>\n      <td>2019-09-20 18:17:38</td>\n      <td>9.0</td>\n      <td>758.0</td>\n      <td>74996</td>\n      <td>4</td>\n    </tr>\n    <tr>\n      <th>357365</th>\n      <td>2019-09-20</td>\n      <td>672-003</td>\n      <td>N</td>\n      <td>610</td>\n      <td>672</td>\n      <td>11137</td>\n      <td>1</td>\n      <td>85.46</td>\n      <td>85.46</td>\n      <td>2019-09-20 18:18:00</td>\n      <td>2019-09-20 18:26:49</td>\n      <td>2019-09-20 18:26:49</td>\n      <td>0.0</td>\n      <td>529.0</td>\n      <td>74996</td>\n      <td>5</td>\n    </tr>\n    <tr>\n      <th>357366</th>\n      <td>2019-09-20</td>\n      <td>672-003</td>\n      <td>S</td>\n      <td>610</td>\n      <td>672</td>\n      <td>11137</td>\n      <td>1</td>\n      <td>85.53</td>\n      <td>85.53</td>\n      <td>2019-09-20 18:20:00</td>\n      <td>2019-09-20 18:26:49</td>\n      <td>2019-09-20 18:28:32</td>\n      <td>103.0</td>\n      <td>512.0</td>\n      <td>74997</td>\n      <td>1</td>\n    </tr>\n    <tr>\n      <th>357367</th>\n      <td>2019-09-20</td>\n      <td>672-003</td>\n      <td>S</td>\n      <td>610</td>\n      <td>672</td>\n      <td>23953</td>\n      <td>1</td>\n      <td>88.41</td>\n      <td>88.41</td>\n      <td>2019-09-20 18:30:00</td>\n      <td>2019-09-20 18:40:52</td>\n      <td>2019-09-20 18:43:00</td>\n      <td>128.0</td>\n      <td>780.0</td>\n      <td>74997</td>\n      <td>2</td>\n    </tr>\n    <tr>\n      <th>357368</th>\n      <td>2019-09-20</td>\n      <td>672-003</td>\n      <td>S</td>\n      <td>610</td>\n      <td>672</td>\n      <td>26183</td>\n      <td>1</td>\n      <td>91.48</td>\n      <td>91.48</td>\n      <td>2019-09-20 18:39:00</td>\n      <td>2019-09-20 18:51:14</td>\n      <td>2019-09-20 18:51:14</td>\n      <td>0.0</td>\n      <td>734.0</td>\n      <td>74997</td>\n      <td>3</td>\n    </tr>\n    <tr>\n      <th>357369</th>\n      <td>2019-09-20</td>\n      <td>672-003</td>\n      <td>N</td>\n      <td>610</td>\n      <td>672</td>\n      <td>26183</td>\n      <td>1</td>\n      <td>91.56</td>\n      <td>91.56</td>\n      <td>2019-09-20 18:39:00</td>\n      <td>2019-09-20 18:51:14</td>\n      <td>2019-09-20 18:51:26</td>\n      <td>12.0</td>\n      <td>746.0</td>\n      <td>74998</td>\n      <td>1</td>\n    </tr>\n    <tr>\n      <th>357370</th>\n      <td>2019-09-20</td>\n      <td>672-003</td>\n      <td>N</td>\n      <td>610</td>\n      <td>672</td>\n      <td>23953</td>\n      <td>1</td>\n      <td>95.52</td>\n      <td>95.52</td>\n      <td>2019-09-20 18:49:00</td>\n      <td>2019-09-20 19:01:38</td>\n      <td>2019-09-20 19:02:04</td>\n      <td>26.0</td>\n      <td>784.0</td>\n      <td>74998</td>\n      <td>2</td>\n    </tr>\n    <tr>\n      <th>357371</th>\n      <td>2019-09-20</td>\n      <td>672-003</td>\n      <td>N</td>\n      <td>610</td>\n      <td>672</td>\n      <td>11346</td>\n      <td>1</td>\n      <td>98.17</td>\n      <td>98.17</td>\n      <td>2019-09-20 18:59:00</td>\n      <td>2019-09-20 19:11:33</td>\n      <td>2019-09-20 19:12:52</td>\n      <td>79.0</td>\n      <td>832.0</td>\n      <td>74998</td>\n      <td>3</td>\n    </tr>\n    <tr>\n      <th>357372</th>\n      <td>2019-09-20</td>\n      <td>672-003</td>\n      <td>N</td>\n      <td>610</td>\n      <td>672</td>\n      <td>53756</td>\n      <td>1</td>\n      <td>99.64</td>\n      <td>99.64</td>\n      <td>2019-09-20 19:02:00</td>\n      <td>2019-09-20 19:18:11</td>\n      <td>2019-09-20 19:18:20</td>\n      <td>9.0</td>\n      <td>980.0</td>\n      <td>74998</td>\n      <td>4</td>\n    </tr>\n    <tr>\n      <th>357373</th>\n      <td>2019-09-20</td>\n      <td>672-003</td>\n      <td>N</td>\n      <td>610</td>\n      <td>672</td>\n      <td>11137</td>\n      <td>1</td>\n      <td>101.09</td>\n      <td>101.09</td>\n      <td>2019-09-20 19:15:00</td>\n      <td>2019-09-20 19:25:51</td>\n      <td>2019-09-20 19:25:51</td>\n      <td>0.0</td>\n      <td>651.0</td>\n      <td>74998</td>\n      <td>5</td>\n    </tr>\n    <tr>\n      <th>357374</th>\n      <td>2019-09-20</td>\n      <td>672-003</td>\n      <td>S</td>\n      <td>610</td>\n      <td>672</td>\n      <td>11137</td>\n      <td>1</td>\n      <td>101.17</td>\n      <td>101.17</td>\n      <td>2019-09-20 19:20:00</td>\n      <td>2019-09-20 19:25:51</td>\n      <td>2019-09-20 19:26:34</td>\n      <td>43.0</td>\n      <td>394.0</td>\n      <td>74999</td>\n      <td>1</td>\n    </tr>\n    <tr>\n      <th>357375</th>\n      <td>2019-09-20</td>\n      <td>672-003</td>\n      <td>S</td>\n      <td>610</td>\n      <td>672</td>\n      <td>23953</td>\n      <td>1</td>\n      <td>104.05</td>\n      <td>104.05</td>\n      <td>2019-09-20 19:30:00</td>\n      <td>2019-09-20 19:36:25</td>\n      <td>2019-09-20 19:37:30</td>\n      <td>65.0</td>\n      <td>450.0</td>\n      <td>74999</td>\n      <td>2</td>\n    </tr>\n    <tr>\n      <th>357376</th>\n      <td>2019-09-20</td>\n      <td>672-003</td>\n      <td>S</td>\n      <td>610</td>\n      <td>672</td>\n      <td>26183</td>\n      <td>1</td>\n      <td>107.12</td>\n      <td>107.12</td>\n      <td>2019-09-20 19:39:00</td>\n      <td>2019-09-20 19:46:14</td>\n      <td>2019-09-20 19:46:14</td>\n      <td>0.0</td>\n      <td>434.0</td>\n      <td>74999</td>\n      <td>3</td>\n    </tr>\n    <tr>\n      <th>357377</th>\n      <td>2019-09-20</td>\n      <td>672-003</td>\n      <td>N</td>\n      <td>610</td>\n      <td>672</td>\n      <td>26183</td>\n      <td>1</td>\n      <td>107.21</td>\n      <td>107.21</td>\n      <td>2019-09-20 19:39:00</td>\n      <td>2019-09-20 19:46:14</td>\n      <td>2019-09-20 19:46:26</td>\n      <td>12.0</td>\n      <td>446.0</td>\n      <td>75000</td>\n      <td>1</td>\n    </tr>\n    <tr>\n      <th>357378</th>\n      <td>2019-09-20</td>\n      <td>672-003</td>\n      <td>N</td>\n      <td>610</td>\n      <td>672</td>\n      <td>23953</td>\n      <td>1</td>\n      <td>111.16</td>\n      <td>111.16</td>\n      <td>2019-09-20 19:49:00</td>\n      <td>2019-09-20 19:56:03</td>\n      <td>2019-09-20 19:56:29</td>\n      <td>26.0</td>\n      <td>449.0</td>\n      <td>75000</td>\n      <td>2</td>\n    </tr>\n    <tr>\n      <th>357379</th>\n      <td>2019-09-20</td>\n      <td>672-003</td>\n      <td>N</td>\n      <td>610</td>\n      <td>672</td>\n      <td>11346</td>\n      <td>1</td>\n      <td>113.81</td>\n      <td>113.81</td>\n      <td>2019-09-20 19:59:00</td>\n      <td>2019-09-20 20:05:25</td>\n      <td>2019-09-20 20:06:51</td>\n      <td>86.0</td>\n      <td>471.0</td>\n      <td>75000</td>\n      <td>3</td>\n    </tr>\n    <tr>\n      <th>357380</th>\n      <td>2019-09-20</td>\n      <td>672-003</td>\n      <td>N</td>\n      <td>610</td>\n      <td>672</td>\n      <td>53756</td>\n      <td>1</td>\n      <td>115.28</td>\n      <td>115.28</td>\n      <td>2019-09-20 20:02:00</td>\n      <td>2019-09-20 20:12:15</td>\n      <td>2019-09-20 20:12:24</td>\n      <td>9.0</td>\n      <td>624.0</td>\n      <td>75000</td>\n      <td>4</td>\n    </tr>\n    <tr>\n      <th>357381</th>\n      <td>2019-09-20</td>\n      <td>672-003</td>\n      <td>N</td>\n      <td>610</td>\n      <td>672</td>\n      <td>11137</td>\n      <td>1</td>\n      <td>116.74</td>\n      <td>116.74</td>\n      <td>2019-09-20 20:14:00</td>\n      <td>2019-09-20 20:20:01</td>\n      <td>2019-09-20 20:20:01</td>\n      <td>0.0</td>\n      <td>361.0</td>\n      <td>75000</td>\n      <td>5</td>\n    </tr>\n    <tr>\n      <th>357382</th>\n      <td>2019-09-20</td>\n      <td>672-003</td>\n      <td>S</td>\n      <td>610</td>\n      <td>672</td>\n      <td>11137</td>\n      <td>1</td>\n      <td>116.81</td>\n      <td>116.81</td>\n      <td>2019-09-20 20:20:00</td>\n      <td>2019-09-20 20:20:01</td>\n      <td>2019-09-20 20:26:11</td>\n      <td>370.0</td>\n      <td>371.0</td>\n      <td>75001</td>\n      <td>1</td>\n    </tr>\n    <tr>\n      <th>357383</th>\n      <td>2019-09-20</td>\n      <td>672-003</td>\n      <td>S</td>\n      <td>610</td>\n      <td>672</td>\n      <td>23953</td>\n      <td>1</td>\n      <td>119.68</td>\n      <td>119.68</td>\n      <td>2019-09-20 20:29:00</td>\n      <td>2019-09-20 20:37:00</td>\n      <td>2019-09-20 20:37:45</td>\n      <td>45.0</td>\n      <td>525.0</td>\n      <td>75001</td>\n      <td>2</td>\n    </tr>\n    <tr>\n      <th>357384</th>\n      <td>2019-09-20</td>\n      <td>672-003</td>\n      <td>S</td>\n      <td>610</td>\n      <td>672</td>\n      <td>26183</td>\n      <td>1</td>\n      <td>122.76</td>\n      <td>122.76</td>\n      <td>2019-09-20 20:38:00</td>\n      <td>2019-09-20 20:45:20</td>\n      <td>2019-09-20 20:45:20</td>\n      <td>0.0</td>\n      <td>440.0</td>\n      <td>75001</td>\n      <td>3</td>\n    </tr>\n    <tr>\n      <th>357385</th>\n      <td>2019-09-20</td>\n      <td>672-003</td>\n      <td>N</td>\n      <td>610</td>\n      <td>672</td>\n      <td>26183</td>\n      <td>1</td>\n      <td>122.84</td>\n      <td>122.84</td>\n      <td>2019-09-20 20:38:00</td>\n      <td>2019-09-20 20:45:20</td>\n      <td>2019-09-20 20:45:34</td>\n      <td>14.0</td>\n      <td>454.0</td>\n      <td>75002</td>\n      <td>1</td>\n    </tr>\n    <tr>\n      <th>357386</th>\n      <td>2019-09-20</td>\n      <td>672-003</td>\n      <td>N</td>\n      <td>610</td>\n      <td>672</td>\n      <td>23953</td>\n      <td>1</td>\n      <td>126.80</td>\n      <td>126.80</td>\n      <td>2019-09-20 20:48:00</td>\n      <td>2019-09-20 20:56:08</td>\n      <td>2019-09-20 20:56:37</td>\n      <td>29.0</td>\n      <td>517.0</td>\n      <td>75002</td>\n      <td>2</td>\n    </tr>\n    <tr>\n      <th>357387</th>\n      <td>2019-09-20</td>\n      <td>672-003</td>\n      <td>N</td>\n      <td>610</td>\n      <td>672</td>\n      <td>11346</td>\n      <td>1</td>\n      <td>129.45</td>\n      <td>129.45</td>\n      <td>2019-09-20 20:57:00</td>\n      <td>2019-09-20 21:05:24</td>\n      <td>2019-09-20 21:06:43</td>\n      <td>79.0</td>\n      <td>583.0</td>\n      <td>75002</td>\n      <td>3</td>\n    </tr>\n    <tr>\n      <th>357388</th>\n      <td>2019-09-20</td>\n      <td>672-003</td>\n      <td>N</td>\n      <td>610</td>\n      <td>672</td>\n      <td>53756</td>\n      <td>1</td>\n      <td>130.92</td>\n      <td>130.92</td>\n      <td>2019-09-20 21:00:00</td>\n      <td>2019-09-20 21:12:42</td>\n      <td>2019-09-20 21:12:51</td>\n      <td>9.0</td>\n      <td>771.0</td>\n      <td>75002</td>\n      <td>4</td>\n    </tr>\n    <tr>\n      <th>357389</th>\n      <td>2019-09-20</td>\n      <td>672-003</td>\n      <td>N</td>\n      <td>610</td>\n      <td>672</td>\n      <td>11137</td>\n      <td>1</td>\n      <td>132.37</td>\n      <td>132.37</td>\n      <td>2019-09-20 21:12:00</td>\n      <td>2019-09-20 21:20:05</td>\n      <td>2019-09-20 21:20:05</td>\n      <td>0.0</td>\n      <td>485.0</td>\n      <td>75002</td>\n      <td>5</td>\n    </tr>\n    <tr>\n      <th>357390</th>\n      <td>2019-09-20</td>\n      <td>672-003</td>\n      <td>S</td>\n      <td>610</td>\n      <td>672</td>\n      <td>11137</td>\n      <td>1</td>\n      <td>132.45</td>\n      <td>132.45</td>\n      <td>2019-09-20 21:20:00</td>\n      <td>2019-09-20 21:20:05</td>\n      <td>2019-09-20 21:22:17</td>\n      <td>132.0</td>\n      <td>137.0</td>\n      <td>75003</td>\n      <td>1</td>\n    </tr>\n    <tr>\n      <th>357391</th>\n      <td>2019-09-20</td>\n      <td>672-003</td>\n      <td>S</td>\n      <td>610</td>\n      <td>672</td>\n      <td>23953</td>\n      <td>1</td>\n      <td>135.32</td>\n      <td>135.32</td>\n      <td>2019-09-20 21:29:00</td>\n      <td>2019-09-20 21:35:26</td>\n      <td>2019-09-20 21:36:15</td>\n      <td>49.0</td>\n      <td>435.0</td>\n      <td>75003</td>\n      <td>2</td>\n    </tr>\n    <tr>\n      <th>357392</th>\n      <td>2019-09-20</td>\n      <td>672-003</td>\n      <td>S</td>\n      <td>610</td>\n      <td>672</td>\n      <td>26183</td>\n      <td>1</td>\n      <td>138.40</td>\n      <td>138.40</td>\n      <td>2019-09-20 21:38:00</td>\n      <td>2019-09-20 21:45:08</td>\n      <td>2019-09-20 21:45:08</td>\n      <td>0.0</td>\n      <td>428.0</td>\n      <td>75003</td>\n      <td>3</td>\n    </tr>\n    <tr>\n      <th>357393</th>\n      <td>2019-09-20</td>\n      <td>672-003</td>\n      <td>N</td>\n      <td>610</td>\n      <td>672</td>\n      <td>26183</td>\n      <td>1</td>\n      <td>138.48</td>\n      <td>138.48</td>\n      <td>2019-09-20 21:38:00</td>\n      <td>2019-09-20 21:45:08</td>\n      <td>2019-09-20 21:46:02</td>\n      <td>54.0</td>\n      <td>482.0</td>\n      <td>75004</td>\n      <td>1</td>\n    </tr>\n    <tr>\n      <th>357394</th>\n      <td>2019-09-20</td>\n      <td>672-003</td>\n      <td>N</td>\n      <td>610</td>\n      <td>672</td>\n      <td>23953</td>\n      <td>1</td>\n      <td>142.44</td>\n      <td>142.44</td>\n      <td>2019-09-20 21:48:00</td>\n      <td>2019-09-20 21:55:50</td>\n      <td>2019-09-20 21:56:43</td>\n      <td>53.0</td>\n      <td>523.0</td>\n      <td>75004</td>\n      <td>2</td>\n    </tr>\n    <tr>\n      <th>357395</th>\n      <td>2019-09-20</td>\n      <td>672-003</td>\n      <td>N</td>\n      <td>610</td>\n      <td>672</td>\n      <td>11346</td>\n      <td>1</td>\n      <td>145.09</td>\n      <td>145.09</td>\n      <td>2019-09-20 21:57:00</td>\n      <td>2019-09-20 22:04:46</td>\n      <td>2019-09-20 22:06:01</td>\n      <td>75.0</td>\n      <td>541.0</td>\n      <td>75004</td>\n      <td>3</td>\n    </tr>\n    <tr>\n      <th>357396</th>\n      <td>2019-09-20</td>\n      <td>672-003</td>\n      <td>N</td>\n      <td>610</td>\n      <td>672</td>\n      <td>53756</td>\n      <td>1</td>\n      <td>146.57</td>\n      <td>146.57</td>\n      <td>2019-09-20 22:00:00</td>\n      <td>2019-09-20 22:10:08</td>\n      <td>2019-09-20 22:10:17</td>\n      <td>9.0</td>\n      <td>617.0</td>\n      <td>75004</td>\n      <td>4</td>\n    </tr>\n    <tr>\n      <th>357397</th>\n      <td>2019-09-20</td>\n      <td>672-003</td>\n      <td>N</td>\n      <td>610</td>\n      <td>672</td>\n      <td>11137</td>\n      <td>1</td>\n      <td>148.01</td>\n      <td>148.01</td>\n      <td>2019-09-20 22:12:00</td>\n      <td>2019-09-20 22:15:50</td>\n      <td>2019-09-20 22:15:50</td>\n      <td>0.0</td>\n      <td>230.0</td>\n      <td>75004</td>\n      <td>5</td>\n    </tr>\n    <tr>\n      <th>357398</th>\n      <td>2019-09-20</td>\n      <td>672-003</td>\n      <td>S</td>\n      <td>610</td>\n      <td>672</td>\n      <td>11137</td>\n      <td>1</td>\n      <td>148.09</td>\n      <td>148.09</td>\n      <td>2019-09-20 22:20:00</td>\n      <td>2019-09-20 22:15:50</td>\n      <td>2019-09-20 22:20:51</td>\n      <td>301.0</td>\n      <td>51.0</td>\n      <td>75005</td>\n      <td>1</td>\n    </tr>\n    <tr>\n      <th>357399</th>\n      <td>2019-09-20</td>\n      <td>672-003</td>\n      <td>S</td>\n      <td>610</td>\n      <td>672</td>\n      <td>23953</td>\n      <td>1</td>\n      <td>150.97</td>\n      <td>150.97</td>\n      <td>2019-09-20 22:29:00</td>\n      <td>2019-09-20 22:31:24</td>\n      <td>2019-09-20 22:32:00</td>\n      <td>36.0</td>\n      <td>180.0</td>\n      <td>75005</td>\n      <td>2</td>\n    </tr>\n    <tr>\n      <th>357400</th>\n      <td>2019-09-20</td>\n      <td>672-003</td>\n      <td>S</td>\n      <td>610</td>\n      <td>672</td>\n      <td>26183</td>\n      <td>1</td>\n      <td>154.04</td>\n      <td>154.04</td>\n      <td>2019-09-20 22:38:00</td>\n      <td>2019-09-20 22:39:57</td>\n      <td>2019-09-20 22:39:57</td>\n      <td>0.0</td>\n      <td>117.0</td>\n      <td>75005</td>\n      <td>3</td>\n    </tr>\n    <tr>\n      <th>357401</th>\n      <td>2019-09-20</td>\n      <td>672-003</td>\n      <td>N</td>\n      <td>610</td>\n      <td>672</td>\n      <td>26183</td>\n      <td>1</td>\n      <td>154.12</td>\n      <td>154.12</td>\n      <td>2019-09-20 22:38:00</td>\n      <td>2019-09-20 22:39:57</td>\n      <td>2019-09-20 22:40:36</td>\n      <td>39.0</td>\n      <td>156.0</td>\n      <td>75006</td>\n      <td>1</td>\n    </tr>\n    <tr>\n      <th>357402</th>\n      <td>2019-09-20</td>\n      <td>672-003</td>\n      <td>N</td>\n      <td>610</td>\n      <td>672</td>\n      <td>23953</td>\n      <td>1</td>\n      <td>158.09</td>\n      <td>158.09</td>\n      <td>2019-09-20 22:48:00</td>\n      <td>2019-09-20 22:51:01</td>\n      <td>2019-09-20 22:51:26</td>\n      <td>25.0</td>\n      <td>206.0</td>\n      <td>75006</td>\n      <td>2</td>\n    </tr>\n    <tr>\n      <th>357403</th>\n      <td>2019-09-20</td>\n      <td>672-003</td>\n      <td>N</td>\n      <td>610</td>\n      <td>672</td>\n      <td>11346</td>\n      <td>1</td>\n      <td>160.73</td>\n      <td>160.73</td>\n      <td>2019-09-20 22:56:00</td>\n      <td>2019-09-20 22:59:18</td>\n      <td>2019-09-20 23:00:24</td>\n      <td>66.0</td>\n      <td>264.0</td>\n      <td>75006</td>\n      <td>3</td>\n    </tr>\n    <tr>\n      <th>357404</th>\n      <td>2019-09-20</td>\n      <td>672-003</td>\n      <td>N</td>\n      <td>610</td>\n      <td>672</td>\n      <td>53756</td>\n      <td>1</td>\n      <td>162.20</td>\n      <td>162.20</td>\n      <td>2019-09-20 22:58:00</td>\n      <td>2019-09-20 23:05:10</td>\n      <td>2019-09-20 23:05:39</td>\n      <td>29.0</td>\n      <td>459.0</td>\n      <td>75006</td>\n      <td>4</td>\n    </tr>\n    <tr>\n      <th>357405</th>\n      <td>2019-09-20</td>\n      <td>672-003</td>\n      <td>N</td>\n      <td>610</td>\n      <td>672</td>\n      <td>11137</td>\n      <td>1</td>\n      <td>163.73</td>\n      <td>163.73</td>\n      <td>2019-09-20 23:10:00</td>\n      <td>2019-09-20 23:10:41</td>\n      <td>2019-09-20 23:11:25</td>\n      <td>44.0</td>\n      <td>85.0</td>\n      <td>75006</td>\n      <td>5</td>\n    </tr>\n    <tr>\n      <th>357406</th>\n      <td>2019-09-20</td>\n      <td>672-003</td>\n      <td>N</td>\n      <td>610</td>\n      <td>672</td>\n      <td>GARA</td>\n      <td>1</td>\n      <td>171.11</td>\n      <td>171.11</td>\n      <td>2019-09-20 23:25:00</td>\n      <td>2019-09-20 23:23:16</td>\n      <td>2019-09-20 23:23:16</td>\n      <td>0.0</td>\n      <td>-104.0</td>\n      <td>75006</td>\n      <td>6</td>\n    </tr>\n    <tr>\n      <th>357407</th>\n      <td>2019-09-20</td>\n      <td>672-004</td>\n      <td>S</td>\n      <td>677</td>\n      <td>672</td>\n      <td>GARA</td>\n      <td>1</td>\n      <td>0.12</td>\n      <td>0.12</td>\n      <td>2019-09-20 14:20:00</td>\n      <td>2019-09-20 14:19:12</td>\n      <td>2019-09-20 14:22:38</td>\n      <td>206.0</td>\n      <td>158.0</td>\n      <td>75007</td>\n      <td>1</td>\n    </tr>\n    <tr>\n      <th>357408</th>\n      <td>2019-09-20</td>\n      <td>672-004</td>\n      <td>S</td>\n      <td>677</td>\n      <td>672</td>\n      <td>11137</td>\n      <td>1</td>\n      <td>7.48</td>\n      <td>7.48</td>\n      <td>2019-09-20 14:35:00</td>\n      <td>2019-09-20 14:33:35</td>\n      <td>2019-09-20 14:37:15</td>\n      <td>220.0</td>\n      <td>135.0</td>\n      <td>75007</td>\n      <td>2</td>\n    </tr>\n    <tr>\n      <th>357409</th>\n      <td>2019-09-20</td>\n      <td>672-004</td>\n      <td>S</td>\n      <td>677</td>\n      <td>672</td>\n      <td>23953</td>\n      <td>1</td>\n      <td>10.34</td>\n      <td>10.34</td>\n      <td>2019-09-20 14:46:00</td>\n      <td>2019-09-20 14:47:19</td>\n      <td>2019-09-20 14:47:45</td>\n      <td>26.0</td>\n      <td>105.0</td>\n      <td>75007</td>\n      <td>3</td>\n    </tr>\n    <tr>\n      <th>357410</th>\n      <td>2019-09-20</td>\n      <td>672-004</td>\n      <td>S</td>\n      <td>677</td>\n      <td>672</td>\n      <td>26183</td>\n      <td>1</td>\n      <td>17.90</td>\n      <td>17.90</td>\n      <td>2019-09-20 14:55:00</td>\n      <td>2019-09-20 15:09:13</td>\n      <td>2019-09-20 15:09:13</td>\n      <td>0.0</td>\n      <td>853.0</td>\n      <td>75007</td>\n      <td>4</td>\n    </tr>\n    <tr>\n      <th>357411</th>\n      <td>2019-09-20</td>\n      <td>672-004</td>\n      <td>N</td>\n      <td>677</td>\n      <td>672</td>\n      <td>26183</td>\n      <td>1</td>\n      <td>17.98</td>\n      <td>17.98</td>\n      <td>2019-09-20 14:55:00</td>\n      <td>2019-09-20 15:09:13</td>\n      <td>2019-09-20 15:10:07</td>\n      <td>54.0</td>\n      <td>907.0</td>\n      <td>75008</td>\n      <td>1</td>\n    </tr>\n    <tr>\n      <th>357412</th>\n      <td>2019-09-20</td>\n      <td>672-004</td>\n      <td>N</td>\n      <td>677</td>\n      <td>672</td>\n      <td>23953</td>\n      <td>1</td>\n      <td>21.93</td>\n      <td>21.93</td>\n      <td>2019-09-20 15:06:00</td>\n      <td>2019-09-20 15:21:08</td>\n      <td>2019-09-20 15:21:31</td>\n      <td>23.0</td>\n      <td>931.0</td>\n      <td>75008</td>\n      <td>2</td>\n    </tr>\n    <tr>\n      <th>357413</th>\n      <td>2019-09-20</td>\n      <td>672-004</td>\n      <td>N</td>\n      <td>677</td>\n      <td>672</td>\n      <td>11346</td>\n      <td>1</td>\n      <td>24.55</td>\n      <td>24.55</td>\n      <td>2019-09-20 15:17:00</td>\n      <td>2019-09-20 15:32:36</td>\n      <td>2019-09-20 15:33:50</td>\n      <td>74.0</td>\n      <td>1010.0</td>\n      <td>75008</td>\n      <td>3</td>\n    </tr>\n    <tr>\n      <th>357414</th>\n      <td>2019-09-20</td>\n      <td>672-004</td>\n      <td>N</td>\n      <td>677</td>\n      <td>672</td>\n      <td>53756</td>\n      <td>1</td>\n      <td>25.97</td>\n      <td>25.97</td>\n      <td>2019-09-20 15:20:00</td>\n      <td>2019-09-20 15:38:19</td>\n      <td>2019-09-20 15:38:29</td>\n      <td>10.0</td>\n      <td>1109.0</td>\n      <td>75008</td>\n      <td>4</td>\n    </tr>\n    <tr>\n      <th>357415</th>\n      <td>2019-09-20</td>\n      <td>672-004</td>\n      <td>N</td>\n      <td>677</td>\n      <td>672</td>\n      <td>11137</td>\n      <td>1</td>\n      <td>27.41</td>\n      <td>27.41</td>\n      <td>2019-09-20 15:35:00</td>\n      <td>2019-09-20 15:45:15</td>\n      <td>2019-09-20 15:45:15</td>\n      <td>0.0</td>\n      <td>615.0</td>\n      <td>75008</td>\n      <td>5</td>\n    </tr>\n    <tr>\n      <th>357416</th>\n      <td>2019-09-20</td>\n      <td>672-004</td>\n      <td>S</td>\n      <td>677</td>\n      <td>672</td>\n      <td>11137</td>\n      <td>1</td>\n      <td>27.49</td>\n      <td>27.49</td>\n      <td>2019-09-20 15:40:00</td>\n      <td>2019-09-20 15:45:15</td>\n      <td>2019-09-20 15:45:53</td>\n      <td>38.0</td>\n      <td>353.0</td>\n      <td>75009</td>\n      <td>1</td>\n    </tr>\n    <tr>\n      <th>357417</th>\n      <td>2019-09-20</td>\n      <td>672-004</td>\n      <td>S</td>\n      <td>677</td>\n      <td>672</td>\n      <td>23953</td>\n      <td>1</td>\n      <td>30.28</td>\n      <td>30.28</td>\n      <td>2019-09-20 15:51:00</td>\n      <td>2019-09-20 15:58:24</td>\n      <td>2019-09-20 15:59:13</td>\n      <td>49.0</td>\n      <td>493.0</td>\n      <td>75009</td>\n      <td>2</td>\n    </tr>\n    <tr>\n      <th>357418</th>\n      <td>2019-09-20</td>\n      <td>672-004</td>\n      <td>S</td>\n      <td>677</td>\n      <td>672</td>\n      <td>26183</td>\n      <td>1</td>\n      <td>33.35</td>\n      <td>33.35</td>\n      <td>2019-09-20 16:00:00</td>\n      <td>2019-09-20 16:06:30</td>\n      <td>2019-09-20 16:06:30</td>\n      <td>0.0</td>\n      <td>390.0</td>\n      <td>75009</td>\n      <td>3</td>\n    </tr>\n    <tr>\n      <th>357419</th>\n      <td>2019-09-20</td>\n      <td>672-004</td>\n      <td>N</td>\n      <td>677</td>\n      <td>672</td>\n      <td>26183</td>\n      <td>1</td>\n      <td>33.43</td>\n      <td>33.43</td>\n      <td>2019-09-20 16:00:00</td>\n      <td>2019-09-20 16:06:30</td>\n      <td>2019-09-20 16:07:01</td>\n      <td>31.0</td>\n      <td>421.0</td>\n      <td>75010</td>\n      <td>1</td>\n    </tr>\n    <tr>\n      <th>357420</th>\n      <td>2019-09-20</td>\n      <td>672-004</td>\n      <td>N</td>\n      <td>677</td>\n      <td>672</td>\n      <td>23953</td>\n      <td>1</td>\n      <td>37.38</td>\n      <td>37.38</td>\n      <td>2019-09-20 16:11:00</td>\n      <td>2019-09-20 16:17:29</td>\n      <td>2019-09-20 16:18:37</td>\n      <td>68.0</td>\n      <td>457.0</td>\n      <td>75010</td>\n      <td>2</td>\n    </tr>\n    <tr>\n      <th>357421</th>\n      <td>2019-09-20</td>\n      <td>672-004</td>\n      <td>N</td>\n      <td>677</td>\n      <td>672</td>\n      <td>11346</td>\n      <td>1</td>\n      <td>40.02</td>\n      <td>40.02</td>\n      <td>2019-09-20 16:22:00</td>\n      <td>2019-09-20 16:27:58</td>\n      <td>2019-09-20 16:29:15</td>\n      <td>77.0</td>\n      <td>435.0</td>\n      <td>75010</td>\n      <td>3</td>\n    </tr>\n    <tr>\n      <th>357422</th>\n      <td>2019-09-20</td>\n      <td>672-004</td>\n      <td>N</td>\n      <td>677</td>\n      <td>672</td>\n      <td>53756</td>\n      <td>1</td>\n      <td>41.43</td>\n      <td>41.43</td>\n      <td>2019-09-20 16:25:00</td>\n      <td>2019-09-20 16:35:54</td>\n      <td>2019-09-20 16:36:49</td>\n      <td>55.0</td>\n      <td>709.0</td>\n      <td>75010</td>\n      <td>4</td>\n    </tr>\n    <tr>\n      <th>357423</th>\n      <td>2019-09-20</td>\n      <td>672-004</td>\n      <td>N</td>\n      <td>677</td>\n      <td>672</td>\n      <td>11137</td>\n      <td>1</td>\n      <td>42.87</td>\n      <td>42.87</td>\n      <td>2019-09-20 16:40:00</td>\n      <td>2019-09-20 16:44:28</td>\n      <td>2019-09-20 16:44:28</td>\n      <td>0.0</td>\n      <td>268.0</td>\n      <td>75010</td>\n      <td>5</td>\n    </tr>\n    <tr>\n      <th>357424</th>\n      <td>2019-09-20</td>\n      <td>672-004</td>\n      <td>S</td>\n      <td>677</td>\n      <td>672</td>\n      <td>11137</td>\n      <td>1</td>\n      <td>42.95</td>\n      <td>42.95</td>\n      <td>2019-09-20 16:45:00</td>\n      <td>2019-09-20 16:44:28</td>\n      <td>2019-09-20 16:45:16</td>\n      <td>48.0</td>\n      <td>16.0</td>\n      <td>75011</td>\n      <td>1</td>\n    </tr>\n    <tr>\n      <th>357425</th>\n      <td>2019-09-20</td>\n      <td>672-004</td>\n      <td>S</td>\n      <td>677</td>\n      <td>672</td>\n      <td>23953</td>\n      <td>1</td>\n      <td>45.75</td>\n      <td>45.75</td>\n      <td>2019-09-20 16:56:00</td>\n      <td>2019-09-20 16:59:25</td>\n      <td>2019-09-20 16:59:52</td>\n      <td>27.0</td>\n      <td>232.0</td>\n      <td>75011</td>\n      <td>2</td>\n    </tr>\n    <tr>\n      <th>357426</th>\n      <td>2019-09-20</td>\n      <td>672-004</td>\n      <td>S</td>\n      <td>677</td>\n      <td>672</td>\n      <td>26183</td>\n      <td>1</td>\n      <td>48.83</td>\n      <td>48.83</td>\n      <td>2019-09-20 17:05:00</td>\n      <td>2019-09-20 17:08:27</td>\n      <td>2019-09-20 17:08:27</td>\n      <td>0.0</td>\n      <td>207.0</td>\n      <td>75011</td>\n      <td>3</td>\n    </tr>\n    <tr>\n      <th>357427</th>\n      <td>2019-09-20</td>\n      <td>672-004</td>\n      <td>N</td>\n      <td>677</td>\n      <td>672</td>\n      <td>26183</td>\n      <td>1</td>\n      <td>48.92</td>\n      <td>48.92</td>\n      <td>2019-09-20 17:05:00</td>\n      <td>2019-09-20 17:08:27</td>\n      <td>2019-09-20 17:09:07</td>\n      <td>40.0</td>\n      <td>247.0</td>\n      <td>75012</td>\n      <td>1</td>\n    </tr>\n    <tr>\n      <th>357428</th>\n      <td>2019-09-20</td>\n      <td>672-004</td>\n      <td>N</td>\n      <td>677</td>\n      <td>672</td>\n      <td>23953</td>\n      <td>1</td>\n      <td>52.87</td>\n      <td>52.87</td>\n      <td>2019-09-20 17:16:00</td>\n      <td>2019-09-20 17:19:33</td>\n      <td>2019-09-20 17:20:11</td>\n      <td>38.0</td>\n      <td>251.0</td>\n      <td>75012</td>\n      <td>2</td>\n    </tr>\n    <tr>\n      <th>357429</th>\n      <td>2019-09-20</td>\n      <td>672-004</td>\n      <td>N</td>\n      <td>677</td>\n      <td>672</td>\n      <td>11346</td>\n      <td>1</td>\n      <td>55.50</td>\n      <td>55.50</td>\n      <td>2019-09-20 17:27:00</td>\n      <td>2019-09-20 17:28:11</td>\n      <td>2019-09-20 17:28:54</td>\n      <td>43.0</td>\n      <td>114.0</td>\n      <td>75012</td>\n      <td>3</td>\n    </tr>\n    <tr>\n      <th>357430</th>\n      <td>2019-09-20</td>\n      <td>672-004</td>\n      <td>N</td>\n      <td>677</td>\n      <td>672</td>\n      <td>53756</td>\n      <td>1</td>\n      <td>56.92</td>\n      <td>56.92</td>\n      <td>2019-09-20 17:30:00</td>\n      <td>2019-09-20 17:35:35</td>\n      <td>2019-09-20 17:35:48</td>\n      <td>13.0</td>\n      <td>348.0</td>\n      <td>75012</td>\n      <td>4</td>\n    </tr>\n    <tr>\n      <th>357431</th>\n      <td>2019-09-20</td>\n      <td>672-004</td>\n      <td>N</td>\n      <td>677</td>\n      <td>672</td>\n      <td>11137</td>\n      <td>1</td>\n      <td>58.36</td>\n      <td>58.36</td>\n      <td>2019-09-20 17:45:00</td>\n      <td>2019-09-20 17:44:46</td>\n      <td>2019-09-20 17:44:46</td>\n      <td>0.0</td>\n      <td>-14.0</td>\n      <td>75012</td>\n      <td>5</td>\n    </tr>\n    <tr>\n      <th>357432</th>\n      <td>2019-09-20</td>\n      <td>672-004</td>\n      <td>S</td>\n      <td>677</td>\n      <td>672</td>\n      <td>11137</td>\n      <td>1</td>\n      <td>58.43</td>\n      <td>58.43</td>\n      <td>2019-09-20 17:50:00</td>\n      <td>2019-09-20 17:44:46</td>\n      <td>2019-09-20 17:51:13</td>\n      <td>387.0</td>\n      <td>73.0</td>\n      <td>75013</td>\n      <td>1</td>\n    </tr>\n    <tr>\n      <th>357433</th>\n      <td>2019-09-20</td>\n      <td>672-004</td>\n      <td>S</td>\n      <td>677</td>\n      <td>672</td>\n      <td>23953</td>\n      <td>1</td>\n      <td>61.25</td>\n      <td>61.25</td>\n      <td>2019-09-20 18:01:00</td>\n      <td>2019-09-20 18:01:23</td>\n      <td>2019-09-20 18:02:02</td>\n      <td>39.0</td>\n      <td>62.0</td>\n      <td>75013</td>\n      <td>2</td>\n    </tr>\n    <tr>\n      <th>357434</th>\n      <td>2019-09-20</td>\n      <td>672-004</td>\n      <td>S</td>\n      <td>677</td>\n      <td>672</td>\n      <td>26183</td>\n      <td>1</td>\n      <td>64.32</td>\n      <td>64.32</td>\n      <td>2019-09-20 18:10:00</td>\n      <td>2019-09-20 18:09:31</td>\n      <td>2019-09-20 18:09:31</td>\n      <td>0.0</td>\n      <td>-29.0</td>\n      <td>75013</td>\n      <td>3</td>\n    </tr>\n    <tr>\n      <th>357435</th>\n      <td>2019-09-20</td>\n      <td>672-004</td>\n      <td>N</td>\n      <td>677</td>\n      <td>672</td>\n      <td>26183</td>\n      <td>1</td>\n      <td>64.40</td>\n      <td>64.40</td>\n      <td>2019-09-20 18:10:00</td>\n      <td>2019-09-20 18:09:31</td>\n      <td>2019-09-20 18:12:16</td>\n      <td>165.0</td>\n      <td>136.0</td>\n      <td>75014</td>\n      <td>1</td>\n    </tr>\n    <tr>\n      <th>357436</th>\n      <td>2019-09-20</td>\n      <td>672-004</td>\n      <td>N</td>\n      <td>677</td>\n      <td>672</td>\n      <td>23953</td>\n      <td>1</td>\n      <td>68.35</td>\n      <td>68.35</td>\n      <td>2019-09-20 18:20:00</td>\n      <td>2019-09-20 18:21:18</td>\n      <td>2019-09-20 18:21:41</td>\n      <td>23.0</td>\n      <td>101.0</td>\n      <td>75014</td>\n      <td>2</td>\n    </tr>\n    <tr>\n      <th>357437</th>\n      <td>2019-09-20</td>\n      <td>672-004</td>\n      <td>N</td>\n      <td>677</td>\n      <td>672</td>\n      <td>11346</td>\n      <td>1</td>\n      <td>70.99</td>\n      <td>70.99</td>\n      <td>2019-09-20 18:30:00</td>\n      <td>2019-09-20 18:30:42</td>\n      <td>2019-09-20 18:32:46</td>\n      <td>124.0</td>\n      <td>166.0</td>\n      <td>75014</td>\n      <td>3</td>\n    </tr>\n    <tr>\n      <th>357438</th>\n      <td>2019-09-20</td>\n      <td>672-004</td>\n      <td>N</td>\n      <td>677</td>\n      <td>672</td>\n      <td>53756</td>\n      <td>1</td>\n      <td>72.41</td>\n      <td>72.41</td>\n      <td>2019-09-20 18:33:00</td>\n      <td>2019-09-20 18:38:43</td>\n      <td>2019-09-20 18:38:52</td>\n      <td>9.0</td>\n      <td>352.0</td>\n      <td>75014</td>\n      <td>4</td>\n    </tr>\n    <tr>\n      <th>357439</th>\n      <td>2019-09-20</td>\n      <td>672-004</td>\n      <td>N</td>\n      <td>677</td>\n      <td>672</td>\n      <td>11137</td>\n      <td>1</td>\n      <td>73.85</td>\n      <td>73.85</td>\n      <td>2019-09-20 18:46:00</td>\n      <td>2019-09-20 18:43:56</td>\n      <td>2019-09-20 18:43:56</td>\n      <td>0.0</td>\n      <td>-124.0</td>\n      <td>75014</td>\n      <td>5</td>\n    </tr>\n    <tr>\n      <th>357440</th>\n      <td>2019-09-20</td>\n      <td>672-004</td>\n      <td>S</td>\n      <td>677</td>\n      <td>672</td>\n      <td>11137</td>\n      <td>1</td>\n      <td>73.92</td>\n      <td>73.92</td>\n      <td>2019-09-20 18:50:00</td>\n      <td>2019-09-20 18:43:56</td>\n      <td>2019-09-20 18:50:50</td>\n      <td>414.0</td>\n      <td>50.0</td>\n      <td>75015</td>\n      <td>1</td>\n    </tr>\n    <tr>\n      <th>357441</th>\n      <td>2019-09-20</td>\n      <td>672-004</td>\n      <td>S</td>\n      <td>677</td>\n      <td>672</td>\n      <td>23953</td>\n      <td>1</td>\n      <td>76.73</td>\n      <td>76.73</td>\n      <td>2019-09-20 19:00:00</td>\n      <td>2019-09-20 19:01:36</td>\n      <td>2019-09-20 19:02:09</td>\n      <td>33.0</td>\n      <td>129.0</td>\n      <td>75015</td>\n      <td>2</td>\n    </tr>\n    <tr>\n      <th>357442</th>\n      <td>2019-09-20</td>\n      <td>672-004</td>\n      <td>S</td>\n      <td>677</td>\n      <td>672</td>\n      <td>26183</td>\n      <td>1</td>\n      <td>79.81</td>\n      <td>79.81</td>\n      <td>2019-09-20 19:09:00</td>\n      <td>2019-09-20 19:09:55</td>\n      <td>2019-09-20 19:09:55</td>\n      <td>0.0</td>\n      <td>55.0</td>\n      <td>75015</td>\n      <td>3</td>\n    </tr>\n    <tr>\n      <th>357443</th>\n      <td>2019-09-20</td>\n      <td>672-004</td>\n      <td>N</td>\n      <td>677</td>\n      <td>672</td>\n      <td>26183</td>\n      <td>1</td>\n      <td>79.88</td>\n      <td>79.88</td>\n      <td>2019-09-20 19:09:00</td>\n      <td>2019-09-20 19:09:55</td>\n      <td>2019-09-20 19:10:42</td>\n      <td>47.0</td>\n      <td>102.0</td>\n      <td>75016</td>\n      <td>1</td>\n    </tr>\n    <tr>\n      <th>357444</th>\n      <td>2019-09-20</td>\n      <td>672-004</td>\n      <td>N</td>\n      <td>677</td>\n      <td>672</td>\n      <td>23953</td>\n      <td>1</td>\n      <td>83.84</td>\n      <td>83.84</td>\n      <td>2019-09-20 19:19:00</td>\n      <td>2019-09-20 19:19:53</td>\n      <td>2019-09-20 19:20:12</td>\n      <td>19.0</td>\n      <td>72.0</td>\n      <td>75016</td>\n      <td>2</td>\n    </tr>\n    <tr>\n      <th>357445</th>\n      <td>2019-09-20</td>\n      <td>672-004</td>\n      <td>N</td>\n      <td>677</td>\n      <td>672</td>\n      <td>11346</td>\n      <td>1</td>\n      <td>86.48</td>\n      <td>86.48</td>\n      <td>2019-09-20 19:29:00</td>\n      <td>2019-09-20 19:29:20</td>\n      <td>2019-09-20 19:30:09</td>\n      <td>49.0</td>\n      <td>69.0</td>\n      <td>75016</td>\n      <td>3</td>\n    </tr>\n    <tr>\n      <th>357446</th>\n      <td>2019-09-20</td>\n      <td>672-004</td>\n      <td>N</td>\n      <td>677</td>\n      <td>672</td>\n      <td>53756</td>\n      <td>1</td>\n      <td>87.89</td>\n      <td>87.89</td>\n      <td>2019-09-20 19:32:00</td>\n      <td>2019-09-20 19:34:15</td>\n      <td>2019-09-20 19:34:23</td>\n      <td>8.0</td>\n      <td>143.0</td>\n      <td>75016</td>\n      <td>4</td>\n    </tr>\n    <tr>\n      <th>357447</th>\n      <td>2019-09-20</td>\n      <td>672-004</td>\n      <td>N</td>\n      <td>677</td>\n      <td>672</td>\n      <td>11137</td>\n      <td>1</td>\n      <td>89.34</td>\n      <td>89.34</td>\n      <td>2019-09-20 19:45:00</td>\n      <td>2019-09-20 19:41:51</td>\n      <td>2019-09-20 19:41:51</td>\n      <td>0.0</td>\n      <td>-189.0</td>\n      <td>75016</td>\n      <td>5</td>\n    </tr>\n    <tr>\n      <th>357448</th>\n      <td>2019-09-20</td>\n      <td>672-004</td>\n      <td>S</td>\n      <td>677</td>\n      <td>672</td>\n      <td>11137</td>\n      <td>1</td>\n      <td>89.42</td>\n      <td>89.42</td>\n      <td>2019-09-20 19:50:00</td>\n      <td>2019-09-20 19:41:51</td>\n      <td>2019-09-20 19:50:27</td>\n      <td>516.0</td>\n      <td>27.0</td>\n      <td>75017</td>\n      <td>1</td>\n    </tr>\n    <tr>\n      <th>357449</th>\n      <td>2019-09-20</td>\n      <td>672-004</td>\n      <td>S</td>\n      <td>677</td>\n      <td>672</td>\n      <td>23953</td>\n      <td>1</td>\n      <td>92.23</td>\n      <td>92.23</td>\n      <td>2019-09-20 20:00:00</td>\n      <td>2019-09-20 19:59:49</td>\n      <td>2019-09-20 20:00:27</td>\n      <td>38.0</td>\n      <td>27.0</td>\n      <td>75017</td>\n      <td>2</td>\n    </tr>\n    <tr>\n      <th>357450</th>\n      <td>2019-09-20</td>\n      <td>672-004</td>\n      <td>S</td>\n      <td>677</td>\n      <td>672</td>\n      <td>26183</td>\n      <td>1</td>\n      <td>95.30</td>\n      <td>95.30</td>\n      <td>2019-09-20 20:09:00</td>\n      <td>2019-09-20 20:08:59</td>\n      <td>2019-09-20 20:08:59</td>\n      <td>0.0</td>\n      <td>-1.0</td>\n      <td>75017</td>\n      <td>3</td>\n    </tr>\n    <tr>\n      <th>357451</th>\n      <td>2019-09-20</td>\n      <td>672-004</td>\n      <td>N</td>\n      <td>677</td>\n      <td>672</td>\n      <td>26183</td>\n      <td>1</td>\n      <td>95.37</td>\n      <td>95.37</td>\n      <td>2019-09-20 20:09:00</td>\n      <td>2019-09-20 20:08:59</td>\n      <td>2019-09-20 20:09:13</td>\n      <td>14.0</td>\n      <td>13.0</td>\n      <td>75018</td>\n      <td>1</td>\n    </tr>\n    <tr>\n      <th>357452</th>\n      <td>2019-09-20</td>\n      <td>672-004</td>\n      <td>N</td>\n      <td>677</td>\n      <td>672</td>\n      <td>23953</td>\n      <td>1</td>\n      <td>99.33</td>\n      <td>99.33</td>\n      <td>2019-09-20 20:19:00</td>\n      <td>2019-09-20 20:19:49</td>\n      <td>2019-09-20 20:20:07</td>\n      <td>18.0</td>\n      <td>67.0</td>\n      <td>75018</td>\n      <td>2</td>\n    </tr>\n    <tr>\n      <th>357453</th>\n      <td>2019-09-20</td>\n      <td>672-004</td>\n      <td>N</td>\n      <td>677</td>\n      <td>672</td>\n      <td>11346</td>\n      <td>1</td>\n      <td>101.99</td>\n      <td>101.99</td>\n      <td>2019-09-20 20:28:00</td>\n      <td>2019-09-20 20:28:50</td>\n      <td>2019-09-20 20:29:12</td>\n      <td>22.0</td>\n      <td>72.0</td>\n      <td>75018</td>\n      <td>3</td>\n    </tr>\n    <tr>\n      <th>357454</th>\n      <td>2019-09-20</td>\n      <td>672-004</td>\n      <td>N</td>\n      <td>677</td>\n      <td>672</td>\n      <td>53756</td>\n      <td>1</td>\n      <td>103.38</td>\n      <td>103.38</td>\n      <td>2019-09-20 20:31:00</td>\n      <td>2019-09-20 20:34:15</td>\n      <td>2019-09-20 20:34:25</td>\n      <td>10.0</td>\n      <td>205.0</td>\n      <td>75018</td>\n      <td>4</td>\n    </tr>\n    <tr>\n      <th>357455</th>\n      <td>2019-09-20</td>\n      <td>672-004</td>\n      <td>N</td>\n      <td>677</td>\n      <td>672</td>\n      <td>11137</td>\n      <td>1</td>\n      <td>104.91</td>\n      <td>104.91</td>\n      <td>2019-09-20 20:43:00</td>\n      <td>2019-09-20 20:42:05</td>\n      <td>2019-09-20 20:42:54</td>\n      <td>49.0</td>\n      <td>-6.0</td>\n      <td>75018</td>\n      <td>5</td>\n    </tr>\n    <tr>\n      <th>357456</th>\n      <td>2019-09-20</td>\n      <td>672-004</td>\n      <td>N</td>\n      <td>677</td>\n      <td>672</td>\n      <td>GARA</td>\n      <td>1</td>\n      <td>112.29</td>\n      <td>112.29</td>\n      <td>2019-09-20 20:58:00</td>\n      <td>2019-09-20 20:53:10</td>\n      <td>2019-09-20 20:53:10</td>\n      <td>0.0</td>\n      <td>-290.0</td>\n      <td>75018</td>\n      <td>6</td>\n    </tr>\n    <tr>\n      <th>357457</th>\n      <td>2019-09-20</td>\n      <td>900-001</td>\n      <td>N</td>\n      <td>523</td>\n      <td>534</td>\n      <td>GARA</td>\n      <td>1</td>\n      <td>0.17</td>\n      <td>0.17</td>\n      <td>2019-09-20 03:40:00</td>\n      <td>2019-09-20 03:34:44</td>\n      <td>2019-09-20 03:37:52</td>\n      <td>188.0</td>\n      <td>-128.0</td>\n      <td>75019</td>\n      <td>1</td>\n    </tr>\n    <tr>\n      <th>357458</th>\n      <td>2019-09-20</td>\n      <td>900-001</td>\n      <td>N</td>\n      <td>523</td>\n      <td>534</td>\n      <td>20046</td>\n      <td>1</td>\n      <td>9.79</td>\n      <td>9.79</td>\n      <td>2019-09-20 04:00:00</td>\n      <td>2019-09-20 03:53:40</td>\n      <td>2019-09-20 04:00:14</td>\n      <td>394.0</td>\n      <td>14.0</td>\n      <td>75019</td>\n      <td>2</td>\n    </tr>\n    <tr>\n      <th>357459</th>\n      <td>2019-09-20</td>\n      <td>900-001</td>\n      <td>N</td>\n      <td>523</td>\n      <td>534</td>\n      <td>64986</td>\n      <td>1</td>\n      <td>NaN</td>\n      <td>NaN</td>\n      <td>2019-09-20 04:06:00</td>\n      <td>NaT</td>\n      <td>NaT</td>\n      <td>NaN</td>\n      <td>NaN</td>\n      <td>75019</td>\n      <td>3</td>\n    </tr>\n    <tr>\n      <th>357460</th>\n      <td>2019-09-20</td>\n      <td>900-001</td>\n      <td>N</td>\n      <td>523</td>\n      <td>534</td>\n      <td>GARA</td>\n      <td>1</td>\n      <td>18.90</td>\n      <td>18.90</td>\n      <td>2019-09-20 04:30:00</td>\n      <td>2019-09-20 04:15:43</td>\n      <td>2019-09-20 04:15:43</td>\n      <td>0.0</td>\n      <td>-857.0</td>\n      <td>75019</td>\n      <td>4</td>\n    </tr>\n    <tr>\n      <th>357461</th>\n      <td>2019-09-20</td>\n      <td>900-002</td>\n      <td>E</td>\n      <td>524</td>\n      <td>552</td>\n      <td>GARA</td>\n      <td>1</td>\n      <td>0.16</td>\n      <td>0.16</td>\n      <td>2019-09-20 03:40:00</td>\n      <td>2019-09-20 03:28:43</td>\n      <td>2019-09-20 03:38:13</td>\n      <td>570.0</td>\n      <td>-107.0</td>\n      <td>75020</td>\n      <td>1</td>\n    </tr>\n    <tr>\n      <th>357462</th>\n      <td>2019-09-20</td>\n      <td>900-002</td>\n      <td>E</td>\n      <td>524</td>\n      <td>552</td>\n      <td>98023</td>\n      <td>1</td>\n      <td>NaN</td>\n      <td>NaN</td>\n      <td>2019-09-20 04:00:00</td>\n      <td>NaT</td>\n      <td>NaT</td>\n      <td>NaN</td>\n      <td>NaN</td>\n      <td>75020</td>\n      <td>2</td>\n    </tr>\n    <tr>\n      <th>357463</th>\n      <td>2019-09-20</td>\n      <td>900-002</td>\n      <td>E</td>\n      <td>524</td>\n      <td>552</td>\n      <td>32179</td>\n      <td>1</td>\n      <td>17.85</td>\n      <td>17.85</td>\n      <td>2019-09-20 04:10:00</td>\n      <td>2019-09-20 04:10:54</td>\n      <td>2019-09-20 04:11:20</td>\n      <td>26.0</td>\n      <td>80.0</td>\n      <td>75020</td>\n      <td>3</td>\n    </tr>\n    <tr>\n      <th>357464</th>\n      <td>2019-09-20</td>\n      <td>900-002</td>\n      <td>E</td>\n      <td>524</td>\n      <td>552</td>\n      <td>GARA</td>\n      <td>1</td>\n      <td>23.59</td>\n      <td>23.59</td>\n      <td>2019-09-20 04:22:00</td>\n      <td>2019-09-20 04:20:23</td>\n      <td>2019-09-20 04:20:23</td>\n      <td>0.0</td>\n      <td>-97.0</td>\n      <td>75020</td>\n      <td>4</td>\n    </tr>\n  </tbody>\n</table>\n</div>"
     },
     "metadata": {},
     "execution_count": 23
    }
   ],
   "source": [
    "adh_routes = adh_routes.join(gen_df, how='left')\n",
    "adh_routes.tail(20)"
   ]
  },
  {
   "cell_type": "code",
   "execution_count": 24,
   "metadata": {},
   "outputs": [
    {
     "output_type": "execute_result",
     "data": {
      "text/plain": "1    356606\n2       857\n4         2\nName: recs, dtype: int64"
     },
     "metadata": {},
     "execution_count": 24
    }
   ],
   "source": [
    "adh_routes.recs.value_counts()"
   ]
  },
  {
   "cell_type": "code",
   "execution_count": 25,
   "metadata": {},
   "outputs": [
    {
     "output_type": "execute_result",
     "data": {
      "text/plain": "S    116631\nN    116201\nE     62920\nW     62576\nName: route_dir, dtype: Int64"
     },
     "metadata": {},
     "execution_count": 25
    }
   ],
   "source": [
    "df_adherence.route_dir.value_counts()"
   ]
  },
  {
   "cell_type": "code",
   "execution_count": 26,
   "metadata": {},
   "outputs": [
    {
     "output_type": "execute_result",
     "data": {
      "text/plain": "nan    1744\n525    1374\n529    1290\n533    1274\n585    1273\nName: vehicle_id, dtype: Int64"
     },
     "metadata": {},
     "execution_count": 26
    }
   ],
   "source": [
    "df_adherence.vehicle_id.value_counts().head()"
   ]
  },
  {
   "cell_type": "code",
   "execution_count": 27,
   "metadata": {},
   "outputs": [
    {
     "output_type": "execute_result",
     "data": {
      "text/plain": "service_date      2019-09-12 00:00:00\nroute_block                   002-008\nroute_dir                           S\nvehicle_id                        500\nroute                               2\nstop_id                         10059\nrecs                                4\narr_odometer                     57.7\ndep_odometer                    57.74\nsched_time_hms    2019-09-12 15:59:00\narr_time_hms      2019-09-12 15:56:10\ndep_time_hms      2019-09-12 15:59:15\ntime_stopped                      185\ntime_missed                        15\nblock_run                        8256\nrun_stop                            2\nName: 38955, dtype: object"
     },
     "metadata": {},
     "execution_count": 27
    }
   ],
   "source": [
    "check_mult = adh_routes[adh_routes.recs>2].iloc[0]\n",
    "check_mult"
   ]
  },
  {
   "cell_type": "code",
   "execution_count": 28,
   "metadata": {},
   "outputs": [
    {
     "output_type": "execute_result",
     "data": {
      "text/plain": "'S'"
     },
     "metadata": {},
     "execution_count": 28
    }
   ],
   "source": [
    "check_mult.route_dir"
   ]
  },
  {
   "cell_type": "code",
   "execution_count": 29,
   "metadata": {},
   "outputs": [
    {
     "output_type": "execute_result",
     "data": {
      "text/plain": "       service_date route route_block route_dir stop_id  sched_time_s  \\\n39052    2019-09-12     2     002-008         S   10059       57540.0   \n39053    2019-09-12     2     002-008         S   10059       57540.0   \n39054    2019-09-12     2     002-008         S   10059       57540.0   \n39055    2019-09-12     2     002-008         S   10059       57540.0   \n39118    2019-09-12     2     002-008         S   10059       73200.0   \n39119    2019-09-12     2     002-008         S   10059       73200.0   \n39120    2019-09-12     2     002-008         S   10059       73200.0   \n39121    2019-09-12     2     002-008         S   10059       73200.0   \n76915    2019-09-13     2     002-004         S   10059       18600.0   \n76941    2019-09-13     2     002-004         S   10059       31260.0   \n76942    2019-09-13     2     002-004         S   10059       31260.0   \n76968    2019-09-13     2     002-004         S   10059       45360.0   \n76969    2019-09-13     2     002-004         S   10059       45360.0   \n76995    2019-09-13     2     002-004         S   10059       59340.0   \n76996    2019-09-13     2     002-004         S   10059       59340.0   \n282234   2019-09-19     2     002-004         S   10059       18600.0   \n282260   2019-09-19     2     002-004         S   10059       31260.0   \n282261   2019-09-19     2     002-004         S   10059       31260.0   \n282287   2019-09-19     2     002-004         S   10059       45360.0   \n282288   2019-09-19     2     002-004         S   10059       45360.0   \n282314   2019-09-19     2     002-004         S   10059       59340.0   \n282315   2019-09-19     2     002-004         S   10059       59340.0   \n\n            sched_time_hms  arr_time_s        arr_time_hms  dep_time_s  \\\n39052  2020-07-16 15:59:00     57370.0 2020-07-16 15:56:10     57370.0   \n39053  2020-07-16 15:59:00     57370.0 2020-07-16 15:56:10     57555.0   \n39054  2020-07-16 15:59:00     57370.0 2020-07-16 15:56:10     57370.0   \n39055  2020-07-16 15:59:00     57370.0 2020-07-16 15:56:10     57555.0   \n39118  2020-07-16 20:20:00     73076.0 2020-07-16 20:17:56     73076.0   \n39119  2020-07-16 20:20:00     73076.0 2020-07-16 20:17:56     73223.0   \n39120  2020-07-16 20:20:00     73076.0 2020-07-16 20:17:56     73076.0   \n39121  2020-07-16 20:20:00     73076.0 2020-07-16 20:17:56     73223.0   \n76915  2020-07-16 05:10:00     18211.0 2020-07-16 05:03:31     18227.0   \n76941  2020-07-16 08:41:00     31043.0 2020-07-16 08:37:23     31043.0   \n76942  2020-07-16 08:41:00     31043.0 2020-07-16 08:37:23     31229.0   \n76968  2020-07-16 12:36:00     45091.0 2020-07-16 12:31:31     45091.0   \n76969  2020-07-16 12:36:00     45091.0 2020-07-16 12:31:31     45427.0   \n76995  2020-07-16 16:29:00     59461.0 2020-07-16 16:31:01     59461.0   \n76996  2020-07-16 16:29:00     59461.0 2020-07-16 16:31:01     59579.0   \n282234 2020-07-16 05:10:00     18103.0 2020-07-16 05:01:43     18118.0   \n282260 2020-07-16 08:41:00     31037.0 2020-07-16 08:37:17     31037.0   \n282261 2020-07-16 08:41:00     31037.0 2020-07-16 08:37:17     31315.0   \n282287 2020-07-16 12:36:00     45210.0 2020-07-16 12:33:30     45210.0   \n282288 2020-07-16 12:36:00     45210.0 2020-07-16 12:33:30     45430.0   \n282314 2020-07-16 16:29:00     59187.0 2020-07-16 16:26:27     59187.0   \n282315 2020-07-16 16:29:00     59187.0 2020-07-16 16:26:27     59347.0   \n\n              dep_time_hms  odometer vehicle_id  \n39052  2020-07-16 15:56:10     57.70        500  \n39053  2020-07-16 15:59:15     57.74        500  \n39054  2020-07-16 15:56:10     57.70        500  \n39055  2020-07-16 15:59:15     57.70        500  \n39118  2020-07-16 20:17:56    113.81        500  \n39119  2020-07-16 20:20:23    113.88        500  \n39120  2020-07-16 20:17:56    113.78        500  \n39121  2020-07-16 20:20:23    113.84        500  \n76915  2020-07-16 05:03:47      6.29        500  \n76941  2020-07-16 08:37:23     48.18        500  \n76942  2020-07-16 08:40:29     48.26        500  \n76968  2020-07-16 12:31:31     90.02        500  \n76969  2020-07-16 12:37:07     90.10        500  \n76995  2020-07-16 16:31:01    131.78        500  \n76996  2020-07-16 16:32:59    131.85        500  \n282234 2020-07-16 05:01:58      5.85        500  \n282260 2020-07-16 08:37:17     47.75        500  \n282261 2020-07-16 08:41:55     47.82        500  \n282287 2020-07-16 12:33:30     89.56        500  \n282288 2020-07-16 12:37:10     89.64        500  \n282314 2020-07-16 16:26:27    131.16        500  \n282315 2020-07-16 16:29:07    131.23        500  ",
      "text/html": "<div>\n<style scoped>\n    .dataframe tbody tr th:only-of-type {\n        vertical-align: middle;\n    }\n\n    .dataframe tbody tr th {\n        vertical-align: top;\n    }\n\n    .dataframe thead th {\n        text-align: right;\n    }\n</style>\n<table border=\"1\" class=\"dataframe\">\n  <thead>\n    <tr style=\"text-align: right;\">\n      <th></th>\n      <th>service_date</th>\n      <th>route</th>\n      <th>route_block</th>\n      <th>route_dir</th>\n      <th>stop_id</th>\n      <th>sched_time_s</th>\n      <th>sched_time_hms</th>\n      <th>arr_time_s</th>\n      <th>arr_time_hms</th>\n      <th>dep_time_s</th>\n      <th>dep_time_hms</th>\n      <th>odometer</th>\n      <th>vehicle_id</th>\n    </tr>\n  </thead>\n  <tbody>\n    <tr>\n      <th>39052</th>\n      <td>2019-09-12</td>\n      <td>2</td>\n      <td>002-008</td>\n      <td>S</td>\n      <td>10059</td>\n      <td>57540.0</td>\n      <td>2020-07-16 15:59:00</td>\n      <td>57370.0</td>\n      <td>2020-07-16 15:56:10</td>\n      <td>57370.0</td>\n      <td>2020-07-16 15:56:10</td>\n      <td>57.70</td>\n      <td>500</td>\n    </tr>\n    <tr>\n      <th>39053</th>\n      <td>2019-09-12</td>\n      <td>2</td>\n      <td>002-008</td>\n      <td>S</td>\n      <td>10059</td>\n      <td>57540.0</td>\n      <td>2020-07-16 15:59:00</td>\n      <td>57370.0</td>\n      <td>2020-07-16 15:56:10</td>\n      <td>57555.0</td>\n      <td>2020-07-16 15:59:15</td>\n      <td>57.74</td>\n      <td>500</td>\n    </tr>\n    <tr>\n      <th>39054</th>\n      <td>2019-09-12</td>\n      <td>2</td>\n      <td>002-008</td>\n      <td>S</td>\n      <td>10059</td>\n      <td>57540.0</td>\n      <td>2020-07-16 15:59:00</td>\n      <td>57370.0</td>\n      <td>2020-07-16 15:56:10</td>\n      <td>57370.0</td>\n      <td>2020-07-16 15:56:10</td>\n      <td>57.70</td>\n      <td>500</td>\n    </tr>\n    <tr>\n      <th>39055</th>\n      <td>2019-09-12</td>\n      <td>2</td>\n      <td>002-008</td>\n      <td>S</td>\n      <td>10059</td>\n      <td>57540.0</td>\n      <td>2020-07-16 15:59:00</td>\n      <td>57370.0</td>\n      <td>2020-07-16 15:56:10</td>\n      <td>57555.0</td>\n      <td>2020-07-16 15:59:15</td>\n      <td>57.70</td>\n      <td>500</td>\n    </tr>\n    <tr>\n      <th>39118</th>\n      <td>2019-09-12</td>\n      <td>2</td>\n      <td>002-008</td>\n      <td>S</td>\n      <td>10059</td>\n      <td>73200.0</td>\n      <td>2020-07-16 20:20:00</td>\n      <td>73076.0</td>\n      <td>2020-07-16 20:17:56</td>\n      <td>73076.0</td>\n      <td>2020-07-16 20:17:56</td>\n      <td>113.81</td>\n      <td>500</td>\n    </tr>\n    <tr>\n      <th>39119</th>\n      <td>2019-09-12</td>\n      <td>2</td>\n      <td>002-008</td>\n      <td>S</td>\n      <td>10059</td>\n      <td>73200.0</td>\n      <td>2020-07-16 20:20:00</td>\n      <td>73076.0</td>\n      <td>2020-07-16 20:17:56</td>\n      <td>73223.0</td>\n      <td>2020-07-16 20:20:23</td>\n      <td>113.88</td>\n      <td>500</td>\n    </tr>\n    <tr>\n      <th>39120</th>\n      <td>2019-09-12</td>\n      <td>2</td>\n      <td>002-008</td>\n      <td>S</td>\n      <td>10059</td>\n      <td>73200.0</td>\n      <td>2020-07-16 20:20:00</td>\n      <td>73076.0</td>\n      <td>2020-07-16 20:17:56</td>\n      <td>73076.0</td>\n      <td>2020-07-16 20:17:56</td>\n      <td>113.78</td>\n      <td>500</td>\n    </tr>\n    <tr>\n      <th>39121</th>\n      <td>2019-09-12</td>\n      <td>2</td>\n      <td>002-008</td>\n      <td>S</td>\n      <td>10059</td>\n      <td>73200.0</td>\n      <td>2020-07-16 20:20:00</td>\n      <td>73076.0</td>\n      <td>2020-07-16 20:17:56</td>\n      <td>73223.0</td>\n      <td>2020-07-16 20:20:23</td>\n      <td>113.84</td>\n      <td>500</td>\n    </tr>\n    <tr>\n      <th>76915</th>\n      <td>2019-09-13</td>\n      <td>2</td>\n      <td>002-004</td>\n      <td>S</td>\n      <td>10059</td>\n      <td>18600.0</td>\n      <td>2020-07-16 05:10:00</td>\n      <td>18211.0</td>\n      <td>2020-07-16 05:03:31</td>\n      <td>18227.0</td>\n      <td>2020-07-16 05:03:47</td>\n      <td>6.29</td>\n      <td>500</td>\n    </tr>\n    <tr>\n      <th>76941</th>\n      <td>2019-09-13</td>\n      <td>2</td>\n      <td>002-004</td>\n      <td>S</td>\n      <td>10059</td>\n      <td>31260.0</td>\n      <td>2020-07-16 08:41:00</td>\n      <td>31043.0</td>\n      <td>2020-07-16 08:37:23</td>\n      <td>31043.0</td>\n      <td>2020-07-16 08:37:23</td>\n      <td>48.18</td>\n      <td>500</td>\n    </tr>\n    <tr>\n      <th>76942</th>\n      <td>2019-09-13</td>\n      <td>2</td>\n      <td>002-004</td>\n      <td>S</td>\n      <td>10059</td>\n      <td>31260.0</td>\n      <td>2020-07-16 08:41:00</td>\n      <td>31043.0</td>\n      <td>2020-07-16 08:37:23</td>\n      <td>31229.0</td>\n      <td>2020-07-16 08:40:29</td>\n      <td>48.26</td>\n      <td>500</td>\n    </tr>\n    <tr>\n      <th>76968</th>\n      <td>2019-09-13</td>\n      <td>2</td>\n      <td>002-004</td>\n      <td>S</td>\n      <td>10059</td>\n      <td>45360.0</td>\n      <td>2020-07-16 12:36:00</td>\n      <td>45091.0</td>\n      <td>2020-07-16 12:31:31</td>\n      <td>45091.0</td>\n      <td>2020-07-16 12:31:31</td>\n      <td>90.02</td>\n      <td>500</td>\n    </tr>\n    <tr>\n      <th>76969</th>\n      <td>2019-09-13</td>\n      <td>2</td>\n      <td>002-004</td>\n      <td>S</td>\n      <td>10059</td>\n      <td>45360.0</td>\n      <td>2020-07-16 12:36:00</td>\n      <td>45091.0</td>\n      <td>2020-07-16 12:31:31</td>\n      <td>45427.0</td>\n      <td>2020-07-16 12:37:07</td>\n      <td>90.10</td>\n      <td>500</td>\n    </tr>\n    <tr>\n      <th>76995</th>\n      <td>2019-09-13</td>\n      <td>2</td>\n      <td>002-004</td>\n      <td>S</td>\n      <td>10059</td>\n      <td>59340.0</td>\n      <td>2020-07-16 16:29:00</td>\n      <td>59461.0</td>\n      <td>2020-07-16 16:31:01</td>\n      <td>59461.0</td>\n      <td>2020-07-16 16:31:01</td>\n      <td>131.78</td>\n      <td>500</td>\n    </tr>\n    <tr>\n      <th>76996</th>\n      <td>2019-09-13</td>\n      <td>2</td>\n      <td>002-004</td>\n      <td>S</td>\n      <td>10059</td>\n      <td>59340.0</td>\n      <td>2020-07-16 16:29:00</td>\n      <td>59461.0</td>\n      <td>2020-07-16 16:31:01</td>\n      <td>59579.0</td>\n      <td>2020-07-16 16:32:59</td>\n      <td>131.85</td>\n      <td>500</td>\n    </tr>\n    <tr>\n      <th>282234</th>\n      <td>2019-09-19</td>\n      <td>2</td>\n      <td>002-004</td>\n      <td>S</td>\n      <td>10059</td>\n      <td>18600.0</td>\n      <td>2020-07-16 05:10:00</td>\n      <td>18103.0</td>\n      <td>2020-07-16 05:01:43</td>\n      <td>18118.0</td>\n      <td>2020-07-16 05:01:58</td>\n      <td>5.85</td>\n      <td>500</td>\n    </tr>\n    <tr>\n      <th>282260</th>\n      <td>2019-09-19</td>\n      <td>2</td>\n      <td>002-004</td>\n      <td>S</td>\n      <td>10059</td>\n      <td>31260.0</td>\n      <td>2020-07-16 08:41:00</td>\n      <td>31037.0</td>\n      <td>2020-07-16 08:37:17</td>\n      <td>31037.0</td>\n      <td>2020-07-16 08:37:17</td>\n      <td>47.75</td>\n      <td>500</td>\n    </tr>\n    <tr>\n      <th>282261</th>\n      <td>2019-09-19</td>\n      <td>2</td>\n      <td>002-004</td>\n      <td>S</td>\n      <td>10059</td>\n      <td>31260.0</td>\n      <td>2020-07-16 08:41:00</td>\n      <td>31037.0</td>\n      <td>2020-07-16 08:37:17</td>\n      <td>31315.0</td>\n      <td>2020-07-16 08:41:55</td>\n      <td>47.82</td>\n      <td>500</td>\n    </tr>\n    <tr>\n      <th>282287</th>\n      <td>2019-09-19</td>\n      <td>2</td>\n      <td>002-004</td>\n      <td>S</td>\n      <td>10059</td>\n      <td>45360.0</td>\n      <td>2020-07-16 12:36:00</td>\n      <td>45210.0</td>\n      <td>2020-07-16 12:33:30</td>\n      <td>45210.0</td>\n      <td>2020-07-16 12:33:30</td>\n      <td>89.56</td>\n      <td>500</td>\n    </tr>\n    <tr>\n      <th>282288</th>\n      <td>2019-09-19</td>\n      <td>2</td>\n      <td>002-004</td>\n      <td>S</td>\n      <td>10059</td>\n      <td>45360.0</td>\n      <td>2020-07-16 12:36:00</td>\n      <td>45210.0</td>\n      <td>2020-07-16 12:33:30</td>\n      <td>45430.0</td>\n      <td>2020-07-16 12:37:10</td>\n      <td>89.64</td>\n      <td>500</td>\n    </tr>\n    <tr>\n      <th>282314</th>\n      <td>2019-09-19</td>\n      <td>2</td>\n      <td>002-004</td>\n      <td>S</td>\n      <td>10059</td>\n      <td>59340.0</td>\n      <td>2020-07-16 16:29:00</td>\n      <td>59187.0</td>\n      <td>2020-07-16 16:26:27</td>\n      <td>59187.0</td>\n      <td>2020-07-16 16:26:27</td>\n      <td>131.16</td>\n      <td>500</td>\n    </tr>\n    <tr>\n      <th>282315</th>\n      <td>2019-09-19</td>\n      <td>2</td>\n      <td>002-004</td>\n      <td>S</td>\n      <td>10059</td>\n      <td>59340.0</td>\n      <td>2020-07-16 16:29:00</td>\n      <td>59187.0</td>\n      <td>2020-07-16 16:26:27</td>\n      <td>59347.0</td>\n      <td>2020-07-16 16:29:07</td>\n      <td>131.23</td>\n      <td>500</td>\n    </tr>\n  </tbody>\n</table>\n</div>"
     },
     "metadata": {},
     "execution_count": 29
    }
   ],
   "source": [
    "df_adherence[\n",
    "    (df_adherence.route == check_mult.route) & \n",
    "    (df_adherence.vehicle_id == check_mult.vehicle_id) & \n",
    "    (df_adherence.stop_id == check_mult.stop_id) & \n",
    "    (df_adherence.route_dir == check_mult.route_dir) \n",
    "]"
   ]
  },
  {
   "cell_type": "code",
   "execution_count": 30,
   "metadata": {},
   "outputs": [
    {
     "output_type": "execute_result",
     "data": {
      "text/plain": "      service_date route route_block route_dir stop_id  sched_time_s  \\\n11789   2019-09-11    26     020-007         W   11269       24600.0   \n12692   2019-09-11    26     020-016         W   11269       56820.0   \n12876   2019-09-11    26     020-018         W   11269       53040.0   \n50399   2019-09-12    26     020-009         W   11269       59040.0   \n50425   2019-09-12    26     020-009         W   11269       72960.0   \n\n           sched_time_hms  arr_time_s        arr_time_hms  dep_time_s  \\\n11789 2020-07-16 06:50:00     24902.0 2020-07-16 06:55:02     24902.0   \n12692 2020-07-16 15:47:00     56852.0 2020-07-16 15:47:32     56852.0   \n12876 2020-07-16 14:44:00     53116.0 2020-07-16 14:45:16     53116.0   \n50399 2020-07-16 16:24:00     59060.0 2020-07-16 16:24:20     59060.0   \n50425 2020-07-16 20:16:00     73256.0 2020-07-16 20:20:56     73256.0   \n\n             dep_time_hms  odometer vehicle_id  \n11789 2020-07-16 06:55:02       NaN        673  \n12692 2020-07-16 15:47:32       NaN        330  \n12876 2020-07-16 14:45:16       NaN        290  \n50399 2020-07-16 16:24:20       NaN        694  \n50425 2020-07-16 20:20:56       NaN        694  ",
      "text/html": "<div>\n<style scoped>\n    .dataframe tbody tr th:only-of-type {\n        vertical-align: middle;\n    }\n\n    .dataframe tbody tr th {\n        vertical-align: top;\n    }\n\n    .dataframe thead th {\n        text-align: right;\n    }\n</style>\n<table border=\"1\" class=\"dataframe\">\n  <thead>\n    <tr style=\"text-align: right;\">\n      <th></th>\n      <th>service_date</th>\n      <th>route</th>\n      <th>route_block</th>\n      <th>route_dir</th>\n      <th>stop_id</th>\n      <th>sched_time_s</th>\n      <th>sched_time_hms</th>\n      <th>arr_time_s</th>\n      <th>arr_time_hms</th>\n      <th>dep_time_s</th>\n      <th>dep_time_hms</th>\n      <th>odometer</th>\n      <th>vehicle_id</th>\n    </tr>\n  </thead>\n  <tbody>\n    <tr>\n      <th>11789</th>\n      <td>2019-09-11</td>\n      <td>26</td>\n      <td>020-007</td>\n      <td>W</td>\n      <td>11269</td>\n      <td>24600.0</td>\n      <td>2020-07-16 06:50:00</td>\n      <td>24902.0</td>\n      <td>2020-07-16 06:55:02</td>\n      <td>24902.0</td>\n      <td>2020-07-16 06:55:02</td>\n      <td>NaN</td>\n      <td>673</td>\n    </tr>\n    <tr>\n      <th>12692</th>\n      <td>2019-09-11</td>\n      <td>26</td>\n      <td>020-016</td>\n      <td>W</td>\n      <td>11269</td>\n      <td>56820.0</td>\n      <td>2020-07-16 15:47:00</td>\n      <td>56852.0</td>\n      <td>2020-07-16 15:47:32</td>\n      <td>56852.0</td>\n      <td>2020-07-16 15:47:32</td>\n      <td>NaN</td>\n      <td>330</td>\n    </tr>\n    <tr>\n      <th>12876</th>\n      <td>2019-09-11</td>\n      <td>26</td>\n      <td>020-018</td>\n      <td>W</td>\n      <td>11269</td>\n      <td>53040.0</td>\n      <td>2020-07-16 14:44:00</td>\n      <td>53116.0</td>\n      <td>2020-07-16 14:45:16</td>\n      <td>53116.0</td>\n      <td>2020-07-16 14:45:16</td>\n      <td>NaN</td>\n      <td>290</td>\n    </tr>\n    <tr>\n      <th>50399</th>\n      <td>2019-09-12</td>\n      <td>26</td>\n      <td>020-009</td>\n      <td>W</td>\n      <td>11269</td>\n      <td>59040.0</td>\n      <td>2020-07-16 16:24:00</td>\n      <td>59060.0</td>\n      <td>2020-07-16 16:24:20</td>\n      <td>59060.0</td>\n      <td>2020-07-16 16:24:20</td>\n      <td>NaN</td>\n      <td>694</td>\n    </tr>\n    <tr>\n      <th>50425</th>\n      <td>2019-09-12</td>\n      <td>26</td>\n      <td>020-009</td>\n      <td>W</td>\n      <td>11269</td>\n      <td>72960.0</td>\n      <td>2020-07-16 20:16:00</td>\n      <td>73256.0</td>\n      <td>2020-07-16 20:20:56</td>\n      <td>73256.0</td>\n      <td>2020-07-16 20:20:56</td>\n      <td>NaN</td>\n      <td>694</td>\n    </tr>\n  </tbody>\n</table>\n</div>"
     },
     "metadata": {},
     "execution_count": 30
    }
   ],
   "source": [
    "df_adherence[\n",
    "    df_adherence.arr_time_s.isna() != df_adherence.odometer.isna()\n",
    "].head()"
   ]
  },
  {
   "cell_type": "code",
   "execution_count": 31,
   "metadata": {},
   "outputs": [
    {
     "output_type": "execute_result",
     "data": {
      "text/plain": "count    329729.000000\nmean      49029.796148\nstd       17924.176101\nmin       11681.000000\n25%       33741.000000\n50%       48911.000000\n75%       63287.000000\nmax       93624.000000\nName: arr_time_s, dtype: float64"
     },
     "metadata": {},
     "execution_count": 31
    }
   ],
   "source": [
    "df_adherence.arr_time_s.describe()"
   ]
  },
  {
   "cell_type": "code",
   "execution_count": 32,
   "metadata": {},
   "outputs": [
    {
     "output_type": "execute_result",
     "data": {
      "text/plain": "       service_date route route_block route_dir stop_id  sched_time_s  \\\n25516    2019-09-11   100     100-010         S    GARA       93360.0   \n63858    2019-09-12   100     100-010         S    GARA       93360.0   \n102120   2019-09-13   100     100-010         S   10103       93060.0   \n102121   2019-09-13   100     100-010         S    GARA       93360.0   \n103115   2019-09-13   102     102-010         E    GARA       92460.0   \n133668   2019-09-14   100     100-007         S    GARA       93360.0   \n159734   2019-09-15   100     100-007         S    GARA       93240.0   \n192877   2019-09-16   100     100-010         S    GARA       93360.0   \n223726   2019-09-17   289     036-006         S    GARA       91380.0   \n231055   2019-09-17   100     100-010         S    GARA       93360.0   \n232688   2019-09-17   103     103-007         N    GARA       92460.0   \n269270   2019-09-18   100     100-010         S    GARA       93360.0   \n299270   2019-09-19   232     032-007         N   99396       91440.0   \n299272   2019-09-19   232     032-007         N    GARA       92100.0   \n307484   2019-09-19   100     100-010         S    GARA       93360.0   \n345666   2019-09-20   100     100-010         S    GARA       93360.0   \n\n            sched_time_hms  arr_time_s        arr_time_hms  dep_time_s  \\\n25516  2020-07-16 01:56:00     93108.0 2020-07-16 01:51:48     93108.0   \n63858  2020-07-16 01:56:00     93064.0 2020-07-16 01:51:04     93064.0   \n102120 2020-07-16 01:51:00     93038.0 2020-07-16 01:50:38     93090.0   \n102121 2020-07-16 01:56:00     93411.0 2020-07-16 01:56:51     93411.0   \n103115 2020-07-16 01:41:00     93624.0 2020-07-16 02:00:24     93624.0   \n133668 2020-07-16 01:56:00     93349.0 2020-07-16 01:55:49     93349.0   \n159734 2020-07-16 01:54:00     93285.0 2020-07-16 01:54:45     93285.0   \n192877 2020-07-16 01:56:00     93228.0 2020-07-16 01:53:48     93228.0   \n223726 2020-07-16 01:23:00     93049.0 2020-07-16 01:50:49     93049.0   \n231055 2020-07-16 01:56:00     93110.0 2020-07-16 01:51:50     93110.0   \n232688 2020-07-16 01:41:00     93481.0 2020-07-16 01:58:01     93481.0   \n269270 2020-07-16 01:56:00     93210.0 2020-07-16 01:53:30     93210.0   \n299270 2020-07-16 01:24:00     93012.0 2020-07-16 01:50:12     93021.0   \n299272 2020-07-16 01:35:00     93329.0 2020-07-16 01:55:29     93329.0   \n307484 2020-07-16 01:56:00     93108.0 2020-07-16 01:51:48     93108.0   \n345666 2020-07-16 01:56:00     93311.0 2020-07-16 01:55:11     93311.0   \n\n              dep_time_hms  odometer vehicle_id  \n25516  2020-07-16 01:51:48    229.15        966  \n63858  2020-07-16 01:51:04    228.77        962  \n102120 2020-07-16 01:51:30    225.27        962  \n102121 2020-07-16 01:56:51    226.57        962  \n103115 2020-07-16 02:00:24    197.05        982  \n133668 2020-07-16 01:55:49    229.54        965  \n159734 2020-07-16 01:54:45    185.18        734  \n192877 2020-07-16 01:53:48    228.98        966  \n223726 2020-07-16 01:50:49    251.60        640  \n231055 2020-07-16 01:51:50    228.84        965  \n232688 2020-07-16 01:58:01    219.21        986  \n269270 2020-07-16 01:53:30    228.86        965  \n299270 2020-07-16 01:50:21    278.08        484  \n299272 2020-07-16 01:55:29    279.86        484  \n307484 2020-07-16 01:51:48    229.99        965  \n345666 2020-07-16 01:55:11    186.22        963  ",
      "text/html": "<div>\n<style scoped>\n    .dataframe tbody tr th:only-of-type {\n        vertical-align: middle;\n    }\n\n    .dataframe tbody tr th {\n        vertical-align: top;\n    }\n\n    .dataframe thead th {\n        text-align: right;\n    }\n</style>\n<table border=\"1\" class=\"dataframe\">\n  <thead>\n    <tr style=\"text-align: right;\">\n      <th></th>\n      <th>service_date</th>\n      <th>route</th>\n      <th>route_block</th>\n      <th>route_dir</th>\n      <th>stop_id</th>\n      <th>sched_time_s</th>\n      <th>sched_time_hms</th>\n      <th>arr_time_s</th>\n      <th>arr_time_hms</th>\n      <th>dep_time_s</th>\n      <th>dep_time_hms</th>\n      <th>odometer</th>\n      <th>vehicle_id</th>\n    </tr>\n  </thead>\n  <tbody>\n    <tr>\n      <th>25516</th>\n      <td>2019-09-11</td>\n      <td>100</td>\n      <td>100-010</td>\n      <td>S</td>\n      <td>GARA</td>\n      <td>93360.0</td>\n      <td>2020-07-16 01:56:00</td>\n      <td>93108.0</td>\n      <td>2020-07-16 01:51:48</td>\n      <td>93108.0</td>\n      <td>2020-07-16 01:51:48</td>\n      <td>229.15</td>\n      <td>966</td>\n    </tr>\n    <tr>\n      <th>63858</th>\n      <td>2019-09-12</td>\n      <td>100</td>\n      <td>100-010</td>\n      <td>S</td>\n      <td>GARA</td>\n      <td>93360.0</td>\n      <td>2020-07-16 01:56:00</td>\n      <td>93064.0</td>\n      <td>2020-07-16 01:51:04</td>\n      <td>93064.0</td>\n      <td>2020-07-16 01:51:04</td>\n      <td>228.77</td>\n      <td>962</td>\n    </tr>\n    <tr>\n      <th>102120</th>\n      <td>2019-09-13</td>\n      <td>100</td>\n      <td>100-010</td>\n      <td>S</td>\n      <td>10103</td>\n      <td>93060.0</td>\n      <td>2020-07-16 01:51:00</td>\n      <td>93038.0</td>\n      <td>2020-07-16 01:50:38</td>\n      <td>93090.0</td>\n      <td>2020-07-16 01:51:30</td>\n      <td>225.27</td>\n      <td>962</td>\n    </tr>\n    <tr>\n      <th>102121</th>\n      <td>2019-09-13</td>\n      <td>100</td>\n      <td>100-010</td>\n      <td>S</td>\n      <td>GARA</td>\n      <td>93360.0</td>\n      <td>2020-07-16 01:56:00</td>\n      <td>93411.0</td>\n      <td>2020-07-16 01:56:51</td>\n      <td>93411.0</td>\n      <td>2020-07-16 01:56:51</td>\n      <td>226.57</td>\n      <td>962</td>\n    </tr>\n    <tr>\n      <th>103115</th>\n      <td>2019-09-13</td>\n      <td>102</td>\n      <td>102-010</td>\n      <td>E</td>\n      <td>GARA</td>\n      <td>92460.0</td>\n      <td>2020-07-16 01:41:00</td>\n      <td>93624.0</td>\n      <td>2020-07-16 02:00:24</td>\n      <td>93624.0</td>\n      <td>2020-07-16 02:00:24</td>\n      <td>197.05</td>\n      <td>982</td>\n    </tr>\n    <tr>\n      <th>133668</th>\n      <td>2019-09-14</td>\n      <td>100</td>\n      <td>100-007</td>\n      <td>S</td>\n      <td>GARA</td>\n      <td>93360.0</td>\n      <td>2020-07-16 01:56:00</td>\n      <td>93349.0</td>\n      <td>2020-07-16 01:55:49</td>\n      <td>93349.0</td>\n      <td>2020-07-16 01:55:49</td>\n      <td>229.54</td>\n      <td>965</td>\n    </tr>\n    <tr>\n      <th>159734</th>\n      <td>2019-09-15</td>\n      <td>100</td>\n      <td>100-007</td>\n      <td>S</td>\n      <td>GARA</td>\n      <td>93240.0</td>\n      <td>2020-07-16 01:54:00</td>\n      <td>93285.0</td>\n      <td>2020-07-16 01:54:45</td>\n      <td>93285.0</td>\n      <td>2020-07-16 01:54:45</td>\n      <td>185.18</td>\n      <td>734</td>\n    </tr>\n    <tr>\n      <th>192877</th>\n      <td>2019-09-16</td>\n      <td>100</td>\n      <td>100-010</td>\n      <td>S</td>\n      <td>GARA</td>\n      <td>93360.0</td>\n      <td>2020-07-16 01:56:00</td>\n      <td>93228.0</td>\n      <td>2020-07-16 01:53:48</td>\n      <td>93228.0</td>\n      <td>2020-07-16 01:53:48</td>\n      <td>228.98</td>\n      <td>966</td>\n    </tr>\n    <tr>\n      <th>223726</th>\n      <td>2019-09-17</td>\n      <td>289</td>\n      <td>036-006</td>\n      <td>S</td>\n      <td>GARA</td>\n      <td>91380.0</td>\n      <td>2020-07-16 01:23:00</td>\n      <td>93049.0</td>\n      <td>2020-07-16 01:50:49</td>\n      <td>93049.0</td>\n      <td>2020-07-16 01:50:49</td>\n      <td>251.60</td>\n      <td>640</td>\n    </tr>\n    <tr>\n      <th>231055</th>\n      <td>2019-09-17</td>\n      <td>100</td>\n      <td>100-010</td>\n      <td>S</td>\n      <td>GARA</td>\n      <td>93360.0</td>\n      <td>2020-07-16 01:56:00</td>\n      <td>93110.0</td>\n      <td>2020-07-16 01:51:50</td>\n      <td>93110.0</td>\n      <td>2020-07-16 01:51:50</td>\n      <td>228.84</td>\n      <td>965</td>\n    </tr>\n    <tr>\n      <th>232688</th>\n      <td>2019-09-17</td>\n      <td>103</td>\n      <td>103-007</td>\n      <td>N</td>\n      <td>GARA</td>\n      <td>92460.0</td>\n      <td>2020-07-16 01:41:00</td>\n      <td>93481.0</td>\n      <td>2020-07-16 01:58:01</td>\n      <td>93481.0</td>\n      <td>2020-07-16 01:58:01</td>\n      <td>219.21</td>\n      <td>986</td>\n    </tr>\n    <tr>\n      <th>269270</th>\n      <td>2019-09-18</td>\n      <td>100</td>\n      <td>100-010</td>\n      <td>S</td>\n      <td>GARA</td>\n      <td>93360.0</td>\n      <td>2020-07-16 01:56:00</td>\n      <td>93210.0</td>\n      <td>2020-07-16 01:53:30</td>\n      <td>93210.0</td>\n      <td>2020-07-16 01:53:30</td>\n      <td>228.86</td>\n      <td>965</td>\n    </tr>\n    <tr>\n      <th>299270</th>\n      <td>2019-09-19</td>\n      <td>232</td>\n      <td>032-007</td>\n      <td>N</td>\n      <td>99396</td>\n      <td>91440.0</td>\n      <td>2020-07-16 01:24:00</td>\n      <td>93012.0</td>\n      <td>2020-07-16 01:50:12</td>\n      <td>93021.0</td>\n      <td>2020-07-16 01:50:21</td>\n      <td>278.08</td>\n      <td>484</td>\n    </tr>\n    <tr>\n      <th>299272</th>\n      <td>2019-09-19</td>\n      <td>232</td>\n      <td>032-007</td>\n      <td>N</td>\n      <td>GARA</td>\n      <td>92100.0</td>\n      <td>2020-07-16 01:35:00</td>\n      <td>93329.0</td>\n      <td>2020-07-16 01:55:29</td>\n      <td>93329.0</td>\n      <td>2020-07-16 01:55:29</td>\n      <td>279.86</td>\n      <td>484</td>\n    </tr>\n    <tr>\n      <th>307484</th>\n      <td>2019-09-19</td>\n      <td>100</td>\n      <td>100-010</td>\n      <td>S</td>\n      <td>GARA</td>\n      <td>93360.0</td>\n      <td>2020-07-16 01:56:00</td>\n      <td>93108.0</td>\n      <td>2020-07-16 01:51:48</td>\n      <td>93108.0</td>\n      <td>2020-07-16 01:51:48</td>\n      <td>229.99</td>\n      <td>965</td>\n    </tr>\n    <tr>\n      <th>345666</th>\n      <td>2019-09-20</td>\n      <td>100</td>\n      <td>100-010</td>\n      <td>S</td>\n      <td>GARA</td>\n      <td>93360.0</td>\n      <td>2020-07-16 01:56:00</td>\n      <td>93311.0</td>\n      <td>2020-07-16 01:55:11</td>\n      <td>93311.0</td>\n      <td>2020-07-16 01:55:11</td>\n      <td>186.22</td>\n      <td>963</td>\n    </tr>\n  </tbody>\n</table>\n</div>"
     },
     "metadata": {},
     "execution_count": 32
    }
   ],
   "source": [
    "df_adherence[df_adherence.arr_time_s>93000]"
   ]
  },
  {
   "cell_type": "code",
   "execution_count": 33,
   "metadata": {},
   "outputs": [
    {
     "output_type": "execute_result",
     "data": {
      "text/plain": "      service_date route_block route_dir vehicle_id route stop_id  recs  \\\n38944   2019-09-12     002-008         N        500     2   99396     1   \n38947   2019-09-12     002-008         N        500     2   56239     2   \n38948   2019-09-12     002-008         N        500     2   95226     2   \n38949   2019-09-12     002-008         N        500     2   45506     2   \n38950   2019-09-12     002-008         N        500     2   10013     2   \n38951   2019-09-12     002-008         N        500     2   10013     2   \n38952   2019-09-12     002-008         N        500     2   94709     2   \n38953   2019-09-12     002-008         N        500     2   94793     2   \n38954   2019-09-12     002-008         S        500     2   94793     2   \n38955   2019-09-12     002-008         S        500     2   10059     4   \n38956   2019-09-12     002-008         S        500     2   45517     2   \n38957   2019-09-12     002-008         S        500     2   85927     2   \n38958   2019-09-12     002-008         S        500     2   56227     2   \n38959   2019-09-12     002-008         S        500     2   79973     2   \n38973   2019-09-12     002-008         N        500     2   99396     2   \n38974   2019-09-12     002-008         N        500     2   56239     2   \n38975   2019-09-12     002-008         N        500     2   95226     2   \n38976   2019-09-12     002-008         N        500     2   45506     2   \n38977   2019-09-12     002-008         N        500     2   10013     2   \n38978   2019-09-12     002-008         N        500     2   10013     2   \n38979   2019-09-12     002-008         N        500     2   94709     2   \n38980   2019-09-12     002-008         N        500     2   33636     2   \n38981   2019-09-12     002-008         N        500     2   33726     2   \n38982   2019-09-12     002-008         N        500     2   12976     2   \n38983   2019-09-12     002-008         S        500     2   12976     2   \n38984   2019-09-12     002-008         S        500     2   33727     2   \n38985   2019-09-12     002-008         S        500     2   33627     2   \n38986   2019-09-12     002-008         S        500     2   94793     2   \n38987   2019-09-12     002-008         S        500     2   10059     4   \n38988   2019-09-12     002-008         S        500     2   45517     2   \n38989   2019-09-12     002-008         S        500     2   85927     2   \n38990   2019-09-12     002-008         S        500     2   56227     2   \n38991   2019-09-12     002-008         S        500     2   79973     2   \n\n       arr_odometer  dep_odometer      sched_time_hms        arr_time_hms  \\\n38944         42.20         42.20 2019-09-12 14:15:00 2019-09-12 14:16:21   \n38947         44.34         44.38 2019-09-12 14:28:00 2019-09-12 14:34:16   \n38948         46.34         46.37 2019-09-12 14:37:00 2019-09-12 14:48:53   \n38949         47.84         47.88 2019-09-12 14:44:00 2019-09-12 14:56:03   \n38950         50.50         50.54 2019-09-12 14:58:00 2019-09-12 15:09:45   \n38951         50.62         50.68 2019-09-12 15:03:00 2019-09-12 15:09:45   \n38952         53.53         53.64 2019-09-12 15:18:00 2019-09-12 15:26:03   \n38953         54.80         54.86 2019-09-12 15:25:00 2019-09-12 15:33:29   \n38954         54.92         54.94 2019-09-12 15:43:00 2019-09-12 15:33:29   \n38955         57.70         57.74 2019-09-12 15:59:00 2019-09-12 15:56:10   \n38956         60.55         60.59 2019-09-12 16:12:00 2019-09-12 16:14:55   \n38957         62.04         62.09 2019-09-12 16:19:00 2019-09-12 16:21:03   \n38958         64.10         64.12 2019-09-12 16:28:00 2019-09-12 16:30:49   \n38959           NaN           NaN 2019-09-12 16:35:00                 NaT   \n38973         85.28         85.33 2019-09-12 18:25:00 2019-09-12 18:25:18   \n38974         87.07         87.16 2019-09-12 18:37:00 2019-09-12 18:37:33   \n38975         89.07         89.15 2019-09-12 18:45:00 2019-09-12 18:53:07   \n38976         90.62         90.67 2019-09-12 18:51:00 2019-09-12 18:57:38   \n38977         93.22         93.33 2019-09-12 19:03:00 2019-09-12 19:09:54   \n38978         93.37         93.47 2019-09-12 19:08:00 2019-09-12 19:09:54   \n38979         96.28         96.43 2019-09-12 19:21:00 2019-09-12 19:23:48   \n38980         98.56         98.71 2019-09-12 19:27:00 2019-09-12 19:31:10   \n38981        100.59        100.65 2019-09-12 19:31:00 2019-09-12 19:34:04   \n38982        103.46        103.56 2019-09-12 19:39:00 2019-09-12 19:41:33   \n38983        103.59        103.64 2019-09-12 19:45:00 2019-09-12 19:41:33   \n38984        106.38        106.69 2019-09-12 19:54:00 2019-09-12 19:55:53   \n38985        108.00        108.71 2019-09-12 19:58:00 2019-09-12 19:59:37   \n38986        110.62        111.08 2019-09-12 20:05:00 2019-09-12 20:05:48   \n38987        113.78        113.88 2019-09-12 20:20:00 2019-09-12 20:17:56   \n38988        116.73        116.73 2019-09-12 20:31:00 2019-09-12 20:31:59   \n38989        118.22        118.23 2019-09-12 20:37:00 2019-09-12 20:37:50   \n38990        120.19        120.26 2019-09-12 20:45:00 2019-09-12 20:47:07   \n38991           NaN           NaN 2019-09-12 20:50:00                 NaT   \n\n             dep_time_hms  time_stopped  time_missed  block_run  run_stop  \n38944 2019-09-12 14:16:50          29.0        110.0       8252         1  \n38947 2019-09-12 14:36:43         147.0        523.0       8255         1  \n38948 2019-09-12 14:49:59          66.0        779.0       8255         2  \n38949 2019-09-12 14:56:57          54.0        777.0       8255         3  \n38950 2019-09-12 15:09:45           0.0        705.0       8255         4  \n38951 2019-09-12 15:11:44         119.0        524.0       8255         5  \n38952 2019-09-12 15:26:15          12.0        495.0       8255         6  \n38953 2019-09-12 15:33:29           0.0        509.0       8255         7  \n38954 2019-09-12 15:42:53         564.0         -7.0       8256         1  \n38955 2019-09-12 15:59:15         185.0         15.0       8256         2  \n38956 2019-09-12 16:15:49          54.0        229.0       8256         3  \n38957 2019-09-12 16:21:33          30.0        153.0       8256         4  \n38958 2019-09-12 16:31:57          68.0        237.0       8256         5  \n38959                 NaT           NaN          NaN       8256         6  \n38973 2019-09-12 18:26:58         100.0        118.0       8259         1  \n38974 2019-09-12 18:38:17          44.0         77.0       8259         2  \n38975 2019-09-12 18:53:33          26.0        513.0       8259         3  \n38976 2019-09-12 18:58:19          41.0        439.0       8259         4  \n38977 2019-09-12 19:09:54           0.0        414.0       8259         5  \n38978 2019-09-12 19:11:05          71.0        185.0       8259         6  \n38979 2019-09-12 19:23:59          11.0        179.0       8259         7  \n38980 2019-09-12 19:31:17           7.0        257.0       8259         8  \n38981 2019-09-12 19:34:35          31.0        215.0       8259         9  \n38982 2019-09-12 19:41:33           0.0        153.0       8259        10  \n38983 2019-09-12 19:46:02         269.0         62.0       8260         1  \n38984 2019-09-12 19:56:36          43.0        156.0       8260         2  \n38985 2019-09-12 19:59:47          10.0        107.0       8260         3  \n38986 2019-09-12 20:06:21          33.0         81.0       8260         4  \n38987 2019-09-12 20:20:23         147.0         23.0       8260         5  \n38988 2019-09-12 20:32:14          15.0         74.0       8260         6  \n38989 2019-09-12 20:39:19          89.0        139.0       8260         7  \n38990 2019-09-12 20:47:49          42.0        169.0       8260         8  \n38991                 NaT           NaN          NaN       8260         9  ",
      "text/html": "<div>\n<style scoped>\n    .dataframe tbody tr th:only-of-type {\n        vertical-align: middle;\n    }\n\n    .dataframe tbody tr th {\n        vertical-align: top;\n    }\n\n    .dataframe thead th {\n        text-align: right;\n    }\n</style>\n<table border=\"1\" class=\"dataframe\">\n  <thead>\n    <tr style=\"text-align: right;\">\n      <th></th>\n      <th>service_date</th>\n      <th>route_block</th>\n      <th>route_dir</th>\n      <th>vehicle_id</th>\n      <th>route</th>\n      <th>stop_id</th>\n      <th>recs</th>\n      <th>arr_odometer</th>\n      <th>dep_odometer</th>\n      <th>sched_time_hms</th>\n      <th>arr_time_hms</th>\n      <th>dep_time_hms</th>\n      <th>time_stopped</th>\n      <th>time_missed</th>\n      <th>block_run</th>\n      <th>run_stop</th>\n    </tr>\n  </thead>\n  <tbody>\n    <tr>\n      <th>38944</th>\n      <td>2019-09-12</td>\n      <td>002-008</td>\n      <td>N</td>\n      <td>500</td>\n      <td>2</td>\n      <td>99396</td>\n      <td>1</td>\n      <td>42.20</td>\n      <td>42.20</td>\n      <td>2019-09-12 14:15:00</td>\n      <td>2019-09-12 14:16:21</td>\n      <td>2019-09-12 14:16:50</td>\n      <td>29.0</td>\n      <td>110.0</td>\n      <td>8252</td>\n      <td>1</td>\n    </tr>\n    <tr>\n      <th>38947</th>\n      <td>2019-09-12</td>\n      <td>002-008</td>\n      <td>N</td>\n      <td>500</td>\n      <td>2</td>\n      <td>56239</td>\n      <td>2</td>\n      <td>44.34</td>\n      <td>44.38</td>\n      <td>2019-09-12 14:28:00</td>\n      <td>2019-09-12 14:34:16</td>\n      <td>2019-09-12 14:36:43</td>\n      <td>147.0</td>\n      <td>523.0</td>\n      <td>8255</td>\n      <td>1</td>\n    </tr>\n    <tr>\n      <th>38948</th>\n      <td>2019-09-12</td>\n      <td>002-008</td>\n      <td>N</td>\n      <td>500</td>\n      <td>2</td>\n      <td>95226</td>\n      <td>2</td>\n      <td>46.34</td>\n      <td>46.37</td>\n      <td>2019-09-12 14:37:00</td>\n      <td>2019-09-12 14:48:53</td>\n      <td>2019-09-12 14:49:59</td>\n      <td>66.0</td>\n      <td>779.0</td>\n      <td>8255</td>\n      <td>2</td>\n    </tr>\n    <tr>\n      <th>38949</th>\n      <td>2019-09-12</td>\n      <td>002-008</td>\n      <td>N</td>\n      <td>500</td>\n      <td>2</td>\n      <td>45506</td>\n      <td>2</td>\n      <td>47.84</td>\n      <td>47.88</td>\n      <td>2019-09-12 14:44:00</td>\n      <td>2019-09-12 14:56:03</td>\n      <td>2019-09-12 14:56:57</td>\n      <td>54.0</td>\n      <td>777.0</td>\n      <td>8255</td>\n      <td>3</td>\n    </tr>\n    <tr>\n      <th>38950</th>\n      <td>2019-09-12</td>\n      <td>002-008</td>\n      <td>N</td>\n      <td>500</td>\n      <td>2</td>\n      <td>10013</td>\n      <td>2</td>\n      <td>50.50</td>\n      <td>50.54</td>\n      <td>2019-09-12 14:58:00</td>\n      <td>2019-09-12 15:09:45</td>\n      <td>2019-09-12 15:09:45</td>\n      <td>0.0</td>\n      <td>705.0</td>\n      <td>8255</td>\n      <td>4</td>\n    </tr>\n    <tr>\n      <th>38951</th>\n      <td>2019-09-12</td>\n      <td>002-008</td>\n      <td>N</td>\n      <td>500</td>\n      <td>2</td>\n      <td>10013</td>\n      <td>2</td>\n      <td>50.62</td>\n      <td>50.68</td>\n      <td>2019-09-12 15:03:00</td>\n      <td>2019-09-12 15:09:45</td>\n      <td>2019-09-12 15:11:44</td>\n      <td>119.0</td>\n      <td>524.0</td>\n      <td>8255</td>\n      <td>5</td>\n    </tr>\n    <tr>\n      <th>38952</th>\n      <td>2019-09-12</td>\n      <td>002-008</td>\n      <td>N</td>\n      <td>500</td>\n      <td>2</td>\n      <td>94709</td>\n      <td>2</td>\n      <td>53.53</td>\n      <td>53.64</td>\n      <td>2019-09-12 15:18:00</td>\n      <td>2019-09-12 15:26:03</td>\n      <td>2019-09-12 15:26:15</td>\n      <td>12.0</td>\n      <td>495.0</td>\n      <td>8255</td>\n      <td>6</td>\n    </tr>\n    <tr>\n      <th>38953</th>\n      <td>2019-09-12</td>\n      <td>002-008</td>\n      <td>N</td>\n      <td>500</td>\n      <td>2</td>\n      <td>94793</td>\n      <td>2</td>\n      <td>54.80</td>\n      <td>54.86</td>\n      <td>2019-09-12 15:25:00</td>\n      <td>2019-09-12 15:33:29</td>\n      <td>2019-09-12 15:33:29</td>\n      <td>0.0</td>\n      <td>509.0</td>\n      <td>8255</td>\n      <td>7</td>\n    </tr>\n    <tr>\n      <th>38954</th>\n      <td>2019-09-12</td>\n      <td>002-008</td>\n      <td>S</td>\n      <td>500</td>\n      <td>2</td>\n      <td>94793</td>\n      <td>2</td>\n      <td>54.92</td>\n      <td>54.94</td>\n      <td>2019-09-12 15:43:00</td>\n      <td>2019-09-12 15:33:29</td>\n      <td>2019-09-12 15:42:53</td>\n      <td>564.0</td>\n      <td>-7.0</td>\n      <td>8256</td>\n      <td>1</td>\n    </tr>\n    <tr>\n      <th>38955</th>\n      <td>2019-09-12</td>\n      <td>002-008</td>\n      <td>S</td>\n      <td>500</td>\n      <td>2</td>\n      <td>10059</td>\n      <td>4</td>\n      <td>57.70</td>\n      <td>57.74</td>\n      <td>2019-09-12 15:59:00</td>\n      <td>2019-09-12 15:56:10</td>\n      <td>2019-09-12 15:59:15</td>\n      <td>185.0</td>\n      <td>15.0</td>\n      <td>8256</td>\n      <td>2</td>\n    </tr>\n    <tr>\n      <th>38956</th>\n      <td>2019-09-12</td>\n      <td>002-008</td>\n      <td>S</td>\n      <td>500</td>\n      <td>2</td>\n      <td>45517</td>\n      <td>2</td>\n      <td>60.55</td>\n      <td>60.59</td>\n      <td>2019-09-12 16:12:00</td>\n      <td>2019-09-12 16:14:55</td>\n      <td>2019-09-12 16:15:49</td>\n      <td>54.0</td>\n      <td>229.0</td>\n      <td>8256</td>\n      <td>3</td>\n    </tr>\n    <tr>\n      <th>38957</th>\n      <td>2019-09-12</td>\n      <td>002-008</td>\n      <td>S</td>\n      <td>500</td>\n      <td>2</td>\n      <td>85927</td>\n      <td>2</td>\n      <td>62.04</td>\n      <td>62.09</td>\n      <td>2019-09-12 16:19:00</td>\n      <td>2019-09-12 16:21:03</td>\n      <td>2019-09-12 16:21:33</td>\n      <td>30.0</td>\n      <td>153.0</td>\n      <td>8256</td>\n      <td>4</td>\n    </tr>\n    <tr>\n      <th>38958</th>\n      <td>2019-09-12</td>\n      <td>002-008</td>\n      <td>S</td>\n      <td>500</td>\n      <td>2</td>\n      <td>56227</td>\n      <td>2</td>\n      <td>64.10</td>\n      <td>64.12</td>\n      <td>2019-09-12 16:28:00</td>\n      <td>2019-09-12 16:30:49</td>\n      <td>2019-09-12 16:31:57</td>\n      <td>68.0</td>\n      <td>237.0</td>\n      <td>8256</td>\n      <td>5</td>\n    </tr>\n    <tr>\n      <th>38959</th>\n      <td>2019-09-12</td>\n      <td>002-008</td>\n      <td>S</td>\n      <td>500</td>\n      <td>2</td>\n      <td>79973</td>\n      <td>2</td>\n      <td>NaN</td>\n      <td>NaN</td>\n      <td>2019-09-12 16:35:00</td>\n      <td>NaT</td>\n      <td>NaT</td>\n      <td>NaN</td>\n      <td>NaN</td>\n      <td>8256</td>\n      <td>6</td>\n    </tr>\n    <tr>\n      <th>38973</th>\n      <td>2019-09-12</td>\n      <td>002-008</td>\n      <td>N</td>\n      <td>500</td>\n      <td>2</td>\n      <td>99396</td>\n      <td>2</td>\n      <td>85.28</td>\n      <td>85.33</td>\n      <td>2019-09-12 18:25:00</td>\n      <td>2019-09-12 18:25:18</td>\n      <td>2019-09-12 18:26:58</td>\n      <td>100.0</td>\n      <td>118.0</td>\n      <td>8259</td>\n      <td>1</td>\n    </tr>\n    <tr>\n      <th>38974</th>\n      <td>2019-09-12</td>\n      <td>002-008</td>\n      <td>N</td>\n      <td>500</td>\n      <td>2</td>\n      <td>56239</td>\n      <td>2</td>\n      <td>87.07</td>\n      <td>87.16</td>\n      <td>2019-09-12 18:37:00</td>\n      <td>2019-09-12 18:37:33</td>\n      <td>2019-09-12 18:38:17</td>\n      <td>44.0</td>\n      <td>77.0</td>\n      <td>8259</td>\n      <td>2</td>\n    </tr>\n    <tr>\n      <th>38975</th>\n      <td>2019-09-12</td>\n      <td>002-008</td>\n      <td>N</td>\n      <td>500</td>\n      <td>2</td>\n      <td>95226</td>\n      <td>2</td>\n      <td>89.07</td>\n      <td>89.15</td>\n      <td>2019-09-12 18:45:00</td>\n      <td>2019-09-12 18:53:07</td>\n      <td>2019-09-12 18:53:33</td>\n      <td>26.0</td>\n      <td>513.0</td>\n      <td>8259</td>\n      <td>3</td>\n    </tr>\n    <tr>\n      <th>38976</th>\n      <td>2019-09-12</td>\n      <td>002-008</td>\n      <td>N</td>\n      <td>500</td>\n      <td>2</td>\n      <td>45506</td>\n      <td>2</td>\n      <td>90.62</td>\n      <td>90.67</td>\n      <td>2019-09-12 18:51:00</td>\n      <td>2019-09-12 18:57:38</td>\n      <td>2019-09-12 18:58:19</td>\n      <td>41.0</td>\n      <td>439.0</td>\n      <td>8259</td>\n      <td>4</td>\n    </tr>\n    <tr>\n      <th>38977</th>\n      <td>2019-09-12</td>\n      <td>002-008</td>\n      <td>N</td>\n      <td>500</td>\n      <td>2</td>\n      <td>10013</td>\n      <td>2</td>\n      <td>93.22</td>\n      <td>93.33</td>\n      <td>2019-09-12 19:03:00</td>\n      <td>2019-09-12 19:09:54</td>\n      <td>2019-09-12 19:09:54</td>\n      <td>0.0</td>\n      <td>414.0</td>\n      <td>8259</td>\n      <td>5</td>\n    </tr>\n    <tr>\n      <th>38978</th>\n      <td>2019-09-12</td>\n      <td>002-008</td>\n      <td>N</td>\n      <td>500</td>\n      <td>2</td>\n      <td>10013</td>\n      <td>2</td>\n      <td>93.37</td>\n      <td>93.47</td>\n      <td>2019-09-12 19:08:00</td>\n      <td>2019-09-12 19:09:54</td>\n      <td>2019-09-12 19:11:05</td>\n      <td>71.0</td>\n      <td>185.0</td>\n      <td>8259</td>\n      <td>6</td>\n    </tr>\n    <tr>\n      <th>38979</th>\n      <td>2019-09-12</td>\n      <td>002-008</td>\n      <td>N</td>\n      <td>500</td>\n      <td>2</td>\n      <td>94709</td>\n      <td>2</td>\n      <td>96.28</td>\n      <td>96.43</td>\n      <td>2019-09-12 19:21:00</td>\n      <td>2019-09-12 19:23:48</td>\n      <td>2019-09-12 19:23:59</td>\n      <td>11.0</td>\n      <td>179.0</td>\n      <td>8259</td>\n      <td>7</td>\n    </tr>\n    <tr>\n      <th>38980</th>\n      <td>2019-09-12</td>\n      <td>002-008</td>\n      <td>N</td>\n      <td>500</td>\n      <td>2</td>\n      <td>33636</td>\n      <td>2</td>\n      <td>98.56</td>\n      <td>98.71</td>\n      <td>2019-09-12 19:27:00</td>\n      <td>2019-09-12 19:31:10</td>\n      <td>2019-09-12 19:31:17</td>\n      <td>7.0</td>\n      <td>257.0</td>\n      <td>8259</td>\n      <td>8</td>\n    </tr>\n    <tr>\n      <th>38981</th>\n      <td>2019-09-12</td>\n      <td>002-008</td>\n      <td>N</td>\n      <td>500</td>\n      <td>2</td>\n      <td>33726</td>\n      <td>2</td>\n      <td>100.59</td>\n      <td>100.65</td>\n      <td>2019-09-12 19:31:00</td>\n      <td>2019-09-12 19:34:04</td>\n      <td>2019-09-12 19:34:35</td>\n      <td>31.0</td>\n      <td>215.0</td>\n      <td>8259</td>\n      <td>9</td>\n    </tr>\n    <tr>\n      <th>38982</th>\n      <td>2019-09-12</td>\n      <td>002-008</td>\n      <td>N</td>\n      <td>500</td>\n      <td>2</td>\n      <td>12976</td>\n      <td>2</td>\n      <td>103.46</td>\n      <td>103.56</td>\n      <td>2019-09-12 19:39:00</td>\n      <td>2019-09-12 19:41:33</td>\n      <td>2019-09-12 19:41:33</td>\n      <td>0.0</td>\n      <td>153.0</td>\n      <td>8259</td>\n      <td>10</td>\n    </tr>\n    <tr>\n      <th>38983</th>\n      <td>2019-09-12</td>\n      <td>002-008</td>\n      <td>S</td>\n      <td>500</td>\n      <td>2</td>\n      <td>12976</td>\n      <td>2</td>\n      <td>103.59</td>\n      <td>103.64</td>\n      <td>2019-09-12 19:45:00</td>\n      <td>2019-09-12 19:41:33</td>\n      <td>2019-09-12 19:46:02</td>\n      <td>269.0</td>\n      <td>62.0</td>\n      <td>8260</td>\n      <td>1</td>\n    </tr>\n    <tr>\n      <th>38984</th>\n      <td>2019-09-12</td>\n      <td>002-008</td>\n      <td>S</td>\n      <td>500</td>\n      <td>2</td>\n      <td>33727</td>\n      <td>2</td>\n      <td>106.38</td>\n      <td>106.69</td>\n      <td>2019-09-12 19:54:00</td>\n      <td>2019-09-12 19:55:53</td>\n      <td>2019-09-12 19:56:36</td>\n      <td>43.0</td>\n      <td>156.0</td>\n      <td>8260</td>\n      <td>2</td>\n    </tr>\n    <tr>\n      <th>38985</th>\n      <td>2019-09-12</td>\n      <td>002-008</td>\n      <td>S</td>\n      <td>500</td>\n      <td>2</td>\n      <td>33627</td>\n      <td>2</td>\n      <td>108.00</td>\n      <td>108.71</td>\n      <td>2019-09-12 19:58:00</td>\n      <td>2019-09-12 19:59:37</td>\n      <td>2019-09-12 19:59:47</td>\n      <td>10.0</td>\n      <td>107.0</td>\n      <td>8260</td>\n      <td>3</td>\n    </tr>\n    <tr>\n      <th>38986</th>\n      <td>2019-09-12</td>\n      <td>002-008</td>\n      <td>S</td>\n      <td>500</td>\n      <td>2</td>\n      <td>94793</td>\n      <td>2</td>\n      <td>110.62</td>\n      <td>111.08</td>\n      <td>2019-09-12 20:05:00</td>\n      <td>2019-09-12 20:05:48</td>\n      <td>2019-09-12 20:06:21</td>\n      <td>33.0</td>\n      <td>81.0</td>\n      <td>8260</td>\n      <td>4</td>\n    </tr>\n    <tr>\n      <th>38987</th>\n      <td>2019-09-12</td>\n      <td>002-008</td>\n      <td>S</td>\n      <td>500</td>\n      <td>2</td>\n      <td>10059</td>\n      <td>4</td>\n      <td>113.78</td>\n      <td>113.88</td>\n      <td>2019-09-12 20:20:00</td>\n      <td>2019-09-12 20:17:56</td>\n      <td>2019-09-12 20:20:23</td>\n      <td>147.0</td>\n      <td>23.0</td>\n      <td>8260</td>\n      <td>5</td>\n    </tr>\n    <tr>\n      <th>38988</th>\n      <td>2019-09-12</td>\n      <td>002-008</td>\n      <td>S</td>\n      <td>500</td>\n      <td>2</td>\n      <td>45517</td>\n      <td>2</td>\n      <td>116.73</td>\n      <td>116.73</td>\n      <td>2019-09-12 20:31:00</td>\n      <td>2019-09-12 20:31:59</td>\n      <td>2019-09-12 20:32:14</td>\n      <td>15.0</td>\n      <td>74.0</td>\n      <td>8260</td>\n      <td>6</td>\n    </tr>\n    <tr>\n      <th>38989</th>\n      <td>2019-09-12</td>\n      <td>002-008</td>\n      <td>S</td>\n      <td>500</td>\n      <td>2</td>\n      <td>85927</td>\n      <td>2</td>\n      <td>118.22</td>\n      <td>118.23</td>\n      <td>2019-09-12 20:37:00</td>\n      <td>2019-09-12 20:37:50</td>\n      <td>2019-09-12 20:39:19</td>\n      <td>89.0</td>\n      <td>139.0</td>\n      <td>8260</td>\n      <td>7</td>\n    </tr>\n    <tr>\n      <th>38990</th>\n      <td>2019-09-12</td>\n      <td>002-008</td>\n      <td>S</td>\n      <td>500</td>\n      <td>2</td>\n      <td>56227</td>\n      <td>2</td>\n      <td>120.19</td>\n      <td>120.26</td>\n      <td>2019-09-12 20:45:00</td>\n      <td>2019-09-12 20:47:07</td>\n      <td>2019-09-12 20:47:49</td>\n      <td>42.0</td>\n      <td>169.0</td>\n      <td>8260</td>\n      <td>8</td>\n    </tr>\n    <tr>\n      <th>38991</th>\n      <td>2019-09-12</td>\n      <td>002-008</td>\n      <td>S</td>\n      <td>500</td>\n      <td>2</td>\n      <td>79973</td>\n      <td>2</td>\n      <td>NaN</td>\n      <td>NaN</td>\n      <td>2019-09-12 20:50:00</td>\n      <td>NaT</td>\n      <td>NaT</td>\n      <td>NaN</td>\n      <td>NaN</td>\n      <td>8260</td>\n      <td>9</td>\n    </tr>\n  </tbody>\n</table>\n</div>"
     },
     "metadata": {},
     "execution_count": 33
    }
   ],
   "source": [
    "adh_routes[\n",
    "    (adh_routes.route == check_mult.route) & \n",
    "    (adh_routes.vehicle_id == check_mult.vehicle_id) & \n",
    "    (adh_routes.service_date == check_mult.service_date) \n",
    "    # & \n",
    "    # (adh_routes.route_dir == check_mult.route_dir) \n",
    "].sort_values(by='sched_time_hms')"
   ]
  },
  {
   "cell_type": "code",
   "execution_count": 34,
   "metadata": {},
   "outputs": [],
   "source": [
    "#######################################\n",
    "###\n",
    "### stops\n",
    "###\n",
    "#######################################"
   ]
  },
  {
   "cell_type": "code",
   "execution_count": null,
   "metadata": {},
   "outputs": [],
   "source": []
  },
  {
   "cell_type": "code",
   "execution_count": 35,
   "metadata": {},
   "outputs": [],
   "source": [
    "def wrangle_stops(source_file, actv_date='20_04'):\n",
    "    \n",
    "    keep_cols = [\n",
    "        'stop_id', 'stop_name', 'stop_lat', 'stop_lon'\n",
    "    ]\n",
    "    \n",
    "    gdf = pd.read_csv(source_file)\n",
    "    gdf.stop_code = gdf.stop_code.apply(str)\n",
    "    gdf.stop_id = gdf.stop_id.apply(str)\n",
    "    gdf = gdf.astype({'stop_code':'string', 'stop_id':'string', 'stop_name':'string'})\n",
    "    gdf.set_index('stop_code', inplace=True)\n",
    "    gdf = gdf[keep_cols]\n",
    "    gdf = gpd.GeoDataFrame(\n",
    "        gdf,\n",
    "        geometry = gpd.points_from_xy(gdf.stop_lon, gdf.stop_lat),\n",
    "        crs={'epsg:4326'}\n",
    "    )\n",
    "    # gdf.stop_id = gdf.stop_id.apply(str)\n",
    "    gdf['actv_' + str(actv_date)] = 1\n",
    "    return gdf\n"
   ]
  },
  {
   "cell_type": "code",
   "execution_count": 36,
   "metadata": {},
   "outputs": [],
   "source": [
    "#######################################\n",
    "###\n",
    "### stops\n",
    "###\n",
    "### stops adh\n",
    "###\n",
    "#######################################"
   ]
  },
  {
   "cell_type": "code",
   "execution_count": null,
   "metadata": {},
   "outputs": [],
   "source": []
  },
  {
   "cell_type": "code",
   "execution_count": 37,
   "metadata": {
    "tags": []
   },
   "outputs": [
    {
     "output_type": "stream",
     "name": "stdout",
     "text": "<class 'geopandas.geodataframe.GeoDataFrame'>\nIndex: 649 entries, 10013 to GARA\nData columns (total 7 columns):\n #   Column     Non-Null Count  Dtype   \n---  ------     --------------  -----   \n 0   stop_id    649 non-null    string  \n 1   stop_name  649 non-null    string  \n 2   stop_lat   649 non-null    float64 \n 3   stop_lon   649 non-null    float64 \n 4   stops      649 non-null    int64   \n 5   geometry   649 non-null    geometry\n 6   adh_stop   649 non-null    int64   \ndtypes: float64(2), geometry(1), int64(2), string(2)\nmemory usage: 40.6+ KB\nNone\n"
    },
    {
     "output_type": "execute_result",
     "data": {
      "text/plain": "          stop_id                  stop_name   stop_lat   stop_lon  stops  \\\nstop_code                                                                   \n10013       10013  NORTH STAR TRANSIT CENTER  29.519705 -98.498340   1511   \n10019       10019  NORTH STAR TRANSIT CENTER  29.519579 -98.498064    836   \n10023       10023  NORTH STAR TRANSIT CENTER  29.519261 -98.498801    575   \n10029       10029  NORTH STAR TRANSIT CENTER  29.519446 -98.498229    646   \n10033       10033  NORTH STAR TRANSIT CENTER  29.519403 -98.498651    567   \n\n                             geometry  adh_stop  \nstop_code                                        \n10013      POINT (-98.49834 29.51970)         1  \n10019      POINT (-98.49806 29.51958)         1  \n10023      POINT (-98.49880 29.51926)         1  \n10029      POINT (-98.49823 29.51945)         1  \n10033      POINT (-98.49865 29.51940)         1  ",
      "text/html": "<div>\n<style scoped>\n    .dataframe tbody tr th:only-of-type {\n        vertical-align: middle;\n    }\n\n    .dataframe tbody tr th {\n        vertical-align: top;\n    }\n\n    .dataframe thead th {\n        text-align: right;\n    }\n</style>\n<table border=\"1\" class=\"dataframe\">\n  <thead>\n    <tr style=\"text-align: right;\">\n      <th></th>\n      <th>stop_id</th>\n      <th>stop_name</th>\n      <th>stop_lat</th>\n      <th>stop_lon</th>\n      <th>stops</th>\n      <th>geometry</th>\n      <th>adh_stop</th>\n    </tr>\n    <tr>\n      <th>stop_code</th>\n      <th></th>\n      <th></th>\n      <th></th>\n      <th></th>\n      <th></th>\n      <th></th>\n      <th></th>\n    </tr>\n  </thead>\n  <tbody>\n    <tr>\n      <th>10013</th>\n      <td>10013</td>\n      <td>NORTH STAR TRANSIT CENTER</td>\n      <td>29.519705</td>\n      <td>-98.498340</td>\n      <td>1511</td>\n      <td>POINT (-98.49834 29.51970)</td>\n      <td>1</td>\n    </tr>\n    <tr>\n      <th>10019</th>\n      <td>10019</td>\n      <td>NORTH STAR TRANSIT CENTER</td>\n      <td>29.519579</td>\n      <td>-98.498064</td>\n      <td>836</td>\n      <td>POINT (-98.49806 29.51958)</td>\n      <td>1</td>\n    </tr>\n    <tr>\n      <th>10023</th>\n      <td>10023</td>\n      <td>NORTH STAR TRANSIT CENTER</td>\n      <td>29.519261</td>\n      <td>-98.498801</td>\n      <td>575</td>\n      <td>POINT (-98.49880 29.51926)</td>\n      <td>1</td>\n    </tr>\n    <tr>\n      <th>10029</th>\n      <td>10029</td>\n      <td>NORTH STAR TRANSIT CENTER</td>\n      <td>29.519446</td>\n      <td>-98.498229</td>\n      <td>646</td>\n      <td>POINT (-98.49823 29.51945)</td>\n      <td>1</td>\n    </tr>\n    <tr>\n      <th>10033</th>\n      <td>10033</td>\n      <td>NORTH STAR TRANSIT CENTER</td>\n      <td>29.519403</td>\n      <td>-98.498651</td>\n      <td>567</td>\n      <td>POINT (-98.49865 29.51940)</td>\n      <td>1</td>\n    </tr>\n  </tbody>\n</table>\n</div>"
     },
     "metadata": {},
     "execution_count": 37
    }
   ],
   "source": [
    "gdf_stops_adh['adh_stop'] = 1\n",
    "gdf_stops_adh = gdf_stops_adh.astype({'adh_stop':'int64'})\n",
    "print(gdf_stops_adh.info())\n",
    "gdf_stops_adh.head(5)\n"
   ]
  },
  {
   "cell_type": "code",
   "execution_count": 38,
   "metadata": {
    "tags": []
   },
   "outputs": [
    {
     "output_type": "execute_result",
     "data": {
      "text/plain": "['19863', '23799', '98013']"
     },
     "metadata": {},
     "execution_count": 38
    }
   ],
   "source": [
    "gdf_stops_adh[gdf_stops_adh.stop_lat==0].stop_id.to_list()"
   ]
  },
  {
   "cell_type": "code",
   "execution_count": 39,
   "metadata": {
    "tags": []
   },
   "outputs": [
    {
     "output_type": "stream",
     "name": "stdout",
     "text": "<class 'geopandas.geodataframe.GeoDataFrame'>\nIndex: 646 entries, 10013 to GARA\nData columns (total 6 columns):\n #   Column     Non-Null Count  Dtype   \n---  ------     --------------  -----   \n 0   stop_id    646 non-null    string  \n 1   stop_name  646 non-null    string  \n 2   stop_lat   646 non-null    float64 \n 3   stop_lon   646 non-null    float64 \n 4   geometry   646 non-null    geometry\n 5   adh_stop   646 non-null    int64   \ndtypes: float64(2), geometry(1), int64(1), string(2)\nmemory usage: 35.3+ KB\nNone\n"
    },
    {
     "output_type": "execute_result",
     "data": {
      "text/plain": "          stop_id                  stop_name   stop_lat   stop_lon  \\\nstop_code                                                            \n10013       10013  NORTH STAR TRANSIT CENTER  29.519705 -98.498340   \n10019       10019  NORTH STAR TRANSIT CENTER  29.519579 -98.498064   \n10023       10023  NORTH STAR TRANSIT CENTER  29.519261 -98.498801   \n10029       10029  NORTH STAR TRANSIT CENTER  29.519446 -98.498229   \n10033       10033  NORTH STAR TRANSIT CENTER  29.519403 -98.498651   \n\n                             geometry  adh_stop  \nstop_code                                        \n10013      POINT (-98.49834 29.51970)         1  \n10019      POINT (-98.49806 29.51958)         1  \n10023      POINT (-98.49880 29.51926)         1  \n10029      POINT (-98.49823 29.51945)         1  \n10033      POINT (-98.49865 29.51940)         1  ",
      "text/html": "<div>\n<style scoped>\n    .dataframe tbody tr th:only-of-type {\n        vertical-align: middle;\n    }\n\n    .dataframe tbody tr th {\n        vertical-align: top;\n    }\n\n    .dataframe thead th {\n        text-align: right;\n    }\n</style>\n<table border=\"1\" class=\"dataframe\">\n  <thead>\n    <tr style=\"text-align: right;\">\n      <th></th>\n      <th>stop_id</th>\n      <th>stop_name</th>\n      <th>stop_lat</th>\n      <th>stop_lon</th>\n      <th>geometry</th>\n      <th>adh_stop</th>\n    </tr>\n    <tr>\n      <th>stop_code</th>\n      <th></th>\n      <th></th>\n      <th></th>\n      <th></th>\n      <th></th>\n      <th></th>\n    </tr>\n  </thead>\n  <tbody>\n    <tr>\n      <th>10013</th>\n      <td>10013</td>\n      <td>NORTH STAR TRANSIT CENTER</td>\n      <td>29.519705</td>\n      <td>-98.498340</td>\n      <td>POINT (-98.49834 29.51970)</td>\n      <td>1</td>\n    </tr>\n    <tr>\n      <th>10019</th>\n      <td>10019</td>\n      <td>NORTH STAR TRANSIT CENTER</td>\n      <td>29.519579</td>\n      <td>-98.498064</td>\n      <td>POINT (-98.49806 29.51958)</td>\n      <td>1</td>\n    </tr>\n    <tr>\n      <th>10023</th>\n      <td>10023</td>\n      <td>NORTH STAR TRANSIT CENTER</td>\n      <td>29.519261</td>\n      <td>-98.498801</td>\n      <td>POINT (-98.49880 29.51926)</td>\n      <td>1</td>\n    </tr>\n    <tr>\n      <th>10029</th>\n      <td>10029</td>\n      <td>NORTH STAR TRANSIT CENTER</td>\n      <td>29.519446</td>\n      <td>-98.498229</td>\n      <td>POINT (-98.49823 29.51945)</td>\n      <td>1</td>\n    </tr>\n    <tr>\n      <th>10033</th>\n      <td>10033</td>\n      <td>NORTH STAR TRANSIT CENTER</td>\n      <td>29.519403</td>\n      <td>-98.498651</td>\n      <td>POINT (-98.49865 29.51940)</td>\n      <td>1</td>\n    </tr>\n  </tbody>\n</table>\n</div>"
     },
     "metadata": {},
     "execution_count": 39
    }
   ],
   "source": [
    "gdf_stops = gdf_stops_adh[gdf_stops_adh.stop_lat != False].drop(columns='stops')\n",
    "print(gdf_stops.info())\n",
    "gdf_stops.head()"
   ]
  },
  {
   "cell_type": "code",
   "execution_count": 40,
   "metadata": {},
   "outputs": [],
   "source": [
    "#######################################\n",
    "###\n",
    "### stops\n",
    "###\n",
    "### stops 201909\n",
    "###\n",
    "#######################################"
   ]
  },
  {
   "cell_type": "code",
   "execution_count": null,
   "metadata": {},
   "outputs": [],
   "source": []
  },
  {
   "cell_type": "code",
   "execution_count": 41,
   "metadata": {
    "tags": []
   },
   "outputs": [
    {
     "output_type": "stream",
     "name": "stdout",
     "text": "*** gdf_stops_201909 ***\n\n<class 'geopandas.geodataframe.GeoDataFrame'>\nIndex: 6895 entries, 25316 to 56683\nData columns (total 8 columns):\n #   Column      Non-Null Count  Dtype   \n---  ------      --------------  -----   \n 0   stop_id     6895 non-null   string  \n 1   stop_name   6895 non-null   string  \n 2   stop_lat    6895 non-null   float64 \n 3   stop_lon    6895 non-null   float64 \n 4   geometry    6895 non-null   geometry\n 5   actv_19_09  6895 non-null   int64   \n 6   adh_stop    6895 non-null   float64 \n 7   adh_stop2   6895 non-null   float64 \ndtypes: float64(4), geometry(1), int64(1), string(2)\nmemory usage: 804.8+ KB\nNone\n\nadh stops:  644.0\n\nadh2 stops: 641.0\n"
    },
    {
     "output_type": "execute_result",
     "data": {
      "text/plain": "          stop_id                       stop_name   stop_lat   stop_lon  \\\nstop_code                                                                 \n25316       25316                BLANCO & DRESDEN  29.499014 -98.507783   \n72479       72479     FRESNO & IH-10 W ACCESS RD.  29.474488 -98.516238   \n56239       56239  FREDERICKSBURG RD. & N. FLORES  29.441883 -98.503773   \n76759       76759                MARTIN & N. FRIO  29.430081 -98.503058   \n88973       88973            DOLOROSA & S. FLORES  29.424073 -98.494741   \n\n                             geometry  actv_19_09  adh_stop  adh_stop2  \nstop_code                                                               \n25316      POINT (-98.50778 29.49901)           1       0.0        0.0  \n72479      POINT (-98.51624 29.47449)           1       0.0        0.0  \n56239      POINT (-98.50377 29.44188)           1       1.0        1.0  \n76759      POINT (-98.50306 29.43008)           1       1.0        1.0  \n88973      POINT (-98.49474 29.42407)           1       1.0        1.0  ",
      "text/html": "<div>\n<style scoped>\n    .dataframe tbody tr th:only-of-type {\n        vertical-align: middle;\n    }\n\n    .dataframe tbody tr th {\n        vertical-align: top;\n    }\n\n    .dataframe thead th {\n        text-align: right;\n    }\n</style>\n<table border=\"1\" class=\"dataframe\">\n  <thead>\n    <tr style=\"text-align: right;\">\n      <th></th>\n      <th>stop_id</th>\n      <th>stop_name</th>\n      <th>stop_lat</th>\n      <th>stop_lon</th>\n      <th>geometry</th>\n      <th>actv_19_09</th>\n      <th>adh_stop</th>\n      <th>adh_stop2</th>\n    </tr>\n    <tr>\n      <th>stop_code</th>\n      <th></th>\n      <th></th>\n      <th></th>\n      <th></th>\n      <th></th>\n      <th></th>\n      <th></th>\n      <th></th>\n    </tr>\n  </thead>\n  <tbody>\n    <tr>\n      <th>25316</th>\n      <td>25316</td>\n      <td>BLANCO &amp; DRESDEN</td>\n      <td>29.499014</td>\n      <td>-98.507783</td>\n      <td>POINT (-98.50778 29.49901)</td>\n      <td>1</td>\n      <td>0.0</td>\n      <td>0.0</td>\n    </tr>\n    <tr>\n      <th>72479</th>\n      <td>72479</td>\n      <td>FRESNO &amp; IH-10 W ACCESS RD.</td>\n      <td>29.474488</td>\n      <td>-98.516238</td>\n      <td>POINT (-98.51624 29.47449)</td>\n      <td>1</td>\n      <td>0.0</td>\n      <td>0.0</td>\n    </tr>\n    <tr>\n      <th>56239</th>\n      <td>56239</td>\n      <td>FREDERICKSBURG RD. &amp; N. FLORES</td>\n      <td>29.441883</td>\n      <td>-98.503773</td>\n      <td>POINT (-98.50377 29.44188)</td>\n      <td>1</td>\n      <td>1.0</td>\n      <td>1.0</td>\n    </tr>\n    <tr>\n      <th>76759</th>\n      <td>76759</td>\n      <td>MARTIN &amp; N. FRIO</td>\n      <td>29.430081</td>\n      <td>-98.503058</td>\n      <td>POINT (-98.50306 29.43008)</td>\n      <td>1</td>\n      <td>1.0</td>\n      <td>1.0</td>\n    </tr>\n    <tr>\n      <th>88973</th>\n      <td>88973</td>\n      <td>DOLOROSA &amp; S. FLORES</td>\n      <td>29.424073</td>\n      <td>-98.494741</td>\n      <td>POINT (-98.49474 29.42407)</td>\n      <td>1</td>\n      <td>1.0</td>\n      <td>1.0</td>\n    </tr>\n  </tbody>\n</table>\n</div>"
     },
     "metadata": {},
     "execution_count": 41
    }
   ],
   "source": [
    "gdf_stops_201909 = wrangle_stops(files['stops_201909'], actv_date='19_09')\n",
    "gdf_stops_201909 = gdf_stops_201909.join(gdf_stops_adh[['adh_stop']], how='left')\n",
    "gdf_stops_201909 = gdf_stops_201909.join(gdf_stops[['adh_stop']], how='left', rsuffix='2')\n",
    "\n",
    "gdf_stops_201909.adh_stop.fillna(0, inplace=True)\n",
    "gdf_stops_201909.adh_stop2.fillna(0, inplace=True)\n",
    "\n",
    "print('*** gdf_stops_201909 ***\\n')\n",
    "print(gdf_stops_201909.info())\n",
    "print('\\nadh stops: ', gdf_stops_201909.adh_stop.sum())\n",
    "print('\\nadh2 stops:', gdf_stops_201909.adh_stop2.sum())\n",
    "gdf_stops_201909.head()"
   ]
  },
  {
   "cell_type": "code",
   "execution_count": 42,
   "metadata": {},
   "outputs": [],
   "source": [
    "#######################################\n",
    "###\n",
    "### stops\n",
    "###\n",
    "### stops 200404\n",
    "###\n",
    "#######################################"
   ]
  },
  {
   "cell_type": "code",
   "execution_count": 43,
   "metadata": {
    "tags": []
   },
   "outputs": [
    {
     "output_type": "stream",
     "name": "stdout",
     "text": "<class 'geopandas.geodataframe.GeoDataFrame'>\nIndex: 641 entries, 10013 to 99917\nData columns (total 7 columns):\n #   Column      Non-Null Count  Dtype   \n---  ------      --------------  -----   \n 0   stop_id     641 non-null    string  \n 1   stop_name   641 non-null    string  \n 2   stop_lat    641 non-null    float64 \n 3   stop_lon    641 non-null    float64 \n 4   geometry    641 non-null    geometry\n 5   adh_stop    641 non-null    int64   \n 6   actv_19_09  641 non-null    int64   \ndtypes: float64(2), geometry(1), int64(2), string(2)\nmemory usage: 40.1+ KB\nNone\n"
    },
    {
     "output_type": "execute_result",
     "data": {
      "text/plain": "          stop_id                            stop_name   stop_lat   stop_lon  \\\nstop_code                                                                      \n28763       28763             LOCKHILL-SELMA & BEL AIR  29.540021 -98.526854   \n79457       79457  GOLD CANYON BET 1604 & HENDER. PASS  29.603795 -98.458691   \n41197       41197                N. ST. MARY'S & DEWEY  29.447268 -98.486828   \n26556       26556                 S. PRESA & HOT WELLS  29.368516 -98.470891   \n47947       47947         SAN PEDRO OPPOSITE EVERGREEN  29.443194 -98.499428   \n53147       53147          BARLITE & S.W. MILITARY DR.  29.357370 -98.546248   \n56136       56136    PLEASANTON RD. & S.W. MILITARY DR  29.356488 -98.503824   \n95576       95576         PORT VICTORIA & TRADING POST  29.335270 -98.603268   \n41657       41657                   NEER OPPOSITE 3614  29.487996 -98.520781   \n32256       32256               CROSSROADS PARK & RIDE  29.494196 -98.548217   \n\n                             geometry  adh_stop  actv_19_09  \nstop_code                                                    \n28763      POINT (-98.52685 29.54002)         1           1  \n79457      POINT (-98.45869 29.60379)         1           1  \n41197      POINT (-98.48683 29.44727)         1           1  \n26556      POINT (-98.47089 29.36852)         1           1  \n47947      POINT (-98.49943 29.44319)         1           1  \n53147      POINT (-98.54625 29.35737)         1           1  \n56136      POINT (-98.50382 29.35649)         1           1  \n95576      POINT (-98.60327 29.33527)         1           1  \n41657      POINT (-98.52078 29.48800)         1           1  \n32256      POINT (-98.54822 29.49420)         1           1  ",
      "text/html": "<div>\n<style scoped>\n    .dataframe tbody tr th:only-of-type {\n        vertical-align: middle;\n    }\n\n    .dataframe tbody tr th {\n        vertical-align: top;\n    }\n\n    .dataframe thead th {\n        text-align: right;\n    }\n</style>\n<table border=\"1\" class=\"dataframe\">\n  <thead>\n    <tr style=\"text-align: right;\">\n      <th></th>\n      <th>stop_id</th>\n      <th>stop_name</th>\n      <th>stop_lat</th>\n      <th>stop_lon</th>\n      <th>geometry</th>\n      <th>adh_stop</th>\n      <th>actv_19_09</th>\n    </tr>\n    <tr>\n      <th>stop_code</th>\n      <th></th>\n      <th></th>\n      <th></th>\n      <th></th>\n      <th></th>\n      <th></th>\n      <th></th>\n    </tr>\n  </thead>\n  <tbody>\n    <tr>\n      <th>28763</th>\n      <td>28763</td>\n      <td>LOCKHILL-SELMA &amp; BEL AIR</td>\n      <td>29.540021</td>\n      <td>-98.526854</td>\n      <td>POINT (-98.52685 29.54002)</td>\n      <td>1</td>\n      <td>1</td>\n    </tr>\n    <tr>\n      <th>79457</th>\n      <td>79457</td>\n      <td>GOLD CANYON BET 1604 &amp; HENDER. PASS</td>\n      <td>29.603795</td>\n      <td>-98.458691</td>\n      <td>POINT (-98.45869 29.60379)</td>\n      <td>1</td>\n      <td>1</td>\n    </tr>\n    <tr>\n      <th>41197</th>\n      <td>41197</td>\n      <td>N. ST. MARY'S &amp; DEWEY</td>\n      <td>29.447268</td>\n      <td>-98.486828</td>\n      <td>POINT (-98.48683 29.44727)</td>\n      <td>1</td>\n      <td>1</td>\n    </tr>\n    <tr>\n      <th>26556</th>\n      <td>26556</td>\n      <td>S. PRESA &amp; HOT WELLS</td>\n      <td>29.368516</td>\n      <td>-98.470891</td>\n      <td>POINT (-98.47089 29.36852)</td>\n      <td>1</td>\n      <td>1</td>\n    </tr>\n    <tr>\n      <th>47947</th>\n      <td>47947</td>\n      <td>SAN PEDRO OPPOSITE EVERGREEN</td>\n      <td>29.443194</td>\n      <td>-98.499428</td>\n      <td>POINT (-98.49943 29.44319)</td>\n      <td>1</td>\n      <td>1</td>\n    </tr>\n    <tr>\n      <th>53147</th>\n      <td>53147</td>\n      <td>BARLITE &amp; S.W. MILITARY DR.</td>\n      <td>29.357370</td>\n      <td>-98.546248</td>\n      <td>POINT (-98.54625 29.35737)</td>\n      <td>1</td>\n      <td>1</td>\n    </tr>\n    <tr>\n      <th>56136</th>\n      <td>56136</td>\n      <td>PLEASANTON RD. &amp; S.W. MILITARY DR</td>\n      <td>29.356488</td>\n      <td>-98.503824</td>\n      <td>POINT (-98.50382 29.35649)</td>\n      <td>1</td>\n      <td>1</td>\n    </tr>\n    <tr>\n      <th>95576</th>\n      <td>95576</td>\n      <td>PORT VICTORIA &amp; TRADING POST</td>\n      <td>29.335270</td>\n      <td>-98.603268</td>\n      <td>POINT (-98.60327 29.33527)</td>\n      <td>1</td>\n      <td>1</td>\n    </tr>\n    <tr>\n      <th>41657</th>\n      <td>41657</td>\n      <td>NEER OPPOSITE 3614</td>\n      <td>29.487996</td>\n      <td>-98.520781</td>\n      <td>POINT (-98.52078 29.48800)</td>\n      <td>1</td>\n      <td>1</td>\n    </tr>\n    <tr>\n      <th>32256</th>\n      <td>32256</td>\n      <td>CROSSROADS PARK &amp; RIDE</td>\n      <td>29.494196</td>\n      <td>-98.548217</td>\n      <td>POINT (-98.54822 29.49420)</td>\n      <td>1</td>\n      <td>1</td>\n    </tr>\n  </tbody>\n</table>\n</div>"
     },
     "metadata": {},
     "execution_count": 43
    }
   ],
   "source": [
    "gdf_stops = gdf_stops.join(gdf_stops_201909['actv_19_09'], how='inner')\n",
    "print(gdf_stops.info())\n",
    "gdf_stops.sample(10)"
   ]
  },
  {
   "cell_type": "code",
   "execution_count": 44,
   "metadata": {
    "tags": []
   },
   "outputs": [
    {
     "output_type": "stream",
     "name": "stdout",
     "text": "<class 'geopandas.geodataframe.GeoDataFrame'>\nIndex: 6254 entries, 25316 to 56683\nData columns (total 7 columns):\n #   Column      Non-Null Count  Dtype   \n---  ------      --------------  -----   \n 0   stop_id     6254 non-null   string  \n 1   stop_name   6254 non-null   string  \n 2   stop_lat    6254 non-null   float64 \n 3   stop_lon    6254 non-null   float64 \n 4   geometry    6254 non-null   geometry\n 5   adh_stop    6254 non-null   float64 \n 6   actv_19_09  6254 non-null   int64   \ndtypes: float64(3), geometry(1), int64(1), string(2)\nmemory usage: 390.9+ KB\nNone\n"
    },
    {
     "output_type": "execute_result",
     "data": {
      "text/plain": "          stop_id                            stop_name   stop_lat   stop_lon  \\\nstop_code                                                                      \n25316       25316                     BLANCO & DRESDEN  29.499014 -98.507783   \n72479       72479          FRESNO & IH-10 W ACCESS RD.  29.474488 -98.516238   \n25317       25317                     BLANCO & DRESDEN  29.499095 -98.507835   \n72857       72857               BLANCO & WURZBACH PKWY  29.559864 -98.518090   \n78539       78539  RECTOR OPPOSITE AHERN - N.STAR MALL  29.516916 -98.495928   \n\n                             geometry  adh_stop  actv_19_09  \nstop_code                                                    \n25316      POINT (-98.50778 29.49901)       0.0           1  \n72479      POINT (-98.51624 29.47449)       0.0           1  \n25317      POINT (-98.50784 29.49910)       0.0           1  \n72857      POINT (-98.51809 29.55986)       0.0           1  \n78539      POINT (-98.49593 29.51692)       0.0           1  ",
      "text/html": "<div>\n<style scoped>\n    .dataframe tbody tr th:only-of-type {\n        vertical-align: middle;\n    }\n\n    .dataframe tbody tr th {\n        vertical-align: top;\n    }\n\n    .dataframe thead th {\n        text-align: right;\n    }\n</style>\n<table border=\"1\" class=\"dataframe\">\n  <thead>\n    <tr style=\"text-align: right;\">\n      <th></th>\n      <th>stop_id</th>\n      <th>stop_name</th>\n      <th>stop_lat</th>\n      <th>stop_lon</th>\n      <th>geometry</th>\n      <th>adh_stop</th>\n      <th>actv_19_09</th>\n    </tr>\n    <tr>\n      <th>stop_code</th>\n      <th></th>\n      <th></th>\n      <th></th>\n      <th></th>\n      <th></th>\n      <th></th>\n      <th></th>\n    </tr>\n  </thead>\n  <tbody>\n    <tr>\n      <th>25316</th>\n      <td>25316</td>\n      <td>BLANCO &amp; DRESDEN</td>\n      <td>29.499014</td>\n      <td>-98.507783</td>\n      <td>POINT (-98.50778 29.49901)</td>\n      <td>0.0</td>\n      <td>1</td>\n    </tr>\n    <tr>\n      <th>72479</th>\n      <td>72479</td>\n      <td>FRESNO &amp; IH-10 W ACCESS RD.</td>\n      <td>29.474488</td>\n      <td>-98.516238</td>\n      <td>POINT (-98.51624 29.47449)</td>\n      <td>0.0</td>\n      <td>1</td>\n    </tr>\n    <tr>\n      <th>25317</th>\n      <td>25317</td>\n      <td>BLANCO &amp; DRESDEN</td>\n      <td>29.499095</td>\n      <td>-98.507835</td>\n      <td>POINT (-98.50784 29.49910)</td>\n      <td>0.0</td>\n      <td>1</td>\n    </tr>\n    <tr>\n      <th>72857</th>\n      <td>72857</td>\n      <td>BLANCO &amp; WURZBACH PKWY</td>\n      <td>29.559864</td>\n      <td>-98.518090</td>\n      <td>POINT (-98.51809 29.55986)</td>\n      <td>0.0</td>\n      <td>1</td>\n    </tr>\n    <tr>\n      <th>78539</th>\n      <td>78539</td>\n      <td>RECTOR OPPOSITE AHERN - N.STAR MALL</td>\n      <td>29.516916</td>\n      <td>-98.495928</td>\n      <td>POINT (-98.49593 29.51692)</td>\n      <td>0.0</td>\n      <td>1</td>\n    </tr>\n  </tbody>\n</table>\n</div>"
     },
     "metadata": {},
     "execution_count": 44
    }
   ],
   "source": [
    "gdf_stops.actv_19_09.sum()\n",
    "gdf_stops_19_append = gdf_stops_201909[gdf_stops_201909.adh_stop2==0]\n",
    "gdf_stops_19_append = gdf_stops_19_append[gdf_stops.columns]\n",
    "print(gdf_stops_19_append.info())\n",
    "gdf_stops_19_append.head()"
   ]
  },
  {
   "cell_type": "code",
   "execution_count": 45,
   "metadata": {
    "tags": []
   },
   "outputs": [],
   "source": [
    "gdf_stops = gdf_stops.append(gdf_stops_19_append, verify_integrity=True)\n"
   ]
  },
  {
   "cell_type": "code",
   "execution_count": 46,
   "metadata": {
    "tags": []
   },
   "outputs": [
    {
     "output_type": "stream",
     "name": "stdout",
     "text": "<class 'geopandas.geodataframe.GeoDataFrame'>\nIndex: 6895 entries, 10013 to 56683\nData columns (total 7 columns):\n #   Column      Non-Null Count  Dtype   \n---  ------      --------------  -----   \n 0   stop_id     6895 non-null   string  \n 1   stop_name   6895 non-null   string  \n 2   stop_lat    6895 non-null   float64 \n 3   stop_lon    6895 non-null   float64 \n 4   geometry    6895 non-null   geometry\n 5   adh_stop    6895 non-null   int64   \n 6   actv_19_09  6895 non-null   int64   \ndtypes: float64(2), geometry(1), int64(2), string(2)\nmemory usage: 430.9+ KB\nNone\n644\n"
    },
    {
     "output_type": "execute_result",
     "data": {
      "text/plain": "          stop_id                  stop_name   stop_lat   stop_lon  \\\nstop_code                                                            \n10013       10013  NORTH STAR TRANSIT CENTER  29.519705 -98.498340   \n10019       10019  NORTH STAR TRANSIT CENTER  29.519579 -98.498064   \n10023       10023  NORTH STAR TRANSIT CENTER  29.519261 -98.498801   \n10029       10029  NORTH STAR TRANSIT CENTER  29.519446 -98.498229   \n10033       10033  NORTH STAR TRANSIT CENTER  29.519403 -98.498651   \n\n                             geometry  adh_stop  actv_19_09  \nstop_code                                                    \n10013      POINT (-98.49834 29.51970)         1           1  \n10019      POINT (-98.49806 29.51958)         1           1  \n10023      POINT (-98.49880 29.51926)         1           1  \n10029      POINT (-98.49823 29.51945)         1           1  \n10033      POINT (-98.49865 29.51940)         1           1  ",
      "text/html": "<div>\n<style scoped>\n    .dataframe tbody tr th:only-of-type {\n        vertical-align: middle;\n    }\n\n    .dataframe tbody tr th {\n        vertical-align: top;\n    }\n\n    .dataframe thead th {\n        text-align: right;\n    }\n</style>\n<table border=\"1\" class=\"dataframe\">\n  <thead>\n    <tr style=\"text-align: right;\">\n      <th></th>\n      <th>stop_id</th>\n      <th>stop_name</th>\n      <th>stop_lat</th>\n      <th>stop_lon</th>\n      <th>geometry</th>\n      <th>adh_stop</th>\n      <th>actv_19_09</th>\n    </tr>\n    <tr>\n      <th>stop_code</th>\n      <th></th>\n      <th></th>\n      <th></th>\n      <th></th>\n      <th></th>\n      <th></th>\n      <th></th>\n    </tr>\n  </thead>\n  <tbody>\n    <tr>\n      <th>10013</th>\n      <td>10013</td>\n      <td>NORTH STAR TRANSIT CENTER</td>\n      <td>29.519705</td>\n      <td>-98.498340</td>\n      <td>POINT (-98.49834 29.51970)</td>\n      <td>1</td>\n      <td>1</td>\n    </tr>\n    <tr>\n      <th>10019</th>\n      <td>10019</td>\n      <td>NORTH STAR TRANSIT CENTER</td>\n      <td>29.519579</td>\n      <td>-98.498064</td>\n      <td>POINT (-98.49806 29.51958)</td>\n      <td>1</td>\n      <td>1</td>\n    </tr>\n    <tr>\n      <th>10023</th>\n      <td>10023</td>\n      <td>NORTH STAR TRANSIT CENTER</td>\n      <td>29.519261</td>\n      <td>-98.498801</td>\n      <td>POINT (-98.49880 29.51926)</td>\n      <td>1</td>\n      <td>1</td>\n    </tr>\n    <tr>\n      <th>10029</th>\n      <td>10029</td>\n      <td>NORTH STAR TRANSIT CENTER</td>\n      <td>29.519446</td>\n      <td>-98.498229</td>\n      <td>POINT (-98.49823 29.51945)</td>\n      <td>1</td>\n      <td>1</td>\n    </tr>\n    <tr>\n      <th>10033</th>\n      <td>10033</td>\n      <td>NORTH STAR TRANSIT CENTER</td>\n      <td>29.519403</td>\n      <td>-98.498651</td>\n      <td>POINT (-98.49865 29.51940)</td>\n      <td>1</td>\n      <td>1</td>\n    </tr>\n  </tbody>\n</table>\n</div>"
     },
     "metadata": {},
     "execution_count": 46
    }
   ],
   "source": [
    "gdf_stops=gdf_stops.astype({'adh_stop':'int64'})\n",
    "print(gdf_stops.info())\n",
    "print(gdf_stops.adh_stop.sum())\n",
    "gdf_stops.head()"
   ]
  },
  {
   "cell_type": "code",
   "execution_count": null,
   "metadata": {},
   "outputs": [],
   "source": []
  },
  {
   "cell_type": "code",
   "execution_count": 47,
   "metadata": {
    "tags": []
   },
   "outputs": [],
   "source": [
    "# gdf_stops_202004 = wrangle_stops(files['stops_202004'], actv_date='20_04')\n",
    "\n",
    "# print(print(gdf_stops_202004.)\n",
    "# gdf_stops_202004.head()info())"
   ]
  },
  {
   "cell_type": "code",
   "execution_count": 48,
   "metadata": {
    "tags": []
   },
   "outputs": [],
   "source": [
    "# gdf_stops = gdf_stops_202004.join(gdf_stops_201909[['actv_19_09']], how='left')\n",
    "# gdf_stops.actv_19_09 = gdf_stops.actv_19_09.fillna(0)\n",
    "# gdf_stops.info()"
   ]
  },
  {
   "cell_type": "code",
   "execution_count": null,
   "metadata": {},
   "outputs": [],
   "source": []
  },
  {
   "cell_type": "code",
   "execution_count": 49,
   "metadata": {
    "tags": []
   },
   "outputs": [],
   "source": [
    "# adh_join = gdf_stops_adh.join(gdf_stops_201909[['stop_id']], how='left', on='stop_id', rsuffix='_all')\n",
    "# adh_join.info()"
   ]
  },
  {
   "cell_type": "code",
   "execution_count": null,
   "metadata": {},
   "outputs": [],
   "source": []
  },
  {
   "cell_type": "code",
   "execution_count": 50,
   "metadata": {},
   "outputs": [],
   "source": [
    "# gdf_stops_202004[gdf_stops_202004.stop_id == '98013']"
   ]
  },
  {
   "cell_type": "code",
   "execution_count": 51,
   "metadata": {},
   "outputs": [],
   "source": [
    "# adherence_stops_cols = ['StopNumber','Location','Latitude','Longitude','geometry']"
   ]
  },
  {
   "cell_type": "code",
   "execution_count": 52,
   "metadata": {},
   "outputs": [],
   "source": [
    "#######################################\n",
    "###\n",
    "### stops - all\n",
    "###\n",
    "#######################################"
   ]
  },
  {
   "cell_type": "code",
   "execution_count": 53,
   "metadata": {
    "tags": []
   },
   "outputs": [],
   "source": [
    "# adh_stops_merge = gdf_stops_adh[['geometry', 'stop_id']].rename(columns={'geometry': 'geometry_adh', 'stop_id': 'stop_id_adh'})\n",
    "# all_stops = gdf_stops_202004[['geometry','stop_id']].join(gdf_stops_201909[['geometry','stop_id']], how='outer', lsuffix='_20', rsuffix='_19')\n",
    "# all_stops = all_stops.join(adh_stops_merge, how='outer')\n",
    "\n",
    "# all_stops['actv_20_04'] = all_stops.stop_id_20.isna()==False\n",
    "# all_stops['actv_19_09'] = all_stops.stop_id_19.isna()==False\n",
    "# all_stops['actv_adh'] = all_stops.stop_id_adh.isna() == False\n",
    "# all_stops['same_actv'] = all_stops.actv_20_04.astype('int32') + all_stops.actv_19_09.astype('int32') + all_stops.actv_adh.astype('int32')\n",
    "\n",
    "# # all_stops['same_name'] = all_stops.stop_name_20 == all_stops.stop_name_19\n",
    "# all_stops['same_geom'] = all_stops.geometry_20 == all_stops.geometry_19\n",
    "# all_stops['geom_adh_20'] = all_stops.geometry_20 == all_stops.geometry_adh\n",
    "# all_stops['geom_adh_19'] = all_stops.geometry_19 == all_stops.geometry_adh\n",
    "# all_stops['same_lat'] = all_stops.stop_lat_20 == all_stops.stop_lat_19\n",
    "# all_stops['same_lon'] = all_stops.stop_lon_20 == all_stops.stop_lon_19\n",
    "# all_stops['same_wheel'] = all_stops.wheelchair_boarding_20 == all_stops.wheelchair_boarding_19\n",
    "# all_stops.info()"
   ]
  },
  {
   "cell_type": "code",
   "execution_count": 54,
   "metadata": {
    "tags": []
   },
   "outputs": [],
   "source": [
    "# adh_stops_chk = all_stops[all_stops.actv_adh]\n",
    "# adh_stops_chk[adh_stops_chk.same_actv == 1]\n",
    "# adh_stops_chk[all_stops.columns]\n",
    "# adh_stops_chk[adh_stops_chk.same_actv == 1]\n",
    "# adh_mask = adh_stops_chk.same_actv < 3\n",
    "# adh_stops_chk[adh_mask]\n",
    "# adh_stops_chk.index"
   ]
  },
  {
   "cell_type": "code",
   "execution_count": 55,
   "metadata": {
    "tags": []
   },
   "outputs": [],
   "source": [
    "# print(adh_stops_merge.index.to_list()[:20])\n",
    "# print(all_stops.index.to_list()[:20])\n"
   ]
  },
  {
   "cell_type": "code",
   "execution_count": 56,
   "metadata": {
    "tags": []
   },
   "outputs": [],
   "source": [
    "# same_stops = all_stops[all_stops['same_actv']]\n",
    "# same_stops.info()"
   ]
  },
  {
   "cell_type": "code",
   "execution_count": 57,
   "metadata": {},
   "outputs": [],
   "source": [
    "# same_stops[['same_geom']].sum()"
   ]
  },
  {
   "cell_type": "code",
   "execution_count": 58,
   "metadata": {},
   "outputs": [],
   "source": [
    "# all_stops[all_stops.same_geom == False]"
   ]
  },
  {
   "cell_type": "code",
   "execution_count": 59,
   "metadata": {
    "tags": []
   },
   "outputs": [],
   "source": [
    "# gdf_stops_202004_blocks[['BLOCK','geometry']].info()"
   ]
  },
  {
   "cell_type": "code",
   "execution_count": null,
   "metadata": {},
   "outputs": [],
   "source": []
  },
  {
   "cell_type": "code",
   "execution_count": 60,
   "metadata": {},
   "outputs": [],
   "source": [
    "def buffer_stops(stops_gdf, geo_col='geometry', buffer=.01):\n",
    "\n",
    "    gdf = stops_gdf.copy()\n",
    "    \n",
    "    gdf['geometry'] = gdf.buffer(buffer)\n",
    "    gdf = gdf.set_geometry('geometry')\n",
    "\n",
    "    return gdf"
   ]
  },
  {
   "cell_type": "code",
   "execution_count": 61,
   "metadata": {
    "tags": []
   },
   "outputs": [
    {
     "output_type": "stream",
     "name": "stdout",
     "text": "<class 'geopandas.geodataframe.GeoDataFrame'>\nIndex: 6895 entries, 10013 to 56683\nData columns (total 2 columns):\n #   Column    Non-Null Count  Dtype   \n---  ------    --------------  -----   \n 0   stop_id   6895 non-null   string  \n 1   geometry  6895 non-null   geometry\ndtypes: geometry(1), string(1)\nmemory usage: 161.6+ KB\nNone\n"
    },
    {
     "output_type": "execute_result",
     "data": {
      "text/plain": "          stop_id                                           geometry\nstop_code                                                           \n10013       10013  POLYGON ((-98.49159 29.51970, -98.49162 29.519...\n10019       10019  POLYGON ((-98.49131 29.51958, -98.49135 29.518...\n10023       10023  POLYGON ((-98.49205 29.51926, -98.49208 29.518...\n10029       10029  POLYGON ((-98.49148 29.51945, -98.49151 29.518...\n10033       10033  POLYGON ((-98.49190 29.51940, -98.49193 29.518...",
      "text/html": "<div>\n<style scoped>\n    .dataframe tbody tr th:only-of-type {\n        vertical-align: middle;\n    }\n\n    .dataframe tbody tr th {\n        vertical-align: top;\n    }\n\n    .dataframe thead th {\n        text-align: right;\n    }\n</style>\n<table border=\"1\" class=\"dataframe\">\n  <thead>\n    <tr style=\"text-align: right;\">\n      <th></th>\n      <th>stop_id</th>\n      <th>geometry</th>\n    </tr>\n    <tr>\n      <th>stop_code</th>\n      <th></th>\n      <th></th>\n    </tr>\n  </thead>\n  <tbody>\n    <tr>\n      <th>10013</th>\n      <td>10013</td>\n      <td>POLYGON ((-98.49159 29.51970, -98.49162 29.519...</td>\n    </tr>\n    <tr>\n      <th>10019</th>\n      <td>10019</td>\n      <td>POLYGON ((-98.49131 29.51958, -98.49135 29.518...</td>\n    </tr>\n    <tr>\n      <th>10023</th>\n      <td>10023</td>\n      <td>POLYGON ((-98.49205 29.51926, -98.49208 29.518...</td>\n    </tr>\n    <tr>\n      <th>10029</th>\n      <td>10029</td>\n      <td>POLYGON ((-98.49148 29.51945, -98.49151 29.518...</td>\n    </tr>\n    <tr>\n      <th>10033</th>\n      <td>10033</td>\n      <td>POLYGON ((-98.49190 29.51940, -98.49193 29.518...</td>\n    </tr>\n  </tbody>\n</table>\n</div>"
     },
     "metadata": {},
     "execution_count": 61
    }
   ],
   "source": [
    "gdf_stops_buff = buffer_stops(gdf_stops[['stop_id','geometry']], buffer=buffer_in_degrees)\n",
    "print(gdf_stops_buff.info())\n",
    "gdf_stops_buff.head()"
   ]
  },
  {
   "cell_type": "code",
   "execution_count": 62,
   "metadata": {},
   "outputs": [],
   "source": [
    "# def match_stops(stops_gdf, area_gdf, stops_geo='geometry', area_geo='geometry'):\n",
    "#     sidx_name = stops_gdf.index.name\n",
    "#     aidx_name = area_gdf.index.name\n",
    "#     sidx_geo = sidx_name + '_geo'\n",
    "#     aidx_geo = aidx_name + 'geo'\n",
    "#     sgdf = stops_gdf[[stops_geo]].copy().reset_index()\n",
    "#     agdf = area_gdf[[area_geo]].copy().reset_index()\n",
    "    \n",
    "#     return sidx_name\n",
    "\n",
    "# check_match = match_stops(area_gdf=gdf_blocks[['geometry']], stops_gdf=gdf_stops_202004_buff)\n",
    "# check_match"
   ]
  },
  {
   "cell_type": "code",
   "execution_count": 95,
   "metadata": {
    "tags": []
   },
   "outputs": [
    {
     "output_type": "stream",
     "name": "stdout",
     "text": "<class 'geopandas.geodataframe.GeoDataFrame'>\nIndex: 439954 entries, 10013 to 87887\nData columns (total 5 columns):\n #   Column      Non-Null Count   Dtype   \n---  ------      --------------   -----   \n 0   BLOCK       439954 non-null  string  \n 1   BLOCKGROUP  439954 non-null  string  \n 2   TRACT       439954 non-null  string  \n 3   stop_id     439954 non-null  string  \n 4   geometry    439954 non-null  geometry\ndtypes: geometry(1), string(4)\nmemory usage: 20.1+ MB\nNone\n"
    },
    {
     "output_type": "execute_result",
     "data": {
      "text/plain": "                 BLOCK    BLOCKGROUP        TRACT stop_id  \\\n10013  480291909021000  480291909021  48029190902   10013   \n10019  480291909021000  480291909021  48029190902   10019   \n10029  480291909021000  480291909021  48029190902   10029   \n10043  480291909021000  480291909021  48029190902   10043   \n10059  480291909021000  480291909021  48029190902   10059   \n\n                                                geometry  \n10013  POLYGON ((-98.49159 29.51970, -98.49162 29.519...  \n10019  POLYGON ((-98.49131 29.51958, -98.49135 29.518...  \n10029  POLYGON ((-98.49148 29.51945, -98.49151 29.518...  \n10043  POLYGON ((-98.49145 29.51976, -98.49148 29.519...  \n10059  POLYGON ((-98.49155 29.51936, -98.49158 29.518...  ",
      "text/html": "<div>\n<style scoped>\n    .dataframe tbody tr th:only-of-type {\n        vertical-align: middle;\n    }\n\n    .dataframe tbody tr th {\n        vertical-align: top;\n    }\n\n    .dataframe thead th {\n        text-align: right;\n    }\n</style>\n<table border=\"1\" class=\"dataframe\">\n  <thead>\n    <tr style=\"text-align: right;\">\n      <th></th>\n      <th>BLOCK</th>\n      <th>BLOCKGROUP</th>\n      <th>TRACT</th>\n      <th>stop_id</th>\n      <th>geometry</th>\n    </tr>\n  </thead>\n  <tbody>\n    <tr>\n      <th>10013</th>\n      <td>480291909021000</td>\n      <td>480291909021</td>\n      <td>48029190902</td>\n      <td>10013</td>\n      <td>POLYGON ((-98.49159 29.51970, -98.49162 29.519...</td>\n    </tr>\n    <tr>\n      <th>10019</th>\n      <td>480291909021000</td>\n      <td>480291909021</td>\n      <td>48029190902</td>\n      <td>10019</td>\n      <td>POLYGON ((-98.49131 29.51958, -98.49135 29.518...</td>\n    </tr>\n    <tr>\n      <th>10029</th>\n      <td>480291909021000</td>\n      <td>480291909021</td>\n      <td>48029190902</td>\n      <td>10029</td>\n      <td>POLYGON ((-98.49148 29.51945, -98.49151 29.518...</td>\n    </tr>\n    <tr>\n      <th>10043</th>\n      <td>480291909021000</td>\n      <td>480291909021</td>\n      <td>48029190902</td>\n      <td>10043</td>\n      <td>POLYGON ((-98.49145 29.51976, -98.49148 29.519...</td>\n    </tr>\n    <tr>\n      <th>10059</th>\n      <td>480291909021000</td>\n      <td>480291909021</td>\n      <td>48029190902</td>\n      <td>10059</td>\n      <td>POLYGON ((-98.49155 29.51936, -98.49158 29.518...</td>\n    </tr>\n  </tbody>\n</table>\n</div>"
     },
     "metadata": {},
     "execution_count": 95
    }
   ],
   "source": [
    "# gdf_stops_blocks = gpd.sjoin(gdf_blocks[['BLOCK','geometry']], gdf_stops_202004_buff, how='inner', op='intersects')\n",
    "gdf_stops_fips = gpd.sjoin(gdf_stops_buff, gdf_blocks[['BLOCK','BLOCKGROUP','TRACT','geometry']], how='inner', op='intersects')\n",
    "gdf_stops_fips = gdf_stops_fips[['BLOCK','BLOCKGROUP','TRACT','stop_id','geometry']]\n",
    "# gdf_stops_blocks = gdf_stops_blocks.rename(columns={'index_right':'stop_id'})\n",
    "print(gdf_stops_fips.info())\n",
    "gdf_stops_fips.head(5)"
   ]
  },
  {
   "cell_type": "code",
   "execution_count": 96,
   "metadata": {
    "tags": []
   },
   "outputs": [
    {
     "output_type": "stream",
     "name": "stdout",
     "text": "<class 'pandas.core.frame.DataFrame'>\nIndex: 19356 entries, 480291101001143 to 480291817212007\nData columns (total 1 columns):\n #   Column      Non-Null Count  Dtype\n---  ------      --------------  -----\n 0   stop_count  19356 non-null  Int64\ndtypes: Int64(1)\nmemory usage: 321.3+ KB\nNone\n"
    },
    {
     "output_type": "execute_result",
     "data": {
      "text/plain": "                 stop_count\n480291101001143         114\n480291101002052         102\n480291101002026         101\n480291101002054         101\n480291101002020          97",
      "text/html": "<div>\n<style scoped>\n    .dataframe tbody tr th:only-of-type {\n        vertical-align: middle;\n    }\n\n    .dataframe tbody tr th {\n        vertical-align: top;\n    }\n\n    .dataframe thead th {\n        text-align: right;\n    }\n</style>\n<table border=\"1\" class=\"dataframe\">\n  <thead>\n    <tr style=\"text-align: right;\">\n      <th></th>\n      <th>stop_count</th>\n    </tr>\n  </thead>\n  <tbody>\n    <tr>\n      <th>480291101001143</th>\n      <td>114</td>\n    </tr>\n    <tr>\n      <th>480291101002052</th>\n      <td>102</td>\n    </tr>\n    <tr>\n      <th>480291101002026</th>\n      <td>101</td>\n    </tr>\n    <tr>\n      <th>480291101002054</th>\n      <td>101</td>\n    </tr>\n    <tr>\n      <th>480291101002020</th>\n      <td>97</td>\n    </tr>\n  </tbody>\n</table>\n</div>"
     },
     "metadata": {},
     "execution_count": 96
    }
   ],
   "source": [
    "block_stops = pd.DataFrame(gdf_stops_fips.BLOCK.value_counts()).rename(columns={'BLOCK':'stop_count'})\n",
    "print(block_stops.info())\n",
    "block_stops.head()"
   ]
  },
  {
   "cell_type": "code",
   "execution_count": 98,
   "metadata": {
    "tags": []
   },
   "outputs": [
    {
     "output_type": "stream",
     "name": "stdout",
     "text": "<class 'geopandas.geodataframe.GeoDataFrame'>\nIndex: 968 entries, 480291101001 to 480299801001\nData columns (total 2 columns):\n #   Column    Non-Null Count  Dtype   \n---  ------    --------------  -----   \n 0   geometry  968 non-null    geometry\n 1   stop_id   968 non-null    int64   \ndtypes: geometry(1), int64(1)\nmemory usage: 62.7+ KB\nNone\n"
    },
    {
     "output_type": "execute_result",
     "data": {
      "text/plain": "                                                       geometry  stop_id\nBLOCKGROUP                                                              \n480291101001  POLYGON ((-98.47874 29.40587, -98.47900 29.405...    10017\n480291101002  POLYGON ((-98.48951 29.40594, -98.48951 29.405...     5532\n480291101003  POLYGON ((-98.49093 29.41115, -98.49111 29.410...     6245\n480291103001  POLYGON ((-98.46981 29.40242, -98.46983 29.402...     2270\n480291103002  POLYGON ((-98.47636 29.39821, -98.47638 29.398...     1472",
      "text/html": "<div>\n<style scoped>\n    .dataframe tbody tr th:only-of-type {\n        vertical-align: middle;\n    }\n\n    .dataframe tbody tr th {\n        vertical-align: top;\n    }\n\n    .dataframe thead th {\n        text-align: right;\n    }\n</style>\n<table border=\"1\" class=\"dataframe\">\n  <thead>\n    <tr style=\"text-align: right;\">\n      <th></th>\n      <th>geometry</th>\n      <th>stop_id</th>\n    </tr>\n    <tr>\n      <th>BLOCKGROUP</th>\n      <th></th>\n      <th></th>\n    </tr>\n  </thead>\n  <tbody>\n    <tr>\n      <th>480291101001</th>\n      <td>POLYGON ((-98.47874 29.40587, -98.47900 29.405...</td>\n      <td>10017</td>\n    </tr>\n    <tr>\n      <th>480291101002</th>\n      <td>POLYGON ((-98.48951 29.40594, -98.48951 29.405...</td>\n      <td>5532</td>\n    </tr>\n    <tr>\n      <th>480291101003</th>\n      <td>POLYGON ((-98.49093 29.41115, -98.49111 29.410...</td>\n      <td>6245</td>\n    </tr>\n    <tr>\n      <th>480291103001</th>\n      <td>POLYGON ((-98.46981 29.40242, -98.46983 29.402...</td>\n      <td>2270</td>\n    </tr>\n    <tr>\n      <th>480291103002</th>\n      <td>POLYGON ((-98.47636 29.39821, -98.47638 29.398...</td>\n      <td>1472</td>\n    </tr>\n  </tbody>\n</table>\n</div>"
     },
     "metadata": {},
     "execution_count": 98
    }
   ],
   "source": [
    "gdf_groups_stops = gdf_stops_fips[['BLOCKGROUP','stop_id','geometry']].dissolve(by='BLOCKGROUP', aggfunc='count')\n",
    "print(gdf_groups_stops.info())\n",
    "gdf_groups_stops.head()"
   ]
  },
  {
   "cell_type": "code",
   "execution_count": 104,
   "metadata": {},
   "outputs": [],
   "source": [
    "gdf_groups_stops.to_file(files['group_stops'])"
   ]
  },
  {
   "cell_type": "code",
   "execution_count": null,
   "metadata": {},
   "outputs": [],
   "source": []
  },
  {
   "cell_type": "code",
   "execution_count": null,
   "metadata": {},
   "outputs": [],
   "source": []
  },
  {
   "cell_type": "code",
   "execution_count": 100,
   "metadata": {
    "tags": []
   },
   "outputs": [
    {
     "output_type": "stream",
     "name": "stdout",
     "text": "<class 'pandas.core.frame.DataFrame'>\nIndex: 968 entries, 480291101001 to 480291820021\nData columns (total 1 columns):\n #   Column      Non-Null Count  Dtype\n---  ------      --------------  -----\n 0   stop_count  968 non-null    Int64\ndtypes: Int64(1)\nmemory usage: 16.1+ KB\nNone\n"
    },
    {
     "output_type": "execute_result",
     "data": {
      "text/plain": "              stop_count\n480291101001       10017\n480291101003        6245\n480291101002        5532\n480291921001        4078\n480291107001        3933",
      "text/html": "<div>\n<style scoped>\n    .dataframe tbody tr th:only-of-type {\n        vertical-align: middle;\n    }\n\n    .dataframe tbody tr th {\n        vertical-align: top;\n    }\n\n    .dataframe thead th {\n        text-align: right;\n    }\n</style>\n<table border=\"1\" class=\"dataframe\">\n  <thead>\n    <tr style=\"text-align: right;\">\n      <th></th>\n      <th>stop_count</th>\n    </tr>\n  </thead>\n  <tbody>\n    <tr>\n      <th>480291101001</th>\n      <td>10017</td>\n    </tr>\n    <tr>\n      <th>480291101003</th>\n      <td>6245</td>\n    </tr>\n    <tr>\n      <th>480291101002</th>\n      <td>5532</td>\n    </tr>\n    <tr>\n      <th>480291921001</th>\n      <td>4078</td>\n    </tr>\n    <tr>\n      <th>480291107001</th>\n      <td>3933</td>\n    </tr>\n  </tbody>\n</table>\n</div>"
     },
     "metadata": {},
     "execution_count": 100
    }
   ],
   "source": [
    "group_stops = pd.DataFrame(gdf_stops_fips.BLOCKGROUP.value_counts()).rename(columns={'BLOCKGROUP':'stop_count'})\n",
    "print(group_stops.info())\n",
    "group_stops.head()"
   ]
  },
  {
   "cell_type": "code",
   "execution_count": null,
   "metadata": {},
   "outputs": [],
   "source": []
  },
  {
   "cell_type": "code",
   "execution_count": 65,
   "metadata": {},
   "outputs": [
    {
     "output_type": "execute_result",
     "data": {
      "text/plain": "6894"
     },
     "metadata": {},
     "execution_count": 65
    }
   ],
   "source": [
    "stop_blocks = gdf_stops_blocks.stop_id.value_counts()\n",
    "len(stop_blocks)"
   ]
  },
  {
   "cell_type": "code",
   "execution_count": null,
   "metadata": {
    "tags": []
   },
   "outputs": [],
   "source": []
  },
  {
   "cell_type": "code",
   "execution_count": 66,
   "metadata": {},
   "outputs": [
    {
     "output_type": "execute_result",
     "data": {
      "text/plain": "                 BLOCK                                           geometry\n10013  480291909021000  POLYGON ((-98.49159 29.51970, -98.49162 29.519...\n10019  480291909021000  POLYGON ((-98.49131 29.51958, -98.49135 29.518...\n10029  480291909021000  POLYGON ((-98.49148 29.51945, -98.49151 29.518...\n10043  480291909021000  POLYGON ((-98.49145 29.51976, -98.49148 29.519...\n10059  480291909021000  POLYGON ((-98.49155 29.51936, -98.49158 29.518...",
      "text/html": "<div>\n<style scoped>\n    .dataframe tbody tr th:only-of-type {\n        vertical-align: middle;\n    }\n\n    .dataframe tbody tr th {\n        vertical-align: top;\n    }\n\n    .dataframe thead th {\n        text-align: right;\n    }\n</style>\n<table border=\"1\" class=\"dataframe\">\n  <thead>\n    <tr style=\"text-align: right;\">\n      <th></th>\n      <th>BLOCK</th>\n      <th>geometry</th>\n    </tr>\n  </thead>\n  <tbody>\n    <tr>\n      <th>10013</th>\n      <td>480291909021000</td>\n      <td>POLYGON ((-98.49159 29.51970, -98.49162 29.519...</td>\n    </tr>\n    <tr>\n      <th>10019</th>\n      <td>480291909021000</td>\n      <td>POLYGON ((-98.49131 29.51958, -98.49135 29.518...</td>\n    </tr>\n    <tr>\n      <th>10029</th>\n      <td>480291909021000</td>\n      <td>POLYGON ((-98.49148 29.51945, -98.49151 29.518...</td>\n    </tr>\n    <tr>\n      <th>10043</th>\n      <td>480291909021000</td>\n      <td>POLYGON ((-98.49145 29.51976, -98.49148 29.519...</td>\n    </tr>\n    <tr>\n      <th>10059</th>\n      <td>480291909021000</td>\n      <td>POLYGON ((-98.49155 29.51936, -98.49158 29.518...</td>\n    </tr>\n  </tbody>\n</table>\n</div>"
     },
     "metadata": {},
     "execution_count": 66
    }
   ],
   "source": [
    "gdf_stops_blocks[['BLOCK','geometry']].head()"
   ]
  },
  {
   "cell_type": "code",
   "execution_count": 66,
   "metadata": {},
   "outputs": [],
   "source": [
    "\n"
   ]
  },
  {
   "cell_type": "code",
   "execution_count": null,
   "metadata": {},
   "outputs": [],
   "source": []
  },
  {
   "cell_type": "code",
   "execution_count": null,
   "metadata": {},
   "outputs": [],
   "source": []
  },
  {
   "cell_type": "code",
   "execution_count": null,
   "metadata": {},
   "outputs": [],
   "source": []
  },
  {
   "cell_type": "code",
   "execution_count": null,
   "metadata": {},
   "outputs": [],
   "source": []
  },
  {
   "cell_type": "code",
   "execution_count": null,
   "metadata": {},
   "outputs": [],
   "source": []
  },
  {
   "cell_type": "code",
   "execution_count": null,
   "metadata": {},
   "outputs": [],
   "source": []
  },
  {
   "cell_type": "code",
   "execution_count": null,
   "metadata": {},
   "outputs": [],
   "source": []
  },
  {
   "cell_type": "code",
   "execution_count": null,
   "metadata": {},
   "outputs": [],
   "source": []
  },
  {
   "cell_type": "code",
   "execution_count": null,
   "metadata": {},
   "outputs": [],
   "source": []
  },
  {
   "cell_type": "code",
   "execution_count": null,
   "metadata": {},
   "outputs": [],
   "source": []
  },
  {
   "cell_type": "code",
   "execution_count": null,
   "metadata": {},
   "outputs": [],
   "source": []
  },
  {
   "cell_type": "code",
   "execution_count": null,
   "metadata": {},
   "outputs": [],
   "source": []
  },
  {
   "cell_type": "code",
   "execution_count": null,
   "metadata": {},
   "outputs": [],
   "source": []
  },
  {
   "cell_type": "code",
   "execution_count": null,
   "metadata": {},
   "outputs": [],
   "source": []
  },
  {
   "cell_type": "code",
   "execution_count": null,
   "metadata": {},
   "outputs": [],
   "source": []
  },
  {
   "cell_type": "code",
   "execution_count": null,
   "metadata": {},
   "outputs": [],
   "source": []
  },
  {
   "cell_type": "code",
   "execution_count": null,
   "metadata": {},
   "outputs": [],
   "source": []
  },
  {
   "cell_type": "code",
   "execution_count": null,
   "metadata": {},
   "outputs": [],
   "source": []
  },
  {
   "cell_type": "code",
   "execution_count": 67,
   "metadata": {},
   "outputs": [],
   "source": [
    "#######################################\n",
    "###\n",
    "### via datathon 2020\n",
    "###\n",
    "### on time performance\n",
    "###\n",
    "#######################################"
   ]
  },
  {
   "cell_type": "code",
   "execution_count": 68,
   "metadata": {
    "tags": []
   },
   "outputs": [
    {
     "output_type": "stream",
     "name": "stdout",
     "text": "<class 'pandas.core.frame.DataFrame'>\nRangeIndex: 107319 entries, 0 to 107318\nData columns (total 10 columns):\n #   Column            Non-Null Count   Dtype  \n---  ------            --------------   -----  \n 0   ServiceDateTime   107319 non-null  object \n 1   Route             107319 non-null  int64  \n 2   RouteName         107319 non-null  object \n 3   EarlyDeparture    107319 non-null  int64  \n 4   OnTime            107319 non-null  int64  \n 5   LateArrival       107319 non-null  int64  \n 6   Missing           107319 non-null  int64  \n 7   TimePointCount    107319 non-null  int64  \n 8   OTP               107156 non-null  float64\n 9   AverageDwellTime  107155 non-null  float64\ndtypes: float64(2), int64(6), object(2)\nmemory usage: 8.2+ MB\n"
    }
   ],
   "source": [
    "df_otp = pd.read_csv(files['bus_otp_2020'])\n",
    "df_otp.info()"
   ]
  },
  {
   "cell_type": "code",
   "execution_count": 69,
   "metadata": {},
   "outputs": [
    {
     "output_type": "execute_result",
     "data": {
      "text/plain": "Index(['ServiceDateTime', 'Route', 'RouteName', 'EarlyDeparture', 'OnTime',\n       'LateArrival', 'Missing', 'TimePointCount', 'OTP', 'AverageDwellTime'],\n      dtype='object')"
     },
     "metadata": {},
     "execution_count": 69
    }
   ],
   "source": [
    "df_otp.columns"
   ]
  },
  {
   "cell_type": "code",
   "execution_count": 70,
   "metadata": {},
   "outputs": [
    {
     "output_type": "execute_result",
     "data": {
      "text/plain": "  ServiceDateTime  Route           RouteName  EarlyDeparture  OnTime  \\\n0         2/12/18      2              BLANCO              83     626   \n1         2/12/18      3      SAN PEDRO SKIP               5     518   \n2         2/12/18      4  SAN PEDRO Frequent              21     454   \n3         2/12/18      5          McCULLOUGH               7     403   \n4         2/12/18      6      US-281 Express               1      54   \n\n   LateArrival  Missing  TimePointCount    OTP  AverageDwellTime  \n0           87       82             796  78.64            103.97  \n1           78       11             601  86.19            167.29  \n2          109      130             584  77.74             78.31  \n3           30       10             440  91.59            211.44  \n4           22       11              77  70.13            163.19  ",
      "text/html": "<div>\n<style scoped>\n    .dataframe tbody tr th:only-of-type {\n        vertical-align: middle;\n    }\n\n    .dataframe tbody tr th {\n        vertical-align: top;\n    }\n\n    .dataframe thead th {\n        text-align: right;\n    }\n</style>\n<table border=\"1\" class=\"dataframe\">\n  <thead>\n    <tr style=\"text-align: right;\">\n      <th></th>\n      <th>ServiceDateTime</th>\n      <th>Route</th>\n      <th>RouteName</th>\n      <th>EarlyDeparture</th>\n      <th>OnTime</th>\n      <th>LateArrival</th>\n      <th>Missing</th>\n      <th>TimePointCount</th>\n      <th>OTP</th>\n      <th>AverageDwellTime</th>\n    </tr>\n  </thead>\n  <tbody>\n    <tr>\n      <th>0</th>\n      <td>2/12/18</td>\n      <td>2</td>\n      <td>BLANCO</td>\n      <td>83</td>\n      <td>626</td>\n      <td>87</td>\n      <td>82</td>\n      <td>796</td>\n      <td>78.64</td>\n      <td>103.97</td>\n    </tr>\n    <tr>\n      <th>1</th>\n      <td>2/12/18</td>\n      <td>3</td>\n      <td>SAN PEDRO SKIP</td>\n      <td>5</td>\n      <td>518</td>\n      <td>78</td>\n      <td>11</td>\n      <td>601</td>\n      <td>86.19</td>\n      <td>167.29</td>\n    </tr>\n    <tr>\n      <th>2</th>\n      <td>2/12/18</td>\n      <td>4</td>\n      <td>SAN PEDRO Frequent</td>\n      <td>21</td>\n      <td>454</td>\n      <td>109</td>\n      <td>130</td>\n      <td>584</td>\n      <td>77.74</td>\n      <td>78.31</td>\n    </tr>\n    <tr>\n      <th>3</th>\n      <td>2/12/18</td>\n      <td>5</td>\n      <td>McCULLOUGH</td>\n      <td>7</td>\n      <td>403</td>\n      <td>30</td>\n      <td>10</td>\n      <td>440</td>\n      <td>91.59</td>\n      <td>211.44</td>\n    </tr>\n    <tr>\n      <th>4</th>\n      <td>2/12/18</td>\n      <td>6</td>\n      <td>US-281 Express</td>\n      <td>1</td>\n      <td>54</td>\n      <td>22</td>\n      <td>11</td>\n      <td>77</td>\n      <td>70.13</td>\n      <td>163.19</td>\n    </tr>\n  </tbody>\n</table>\n</div>"
     },
     "metadata": {},
     "execution_count": 70
    }
   ],
   "source": [
    "df_otp.head()"
   ]
  },
  {
   "cell_type": "code",
   "execution_count": null,
   "metadata": {},
   "outputs": [],
   "source": []
  },
  {
   "cell_type": "code",
   "execution_count": 71,
   "metadata": {},
   "outputs": [],
   "source": [
    "#######################################\n",
    "###\n",
    "### via datathon 2020\n",
    "###\n",
    "### fare box activity\n",
    "###\n",
    "#######################################"
   ]
  },
  {
   "cell_type": "code",
   "execution_count": 72,
   "metadata": {
    "tags": []
   },
   "outputs": [
    {
     "output_type": "stream",
     "name": "stdout",
     "text": "<class 'pandas.core.frame.DataFrame'>\nInt64Index: 89623 entries, 0 to 89622\nData columns (total 11 columns):\n #   Column               Non-Null Count  Dtype  \n---  ------               --------------  -----  \n 0   ServiceDateTime      89623 non-null  object \n 1   Route                89623 non-null  int64  \n 2   RouteName            87728 non-null  object \n 3   CurrentRevenue       89623 non-null  float64\n 4   Ridership            89623 non-null  int64  \n 5   TokenCount           89623 non-null  int64  \n 6   TicketCount          89623 non-null  int64  \n 7   PassCount            89623 non-null  int64  \n 8   BillCount            89623 non-null  int64  \n 9   UnclassifiedRevenue  89623 non-null  float64\n 10  DumpCount            89623 non-null  int64  \ndtypes: float64(2), int64(7), object(2)\nmemory usage: 8.2+ MB\n"
    }
   ],
   "source": [
    "df_fare = pd.read_csv(files['bus_fare_box_2020'], index_col=0)\n",
    "df_fare.info()"
   ]
  },
  {
   "cell_type": "code",
   "execution_count": 73,
   "metadata": {},
   "outputs": [
    {
     "output_type": "execute_result",
     "data": {
      "text/plain": "Index(['ServiceDateTime', 'Route', 'RouteName', 'CurrentRevenue', 'Ridership',\n       'TokenCount', 'TicketCount', 'PassCount', 'BillCount',\n       'UnclassifiedRevenue', 'DumpCount'],\n      dtype='object')"
     },
     "metadata": {},
     "execution_count": 73
    }
   ],
   "source": [
    "df_fare.columns"
   ]
  },
  {
   "cell_type": "code",
   "execution_count": 74,
   "metadata": {},
   "outputs": [
    {
     "output_type": "execute_result",
     "data": {
      "text/plain": "  ServiceDateTime  Route      RouteName  CurrentRevenue  Ridership  \\\n0      2017-01-01      2   2-BLANCO RD.          510.82       1244   \n1      2017-01-01      3    3-SAN PEDRO          203.93        689   \n2      2017-01-01      4    4-SAN PEDRO          356.58       1377   \n3      2017-01-01      5  5-MC CULLOUGH          224.80        474   \n4      2017-01-01      8   8-N.ST.MARYS          252.29        471   \n\n   TokenCount  TicketCount  PassCount  BillCount  UnclassifiedRevenue  \\\n0           0            0        588        312                20.88   \n1           0            0        371        119                 9.55   \n2           0            0        671        230                20.44   \n3           0            0        239        124                19.50   \n4           0            0        214        147                 6.45   \n\n   DumpCount  \n0        116  \n1         49  \n2         94  \n3         64  \n4         53  ",
      "text/html": "<div>\n<style scoped>\n    .dataframe tbody tr th:only-of-type {\n        vertical-align: middle;\n    }\n\n    .dataframe tbody tr th {\n        vertical-align: top;\n    }\n\n    .dataframe thead th {\n        text-align: right;\n    }\n</style>\n<table border=\"1\" class=\"dataframe\">\n  <thead>\n    <tr style=\"text-align: right;\">\n      <th></th>\n      <th>ServiceDateTime</th>\n      <th>Route</th>\n      <th>RouteName</th>\n      <th>CurrentRevenue</th>\n      <th>Ridership</th>\n      <th>TokenCount</th>\n      <th>TicketCount</th>\n      <th>PassCount</th>\n      <th>BillCount</th>\n      <th>UnclassifiedRevenue</th>\n      <th>DumpCount</th>\n    </tr>\n  </thead>\n  <tbody>\n    <tr>\n      <th>0</th>\n      <td>2017-01-01</td>\n      <td>2</td>\n      <td>2-BLANCO RD.</td>\n      <td>510.82</td>\n      <td>1244</td>\n      <td>0</td>\n      <td>0</td>\n      <td>588</td>\n      <td>312</td>\n      <td>20.88</td>\n      <td>116</td>\n    </tr>\n    <tr>\n      <th>1</th>\n      <td>2017-01-01</td>\n      <td>3</td>\n      <td>3-SAN PEDRO</td>\n      <td>203.93</td>\n      <td>689</td>\n      <td>0</td>\n      <td>0</td>\n      <td>371</td>\n      <td>119</td>\n      <td>9.55</td>\n      <td>49</td>\n    </tr>\n    <tr>\n      <th>2</th>\n      <td>2017-01-01</td>\n      <td>4</td>\n      <td>4-SAN PEDRO</td>\n      <td>356.58</td>\n      <td>1377</td>\n      <td>0</td>\n      <td>0</td>\n      <td>671</td>\n      <td>230</td>\n      <td>20.44</td>\n      <td>94</td>\n    </tr>\n    <tr>\n      <th>3</th>\n      <td>2017-01-01</td>\n      <td>5</td>\n      <td>5-MC CULLOUGH</td>\n      <td>224.80</td>\n      <td>474</td>\n      <td>0</td>\n      <td>0</td>\n      <td>239</td>\n      <td>124</td>\n      <td>19.50</td>\n      <td>64</td>\n    </tr>\n    <tr>\n      <th>4</th>\n      <td>2017-01-01</td>\n      <td>8</td>\n      <td>8-N.ST.MARYS</td>\n      <td>252.29</td>\n      <td>471</td>\n      <td>0</td>\n      <td>0</td>\n      <td>214</td>\n      <td>147</td>\n      <td>6.45</td>\n      <td>53</td>\n    </tr>\n  </tbody>\n</table>\n</div>"
     },
     "metadata": {},
     "execution_count": 74
    }
   ],
   "source": [
    "df_fare.head()"
   ]
  },
  {
   "cell_type": "code",
   "execution_count": 75,
   "metadata": {},
   "outputs": [],
   "source": [
    "#######################################\n",
    "###\n",
    "### via datathon 2020\n",
    "###\n",
    "### message logs\n",
    "###\n",
    "#######################################"
   ]
  },
  {
   "cell_type": "code",
   "execution_count": 76,
   "metadata": {
    "tags": []
   },
   "outputs": [
    {
     "output_type": "stream",
     "name": "stdout",
     "text": "<class 'pandas.core.frame.DataFrame'>\nRangeIndex: 155517 entries, 0 to 155516\nData columns (total 10 columns):\n #   Column             Non-Null Count   Dtype  \n---  ------             --------------   -----  \n 0   dDate              155517 non-null  object \n 1   Local_Timestamp    155517 non-null  object \n 2   Latitude           155517 non-null  float64\n 3   Longitude          155517 non-null  float64\n 4   MESSAGE_TYPE_TEXT  155517 non-null  object \n 5   ADHERENCE          155517 non-null  int64  \n 6   Odometer           155517 non-null  float64\n 7   VehicleNumber      155517 non-null  object \n 8   degLat             0 non-null       float64\n 9   degLong            0 non-null       float64\ndtypes: float64(5), int64(1), object(4)\nmemory usage: 11.9+ MB\n"
    }
   ],
   "source": [
    "df_logs = pd.read_csv(files['message_logs_2020'])\n",
    "df_logs.info()"
   ]
  },
  {
   "cell_type": "code",
   "execution_count": 77,
   "metadata": {},
   "outputs": [
    {
     "output_type": "execute_result",
     "data": {
      "text/plain": "Index(['dDate', 'Local_Timestamp', 'Latitude', 'Longitude',\n       'MESSAGE_TYPE_TEXT', 'ADHERENCE', 'Odometer', 'VehicleNumber', 'degLat',\n       'degLong'],\n      dtype='object')"
     },
     "metadata": {},
     "execution_count": 77
    }
   ],
   "source": [
    "df_logs.columns"
   ]
  },
  {
   "cell_type": "code",
   "execution_count": 78,
   "metadata": {},
   "outputs": [
    {
     "output_type": "execute_result",
     "data": {
      "text/plain": "       dDate  Local_Timestamp  Latitude  Longitude MESSAGE_TYPE_TEXT  \\\n0  2/14/2020  2/14/20 6:56 AM  29.44451  -98.50143  vehicle location   \n1  2/14/2020  2/14/20 6:56 AM  29.44452  -98.50142  vehicle location   \n2  2/14/2020  2/14/20 6:57 AM  29.44452  -98.50142  vehicle location   \n3  2/14/2020  2/14/20 6:57 AM  29.44452  -98.50142  vehicle location   \n4  2/14/2020  2/14/20 6:58 AM  29.44452  -98.50142  vehicle location   \n\n   ADHERENCE  Odometer VehicleNumber  degLat  degLong  \n0          0       0.0           102     NaN      NaN  \n1          0       0.0           102     NaN      NaN  \n2          0       0.0           102     NaN      NaN  \n3          0       0.0           102     NaN      NaN  \n4          0       0.0           102     NaN      NaN  ",
      "text/html": "<div>\n<style scoped>\n    .dataframe tbody tr th:only-of-type {\n        vertical-align: middle;\n    }\n\n    .dataframe tbody tr th {\n        vertical-align: top;\n    }\n\n    .dataframe thead th {\n        text-align: right;\n    }\n</style>\n<table border=\"1\" class=\"dataframe\">\n  <thead>\n    <tr style=\"text-align: right;\">\n      <th></th>\n      <th>dDate</th>\n      <th>Local_Timestamp</th>\n      <th>Latitude</th>\n      <th>Longitude</th>\n      <th>MESSAGE_TYPE_TEXT</th>\n      <th>ADHERENCE</th>\n      <th>Odometer</th>\n      <th>VehicleNumber</th>\n      <th>degLat</th>\n      <th>degLong</th>\n    </tr>\n  </thead>\n  <tbody>\n    <tr>\n      <th>0</th>\n      <td>2/14/2020</td>\n      <td>2/14/20 6:56 AM</td>\n      <td>29.44451</td>\n      <td>-98.50143</td>\n      <td>vehicle location</td>\n      <td>0</td>\n      <td>0.0</td>\n      <td>102</td>\n      <td>NaN</td>\n      <td>NaN</td>\n    </tr>\n    <tr>\n      <th>1</th>\n      <td>2/14/2020</td>\n      <td>2/14/20 6:56 AM</td>\n      <td>29.44452</td>\n      <td>-98.50142</td>\n      <td>vehicle location</td>\n      <td>0</td>\n      <td>0.0</td>\n      <td>102</td>\n      <td>NaN</td>\n      <td>NaN</td>\n    </tr>\n    <tr>\n      <th>2</th>\n      <td>2/14/2020</td>\n      <td>2/14/20 6:57 AM</td>\n      <td>29.44452</td>\n      <td>-98.50142</td>\n      <td>vehicle location</td>\n      <td>0</td>\n      <td>0.0</td>\n      <td>102</td>\n      <td>NaN</td>\n      <td>NaN</td>\n    </tr>\n    <tr>\n      <th>3</th>\n      <td>2/14/2020</td>\n      <td>2/14/20 6:57 AM</td>\n      <td>29.44452</td>\n      <td>-98.50142</td>\n      <td>vehicle location</td>\n      <td>0</td>\n      <td>0.0</td>\n      <td>102</td>\n      <td>NaN</td>\n      <td>NaN</td>\n    </tr>\n    <tr>\n      <th>4</th>\n      <td>2/14/2020</td>\n      <td>2/14/20 6:58 AM</td>\n      <td>29.44452</td>\n      <td>-98.50142</td>\n      <td>vehicle location</td>\n      <td>0</td>\n      <td>0.0</td>\n      <td>102</td>\n      <td>NaN</td>\n      <td>NaN</td>\n    </tr>\n  </tbody>\n</table>\n</div>"
     },
     "metadata": {},
     "execution_count": 78
    }
   ],
   "source": [
    "df_logs.head(5)\n"
   ]
  },
  {
   "cell_type": "code",
   "execution_count": 79,
   "metadata": {},
   "outputs": [
    {
     "output_type": "execute_result",
     "data": {
      "text/plain": "vehicle location     155152\nReturn to Network       365\nName: MESSAGE_TYPE_TEXT, dtype: int64"
     },
     "metadata": {},
     "execution_count": 79
    }
   ],
   "source": [
    "df_logs.MESSAGE_TYPE_TEXT.value_counts()"
   ]
  },
  {
   "cell_type": "code",
   "execution_count": 80,
   "metadata": {},
   "outputs": [
    {
     "output_type": "execute_result",
     "data": {
      "text/plain": "count       82.000000\nmean      1896.548780\nstd       9608.117182\nmin          1.000000\n25%         16.000000\n50%         59.500000\n75%        269.250000\nmax      85096.000000\nName: ADHERENCE, dtype: float64"
     },
     "metadata": {},
     "execution_count": 80
    }
   ],
   "source": [
    "df_logs.ADHERENCE.value_counts().describe()"
   ]
  },
  {
   "cell_type": "code",
   "execution_count": 81,
   "metadata": {
    "tags": []
   },
   "outputs": [
    {
     "output_type": "stream",
     "name": "stdout",
     "text": "704\n"
    },
    {
     "output_type": "execute_result",
     "data": {
      "text/plain": "PD-29     1324\n717        859\nPD-22      689\nPD-23      626\nT-189      602\nT-188      566\nT-116      511\nT-151      476\nT-132      460\n491        440\nC-117      406\nT-100      405\nT-166      394\n982        390\nT-195      385\nT-120      382\n952        371\n970        371\n953        355\nM-2121     351\nName: VehicleNumber, dtype: int64"
     },
     "metadata": {},
     "execution_count": 81
    }
   ],
   "source": [
    "vehicle_ids = df_logs.VehicleNumber.value_counts()\n",
    "print(len(vehicle_ids))\n",
    "vehicle_ids.head(20)"
   ]
  },
  {
   "cell_type": "code",
   "execution_count": 82,
   "metadata": {},
   "outputs": [
    {
     "output_type": "execute_result",
     "data": {
      "text/plain": "           dDate  Local_Timestamp  Latitude  Longitude MESSAGE_TYPE_TEXT  \\\n28851  2/14/2020  2/14/20 6:00 AM  29.45275  -98.51462  vehicle location   \n28852  2/14/2020  2/14/20 6:00 AM  29.45083  -98.51278  vehicle location   \n28853  2/14/2020  2/14/20 6:01 AM  29.44892  -98.51093  vehicle location   \n28854  2/14/2020  2/14/20 6:02 AM  29.44463  -98.50669  vehicle location   \n28855  2/14/2020  2/14/20 6:03 AM  29.44217  -98.50430  vehicle location   \n28856  2/14/2020  2/14/20 6:04 AM  29.44123  -98.50230  vehicle location   \n28857  2/14/2020  2/14/20 6:05 AM  29.43960  -98.49864  vehicle location   \n28858  2/14/2020  2/14/20 6:06 AM  29.43702  -98.49696  vehicle location   \n28859  2/14/2020  2/14/20 6:06 AM  29.43506  -98.49544  vehicle location   \n28860  2/14/2020  2/14/20 6:07 AM  29.43287  -98.49320  vehicle location   \n28861  2/14/2020  2/14/20 6:08 AM  29.43244  -98.49192  vehicle location   \n28862  2/14/2020  2/14/20 6:08 AM  29.43164  -98.49107  vehicle location   \n28863  2/14/2020  2/14/20 6:10 AM  29.42951  -98.49138  vehicle location   \n28864  2/14/2020  2/14/20 6:10 AM  29.42873  -98.49140  vehicle location   \n28865  2/14/2020  2/14/20 6:11 AM  29.42870  -98.49143  vehicle location   \n28866  2/14/2020  2/14/20 6:11 AM  29.42767  -98.49132  vehicle location   \n28867  2/14/2020  2/14/20 6:12 AM  29.42641  -98.49131  vehicle location   \n28868  2/14/2020  2/14/20 6:12 AM  29.42468  -98.49133  vehicle location   \n28869  2/14/2020  2/14/20 6:13 AM  29.42463  -98.49148  vehicle location   \n28870  2/14/2020  2/14/20 6:14 AM  29.42398  -98.49177  vehicle location   \n\n       ADHERENCE  Odometer VehicleNumber  degLat  degLong  \n28851         -1     24.28           450     NaN      NaN  \n28852         -1     24.45           450     NaN      NaN  \n28853         -1     24.63           450     NaN      NaN  \n28854         -1     25.01           450     NaN      NaN  \n28855         -1     25.23           450     NaN      NaN  \n28856         -1     25.37           450     NaN      NaN  \n28857         -1     25.66           450     NaN      NaN  \n28858         -1     25.86           450     NaN      NaN  \n28859          0     26.03           450     NaN      NaN  \n28860          0     26.23           450     NaN      NaN  \n28861          0     26.31           450     NaN      NaN  \n28862          0     26.38           450     NaN      NaN  \n28863          0     26.54           450     NaN      NaN  \n28864         -1     26.59           450     NaN      NaN  \n28865         -1     26.59           450     NaN      NaN  \n28866         -1     26.66           450     NaN      NaN  \n28867         -1     26.75           450     NaN      NaN  \n28868         -1     26.87           450     NaN      NaN  \n28869         -2     26.88           450     NaN      NaN  \n28870         -2     26.93           450     NaN      NaN  ",
      "text/html": "<div>\n<style scoped>\n    .dataframe tbody tr th:only-of-type {\n        vertical-align: middle;\n    }\n\n    .dataframe tbody tr th {\n        vertical-align: top;\n    }\n\n    .dataframe thead th {\n        text-align: right;\n    }\n</style>\n<table border=\"1\" class=\"dataframe\">\n  <thead>\n    <tr style=\"text-align: right;\">\n      <th></th>\n      <th>dDate</th>\n      <th>Local_Timestamp</th>\n      <th>Latitude</th>\n      <th>Longitude</th>\n      <th>MESSAGE_TYPE_TEXT</th>\n      <th>ADHERENCE</th>\n      <th>Odometer</th>\n      <th>VehicleNumber</th>\n      <th>degLat</th>\n      <th>degLong</th>\n    </tr>\n  </thead>\n  <tbody>\n    <tr>\n      <th>28851</th>\n      <td>2/14/2020</td>\n      <td>2/14/20 6:00 AM</td>\n      <td>29.45275</td>\n      <td>-98.51462</td>\n      <td>vehicle location</td>\n      <td>-1</td>\n      <td>24.28</td>\n      <td>450</td>\n      <td>NaN</td>\n      <td>NaN</td>\n    </tr>\n    <tr>\n      <th>28852</th>\n      <td>2/14/2020</td>\n      <td>2/14/20 6:00 AM</td>\n      <td>29.45083</td>\n      <td>-98.51278</td>\n      <td>vehicle location</td>\n      <td>-1</td>\n      <td>24.45</td>\n      <td>450</td>\n      <td>NaN</td>\n      <td>NaN</td>\n    </tr>\n    <tr>\n      <th>28853</th>\n      <td>2/14/2020</td>\n      <td>2/14/20 6:01 AM</td>\n      <td>29.44892</td>\n      <td>-98.51093</td>\n      <td>vehicle location</td>\n      <td>-1</td>\n      <td>24.63</td>\n      <td>450</td>\n      <td>NaN</td>\n      <td>NaN</td>\n    </tr>\n    <tr>\n      <th>28854</th>\n      <td>2/14/2020</td>\n      <td>2/14/20 6:02 AM</td>\n      <td>29.44463</td>\n      <td>-98.50669</td>\n      <td>vehicle location</td>\n      <td>-1</td>\n      <td>25.01</td>\n      <td>450</td>\n      <td>NaN</td>\n      <td>NaN</td>\n    </tr>\n    <tr>\n      <th>28855</th>\n      <td>2/14/2020</td>\n      <td>2/14/20 6:03 AM</td>\n      <td>29.44217</td>\n      <td>-98.50430</td>\n      <td>vehicle location</td>\n      <td>-1</td>\n      <td>25.23</td>\n      <td>450</td>\n      <td>NaN</td>\n      <td>NaN</td>\n    </tr>\n    <tr>\n      <th>28856</th>\n      <td>2/14/2020</td>\n      <td>2/14/20 6:04 AM</td>\n      <td>29.44123</td>\n      <td>-98.50230</td>\n      <td>vehicle location</td>\n      <td>-1</td>\n      <td>25.37</td>\n      <td>450</td>\n      <td>NaN</td>\n      <td>NaN</td>\n    </tr>\n    <tr>\n      <th>28857</th>\n      <td>2/14/2020</td>\n      <td>2/14/20 6:05 AM</td>\n      <td>29.43960</td>\n      <td>-98.49864</td>\n      <td>vehicle location</td>\n      <td>-1</td>\n      <td>25.66</td>\n      <td>450</td>\n      <td>NaN</td>\n      <td>NaN</td>\n    </tr>\n    <tr>\n      <th>28858</th>\n      <td>2/14/2020</td>\n      <td>2/14/20 6:06 AM</td>\n      <td>29.43702</td>\n      <td>-98.49696</td>\n      <td>vehicle location</td>\n      <td>-1</td>\n      <td>25.86</td>\n      <td>450</td>\n      <td>NaN</td>\n      <td>NaN</td>\n    </tr>\n    <tr>\n      <th>28859</th>\n      <td>2/14/2020</td>\n      <td>2/14/20 6:06 AM</td>\n      <td>29.43506</td>\n      <td>-98.49544</td>\n      <td>vehicle location</td>\n      <td>0</td>\n      <td>26.03</td>\n      <td>450</td>\n      <td>NaN</td>\n      <td>NaN</td>\n    </tr>\n    <tr>\n      <th>28860</th>\n      <td>2/14/2020</td>\n      <td>2/14/20 6:07 AM</td>\n      <td>29.43287</td>\n      <td>-98.49320</td>\n      <td>vehicle location</td>\n      <td>0</td>\n      <td>26.23</td>\n      <td>450</td>\n      <td>NaN</td>\n      <td>NaN</td>\n    </tr>\n    <tr>\n      <th>28861</th>\n      <td>2/14/2020</td>\n      <td>2/14/20 6:08 AM</td>\n      <td>29.43244</td>\n      <td>-98.49192</td>\n      <td>vehicle location</td>\n      <td>0</td>\n      <td>26.31</td>\n      <td>450</td>\n      <td>NaN</td>\n      <td>NaN</td>\n    </tr>\n    <tr>\n      <th>28862</th>\n      <td>2/14/2020</td>\n      <td>2/14/20 6:08 AM</td>\n      <td>29.43164</td>\n      <td>-98.49107</td>\n      <td>vehicle location</td>\n      <td>0</td>\n      <td>26.38</td>\n      <td>450</td>\n      <td>NaN</td>\n      <td>NaN</td>\n    </tr>\n    <tr>\n      <th>28863</th>\n      <td>2/14/2020</td>\n      <td>2/14/20 6:10 AM</td>\n      <td>29.42951</td>\n      <td>-98.49138</td>\n      <td>vehicle location</td>\n      <td>0</td>\n      <td>26.54</td>\n      <td>450</td>\n      <td>NaN</td>\n      <td>NaN</td>\n    </tr>\n    <tr>\n      <th>28864</th>\n      <td>2/14/2020</td>\n      <td>2/14/20 6:10 AM</td>\n      <td>29.42873</td>\n      <td>-98.49140</td>\n      <td>vehicle location</td>\n      <td>-1</td>\n      <td>26.59</td>\n      <td>450</td>\n      <td>NaN</td>\n      <td>NaN</td>\n    </tr>\n    <tr>\n      <th>28865</th>\n      <td>2/14/2020</td>\n      <td>2/14/20 6:11 AM</td>\n      <td>29.42870</td>\n      <td>-98.49143</td>\n      <td>vehicle location</td>\n      <td>-1</td>\n      <td>26.59</td>\n      <td>450</td>\n      <td>NaN</td>\n      <td>NaN</td>\n    </tr>\n    <tr>\n      <th>28866</th>\n      <td>2/14/2020</td>\n      <td>2/14/20 6:11 AM</td>\n      <td>29.42767</td>\n      <td>-98.49132</td>\n      <td>vehicle location</td>\n      <td>-1</td>\n      <td>26.66</td>\n      <td>450</td>\n      <td>NaN</td>\n      <td>NaN</td>\n    </tr>\n    <tr>\n      <th>28867</th>\n      <td>2/14/2020</td>\n      <td>2/14/20 6:12 AM</td>\n      <td>29.42641</td>\n      <td>-98.49131</td>\n      <td>vehicle location</td>\n      <td>-1</td>\n      <td>26.75</td>\n      <td>450</td>\n      <td>NaN</td>\n      <td>NaN</td>\n    </tr>\n    <tr>\n      <th>28868</th>\n      <td>2/14/2020</td>\n      <td>2/14/20 6:12 AM</td>\n      <td>29.42468</td>\n      <td>-98.49133</td>\n      <td>vehicle location</td>\n      <td>-1</td>\n      <td>26.87</td>\n      <td>450</td>\n      <td>NaN</td>\n      <td>NaN</td>\n    </tr>\n    <tr>\n      <th>28869</th>\n      <td>2/14/2020</td>\n      <td>2/14/20 6:13 AM</td>\n      <td>29.42463</td>\n      <td>-98.49148</td>\n      <td>vehicle location</td>\n      <td>-2</td>\n      <td>26.88</td>\n      <td>450</td>\n      <td>NaN</td>\n      <td>NaN</td>\n    </tr>\n    <tr>\n      <th>28870</th>\n      <td>2/14/2020</td>\n      <td>2/14/20 6:14 AM</td>\n      <td>29.42398</td>\n      <td>-98.49177</td>\n      <td>vehicle location</td>\n      <td>-2</td>\n      <td>26.93</td>\n      <td>450</td>\n      <td>NaN</td>\n      <td>NaN</td>\n    </tr>\n  </tbody>\n</table>\n</div>"
     },
     "metadata": {},
     "execution_count": 82
    }
   ],
   "source": [
    "df_logs[df_logs.VehicleNumber==450].head(20)"
   ]
  },
  {
   "cell_type": "code",
   "execution_count": 83,
   "metadata": {},
   "outputs": [],
   "source": [
    "#######################################\n",
    "###\n",
    "### via datathon 2020\n",
    "###\n",
    "### service miles\n",
    "###\n",
    "#######################################"
   ]
  },
  {
   "cell_type": "code",
   "execution_count": 84,
   "metadata": {
    "tags": []
   },
   "outputs": [
    {
     "output_type": "stream",
     "name": "stdout",
     "text": "<class 'pandas.core.frame.DataFrame'>\nRangeIndex: 63622 entries, 0 to 63621\nData columns (total 10 columns):\n #   Column               Non-Null Count  Dtype  \n---  ------               --------------  -----  \n 0   Route                63622 non-null  int64  \n 1   RouteName            63622 non-null  object \n 2   Class                62115 non-null  object \n 3   ServiceType          63622 non-null  object \n 4   ScheduledMiles       63622 non-null  float64\n 5   AVLRevenueMiles      63622 non-null  float64\n 6   AVLDeadHeadMiles     63622 non-null  float64\n 7   AVLExemptMiles       63622 non-null  float64\n 8   AVLMilesAdjustments  63622 non-null  float64\n 9   ServiceDate          63622 non-null  object \ndtypes: float64(5), int64(1), object(4)\nmemory usage: 4.9+ MB\n"
    }
   ],
   "source": [
    "df_svc_miles = pd.read_csv(files['service_miles_2020'])\n",
    "df_svc_miles.info()"
   ]
  },
  {
   "cell_type": "code",
   "execution_count": 85,
   "metadata": {},
   "outputs": [
    {
     "output_type": "execute_result",
     "data": {
      "text/plain": "Index(['Route', 'RouteName', 'Class', 'ServiceType', 'ScheduledMiles',\n       'AVLRevenueMiles', 'AVLDeadHeadMiles', 'AVLExemptMiles',\n       'AVLMilesAdjustments', 'ServiceDate'],\n      dtype='object')"
     },
     "metadata": {},
     "execution_count": 85
    }
   ],
   "source": [
    "df_svc_miles.columns\n"
   ]
  },
  {
   "cell_type": "code",
   "execution_count": 86,
   "metadata": {},
   "outputs": [
    {
     "output_type": "execute_result",
     "data": {
      "text/plain": "   Route         RouteName          Class ServiceType  ScheduledMiles  \\\n0      2      2-BLANCO RD.   Major Radial      SUNDAY          924.35   \n1      3  3-SAN PEDRO SKIP  Major Limited      SUNDAY          707.88   \n2      4       4-SAN PEDRO   Major Radial      SUNDAY          731.48   \n3      5     5-MC CULLOUGH   Major Radial      SUNDAY          484.17   \n4      6  6-US 281 Express  Major Express      SUNDAY            0.00   \n\n   AVLRevenueMiles  AVLDeadHeadMiles  AVLExemptMiles  AVLMilesAdjustments  \\\n0           886.97             46.91             0.0                 26.0   \n1           683.66             19.57             0.0                  0.0   \n2           692.08             34.76             0.0                  0.0   \n3           457.37             22.12             0.0                  0.0   \n4             0.00              0.00             0.0                  0.0   \n\n  ServiceDate  \n0    1/1/2019  \n1    1/1/2019  \n2    1/1/2019  \n3    1/1/2019  \n4    1/1/2019  ",
      "text/html": "<div>\n<style scoped>\n    .dataframe tbody tr th:only-of-type {\n        vertical-align: middle;\n    }\n\n    .dataframe tbody tr th {\n        vertical-align: top;\n    }\n\n    .dataframe thead th {\n        text-align: right;\n    }\n</style>\n<table border=\"1\" class=\"dataframe\">\n  <thead>\n    <tr style=\"text-align: right;\">\n      <th></th>\n      <th>Route</th>\n      <th>RouteName</th>\n      <th>Class</th>\n      <th>ServiceType</th>\n      <th>ScheduledMiles</th>\n      <th>AVLRevenueMiles</th>\n      <th>AVLDeadHeadMiles</th>\n      <th>AVLExemptMiles</th>\n      <th>AVLMilesAdjustments</th>\n      <th>ServiceDate</th>\n    </tr>\n  </thead>\n  <tbody>\n    <tr>\n      <th>0</th>\n      <td>2</td>\n      <td>2-BLANCO RD.</td>\n      <td>Major Radial</td>\n      <td>SUNDAY</td>\n      <td>924.35</td>\n      <td>886.97</td>\n      <td>46.91</td>\n      <td>0.0</td>\n      <td>26.0</td>\n      <td>1/1/2019</td>\n    </tr>\n    <tr>\n      <th>1</th>\n      <td>3</td>\n      <td>3-SAN PEDRO SKIP</td>\n      <td>Major Limited</td>\n      <td>SUNDAY</td>\n      <td>707.88</td>\n      <td>683.66</td>\n      <td>19.57</td>\n      <td>0.0</td>\n      <td>0.0</td>\n      <td>1/1/2019</td>\n    </tr>\n    <tr>\n      <th>2</th>\n      <td>4</td>\n      <td>4-SAN PEDRO</td>\n      <td>Major Radial</td>\n      <td>SUNDAY</td>\n      <td>731.48</td>\n      <td>692.08</td>\n      <td>34.76</td>\n      <td>0.0</td>\n      <td>0.0</td>\n      <td>1/1/2019</td>\n    </tr>\n    <tr>\n      <th>3</th>\n      <td>5</td>\n      <td>5-MC CULLOUGH</td>\n      <td>Major Radial</td>\n      <td>SUNDAY</td>\n      <td>484.17</td>\n      <td>457.37</td>\n      <td>22.12</td>\n      <td>0.0</td>\n      <td>0.0</td>\n      <td>1/1/2019</td>\n    </tr>\n    <tr>\n      <th>4</th>\n      <td>6</td>\n      <td>6-US 281 Express</td>\n      <td>Major Express</td>\n      <td>SUNDAY</td>\n      <td>0.00</td>\n      <td>0.00</td>\n      <td>0.00</td>\n      <td>0.0</td>\n      <td>0.0</td>\n      <td>1/1/2019</td>\n    </tr>\n  </tbody>\n</table>\n</div>"
     },
     "metadata": {},
     "execution_count": 86
    }
   ],
   "source": [
    "df_svc_miles.head()"
   ]
  },
  {
   "cell_type": "code",
   "execution_count": null,
   "metadata": {},
   "outputs": [],
   "source": []
  },
  {
   "cell_type": "code",
   "execution_count": 87,
   "metadata": {},
   "outputs": [],
   "source": [
    "#######################################\n",
    "###\n",
    "### via datathon 2020\n",
    "###\n",
    "### stop addresses\n",
    "###\n",
    "#######################################"
   ]
  },
  {
   "cell_type": "code",
   "execution_count": 88,
   "metadata": {
    "tags": []
   },
   "outputs": [
    {
     "output_type": "stream",
     "name": "stdout",
     "text": "<class 'pandas.core.frame.DataFrame'>\nRangeIndex: 9859 entries, 0 to 9858\nData columns (total 7 columns):\n #   Column        Non-Null Count  Dtype  \n---  ------        --------------  -----  \n 0   StopNumber    9859 non-null   object \n 1   Location      9859 non-null   object \n 2   StreetNumber  9715 non-null   float64\n 3   Street        9854 non-null   object \n 4   City          9854 non-null   object \n 5   State         9854 non-null   object \n 6   Zip           9854 non-null   float64\ndtypes: float64(2), object(5)\nmemory usage: 539.3+ KB\n"
    }
   ],
   "source": [
    "df_stop_addrs = pd.read_csv(files['stops_addr_2020'])\n",
    "df_stop_addrs.info()"
   ]
  },
  {
   "cell_type": "code",
   "execution_count": 89,
   "metadata": {},
   "outputs": [
    {
     "output_type": "execute_result",
     "data": {
      "text/plain": "Index(['StopNumber', 'Location', 'StreetNumber', 'Street', 'City', 'State',\n       'Zip'],\n      dtype='object')"
     },
     "metadata": {},
     "execution_count": 89
    }
   ],
   "source": [
    "df_stop_addrs.columns"
   ]
  },
  {
   "cell_type": "code",
   "execution_count": 90,
   "metadata": {},
   "outputs": [
    {
     "output_type": "execute_result",
     "data": {
      "text/plain": "  StopNumber                             Location  StreetNumber  \\\n0      79877    ST. MARY'S BETWEEN CONVENT & MART         603.0   \n1      79977                   ST. MARY'S & PECAN         152.0   \n2      89377  ST. MARY'S BETWEEN TRAVIS & HOUSTON         175.0   \n3      89867                ST. MARY'S & COMMERCE         106.0   \n4      89839                   COMMERCE & SOLEDAD         102.0   \n\n           Street         City State      Zip  \n0  N St Mary's St  San Antonio    TX  78205.0  \n1      E Pecan St  San Antonio    TX  78205.0  \n2    E Houston St  San Antonio    TX  78205.0  \n3  S St Mary's St  San Antonio    TX  78205.0  \n4        Main Plz  San Antonio    TX  78205.0  ",
      "text/html": "<div>\n<style scoped>\n    .dataframe tbody tr th:only-of-type {\n        vertical-align: middle;\n    }\n\n    .dataframe tbody tr th {\n        vertical-align: top;\n    }\n\n    .dataframe thead th {\n        text-align: right;\n    }\n</style>\n<table border=\"1\" class=\"dataframe\">\n  <thead>\n    <tr style=\"text-align: right;\">\n      <th></th>\n      <th>StopNumber</th>\n      <th>Location</th>\n      <th>StreetNumber</th>\n      <th>Street</th>\n      <th>City</th>\n      <th>State</th>\n      <th>Zip</th>\n    </tr>\n  </thead>\n  <tbody>\n    <tr>\n      <th>0</th>\n      <td>79877</td>\n      <td>ST. MARY'S BETWEEN CONVENT &amp; MART</td>\n      <td>603.0</td>\n      <td>N St Mary's St</td>\n      <td>San Antonio</td>\n      <td>TX</td>\n      <td>78205.0</td>\n    </tr>\n    <tr>\n      <th>1</th>\n      <td>79977</td>\n      <td>ST. MARY'S &amp; PECAN</td>\n      <td>152.0</td>\n      <td>E Pecan St</td>\n      <td>San Antonio</td>\n      <td>TX</td>\n      <td>78205.0</td>\n    </tr>\n    <tr>\n      <th>2</th>\n      <td>89377</td>\n      <td>ST. MARY'S BETWEEN TRAVIS &amp; HOUSTON</td>\n      <td>175.0</td>\n      <td>E Houston St</td>\n      <td>San Antonio</td>\n      <td>TX</td>\n      <td>78205.0</td>\n    </tr>\n    <tr>\n      <th>3</th>\n      <td>89867</td>\n      <td>ST. MARY'S &amp; COMMERCE</td>\n      <td>106.0</td>\n      <td>S St Mary's St</td>\n      <td>San Antonio</td>\n      <td>TX</td>\n      <td>78205.0</td>\n    </tr>\n    <tr>\n      <th>4</th>\n      <td>89839</td>\n      <td>COMMERCE &amp; SOLEDAD</td>\n      <td>102.0</td>\n      <td>Main Plz</td>\n      <td>San Antonio</td>\n      <td>TX</td>\n      <td>78205.0</td>\n    </tr>\n  </tbody>\n</table>\n</div>"
     },
     "metadata": {},
     "execution_count": 90
    }
   ],
   "source": [
    "df_stop_addrs.head()"
   ]
  },
  {
   "cell_type": "code",
   "execution_count": null,
   "metadata": {},
   "outputs": [],
   "source": []
  }
 ],
 "metadata": {
  "kernelspec": {
   "display_name": "Python 3",
   "language": "python",
   "name": "python3"
  },
  "language_info": {
   "codemirror_mode": {
    "name": "ipython",
    "version": 3
   },
   "file_extension": ".py",
   "mimetype": "text/x-python",
   "name": "python",
   "nbconvert_exporter": "python",
   "pygments_lexer": "ipython3",
   "version": "3.7.7-final"
  }
 },
 "nbformat": 4,
 "nbformat_minor": 4
}